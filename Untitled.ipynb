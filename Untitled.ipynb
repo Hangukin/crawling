{
 "cells": [
  {
   "cell_type": "code",
   "execution_count": 10,
   "id": "c2ecaad1",
   "metadata": {},
   "outputs": [
    {
     "name": "stdout",
     "output_type": "stream",
     "text": [
      "원본코드의 결과:\n",
      "\n",
      "   neighbourhood_group    neighbourhood  size\n",
      "0               Bronx         Woodlawn    70\n",
      "1            Brooklyn  Windsor Terrace  3920\n",
      "2           Manhattan     West Village  2658\n",
      "3              Queens         Woodside   900\n",
      "4       Staten Island          Woodrow    48\n",
      "\n",
      "앞에서 size()를 건너뛰었을 때 결과:\n",
      "\n",
      "   neighbourhood_group        id    host_id    neighbourhood  latitude  \\\n",
      "0               Bronx  36442252  273877318         Woodlawn  40.91306   \n",
      "1            Brooklyn  36485057  274307600  Windsor Terrace  40.73890   \n",
      "2           Manhattan  36487245  274321313     West Village  40.87665   \n",
      "3              Queens  36484363  274225617         Woodside  40.79721   \n",
      "4       Staten Island  36438336  272557707          Woodrow  40.64779   \n",
      "\n",
      "   longitude    room_type  price  minimum_nights  number_of_reviews  \\\n",
      "0  -73.78158  Shared room   2500             365                321   \n",
      "1  -73.85676  Shared room  10000             999                488   \n",
      "2  -73.90855  Shared room  10000            1250                607   \n",
      "3  -73.71299  Shared room  10000             500                629   \n",
      "4  -74.06092  Shared room   5000             365                333   \n",
      "\n",
      "   reviews_per_month  calculated_host_listings_count  availability_365  \n",
      "0              10.34                              37               365  \n",
      "1              14.00                             232               365  \n",
      "2              58.50                             327               365  \n",
      "3              20.94                             103               365  \n",
      "4              10.12                               8               365  \n"
     ]
    },
    {
     "name": "stderr",
     "output_type": "stream",
     "text": [
      "C:\\Users\\한국인\\AppData\\Local\\Temp/ipykernel_5460/3921457192.py:12: FutureWarning: Dropping invalid columns in DataFrameGroupBy.max is deprecated. In a future version, a TypeError will be raised. Before calling .max, select only columns which should be valid for the function.\n",
      "  Ans0 = df.groupby(['neighbourhood_group'], as_index=False).max()\n"
     ]
    }
   ],
   "source": [
    "import pandas as pd\n",
    "\n",
    "df = pd.read_csv(\n",
    "    'https://raw.githubusercontent.com/Datamanim/pandas/main/AB_NYC_2019.csv')\n",
    "\n",
    "# 원본 코드\n",
    "Ans = df.groupby(['neighbourhood_group', 'neighbourhood'], as_index=False).size()\\\n",
    "    .groupby(['neighbourhood_group'], as_index=False).max()\n",
    "\n",
    "print(\"원본코드의 결과:\\n\\n\", Ans)\n",
    "\n",
    "Ans0 = df.groupby(['neighbourhood_group'], as_index=False).max()\n",
    "print(\"\\n앞에서 size()를 건너뛰었을 때 결과:\\n\\n\", Ans0)\n",
    "\n",
    "Ans1 = df.groupby(['neighbourhood_group', 'neighbourhood'],as_index=False).size()\n",
    "print(\"\\n순차적으로 나눠서 실행했을 때 결과1:\\n\", Ans1)\n",
    "\n",
    "Ans2 = Ans1.groupby(['neighbourhood_group'], as_index=False).max()\n",
    "print(\"순차적으로 나눠서 실행했을 때 결과2:\\n\", Ans2)\n"
   ]
  },
  {
   "cell_type": "code",
   "execution_count": null,
   "id": "8a2f3db4",
   "metadata": {},
   "outputs": [],
   "source": []
  }
 ],
 "metadata": {
  "kernelspec": {
   "display_name": "Python 3 (ipykernel)",
   "language": "python",
   "name": "python3"
  },
  "language_info": {
   "codemirror_mode": {
    "name": "ipython",
    "version": 3
   },
   "file_extension": ".py",
   "mimetype": "text/x-python",
   "name": "python",
   "nbconvert_exporter": "python",
   "pygments_lexer": "ipython3",
   "version": "3.9.7"
  }
 },
 "nbformat": 4,
 "nbformat_minor": 5
}
