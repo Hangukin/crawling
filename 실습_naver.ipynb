{
 "cells": [
  {
   "cell_type": "code",
   "execution_count": null,
   "id": "f9aa5594",
   "metadata": {},
   "outputs": [],
   "source": [
    "# 실기 제출할때 플라타함수, 라인차트 사용\n",
    "\n",
    "# 평가기준\n",
    "# 1. 기획\n",
    "# 2. 크롤링 코드(셀레늄, request, bs4, 공공데이터 포탈 ) + 시각화\n",
    "# 3. 데이터 전처리\n",
    "# 4. 데이터 시각화 (pie, line, geo, bubble, keyword 등 차트 활용)\n",
    "# 5. 데이터 저장"
   ]
  },
  {
   "cell_type": "code",
   "execution_count": 2,
   "id": "4ab7c794",
   "metadata": {},
   "outputs": [],
   "source": [
    "#Step 0. 필요한 모듈과 라이브러리를 로딩합니다.\n",
    "import sys # 시스템\n",
    "import os  # 시스템\n",
    "\n",
    "import pandas as pd  # 판다스 : 데이터분석 라이브러리\n",
    "import numpy as np   # 넘파이 : 숫자, 행렬 데이터 라이브러리\n",
    "\n",
    "from bs4 import BeautifulSoup    # html 데이터를 전처리\n",
    "from selenium import webdriver   # 웹 브라우저 자동화\n",
    "from selenium.webdriver.common.keys import Keys\n",
    "import chromedriver_autoinstaller\n",
    "\n",
    "import time    # 서버와 통신할 때 중간중간 시간 지연. 보통은 1초\n",
    "from tqdm import tqdm_notebook   # for문 돌릴 때 진행상황을 %게이지로 알려준다.\n",
    "\n",
    "# 워닝 무시\n",
    "import warnings\n",
    "warnings.filterwarnings('ignore')"
   ]
  },
  {
   "cell_type": "code",
   "execution_count": 2,
   "id": "c900d798",
   "metadata": {},
   "outputs": [],
   "source": [
    "# 라이브러리 import\n",
    "import os\n",
    "import pandas as pd\n",
    "import numpy as np\n",
    "import math # 수학적 계산이 필요할 때 사용하는 모듈\n",
    "import sys\n",
    "\n",
    "from selenium.webdriver.common.alert import Alert\n",
    "from selenium import webdriver  # 라이브러리(모듈) 가져오라\n",
    "from selenium.webdriver.common.keys import Keys\n",
    "from selenium.webdriver import ActionChains as AC\n",
    "\n",
    "# tqdm : 반복문 진행상황 확인할 때\n",
    "from tqdm import tqdm, tqdm_notebook\n",
    "from tqdm.notebook import tqdm\n",
    "\n",
    "# 정규표현식(regular expression) : 문자(알파벳, 한글), 숫자,  특수기호 정제 및 추출\n",
    "import re\n",
    "from time import sleep\n",
    "import time\n",
    "\n",
    "# 워닝 무시\n",
    "import warnings\n",
    "warnings.filterwarnings('ignore')"
   ]
  },
  {
   "cell_type": "code",
   "execution_count": 3,
   "id": "4e2d7788",
   "metadata": {},
   "outputs": [],
   "source": [
    "# 크롬 옵션\n",
    "options = webdriver.ChromeOptions()  # ChromeOptions()라는 클래스를 만든 것\n",
    "\n",
    "# 크롬 윈도우 사이즈 조절\n",
    "options.add_argument(\"--window-size=800,1500\") # window-size -> 기본 : 1920,1080\n",
    "\n",
    "import chromedriver_autoinstaller\n",
    "chrome_path = chromedriver_autoinstaller.install()\n",
    "driver = webdriver.Chrome(chrome_path, options=options)\n",
    "\n",
    "driver.get(\"https://shopping.naver.com/home/p/index.naver\")\n",
    "time.sleep(1)"
   ]
  },
  {
   "cell_type": "code",
   "execution_count": 4,
   "id": "fa380a9c",
   "metadata": {},
   "outputs": [
    {
     "name": "stdout",
     "output_type": "stream",
     "text": [
      "키워드는 무엇입니까?: 동양난\n"
     ]
    }
   ],
   "source": [
    "# 검색어, 검색 기간 정의\n",
    "query_txt = input('키워드는 무엇입니까?: ')"
   ]
  },
  {
   "cell_type": "code",
   "execution_count": 372,
   "id": "48a94eaf",
   "metadata": {},
   "outputs": [
    {
     "data": {
      "text/plain": [
       "'동양난'"
      ]
     },
     "execution_count": 372,
     "metadata": {},
     "output_type": "execute_result"
    }
   ],
   "source": [
    "query_txt"
   ]
  },
  {
   "cell_type": "code",
   "execution_count": 5,
   "id": "6dc07cee",
   "metadata": {},
   "outputs": [],
   "source": [
    "# 네이버 쇼핑에서 검색하기\n",
    "element = driver.find_element_by_css_selector(\"#autocompleteWrapper > input.co_srh_input._input.N\\=a\\:SNB\\.search\")\n",
    "element.send_keys(query_txt)  # query_txt는 위에서 입력한 키워드\n",
    "element.submit()\n",
    "driver.find_element_by_link_text(\"네이버 검색\").click( )\n",
    "time.sleep(1)"
   ]
  },
  {
   "cell_type": "code",
   "execution_count": 6,
   "id": "0852a3fb",
   "metadata": {},
   "outputs": [],
   "source": [
    "# 리뷰 많은순 클릭\n",
    "driver.find_element_by_link_text(\"리뷰 많은순\").click( )\n",
    "time.sleep(1)"
   ]
  },
  {
   "cell_type": "code",
   "execution_count": 7,
   "id": "41846838",
   "metadata": {},
   "outputs": [
    {
     "data": {
      "text/plain": [
       "<selenium.webdriver.remote.webelement.WebElement (session=\"dff7d6a42b384421a1cb0313ee28c5f7\", element=\"02208987-29e9-4256-8467-e898daae897b\")>"
      ]
     },
     "execution_count": 7,
     "metadata": {},
     "output_type": "execute_result"
    }
   ],
   "source": [
    "# URL 수집을 위한 빈 리스트\n",
    "url_list = []\n",
    "title_list = []\n",
    "\n",
    "# URL_raw 크롤링\n",
    "articles = \".basicList_link__1MaTN\"\n",
    "article_raw = driver.find_elements_by_css_selector(articles)\n",
    "article_raw[0]"
   ]
  },
  {
   "cell_type": "code",
   "execution_count": 8,
   "id": "5da3d024",
   "metadata": {},
   "outputs": [
    {
     "data": {
      "text/plain": [
       "'https://cr.shopping.naver.com/adcr.nhn?x=BGgPAtDh04MCkxAHaLUUFv%2F%2F%2Fw%3D%3Ds5DzAyHiz3s567je6%2FOfKi1Tknxjk2bBpTM1tQ2yO%2Bqbp4n6c%2FBxTQx6A5WdVjpNBcQhloB5QU%2FchLEGCbuFPYh4pza8ebIOIXPrPsGGS95ek6v2w9jBqMGR4TTsgYaQneD3eiTWYC6kJU0IDZZyY%2B6%2BtSAvTjZYNb%2FblNfT9I1ReRLFzBJFEx2y8I50n3o7%2F2wI5z0m6DoGmuIWpougNN%2Ba0O2TX7GIDZW3de8vjU8ykg37neLwDP0SIAEmL%2FlneQshYIsYN0i7lrIYYHdzkljmw5CX1oZ5J%2FTbFHgtyG3frImcNiIeXaZiuu4klJc2vBW36r4QZshREfg%2B3vq7RNqOwZ96UbYI570EYzR5I9reT3PLp53PjwLOjz0CSDbDKxAUqNt1m9qHKKhumR%2FLKLWxHKpwlQh5bEWJ83bRvLoDGCikIl3TLRZ6%2Bt8WmvIq%2BhtHNgp%2BB%2F0KmIogMYPQuqygheZ2lfViPlKgAGGDSLcejvPdVK8BRYKX0t26BzZTwlvb2XeH3SZGW%2Fg%2BQYgmzhJlraUmyRsm2uLLoblhy7eRQ6lru5k9frPVt2%2FFy3lpFnYidrn0YbjJ7rQ5ux%2B7k%2FK3dgJLQptOR2OYYDWIHK1R5SncShjb7ZR01a30aerPIEfiDnMtvb9fnKFomgZgEtZjJpR98%2FVRrJix0SOTu2%2BXlbbRZUzOfz1rhQM1rsULs%2F55xjtcZbzUTVWehZKrxHIgTf7yrYRfoB4ZWEX7jhu4GruH08DlKshetxY8KUEZb&nvMid=83212803655&catId=50007344'"
      ]
     },
     "execution_count": 8,
     "metadata": {},
     "output_type": "execute_result"
    }
   ],
   "source": [
    "# URL 확인하기\n",
    "article_raw[2].get_attribute(\"href\")"
   ]
  },
  {
   "cell_type": "code",
   "execution_count": 9,
   "id": "9c463df0",
   "metadata": {
    "scrolled": false
   },
   "outputs": [
    {
     "name": "stdout",
     "output_type": "stream",
     "text": [
      "결혼축하개업 근조배달 대전 부산장례화환 동양난서양난전국꽃배달 동양란 서양란 승진난 영전난\n",
      "개업화분 근조화환 축하화환 동양란 서양란 동양난 생일선물 꽃바구니 꽃다발 전국꽃배달서비스\n",
      "근조 장례식조화 결혼식 축하 3단화환 개업화분 생일꽃바구니 승진난 동양난 전국당일 꽃배달\n",
      "[꽃배달] 50%할인 [축하의 마음 동양란] 전국꽃배달서비스추천 동양난 서양난 취임 승진 개업선물 이전\n",
      "승진축하난 동양난 서울 경기 부산 전국 꽃배달 4JOEHWu\n",
      "\n",
      "url갯수:  5\n",
      "title갯수:  5\n"
     ]
    }
   ],
   "source": [
    "# URL 정제하기\n",
    "for article in article_raw:\n",
    "    url = article.get_attribute(\"href\")\n",
    "    url_list.append(url)\n",
    "time.sleep(1)\n",
    "\n",
    "# URL 제목 확인하기\n",
    "for article in article_raw:\n",
    "    title = article.text\n",
    "    title_list.append(title)\n",
    "    \n",
    "    print(title)\n",
    "print(\"\")\n",
    "print('url갯수: ', len(url_list))\n",
    "print('title갯수: ', len(title_list))"
   ]
  },
  {
   "cell_type": "code",
   "execution_count": 10,
   "id": "4e7b415f",
   "metadata": {},
   "outputs": [
    {
     "data": {
      "text/html": [
       "<div>\n",
       "<style scoped>\n",
       "    .dataframe tbody tr th:only-of-type {\n",
       "        vertical-align: middle;\n",
       "    }\n",
       "\n",
       "    .dataframe tbody tr th {\n",
       "        vertical-align: top;\n",
       "    }\n",
       "\n",
       "    .dataframe thead th {\n",
       "        text-align: right;\n",
       "    }\n",
       "</style>\n",
       "<table border=\"1\" class=\"dataframe\">\n",
       "  <thead>\n",
       "    <tr style=\"text-align: right;\">\n",
       "      <th></th>\n",
       "      <th>url</th>\n",
       "      <th>title</th>\n",
       "    </tr>\n",
       "  </thead>\n",
       "  <tbody>\n",
       "    <tr>\n",
       "      <th>0</th>\n",
       "      <td>https://cr.shopping.naver.com/adcr.nhn?x=Aey5Y...</td>\n",
       "      <td>결혼축하개업 근조배달 대전 부산장례화환 동양난서양난전국꽃배달 동양란 서양란 승진난 영전난</td>\n",
       "    </tr>\n",
       "    <tr>\n",
       "      <th>1</th>\n",
       "      <td>https://cr.shopping.naver.com/adcr.nhn?x=Vk4qo...</td>\n",
       "      <td>개업화분 근조화환 축하화환 동양란 서양란 동양난 생일선물 꽃바구니 꽃다발 전국꽃배달서비스</td>\n",
       "    </tr>\n",
       "    <tr>\n",
       "      <th>2</th>\n",
       "      <td>https://cr.shopping.naver.com/adcr.nhn?x=BGgPA...</td>\n",
       "      <td>근조 장례식조화 결혼식 축하 3단화환 개업화분 생일꽃바구니 승진난 동양난 전국당일 꽃배달</td>\n",
       "    </tr>\n",
       "    <tr>\n",
       "      <th>3</th>\n",
       "      <td>https://cr.shopping.naver.com/adcr.nhn?x=QnMJd...</td>\n",
       "      <td>[꽃배달] 50%할인 [축하의 마음 동양란] 전국꽃배달서비스추천 동양난 서양난 취임...</td>\n",
       "    </tr>\n",
       "    <tr>\n",
       "      <th>4</th>\n",
       "      <td>https://cr.shopping.naver.com/adcr.nhn?x=%2FOT...</td>\n",
       "      <td>승진축하난 동양난 서울 경기 부산 전국 꽃배달 4JOEHWu</td>\n",
       "    </tr>\n",
       "  </tbody>\n",
       "</table>\n",
       "</div>"
      ],
      "text/plain": [
       "                                                 url  \\\n",
       "0  https://cr.shopping.naver.com/adcr.nhn?x=Aey5Y...   \n",
       "1  https://cr.shopping.naver.com/adcr.nhn?x=Vk4qo...   \n",
       "2  https://cr.shopping.naver.com/adcr.nhn?x=BGgPA...   \n",
       "3  https://cr.shopping.naver.com/adcr.nhn?x=QnMJd...   \n",
       "4  https://cr.shopping.naver.com/adcr.nhn?x=%2FOT...   \n",
       "\n",
       "                                               title  \n",
       "0  결혼축하개업 근조배달 대전 부산장례화환 동양난서양난전국꽃배달 동양란 서양란 승진난 영전난  \n",
       "1  개업화분 근조화환 축하화환 동양란 서양란 동양난 생일선물 꽃바구니 꽃다발 전국꽃배달서비스  \n",
       "2  근조 장례식조화 결혼식 축하 3단화환 개업화분 생일꽃바구니 승진난 동양난 전국당일 꽃배달  \n",
       "3  [꽃배달] 50%할인 [축하의 마음 동양란] 전국꽃배달서비스추천 동양난 서양난 취임...  \n",
       "4                  승진축하난 동양난 서울 경기 부산 전국 꽃배달 4JOEHWu  "
      ]
     },
     "execution_count": 10,
     "metadata": {},
     "output_type": "execute_result"
    }
   ],
   "source": [
    "df = pd.DataFrame({'url':url_list, 'title':title_list})\n",
    "df"
   ]
  },
  {
   "cell_type": "code",
   "execution_count": 11,
   "id": "970b8c93",
   "metadata": {},
   "outputs": [],
   "source": [
    "df.to_excel(\"naver_shopping({}).xlsx\".format(query_txt), encoding='utf-8-sig')"
   ]
  },
  {
   "cell_type": "code",
   "execution_count": 12,
   "id": "841f2469",
   "metadata": {},
   "outputs": [
    {
     "name": "stdout",
     "output_type": "stream",
     "text": [
      "5\n"
     ]
    },
    {
     "data": {
      "text/html": [
       "<div>\n",
       "<style scoped>\n",
       "    .dataframe tbody tr th:only-of-type {\n",
       "        vertical-align: middle;\n",
       "    }\n",
       "\n",
       "    .dataframe tbody tr th {\n",
       "        vertical-align: top;\n",
       "    }\n",
       "\n",
       "    .dataframe thead th {\n",
       "        text-align: right;\n",
       "    }\n",
       "</style>\n",
       "<table border=\"1\" class=\"dataframe\">\n",
       "  <thead>\n",
       "    <tr style=\"text-align: right;\">\n",
       "      <th></th>\n",
       "      <th>url</th>\n",
       "      <th>title</th>\n",
       "    </tr>\n",
       "  </thead>\n",
       "  <tbody>\n",
       "    <tr>\n",
       "      <th>0</th>\n",
       "      <td>https://cr.shopping.naver.com/adcr.nhn?x=Aey5Y...</td>\n",
       "      <td>결혼축하개업 근조배달 대전 부산장례화환 동양난서양난전국꽃배달 동양란 서양란 승진난 영전난</td>\n",
       "    </tr>\n",
       "    <tr>\n",
       "      <th>1</th>\n",
       "      <td>https://cr.shopping.naver.com/adcr.nhn?x=Vk4qo...</td>\n",
       "      <td>개업화분 근조화환 축하화환 동양란 서양란 동양난 생일선물 꽃바구니 꽃다발 전국꽃배달서비스</td>\n",
       "    </tr>\n",
       "    <tr>\n",
       "      <th>2</th>\n",
       "      <td>https://cr.shopping.naver.com/adcr.nhn?x=BGgPA...</td>\n",
       "      <td>근조 장례식조화 결혼식 축하 3단화환 개업화분 생일꽃바구니 승진난 동양난 전국당일 꽃배달</td>\n",
       "    </tr>\n",
       "    <tr>\n",
       "      <th>3</th>\n",
       "      <td>https://cr.shopping.naver.com/adcr.nhn?x=QnMJd...</td>\n",
       "      <td>[꽃배달] 50%할인 [축하의 마음 동양란] 전국꽃배달서비스추천 동양난 서양난 취임...</td>\n",
       "    </tr>\n",
       "    <tr>\n",
       "      <th>4</th>\n",
       "      <td>https://cr.shopping.naver.com/adcr.nhn?x=%2FOT...</td>\n",
       "      <td>승진축하난 동양난 서울 경기 부산 전국 꽃배달 4JOEHWu</td>\n",
       "    </tr>\n",
       "  </tbody>\n",
       "</table>\n",
       "</div>"
      ],
      "text/plain": [
       "                                                 url  \\\n",
       "0  https://cr.shopping.naver.com/adcr.nhn?x=Aey5Y...   \n",
       "1  https://cr.shopping.naver.com/adcr.nhn?x=Vk4qo...   \n",
       "2  https://cr.shopping.naver.com/adcr.nhn?x=BGgPA...   \n",
       "3  https://cr.shopping.naver.com/adcr.nhn?x=QnMJd...   \n",
       "4  https://cr.shopping.naver.com/adcr.nhn?x=%2FOT...   \n",
       "\n",
       "                                               title  \n",
       "0  결혼축하개업 근조배달 대전 부산장례화환 동양난서양난전국꽃배달 동양란 서양란 승진난 영전난  \n",
       "1  개업화분 근조화환 축하화환 동양란 서양란 동양난 생일선물 꽃바구니 꽃다발 전국꽃배달서비스  \n",
       "2  근조 장례식조화 결혼식 축하 3단화환 개업화분 생일꽃바구니 승진난 동양난 전국당일 꽃배달  \n",
       "3  [꽃배달] 50%할인 [축하의 마음 동양란] 전국꽃배달서비스추천 동양난 서양난 취임...  \n",
       "4                  승진축하난 동양난 서울 경기 부산 전국 꽃배달 4JOEHWu  "
      ]
     },
     "execution_count": 12,
     "metadata": {},
     "output_type": "execute_result"
    }
   ],
   "source": [
    "# url_list 불러오기\n",
    "url_load = pd.read_excel(\"naver_shopping({}).xlsx\".format(query_txt))\n",
    "url_load = url_load.drop(\"Unnamed: 0\", axis = 1)\n",
    "\n",
    "num_list = len(url_load)\n",
    "print(num_list)\n",
    "url_load"
   ]
  },
  {
   "cell_type": "code",
   "execution_count": 13,
   "id": "152d0f47",
   "metadata": {},
   "outputs": [
    {
     "data": {
      "text/plain": [
       "0    https://cr.shopping.naver.com/adcr.nhn?x=Aey5Y...\n",
       "1    https://cr.shopping.naver.com/adcr.nhn?x=Vk4qo...\n",
       "2    https://cr.shopping.naver.com/adcr.nhn?x=BGgPA...\n",
       "3    https://cr.shopping.naver.com/adcr.nhn?x=QnMJd...\n",
       "4    https://cr.shopping.naver.com/adcr.nhn?x=%2FOT...\n",
       "Name: url, dtype: object"
      ]
     },
     "execution_count": 13,
     "metadata": {},
     "output_type": "execute_result"
    }
   ],
   "source": [
    "url_load['url']"
   ]
  },
  {
   "cell_type": "code",
   "execution_count": 14,
   "id": "0cf1edec",
   "metadata": {},
   "outputs": [],
   "source": [
    "# 세부 항목\n",
    "dict = {}    # 전체 크롤링 데이터를 담을 그릇\n",
    "number = 15\n",
    "\n",
    "# url 불러오기\n",
    "url = url_load[\"url\"][0]\n",
    "chrome_path = chromedriver_autoinstaller.install()\n",
    "driver = webdriver.Chrome(chrome_path)\n",
    "\n",
    "driver.get(url)   # 글 띄우기\n",
    "time.sleep(1)"
   ]
  },
  {
   "cell_type": "code",
   "execution_count": 15,
   "id": "694f1c3a",
   "metadata": {},
   "outputs": [],
   "source": [
    "# 리뷰 확인"
   ]
  },
  {
   "cell_type": "code",
   "execution_count": 16,
   "id": "2d1a10df",
   "metadata": {},
   "outputs": [
    {
     "data": {
      "text/plain": [
       "'4.8'"
      ]
     },
     "execution_count": 16,
     "metadata": {},
     "output_type": "execute_result"
    }
   ],
   "source": [
    "# 1. 사용자 총 평점\n",
    "overlays1 = \"#REVIEW > div > div._25tRcZzaD2 > div:nth-child(1) > div > div > div.TFNhvMOrjC._3uz9pzdFUe > div > span\"\n",
    "sta = driver.find_element_by_css_selector(overlays1)\n",
    "star_average = sta.text[7:10]\n",
    "star_average"
   ]
  },
  {
   "cell_type": "code",
   "execution_count": 17,
   "id": "de579938",
   "metadata": {},
   "outputs": [
    {
     "data": {
      "text/plain": [
       "'7,233개'"
      ]
     },
     "execution_count": 17,
     "metadata": {},
     "output_type": "execute_result"
    }
   ],
   "source": [
    "# 2. 전체 리뷰수\n",
    "overlays2 = \"#REVIEW > div > div._25tRcZzaD2 > div:nth-child(1) > div > div > div.TFNhvMOrjC._1UShjXo5FC > div > span.blind\"\n",
    "rev = driver.find_element_by_css_selector(overlays2)\n",
    "review_number = rev.text[:6]\n",
    "review_number"
   ]
  },
  {
   "cell_type": "code",
   "execution_count": 18,
   "id": "0e1ea9dd",
   "metadata": {
    "scrolled": true
   },
   "outputs": [
    {
     "data": {
      "application/vnd.jupyter.widget-view+json": {
       "model_id": "329c90e60c3c43918ddc20eb2144d4c4",
       "version_major": 2,
       "version_minor": 0
      },
      "text/plain": [
       "  0%|          | 0/20 [00:00<?, ?it/s]"
      ]
     },
     "metadata": {},
     "output_type": "display_data"
    },
    {
     "name": "stdout",
     "output_type": "stream",
     "text": [
      "20\n"
     ]
    },
    {
     "data": {
      "text/plain": [
       "['친절한 상담에 가격대비 좋은 품질인것 같아요\\n약속한 시간보다 조금 늦어지긴했네오',\n",
       " '오늘 내로 빠른 배송도 인증사진까지 보내주셔서 친절하시고 맘에 듭니다 앞으로 많이 이용할게요',\n",
       " '재구매항상 이곳만 이용해요. 배송후 사진도 감사합니다',\n",
       " '한달사용기화환 몹시 이쁨.\\n다만 배달이 쪼오금 늦었네요ㅜ',\n",
       " '배송문자도 식이 12시인데 3시에 보내시고.. 화환여러곳에서 보내봤는데 다들 식전에 보내주시던데요.  그리고 고급형 시켰는데 문자로 기본형이라고 와서 전화했더니 오히려 입력 실수라고 사진보면 다르다고 더 언성을 높이시고.. 사진상으로 사실 잘 구분도 안되고 문자 그리오니 문의하는건데 기분이 진짜 뭣같네요.  말투가 원래 그런가부다 하겠지만 다음부터는 좀 실수도 하지 마시고 친절하게 좀 설명하세요.  본인말만 하면서 언성높이지마시구요. 네. 저는 다음부터 이용안하면 되니 걱정마시구요',\n",
       " '재구매배송도 빠르고 응대도 친절하세요~^^ 새해에도 번창하세요',\n",
       " '한달사용기특이한 문구도 잘적어줘요 싸고 빠르고 정확',\n",
       " '한달사용기빨라서 좋아요 \\n항상 애용합니다',\n",
       " '재구매정확하고 빠른 배송 항상 좋아요',\n",
       " '빠르고 친절하시네요',\n",
       " '정확하게 잘 도착했습니다.',\n",
       " '한달사용기재구매빠른배송에 가성비 좋은 제품에 감사드립니다. 사업 번창하세요.',\n",
       " '실물그대로 안전하게 배송되어 너무 만족합니다.\\n다음에 경조사있을때 여기서 재주문해야겠습니다!!',\n",
       " '재구매신속배송\\n감사합니다',\n",
       " '퀄리티 좋고 배송도 정확합니다',\n",
       " '한달사용기재구매상주가 고맙다네요 많이 파세요',\n",
       " '재구매착한가격 빠른배송 감사합니다.^^',\n",
       " '재구매착한가격 빠른배송 감사합니다.^^',\n",
       " '재구매착한가격 빠른배송 감사합니다.^^',\n",
       " '재구매빠른배송도 좋고 잘도착하니 안심하고 좋아요']"
      ]
     },
     "execution_count": 18,
     "metadata": {},
     "output_type": "execute_result"
    }
   ],
   "source": [
    "# 3. 리뷰\n",
    "리뷰 = []\n",
    "overlays3 = \"._19SE1Dnqkf .YEtwtZFLDz\"\n",
    "repurchase = driver.find_elements_by_css_selector(overlays3)\n",
    "for x in tqdm(repurchase):\n",
    "    if True :\n",
    "        driver.find_element_by_css_selector(\"._1eidska71d\")\n",
    "    else:\n",
    "        driver.find_element_by_css_selector(overlays3)\n",
    "    repurchase = x.text\n",
    "    리뷰.append(repurchase)\n",
    "print(len(리뷰))\n",
    "리뷰"
   ]
  },
  {
   "cell_type": "markdown",
   "id": "5ec25f63",
   "metadata": {},
   "source": [
    "# -----------------여기입니다"
   ]
  },
  {
   "cell_type": "code",
   "execution_count": 407,
   "id": "4995dd31",
   "metadata": {},
   "outputs": [
    {
     "data": {
      "application/vnd.jupyter.widget-view+json": {
       "model_id": "7b554b79969a4c7f99e2a3efe2417062",
       "version_major": 2,
       "version_minor": 0
      },
      "text/plain": [
       "  0%|          | 0/10 [00:00<?, ?it/s]"
      ]
     },
     "metadata": {},
     "output_type": "display_data"
    },
    {
     "data": {
      "application/vnd.jupyter.widget-view+json": {
       "model_id": "236de3dd3c8044a1bf6c6493b7baaa41",
       "version_major": 2,
       "version_minor": 0
      },
      "text/plain": [
       "  0%|          | 0/10 [00:00<?, ?it/s]"
      ]
     },
     "metadata": {},
     "output_type": "display_data"
    },
    {
     "data": {
      "application/vnd.jupyter.widget-view+json": {
       "model_id": "d503231d2aa14c60a51c58022198c32a",
       "version_major": 2,
       "version_minor": 0
      },
      "text/plain": [
       "  0%|          | 0/10 [00:00<?, ?it/s]"
      ]
     },
     "metadata": {},
     "output_type": "display_data"
    },
    {
     "data": {
      "application/vnd.jupyter.widget-view+json": {
       "model_id": "140d7df04e434d44be4f89242d7f15f2",
       "version_major": 2,
       "version_minor": 0
      },
      "text/plain": [
       "  0%|          | 0/10 [00:00<?, ?it/s]"
      ]
     },
     "metadata": {},
     "output_type": "display_data"
    },
    {
     "data": {
      "application/vnd.jupyter.widget-view+json": {
       "model_id": "e7d036f00fb54a41a054f674aba7a312",
       "version_major": 2,
       "version_minor": 0
      },
      "text/plain": [
       "  0%|          | 0/10 [00:00<?, ?it/s]"
      ]
     },
     "metadata": {},
     "output_type": "display_data"
    },
    {
     "data": {
      "application/vnd.jupyter.widget-view+json": {
       "model_id": "abeb4d7bb53e40fdbf3c6c33e6b31bfa",
       "version_major": 2,
       "version_minor": 0
      },
      "text/plain": [
       "  0%|          | 0/10 [00:00<?, ?it/s]"
      ]
     },
     "metadata": {},
     "output_type": "display_data"
    },
    {
     "data": {
      "application/vnd.jupyter.widget-view+json": {
       "model_id": "b722b918d1c847eaba52a8cc9fdf81c1",
       "version_major": 2,
       "version_minor": 0
      },
      "text/plain": [
       "  0%|          | 0/10 [00:00<?, ?it/s]"
      ]
     },
     "metadata": {},
     "output_type": "display_data"
    },
    {
     "data": {
      "application/vnd.jupyter.widget-view+json": {
       "model_id": "5cb4e011d5a9443f97e4cc449f246093",
       "version_major": 2,
       "version_minor": 0
      },
      "text/plain": [
       "  0%|          | 0/10 [00:00<?, ?it/s]"
      ]
     },
     "metadata": {},
     "output_type": "display_data"
    },
    {
     "data": {
      "application/vnd.jupyter.widget-view+json": {
       "model_id": "e8dc5f81701e43018239573ec23a6e54",
       "version_major": 2,
       "version_minor": 0
      },
      "text/plain": [
       "  0%|          | 0/10 [00:00<?, ?it/s]"
      ]
     },
     "metadata": {},
     "output_type": "display_data"
    },
    {
     "data": {
      "application/vnd.jupyter.widget-view+json": {
       "model_id": "d76d8277d76f4bcdbe6c1683468bdb91",
       "version_major": 2,
       "version_minor": 0
      },
      "text/plain": [
       "  0%|          | 0/10 [00:00<?, ?it/s]"
      ]
     },
     "metadata": {},
     "output_type": "display_data"
    },
    {
     "data": {
      "application/vnd.jupyter.widget-view+json": {
       "model_id": "53250de7aeb54c3c9d8beb84c4352d70",
       "version_major": 2,
       "version_minor": 0
      },
      "text/plain": [
       "  0%|          | 0/10 [00:00<?, ?it/s]"
      ]
     },
     "metadata": {},
     "output_type": "display_data"
    },
    {
     "data": {
      "application/vnd.jupyter.widget-view+json": {
       "model_id": "b5413ab3e1ae4bb49bf2686a5d2d1981",
       "version_major": 2,
       "version_minor": 0
      },
      "text/plain": [
       "  0%|          | 0/10 [00:00<?, ?it/s]"
      ]
     },
     "metadata": {},
     "output_type": "display_data"
    },
    {
     "data": {
      "application/vnd.jupyter.widget-view+json": {
       "model_id": "2a6d8406039a419e824fbc47ce6fca93",
       "version_major": 2,
       "version_minor": 0
      },
      "text/plain": [
       "  0%|          | 0/10 [00:00<?, ?it/s]"
      ]
     },
     "metadata": {},
     "output_type": "display_data"
    },
    {
     "data": {
      "application/vnd.jupyter.widget-view+json": {
       "model_id": "d8cff7f233cb48c686c385951d00d575",
       "version_major": 2,
       "version_minor": 0
      },
      "text/plain": [
       "  0%|          | 0/10 [00:00<?, ?it/s]"
      ]
     },
     "metadata": {},
     "output_type": "display_data"
    },
    {
     "data": {
      "application/vnd.jupyter.widget-view+json": {
       "model_id": "c8060ac8bca9480ea6913bd06ecf8e97",
       "version_major": 2,
       "version_minor": 0
      },
      "text/plain": [
       "  0%|          | 0/10 [00:00<?, ?it/s]"
      ]
     },
     "metadata": {},
     "output_type": "display_data"
    },
    {
     "data": {
      "application/vnd.jupyter.widget-view+json": {
       "model_id": "da39f118968f4015bbc26b63862bd19f",
       "version_major": 2,
       "version_minor": 0
      },
      "text/plain": [
       "  0%|          | 0/10 [00:00<?, ?it/s]"
      ]
     },
     "metadata": {},
     "output_type": "display_data"
    },
    {
     "data": {
      "application/vnd.jupyter.widget-view+json": {
       "model_id": "9b0bb9123eee4f35a47f42c05948971f",
       "version_major": 2,
       "version_minor": 0
      },
      "text/plain": [
       "  0%|          | 0/10 [00:00<?, ?it/s]"
      ]
     },
     "metadata": {},
     "output_type": "display_data"
    },
    {
     "data": {
      "application/vnd.jupyter.widget-view+json": {
       "model_id": "234ccc4e5b0c425497f045baa5425950",
       "version_major": 2,
       "version_minor": 0
      },
      "text/plain": [
       "  0%|          | 0/10 [00:00<?, ?it/s]"
      ]
     },
     "metadata": {},
     "output_type": "display_data"
    },
    {
     "data": {
      "application/vnd.jupyter.widget-view+json": {
       "model_id": "1509f17e6b474098b2e9f563b9f2873f",
       "version_major": 2,
       "version_minor": 0
      },
      "text/plain": [
       "  0%|          | 0/10 [00:00<?, ?it/s]"
      ]
     },
     "metadata": {},
     "output_type": "display_data"
    },
    {
     "data": {
      "application/vnd.jupyter.widget-view+json": {
       "model_id": "bcbd299acde84d8c940199b8817a7ca7",
       "version_major": 2,
       "version_minor": 0
      },
      "text/plain": [
       "  0%|          | 0/10 [00:00<?, ?it/s]"
      ]
     },
     "metadata": {},
     "output_type": "display_data"
    },
    {
     "data": {
      "application/vnd.jupyter.widget-view+json": {
       "model_id": "db2fc619c4f047b2a473196f2b9c809c",
       "version_major": 2,
       "version_minor": 0
      },
      "text/plain": [
       "  0%|          | 0/10 [00:00<?, ?it/s]"
      ]
     },
     "metadata": {},
     "output_type": "display_data"
    },
    {
     "data": {
      "application/vnd.jupyter.widget-view+json": {
       "model_id": "a94029dde86a460fa812303d500e6570",
       "version_major": 2,
       "version_minor": 0
      },
      "text/plain": [
       "  0%|          | 0/10 [00:00<?, ?it/s]"
      ]
     },
     "metadata": {},
     "output_type": "display_data"
    },
    {
     "data": {
      "application/vnd.jupyter.widget-view+json": {
       "model_id": "7f9730e6c7df4363a29506418db5dbe8",
       "version_major": 2,
       "version_minor": 0
      },
      "text/plain": [
       "  0%|          | 0/10 [00:00<?, ?it/s]"
      ]
     },
     "metadata": {},
     "output_type": "display_data"
    },
    {
     "data": {
      "application/vnd.jupyter.widget-view+json": {
       "model_id": "7e966a75ed3a4a0895965cff8769261f",
       "version_major": 2,
       "version_minor": 0
      },
      "text/plain": [
       "  0%|          | 0/10 [00:00<?, ?it/s]"
      ]
     },
     "metadata": {},
     "output_type": "display_data"
    },
    {
     "data": {
      "application/vnd.jupyter.widget-view+json": {
       "model_id": "31da3ebce2f34f7987cac6d594877771",
       "version_major": 2,
       "version_minor": 0
      },
      "text/plain": [
       "  0%|          | 0/10 [00:00<?, ?it/s]"
      ]
     },
     "metadata": {},
     "output_type": "display_data"
    },
    {
     "data": {
      "application/vnd.jupyter.widget-view+json": {
       "model_id": "d6aacd0dfc9d49a8a183f14fcad55e3a",
       "version_major": 2,
       "version_minor": 0
      },
      "text/plain": [
       "  0%|          | 0/10 [00:00<?, ?it/s]"
      ]
     },
     "metadata": {},
     "output_type": "display_data"
    },
    {
     "data": {
      "application/vnd.jupyter.widget-view+json": {
       "model_id": "dd4270821a314f088df3d8928f2d0845",
       "version_major": 2,
       "version_minor": 0
      },
      "text/plain": [
       "  0%|          | 0/10 [00:00<?, ?it/s]"
      ]
     },
     "metadata": {},
     "output_type": "display_data"
    },
    {
     "data": {
      "application/vnd.jupyter.widget-view+json": {
       "model_id": "5bfa4ce462304e6f907b740782276b16",
       "version_major": 2,
       "version_minor": 0
      },
      "text/plain": [
       "  0%|          | 0/10 [00:00<?, ?it/s]"
      ]
     },
     "metadata": {},
     "output_type": "display_data"
    },
    {
     "data": {
      "application/vnd.jupyter.widget-view+json": {
       "model_id": "d6b7003091c742478cc0123151e730b3",
       "version_major": 2,
       "version_minor": 0
      },
      "text/plain": [
       "  0%|          | 0/10 [00:00<?, ?it/s]"
      ]
     },
     "metadata": {},
     "output_type": "display_data"
    },
    {
     "data": {
      "application/vnd.jupyter.widget-view+json": {
       "model_id": "b27e33c1aedb47f3b1c8aeb910765aa0",
       "version_major": 2,
       "version_minor": 0
      },
      "text/plain": [
       "  0%|          | 0/10 [00:00<?, ?it/s]"
      ]
     },
     "metadata": {},
     "output_type": "display_data"
    },
    {
     "data": {
      "application/vnd.jupyter.widget-view+json": {
       "model_id": "f57dc95f9ef14d779e48d48f3b48a890",
       "version_major": 2,
       "version_minor": 0
      },
      "text/plain": [
       "  0%|          | 0/10 [00:00<?, ?it/s]"
      ]
     },
     "metadata": {},
     "output_type": "display_data"
    },
    {
     "data": {
      "application/vnd.jupyter.widget-view+json": {
       "model_id": "2444cd90ac30453ca86910c58a9bd1b9",
       "version_major": 2,
       "version_minor": 0
      },
      "text/plain": [
       "  0%|          | 0/10 [00:00<?, ?it/s]"
      ]
     },
     "metadata": {},
     "output_type": "display_data"
    },
    {
     "data": {
      "application/vnd.jupyter.widget-view+json": {
       "model_id": "b2ec7284909643f18847ae3a3537e184",
       "version_major": 2,
       "version_minor": 0
      },
      "text/plain": [
       "  0%|          | 0/10 [00:00<?, ?it/s]"
      ]
     },
     "metadata": {},
     "output_type": "display_data"
    },
    {
     "data": {
      "application/vnd.jupyter.widget-view+json": {
       "model_id": "332d30217447476c8ace942a50eb573b",
       "version_major": 2,
       "version_minor": 0
      },
      "text/plain": [
       "  0%|          | 0/10 [00:00<?, ?it/s]"
      ]
     },
     "metadata": {},
     "output_type": "display_data"
    },
    {
     "data": {
      "application/vnd.jupyter.widget-view+json": {
       "model_id": "bcb810767eca470391ede372c325ab76",
       "version_major": 2,
       "version_minor": 0
      },
      "text/plain": [
       "  0%|          | 0/10 [00:00<?, ?it/s]"
      ]
     },
     "metadata": {},
     "output_type": "display_data"
    },
    {
     "data": {
      "application/vnd.jupyter.widget-view+json": {
       "model_id": "3de4e66708df4f62ba212cd8b0978e60",
       "version_major": 2,
       "version_minor": 0
      },
      "text/plain": [
       "  0%|          | 0/10 [00:00<?, ?it/s]"
      ]
     },
     "metadata": {},
     "output_type": "display_data"
    },
    {
     "data": {
      "application/vnd.jupyter.widget-view+json": {
       "model_id": "b8cc08851a14424c870c2679d96c52de",
       "version_major": 2,
       "version_minor": 0
      },
      "text/plain": [
       "  0%|          | 0/10 [00:00<?, ?it/s]"
      ]
     },
     "metadata": {},
     "output_type": "display_data"
    },
    {
     "data": {
      "application/vnd.jupyter.widget-view+json": {
       "model_id": "e461e68cbb904b37973e103489b5da20",
       "version_major": 2,
       "version_minor": 0
      },
      "text/plain": [
       "  0%|          | 0/10 [00:00<?, ?it/s]"
      ]
     },
     "metadata": {},
     "output_type": "display_data"
    },
    {
     "data": {
      "application/vnd.jupyter.widget-view+json": {
       "model_id": "319c39f38be8451c81b48fec16c1956c",
       "version_major": 2,
       "version_minor": 0
      },
      "text/plain": [
       "  0%|          | 0/10 [00:00<?, ?it/s]"
      ]
     },
     "metadata": {},
     "output_type": "display_data"
    },
    {
     "data": {
      "application/vnd.jupyter.widget-view+json": {
       "model_id": "7f2a483b583f4e1898c73596eecc41b9",
       "version_major": 2,
       "version_minor": 0
      },
      "text/plain": [
       "  0%|          | 0/10 [00:00<?, ?it/s]"
      ]
     },
     "metadata": {},
     "output_type": "display_data"
    },
    {
     "data": {
      "application/vnd.jupyter.widget-view+json": {
       "model_id": "ab696535ccb64c80888c961cf8f31e0c",
       "version_major": 2,
       "version_minor": 0
      },
      "text/plain": [
       "  0%|          | 0/10 [00:00<?, ?it/s]"
      ]
     },
     "metadata": {},
     "output_type": "display_data"
    },
    {
     "data": {
      "application/vnd.jupyter.widget-view+json": {
       "model_id": "63abdb152552461e962e93f648cc3215",
       "version_major": 2,
       "version_minor": 0
      },
      "text/plain": [
       "  0%|          | 0/10 [00:00<?, ?it/s]"
      ]
     },
     "metadata": {},
     "output_type": "display_data"
    },
    {
     "data": {
      "application/vnd.jupyter.widget-view+json": {
       "model_id": "c49dea7f16a14c8eae9a0d8372c88371",
       "version_major": 2,
       "version_minor": 0
      },
      "text/plain": [
       "  0%|          | 0/10 [00:00<?, ?it/s]"
      ]
     },
     "metadata": {},
     "output_type": "display_data"
    },
    {
     "data": {
      "application/vnd.jupyter.widget-view+json": {
       "model_id": "2596776f389e4cf2be71eed24950f412",
       "version_major": 2,
       "version_minor": 0
      },
      "text/plain": [
       "  0%|          | 0/10 [00:00<?, ?it/s]"
      ]
     },
     "metadata": {},
     "output_type": "display_data"
    },
    {
     "data": {
      "application/vnd.jupyter.widget-view+json": {
       "model_id": "111947b2b27e4d509ae64f4844100479",
       "version_major": 2,
       "version_minor": 0
      },
      "text/plain": [
       "  0%|          | 0/10 [00:00<?, ?it/s]"
      ]
     },
     "metadata": {},
     "output_type": "display_data"
    },
    {
     "data": {
      "application/vnd.jupyter.widget-view+json": {
       "model_id": "85a307bdbcd14984b198dafa0866cc20",
       "version_major": 2,
       "version_minor": 0
      },
      "text/plain": [
       "  0%|          | 0/10 [00:00<?, ?it/s]"
      ]
     },
     "metadata": {},
     "output_type": "display_data"
    },
    {
     "data": {
      "application/vnd.jupyter.widget-view+json": {
       "model_id": "8a93b9548c1a41b59091f18063bd6670",
       "version_major": 2,
       "version_minor": 0
      },
      "text/plain": [
       "  0%|          | 0/10 [00:00<?, ?it/s]"
      ]
     },
     "metadata": {},
     "output_type": "display_data"
    },
    {
     "data": {
      "application/vnd.jupyter.widget-view+json": {
       "model_id": "c559103fd352495285f86965b8b1e034",
       "version_major": 2,
       "version_minor": 0
      },
      "text/plain": [
       "  0%|          | 0/10 [00:00<?, ?it/s]"
      ]
     },
     "metadata": {},
     "output_type": "display_data"
    },
    {
     "data": {
      "application/vnd.jupyter.widget-view+json": {
       "model_id": "1d94a727adae4e168959fbaf7cb93b95",
       "version_major": 2,
       "version_minor": 0
      },
      "text/plain": [
       "  0%|          | 0/10 [00:00<?, ?it/s]"
      ]
     },
     "metadata": {},
     "output_type": "display_data"
    },
    {
     "data": {
      "application/vnd.jupyter.widget-view+json": {
       "model_id": "cd56e371d5d84d21a29f4c11a422f755",
       "version_major": 2,
       "version_minor": 0
      },
      "text/plain": [
       "  0%|          | 0/10 [00:00<?, ?it/s]"
      ]
     },
     "metadata": {},
     "output_type": "display_data"
    },
    {
     "data": {
      "application/vnd.jupyter.widget-view+json": {
       "model_id": "0b052720c03f47218025a56da0923cc2",
       "version_major": 2,
       "version_minor": 0
      },
      "text/plain": [
       "  0%|          | 0/10 [00:00<?, ?it/s]"
      ]
     },
     "metadata": {},
     "output_type": "display_data"
    },
    {
     "data": {
      "application/vnd.jupyter.widget-view+json": {
       "model_id": "d75f24625b1b4f179f3504090cd6016e",
       "version_major": 2,
       "version_minor": 0
      },
      "text/plain": [
       "  0%|          | 0/10 [00:00<?, ?it/s]"
      ]
     },
     "metadata": {},
     "output_type": "display_data"
    },
    {
     "data": {
      "application/vnd.jupyter.widget-view+json": {
       "model_id": "cdb7c7abe2a442e29bc9a89a7262ddb7",
       "version_major": 2,
       "version_minor": 0
      },
      "text/plain": [
       "  0%|          | 0/10 [00:00<?, ?it/s]"
      ]
     },
     "metadata": {},
     "output_type": "display_data"
    },
    {
     "data": {
      "application/vnd.jupyter.widget-view+json": {
       "model_id": "1ae9d055c20c44dcaeecdae23a6cb0f4",
       "version_major": 2,
       "version_minor": 0
      },
      "text/plain": [
       "  0%|          | 0/10 [00:00<?, ?it/s]"
      ]
     },
     "metadata": {},
     "output_type": "display_data"
    },
    {
     "data": {
      "application/vnd.jupyter.widget-view+json": {
       "model_id": "46de8a6ca5cd4cb4a05763350edc8959",
       "version_major": 2,
       "version_minor": 0
      },
      "text/plain": [
       "  0%|          | 0/10 [00:00<?, ?it/s]"
      ]
     },
     "metadata": {},
     "output_type": "display_data"
    },
    {
     "data": {
      "application/vnd.jupyter.widget-view+json": {
       "model_id": "7913b7018f0445328b3220157b4afb91",
       "version_major": 2,
       "version_minor": 0
      },
      "text/plain": [
       "  0%|          | 0/10 [00:00<?, ?it/s]"
      ]
     },
     "metadata": {},
     "output_type": "display_data"
    },
    {
     "data": {
      "application/vnd.jupyter.widget-view+json": {
       "model_id": "7c03c774a4bc4a54a555ac510e13d82d",
       "version_major": 2,
       "version_minor": 0
      },
      "text/plain": [
       "  0%|          | 0/10 [00:00<?, ?it/s]"
      ]
     },
     "metadata": {},
     "output_type": "display_data"
    },
    {
     "data": {
      "application/vnd.jupyter.widget-view+json": {
       "model_id": "d67528364d7c49f78591880d123e5dea",
       "version_major": 2,
       "version_minor": 0
      },
      "text/plain": [
       "  0%|          | 0/10 [00:00<?, ?it/s]"
      ]
     },
     "metadata": {},
     "output_type": "display_data"
    },
    {
     "data": {
      "application/vnd.jupyter.widget-view+json": {
       "model_id": "115c8bee041f4c1dabd13e7d76322ad5",
       "version_major": 2,
       "version_minor": 0
      },
      "text/plain": [
       "  0%|          | 0/10 [00:00<?, ?it/s]"
      ]
     },
     "metadata": {},
     "output_type": "display_data"
    },
    {
     "data": {
      "application/vnd.jupyter.widget-view+json": {
       "model_id": "4475eb6b7f1d4fbb95a3ab849e483783",
       "version_major": 2,
       "version_minor": 0
      },
      "text/plain": [
       "  0%|          | 0/10 [00:00<?, ?it/s]"
      ]
     },
     "metadata": {},
     "output_type": "display_data"
    },
    {
     "data": {
      "application/vnd.jupyter.widget-view+json": {
       "model_id": "3e99c658cc4943259bff4c383fc79f14",
       "version_major": 2,
       "version_minor": 0
      },
      "text/plain": [
       "  0%|          | 0/10 [00:00<?, ?it/s]"
      ]
     },
     "metadata": {},
     "output_type": "display_data"
    },
    {
     "data": {
      "application/vnd.jupyter.widget-view+json": {
       "model_id": "96954a25749d4af48b4fa11dea7c1c1f",
       "version_major": 2,
       "version_minor": 0
      },
      "text/plain": [
       "  0%|          | 0/10 [00:00<?, ?it/s]"
      ]
     },
     "metadata": {},
     "output_type": "display_data"
    },
    {
     "data": {
      "application/vnd.jupyter.widget-view+json": {
       "model_id": "98373caf0a2e4ca2964dd3be00d907b7",
       "version_major": 2,
       "version_minor": 0
      },
      "text/plain": [
       "  0%|          | 0/10 [00:00<?, ?it/s]"
      ]
     },
     "metadata": {},
     "output_type": "display_data"
    },
    {
     "data": {
      "application/vnd.jupyter.widget-view+json": {
       "model_id": "a0eb5f63ba544dec93c08fc57bed0ba8",
       "version_major": 2,
       "version_minor": 0
      },
      "text/plain": [
       "  0%|          | 0/10 [00:00<?, ?it/s]"
      ]
     },
     "metadata": {},
     "output_type": "display_data"
    },
    {
     "data": {
      "application/vnd.jupyter.widget-view+json": {
       "model_id": "13d68f2396cd47dfa86f455ef8a1620d",
       "version_major": 2,
       "version_minor": 0
      },
      "text/plain": [
       "  0%|          | 0/10 [00:00<?, ?it/s]"
      ]
     },
     "metadata": {},
     "output_type": "display_data"
    },
    {
     "data": {
      "application/vnd.jupyter.widget-view+json": {
       "model_id": "4d0bb9f3328d44e5a743368a240a69a8",
       "version_major": 2,
       "version_minor": 0
      },
      "text/plain": [
       "  0%|          | 0/10 [00:00<?, ?it/s]"
      ]
     },
     "metadata": {},
     "output_type": "display_data"
    },
    {
     "data": {
      "application/vnd.jupyter.widget-view+json": {
       "model_id": "d4d40238ceec4744a78fd8db6dcc0c35",
       "version_major": 2,
       "version_minor": 0
      },
      "text/plain": [
       "  0%|          | 0/10 [00:00<?, ?it/s]"
      ]
     },
     "metadata": {},
     "output_type": "display_data"
    },
    {
     "data": {
      "application/vnd.jupyter.widget-view+json": {
       "model_id": "238a19fb09a34c2e98bfc457a72fd0e7",
       "version_major": 2,
       "version_minor": 0
      },
      "text/plain": [
       "  0%|          | 0/10 [00:00<?, ?it/s]"
      ]
     },
     "metadata": {},
     "output_type": "display_data"
    },
    {
     "data": {
      "application/vnd.jupyter.widget-view+json": {
       "model_id": "01b9da11409e463990254e2d8cf6fc3a",
       "version_major": 2,
       "version_minor": 0
      },
      "text/plain": [
       "  0%|          | 0/10 [00:00<?, ?it/s]"
      ]
     },
     "metadata": {},
     "output_type": "display_data"
    },
    {
     "data": {
      "application/vnd.jupyter.widget-view+json": {
       "model_id": "624aad24a3aa4833bdf5dec5eebbbc5e",
       "version_major": 2,
       "version_minor": 0
      },
      "text/plain": [
       "  0%|          | 0/10 [00:00<?, ?it/s]"
      ]
     },
     "metadata": {},
     "output_type": "display_data"
    },
    {
     "data": {
      "application/vnd.jupyter.widget-view+json": {
       "model_id": "0f23788ab4c54f2581cd8c6ff563a596",
       "version_major": 2,
       "version_minor": 0
      },
      "text/plain": [
       "  0%|          | 0/10 [00:00<?, ?it/s]"
      ]
     },
     "metadata": {},
     "output_type": "display_data"
    },
    {
     "data": {
      "application/vnd.jupyter.widget-view+json": {
       "model_id": "dd670918c28d43039b762341961be939",
       "version_major": 2,
       "version_minor": 0
      },
      "text/plain": [
       "  0%|          | 0/10 [00:00<?, ?it/s]"
      ]
     },
     "metadata": {},
     "output_type": "display_data"
    },
    {
     "data": {
      "application/vnd.jupyter.widget-view+json": {
       "model_id": "36c8c9bae13944288a542c3f08c55ff0",
       "version_major": 2,
       "version_minor": 0
      },
      "text/plain": [
       "  0%|          | 0/10 [00:00<?, ?it/s]"
      ]
     },
     "metadata": {},
     "output_type": "display_data"
    },
    {
     "data": {
      "application/vnd.jupyter.widget-view+json": {
       "model_id": "d5b8e48181bc49c4a6cb7b1d7122873d",
       "version_major": 2,
       "version_minor": 0
      },
      "text/plain": [
       "  0%|          | 0/10 [00:00<?, ?it/s]"
      ]
     },
     "metadata": {},
     "output_type": "display_data"
    },
    {
     "data": {
      "application/vnd.jupyter.widget-view+json": {
       "model_id": "b9cef7ee75144f0198b9f1a634e20733",
       "version_major": 2,
       "version_minor": 0
      },
      "text/plain": [
       "  0%|          | 0/10 [00:00<?, ?it/s]"
      ]
     },
     "metadata": {},
     "output_type": "display_data"
    },
    {
     "data": {
      "application/vnd.jupyter.widget-view+json": {
       "model_id": "2b67ed9ae429455299203d250143c636",
       "version_major": 2,
       "version_minor": 0
      },
      "text/plain": [
       "  0%|          | 0/10 [00:00<?, ?it/s]"
      ]
     },
     "metadata": {},
     "output_type": "display_data"
    },
    {
     "data": {
      "application/vnd.jupyter.widget-view+json": {
       "model_id": "e3b0a032ae504fb7a7fa1431ea4eeb5a",
       "version_major": 2,
       "version_minor": 0
      },
      "text/plain": [
       "  0%|          | 0/10 [00:00<?, ?it/s]"
      ]
     },
     "metadata": {},
     "output_type": "display_data"
    },
    {
     "data": {
      "application/vnd.jupyter.widget-view+json": {
       "model_id": "998f8b839bff49f4939d02f02f1f953e",
       "version_major": 2,
       "version_minor": 0
      },
      "text/plain": [
       "  0%|          | 0/10 [00:00<?, ?it/s]"
      ]
     },
     "metadata": {},
     "output_type": "display_data"
    },
    {
     "data": {
      "application/vnd.jupyter.widget-view+json": {
       "model_id": "6b13f73b17e74cceafe6a01fb50794cc",
       "version_major": 2,
       "version_minor": 0
      },
      "text/plain": [
       "  0%|          | 0/10 [00:00<?, ?it/s]"
      ]
     },
     "metadata": {},
     "output_type": "display_data"
    },
    {
     "data": {
      "application/vnd.jupyter.widget-view+json": {
       "model_id": "a0df0e9f255840469b971ca3f383b4ab",
       "version_major": 2,
       "version_minor": 0
      },
      "text/plain": [
       "  0%|          | 0/10 [00:00<?, ?it/s]"
      ]
     },
     "metadata": {},
     "output_type": "display_data"
    },
    {
     "data": {
      "application/vnd.jupyter.widget-view+json": {
       "model_id": "2336d336dae4468fa8973ed14613a36e",
       "version_major": 2,
       "version_minor": 0
      },
      "text/plain": [
       "  0%|          | 0/10 [00:00<?, ?it/s]"
      ]
     },
     "metadata": {},
     "output_type": "display_data"
    },
    {
     "data": {
      "application/vnd.jupyter.widget-view+json": {
       "model_id": "ce9c5a5f223d4294b837fc48a986f45f",
       "version_major": 2,
       "version_minor": 0
      },
      "text/plain": [
       "  0%|          | 0/10 [00:00<?, ?it/s]"
      ]
     },
     "metadata": {},
     "output_type": "display_data"
    },
    {
     "data": {
      "application/vnd.jupyter.widget-view+json": {
       "model_id": "13d7e1d9444e454b99cddc96cac4b2e9",
       "version_major": 2,
       "version_minor": 0
      },
      "text/plain": [
       "  0%|          | 0/10 [00:00<?, ?it/s]"
      ]
     },
     "metadata": {},
     "output_type": "display_data"
    },
    {
     "data": {
      "application/vnd.jupyter.widget-view+json": {
       "model_id": "7cc81b400808490b989434b79eec90f8",
       "version_major": 2,
       "version_minor": 0
      },
      "text/plain": [
       "  0%|          | 0/10 [00:00<?, ?it/s]"
      ]
     },
     "metadata": {},
     "output_type": "display_data"
    },
    {
     "data": {
      "application/vnd.jupyter.widget-view+json": {
       "model_id": "6adceafe2cfd42e7a48f546a93e8a1c4",
       "version_major": 2,
       "version_minor": 0
      },
      "text/plain": [
       "  0%|          | 0/10 [00:00<?, ?it/s]"
      ]
     },
     "metadata": {},
     "output_type": "display_data"
    },
    {
     "data": {
      "application/vnd.jupyter.widget-view+json": {
       "model_id": "1ddb226e3b1140d5b5d30622a05da17f",
       "version_major": 2,
       "version_minor": 0
      },
      "text/plain": [
       "  0%|          | 0/10 [00:00<?, ?it/s]"
      ]
     },
     "metadata": {},
     "output_type": "display_data"
    },
    {
     "data": {
      "application/vnd.jupyter.widget-view+json": {
       "model_id": "81fd714039344d94b3350dce6a523167",
       "version_major": 2,
       "version_minor": 0
      },
      "text/plain": [
       "  0%|          | 0/10 [00:00<?, ?it/s]"
      ]
     },
     "metadata": {},
     "output_type": "display_data"
    },
    {
     "data": {
      "application/vnd.jupyter.widget-view+json": {
       "model_id": "ee4980a618314eaaa702ca4fa72c2322",
       "version_major": 2,
       "version_minor": 0
      },
      "text/plain": [
       "  0%|          | 0/10 [00:00<?, ?it/s]"
      ]
     },
     "metadata": {},
     "output_type": "display_data"
    },
    {
     "data": {
      "application/vnd.jupyter.widget-view+json": {
       "model_id": "8e6d284bf9aa4c65a168a9c80699e464",
       "version_major": 2,
       "version_minor": 0
      },
      "text/plain": [
       "  0%|          | 0/10 [00:00<?, ?it/s]"
      ]
     },
     "metadata": {},
     "output_type": "display_data"
    },
    {
     "data": {
      "application/vnd.jupyter.widget-view+json": {
       "model_id": "afcd314b390d419490418e274d8419f9",
       "version_major": 2,
       "version_minor": 0
      },
      "text/plain": [
       "  0%|          | 0/10 [00:00<?, ?it/s]"
      ]
     },
     "metadata": {},
     "output_type": "display_data"
    },
    {
     "data": {
      "application/vnd.jupyter.widget-view+json": {
       "model_id": "c1669f4dea334fba87df628921a4a4d3",
       "version_major": 2,
       "version_minor": 0
      },
      "text/plain": [
       "  0%|          | 0/10 [00:00<?, ?it/s]"
      ]
     },
     "metadata": {},
     "output_type": "display_data"
    },
    {
     "data": {
      "application/vnd.jupyter.widget-view+json": {
       "model_id": "182564aed4c84f0db62b2c506f4e9e1b",
       "version_major": 2,
       "version_minor": 0
      },
      "text/plain": [
       "  0%|          | 0/10 [00:00<?, ?it/s]"
      ]
     },
     "metadata": {},
     "output_type": "display_data"
    },
    {
     "data": {
      "application/vnd.jupyter.widget-view+json": {
       "model_id": "9c1363744e5745eabab751e84b93a52a",
       "version_major": 2,
       "version_minor": 0
      },
      "text/plain": [
       "  0%|          | 0/10 [00:00<?, ?it/s]"
      ]
     },
     "metadata": {},
     "output_type": "display_data"
    },
    {
     "data": {
      "application/vnd.jupyter.widget-view+json": {
       "model_id": "903fb3b574fe469abd0ed986555e22e9",
       "version_major": 2,
       "version_minor": 0
      },
      "text/plain": [
       "  0%|          | 0/10 [00:00<?, ?it/s]"
      ]
     },
     "metadata": {},
     "output_type": "display_data"
    },
    {
     "data": {
      "application/vnd.jupyter.widget-view+json": {
       "model_id": "3db6424f8255423db932669f5297e24a",
       "version_major": 2,
       "version_minor": 0
      },
      "text/plain": [
       "  0%|          | 0/10 [00:00<?, ?it/s]"
      ]
     },
     "metadata": {},
     "output_type": "display_data"
    },
    {
     "data": {
      "application/vnd.jupyter.widget-view+json": {
       "model_id": "9ae772b3ceed403d9dc144158de35b94",
       "version_major": 2,
       "version_minor": 0
      },
      "text/plain": [
       "  0%|          | 0/10 [00:00<?, ?it/s]"
      ]
     },
     "metadata": {},
     "output_type": "display_data"
    },
    {
     "data": {
      "application/vnd.jupyter.widget-view+json": {
       "model_id": "440f628bfd9c4a2b9025b763a350353b",
       "version_major": 2,
       "version_minor": 0
      },
      "text/plain": [
       "  0%|          | 0/10 [00:00<?, ?it/s]"
      ]
     },
     "metadata": {},
     "output_type": "display_data"
    },
    {
     "data": {
      "application/vnd.jupyter.widget-view+json": {
       "model_id": "8417309c82534ec0845e04e308e14e6e",
       "version_major": 2,
       "version_minor": 0
      },
      "text/plain": [
       "  0%|          | 0/10 [00:00<?, ?it/s]"
      ]
     },
     "metadata": {},
     "output_type": "display_data"
    },
    {
     "data": {
      "application/vnd.jupyter.widget-view+json": {
       "model_id": "f47726c02999467cacf9252a9642eb1c",
       "version_major": 2,
       "version_minor": 0
      },
      "text/plain": [
       "  0%|          | 0/10 [00:00<?, ?it/s]"
      ]
     },
     "metadata": {},
     "output_type": "display_data"
    },
    {
     "data": {
      "application/vnd.jupyter.widget-view+json": {
       "model_id": "57a7be95f66347c0892e6c12d18d1cec",
       "version_major": 2,
       "version_minor": 0
      },
      "text/plain": [
       "  0%|          | 0/10 [00:00<?, ?it/s]"
      ]
     },
     "metadata": {},
     "output_type": "display_data"
    },
    {
     "data": {
      "application/vnd.jupyter.widget-view+json": {
       "model_id": "60942e891eeb4360b6747dd1f62c6486",
       "version_major": 2,
       "version_minor": 0
      },
      "text/plain": [
       "  0%|          | 0/10 [00:00<?, ?it/s]"
      ]
     },
     "metadata": {},
     "output_type": "display_data"
    },
    {
     "data": {
      "application/vnd.jupyter.widget-view+json": {
       "model_id": "ae430cd2fd434921abc470b61488ba08",
       "version_major": 2,
       "version_minor": 0
      },
      "text/plain": [
       "  0%|          | 0/10 [00:00<?, ?it/s]"
      ]
     },
     "metadata": {},
     "output_type": "display_data"
    },
    {
     "data": {
      "application/vnd.jupyter.widget-view+json": {
       "model_id": "91ed632454f942a39e26a504cfe2b720",
       "version_major": 2,
       "version_minor": 0
      },
      "text/plain": [
       "  0%|          | 0/10 [00:00<?, ?it/s]"
      ]
     },
     "metadata": {},
     "output_type": "display_data"
    },
    {
     "data": {
      "application/vnd.jupyter.widget-view+json": {
       "model_id": "00516bfea4c74914b9294387742d5f17",
       "version_major": 2,
       "version_minor": 0
      },
      "text/plain": [
       "  0%|          | 0/10 [00:00<?, ?it/s]"
      ]
     },
     "metadata": {},
     "output_type": "display_data"
    },
    {
     "data": {
      "application/vnd.jupyter.widget-view+json": {
       "model_id": "fc8b96517bfa42d1acb485ad07bb7097",
       "version_major": 2,
       "version_minor": 0
      },
      "text/plain": [
       "  0%|          | 0/10 [00:00<?, ?it/s]"
      ]
     },
     "metadata": {},
     "output_type": "display_data"
    },
    {
     "data": {
      "application/vnd.jupyter.widget-view+json": {
       "model_id": "c2b6f6a9301a4d608641d18f2ea4df57",
       "version_major": 2,
       "version_minor": 0
      },
      "text/plain": [
       "  0%|          | 0/10 [00:00<?, ?it/s]"
      ]
     },
     "metadata": {},
     "output_type": "display_data"
    },
    {
     "data": {
      "application/vnd.jupyter.widget-view+json": {
       "model_id": "80a74bde0cf04e09b658f1b02b98d244",
       "version_major": 2,
       "version_minor": 0
      },
      "text/plain": [
       "  0%|          | 0/10 [00:00<?, ?it/s]"
      ]
     },
     "metadata": {},
     "output_type": "display_data"
    },
    {
     "data": {
      "application/vnd.jupyter.widget-view+json": {
       "model_id": "2162fcdf02bd486ba380e422de71941d",
       "version_major": 2,
       "version_minor": 0
      },
      "text/plain": [
       "  0%|          | 0/10 [00:00<?, ?it/s]"
      ]
     },
     "metadata": {},
     "output_type": "display_data"
    },
    {
     "data": {
      "application/vnd.jupyter.widget-view+json": {
       "model_id": "0849e43b3bb14aef9d0d688ae0e02f38",
       "version_major": 2,
       "version_minor": 0
      },
      "text/plain": [
       "  0%|          | 0/10 [00:00<?, ?it/s]"
      ]
     },
     "metadata": {},
     "output_type": "display_data"
    },
    {
     "data": {
      "application/vnd.jupyter.widget-view+json": {
       "model_id": "3c3fd14e40f94eeaa846c2a597fb8b22",
       "version_major": 2,
       "version_minor": 0
      },
      "text/plain": [
       "  0%|          | 0/10 [00:00<?, ?it/s]"
      ]
     },
     "metadata": {},
     "output_type": "display_data"
    },
    {
     "data": {
      "application/vnd.jupyter.widget-view+json": {
       "model_id": "69312846a3884231a3f0a5d8b3e6b7ec",
       "version_major": 2,
       "version_minor": 0
      },
      "text/plain": [
       "  0%|          | 0/10 [00:00<?, ?it/s]"
      ]
     },
     "metadata": {},
     "output_type": "display_data"
    },
    {
     "data": {
      "application/vnd.jupyter.widget-view+json": {
       "model_id": "81a49236783040d9a5018ce804f6f9eb",
       "version_major": 2,
       "version_minor": 0
      },
      "text/plain": [
       "  0%|          | 0/10 [00:00<?, ?it/s]"
      ]
     },
     "metadata": {},
     "output_type": "display_data"
    },
    {
     "data": {
      "application/vnd.jupyter.widget-view+json": {
       "model_id": "2a77ae85df764ce68f000ac2d4091453",
       "version_major": 2,
       "version_minor": 0
      },
      "text/plain": [
       "  0%|          | 0/10 [00:00<?, ?it/s]"
      ]
     },
     "metadata": {},
     "output_type": "display_data"
    },
    {
     "data": {
      "application/vnd.jupyter.widget-view+json": {
       "model_id": "09e0d7d813604d089efa29815520e651",
       "version_major": 2,
       "version_minor": 0
      },
      "text/plain": [
       "  0%|          | 0/10 [00:00<?, ?it/s]"
      ]
     },
     "metadata": {},
     "output_type": "display_data"
    },
    {
     "data": {
      "application/vnd.jupyter.widget-view+json": {
       "model_id": "493ab3cf7b06458089e5bb995355f808",
       "version_major": 2,
       "version_minor": 0
      },
      "text/plain": [
       "  0%|          | 0/10 [00:00<?, ?it/s]"
      ]
     },
     "metadata": {},
     "output_type": "display_data"
    },
    {
     "data": {
      "application/vnd.jupyter.widget-view+json": {
       "model_id": "28e5c947b6724dfca52b8f6a5bd1520d",
       "version_major": 2,
       "version_minor": 0
      },
      "text/plain": [
       "  0%|          | 0/10 [00:00<?, ?it/s]"
      ]
     },
     "metadata": {},
     "output_type": "display_data"
    },
    {
     "data": {
      "application/vnd.jupyter.widget-view+json": {
       "model_id": "b035da7ba8bb460a869597af5e080a84",
       "version_major": 2,
       "version_minor": 0
      },
      "text/plain": [
       "  0%|          | 0/10 [00:00<?, ?it/s]"
      ]
     },
     "metadata": {},
     "output_type": "display_data"
    },
    {
     "data": {
      "application/vnd.jupyter.widget-view+json": {
       "model_id": "df2a0b1ecb4b4316b9003cd0a67328a0",
       "version_major": 2,
       "version_minor": 0
      },
      "text/plain": [
       "  0%|          | 0/10 [00:00<?, ?it/s]"
      ]
     },
     "metadata": {},
     "output_type": "display_data"
    },
    {
     "data": {
      "application/vnd.jupyter.widget-view+json": {
       "model_id": "ae644f992c7740f6bf05da93bab588b2",
       "version_major": 2,
       "version_minor": 0
      },
      "text/plain": [
       "  0%|          | 0/10 [00:00<?, ?it/s]"
      ]
     },
     "metadata": {},
     "output_type": "display_data"
    },
    {
     "data": {
      "application/vnd.jupyter.widget-view+json": {
       "model_id": "4224873fc70e45ceb9a00513ad0d08c1",
       "version_major": 2,
       "version_minor": 0
      },
      "text/plain": [
       "  0%|          | 0/10 [00:00<?, ?it/s]"
      ]
     },
     "metadata": {},
     "output_type": "display_data"
    },
    {
     "data": {
      "application/vnd.jupyter.widget-view+json": {
       "model_id": "c8418941447d4dac8aca99a1ce4bfd51",
       "version_major": 2,
       "version_minor": 0
      },
      "text/plain": [
       "  0%|          | 0/10 [00:00<?, ?it/s]"
      ]
     },
     "metadata": {},
     "output_type": "display_data"
    },
    {
     "data": {
      "application/vnd.jupyter.widget-view+json": {
       "model_id": "85283124616345ab926f2de2ff8405f5",
       "version_major": 2,
       "version_minor": 0
      },
      "text/plain": [
       "  0%|          | 0/10 [00:00<?, ?it/s]"
      ]
     },
     "metadata": {},
     "output_type": "display_data"
    },
    {
     "data": {
      "application/vnd.jupyter.widget-view+json": {
       "model_id": "3d60dee0b707465caf320e49d405d7a0",
       "version_major": 2,
       "version_minor": 0
      },
      "text/plain": [
       "  0%|          | 0/10 [00:00<?, ?it/s]"
      ]
     },
     "metadata": {},
     "output_type": "display_data"
    },
    {
     "data": {
      "application/vnd.jupyter.widget-view+json": {
       "model_id": "10a9f7bb88cb4d7c82b38a5669b4de6a",
       "version_major": 2,
       "version_minor": 0
      },
      "text/plain": [
       "  0%|          | 0/10 [00:00<?, ?it/s]"
      ]
     },
     "metadata": {},
     "output_type": "display_data"
    },
    {
     "data": {
      "application/vnd.jupyter.widget-view+json": {
       "model_id": "81f0ea332c784ff1a9e9dda038b445ec",
       "version_major": 2,
       "version_minor": 0
      },
      "text/plain": [
       "  0%|          | 0/10 [00:00<?, ?it/s]"
      ]
     },
     "metadata": {},
     "output_type": "display_data"
    },
    {
     "data": {
      "application/vnd.jupyter.widget-view+json": {
       "model_id": "2cdf9afc3eba4b68bf342f08303a2b4f",
       "version_major": 2,
       "version_minor": 0
      },
      "text/plain": [
       "  0%|          | 0/10 [00:00<?, ?it/s]"
      ]
     },
     "metadata": {},
     "output_type": "display_data"
    },
    {
     "data": {
      "application/vnd.jupyter.widget-view+json": {
       "model_id": "6d348399b09a4990aee1c45132cbfcbd",
       "version_major": 2,
       "version_minor": 0
      },
      "text/plain": [
       "  0%|          | 0/10 [00:00<?, ?it/s]"
      ]
     },
     "metadata": {},
     "output_type": "display_data"
    },
    {
     "data": {
      "application/vnd.jupyter.widget-view+json": {
       "model_id": "d44db789a24b4dc3ab1c66b2fd35c5b2",
       "version_major": 2,
       "version_minor": 0
      },
      "text/plain": [
       "  0%|          | 0/10 [00:00<?, ?it/s]"
      ]
     },
     "metadata": {},
     "output_type": "display_data"
    },
    {
     "data": {
      "application/vnd.jupyter.widget-view+json": {
       "model_id": "d6a3ad66ee824792936276da5536e8bf",
       "version_major": 2,
       "version_minor": 0
      },
      "text/plain": [
       "  0%|          | 0/10 [00:00<?, ?it/s]"
      ]
     },
     "metadata": {},
     "output_type": "display_data"
    },
    {
     "data": {
      "application/vnd.jupyter.widget-view+json": {
       "model_id": "19569fc027c548098cd281936e06df40",
       "version_major": 2,
       "version_minor": 0
      },
      "text/plain": [
       "  0%|          | 0/10 [00:00<?, ?it/s]"
      ]
     },
     "metadata": {},
     "output_type": "display_data"
    },
    {
     "data": {
      "application/vnd.jupyter.widget-view+json": {
       "model_id": "5c0ba8181df343f3bfbecedd821be89b",
       "version_major": 2,
       "version_minor": 0
      },
      "text/plain": [
       "  0%|          | 0/10 [00:00<?, ?it/s]"
      ]
     },
     "metadata": {},
     "output_type": "display_data"
    },
    {
     "data": {
      "application/vnd.jupyter.widget-view+json": {
       "model_id": "a837910ca42846f4b386bb892f72b1a7",
       "version_major": 2,
       "version_minor": 0
      },
      "text/plain": [
       "  0%|          | 0/10 [00:00<?, ?it/s]"
      ]
     },
     "metadata": {},
     "output_type": "display_data"
    },
    {
     "data": {
      "application/vnd.jupyter.widget-view+json": {
       "model_id": "569603281fcf426c87ba7d5b09f7aca1",
       "version_major": 2,
       "version_minor": 0
      },
      "text/plain": [
       "  0%|          | 0/10 [00:00<?, ?it/s]"
      ]
     },
     "metadata": {},
     "output_type": "display_data"
    },
    {
     "data": {
      "application/vnd.jupyter.widget-view+json": {
       "model_id": "be260c2551ca4f01946168b3e014df27",
       "version_major": 2,
       "version_minor": 0
      },
      "text/plain": [
       "  0%|          | 0/10 [00:00<?, ?it/s]"
      ]
     },
     "metadata": {},
     "output_type": "display_data"
    },
    {
     "data": {
      "application/vnd.jupyter.widget-view+json": {
       "model_id": "547141ebbe1d4c7183fb244ee784d77f",
       "version_major": 2,
       "version_minor": 0
      },
      "text/plain": [
       "  0%|          | 0/10 [00:00<?, ?it/s]"
      ]
     },
     "metadata": {},
     "output_type": "display_data"
    },
    {
     "data": {
      "application/vnd.jupyter.widget-view+json": {
       "model_id": "3af9f19eb6b3462aa27c3c62c2b1b8ff",
       "version_major": 2,
       "version_minor": 0
      },
      "text/plain": [
       "  0%|          | 0/10 [00:00<?, ?it/s]"
      ]
     },
     "metadata": {},
     "output_type": "display_data"
    },
    {
     "data": {
      "application/vnd.jupyter.widget-view+json": {
       "model_id": "23269eb2b47c43729cf91507053c30c4",
       "version_major": 2,
       "version_minor": 0
      },
      "text/plain": [
       "  0%|          | 0/10 [00:00<?, ?it/s]"
      ]
     },
     "metadata": {},
     "output_type": "display_data"
    },
    {
     "data": {
      "application/vnd.jupyter.widget-view+json": {
       "model_id": "260d9cdb9b23416db204b01b136efcff",
       "version_major": 2,
       "version_minor": 0
      },
      "text/plain": [
       "  0%|          | 0/10 [00:00<?, ?it/s]"
      ]
     },
     "metadata": {},
     "output_type": "display_data"
    },
    {
     "data": {
      "application/vnd.jupyter.widget-view+json": {
       "model_id": "6594b27474f547a89a9cd056d0669cfb",
       "version_major": 2,
       "version_minor": 0
      },
      "text/plain": [
       "  0%|          | 0/10 [00:00<?, ?it/s]"
      ]
     },
     "metadata": {},
     "output_type": "display_data"
    },
    {
     "data": {
      "application/vnd.jupyter.widget-view+json": {
       "model_id": "de8be1d7736e40eaa099a94ae0458973",
       "version_major": 2,
       "version_minor": 0
      },
      "text/plain": [
       "  0%|          | 0/10 [00:00<?, ?it/s]"
      ]
     },
     "metadata": {},
     "output_type": "display_data"
    },
    {
     "data": {
      "application/vnd.jupyter.widget-view+json": {
       "model_id": "9740aab504bc4b3e9aaf9eb34c1a8bc7",
       "version_major": 2,
       "version_minor": 0
      },
      "text/plain": [
       "  0%|          | 0/10 [00:00<?, ?it/s]"
      ]
     },
     "metadata": {},
     "output_type": "display_data"
    },
    {
     "data": {
      "application/vnd.jupyter.widget-view+json": {
       "model_id": "6ec8cc3b48b246cea46e10d8065cc85a",
       "version_major": 2,
       "version_minor": 0
      },
      "text/plain": [
       "  0%|          | 0/10 [00:00<?, ?it/s]"
      ]
     },
     "metadata": {},
     "output_type": "display_data"
    },
    {
     "data": {
      "application/vnd.jupyter.widget-view+json": {
       "model_id": "27215905f0e743bd91e2c2e3329e98eb",
       "version_major": 2,
       "version_minor": 0
      },
      "text/plain": [
       "  0%|          | 0/10 [00:00<?, ?it/s]"
      ]
     },
     "metadata": {},
     "output_type": "display_data"
    },
    {
     "data": {
      "application/vnd.jupyter.widget-view+json": {
       "model_id": "0d0f9fcb1a75476a9336008ffda738db",
       "version_major": 2,
       "version_minor": 0
      },
      "text/plain": [
       "  0%|          | 0/10 [00:00<?, ?it/s]"
      ]
     },
     "metadata": {},
     "output_type": "display_data"
    },
    {
     "data": {
      "application/vnd.jupyter.widget-view+json": {
       "model_id": "a6be63b6a15c4ed3bd562e1f4f80b4ee",
       "version_major": 2,
       "version_minor": 0
      },
      "text/plain": [
       "  0%|          | 0/10 [00:00<?, ?it/s]"
      ]
     },
     "metadata": {},
     "output_type": "display_data"
    },
    {
     "data": {
      "application/vnd.jupyter.widget-view+json": {
       "model_id": "4bf3db730863444798d982b651a9f891",
       "version_major": 2,
       "version_minor": 0
      },
      "text/plain": [
       "  0%|          | 0/10 [00:00<?, ?it/s]"
      ]
     },
     "metadata": {},
     "output_type": "display_data"
    },
    {
     "data": {
      "application/vnd.jupyter.widget-view+json": {
       "model_id": "66d0fa3181dc4d6bad3d04cf22c2aee4",
       "version_major": 2,
       "version_minor": 0
      },
      "text/plain": [
       "  0%|          | 0/10 [00:00<?, ?it/s]"
      ]
     },
     "metadata": {},
     "output_type": "display_data"
    },
    {
     "data": {
      "application/vnd.jupyter.widget-view+json": {
       "model_id": "6ab731cf5498448797bc3bf7117653aa",
       "version_major": 2,
       "version_minor": 0
      },
      "text/plain": [
       "  0%|          | 0/10 [00:00<?, ?it/s]"
      ]
     },
     "metadata": {},
     "output_type": "display_data"
    },
    {
     "data": {
      "application/vnd.jupyter.widget-view+json": {
       "model_id": "f1efd99424c046a2aee8ca2b1783a3db",
       "version_major": 2,
       "version_minor": 0
      },
      "text/plain": [
       "  0%|          | 0/10 [00:00<?, ?it/s]"
      ]
     },
     "metadata": {},
     "output_type": "display_data"
    },
    {
     "data": {
      "application/vnd.jupyter.widget-view+json": {
       "model_id": "169a55cac5354f7f85edcfc9d96f50fb",
       "version_major": 2,
       "version_minor": 0
      },
      "text/plain": [
       "  0%|          | 0/10 [00:00<?, ?it/s]"
      ]
     },
     "metadata": {},
     "output_type": "display_data"
    },
    {
     "data": {
      "application/vnd.jupyter.widget-view+json": {
       "model_id": "696901e06b9d4f04b29956b2d8b704ad",
       "version_major": 2,
       "version_minor": 0
      },
      "text/plain": [
       "  0%|          | 0/10 [00:00<?, ?it/s]"
      ]
     },
     "metadata": {},
     "output_type": "display_data"
    },
    {
     "data": {
      "application/vnd.jupyter.widget-view+json": {
       "model_id": "c6cc230951bd450caa5f8008e283bbca",
       "version_major": 2,
       "version_minor": 0
      },
      "text/plain": [
       "  0%|          | 0/10 [00:00<?, ?it/s]"
      ]
     },
     "metadata": {},
     "output_type": "display_data"
    },
    {
     "data": {
      "application/vnd.jupyter.widget-view+json": {
       "model_id": "fc70e470f19b435483ca9b03abbf15f2",
       "version_major": 2,
       "version_minor": 0
      },
      "text/plain": [
       "  0%|          | 0/10 [00:00<?, ?it/s]"
      ]
     },
     "metadata": {},
     "output_type": "display_data"
    },
    {
     "data": {
      "application/vnd.jupyter.widget-view+json": {
       "model_id": "03d1edf02e06418aac3cdfb16d839d26",
       "version_major": 2,
       "version_minor": 0
      },
      "text/plain": [
       "  0%|          | 0/10 [00:00<?, ?it/s]"
      ]
     },
     "metadata": {},
     "output_type": "display_data"
    },
    {
     "data": {
      "application/vnd.jupyter.widget-view+json": {
       "model_id": "ff40c89f89d74a53b7646b62cad3f146",
       "version_major": 2,
       "version_minor": 0
      },
      "text/plain": [
       "  0%|          | 0/10 [00:00<?, ?it/s]"
      ]
     },
     "metadata": {},
     "output_type": "display_data"
    },
    {
     "data": {
      "application/vnd.jupyter.widget-view+json": {
       "model_id": "a0dd8484ad9748539ed7597206b01a84",
       "version_major": 2,
       "version_minor": 0
      },
      "text/plain": [
       "  0%|          | 0/10 [00:00<?, ?it/s]"
      ]
     },
     "metadata": {},
     "output_type": "display_data"
    },
    {
     "data": {
      "application/vnd.jupyter.widget-view+json": {
       "model_id": "768cc83dec2c411f8df7b17d26f3aea5",
       "version_major": 2,
       "version_minor": 0
      },
      "text/plain": [
       "  0%|          | 0/10 [00:00<?, ?it/s]"
      ]
     },
     "metadata": {},
     "output_type": "display_data"
    },
    {
     "data": {
      "application/vnd.jupyter.widget-view+json": {
       "model_id": "c7775ae484ff490582d73558c9edefa6",
       "version_major": 2,
       "version_minor": 0
      },
      "text/plain": [
       "  0%|          | 0/10 [00:00<?, ?it/s]"
      ]
     },
     "metadata": {},
     "output_type": "display_data"
    },
    {
     "data": {
      "application/vnd.jupyter.widget-view+json": {
       "model_id": "6e2749a716164acbbcb66c4c4edb23d8",
       "version_major": 2,
       "version_minor": 0
      },
      "text/plain": [
       "  0%|          | 0/10 [00:00<?, ?it/s]"
      ]
     },
     "metadata": {},
     "output_type": "display_data"
    },
    {
     "data": {
      "application/vnd.jupyter.widget-view+json": {
       "model_id": "fe31dabb5ee64b9bae102c69720bf78a",
       "version_major": 2,
       "version_minor": 0
      },
      "text/plain": [
       "  0%|          | 0/10 [00:00<?, ?it/s]"
      ]
     },
     "metadata": {},
     "output_type": "display_data"
    },
    {
     "data": {
      "application/vnd.jupyter.widget-view+json": {
       "model_id": "3b54d572d87c4db69e835a0175f768c9",
       "version_major": 2,
       "version_minor": 0
      },
      "text/plain": [
       "  0%|          | 0/10 [00:00<?, ?it/s]"
      ]
     },
     "metadata": {},
     "output_type": "display_data"
    },
    {
     "data": {
      "application/vnd.jupyter.widget-view+json": {
       "model_id": "023caac3c423416685fdb4fc6379ac8b",
       "version_major": 2,
       "version_minor": 0
      },
      "text/plain": [
       "  0%|          | 0/10 [00:00<?, ?it/s]"
      ]
     },
     "metadata": {},
     "output_type": "display_data"
    },
    {
     "data": {
      "application/vnd.jupyter.widget-view+json": {
       "model_id": "36d626439c524f9d983a6629fd7490ec",
       "version_major": 2,
       "version_minor": 0
      },
      "text/plain": [
       "  0%|          | 0/10 [00:00<?, ?it/s]"
      ]
     },
     "metadata": {},
     "output_type": "display_data"
    },
    {
     "data": {
      "application/vnd.jupyter.widget-view+json": {
       "model_id": "59d5ed35f85e412eabb52eefcc2304f5",
       "version_major": 2,
       "version_minor": 0
      },
      "text/plain": [
       "  0%|          | 0/10 [00:00<?, ?it/s]"
      ]
     },
     "metadata": {},
     "output_type": "display_data"
    },
    {
     "data": {
      "application/vnd.jupyter.widget-view+json": {
       "model_id": "29dea007ff0741c5b3c21d5dc69e3f8d",
       "version_major": 2,
       "version_minor": 0
      },
      "text/plain": [
       "  0%|          | 0/10 [00:00<?, ?it/s]"
      ]
     },
     "metadata": {},
     "output_type": "display_data"
    },
    {
     "data": {
      "application/vnd.jupyter.widget-view+json": {
       "model_id": "1e471b618c4243c2b639a97ba1cba8d0",
       "version_major": 2,
       "version_minor": 0
      },
      "text/plain": [
       "  0%|          | 0/10 [00:00<?, ?it/s]"
      ]
     },
     "metadata": {},
     "output_type": "display_data"
    },
    {
     "data": {
      "application/vnd.jupyter.widget-view+json": {
       "model_id": "29c3ae8dfd1040d7bfdc6272f9c77ee8",
       "version_major": 2,
       "version_minor": 0
      },
      "text/plain": [
       "  0%|          | 0/10 [00:00<?, ?it/s]"
      ]
     },
     "metadata": {},
     "output_type": "display_data"
    },
    {
     "data": {
      "application/vnd.jupyter.widget-view+json": {
       "model_id": "6ffb116239574522a270b83a5c0d5c36",
       "version_major": 2,
       "version_minor": 0
      },
      "text/plain": [
       "  0%|          | 0/10 [00:00<?, ?it/s]"
      ]
     },
     "metadata": {},
     "output_type": "display_data"
    },
    {
     "data": {
      "application/vnd.jupyter.widget-view+json": {
       "model_id": "aaddb5d6ecf94b57b84ab375e9a71c28",
       "version_major": 2,
       "version_minor": 0
      },
      "text/plain": [
       "  0%|          | 0/10 [00:00<?, ?it/s]"
      ]
     },
     "metadata": {},
     "output_type": "display_data"
    },
    {
     "data": {
      "application/vnd.jupyter.widget-view+json": {
       "model_id": "541111ef0f7c4a6ea6567c52445acbc5",
       "version_major": 2,
       "version_minor": 0
      },
      "text/plain": [
       "  0%|          | 0/10 [00:00<?, ?it/s]"
      ]
     },
     "metadata": {},
     "output_type": "display_data"
    },
    {
     "data": {
      "application/vnd.jupyter.widget-view+json": {
       "model_id": "692edb853a954f0987dee7afe4bbd0b7",
       "version_major": 2,
       "version_minor": 0
      },
      "text/plain": [
       "  0%|          | 0/10 [00:00<?, ?it/s]"
      ]
     },
     "metadata": {},
     "output_type": "display_data"
    },
    {
     "data": {
      "application/vnd.jupyter.widget-view+json": {
       "model_id": "3902d2a6aad7433cab8772e5a30a5618",
       "version_major": 2,
       "version_minor": 0
      },
      "text/plain": [
       "  0%|          | 0/10 [00:00<?, ?it/s]"
      ]
     },
     "metadata": {},
     "output_type": "display_data"
    },
    {
     "data": {
      "application/vnd.jupyter.widget-view+json": {
       "model_id": "f23356f8974e492f8f136dcf6b3ede09",
       "version_major": 2,
       "version_minor": 0
      },
      "text/plain": [
       "  0%|          | 0/10 [00:00<?, ?it/s]"
      ]
     },
     "metadata": {},
     "output_type": "display_data"
    },
    {
     "data": {
      "application/vnd.jupyter.widget-view+json": {
       "model_id": "c27edaaf71d441a7bcd7a202425543a5",
       "version_major": 2,
       "version_minor": 0
      },
      "text/plain": [
       "  0%|          | 0/10 [00:00<?, ?it/s]"
      ]
     },
     "metadata": {},
     "output_type": "display_data"
    },
    {
     "data": {
      "application/vnd.jupyter.widget-view+json": {
       "model_id": "85f6fee4b1284cd083d5f2d632d67486",
       "version_major": 2,
       "version_minor": 0
      },
      "text/plain": [
       "  0%|          | 0/10 [00:00<?, ?it/s]"
      ]
     },
     "metadata": {},
     "output_type": "display_data"
    },
    {
     "data": {
      "application/vnd.jupyter.widget-view+json": {
       "model_id": "f8a0249a74f0435a82c7b537753c09df",
       "version_major": 2,
       "version_minor": 0
      },
      "text/plain": [
       "  0%|          | 0/10 [00:00<?, ?it/s]"
      ]
     },
     "metadata": {},
     "output_type": "display_data"
    },
    {
     "data": {
      "application/vnd.jupyter.widget-view+json": {
       "model_id": "6570968583f1432f8b6baccfef555084",
       "version_major": 2,
       "version_minor": 0
      },
      "text/plain": [
       "  0%|          | 0/10 [00:00<?, ?it/s]"
      ]
     },
     "metadata": {},
     "output_type": "display_data"
    },
    {
     "data": {
      "application/vnd.jupyter.widget-view+json": {
       "model_id": "39a2415c806d4b67b0812c54945d006f",
       "version_major": 2,
       "version_minor": 0
      },
      "text/plain": [
       "  0%|          | 0/10 [00:00<?, ?it/s]"
      ]
     },
     "metadata": {},
     "output_type": "display_data"
    },
    {
     "data": {
      "application/vnd.jupyter.widget-view+json": {
       "model_id": "b77402f5f61a4e788aa9adbd91794b59",
       "version_major": 2,
       "version_minor": 0
      },
      "text/plain": [
       "  0%|          | 0/10 [00:00<?, ?it/s]"
      ]
     },
     "metadata": {},
     "output_type": "display_data"
    },
    {
     "data": {
      "application/vnd.jupyter.widget-view+json": {
       "model_id": "212eed3abbf945babeff874e49590afd",
       "version_major": 2,
       "version_minor": 0
      },
      "text/plain": [
       "  0%|          | 0/10 [00:00<?, ?it/s]"
      ]
     },
     "metadata": {},
     "output_type": "display_data"
    },
    {
     "data": {
      "application/vnd.jupyter.widget-view+json": {
       "model_id": "f2f7e3c88ef043a781f3a09b7277c8f8",
       "version_major": 2,
       "version_minor": 0
      },
      "text/plain": [
       "  0%|          | 0/10 [00:00<?, ?it/s]"
      ]
     },
     "metadata": {},
     "output_type": "display_data"
    },
    {
     "data": {
      "application/vnd.jupyter.widget-view+json": {
       "model_id": "04e3f92d76a445d7b58492295e91748f",
       "version_major": 2,
       "version_minor": 0
      },
      "text/plain": [
       "  0%|          | 0/10 [00:00<?, ?it/s]"
      ]
     },
     "metadata": {},
     "output_type": "display_data"
    },
    {
     "data": {
      "application/vnd.jupyter.widget-view+json": {
       "model_id": "94fc8b4aa044466688539c01b5672f41",
       "version_major": 2,
       "version_minor": 0
      },
      "text/plain": [
       "  0%|          | 0/10 [00:00<?, ?it/s]"
      ]
     },
     "metadata": {},
     "output_type": "display_data"
    },
    {
     "data": {
      "application/vnd.jupyter.widget-view+json": {
       "model_id": "548397d508e84be59870e27387f4c8ec",
       "version_major": 2,
       "version_minor": 0
      },
      "text/plain": [
       "  0%|          | 0/10 [00:00<?, ?it/s]"
      ]
     },
     "metadata": {},
     "output_type": "display_data"
    },
    {
     "data": {
      "application/vnd.jupyter.widget-view+json": {
       "model_id": "d1c0039408de4aefb6c06977218b7a60",
       "version_major": 2,
       "version_minor": 0
      },
      "text/plain": [
       "  0%|          | 0/10 [00:00<?, ?it/s]"
      ]
     },
     "metadata": {},
     "output_type": "display_data"
    },
    {
     "ename": "KeyboardInterrupt",
     "evalue": "",
     "output_type": "error",
     "traceback": [
      "\u001b[1;31m---------------------------------------------------------------------------\u001b[0m",
      "\u001b[1;31mKeyboardInterrupt\u001b[0m                         Traceback (most recent call last)",
      "\u001b[1;32m~\\AppData\\Local\\Temp/ipykernel_58136/3377437382.py\u001b[0m in \u001b[0;36m<module>\u001b[1;34m\u001b[0m\n\u001b[0;32m      5\u001b[0m \u001b[1;32mwhile\u001b[0m \u001b[1;32mTrue\u001b[0m\u001b[1;33m:\u001b[0m\u001b[1;33m\u001b[0m\u001b[1;33m\u001b[0m\u001b[0m\n\u001b[0;32m      6\u001b[0m     \u001b[0mpage_chek\u001b[0m \u001b[1;33m=\u001b[0m \u001b[0mdriver\u001b[0m\u001b[1;33m.\u001b[0m\u001b[0mfind_element_by_css_selector\u001b[0m\u001b[1;33m(\u001b[0m\u001b[1;34m\"#REVIEW > div > div._2y6yIawL6t > div > div.cv6id6JEkg > div > div\"\u001b[0m\u001b[1;33m)\u001b[0m \u001b[1;31m# 리뷰 다시 시작할때\u001b[0m\u001b[1;33m\u001b[0m\u001b[1;33m\u001b[0m\u001b[0m\n\u001b[1;32m----> 7\u001b[1;33m     \u001b[0mpages\u001b[0m \u001b[1;33m=\u001b[0m \u001b[0mpage_chek\u001b[0m\u001b[1;33m.\u001b[0m\u001b[0mfind_elements_by_css_selector\u001b[0m\u001b[1;33m(\u001b[0m\u001b[1;34m'a'\u001b[0m\u001b[1;33m)\u001b[0m \u001b[1;31m# 리뷰 페이지 클릭하기 위해서\u001b[0m\u001b[1;33m\u001b[0m\u001b[1;33m\u001b[0m\u001b[0m\n\u001b[0m\u001b[0;32m      8\u001b[0m     \u001b[1;32mfor\u001b[0m \u001b[0mi\u001b[0m \u001b[1;32min\u001b[0m \u001b[0mtqdm\u001b[0m\u001b[1;33m(\u001b[0m\u001b[0mrange\u001b[0m\u001b[1;33m(\u001b[0m\u001b[1;36m2\u001b[0m\u001b[1;33m,\u001b[0m \u001b[1;36m12\u001b[0m\u001b[1;33m)\u001b[0m\u001b[1;33m)\u001b[0m\u001b[1;33m:\u001b[0m\u001b[1;33m\u001b[0m\u001b[1;33m\u001b[0m\u001b[0m\n\u001b[0;32m      9\u001b[0m         \u001b[1;32mtry\u001b[0m\u001b[1;33m:\u001b[0m\u001b[1;33m\u001b[0m\u001b[1;33m\u001b[0m\u001b[0m\n",
      "\u001b[1;32mC:\\ProgramData\\Anaconda3\\lib\\site-packages\\selenium\\webdriver\\remote\\webelement.py\u001b[0m in \u001b[0;36mfind_elements_by_css_selector\u001b[1;34m(self, css_selector)\u001b[0m\n\u001b[0;32m    501\u001b[0m         \"\"\"\n\u001b[0;32m    502\u001b[0m         \u001b[0mwarnings\u001b[0m\u001b[1;33m.\u001b[0m\u001b[0mwarn\u001b[0m\u001b[1;33m(\u001b[0m\u001b[1;34m\"find_elements_by_* commands are deprecated. Please use find_elements() instead\"\u001b[0m\u001b[1;33m)\u001b[0m\u001b[1;33m\u001b[0m\u001b[1;33m\u001b[0m\u001b[0m\n\u001b[1;32m--> 503\u001b[1;33m         \u001b[1;32mreturn\u001b[0m \u001b[0mself\u001b[0m\u001b[1;33m.\u001b[0m\u001b[0mfind_elements\u001b[0m\u001b[1;33m(\u001b[0m\u001b[0mby\u001b[0m\u001b[1;33m=\u001b[0m\u001b[0mBy\u001b[0m\u001b[1;33m.\u001b[0m\u001b[0mCSS_SELECTOR\u001b[0m\u001b[1;33m,\u001b[0m \u001b[0mvalue\u001b[0m\u001b[1;33m=\u001b[0m\u001b[0mcss_selector\u001b[0m\u001b[1;33m)\u001b[0m\u001b[1;33m\u001b[0m\u001b[1;33m\u001b[0m\u001b[0m\n\u001b[0m\u001b[0;32m    504\u001b[0m \u001b[1;33m\u001b[0m\u001b[0m\n\u001b[0;32m    505\u001b[0m     \u001b[1;32mdef\u001b[0m \u001b[0msend_keys\u001b[0m\u001b[1;33m(\u001b[0m\u001b[0mself\u001b[0m\u001b[1;33m,\u001b[0m \u001b[1;33m*\u001b[0m\u001b[0mvalue\u001b[0m\u001b[1;33m)\u001b[0m \u001b[1;33m->\u001b[0m \u001b[1;32mNone\u001b[0m\u001b[1;33m:\u001b[0m\u001b[1;33m\u001b[0m\u001b[1;33m\u001b[0m\u001b[0m\n",
      "\u001b[1;32mC:\\ProgramData\\Anaconda3\\lib\\site-packages\\selenium\\webdriver\\remote\\webelement.py\u001b[0m in \u001b[0;36mfind_elements\u001b[1;34m(self, by, value)\u001b[0m\n\u001b[0;32m    759\u001b[0m             \u001b[0mvalue\u001b[0m \u001b[1;33m=\u001b[0m \u001b[1;34m'[name=\"%s\"]'\u001b[0m \u001b[1;33m%\u001b[0m \u001b[0mvalue\u001b[0m\u001b[1;33m\u001b[0m\u001b[1;33m\u001b[0m\u001b[0m\n\u001b[0;32m    760\u001b[0m \u001b[1;33m\u001b[0m\u001b[0m\n\u001b[1;32m--> 761\u001b[1;33m         return self._execute(Command.FIND_CHILD_ELEMENTS,\n\u001b[0m\u001b[0;32m    762\u001b[0m                              {\"using\": by, \"value\": value})['value']\n\u001b[0;32m    763\u001b[0m \u001b[1;33m\u001b[0m\u001b[0m\n",
      "\u001b[1;32mC:\\ProgramData\\Anaconda3\\lib\\site-packages\\selenium\\webdriver\\remote\\webelement.py\u001b[0m in \u001b[0;36m_execute\u001b[1;34m(self, command, params)\u001b[0m\n\u001b[0;32m    708\u001b[0m             \u001b[0mparams\u001b[0m \u001b[1;33m=\u001b[0m \u001b[1;33m{\u001b[0m\u001b[1;33m}\u001b[0m\u001b[1;33m\u001b[0m\u001b[1;33m\u001b[0m\u001b[0m\n\u001b[0;32m    709\u001b[0m         \u001b[0mparams\u001b[0m\u001b[1;33m[\u001b[0m\u001b[1;34m'id'\u001b[0m\u001b[1;33m]\u001b[0m \u001b[1;33m=\u001b[0m \u001b[0mself\u001b[0m\u001b[1;33m.\u001b[0m\u001b[0m_id\u001b[0m\u001b[1;33m\u001b[0m\u001b[1;33m\u001b[0m\u001b[0m\n\u001b[1;32m--> 710\u001b[1;33m         \u001b[1;32mreturn\u001b[0m \u001b[0mself\u001b[0m\u001b[1;33m.\u001b[0m\u001b[0m_parent\u001b[0m\u001b[1;33m.\u001b[0m\u001b[0mexecute\u001b[0m\u001b[1;33m(\u001b[0m\u001b[0mcommand\u001b[0m\u001b[1;33m,\u001b[0m \u001b[0mparams\u001b[0m\u001b[1;33m)\u001b[0m\u001b[1;33m\u001b[0m\u001b[1;33m\u001b[0m\u001b[0m\n\u001b[0m\u001b[0;32m    711\u001b[0m \u001b[1;33m\u001b[0m\u001b[0m\n\u001b[0;32m    712\u001b[0m     \u001b[1;32mdef\u001b[0m \u001b[0mfind_element\u001b[0m\u001b[1;33m(\u001b[0m\u001b[0mself\u001b[0m\u001b[1;33m,\u001b[0m \u001b[0mby\u001b[0m\u001b[1;33m=\u001b[0m\u001b[0mBy\u001b[0m\u001b[1;33m.\u001b[0m\u001b[0mID\u001b[0m\u001b[1;33m,\u001b[0m \u001b[0mvalue\u001b[0m\u001b[1;33m=\u001b[0m\u001b[1;32mNone\u001b[0m\u001b[1;33m)\u001b[0m\u001b[1;33m:\u001b[0m\u001b[1;33m\u001b[0m\u001b[1;33m\u001b[0m\u001b[0m\n",
      "\u001b[1;32mC:\\ProgramData\\Anaconda3\\lib\\site-packages\\selenium\\webdriver\\remote\\webdriver.py\u001b[0m in \u001b[0;36mexecute\u001b[1;34m(self, driver_command, params)\u001b[0m\n\u001b[0;32m    420\u001b[0m \u001b[1;33m\u001b[0m\u001b[0m\n\u001b[0;32m    421\u001b[0m         \u001b[0mparams\u001b[0m \u001b[1;33m=\u001b[0m \u001b[0mself\u001b[0m\u001b[1;33m.\u001b[0m\u001b[0m_wrap_value\u001b[0m\u001b[1;33m(\u001b[0m\u001b[0mparams\u001b[0m\u001b[1;33m)\u001b[0m\u001b[1;33m\u001b[0m\u001b[1;33m\u001b[0m\u001b[0m\n\u001b[1;32m--> 422\u001b[1;33m         \u001b[0mresponse\u001b[0m \u001b[1;33m=\u001b[0m \u001b[0mself\u001b[0m\u001b[1;33m.\u001b[0m\u001b[0mcommand_executor\u001b[0m\u001b[1;33m.\u001b[0m\u001b[0mexecute\u001b[0m\u001b[1;33m(\u001b[0m\u001b[0mdriver_command\u001b[0m\u001b[1;33m,\u001b[0m \u001b[0mparams\u001b[0m\u001b[1;33m)\u001b[0m\u001b[1;33m\u001b[0m\u001b[1;33m\u001b[0m\u001b[0m\n\u001b[0m\u001b[0;32m    423\u001b[0m         \u001b[1;32mif\u001b[0m \u001b[0mresponse\u001b[0m\u001b[1;33m:\u001b[0m\u001b[1;33m\u001b[0m\u001b[1;33m\u001b[0m\u001b[0m\n\u001b[0;32m    424\u001b[0m             \u001b[0mself\u001b[0m\u001b[1;33m.\u001b[0m\u001b[0merror_handler\u001b[0m\u001b[1;33m.\u001b[0m\u001b[0mcheck_response\u001b[0m\u001b[1;33m(\u001b[0m\u001b[0mresponse\u001b[0m\u001b[1;33m)\u001b[0m\u001b[1;33m\u001b[0m\u001b[1;33m\u001b[0m\u001b[0m\n",
      "\u001b[1;32mC:\\ProgramData\\Anaconda3\\lib\\site-packages\\selenium\\webdriver\\remote\\remote_connection.py\u001b[0m in \u001b[0;36mexecute\u001b[1;34m(self, command, params)\u001b[0m\n\u001b[0;32m    419\u001b[0m         \u001b[0mdata\u001b[0m \u001b[1;33m=\u001b[0m \u001b[0mutils\u001b[0m\u001b[1;33m.\u001b[0m\u001b[0mdump_json\u001b[0m\u001b[1;33m(\u001b[0m\u001b[0mparams\u001b[0m\u001b[1;33m)\u001b[0m\u001b[1;33m\u001b[0m\u001b[1;33m\u001b[0m\u001b[0m\n\u001b[0;32m    420\u001b[0m         \u001b[0murl\u001b[0m \u001b[1;33m=\u001b[0m \u001b[1;34mf\"{self._url}{path}\"\u001b[0m\u001b[1;33m\u001b[0m\u001b[1;33m\u001b[0m\u001b[0m\n\u001b[1;32m--> 421\u001b[1;33m         \u001b[1;32mreturn\u001b[0m \u001b[0mself\u001b[0m\u001b[1;33m.\u001b[0m\u001b[0m_request\u001b[0m\u001b[1;33m(\u001b[0m\u001b[0mcommand_info\u001b[0m\u001b[1;33m[\u001b[0m\u001b[1;36m0\u001b[0m\u001b[1;33m]\u001b[0m\u001b[1;33m,\u001b[0m \u001b[0murl\u001b[0m\u001b[1;33m,\u001b[0m \u001b[0mbody\u001b[0m\u001b[1;33m=\u001b[0m\u001b[0mdata\u001b[0m\u001b[1;33m)\u001b[0m\u001b[1;33m\u001b[0m\u001b[1;33m\u001b[0m\u001b[0m\n\u001b[0m\u001b[0;32m    422\u001b[0m \u001b[1;33m\u001b[0m\u001b[0m\n\u001b[0;32m    423\u001b[0m     \u001b[1;32mdef\u001b[0m \u001b[0m_request\u001b[0m\u001b[1;33m(\u001b[0m\u001b[0mself\u001b[0m\u001b[1;33m,\u001b[0m \u001b[0mmethod\u001b[0m\u001b[1;33m,\u001b[0m \u001b[0murl\u001b[0m\u001b[1;33m,\u001b[0m \u001b[0mbody\u001b[0m\u001b[1;33m=\u001b[0m\u001b[1;32mNone\u001b[0m\u001b[1;33m)\u001b[0m\u001b[1;33m:\u001b[0m\u001b[1;33m\u001b[0m\u001b[1;33m\u001b[0m\u001b[0m\n",
      "\u001b[1;32mC:\\ProgramData\\Anaconda3\\lib\\site-packages\\selenium\\webdriver\\remote\\remote_connection.py\u001b[0m in \u001b[0;36m_request\u001b[1;34m(self, method, url, body)\u001b[0m\n\u001b[0;32m    441\u001b[0m \u001b[1;33m\u001b[0m\u001b[0m\n\u001b[0;32m    442\u001b[0m         \u001b[1;32mif\u001b[0m \u001b[0mself\u001b[0m\u001b[1;33m.\u001b[0m\u001b[0mkeep_alive\u001b[0m\u001b[1;33m:\u001b[0m\u001b[1;33m\u001b[0m\u001b[1;33m\u001b[0m\u001b[0m\n\u001b[1;32m--> 443\u001b[1;33m             \u001b[0mresp\u001b[0m \u001b[1;33m=\u001b[0m \u001b[0mself\u001b[0m\u001b[1;33m.\u001b[0m\u001b[0m_conn\u001b[0m\u001b[1;33m.\u001b[0m\u001b[0mrequest\u001b[0m\u001b[1;33m(\u001b[0m\u001b[0mmethod\u001b[0m\u001b[1;33m,\u001b[0m \u001b[0murl\u001b[0m\u001b[1;33m,\u001b[0m \u001b[0mbody\u001b[0m\u001b[1;33m=\u001b[0m\u001b[0mbody\u001b[0m\u001b[1;33m,\u001b[0m \u001b[0mheaders\u001b[0m\u001b[1;33m=\u001b[0m\u001b[0mheaders\u001b[0m\u001b[1;33m)\u001b[0m\u001b[1;33m\u001b[0m\u001b[1;33m\u001b[0m\u001b[0m\n\u001b[0m\u001b[0;32m    444\u001b[0m             \u001b[0mstatuscode\u001b[0m \u001b[1;33m=\u001b[0m \u001b[0mresp\u001b[0m\u001b[1;33m.\u001b[0m\u001b[0mstatus\u001b[0m\u001b[1;33m\u001b[0m\u001b[1;33m\u001b[0m\u001b[0m\n\u001b[0;32m    445\u001b[0m         \u001b[1;32melse\u001b[0m\u001b[1;33m:\u001b[0m\u001b[1;33m\u001b[0m\u001b[1;33m\u001b[0m\u001b[0m\n",
      "\u001b[1;32mC:\\ProgramData\\Anaconda3\\lib\\site-packages\\urllib3\\request.py\u001b[0m in \u001b[0;36mrequest\u001b[1;34m(self, method, url, fields, headers, **urlopen_kw)\u001b[0m\n\u001b[0;32m     76\u001b[0m             )\n\u001b[0;32m     77\u001b[0m         \u001b[1;32melse\u001b[0m\u001b[1;33m:\u001b[0m\u001b[1;33m\u001b[0m\u001b[1;33m\u001b[0m\u001b[0m\n\u001b[1;32m---> 78\u001b[1;33m             return self.request_encode_body(\n\u001b[0m\u001b[0;32m     79\u001b[0m                 \u001b[0mmethod\u001b[0m\u001b[1;33m,\u001b[0m \u001b[0murl\u001b[0m\u001b[1;33m,\u001b[0m \u001b[0mfields\u001b[0m\u001b[1;33m=\u001b[0m\u001b[0mfields\u001b[0m\u001b[1;33m,\u001b[0m \u001b[0mheaders\u001b[0m\u001b[1;33m=\u001b[0m\u001b[0mheaders\u001b[0m\u001b[1;33m,\u001b[0m \u001b[1;33m**\u001b[0m\u001b[0murlopen_kw\u001b[0m\u001b[1;33m\u001b[0m\u001b[1;33m\u001b[0m\u001b[0m\n\u001b[0;32m     80\u001b[0m             )\n",
      "\u001b[1;32mC:\\ProgramData\\Anaconda3\\lib\\site-packages\\urllib3\\request.py\u001b[0m in \u001b[0;36mrequest_encode_body\u001b[1;34m(self, method, url, fields, headers, encode_multipart, multipart_boundary, **urlopen_kw)\u001b[0m\n\u001b[0;32m    168\u001b[0m         \u001b[0mextra_kw\u001b[0m\u001b[1;33m.\u001b[0m\u001b[0mupdate\u001b[0m\u001b[1;33m(\u001b[0m\u001b[0murlopen_kw\u001b[0m\u001b[1;33m)\u001b[0m\u001b[1;33m\u001b[0m\u001b[1;33m\u001b[0m\u001b[0m\n\u001b[0;32m    169\u001b[0m \u001b[1;33m\u001b[0m\u001b[0m\n\u001b[1;32m--> 170\u001b[1;33m         \u001b[1;32mreturn\u001b[0m \u001b[0mself\u001b[0m\u001b[1;33m.\u001b[0m\u001b[0murlopen\u001b[0m\u001b[1;33m(\u001b[0m\u001b[0mmethod\u001b[0m\u001b[1;33m,\u001b[0m \u001b[0murl\u001b[0m\u001b[1;33m,\u001b[0m \u001b[1;33m**\u001b[0m\u001b[0mextra_kw\u001b[0m\u001b[1;33m)\u001b[0m\u001b[1;33m\u001b[0m\u001b[1;33m\u001b[0m\u001b[0m\n\u001b[0m",
      "\u001b[1;32mC:\\ProgramData\\Anaconda3\\lib\\site-packages\\urllib3\\poolmanager.py\u001b[0m in \u001b[0;36murlopen\u001b[1;34m(self, method, url, redirect, **kw)\u001b[0m\n\u001b[0;32m    373\u001b[0m             \u001b[0mresponse\u001b[0m \u001b[1;33m=\u001b[0m \u001b[0mconn\u001b[0m\u001b[1;33m.\u001b[0m\u001b[0murlopen\u001b[0m\u001b[1;33m(\u001b[0m\u001b[0mmethod\u001b[0m\u001b[1;33m,\u001b[0m \u001b[0murl\u001b[0m\u001b[1;33m,\u001b[0m \u001b[1;33m**\u001b[0m\u001b[0mkw\u001b[0m\u001b[1;33m)\u001b[0m\u001b[1;33m\u001b[0m\u001b[1;33m\u001b[0m\u001b[0m\n\u001b[0;32m    374\u001b[0m         \u001b[1;32melse\u001b[0m\u001b[1;33m:\u001b[0m\u001b[1;33m\u001b[0m\u001b[1;33m\u001b[0m\u001b[0m\n\u001b[1;32m--> 375\u001b[1;33m             \u001b[0mresponse\u001b[0m \u001b[1;33m=\u001b[0m \u001b[0mconn\u001b[0m\u001b[1;33m.\u001b[0m\u001b[0murlopen\u001b[0m\u001b[1;33m(\u001b[0m\u001b[0mmethod\u001b[0m\u001b[1;33m,\u001b[0m \u001b[0mu\u001b[0m\u001b[1;33m.\u001b[0m\u001b[0mrequest_uri\u001b[0m\u001b[1;33m,\u001b[0m \u001b[1;33m**\u001b[0m\u001b[0mkw\u001b[0m\u001b[1;33m)\u001b[0m\u001b[1;33m\u001b[0m\u001b[1;33m\u001b[0m\u001b[0m\n\u001b[0m\u001b[0;32m    376\u001b[0m \u001b[1;33m\u001b[0m\u001b[0m\n\u001b[0;32m    377\u001b[0m         \u001b[0mredirect_location\u001b[0m \u001b[1;33m=\u001b[0m \u001b[0mredirect\u001b[0m \u001b[1;32mand\u001b[0m \u001b[0mresponse\u001b[0m\u001b[1;33m.\u001b[0m\u001b[0mget_redirect_location\u001b[0m\u001b[1;33m(\u001b[0m\u001b[1;33m)\u001b[0m\u001b[1;33m\u001b[0m\u001b[1;33m\u001b[0m\u001b[0m\n",
      "\u001b[1;32mC:\\ProgramData\\Anaconda3\\lib\\site-packages\\urllib3\\connectionpool.py\u001b[0m in \u001b[0;36murlopen\u001b[1;34m(self, method, url, body, headers, retries, redirect, assert_same_host, timeout, pool_timeout, release_conn, chunked, body_pos, **response_kw)\u001b[0m\n\u001b[0;32m    697\u001b[0m \u001b[1;33m\u001b[0m\u001b[0m\n\u001b[0;32m    698\u001b[0m             \u001b[1;31m# Make the request on the httplib connection object.\u001b[0m\u001b[1;33m\u001b[0m\u001b[1;33m\u001b[0m\u001b[0m\n\u001b[1;32m--> 699\u001b[1;33m             httplib_response = self._make_request(\n\u001b[0m\u001b[0;32m    700\u001b[0m                 \u001b[0mconn\u001b[0m\u001b[1;33m,\u001b[0m\u001b[1;33m\u001b[0m\u001b[1;33m\u001b[0m\u001b[0m\n\u001b[0;32m    701\u001b[0m                 \u001b[0mmethod\u001b[0m\u001b[1;33m,\u001b[0m\u001b[1;33m\u001b[0m\u001b[1;33m\u001b[0m\u001b[0m\n",
      "\u001b[1;32mC:\\ProgramData\\Anaconda3\\lib\\site-packages\\urllib3\\connectionpool.py\u001b[0m in \u001b[0;36m_make_request\u001b[1;34m(self, conn, method, url, timeout, chunked, **httplib_request_kw)\u001b[0m\n\u001b[0;32m    443\u001b[0m                     \u001b[1;31m# Python 3 (including for exceptions like SystemExit).\u001b[0m\u001b[1;33m\u001b[0m\u001b[1;33m\u001b[0m\u001b[0m\n\u001b[0;32m    444\u001b[0m                     \u001b[1;31m# Otherwise it looks like a bug in the code.\u001b[0m\u001b[1;33m\u001b[0m\u001b[1;33m\u001b[0m\u001b[0m\n\u001b[1;32m--> 445\u001b[1;33m                     \u001b[0msix\u001b[0m\u001b[1;33m.\u001b[0m\u001b[0mraise_from\u001b[0m\u001b[1;33m(\u001b[0m\u001b[0me\u001b[0m\u001b[1;33m,\u001b[0m \u001b[1;32mNone\u001b[0m\u001b[1;33m)\u001b[0m\u001b[1;33m\u001b[0m\u001b[1;33m\u001b[0m\u001b[0m\n\u001b[0m\u001b[0;32m    446\u001b[0m         \u001b[1;32mexcept\u001b[0m \u001b[1;33m(\u001b[0m\u001b[0mSocketTimeout\u001b[0m\u001b[1;33m,\u001b[0m \u001b[0mBaseSSLError\u001b[0m\u001b[1;33m,\u001b[0m \u001b[0mSocketError\u001b[0m\u001b[1;33m)\u001b[0m \u001b[1;32mas\u001b[0m \u001b[0me\u001b[0m\u001b[1;33m:\u001b[0m\u001b[1;33m\u001b[0m\u001b[1;33m\u001b[0m\u001b[0m\n\u001b[0;32m    447\u001b[0m             \u001b[0mself\u001b[0m\u001b[1;33m.\u001b[0m\u001b[0m_raise_timeout\u001b[0m\u001b[1;33m(\u001b[0m\u001b[0merr\u001b[0m\u001b[1;33m=\u001b[0m\u001b[0me\u001b[0m\u001b[1;33m,\u001b[0m \u001b[0murl\u001b[0m\u001b[1;33m=\u001b[0m\u001b[0murl\u001b[0m\u001b[1;33m,\u001b[0m \u001b[0mtimeout_value\u001b[0m\u001b[1;33m=\u001b[0m\u001b[0mread_timeout\u001b[0m\u001b[1;33m)\u001b[0m\u001b[1;33m\u001b[0m\u001b[1;33m\u001b[0m\u001b[0m\n",
      "\u001b[1;32mC:\\ProgramData\\Anaconda3\\lib\\site-packages\\urllib3\\packages\\six.py\u001b[0m in \u001b[0;36mraise_from\u001b[1;34m(value, from_value)\u001b[0m\n",
      "\u001b[1;32mC:\\ProgramData\\Anaconda3\\lib\\site-packages\\urllib3\\connectionpool.py\u001b[0m in \u001b[0;36m_make_request\u001b[1;34m(self, conn, method, url, timeout, chunked, **httplib_request_kw)\u001b[0m\n\u001b[0;32m    438\u001b[0m                 \u001b[1;31m# Python 3\u001b[0m\u001b[1;33m\u001b[0m\u001b[1;33m\u001b[0m\u001b[0m\n\u001b[0;32m    439\u001b[0m                 \u001b[1;32mtry\u001b[0m\u001b[1;33m:\u001b[0m\u001b[1;33m\u001b[0m\u001b[1;33m\u001b[0m\u001b[0m\n\u001b[1;32m--> 440\u001b[1;33m                     \u001b[0mhttplib_response\u001b[0m \u001b[1;33m=\u001b[0m \u001b[0mconn\u001b[0m\u001b[1;33m.\u001b[0m\u001b[0mgetresponse\u001b[0m\u001b[1;33m(\u001b[0m\u001b[1;33m)\u001b[0m\u001b[1;33m\u001b[0m\u001b[1;33m\u001b[0m\u001b[0m\n\u001b[0m\u001b[0;32m    441\u001b[0m                 \u001b[1;32mexcept\u001b[0m \u001b[0mBaseException\u001b[0m \u001b[1;32mas\u001b[0m \u001b[0me\u001b[0m\u001b[1;33m:\u001b[0m\u001b[1;33m\u001b[0m\u001b[1;33m\u001b[0m\u001b[0m\n\u001b[0;32m    442\u001b[0m                     \u001b[1;31m# Remove the TypeError from the exception chain in\u001b[0m\u001b[1;33m\u001b[0m\u001b[1;33m\u001b[0m\u001b[0m\n",
      "\u001b[1;32mC:\\ProgramData\\Anaconda3\\lib\\http\\client.py\u001b[0m in \u001b[0;36mgetresponse\u001b[1;34m(self)\u001b[0m\n\u001b[0;32m   1369\u001b[0m         \u001b[1;32mtry\u001b[0m\u001b[1;33m:\u001b[0m\u001b[1;33m\u001b[0m\u001b[1;33m\u001b[0m\u001b[0m\n\u001b[0;32m   1370\u001b[0m             \u001b[1;32mtry\u001b[0m\u001b[1;33m:\u001b[0m\u001b[1;33m\u001b[0m\u001b[1;33m\u001b[0m\u001b[0m\n\u001b[1;32m-> 1371\u001b[1;33m                 \u001b[0mresponse\u001b[0m\u001b[1;33m.\u001b[0m\u001b[0mbegin\u001b[0m\u001b[1;33m(\u001b[0m\u001b[1;33m)\u001b[0m\u001b[1;33m\u001b[0m\u001b[1;33m\u001b[0m\u001b[0m\n\u001b[0m\u001b[0;32m   1372\u001b[0m             \u001b[1;32mexcept\u001b[0m \u001b[0mConnectionError\u001b[0m\u001b[1;33m:\u001b[0m\u001b[1;33m\u001b[0m\u001b[1;33m\u001b[0m\u001b[0m\n\u001b[0;32m   1373\u001b[0m                 \u001b[0mself\u001b[0m\u001b[1;33m.\u001b[0m\u001b[0mclose\u001b[0m\u001b[1;33m(\u001b[0m\u001b[1;33m)\u001b[0m\u001b[1;33m\u001b[0m\u001b[1;33m\u001b[0m\u001b[0m\n",
      "\u001b[1;32mC:\\ProgramData\\Anaconda3\\lib\\http\\client.py\u001b[0m in \u001b[0;36mbegin\u001b[1;34m(self)\u001b[0m\n\u001b[0;32m    317\u001b[0m         \u001b[1;31m# read until we get a non-100 response\u001b[0m\u001b[1;33m\u001b[0m\u001b[1;33m\u001b[0m\u001b[0m\n\u001b[0;32m    318\u001b[0m         \u001b[1;32mwhile\u001b[0m \u001b[1;32mTrue\u001b[0m\u001b[1;33m:\u001b[0m\u001b[1;33m\u001b[0m\u001b[1;33m\u001b[0m\u001b[0m\n\u001b[1;32m--> 319\u001b[1;33m             \u001b[0mversion\u001b[0m\u001b[1;33m,\u001b[0m \u001b[0mstatus\u001b[0m\u001b[1;33m,\u001b[0m \u001b[0mreason\u001b[0m \u001b[1;33m=\u001b[0m \u001b[0mself\u001b[0m\u001b[1;33m.\u001b[0m\u001b[0m_read_status\u001b[0m\u001b[1;33m(\u001b[0m\u001b[1;33m)\u001b[0m\u001b[1;33m\u001b[0m\u001b[1;33m\u001b[0m\u001b[0m\n\u001b[0m\u001b[0;32m    320\u001b[0m             \u001b[1;32mif\u001b[0m \u001b[0mstatus\u001b[0m \u001b[1;33m!=\u001b[0m \u001b[0mCONTINUE\u001b[0m\u001b[1;33m:\u001b[0m\u001b[1;33m\u001b[0m\u001b[1;33m\u001b[0m\u001b[0m\n\u001b[0;32m    321\u001b[0m                 \u001b[1;32mbreak\u001b[0m\u001b[1;33m\u001b[0m\u001b[1;33m\u001b[0m\u001b[0m\n",
      "\u001b[1;32mC:\\ProgramData\\Anaconda3\\lib\\http\\client.py\u001b[0m in \u001b[0;36m_read_status\u001b[1;34m(self)\u001b[0m\n\u001b[0;32m    278\u001b[0m \u001b[1;33m\u001b[0m\u001b[0m\n\u001b[0;32m    279\u001b[0m     \u001b[1;32mdef\u001b[0m \u001b[0m_read_status\u001b[0m\u001b[1;33m(\u001b[0m\u001b[0mself\u001b[0m\u001b[1;33m)\u001b[0m\u001b[1;33m:\u001b[0m\u001b[1;33m\u001b[0m\u001b[1;33m\u001b[0m\u001b[0m\n\u001b[1;32m--> 280\u001b[1;33m         \u001b[0mline\u001b[0m \u001b[1;33m=\u001b[0m \u001b[0mstr\u001b[0m\u001b[1;33m(\u001b[0m\u001b[0mself\u001b[0m\u001b[1;33m.\u001b[0m\u001b[0mfp\u001b[0m\u001b[1;33m.\u001b[0m\u001b[0mreadline\u001b[0m\u001b[1;33m(\u001b[0m\u001b[0m_MAXLINE\u001b[0m \u001b[1;33m+\u001b[0m \u001b[1;36m1\u001b[0m\u001b[1;33m)\u001b[0m\u001b[1;33m,\u001b[0m \u001b[1;34m\"iso-8859-1\"\u001b[0m\u001b[1;33m)\u001b[0m\u001b[1;33m\u001b[0m\u001b[1;33m\u001b[0m\u001b[0m\n\u001b[0m\u001b[0;32m    281\u001b[0m         \u001b[1;32mif\u001b[0m \u001b[0mlen\u001b[0m\u001b[1;33m(\u001b[0m\u001b[0mline\u001b[0m\u001b[1;33m)\u001b[0m \u001b[1;33m>\u001b[0m \u001b[0m_MAXLINE\u001b[0m\u001b[1;33m:\u001b[0m\u001b[1;33m\u001b[0m\u001b[1;33m\u001b[0m\u001b[0m\n\u001b[0;32m    282\u001b[0m             \u001b[1;32mraise\u001b[0m \u001b[0mLineTooLong\u001b[0m\u001b[1;33m(\u001b[0m\u001b[1;34m\"status line\"\u001b[0m\u001b[1;33m)\u001b[0m\u001b[1;33m\u001b[0m\u001b[1;33m\u001b[0m\u001b[0m\n",
      "\u001b[1;32mC:\\ProgramData\\Anaconda3\\lib\\socket.py\u001b[0m in \u001b[0;36mreadinto\u001b[1;34m(self, b)\u001b[0m\n\u001b[0;32m    702\u001b[0m         \u001b[1;32mwhile\u001b[0m \u001b[1;32mTrue\u001b[0m\u001b[1;33m:\u001b[0m\u001b[1;33m\u001b[0m\u001b[1;33m\u001b[0m\u001b[0m\n\u001b[0;32m    703\u001b[0m             \u001b[1;32mtry\u001b[0m\u001b[1;33m:\u001b[0m\u001b[1;33m\u001b[0m\u001b[1;33m\u001b[0m\u001b[0m\n\u001b[1;32m--> 704\u001b[1;33m                 \u001b[1;32mreturn\u001b[0m \u001b[0mself\u001b[0m\u001b[1;33m.\u001b[0m\u001b[0m_sock\u001b[0m\u001b[1;33m.\u001b[0m\u001b[0mrecv_into\u001b[0m\u001b[1;33m(\u001b[0m\u001b[0mb\u001b[0m\u001b[1;33m)\u001b[0m\u001b[1;33m\u001b[0m\u001b[1;33m\u001b[0m\u001b[0m\n\u001b[0m\u001b[0;32m    705\u001b[0m             \u001b[1;32mexcept\u001b[0m \u001b[0mtimeout\u001b[0m\u001b[1;33m:\u001b[0m\u001b[1;33m\u001b[0m\u001b[1;33m\u001b[0m\u001b[0m\n\u001b[0;32m    706\u001b[0m                 \u001b[0mself\u001b[0m\u001b[1;33m.\u001b[0m\u001b[0m_timeout_occurred\u001b[0m \u001b[1;33m=\u001b[0m \u001b[1;32mTrue\u001b[0m\u001b[1;33m\u001b[0m\u001b[1;33m\u001b[0m\u001b[0m\n",
      "\u001b[1;31mKeyboardInterrupt\u001b[0m: "
     ]
    }
   ],
   "source": [
    "# 별점 리뷰 수집\n",
    "market = {}\n",
    "리뷰 = []\n",
    "별점 = []\n",
    "while True:\n",
    "    page_chek = driver.find_element_by_css_selector(\"#REVIEW > div > div._2y6yIawL6t > div > div.cv6id6JEkg > div > div\") # 리뷰 다시 시작할때\n",
    "    pages = page_chek.find_elements_by_css_selector('a') # 리뷰 페이지 클릭하기 위해서\n",
    "    for i in tqdm(range(2, 12)):\n",
    "        try:\n",
    "            # 리뷰\n",
    "            overlays3 = \"._19SE1Dnqkf .YEtwtZFLDz\"\n",
    "            repurchase = driver.find_elements_by_css_selector(overlays3)\n",
    "            for x in repurchase:\n",
    "                if True :\n",
    "                    driver.find_element_by_css_selector(\"._1eidska71d\")\n",
    "                else:\n",
    "                    driver.find_element_by_css_selector(overlays3)\n",
    "                repurchase = x.text\n",
    "                리뷰.append(repurchase)\n",
    "\n",
    "            # 별점 \n",
    "            overlays4 = \"._1YShY6EQ56 ._37TlmH3OaI ._2V6vMO_iLm ._15NU42F3kT\"\n",
    "            reviewstar = driver.find_elements_by_css_selector(overlays4)\n",
    "            for reviewstar in reviewstar:    \n",
    "                reviewstar = reviewstar.text\n",
    "                별점.append(reviewstar)\n",
    "            market['리뷰'] = 리뷰\n",
    "            market['별점'] = 별점\n",
    "\n",
    "            # 다음 페이지 클릭\n",
    "                pages[i].click()\n",
    "                time.sleep(1)\n",
    "        except :\n",
    "            print(m)"
   ]
  },
  {
   "cell_type": "code",
   "execution_count": 19,
   "id": "882c0e8f",
   "metadata": {},
   "outputs": [
    {
     "data": {
      "application/vnd.jupyter.widget-view+json": {
       "model_id": "cfa85b20c08243b9810d0b9253f85fae",
       "version_major": 2,
       "version_minor": 0
      },
      "text/plain": [
       "  0%|          | 0/11 [00:00<?, ?it/s]"
      ]
     },
     "metadata": {},
     "output_type": "display_data"
    },
    {
     "ename": "NameError",
     "evalue": "name 'm' is not defined",
     "output_type": "error",
     "traceback": [
      "\u001b[1;31m---------------------------------------------------------------------------\u001b[0m",
      "\u001b[1;31mIndexError\u001b[0m                                Traceback (most recent call last)",
      "\u001b[1;32m~\\AppData\\Local\\Temp/ipykernel_9580/1591951078.py\u001b[0m in \u001b[0;36m<module>\u001b[1;34m\u001b[0m\n\u001b[0;32m     41\u001b[0m             \u001b[1;31m# 다음 페이지 클릭\u001b[0m\u001b[1;33m\u001b[0m\u001b[1;33m\u001b[0m\u001b[0m\n\u001b[1;32m---> 42\u001b[1;33m             \u001b[0mpages\u001b[0m\u001b[1;33m[\u001b[0m\u001b[0mi\u001b[0m\u001b[1;33m]\u001b[0m\u001b[1;33m.\u001b[0m\u001b[0mclick\u001b[0m\u001b[1;33m(\u001b[0m\u001b[1;33m)\u001b[0m\u001b[1;33m\u001b[0m\u001b[1;33m\u001b[0m\u001b[0m\n\u001b[0m\u001b[0;32m     43\u001b[0m             \u001b[0mtime\u001b[0m\u001b[1;33m.\u001b[0m\u001b[0msleep\u001b[0m\u001b[1;33m(\u001b[0m\u001b[1;36m1\u001b[0m\u001b[1;33m)\u001b[0m\u001b[1;33m\u001b[0m\u001b[1;33m\u001b[0m\u001b[0m\n",
      "\u001b[1;31mIndexError\u001b[0m: list index out of range",
      "\nDuring handling of the above exception, another exception occurred:\n",
      "\u001b[1;31mNameError\u001b[0m                                 Traceback (most recent call last)",
      "\u001b[1;32m~\\AppData\\Local\\Temp/ipykernel_9580/1591951078.py\u001b[0m in \u001b[0;36m<module>\u001b[1;34m\u001b[0m\n\u001b[0;32m     43\u001b[0m             \u001b[0mtime\u001b[0m\u001b[1;33m.\u001b[0m\u001b[0msleep\u001b[0m\u001b[1;33m(\u001b[0m\u001b[1;36m1\u001b[0m\u001b[1;33m)\u001b[0m\u001b[1;33m\u001b[0m\u001b[1;33m\u001b[0m\u001b[0m\n\u001b[0;32m     44\u001b[0m         \u001b[1;32mexcept\u001b[0m \u001b[1;33m:\u001b[0m\u001b[1;33m\u001b[0m\u001b[1;33m\u001b[0m\u001b[0m\n\u001b[1;32m---> 45\u001b[1;33m             \u001b[0mprint\u001b[0m\u001b[1;33m(\u001b[0m\u001b[0mm\u001b[0m\u001b[1;33m)\u001b[0m\u001b[1;33m\u001b[0m\u001b[1;33m\u001b[0m\u001b[0m\n\u001b[0m",
      "\u001b[1;31mNameError\u001b[0m: name 'm' is not defined"
     ]
    }
   ],
   "source": [
    "# 상품 하나 당 수집\n",
    "market = {}\n",
    "리뷰 = []\n",
    "별점 = []\n",
    "\n",
    "while True:\n",
    "    page_chek = driver.find_element_by_css_selector(\"#REVIEW > div > div._2y6yIawL6t > div > div.cv6id6JEkg > div > div\") # 리뷰 다시 시작할때\n",
    "    pages = page_chek.find_elements_by_css_selector('a') # 리뷰 페이지 클릭하기 위해서\n",
    "    for i in tqdm(range(2,13)):\n",
    "        try:\n",
    "            # 별점\n",
    "            overlays1 = \"#REVIEW > div > div._25tRcZzaD2 > div:nth-child(1) > div > div > div.TFNhvMOrjC._3uz9pzdFUe > div > span\"\n",
    "            sta = driver.find_element_by_css_selector(overlays1)\n",
    "            star = sta.text[7:10]\n",
    "            \n",
    "            # 총 리뷰 갯수\n",
    "            overlays2 = \"#REVIEW > div > div._25tRcZzaD2 > div:nth-child(1) > div > div > div.TFNhvMOrjC._1UShjXo5FC > div > span.blind\"\n",
    "            rev = driver.find_element_by_css_selector(overlays2)\n",
    "            review = rev.text[:6]\n",
    "            \n",
    "            # 리뷰 수집\n",
    "            overlays3 = \"._19SE1Dnqkf .YEtwtZFLDz\"\n",
    "            repurchase = driver.find_elements_by_css_selector(overlays3)\n",
    "            for x in repurchase:\n",
    "                if True :\n",
    "                    driver.find_element_by_css_selector(\"._1eidska71d\")\n",
    "                else:\n",
    "                    driver.find_element_by_css_selector(overlays3)\n",
    "                repurchase = x.text\n",
    "                리뷰.append(repurchase)\n",
    "\n",
    "            # 별점 수집\n",
    "            overlays4 = \"._1YShY6EQ56 ._37TlmH3OaI ._2V6vMO_iLm ._15NU42F3kT\"\n",
    "            reviewstar = driver.find_elements_by_css_selector(overlays4)\n",
    "            for reviewstar in reviewstar:    \n",
    "                reviewstar = reviewstar.text\n",
    "                별점.append(reviewstar)\n",
    "            market['리뷰'] = 리뷰\n",
    "            market['별점'] = 별점\n",
    "\n",
    "            # 다음 페이지 클릭\n",
    "            pages[i].click()\n",
    "            time.sleep(1)\n",
    "        except :\n",
    "            print(m)"
   ]
  },
  {
   "cell_type": "code",
   "execution_count": 365,
   "id": "cfeae645",
   "metadata": {},
   "outputs": [
    {
     "data": {
      "application/vnd.jupyter.widget-view+json": {
       "model_id": "b3ee9facc3574ed39d32b4e6488d497d",
       "version_major": 2,
       "version_minor": 0
      },
      "text/plain": [
       "  0%|          | 0/5 [00:00<?, ?it/s]"
      ]
     },
     "metadata": {},
     "output_type": "display_data"
    },
    {
     "data": {
      "application/vnd.jupyter.widget-view+json": {
       "model_id": "77feb9437994424d8897db9bc9dd2eb8",
       "version_major": 2,
       "version_minor": 0
      },
      "text/plain": [
       "  0%|          | 0/10 [00:00<?, ?it/s]"
      ]
     },
     "metadata": {},
     "output_type": "display_data"
    },
    {
     "data": {
      "application/vnd.jupyter.widget-view+json": {
       "model_id": "6ec936a4338e4c3d8b5702153c5a2156",
       "version_major": 2,
       "version_minor": 0
      },
      "text/plain": [
       "  0%|          | 0/10 [00:00<?, ?it/s]"
      ]
     },
     "metadata": {},
     "output_type": "display_data"
    },
    {
     "data": {
      "application/vnd.jupyter.widget-view+json": {
       "model_id": "6aab4dddbb54452f928119d61a7181eb",
       "version_major": 2,
       "version_minor": 0
      },
      "text/plain": [
       "  0%|          | 0/10 [00:00<?, ?it/s]"
      ]
     },
     "metadata": {},
     "output_type": "display_data"
    },
    {
     "data": {
      "application/vnd.jupyter.widget-view+json": {
       "model_id": "ed78f6331b744dbe8b3b2ffd7b1c7365",
       "version_major": 2,
       "version_minor": 0
      },
      "text/plain": [
       "  0%|          | 0/10 [00:00<?, ?it/s]"
      ]
     },
     "metadata": {},
     "output_type": "display_data"
    },
    {
     "ename": "NameError",
     "evalue": "name 'm' is not defined",
     "output_type": "error",
     "traceback": [
      "\u001b[1;31m---------------------------------------------------------------------------\u001b[0m",
      "\u001b[1;31mKeyboardInterrupt\u001b[0m                         Traceback (most recent call last)",
      "\u001b[1;32m~\\AppData\\Local\\Temp/ipykernel_58136/1680608363.py\u001b[0m in \u001b[0;36m<module>\u001b[1;34m\u001b[0m\n\u001b[0;32m     61\u001b[0m                 \u001b[0mdict\u001b[0m\u001b[1;33m[\u001b[0m\u001b[0mi\u001b[0m\u001b[1;33m]\u001b[0m \u001b[1;33m=\u001b[0m \u001b[0mmarket\u001b[0m\u001b[1;33m\u001b[0m\u001b[1;33m\u001b[0m\u001b[0m\n\u001b[1;32m---> 62\u001b[1;33m                 \u001b[0mtime\u001b[0m\u001b[1;33m.\u001b[0m\u001b[0msleep\u001b[0m\u001b[1;33m(\u001b[0m\u001b[1;36m1\u001b[0m\u001b[1;33m)\u001b[0m\u001b[1;33m\u001b[0m\u001b[1;33m\u001b[0m\u001b[0m\n\u001b[0m\u001b[0;32m     63\u001b[0m \u001b[1;33m\u001b[0m\u001b[0m\n",
      "\u001b[1;31mKeyboardInterrupt\u001b[0m: ",
      "\nDuring handling of the above exception, another exception occurred:\n",
      "\u001b[1;31mNameError\u001b[0m                                 Traceback (most recent call last)",
      "\u001b[1;32m~\\AppData\\Local\\Temp/ipykernel_58136/1680608363.py\u001b[0m in \u001b[0;36m<module>\u001b[1;34m\u001b[0m\n\u001b[0;32m     63\u001b[0m \u001b[1;33m\u001b[0m\u001b[0m\n\u001b[0;32m     64\u001b[0m             \u001b[1;32mexcept\u001b[0m \u001b[1;33m:\u001b[0m\u001b[1;33m\u001b[0m\u001b[1;33m\u001b[0m\u001b[0m\n\u001b[1;32m---> 65\u001b[1;33m                 \u001b[0mprint\u001b[0m\u001b[1;33m(\u001b[0m\u001b[0mm\u001b[0m\u001b[1;33m)\u001b[0m\u001b[1;33m\u001b[0m\u001b[1;33m\u001b[0m\u001b[0m\n\u001b[0m",
      "\u001b[1;31mNameError\u001b[0m: name 'm' is not defined"
     ]
    }
   ],
   "source": [
    "# 다합치기\n",
    "dict = {}    # 전체 크롤링 데이터를 담을 그릇\n",
    "number = 5  # 수집할 글 갯수\n",
    "리뷰 = []\n",
    "별점 = []\n",
    "\n",
    "for i in tqdm_notebook(range(0, number)):\n",
    "    # url 불러오기\n",
    "    url = url_load[\"url\"][i]\n",
    "    chrome_path = chromedriver_autoinstaller.install()\n",
    "    driver = webdriver.Chrome(chrome_path)\n",
    "    driver.get(url)   # 글 띄우기\n",
    "    time.sleep(2)\n",
    "    while True:\n",
    "        page_chek = driver.find_element_by_css_selector(\"#REVIEW > div > div._2y6yIawL6t > div > div.cv6id6JEkg > div > div\") # 리뷰 다시 시작할때\n",
    "        pages = page_chek.find_elements_by_css_selector('a') # 리뷰 페이지 클릭하기 위해서\n",
    "        for z in tqdm(range(2, 12)):\n",
    "            try:\n",
    "                market = {} # 개별 쇼핑몰 담을 딕셔너리\n",
    "                \n",
    "                # 총 별점\n",
    "                overlays1 = \"#REVIEW > div > div._25tRcZzaD2 > div:nth-child(1) > div > div > div.TFNhvMOrjC._3uz9pzdFUe > div > span\"\n",
    "                sta = driver.find_element_by_css_selector(overlays1)\n",
    "                star_average = sta.text[7:10]\n",
    "\n",
    "                # 총 리뷰 갯수\n",
    "                overlays2 = \"#REVIEW > div > div._25tRcZzaD2 > div:nth-child(1) > div > div > div.TFNhvMOrjC._1UShjXo5FC > div > span.blind\"\n",
    "                rev = driver.find_element_by_css_selector(overlays2)\n",
    "                review_number = rev.text[:6]\n",
    "\n",
    "                # 개인 리뷰 수집\n",
    "                overlays3 = \"._19SE1Dnqkf .YEtwtZFLDz\"\n",
    "                repurchase = driver.find_elements_by_css_selector(overlays3)\n",
    "                for x in repurchase:\n",
    "                    if True :\n",
    "                        driver.find_element_by_css_selector(\"._1eidska71d\")\n",
    "                    else:\n",
    "                        driver.find_element_by_css_selector(overlays3)\n",
    "                    repurchase = x.text\n",
    "                    리뷰.append(repurchase)\n",
    "\n",
    "                # 개인 별점 수집\n",
    "                overlays4 = \"._1YShY6EQ56 ._37TlmH3OaI ._2V6vMO_iLm ._15NU42F3kT\"\n",
    "                reviewstar = driver.find_elements_by_css_selector(overlays4)\n",
    "                for reviewstar in reviewstar:    \n",
    "                    reviewstar = reviewstar.text\n",
    "                    별점.append(reviewstar)\n",
    "                    \n",
    "                # 글 하나를 \"market\"라는 딕셔너리에 담는다.\n",
    "                market['star_average'] = star_average\n",
    "                market['review_number'] = review_number\n",
    "                market['리뷰'] = 리뷰\n",
    "                market['별점'] = 별점\n",
    "\n",
    "                # 다음 페이지 클릭\n",
    "                pages[z].click()\n",
    "                time.sleep(1)\n",
    "                \n",
    "                # 각각의 글은 dict라는 딕셔너리에 담기게 됩니다.\n",
    "                dict[i] = market\n",
    "                time.sleep(1)\n",
    "                \n",
    "            except :\n",
    "                print(m)"
   ]
  },
  {
   "cell_type": "code",
   "execution_count": 347,
   "id": "e59e1976",
   "metadata": {
    "scrolled": true
   },
   "outputs": [
    {
     "data": {
      "text/plain": [
       "'4.8'"
      ]
     },
     "execution_count": 347,
     "metadata": {},
     "output_type": "execute_result"
    }
   ],
   "source": [
    "star_average"
   ]
  },
  {
   "cell_type": "code",
   "execution_count": 348,
   "id": "ab81a64e",
   "metadata": {},
   "outputs": [
    {
     "data": {
      "text/plain": [
       "'13,580'"
      ]
     },
     "execution_count": 348,
     "metadata": {},
     "output_type": "execute_result"
    }
   ],
   "source": [
    "review_number"
   ]
  },
  {
   "cell_type": "code",
   "execution_count": 368,
   "id": "6266a375",
   "metadata": {},
   "outputs": [
    {
     "data": {
      "text/plain": [
       "['1잉',\n",
       " '5잉',\n",
       " '5잉',\n",
       " '5잉',\n",
       " '5잉',\n",
       " '5잉',\n",
       " '5잉',\n",
       " '1잉',\n",
       " '5잉',\n",
       " '5잉',\n",
       " '5잉',\n",
       " '5잉',\n",
       " '5잉',\n",
       " '5잉',\n",
       " '5잉',\n",
       " '5잉',\n",
       " '5잉',\n",
       " '5잉',\n",
       " '5잉',\n",
       " '5잉',\n",
       " '5잉',\n",
       " '5잉',\n",
       " '5잉',\n",
       " '5잉',\n",
       " '4잉',\n",
       " '5잉',\n",
       " '5잉',\n",
       " '5잉',\n",
       " '5잉',\n",
       " '5잉',\n",
       " '5잉',\n",
       " '5잉',\n",
       " '5잉',\n",
       " '5잉',\n",
       " '5잉',\n",
       " '5잉',\n",
       " '5잉',\n",
       " '5잉',\n",
       " '5잉',\n",
       " '5잉',\n",
       " '5잉',\n",
       " '5잉',\n",
       " '4잉',\n",
       " '5잉',\n",
       " '5잉',\n",
       " '5잉',\n",
       " '5잉',\n",
       " '5잉',\n",
       " '5잉',\n",
       " '5잉',\n",
       " '5잉',\n",
       " '5잉',\n",
       " '5잉',\n",
       " '5잉',\n",
       " '5잉',\n",
       " '4잉',\n",
       " '5잉',\n",
       " '5잉',\n",
       " '5잉',\n",
       " '5잉',\n",
       " '5잉',\n",
       " '5잉',\n",
       " '5잉',\n",
       " '5잉',\n",
       " '5잉',\n",
       " '5잉',\n",
       " '5잉',\n",
       " '5잉',\n",
       " '5잉',\n",
       " '5잉',\n",
       " '5잉',\n",
       " '5잉',\n",
       " '5잉',\n",
       " '5잉',\n",
       " '5잉',\n",
       " '5잉',\n",
       " '5잉',\n",
       " '5잉',\n",
       " '5잉',\n",
       " '5잉',\n",
       " '5잉',\n",
       " '5잉',\n",
       " '5잉',\n",
       " '5잉',\n",
       " '5잉',\n",
       " '5잉',\n",
       " '5잉',\n",
       " '5잉',\n",
       " '5잉',\n",
       " '5잉',\n",
       " '5잉',\n",
       " '5잉',\n",
       " '5잉',\n",
       " '5잉',\n",
       " '5잉',\n",
       " '5잉',\n",
       " '5잉',\n",
       " '5잉',\n",
       " '5잉',\n",
       " '5잉',\n",
       " '5잉',\n",
       " '5잉',\n",
       " '5잉',\n",
       " '5잉',\n",
       " '5잉',\n",
       " '5잉',\n",
       " '5잉',\n",
       " '5잉',\n",
       " '5잉',\n",
       " '5잉',\n",
       " '5잉',\n",
       " '5잉',\n",
       " '5잉',\n",
       " '5잉',\n",
       " '5잉',\n",
       " '5잉',\n",
       " '5잉',\n",
       " '5잉',\n",
       " '5잉',\n",
       " '5잉',\n",
       " '5잉',\n",
       " '5잉',\n",
       " '5잉',\n",
       " '5잉',\n",
       " '4잉',\n",
       " '5잉',\n",
       " '5잉',\n",
       " '5잉',\n",
       " '5잉',\n",
       " '5잉',\n",
       " '5잉',\n",
       " '5잉',\n",
       " '5잉',\n",
       " '5잉',\n",
       " '5잉',\n",
       " '5잉',\n",
       " '5잉',\n",
       " '5잉',\n",
       " '5잉',\n",
       " '5잉',\n",
       " '5잉',\n",
       " '5잉',\n",
       " '5잉',\n",
       " '5잉',\n",
       " '5잉',\n",
       " '5잉',\n",
       " '5잉',\n",
       " '5잉',\n",
       " '5잉',\n",
       " '5잉',\n",
       " '5잉',\n",
       " '5잉',\n",
       " '5잉',\n",
       " '5잉',\n",
       " '5잉',\n",
       " '5잉',\n",
       " '5잉',\n",
       " '5잉',\n",
       " '5잉',\n",
       " '5잉',\n",
       " '5잉',\n",
       " '5잉',\n",
       " '5잉',\n",
       " '5잉',\n",
       " '5잉',\n",
       " '5잉',\n",
       " '5잉',\n",
       " '5잉',\n",
       " '5잉',\n",
       " '5잉',\n",
       " '5잉',\n",
       " '5잉',\n",
       " '5잉',\n",
       " '5잉',\n",
       " '5잉',\n",
       " '5잉',\n",
       " '5잉',\n",
       " '5잉',\n",
       " '5잉',\n",
       " '5잉',\n",
       " '5잉',\n",
       " '5잉',\n",
       " '5잉',\n",
       " '5잉',\n",
       " '5잉',\n",
       " '5잉',\n",
       " '5잉',\n",
       " '5잉',\n",
       " '5잉',\n",
       " '5잉',\n",
       " '5잉',\n",
       " '5잉',\n",
       " '5잉',\n",
       " '5잉',\n",
       " '5잉',\n",
       " '5잉',\n",
       " '5잉',\n",
       " '5잉',\n",
       " '5잉',\n",
       " '4잉',\n",
       " '5잉',\n",
       " '5잉',\n",
       " '4잉',\n",
       " '5잉',\n",
       " '5잉',\n",
       " '5잉',\n",
       " '5잉',\n",
       " '5잉',\n",
       " '5잉',\n",
       " '5잉',\n",
       " '5잉',\n",
       " '5잉',\n",
       " '4잉',\n",
       " '5잉',\n",
       " '5잉',\n",
       " '4잉',\n",
       " '5잉',\n",
       " '5잉',\n",
       " '5잉',\n",
       " '5잉',\n",
       " '5잉',\n",
       " '5잉',\n",
       " '5잉',\n",
       " '5잉',\n",
       " '5잉',\n",
       " '5잉',\n",
       " '5잉',\n",
       " '4잉',\n",
       " '5잉',\n",
       " '5잉',\n",
       " '5잉',\n",
       " '5잉',\n",
       " '5잉',\n",
       " '5잉',\n",
       " '5잉',\n",
       " '5잉',\n",
       " '5잉',\n",
       " '5잉',\n",
       " '5잉',\n",
       " '5잉',\n",
       " '5잉',\n",
       " '5잉',\n",
       " '5잉',\n",
       " '5잉',\n",
       " '5잉',\n",
       " '5잉',\n",
       " '5잉',\n",
       " '5잉',\n",
       " '5잉',\n",
       " '5잉',\n",
       " '5잉',\n",
       " '5잉',\n",
       " '4잉',\n",
       " '5잉',\n",
       " '5잉',\n",
       " '5잉',\n",
       " '5잉',\n",
       " '5잉',\n",
       " '5잉',\n",
       " '5잉',\n",
       " '5잉',\n",
       " '5잉',\n",
       " '5잉',\n",
       " '5잉',\n",
       " '5잉',\n",
       " '5잉',\n",
       " '5잉',\n",
       " '5잉',\n",
       " '5잉',\n",
       " '5잉',\n",
       " '5잉',\n",
       " '5잉',\n",
       " '5잉',\n",
       " '5잉',\n",
       " '5잉',\n",
       " '5잉',\n",
       " '5잉',\n",
       " '5잉',\n",
       " '5잉',\n",
       " '5잉',\n",
       " '5잉',\n",
       " '5잉',\n",
       " '5잉',\n",
       " '5잉',\n",
       " '5잉',\n",
       " '5잉',\n",
       " '5잉',\n",
       " '5잉',\n",
       " '5잉',\n",
       " '4잉',\n",
       " '5잉',\n",
       " '5잉',\n",
       " '5잉',\n",
       " '5잉',\n",
       " '5잉',\n",
       " '5잉',\n",
       " '5잉',\n",
       " '5잉',\n",
       " '5잉',\n",
       " '5잉',\n",
       " '3잉',\n",
       " '5잉',\n",
       " '5잉',\n",
       " '5잉',\n",
       " '5잉',\n",
       " '5잉',\n",
       " '5잉',\n",
       " '5잉',\n",
       " '5잉',\n",
       " '5잉',\n",
       " '5잉',\n",
       " '5잉',\n",
       " '5잉',\n",
       " '5잉',\n",
       " '5잉',\n",
       " '5잉',\n",
       " '2잉',\n",
       " '5잉',\n",
       " '5잉',\n",
       " '5잉',\n",
       " '5잉',\n",
       " '5잉',\n",
       " '5잉',\n",
       " '5잉',\n",
       " '5잉',\n",
       " '5잉',\n",
       " '5잉',\n",
       " '5잉',\n",
       " '5잉',\n",
       " '5잉',\n",
       " '5잉',\n",
       " '5잉',\n",
       " '5잉',\n",
       " '5잉',\n",
       " '5잉',\n",
       " '2잉',\n",
       " '4잉',\n",
       " '5잉',\n",
       " '5잉',\n",
       " '5잉',\n",
       " '5잉',\n",
       " '5잉',\n",
       " '5잉',\n",
       " '5잉',\n",
       " '5잉',\n",
       " '5잉',\n",
       " '5잉',\n",
       " '5잉',\n",
       " '5잉',\n",
       " '5잉',\n",
       " '5잉',\n",
       " '5잉',\n",
       " '5잉',\n",
       " '2잉',\n",
       " '4잉',\n",
       " '4잉',\n",
       " '5잉',\n",
       " '5잉',\n",
       " '5잉',\n",
       " '5잉',\n",
       " '5잉',\n",
       " '5잉',\n",
       " '5잉',\n",
       " '5잉',\n",
       " '5잉',\n",
       " '5잉',\n",
       " '3잉',\n",
       " '5잉',\n",
       " '5잉',\n",
       " '5잉',\n",
       " '5잉',\n",
       " '5잉',\n",
       " '4잉',\n",
       " '5잉',\n",
       " '5잉',\n",
       " '3잉',\n",
       " '5잉',\n",
       " '5잉',\n",
       " '5잉',\n",
       " '5잉',\n",
       " '5잉',\n",
       " '5잉',\n",
       " '5잉',\n",
       " '5잉',\n",
       " '4잉',\n",
       " '5잉',\n",
       " '4잉',\n",
       " '5잉',\n",
       " '5잉',\n",
       " '5잉',\n",
       " '5잉',\n",
       " '5잉',\n",
       " '5잉',\n",
       " '5잉',\n",
       " '5잉',\n",
       " '5잉',\n",
       " '5잉',\n",
       " '5잉',\n",
       " '5잉',\n",
       " '4잉',\n",
       " '5잉',\n",
       " '5잉',\n",
       " '5잉',\n",
       " '5잉',\n",
       " '5잉',\n",
       " '5잉',\n",
       " '5잉',\n",
       " '3잉',\n",
       " '5잉',\n",
       " '5잉',\n",
       " '5잉',\n",
       " '5잉',\n",
       " '5잉',\n",
       " '5잉',\n",
       " '5잉',\n",
       " '5잉',\n",
       " '5잉',\n",
       " '5잉',\n",
       " '5잉',\n",
       " '5잉',\n",
       " '5잉',\n",
       " '5잉',\n",
       " '5잉',\n",
       " '5잉',\n",
       " '5잉',\n",
       " '5잉',\n",
       " '5잉',\n",
       " '5잉',\n",
       " '5잉',\n",
       " '5잉',\n",
       " '5잉',\n",
       " '5잉',\n",
       " '5잉',\n",
       " '5잉',\n",
       " '5잉',\n",
       " '5잉',\n",
       " '5잉',\n",
       " '5잉',\n",
       " '5잉',\n",
       " '5잉',\n",
       " '5잉',\n",
       " '5잉',\n",
       " '4잉',\n",
       " '5잉',\n",
       " '5잉',\n",
       " '5잉',\n",
       " '5잉',\n",
       " '5잉',\n",
       " '5잉',\n",
       " '5잉',\n",
       " '5잉',\n",
       " '5잉',\n",
       " '5잉',\n",
       " '5잉',\n",
       " '5잉',\n",
       " '5잉',\n",
       " '5잉',\n",
       " '5잉',\n",
       " '1잉',\n",
       " '5잉',\n",
       " '5잉',\n",
       " '5잉',\n",
       " '5잉',\n",
       " '5잉',\n",
       " '5잉',\n",
       " '5잉',\n",
       " '5잉',\n",
       " '5잉',\n",
       " '5잉',\n",
       " '5잉',\n",
       " '5잉',\n",
       " '5잉',\n",
       " '5잉',\n",
       " '5잉',\n",
       " '5잉',\n",
       " '5잉',\n",
       " '5잉',\n",
       " '5잉',\n",
       " '5잉',\n",
       " '5잉',\n",
       " '5잉',\n",
       " '5잉',\n",
       " '5잉',\n",
       " '5잉',\n",
       " '5잉',\n",
       " '5잉',\n",
       " '5잉',\n",
       " '5잉',\n",
       " '5잉',\n",
       " '5잉',\n",
       " '5잉',\n",
       " '5잉',\n",
       " '5잉',\n",
       " '5잉',\n",
       " '5잉',\n",
       " '5잉',\n",
       " '5잉',\n",
       " '5잉',\n",
       " '5잉',\n",
       " '5잉',\n",
       " '5잉',\n",
       " '5잉',\n",
       " '5잉',\n",
       " '5잉',\n",
       " '5잉',\n",
       " '5잉',\n",
       " '5잉',\n",
       " '5잉',\n",
       " '5잉',\n",
       " '5잉',\n",
       " '5잉',\n",
       " '5잉',\n",
       " '5잉',\n",
       " '5잉',\n",
       " '5잉',\n",
       " '5잉',\n",
       " '5잉',\n",
       " '5잉',\n",
       " '5잉',\n",
       " '5잉',\n",
       " '5잉',\n",
       " '2잉',\n",
       " '5잉',\n",
       " '5잉',\n",
       " '5잉',\n",
       " '5잉',\n",
       " '5잉',\n",
       " '5잉',\n",
       " '5잉',\n",
       " '5잉',\n",
       " '5잉',\n",
       " '5잉',\n",
       " '5잉',\n",
       " '5잉',\n",
       " '5잉',\n",
       " '4잉',\n",
       " '5잉',\n",
       " '5잉',\n",
       " '5잉',\n",
       " '5잉',\n",
       " '4잉',\n",
       " '5잉',\n",
       " '5잉',\n",
       " '5잉',\n",
       " '5잉',\n",
       " '5잉',\n",
       " '5잉',\n",
       " '5잉',\n",
       " '5잉',\n",
       " '5잉',\n",
       " '5잉',\n",
       " '5잉',\n",
       " '5잉',\n",
       " '5잉',\n",
       " '5잉',\n",
       " '5잉',\n",
       " '5잉',\n",
       " '5잉',\n",
       " '5잉',\n",
       " '5잉',\n",
       " '5잉',\n",
       " '5잉',\n",
       " '5잉',\n",
       " '5잉',\n",
       " '5잉',\n",
       " '5잉',\n",
       " '5잉',\n",
       " '5잉',\n",
       " '5잉',\n",
       " '5잉',\n",
       " '5잉',\n",
       " '1잉',\n",
       " '5잉',\n",
       " '5잉',\n",
       " '5잉',\n",
       " '5잉',\n",
       " '5잉',\n",
       " '5잉',\n",
       " '5잉',\n",
       " '5잉',\n",
       " '5잉',\n",
       " '5잉',\n",
       " '5잉',\n",
       " '5잉',\n",
       " '5잉',\n",
       " '5잉',\n",
       " '5잉',\n",
       " '5잉',\n",
       " '5잉',\n",
       " '5잉',\n",
       " '5잉',\n",
       " '5잉',\n",
       " '5잉',\n",
       " '5잉',\n",
       " '5잉',\n",
       " '5잉',\n",
       " '5잉',\n",
       " '5잉',\n",
       " '5잉',\n",
       " '5잉',\n",
       " '5잉',\n",
       " '5잉',\n",
       " '5잉',\n",
       " '5잉',\n",
       " '5잉',\n",
       " '5잉',\n",
       " '5잉',\n",
       " '5잉',\n",
       " '5잉',\n",
       " '5잉',\n",
       " '5잉',\n",
       " '5잉',\n",
       " '5잉',\n",
       " '5잉',\n",
       " '5잉',\n",
       " '5잉',\n",
       " '5잉',\n",
       " '5잉',\n",
       " '5잉',\n",
       " '5잉',\n",
       " '5잉',\n",
       " '5잉',\n",
       " '5잉',\n",
       " '5잉',\n",
       " '5잉',\n",
       " '5잉',\n",
       " '5잉',\n",
       " '5잉',\n",
       " '5잉',\n",
       " '5잉',\n",
       " '5잉',\n",
       " '5잉',\n",
       " '5잉',\n",
       " '5잉',\n",
       " '5잉',\n",
       " '5잉',\n",
       " '5잉',\n",
       " '5잉',\n",
       " '5잉',\n",
       " '5잉',\n",
       " '5잉',\n",
       " '5잉',\n",
       " '5잉',\n",
       " '5잉',\n",
       " '5잉',\n",
       " '5잉',\n",
       " '5잉',\n",
       " '5잉',\n",
       " '5잉',\n",
       " '5잉',\n",
       " '5잉',\n",
       " '5잉',\n",
       " '5잉',\n",
       " '5잉',\n",
       " '5잉',\n",
       " '5잉',\n",
       " '5잉',\n",
       " '5잉',\n",
       " '5잉',\n",
       " '5잉',\n",
       " '5잉',\n",
       " '5잉',\n",
       " '5잉',\n",
       " '5잉',\n",
       " '5잉',\n",
       " '5잉',\n",
       " '5잉',\n",
       " '3잉',\n",
       " '5잉',\n",
       " '5잉',\n",
       " '4잉',\n",
       " '5잉',\n",
       " '5잉',\n",
       " '5잉',\n",
       " '5잉',\n",
       " '5잉',\n",
       " '5잉',\n",
       " '5잉',\n",
       " '5잉',\n",
       " '5잉',\n",
       " '5잉',\n",
       " '5잉',\n",
       " '5잉',\n",
       " '5잉',\n",
       " '5잉',\n",
       " '5잉',\n",
       " '5잉',\n",
       " '5잉',\n",
       " '5잉',\n",
       " '5잉',\n",
       " '5잉',\n",
       " '5잉',\n",
       " '5잉',\n",
       " '5잉',\n",
       " '5잉',\n",
       " '5잉',\n",
       " '5잉',\n",
       " '5잉',\n",
       " '5잉',\n",
       " '5잉',\n",
       " '2잉',\n",
       " '5잉',\n",
       " '5잉',\n",
       " '5잉',\n",
       " '5잉',\n",
       " '5잉',\n",
       " '5잉',\n",
       " '5잉',\n",
       " '5잉',\n",
       " '5잉',\n",
       " '5잉',\n",
       " '5잉',\n",
       " '5잉',\n",
       " '5잉',\n",
       " '5잉',\n",
       " '5잉',\n",
       " '5잉',\n",
       " '5잉',\n",
       " '5잉',\n",
       " '5잉',\n",
       " '5잉',\n",
       " '5잉',\n",
       " '5잉',\n",
       " '5잉',\n",
       " '5잉',\n",
       " '5잉',\n",
       " '5잉',\n",
       " '5잉',\n",
       " '5잉',\n",
       " '3잉',\n",
       " '5잉',\n",
       " '5잉',\n",
       " '5잉',\n",
       " '5잉',\n",
       " '5잉',\n",
       " '4잉',\n",
       " '5잉',\n",
       " '5잉',\n",
       " '5잉',\n",
       " '5잉',\n",
       " '5잉',\n",
       " '5잉',\n",
       " '5잉',\n",
       " '5잉',\n",
       " '4잉',\n",
       " '5잉',\n",
       " '5잉',\n",
       " '5잉',\n",
       " '5잉',\n",
       " '5잉',\n",
       " '5잉',\n",
       " '5잉',\n",
       " '5잉',\n",
       " '5잉',\n",
       " '5잉',\n",
       " '5잉',\n",
       " '5잉',\n",
       " '5잉',\n",
       " '5잉',\n",
       " '5잉',\n",
       " '5잉',\n",
       " '5잉',\n",
       " '5잉',\n",
       " '5잉',\n",
       " '5잉',\n",
       " '5잉',\n",
       " '4잉',\n",
       " '5잉',\n",
       " '5잉',\n",
       " '5잉',\n",
       " '5잉',\n",
       " '5잉',\n",
       " '5잉',\n",
       " '5잉',\n",
       " '5잉',\n",
       " '5잉',\n",
       " '5잉',\n",
       " '5잉',\n",
       " '5잉',\n",
       " '5잉']"
      ]
     },
     "execution_count": 368,
     "metadata": {},
     "output_type": "execute_result"
    }
   ],
   "source": [
    "별점"
   ]
  },
  {
   "cell_type": "code",
   "execution_count": 367,
   "id": "0b1bdcba",
   "metadata": {},
   "outputs": [
    {
     "data": {
      "text/plain": [
       "['재구매꽃바구니랑 같이 구매했는데 훨씬 저렴한 꽃바구니가 더 비싸보이고 예뻐요 이 가격이 맞나 싶을정도로 허술하구여 꽃이 다 시들어있어요..잎파리는 왜이렇게 많은지 ㅎㅎㅎ받는 사람한테 주기 미안할 정도예요;;',\n",
       " '배송도 빠르고 좋아요.\\n단지 다른지역에는 두개주문하면 디자인을 조금 틀리게 해주시던데 똑같은거네요',\n",
       " '선물받으신분이 이쁘대요ㅎㅎ\\n맘에들어해서 다행이네요\\n감사합니다',\n",
       " '중간중간 피드백도 좋고, \\n상담도 친절하고..  매우매우 좋아요',\n",
       " '빠른배송과 요청사항에 맞게 잘 전달해 주셔서 감사합니다~^^',\n",
       " '재구매배송도 빠르고 친절하구 너무 감사합니다',\n",
       " '다른 곳보다 가격이 저렴해서 좋아요\\n제 시간에 왓어요',\n",
       " '재구매정말 중요한 상이였는데 배송이 늦어서 너무 속상했어요..',\n",
       " '사진보다 이쁩니다~  가성비 좋음~',\n",
       " '재구매항상 여기서 주문하고 있습니다.',\n",
       " '재구매언제나 만족하면서 애용중입니다.',\n",
       " '재구매진짜 빨리 내주셔서 감사해요 1등으로 도착했어요\\n역시 단골할만합니다\\n저렴하고 빠르고 정확하고 싱싱하고',\n",
       " '재구매빠르게 잘 받았습니다.',\n",
       " '재구매배송빠르고 좋았네요',\n",
       " '한달사용기정성스런 화환 덕분에 선물 받으신 분이 좋아하셨습니다!',\n",
       " '재구매굿굿 빠른배송고맙습니다',\n",
       " '재구매굿굿 빠른배송고맙습니다',\n",
       " '재구매아주좋아요 사용하기편해요 간편해요',\n",
       " '재구매항상쓰는곳입니다~~~~~',\n",
       " '빠르고 정확합니다 항상 이용중',\n",
       " '한달사용기재구매항상 빨리 진행해 주셔서 감사합니다',\n",
       " '재구매화환은 삼오플라워에서만 주문하고 있어요. 항상 만족하고 있습니다.',\n",
       " '아주 좋아요 굿굿굿',\n",
       " '빠른배송에 퀄리티가 좋아요',\n",
       " '꽃이 좀 더 풍성햇음해요',\n",
       " '재구매항상 감사합니다 번창하세요',\n",
       " '재구매빠른배송과 풍성한 꽃이 맘에듭니다\\n그리고 항상 배달즉시 사진을 보내줘서 확인할수있어서 좋아요',\n",
       " '재구매어제 저녁 늦게 주문했는데 아침일찍 최선을 다해서 배송해주셔서 결혼식 이쁘게 잘  치뤄드렸습니다',\n",
       " '매번 빠르고 정확하게 잘해줌',\n",
       " '항상 잘 이용하고 있어요',\n",
       " '날짜,시간 잘 맞춰서 도착한 것 같아요 실물로 보진 못했지만 좋아하시네요 감사합니다^^',\n",
       " '배송빠르고 너무 좋아요~ 감사합니다',\n",
       " '재구매배송빠르고 너무 좋아요~ 감사합니다',\n",
       " '재구매회사일로 계속 이용하고 있는데 대응도 잘해주시고 좋아요. 앞으로도 이용할께요.수고하셨습니다',\n",
       " '재구매항상 이용해요 가격도 괜찮고 배달완료후엔 사진까지 전송해줘요',\n",
       " '한달사용기재구매항상 잘 애용하고있어요\\n최고에요',\n",
       " '어머니가 좋아하셨어요 감사합니다',\n",
       " '재구매늘 여기서 구매하게 되네요~\\n배송도 원하는 시간 잘 해 주시고 피드백도 좋아 감사합니다.\\n번창하세요~~',\n",
       " '재구매일요일이라서 아침 배송이 안되서 아쉬웠지만 어쩔수 없지용',\n",
       " '재구매항상 믿고 주문합니다.',\n",
       " '재구매빠른배송이라 좋아요',\n",
       " '재구매정확한 배송 감사합니다',\n",
       " '한달사용기집안 행사에 적은 경비로 아름다운 꽃을 받을수  있어서 감사했습니다.',\n",
       " '재구매늦었지만 리뷰합니다\\n항상 좋은화환 신속한배송 저렴함 감사합니다',\n",
       " '재구매사무실에서 이용중이예요. 친절합니다.',\n",
       " '재구매만족합니다 주말에도 빠르고 좋아요',\n",
       " '배송이 늦은 건지 문자가 늦은 건지 요청 시간보다 늦었네요 그렇지만 상춤 사진보니 마음에 들어서 별5개 드립니다 제품 설명 사진과 다를 수 있다는 안내 받았는데 제품 안내 사진보다 더 마음에 드네요',\n",
       " '재구매배달완료 사진까지 잘찍어서 보내주셔서 감사합니다',\n",
       " '재구매항상 꽃배달이나 화환은 여기 이용하는데 저렴하고 가격대비질도 좋습니다~',\n",
       " '3시간 만에 배송 되고 좋았어요!',\n",
       " '두번째 이용인데 당일 급하게 신청했는데 예쁘게 만들어 보내주셨어요^^\\n배송즉시 사진까지 보내주시고 넘 좋아요\\n전 계속 여기만 이용할려구요 ㅎ ㅎ\\n\\n※사진보내주신걸 올리려니 안올라가네요;;',\n",
       " '어느새 사촌조카가 결혼을 한다고 연락이 왔네요.\\n마침 당일에 일이있어서 참석을 못해서 전화로 인사는 드렸는데...\\n그래도, 화환 하나는 보내야겠기에 여기저기 알아보다가\\n이곳에서 주문하게 되었네요..\\n\\n주문후에 고객센터에서도 확인전화까지 주시고...ㅎㅎㅎ\\n나중에 친척어른들 한테도 너가보낸 화환 잘받았다고\\n고맙다는 인사는 덤으로 받았습니다..\\n\\n나중에도 화환이나 꽃은 이곳에서 주문해야겠네요...\\n감사합니다...',\n",
       " '재구매항상 감사합니다~ 번창하세요~',\n",
       " '친구가 이번에 학원을 개업한다고 하네요\\n요즘에 우리아이들도 학원이다 온라인이다 날리던데..\\n잘되라는 이야기도 해주고..\\n명색이 개업하는데 그래도\\n지나가면서 알아보고, 소문나라고 화환을 하나 보내주려고 알아보다가\\n이곳에서 주문까지 했습니다.\\n\\n배송후에 사진주신것 보니 풍성하게 해서 잘배송되었네요.\\n감사합니다..\\n\\n다음에도 이곳 자주자주 이용할게요...\\n\\n수고하세요...ㅎㅎ',\n",
       " '지방이라 추가로 돈을 더 냈지만 가격이 괜찮아요 배송도 빠르구요',\n",
       " '재구매항상 여기서 보내요.\\n수고하세요',\n",
       " '재구매빠르게 잘 도착했어요.',\n",
       " '원래 주문하던 업체가 있었는데 마지막에 주문했을때 문제가 좀 있어서 업체를 바꿔서 주문했습니다. 시간도 아주 잘 지켜주셨고 제일 걱정했던 퀄리티가 제가 원하던 화환 그 모습으로 도착해서 맘이 놓였네요^^~\\n늦지않게 그리고 좋은제품으로 잘 도착하게해주셔서 감사합니다^^~',\n",
       " '급하게 당일에 주문했는데 제시간에 맞춰서 도착했어요 감사합니다. 상태도 좋고 마음에 들었어요 다음에 재구매 의사 있음. 다음에 주문시 최소 전날에는 주문할께요~~',\n",
       " '한달사용기좋아요 ㅎㅎ 오늘 또 주문하려고요 ^^',\n",
       " '재구매사무실에서 사용해요. 빠른배송, 친절한 응대 감사합니다.',\n",
       " '재구매사무실에서 사용해요. 빠른배송, 친절한 응대 감사합니다.',\n",
       " '한달사용기재구매늘 애용하는데 좋습니다 다시 재구매합니다',\n",
       " '재구매감사합니다 자주 사용하고있네요!',\n",
       " '배송도 너무 빠르고 품질이 너무 좋아요!! 매번 이용하고 있어요',\n",
       " '재구매여기서만 주문해요. 좋아요.',\n",
       " '재구매배송빠르고 좋아요,',\n",
       " '한달사용기잘 받았습니다. 자주 이용하고 주변에도 알리고 있어요 사업 번창 하십시요',\n",
       " '한달사용기재구매잘 받았습니다. 자주 이용하고 주변에도 알리고 있어요 사업 번창 하십시요',\n",
       " '한달사용기재구매항상 주문하는 곳이에요',\n",
       " '빠르고 정확히 배송해주셨어요. 감사합니다. \\n보톨 유선으로만 주문해봐서 인터넷 주문은 혹시 배송이 늦을까 걱정했는데 괜한 걱정이었네요. 감사합니다!\\n배달 후에 바로 메세지로 안내도 해주셔서 더 걱정 덜었습니다!',\n",
       " '한달사용기재구매빠른배송 그리고 확인서비스 좋아요',\n",
       " '재구매배송정확하고친절하게배달해주세요',\n",
       " '재구매부모님 아시는 분이 가게오픈하셨다고 화환 선물하신다고 하더라구요~ 그래서 알아봐달라고해서 제가 지난번에 꽃배달 했을때 여기가 괜찮았던걸로 기억해서 화환보냈네요~ 부모님이 가게 다녀와보시곤 화환 좋더라고 칭찬하셨어요^^',\n",
       " '재구매늘 사용해요 친절하고 좋아요',\n",
       " '한달사용기친구들이 좋아한 모습 보니까 기분이 좋네요',\n",
       " '재구매좋아요 빠른배송 감사',\n",
       " '빠른배송 감사합니다 자주이용할게요',\n",
       " '사진까지 찍어서 보내주셨습니다 감사합니다',\n",
       " '빠른배송 감사합니다~!',\n",
       " '꼼꼼하게 배송해주시고 주문상품 동일하게 맞춰주셔서 감사합니다.',\n",
       " '잘받았습니다 감사합니다',\n",
       " '재구매축하할땐 화환 좋은거같아요~ 요즘 결혼식하기도  좀 그런데 친구가 드디어 결혼했거든요! 그래서 넘 축하기념으로 화환보냈습니다~ 문구도 제가 원하는대로 잘 작성해주셨고 실제로보니 더 예쁘네요^^',\n",
       " '재구매화환배송은 최고예요👍시간빠르고 정확해서 매번 이용합니다',\n",
       " '재구매2개 재구매했습니다.\\n감사합니다.',\n",
       " '재구매자주 애용합니다.\\n번창하세요',\n",
       " '배송이 빠르고 좋습니다.',\n",
       " '빠르고 정확해서 좋네요. 담에 또 주문넣고 싶습니다. 개업하는거 바로 알자마자 검색해서 보냈는데 당일배송이 되다니. 친구랑 약속 지켜서다행입니다. 제 개업날에도 화환보내준친구라 저도 부끄럽지않게 보냈어야했거든요.  굿!!',\n",
       " '한달사용기재구매항상 정확하구 신속한 배송과 인증 문자\\n감사합니다',\n",
       " '확인 전화에 문자까지. 빠른 배송 만족이여~ 잘 배송해주셔서 감사합니다',\n",
       " '재구매여기 진짜 변함없네요 ㅋㅋ\\n전에 몇번 시키고 그닥 시킬일 없다고 엄마가 \\n급하게 전화와서 지금 꽃집 갈 상황이 안되는데\\n화환 하나만 시켜달라고 해서 시켰거든요\\n근데 엄마가 비싼거 아니냐고 받은 사람은 고맙다고\\n하는데 화환 비싸보인다고 괜히 내가 부탁해서 비싼거\\n보냈냐고 하시길래 아니라고 가격 말씀 드리니 ㅋㅋ\\n앞으로도 거기 주문해달래요 ㅋㅋ',\n",
       " '한달사용기재구매항상 이용하고 있습니다. 제시간에 사진 잘 보내주어 고맙습니다 받는분도 만족하셨어요',\n",
       " '오후늦게 결혼식에 보내려고 급하게 주문했는데 늦지않게 잘 도착하였네요 \\n늦게도착하여 사진은 못찍었지만 특가인데도 여느화환들 못지않게 화려하여 매우 만족했습니다!',\n",
       " '재구매빠른 배송 좋아요~',\n",
       " '재구매늘 믿고 구매합니다. 항상 빠르게 배송해주시고 도채하면 사진도 찍어 주시고 좋아요',\n",
       " '재구매지난번 꽃배달 매우만족해서 이번에도 이용 해봤어요~ 직접 방문할 개업식이라 제가보낸 화환 가서보니 예쁘더라구요~ ^^  화환이 일찌감치 잘 도착해있어서 넘 좋았답니다~',\n",
       " '재구매여기서만 주문합니다.',\n",
       " '재구매약속한 시간에 잘 맞쳤습니다',\n",
       " '재구매믿고 주문하는 가성비 갑!!',\n",
       " '한달사용기재구매늘 빠르고 도착후 사진도 보내주시고 좋아욥',\n",
       " '재구매급하게 당일 저녁 결혼식때문에 주문했는데 시간맞춰서 잘 도착 했어요~ 너무 감사합니다~ 꽃상태도 좋고 예뻤어요~^^  조만간 또 주문계획있는데 그때 또 잘 부탁드립니다',\n",
       " '친구 아들의 결혼식에 보내는 화환을 알아보려고 여러곳에 알아보다..\\n이곳이 가성비 좋은 화환을 보내는것을 보고,\\n이곳에서 화환을 주문했습니다.\\n\\n직접가서 화환을 보니 다른곳에서 온것보다 더 풍성하고 만족스럽네요..\\n다음에도 또 주문할게요...\\n\\n감사합니다...',\n",
       " '잘 도착했습니다. 고생하세요',\n",
       " '재구매사무실에서 사용하는데 빠른 배송이라 잘 시키고 있어요.',\n",
       " '재구매받은사람이좋아해요~',\n",
       " '재구매받은사람이좋아해요~',\n",
       " '재구매받은사람이좋아해요~',\n",
       " '재구매회사에서 늘 이용해요.\\n급할땐 전화로 주문가능해서 좋아요',\n",
       " '재구매빠른배송 만족입니다. 만족',\n",
       " '재구매친구가 개업했다고해서 축하화환을 배달했습니다.문의할때 어찌나 죄송스러웠던지ㅠㅠ계속되는 질문에도 꼼꼼하고 친절하게 답변해주셔서 감사했습니다.친구가 다른업체들과는 다르게 화환 퀄리티 부분에서도 엄청 좋다면서 마음에 들어하더라구요~^^다음번에도 재주문 하러 오겠습니다!',\n",
       " '재구매이번에 아는 지인이 개인 카페를 오픈했다고 해서 화 하나 보내드렸어요!! 몇 년 동안 준비해서 오픈했는데 좋은 결과가 있기 바라면서 보냈는데 너무 마음에 들어 하시고 이쁘다고 하시네요~ 여기가 화환은 최곤듯합니낭',\n",
       " '친한동생이 결혼한대서 화환을 보냈어요~\\n거리가 너무 먼데다가 코로나가 또 극심해져서 아이데리고 가지는 못하겠더라고요. \\n시간 맞춰서 잘 도착했다고 문자로 보내주셔서 좋았어요.\\n동생도 화환 받고 감사인사 왔더라고요~',\n",
       " '아주 좋았어요~ 화환은 무조건 여기서만 해요',\n",
       " '재구매빠른배송 저렴한가격 최고예요',\n",
       " '재구매잘 받았습니다.. 감사합니다..',\n",
       " '정말 급하게 주문 했는데 이렇게 올 수 있나 싶었는데 4시간전에 주문했는데 시간 잘 맞춰 왔어요 가격도 좋고 정말 로켓총알 배송이네요 빨라도 퀄리티는 아주 좋아요 꽃 싱싱하고 너무 이쁩니다 !',\n",
       " '재구매항상 잘 애용합니다',\n",
       " '빠른 배송에 화환도 너무 이쁘고 좋네요.\\n무엇보다 좋은건 착한 가격이네요',\n",
       " '한달사용기매번 여기서 시킵니다 가격도 저렴하고 배송도 빨라요',\n",
       " '재구매항상 주문하는곳입니다 도착시 사진도 꼭 보내주시고 책임감있게 잘해주시는것같아요',\n",
       " '재구매좋은 화환 보내주셔서 감사요 싱싱해서 좋습니다\\n빠른배송도 감사해요',\n",
       " '재구매매번 이용해요 사진을 못찍었네요ㅜ 감사합니당',\n",
       " '합리적인 가격에 문자로 알려주시고 서비스도 좋았어요',\n",
       " '재구매드디어…일년을 미루던 절친 결혼식~ 그래서 친구들이랑 너무 축하한다며 화환도 하나 보냈어요~ 일찍부터 식장에 가있었는데 화환도 일찍잘 도착했어요~',\n",
       " '재구매꾸준히 이용하고있습니다 감사합니다',\n",
       " '전날 부랴부랴 주문했는데 주문한대로 잘배송되었구 사진도 보내줘서 확인도되고 좋았습니다~꽃도 비어보이지않고 이쁘네요~',\n",
       " '재구매빠르고 정확한 배송에 만족',\n",
       " '재구매배송빠르고 넘좋아요 또구매합니다',\n",
       " '재구매좋은제품으로 대응해주셔서 감사합니다~',\n",
       " '재구매배송빠르고제품도좋아요',\n",
       " '재구매친구 가게 1주년이라서 힘든시기에 잘 견뎌내서 선물로 화환하나 보내주었네용~\\n사장님 믿고 보냈는뎅 ㅎㅎ 역시 시간도 잘맞춰 주시고 감사했습니당!',\n",
       " '재구매매번 여기서 주문해요. 현장 도착 사진 보내주셔서 감사합니지.',\n",
       " '재구매개업식에 보냈어요~ 직접 가보면 더 좋았을텐데 거리가 좀 있어서 못가고 화환으로 대신했어요! 너무 고맙다고 연락왔네여!!^^',\n",
       " '한달사용기재구매빠른배송감사드립니다',\n",
       " '한달사용기재구매품질에서 아주 만족합니다',\n",
       " '재구매배송빠르고 저렴하게 잘 샀습니다.',\n",
       " '재구매자주구매해요\\n항상만족합니다.\\n빠르게배송해주셔서감사해요',\n",
       " '재구매굳!!!!! 화환.',\n",
       " '한달사용기재구매빠른배송 감사합니다',\n",
       " '좋은 제품보내주셔서 감사합니다.',\n",
       " '가격대비 꽃이 정말 마음에 들어요. 예약시간도 정확히 맞춰주시고, 오늘의 꽃으로 고르길 잘한거같아요. 선물받은사람도, 선물한사람도 모두 만족 대만족입니다!^^',\n",
       " '재구매항상 빠르고 좋습니다. 굳',\n",
       " '급하게 축하 화환 보낼일이 생겼는데 처음이라 아는 곳도 없어서 꽃집찾기도 힘들고 인터넷으로 주문해 봤는데 대만족입니다 굳이 여기저기 꽃집 찾으로 가지 않아도 되고 화면 처럼 잘해주셨어요 감사합니다',\n",
       " '재구매화환 배달 인터넷으로 주문하니 배송도 빠르고 좋네욤!\\n사장님께 이것저것 여쭤보고 주문했는데 친절하게 대답도 잘해주시고 ㅎㅎ 넘 좋았답니다!!',\n",
       " '재구매자주 주문합니다 매번 만족합니다',\n",
       " '재구매빠르고 정확해요 감사합니다',\n",
       " '재구매애경사에 항상 35플라워에서 주문한답니다.',\n",
       " '재구매배달완료사진도 전송해주고 꼼꼼하고 좋아요',\n",
       " '한달사용기재구매항상 애용하는 곳입니다.',\n",
       " '한달사용기재구매항상 애용하는 곳입니다.',\n",
       " '재구매빠른 배송 감사합니다',\n",
       " '완전 대만족 입니당!!!',\n",
       " '재구매배송도 빠르고 물건도 좋아요',\n",
       " '매번 화환 보낼때 여기서 하는데 너무 만족이에요 !',\n",
       " '배송잘되고 사진 남겨주고 좋아요',\n",
       " '재구매매번 잘 이용하고 있습니다.~~',\n",
       " '재구매오늘 일요일인데도 잘 처리해 주셔서 정말 감사드려요\\n일요일에 급하게 보내게 되어서 않되면 어쩌나 했는데 감사해요^^',\n",
       " '결혼식에 보내는건데 가지 않고 화환만 보내는 거라 상태가 좀 신경 쓰였는데 사진 받아보니 엄청 꼼꼼하게 만들어서 잘 보내주셨더라구요 배송 시간도 잘 지켜 주셔서 걱정 덜었어요',\n",
       " '저렴하게 구매했어요..',\n",
       " '재구매화환은 매번 여기서 주문을 하는 것 같습니다\\n배송도 너무 잘해주시고 꽃도 싱싱한 것들로 꽂아주셔서 좋네욥!!\\n다음에 또 주문할게욥!',\n",
       " '재구매잘구매했습니다. ㅎㅎ 사진도 보내주십니다',\n",
       " '재구매감사합니다 잘받았습니다',\n",
       " '빠르고 정확하게 배송해주셔서 좋았어요.\\n친구에게 축하해줄일이 있어서 보냈는데, 친구가 넘 좋아하네요 .\\n계속 잘됐으면 좋겠어요. 친구가 행복해하는 모습 보니 넘 좋네요 .감사해요~!',\n",
       " '재구매개업선물로 이만한게 없죠, 가격도 괜찮고 \\n시간도 딱 맞춰서 오셨어요 ! 추운데도 싱싱한 꽃들덕에 \\n가게가 화사하게 느껴졌어요 감사합니다',\n",
       " '재구매화환 시간맞춰 잘 배송해주셔서 감사합니다.\\n꽃도 촘촘하고 싱싱해서 완전 맘에 드네요~ㅎㅎ\\n강추합니닷!!',\n",
       " '재구매정확해서 자주이용합니다',\n",
       " '재구매친구가 결혼하는 상황에서 빈손으로 가기는 그래서\\n축하화환 하나 보냈네요 결혼식시간이 애매해서\\n걱정했는데, 제 시간에 맞게 도착해서 좋았습니다 ^^*',\n",
       " '재구매멀어서 직접 가보지는 못할것 같아서 화환으로 대신했어요 \\n대박났으면 좋겠다는 마음으로 보냈는데 다행이 이번에도\\n화환을 아주 실하게 좋은걸로 보내주셨네요 \\n부실하면 안 보내느만 못한데 여기는 아주 상태 좋아요',\n",
       " '재구매축하할일이 있어서 화환 보냈어요~ 저도 갔는데 저보다 먼저 잘 도착해있더라구요~ 화환도 멋지고 좋았습니다~',\n",
       " '재구매역시  꽃 보내줄때에는 확실히 티나는거 보내줘야 해요^^ 아주 확 티나서 딱 좋더라구요 감사합니다!',\n",
       " '재구매빠른 배송 감사합니다',\n",
       " '한달사용기배송도 빠르고 배송하고 사진까지 인증샷 보내주셔서 너무 만족스럽습니덩',\n",
       " '재구매배송 빠르고 좋아요 ..',\n",
       " '개업식에 보냈어요 꽃도 풍성하고 시든거 없었고 리본도  예쁘게 잘해서 보내주셨네요.  기사님도 친절하시고  착한 가격에 구매하게 되서 부담도 덜게 되고 너무 좋았어요',\n",
       " '재구매거래처 이전 재오픈으로 축하할겸 보냈어요. 원하는 시간에 맞춰서 배송해주셔서 감사합니다^^;; 요청시간보다 빠르게 도착하면 난감할때도 있어 무조건 빠른게 좋은것도 아니더라구요. 늘 일처리 잘해주셔서 만족스러워요 :)',\n",
       " '재구매항상 애용하고 있습니다.',\n",
       " '친구가 개업하는데 멀어서 가보기도 힘들고 화환만 보냈어요 배송하신 다음 사진도 보내주시고 형 친절하시네요 꽃도 화사하고 이쁜 거 같더라구요.  또 이용하러 올게요',\n",
       " '급하게 주문하느라 알아보지도 못하고 주문했는데\\n실물보니 마음에 쏙 드네요\\n화환 주문할 일이 자주 있는데 조만간 또 오겠습니다',\n",
       " '재구매얼마나 신중하게 골랐는지 모르겠네요\\n그래도 잘 선택 했어요 감사합니다 마음에 들어하더군요^^',\n",
       " '재구매얼마나 좋아하는 지 모르겠네요 보면서 저도 너무 좋았습니다 정말로 좋은시간이었어요^^',\n",
       " '재구매쌀화환만 받는다고하여 보냈는데 쌀환환도 괜찮네요~',\n",
       " '받는사람이 만족해하네요',\n",
       " '받는사람이 만족해하네요',\n",
       " '지인분 결혼식에 보냈어요 축하선물은 역시 환이 최고인 듯해요.  엄청 풍성하고 이쁘게 해서 보내주셔서 너무 감사합니다 정성이 가득했네요.   또 주문하러 올게요',\n",
       " '친구네   가게 개업식에 보냈어요 시간도 잘 맞춰 주시고  화환에도 정성이 가득한 게 눈에 보이네요 싱싱한 꽃들이 화사했습니다.   꽃 선물 할일 생기면 또 들릴게요',\n",
       " '재구매여기는 항상 만족스럽네요 \\n바빠서 시중에서 구매할 시간이 안되서 온라인으로 \\n한번 주문해봤었는데 너무 괜찮더라구요 \\n이번에 또 이용해봤는데 처음이랑 똑같이 좋네요 \\n앞으로도 믿고 이용할려구요',\n",
       " '재구매화환 보내야하지하고 생각만하고 있다가 까먹어서 급하게 거래처에 보내면서 사장님께 연락드렸는데 넘 감사하게도 빠른 배송해주셨네요!',\n",
       " '재구매빠르고 정확한 배송',\n",
       " '재구매궁금한거 있어서 전화드렸는데 상담사님 엄청 친절하시네요 \\n제가 잘못 적은게 있어서 급하게 수정이 필요해서 \\n전화드렸는데 귀찮아하는 기색 하나없이 친절하게\\n고쳐주셨어요 ㅎㅎ\\n여러모로 참 좋아용!!~~',\n",
       " '한달사용기재구매요즘은 추운겨울에도 예식장 화환을 보냅니다',\n",
       " '한달사용기재구매빠른배송 감사합니다.. 자주 이용할게요',\n",
       " '재구매전에 너무 잘해주셔서 단골되었습니다\\n개업해서 대박나라고 \\n축하하는 마음 한가득 담아 화환 쐈어요 =3 \\n\\n꽃 화려하고 예뻐요 샤샤샷',\n",
       " '휴일이라 너무 늦을까 싶었는데, 처음 말씀하신 것보다 시간이 잘 맞게 도착해서 감사했습니다. 응대도 감사했고, 문자로도 설명주시고....여러모로 감사했습니다.',\n",
       " '실물을 못봤지만 이쁘겠죠',\n",
       " '재구매감사합니다 잘받았습니다',\n",
       " '한달사용기만족합니다 좋아요 좋아',\n",
       " '한달사용기재구매만족합니다 좋아요 좋아',\n",
       " '한달사용기재구매좋아요 잘 사용하겠습니다.',\n",
       " '재구매거래처에 보내는거라 신경쓰였는데..\\n시간맞춰 잘 보내주셔서 감사합니다.\\n다음에도 또 구매하러 올께요.',\n",
       " '좋긴한데 배송해주시는분이 집 앞까지 해주신 게 아니라 나오라 하신게 기분이 조금 그랬었네요',\n",
       " '재구매개업하는 친구가 있어서 주문을 했습니다~\\n믿고 구매하는데 친구가 화환 받아보더니 너무 좋아해서 기분이 좋습니다~\\n사장님도 너무 친절하십니다~',\n",
       " '재구매이시국에 조금 걱정스럽지만 동생이 개업했어요.\\n축하화환보냈는데 잘챙겨 보내주셔서 감사합니다.',\n",
       " '재구매풍성하고 예뻐요 ㅎㅎㅎ',\n",
       " '콘서트 2일 전 미리 주문했는데, 시간에 맞춰 잘 왔고 고객이 만족했습니다.',\n",
       " '재구매고모가 개업을 하셔서 보내드렸는데 너무 맘에든다며 좋아하시네요!감사합니다',\n",
       " '재구매여기서만 구매해요 빠르고 주소잘못기재했는데 핀절하게 연락오시고 감사합니다',\n",
       " '재구매화환 꽃도 싱싱해보이고 좋아요.\\n급히 주문했는데도 일찍 보내주셔서 대만족!!\\n친절하셔서 자꾸 찾게되네용ㅎㅎ',\n",
       " '재구매배송도 빠르고 현장 사진 보내주셔서 감사합니다.',\n",
       " '재구매특가라 저렴해서 좋네용 ~~\\n풍성하게 잘 해주셔서 좋구, 사장님도 친절하셨습니당~~ \\n다음번에 또 구매하러 여기로 올게용~~',\n",
       " '재구매어제까지 기억해놓고 생일인거 당일 아침에 아는척 못하고 급하게 출근하느라 깜빡해서 아침에 부랴 급히 배송 부탁드렸는데 오전 중에 잘 도착했네요. 와이프가 너무 좋아해요.',\n",
       " '한달사용기재구매사무실에서 사용하는데 빠르고 저렴하고 자주 이용해요',\n",
       " '재구매전에 한번 이용해보고 너무 마음에 들어서 또 \\n시킬일이 있어서 시킴.\\n가격대비 꽃 이쁘구 색상조합도 이쁩니다.\\n좋은선물 했어요~감사합니다.\\n받은분도 아주 좋아하셨어요~',\n",
       " '재구매매번 이용해요 감사합니다 ^^',\n",
       " '이모생신때 보내드렸어요ㅋㅋ환갑은 아직 아니라ㅋㅋ이벤트성으로 보냈는데 좋아하시네요ㅋㅋ',\n",
       " '재구매급하게 주문했음에도 불구하고 빠르게 대처하여 잘 배송되었어요 엄청 빨리 신속정확하게 배송해주셨네요 여러모로 데코며 신선함이 남다르고 사장님 서비스 베리굳이네요 굳입니다 ㅎㅎ',\n",
       " '업체에서 보내주신 사진 첨부합니다.\\n사진을 위에서 찍어서 그럴 수도 있겠지만, 사진상으로는 기대보다 좀 작았어요.\\n그리고 오전 11시에 배송 요청드렸는데 오전 9시 25분에 배송완료 문자가 왔더라구요^^;\\n그래도 이 가격에 이 정도면 나쁘지 않다 생각해요.',\n",
       " '재구매회사에서 늘 이용해요',\n",
       " '3단 화환 완전 이쁨ㅋ\\n받고나서 어찌나 놀랐는지 몰라요\\n제가 깜빡하고 행사를 까먹어서 급하게 주문 넣었거든요\\n친절하게 상담도 해주시고 주문 하는데 힘들지 않았습니다~',\n",
       " '아주 좋고 너무 만족스럽습니다',\n",
       " '처음 주문이라 걱정했는데\\n생각보다 나무가 더 크고 예쁘네요',\n",
       " '재구매항상 주문하는곳 친절하고 좋습니다',\n",
       " '빠르고, 좋습니다.',\n",
       " '빠른 총알배송 감사합니다',\n",
       " '정확하게 도착했고 꼼꼼하게 신경 써주셔서 좋았습니다.',\n",
       " '재구매친절한 상담도 감사하고 빠른 배송도 정말 만족스러워요~~ \\n풍성한 화환이 맘에 들어서 항상 이곳에서 주문하는데 늘 한결 같아서 좋아요^^',\n",
       " '예전 직장 동료 결혼식 때문에\\n화환 주문 넣어 봤습니다~ 꼭 참석 하고 싶었는데\\n부득불 집에 행사가 겹처서 못 가게 됐어요~\\n꽃도 이쁘게 잘 꽂아 주시고 감사합니다~',\n",
       " '재구매딴데보다 저렴저렴 퀄도 좋아 후기남기네요!! \\n시간, 장소 잘 맞게 지켜주셨고, 총알 배송이라 급했는데도 잘 도착했어요!!',\n",
       " '재구매항상 만족입니다 번창하세요',\n",
       " '재구매배송빠르고 상품도 만족스러워요',\n",
       " '재구매감사합니다 깔끔하게 잘 보내주셔서 제가 너무 좋았습니다\\n마음이 놓이니까 너무 좋았어요!^^',\n",
       " '재구매재구매했습니다. 계속 구매할게요.',\n",
       " '재구매제품 배송 모두만족합니다!',\n",
       " '재구매화환 시간맞춰 잘 배송해주셔서 감사합니다 ^^ \\n결혼식 못가봐서 화환 보냈는데 \\n친구가 넘나리 좋아하네요 ㅋㅋ',\n",
       " '재구매꾸준히 이용하고 있어요. 다른곳보다 일처리도 잘해주시고 화환도 합리적인 가격이라 만족해요. 한결같이 이슈없이 처리 잘해주십니다. 적극 추천해요.',\n",
       " '재구매오프라인에선 이정도 화환이면 5만원은 최소 줘야하는데 가격대비 화환 상태도 좋고 친절하셔서 필요시마다 이용하고 있어요. 감사합니다^^',\n",
       " '재구매빠른 배송 감사 합니다',\n",
       " '예전에 다른 가게에서 주문 해봤는데요.\\n그때는 특가라고 하면 완전 허접하게 와서\\n결국 2개를 시키든지 다시 시키든지 했었거든요.\\n와 진짜 가성비 짱이네요.',\n",
       " '재구매시간이 촉박했는데 빠르게 배달해주셨어요',\n",
       " '재구매빠르게 배송되었어요 만족합니다',\n",
       " '재구매제품배송 모두 만족합니다!',\n",
       " '재구매제품배송 모두 만족합니다!',\n",
       " '재구매제품배송 모두 만족합니다!',\n",
       " '재구매애경사에 항상 이곳에서 주문하고 있어요',\n",
       " '재구매빠른배송 감사합니다~',\n",
       " '재구매항상 잘 이용하고있습니다.',\n",
       " '재구매경조사에 늘 주문하는제품',\n",
       " '재구매거래처 직원이 결혼하다고해서 코로나 시국이라 화환으로 보내줬는데 시간약속 장소도  정확하게 배달해주셔서 감사합니다',\n",
       " '재구매너무 만족해요 급하게 주문했는데 빠르게 처리해 주셔서 감사합니다\\n기본화환인데도 빈곳 없이 꽉차있어서 좋아요!',\n",
       " '재구매결혼식 일정에 출장이 잡혀있어 부득이 화환으로 대신했는데,\\n리본 문구 오타가 나서 수정한다고 전화드렸는데 빠르게 잘 처리해주시고 당일배송인데 시간 맞춰주셔서 고맙습니다.',\n",
       " '재구매배송도 빠르고 이뻐요ㅎ',\n",
       " '재구매빠른 배송 감사합니다',\n",
       " '재구매저렴하고 빠르고 만족합니다',\n",
       " '재구매매번 물건전달후 사진찍어 보내주셨는데 \\n이번엔 상품전달전 작업시 사진 찍어보내주셔서 실망했어요.\\n담엔 장소전달후 사진 찍어주심 좋을것같아요.',\n",
       " '재구매항상 빠른배송고맙습니다',\n",
       " '재구매지정한 일자, 시간에 잘 배송되었습니다. 그래서 항상 이용하고 있습니다.',\n",
       " '재구매바쁘기도 하고,, 요즘 날씨가 넘 추워 나가기도 싫더라고요 \\n어디서든 걍 편히 주문할 수 있어서 편해요 \\n알아서 잘 해주시니 대!만!족!!',\n",
       " '빠른 배송 감사합니다',\n",
       " '재구매감사합니다 감사합니다 좋은 제품 감사합니다 감사합니다',\n",
       " '베송 빠르고 저렴하게 잘 샀어요',\n",
       " '꽃도 풍성한 편이고 가성비가 진짜 좋네요~\\n다음에도 꼭 여기서 주문 넣어야겠어요^^\\n친절하게 상담도 잘 해주시고 만족입니다^^',\n",
       " '재구매말도안되게빠른 로켓배송-!!',\n",
       " '저렴하게. 잘 샀어요 배송도 빠르고 받는분이 아주 좋아했습니다!',\n",
       " '재구매정확한 배송 좋아요',\n",
       " '재구매엄청 이쁘네요! 이번에도 정말 이쁘게 잘 준비해줘서 대박 맘에들어요 새로 창업에 도전하는 친구도 크게 만족해해서 기분이 좋았어요 강추합니다!!',\n",
       " '재구매배송빠르고 사진까지 보내주니 안심되요',\n",
       " '재구매배송빠름 제품 좋음',\n",
       " '재구매가격은 저렴한데도 풍성하게 잘 만들어 주셔서 감사합니다 \\n화환이 필요할 때면 항상 이곳을 이용하는데 변함 없이 좋은 퀄리티의 화환을 만들어 주시네요~',\n",
       " '재구매기존에 주문했을때 예쁜 화환으로 보내주셔서 또 \\n주문했어요. 받으신분이 화환 너무 예쁘다고 좋아해주셔서\\n기분이 좋네요. 가격대비 좋았습니다.',\n",
       " '한달사용기매번 주문하는 곳이에요! 좋습니다',\n",
       " '재구매항상 알아서 척척 아주만족합니다',\n",
       " '재구매빠른배송이 넘 좋습니다.',\n",
       " '재구매잘 구매했습니다~!',\n",
       " '재구매고등학교 동창 결혼에 화환을 동창들이랑 함께해서 보내게 되었는데 화환 깔끔하게 잘 만들어서 보내주셨더라구요\\n꽃도 싱싱하구 감사했어요',\n",
       " '재구매잘 받았습니다~~ \\n기본화환인데도 만족해요! \\n풍성하게 잘해서 보내주시기도 했고 정확한 시간에 배송도 감사해요~',\n",
       " '배송빠르고 인증샷까지 좋습니당',\n",
       " '재구매쿠팡보다빠른 로켓배송-!!!',\n",
       " '재구매꽃도 항상 풍성하고 배송도 정확하고 항상 배송완료되는 사진을보면 정말 잘 구매했는다는 생각이 항상드네요 감사합니다',\n",
       " '재구매사촌동생이 결혼식에 참석을 못해서 화환으로 보내줬는데  사진으로 봤는데 너무나 이쁘네요 감사합니다',\n",
       " '한달사용기빠르게 배송받았습니다',\n",
       " '엄마가 엄~청 좋아하시네요\\n번창하세요',\n",
       " '배송후 문자로 사진도 보내주시고 가성비 좋고 만족스럽네요',\n",
       " '재구매3단으로 시켰는데도 진짜 화려하고 좋습니다\\n항상 느끼지만 이집은 가성비 끝판왕인듯 싶네요 \\n가격이 진짜 착해요 \\n그렇다고 화환이 부실하지도 않고 별5점 드립니다',\n",
       " '특가라고 해서 꽃은 허접하게 싸서 보내주시면 어쩌나\\n했는데 완전 실하고 괜찮네요~ 꽃도 풍성하고\\n만족입니다~',\n",
       " '재구매매번 친절할 업무처리 감사드립니다',\n",
       " '재구매항상 만족합니다~~~',\n",
       " '잘 받았어요 부모님꺼 제꺼 두개 했는데\\n모양을 살짝 다르게 해주시는 센스!!!',\n",
       " '재구매항상 주문하고 정확하고 저렴해서 너무 좋아요',\n",
       " '친구 결혼식때 화환처음 보내보는데 친구도  감동받고 원하는 시각에 알아서 잘 가져다 주셔서 너무 감사합니다:) 다음에 다른친구 결혼하면 또 주문 할께요❣️',\n",
       " '재구매사촌동생 결혼식에 못갔는데 조카가 돌잔치를 하는데 ㅠㅠ 평일에 코로나라서 참석이 어려워서 화환으로 마음을 전하게 되었네엽 ㅠㅠ\\n꽃 싱싱하게 잘 배달해주셔서 감사해엽',\n",
       " '한달사용기빠른배송 감사합니다...',\n",
       " '재구매정말 항상 꽃이 너무나 신선하고 가성비가 항상좋다고느껴집니다  색상조합도 센스도 있고  가격도 착하고 굿',\n",
       " '배송도 정확히 잘됐고 이뻤어요\\n그리고 부모님꺼 제꺼 두개 했는데 완전 똑같게 안해주셔서 너무 만족했어요',\n",
       " '재구매항상 좋은 제품, 빠른 배송 감사합니다. 항상 이용하는 곳입니다. ^^',\n",
       " '좋습니다. 다만 주문한 문구 일부가 빠졌어요 ㅠ',\n",
       " '어떤 일이든 꽃을 보내주면 더 잘 풀리는 것 같네요\\n잘 보내주셔서 감사합니다\\n다음에 주문할떄 참고할게요',\n",
       " '이시국에 샵 개업하는 친구가 있어서 보냈어요.\\n화환 싫다고하더니 보내주니 참 좋아라하네요ㅎㅎ\\n칼배송 감사합니다',\n",
       " '한달사용기지인 오픈 축하화한 좋아요',\n",
       " '한달사용기재구매배송빠르고 좋아요.',\n",
       " '재구매급하게 주문했는데 빠르게 잘 받았습니다.',\n",
       " '재구매개업한 지인 ^^ \\n축하하는 마음 듬뿍 담아서 화환보냈습니다 ㅋ\\n특가라 다른곳보다 가격 저렴해요 \\n꽃 풍성해요',\n",
       " '친절하고 정화한 배송 감사드립니다',\n",
       " '배송도 빠르고 정확하게 잘배송되었습니다',\n",
       " '착한가격에 화환 아주 잘 샀어요!\\n기존 거래처에서 사던거 반값정도인데 최고네요.\\n배송도 정확하고 좋아요~',\n",
       " '재구매근조화환 축하화환 꽃배달 개업화분 결혼식화환 장례식조화 장례 결혼 꽃다발 생일꽃바구니배달',\n",
       " '한달사용기재구매항상만족하고 좋아요. 빠르고',\n",
       " '지인추천으로 이용해써요 가격도 적당하고 화환\\n퀄리티도 너무 갠찬코해서ㅈ가성비 넘 만족했어요\\n담에 또 이용하께여~판매자님 친절하시구~~^^',\n",
       " '재구매배송이 빠르네요. 만족합니다',\n",
       " '재구매배송이 빠르네요. 만족합니다',\n",
       " '지인추천으로 이용해는데  퀄리티도 갠찬코 가성비\\n넘 만족스럽구 잘 이용했네요 판매자님 친절하시구요\\n화환두 풍성하고 좋더라구요!',\n",
       " '아는언니 결혼해서 보내줬어요ㅎ 여기 구성이 예쁘고 가성비좋아서 구입했는데 역시나 만족입니다 싱싱하고 잘보내졌네욯',\n",
       " '재구매배송정확하고 빨라서 좋습니다',\n",
       " '어떤거 보내줄까 하다가 시간이 너무 가서 급하게 주문 햇어요\\n약간 고민 되긴 했지만 그래도 잘 고른것 같아서 안심입니다',\n",
       " '재구매배송정확하고 좋아요 항상 이용하고 있어요',\n",
       " '재구매제품배송모두 만족합니다!',\n",
       " '급하게 주문했는데 응대 잘해주시고 제시간에 잘보내\\n주셔서 완전좋았어요 ~ 너무 퀄좋은걸로 !! 역시 믿고 \\n재주문했는데 만족스러워요',\n",
       " '빠르고 정확한 배송 감사합니다',\n",
       " '전달완료 사진 보내준건 좋았지만 보내는 사람없이 축하메세지만 가서 전화해서 항의함..먼저 전화하지 않았으면 전화도 안왔겠죠.  담날에 리본교체하는걸로 수습됨.',\n",
       " '조카 결혼식에 가족이름으로 보냈네요ㅎ 조카결혼 바랬는데 잘되서 특별히 보냈어요 아주이쁘고 싱싱한걸로 잘보내주셔서 만족합니다ㅎ',\n",
       " '재구매항상 애용하고있습니다~~',\n",
       " '재구매필요할때마다 35플라워 주문하는데 만족해요',\n",
       " '재구매배송도 빠르고 물건도 좋아요',\n",
       " '정확한 배송 감사합니다~',\n",
       " '개업 축하 선물로 보냈는데 정확하게 시간 잘 지켜주고 \\n가성비 좋게 이용했어요  풍성하니 고급지고 만족합니다',\n",
       " '한달사용기배송빠르고 좋습니다.',\n",
       " '한달사용기재구매가격 저렴하고 시간 정확해서 좋아요. 여기서만 주문하게 되네요.',\n",
       " '어머님께 서프라이즈로 보내드렸어요~~^^ 너무 좋아하시네요 감사합니다',\n",
       " '재구매빠른배송 만족합니다.',\n",
       " '재구매예쁜화환 잘 받아 놓구선 후기가 좀 늦었네요^^\\n시간 맞춰 잘 배송되었고 꽃도 신선하고 예뻤어요~',\n",
       " '항상 빠르고 정확한배송. 사진피드 감사해요.',\n",
       " '빠른배송너무감사합니디 ㅎㅎ',\n",
       " '재구매친한 형님 결혼식에 보내드렸어요 코로나라 가지못해서 온라인 배달 했는데 요청드린 시간에 잘보내주셨네요 좋습니다ㅎ',\n",
       " '재구매배송도 빠르고 저렴하지만 고급스러워요~항상 애용합니다~^^',\n",
       " '재구매부모님께서 급히 부탁을 하셨어요 결혼식이 있는데 화환을 하나 해야하신다구~ 그래서 제가 대신 배달신청을 했습니다~ 늦게 주문을 해서 직접 전화해서 여쭤보고 주문했는데 너무 친절하시더라구요!!! 화환도 시간맞춰서 잘 도착했다고해요',\n",
       " '한달사용기빨랐고 좋았습니다!!',\n",
       " '올바른배송 감사합니다.',\n",
       " '밤 늦게 주문하긴 했지만 다음날 오후 1시 배송은 좀 심하네요. 게다가 배송이 되면 사진이 보통 오기 마련인데, 제가 확인차 연락 드리니 그제서야 사진을 보내줍니다.',\n",
       " '재구매배송빠르고 제품좋아요',\n",
       " '제시간에 잘보내주시고 응대도 친절하셔서 기분좋았구\\n가성비 화환도 너무 좋더라구요 잘 이용 했답니당 만족용',\n",
       " '재구매대박대박이자나요~\\n여기 앞으로 단골 되야겠어요\\n퀄리티 정말 뒤쳐지지 않구요\\n친절상담스',\n",
       " '재구매항상 이용합니다~~! 도착해서 사진까지 보내주셔서 너무 좋아요',\n",
       " '재구매물건도 좋고 배송도 빨라요',\n",
       " '재구매만족합니다 계속 이용중입니다',\n",
       " '빠른 배송 감사합니다....',\n",
       " '재구매잘받았습니다\\n 결혼식에 보냈는데 \\n도착하고 나니 뿌듯 ㅎㅎ\\n퀄이 넘 좋아요',\n",
       " '개업하는 동생한테 보냈어요. 꽃 싱싱하고 문구도 세심하게 잘 적어주셨네요. 넉넉하게 전달해도 된다고 했는데 일찍 배송 되었네요. 감사합니다',\n",
       " '재구매항상 빠르고 정확히 배송해주셔서 감사합니다',\n",
       " '재구매자주이용하는데 항상 최곱니다',\n",
       " '자주 이용하는곳 편하네요',\n",
       " '곷다발이랑 바구니랑 어떤걸 보낼지 한참 고민  햇네요 그래도 잘 골랐다는 생각이 드네요 마음에 들었어요 감사ㅐ요 좋은걸 보내주셨네요^^',\n",
       " '재구매항상 여기에서만 구매하고있어요!빠른대응과 신속한 배송해주셔서 감사합니다!',\n",
       " '잘 받았습니다! 감사합니다!^^\\n다만 리본 글이 정렬이 맞지 않는 부분이 좀 아쉬웠네요..',\n",
       " '히히 정말 굿 퀄리티자나여?\\n이건 정말 비교도 안되영!!\\n사장님도 친절스~~많이파세요',\n",
       " '빠른 처리 감사합니다',\n",
       " '배송이 다른 날짜에되었네요',\n",
       " '재구매항상 빠르게 배송해주셔서 매번 이용하고 있어요~~!',\n",
       " '재구매잘 도착한거 확인했습니다. 감사합니다.',\n",
       " '재구매좋은 가격에 꽃도 좋고 사장님께서 신경을 많이 써주셔서 넘 감사했어요!!\\n다음에도 또 주문하겠습니다!',\n",
       " '재구매어제 결혼식이 12시 였는데, 11시경 배송 문자와 사진 잘 받았습니다. 항상 축하 & 근조화환 필요 시 이용하고 있는데 만족합니다.',\n",
       " '재구매아주좋아요 여기만 이용합니다',\n",
       " '꽃바구니 당일 급하게 주문했는데\\n시간에 맞게 잘 도착했어요\\n받는분도 아주 만족해하십니다\\n좀 아쉬운게 꽃바구니 배달전에\\n사진을 미리볼수 있었으면해요\\n오늘 배달된 꽃바구니는 \\n아주 만족스러웠습니다^^',\n",
       " '재구매항상 믿고 이용하는 곳입니다!! 정확하고 빠른배송 감사합니다',\n",
       " '재구매경조사때 자주 이용하는곳인데 언제나 스피드 배송과 배송완료 사진을 칼같이 보내줘소 좋다',\n",
       " '재구매빠른배송이굿입니다..',\n",
       " '우와~ 부랴부랴 주문했는데\\n정말 빨리와서 한번 놀래구용~\\n너무 이쁘게 해주셔서 두번 놀랬어요',\n",
       " '축하화환 예쁘고 화려하네요. 타업체꺼는 6-7만원이나 줘야 이렇던데 저렴하게 가성비 있는 제품 잘 구매한듯 해요 뒷처리도 잘 해주셧어요!',\n",
       " '장사 시작하는 친구가 생겨서 보냈어요 잘 되어야 할텐데 하는 기원을 담아 보냅니다 정말 잘되야할텐데요',\n",
       " '재구매여러번 구매했는데 이번엔 리본에 다른 사람 이름붙여 가서 혼선이 있었네요. 잘 확인하시고 보내주세요. 젤중요한 보내는 사람 이름을 딴사람으로 보내니 ㅜㅜ 그동안 다른 아이디로 많이 주문했었는데 신뢰가 조금 깨지네요',\n",
       " '빠른배송조아요~가격도젤싼듯',\n",
       " '깨끗하고 싱싱해요. 꽃들도 풍성하니 전혀 걱정할 필요가 없었네요. 시간이 맞게 배달해주셔서 식전에 잘 보고 결혼식 볼 수 있었어요.',\n",
       " '한달사용기항상 애용합니다. 근데 요즘 사진이 문자로 안오네요 ㅠㅠ',\n",
       " '재구매배송도 빨리해주시고 화환도 예쁘고 싱싱한 꽃들로 풍성하게 꾸며주셔서 기분좋게 잘 받았습니다! 담에 필요할 일 있음 또 시킬께요!',\n",
       " '빠른 배송 좋습니다  만족해요',\n",
       " '재구매잘 받았습니다 이번엔 제대로 배송되었겠죠? 한번 잘못 배송되니 불안하네요. 사진은 잘 받았습니다만 본인에게 확인은 아직 못했네요',\n",
       " '재구매오랜만에 연락 닿은 친구가 사업을 시작했다는 이야기 듣고.. 잘되었으면해서 화환 배달을 해주렀습니닷!\\n사장님께 시간 알려드렸는데 잘 맞춰주셨내욥!',\n",
       " '재구매지인 결혼식에 보냈는데 너무 좋아합니다 꽃도 이쁜걸로 풍성하게 해주셨어요 꽃이 생각보다 오래가서 좋아요 다들 이쁘다고 좋아합니다 배달 시간도 늦지 않게 일찍 보내주셔서 감사합니다 강추',\n",
       " '재구매친절하고 배송좋고 좋앙ᆢㄷ',\n",
       " '재구매어려운시기라 걱정하면서 개업하는 친구가 있어서 축하해주기위해 화환을 보냈습니다. 정말 잘되기 위한마음으로 축하해줬네요. 화환도 일찍 잘 도착했고 큼지막하니 좋더라구요',\n",
       " '재구매전 직장동료분께서 타 지역으로 가셨는데 아기가 돌이라해서 사무실분들이랑 같이 화환 하나 선물로 드렸는데 배송 잘해주셨어용!',\n",
       " '재구매빨리 배송도서 좋아요',\n",
       " '재구매항상 배송하는 곳이에요',\n",
       " '시간 촉박했는데 시간 잘 맞춰서 잘 배달했네요 덕분에 잘 해결되였습니다.화환 너무 풍성하고 싱싱하네요 문구도 이쁘게 잘 적어줬네요 감사합니다',\n",
       " '재구매오랜친구가 결혼을 해서 화환도 같이 보내줬어요. 시간도 상태도 좋게 와서 만족스러워요 많이 파세요~',\n",
       " '정말 감사해요 얼마나 걱정 햇는지 모르겟어요 갈수 없어서 보낸건데 잘 보내주셔서 정말 감사합니다 정말 다행이었어요^^',\n",
       " '재구매배송 너무 빠른거 아닌가유 ㅋㅋ\\n완전 좋아유~~\\n특급배송이네용',\n",
       " '사진과 같이 화환 잘 받았어요',\n",
       " '재구매꽃배달 할일이 자주 있는편이라 주문을 여러곳에 해봤는데 여기만한곳이 없는거같아요. 그래서 이번엔 화환보낼일이 있어서 화환보냈습니다~ 시간에 잘 맞춰 도착했어요!!',\n",
       " '받는 분이 아주 좋아했어요',\n",
       " '정말 너무 만족스럽습니다! 예식 전날 밤에 결제 했는데 아침 9시에 확인 전화 바로 주시고 예식 시작 하시간 전에 잘 가져다 주시고 저는 사정이 생겨서 참석을 못했는데 너무 뿌듯했네요^^ 다음번 경조사도 여기입니다!',\n",
       " '빠르게 해결해 주셔서 감사합니다',\n",
       " '한달사용기재구매항상 감사합니다.\\n좋은 가격으로 구매했네요.',\n",
       " '가격 저렴하고 배송도 빠르네용',\n",
       " '재구매시간전에미리배송해주시고,\\n감사합니다~~',\n",
       " '배송 빠르고 이뻐요',\n",
       " '튼튼하고 날짜도 딱 맞춰서 배송돼서 너무 좋았습니다.',\n",
       " '이쁜 꽃 감사합니다 ^^',\n",
       " '재구매결혼하는 친구가 있어서 친구들 모임에서 화환을 보내줬어여~ 지난번에 제가 이용했었는데 너무 예뻤어서 이번에도 35플라워 이용했구요^^ 화환보내주니 친구가 너무 좋아했습니다~',\n",
       " '재구매친절한 안내 빠른 배송 늘 이용중입니다',\n",
       " '재구매빠른배송항상 감사합니다',\n",
       " '재구매총알배송과 예쁜화환 감사해요\\n믿고 이용합니다',\n",
       " '사진과 같이 괜찮았어요',\n",
       " '재구매잘 받았다고 들었고 이번에도 꽃이 좋아서 만족합니다~\\n저번에도 급하게 요청드렸던것같은데 이곳이 빨라서 이곳에서만 주문하게 되네요~\\n역시 배송 진짜 빠르시네요~',\n",
       " '잘 도착 햇다는 연락을 받았어요 잘 보내져서 다행입니다 항상 꽃을 보내게 되면 기분ㅣ 좋아지네요 감사해요^^',\n",
       " '이집꽃집은 처음주문해 보는데 만족합니다.서비스도 좋고 가격도 저렴하고 약속시간도 잘 지켜줘서 별 5개 드립니다',\n",
       " '빠른배송감사드립니다\\n언제나 믿고 이용할수있는 제품',\n",
       " '가게에 딱 맞는 문구를 주문한대로 제작해서 배달 받았어요. 빠른 처리 완전 좋네요! 직접 가서 주문하지 않아도 되고, 직업상 주문할 일이 많은데 자주오겠습니다',\n",
       " '코시국이라 직접 찾아가지는 못했고 이렇게 꽃으로 마음 전해봤네요ㅎ\\n개업 축하용으로 구매해봤는데 좋네요ㅎ\\n다음에도 잘 부탁드립니다ㅎㅎ',\n",
       " '재구매빠른배송 잘 받았습니다',\n",
       " '한달사용기재사용하는건 알았지만  시든 꽃은  교체라도 해주셨으면얼마나 좋았을까요',\n",
       " '재구매빠른배송과 사장님의 친절함에 감동했습니다\\n급하게 주문을 해야했음에도 안내를 잘해주셔서 감사했습니다',\n",
       " '재구매항상 잘 이용하고 있습니다^^',\n",
       " '빠른배송 감동이에요 ㅠㅠ',\n",
       " '처음에 여기 알게된 것도 배송이 빠르단 후기보고 시켜봤는데 진짜 빨리해주셔서 좋았던 기억이 있어요. 개업하는 소식 늦게 전해준 지인에게 선물로 화환 시켜 보냈는데 이번에도 빨리 보내주셔서 감사합니다 :)',\n",
       " '맘에 들어요~! 좋아요',\n",
       " '예쁜화환감사합니다.🤗🤗🤗🤗👍👍👍👍',\n",
       " '싸게 잘 샀어요 \\n다음에 또 이용할게요',\n",
       " '재구매친구의 음식점 오픈인데 거리가 좀 있어서 직접 가보지는 못해서 화환으로 보내줬습니다. 화환 잘받았다고 고맙다고하네요^^',\n",
       " '빠른 배송감사합니다.3단으로 주문했는데 가격도 저렴하고 화환 퀼리티도 좋고 넘 만족합니다 다음에 또 주문할게요',\n",
       " '재구매빠르게 잘 도착했네툐',\n",
       " '축하하러 가야 할 일이 있었는데 몸이 아파서 가보질 못했죠. 꽃다발 하려다가 화환으로 보냈는데 저만 화환 보냈다고 감사하다고 연락왔네요',\n",
       " '재구매배송 잘 받았습니당 ㅎㅎ 시간도 잘 맞춰주시고 화환상태도 좋네요! 다른곳에서 온거보다 더 풍성해보이고 좋아요!',\n",
       " '재구매친구가 가게 개업은해서 멀해줄까하자가 화한 하나 보냈는데  너무 마음에들어 하더라구요~이전에도 잘보내주셔서 또왔습니다! 다음달에 결혼식때도 보낼예정인데 그때도 잘부탁드립니다!!',\n",
       " '재구매배송 빠르고 너무 좋습니다.  감사합니다.',\n",
       " '한달사용기재구매항상 여기서 시켜요',\n",
       " '정말 아슬아슬하게 주문 햇떠라구요 그래도 잘 보내져서 다행이에요 감사합닏 정말 잘처리해 주셨어요^^',\n",
       " '재구매빠른배송 만족합니다.',\n",
       " '경사 또는 부고시 매번 이용하는데\\n만족도 100%입니다.\\n\\n처음엔 친구소개로 알게되어 일생기면\\n주문하고 톡으로도 알림오고\\n문자로도 사진 보내주셔서 정말 좋습니다.\\n\\n다음에도 또 주문할 의향 있습니다.',\n",
       " '잘받았습니다 풍성하게 잘왔어ㅇ',\n",
       " '재구매빠르게 잘 받았습니다.',\n",
       " '빠른배송도 화환모양모두 마음에들어요.감사합니다.',\n",
       " '빠른배송도 화환모양모두 마음에들어요.감사합니다.',\n",
       " '재구매화환을 주문 해봤습니다.  급하게 주문 하느냐 시간안에 도착 하려나 걱정 했는데 잘 도착 했더라구요. 가격도 좋고 만족스러웠어요',\n",
       " '재구매엄마가 급하게 대신좀 주문해달라고 해서 여기서 했는데 \\n너무 감사했네요 ㅎㅎ\\n화환이란게 너무 부실하면 안 보내니만 몬한데 여기는 \\n풍성하고 꽃도 싱싱해서 엄마가 체면 제대로 섰따고 하시네요 ㅎㅎ\\n시간 약속도 아주 철저해요~\\n믿고 주문하는 업체 좋아용~',\n",
       " '항상 여기서 시켜서 이용하고있어요 굿',\n",
       " '맘에 들어요~\\n너무 좋은데요\\n` 담에 또 주문할게요!!',\n",
       " '재구매거래처 결혼식인데 화환을 보내야해서 주문했습니다. 여기저기 주문해봤었는데 여기서 주문했던게 가장 만족스러워서 재주문했네요. 이번에도 잘 해주셔서 감사합니다.',\n",
       " '저렴한가격이지만 가성비가 좋은 화환이네요~\\n신선한 꽃을 제시간에 이렇게 빨리 배달받을 수 있다니 완전 굿이엇습니다',\n",
       " '재구매항상 시간 잘 맞춰서 잘 배송해주세요\\n직원분들 항상 친절하시구요\\n앞으로도 화환은 무조건 여기로 할 예정입니다!',\n",
       " '재구매배송도 빠르고 제품도 좋아요',\n",
       " '재구매예전에 결혼식에 보냈던적이 있는데 직접 봤을때도 옆에 있던 화환보다 퀄리티 좋아보여서 만족했었어서 이번에도 주문했어요^^ 못봐도 믿고 주문했는데 빠른배송 해주셔서 감사합니다~',\n",
       " '재구매매번이용해요 싸고 좋아요',\n",
       " '재구매물건도 좋고 배송도 빨라요',\n",
       " '빠르고 좋아요 ㅎㅋ',\n",
       " '지정한 날짜에 맞춰 배송해주셨네요',\n",
       " '진짜 꽃배달 서비스업체 너무 많아서 찾다가\\n알게 되서 시켜봤는데 만족스럽습니다.\\n근데 4시예약 했는데 3시에 왔네요^^;;\\n진짜 총알배송..나중에 꽃 필요하면 여기서 할게요!감사합니다',\n",
       " '재구매잘 받았습니다.. 감사합니다..',\n",
       " '화환은 처음 주문해봤는데 만족스럽습니다 ㅎㅎ',\n",
       " '재구매늘 신속하고 정확해서 여기만 이용합니다',\n",
       " '재구매편하게 잘 주문했어요 ! \\n회사일 관련해서 일생기면 추가로 주문할게요 ! \\n가격도 좋은것같고 배송이 빨라서 좋았어요 !',\n",
       " '지역이 먼 친구가 결혼했어요.\\n코시국이라 직접 가지는 못했고 화환으로 마음 전달했습니다.\\n시간맞춰 잘 보내주셔서 감사해요',\n",
       " '한달사용기재구매항상 주문하는 곳이에요',\n",
       " '빠른처리 감사합니다',\n",
       " '재구매친구가 식당개업을 크게 했는데 일반 나무보다는 화환이 더 좋을 것 같아 구매했어요. 리본도 요청대로 잘 써주시고 화환도 깨끗하고 풍성해서 만족해요!',\n",
       " '재구매업체 사장님 따님 결혼식 으로 수문하였어요. 꽃이 풍성하니까  화환이고급스럽게 배송되어  맘에 들더요.. \\n빠른배송도 감사드립니다. 재구매하러 올께요.',\n",
       " '한달사용기빠르고 정확한 배송에 감사드립니다',\n",
       " '배송 빠르고 좋아요!',\n",
       " '정말 빠르게 받았어요~배송 부탁받은건데 보내주신분이 만족하셨어요^^',\n",
       " '한달사용기재구매원하는 시간에 원하는 문구로 배달해주셔서 매번 행사때마다 쓰고 있어요 만족합니다.',\n",
       " '재구매어제 결혼식에 화환을 보냈는데 늦지않게 잘 갖다주셔서 좋았네요. 가격도 저렴한것 같아요.만족합니다',\n",
       " '한달사용기저번에 시켰을땐 괜찮았는데 이번엔 진짜 너무 별로였어요 보내고도 민망했어요ㅠ',\n",
       " '재구매빠른배송감사합니다.',\n",
       " '정확한 배송 좋아요!~~',\n",
       " '재구매너무 좋아요^^ 항상 잘 이용하고 있습ㄴㅣ다!!',\n",
       " '재구매항상 이용하고 있습니다!\\n인증샷까지 최고!',\n",
       " '재구매빠르고 정확한 배송감사합니다',\n",
       " '빠른배송 감사합니다',\n",
       " '재구매빠른배송 좋았어요..',\n",
       " '재구매빠른배송 좋았어요..',\n",
       " '재구매빠른배송 좋았어요..',\n",
       " '재구매빠른배송 좋았어요..',\n",
       " '재구매빠른배송 좋았어요..',\n",
       " '재구매빠른배송 좋았어요..',\n",
       " '재구매저렴한 가격인데도 싱싱한 꽃들로 가득 채워주셔서 너무 감사드려요 ~ 다음에도 여기를 이용해야겠어요^.^',\n",
       " '재구매매번 종류별로 주문하고있슨데 항상 미리 확인하고 정확하게 배송해주셔서 감사합니다!',\n",
       " '오늘 절친이 샵 오픈했어요.\\n친구들 계모임에서 총무담당이라 제가 주문했는데 잘받았다고해요. 칼배송 굿!!',\n",
       " '재구매배송이 빠르네요. 만족합니다',\n",
       " '재구매이번에도 필요한 시간에 맞춰 잘 배송해줘서 고맙습니다\\n꽃이 싱싱하고 좋아서 매번 만족하고 있습니다\\n다음에 또 주문할게요',\n",
       " '재구매매번 편하게 잘 이용하고있습니다',\n",
       " '토요일 친구가 개업하는데 일이 있어 아직 못갔어요.\\n미안한마음 화환에 담아 보냈는데 다행히 넘 좋아하네요~ㅎㅎ',\n",
       " '중간에 급히 수정요청도 드렸는데 흔쾌히 수정해주셔서 감사해요.\\n자꾸 이것저것 귀찮게해드려는데 넘 친절하셔서 좋았어요~',\n",
       " '한달사용기모두가 만족합니다.',\n",
       " '잘 전달되었겠죠 급하게 주문했는데 친절하시고\\n감사합니다',\n",
       " '재구매조기회 동생 결혼으로 화환 주문했어요.  빠른 배송 감사드리고 꽃이 싱싱한거 보니 너무 에쁘더라구요.  화환 꽃 풍성함도 맘에들어요 ㅋ',\n",
       " '재구매항상  경조사때  이용하는 곳이에요.  주문하면  다시한번  확인 전화 주시고  배송도  안전하게 끌끔하게  배송해줌. 계속 이용할 마음 있음.',\n",
       " '재구매제품 배송 모두만족합니다!',\n",
       " '재구매신속 정확 항상 애용하는...',\n",
       " '재구매항상 편하게 잘쓰고있습니다',\n",
       " '동생이 가게 오픈햇 개업하는 분위기 낼겸 보냈어요.\\n확실히 가게앞에 화한이 있으니 누가봐도 개업한티 팍팍~\\n감사합니다~',\n",
       " '한달사용기총알배송 감사해요 다음에도 부탁',\n",
       " '재구매축하할 일이 생겨서 급하게 주문했는데 상태 엄청 좋고 배송도 신속하니 넘 맘에 들어요 전반적으로 가성비도 좋고 강추합니다 ㅎㅎ',\n",
       " '재구매지인분이 이번에 학원을 개원하게 되었어요\\n평소에 잘 챙겨주시고 그르셔서 보답할 방법을 찾다가\\n화환을 보냈는데 너무 좋아하셔서 저도 만족해요',\n",
       " '재구매요즘 경기가 살살 풀리고 있어서 대박나라고 보내줬어요 ㅎㅎ\\n기다리다가 경기 풀리는거 보고 개업한다고 했는데 드디어\\n개업한다고 하더라구요 \\n보니깐 제가 보낸 화환이 젤 실하네요 ㅎㅎ',\n",
       " '재구매배송시간 정확하고 화환 가성비 최고에요\\n타지역으로 보내는 게 처음이라 걱정했는데 \\n정말빠르고 사진까지 보내주시니 좋아요',\n",
       " '재구매빠르고 정확히 배송해 주셔서 매번 사용합니다',\n",
       " '재구매풍성하고 실한 화환으로 여기서 화환 보내고는 한번도\\n실망한적이 없어서 꾸준히 이용하고 있네요 ㅎㅎ \\n가격도 거품없고 화환도 진짜 신경써서 잘 만들어서\\n보내주시더라구요 ㅎㅎ',\n",
       " '거래처에 보내는거라 신경 많이 쓰였는데..\\n잘 챙겨서 보내주셔서 감사해요. 또 이용할께욥!!',\n",
       " '재구매개업식! 장례식! 전 모두 여기서 보내요~ 가격좋고! 품질좋고! 빠르고!\\n진짜 최고입니다^^',\n",
       " '재구매인터넷으로 쉽게 구매할수있어서 좋네요\\n꽃은 매번 이 스토어 구매하게되네요\\n받는분께서 잘 받았다고 연락받았어요',\n",
       " '재구매당일인데도 배송 정확하고 빠르게 와서 만족해요 ㅎㅎ 여기서 자주 주문해야겠어요 ㅎㅎ 꽃도 싱싱함 굿굿',\n",
       " '재구매꽃도 싱심학고 풍성하게 좋고 리본도 잘써주시고 시간도 딱 맞춰 도착했습니다.\\n거품있는 화환이 아니라 가격 정말 착해서 좋습니다 신경써 주셔서 감사합니다',\n",
       " '빠른배송 . 감사합니다. .항상 잘이용하고 있습니다^^',\n",
       " '재구매빠르게 배송되었어요',\n",
       " '한달사용기hayhshsgsgsgeheh',\n",
       " '한달사용기재구매배송이빨라서좋았습니다',\n",
       " '재구매지인 개업축하때문에 애용하게 되었어요 기대이상으로 넘 맘에 들어서 담에도 또 이용 할 계획입니다 굳이에요~~!',\n",
       " '평일인데도 결혼하는 같은 팀내 동료.\\n하필이면 제가 팀에서 막내라 화환을 보내야하는데,\\n그걸 너무 늦게 알았던거에요. 당연히 보냈을줄 알았는데 안보냈더라구요. 급하게 부랴부랴 주문했는데 다행히도 예식시간전에 잘 도착했습니다.\\n급한주문인데도 잘 맞춰주셔서 감사합니당',\n",
       " '한달사용기재구매빠른배송좋앗습니다..',\n",
       " '재구매항상쓰는곳임~~~~~~~~',\n",
       " '생각보다 신경써서 잘 보내주시는것같아요.\\n온라인이라 반신반의했는데 넘 괜찮은데요? 강추해요!',\n",
       " '재구매선물로 오늘의 꽃바구니 주문했는데\\n괜찮았어요~~',\n",
       " '잘 받았습니다 그 밖으로 노란꽃이 없어서 아쉬웠어요\\n다른건 다 좋앜씁니다',\n",
       " '재구매좋아요 좋아요 좋아요 ㅎㅎ',\n",
       " '다른곳에서 구매하다가 여기서는 처음 구매해봣어요 ~ 이전에 비슷비슷할줄알고 조금더 싼데로 했다가 완전 피받네요 가격차 진짜 얼마안나더라도 여기처럼 품질좋은데로 하는게 맞는것 같아요~~ 담에 또 구매하러올게요',\n",
       " '재구매배송빠르고제품도좋아요',\n",
       " '재구매배송이빨라요 믿고 구매합니다',\n",
       " '굿 👍👍👍👍굳',\n",
       " '재구매새언니 생일이라서 가족 식사자리에 배송 시켰는데… 부끄러워하면서도 좋아하는 새언니 보니까 주문하길 잘했다 생각이 들더라구요~\\n시간 맞춰 예쁘게 배송 되었어요.',\n",
       " '재구매여기 화환 진짜 실해요\\n시중에서 한번 주문해보고 너무 실망해서 온라인으로 \\n주문해봤었는데 여기 너무 괜찮더라구요\\n한번 이용해보고는 맘에 들어서 이제 여기만 이용하고 있어요',\n",
       " '처음 주문한건데 평이 좋은덴 다 이유가 있나봐요.\\n저 역시 만족입니다. 친절하시고 배송도 빠르고 굿!',\n",
       " '화환이라고 해서 가격이 비쌀까봐 걱정이 많았는데\\n가격도 괜찮고, 퀄리티도 좋네요 \\n친구가 디저트카페 개업하는데 시간 맞춰서 보내주셨어요',\n",
       " '재구매빠른배송 감사합니당',\n",
       " '재구매빠른배송 감나합니당',\n",
       " '시간은 잘 맞취 주셨는데요 \\n정말 꽂상태는 완젼 ㅡㅡ별루 였습니다 \\n새출발하는결혼식 화원인데  \\n아무리 재활용이여도  그렇쵸  그나마  생화 한가지(소국) 몆개 있는것이  시들어서 있는 상태 \\n너무했네요  창피했어요',\n",
       " '맘에들어요친절하고배송도빠르고요',\n",
       " '한달사용기가성비초초초대박임초강추',\n",
       " '재구매퇴사하는 직원이 잘되길 바라는 마음에 사무실 동료들이랑 같이 돈 모아서 화환 선물 주었슴당!\\n고맙다고 울먹거리기도해서 ㅠㅠ \\n화환이 이렇게 좋은 의미였네욤',\n",
       " '친구 결혼식이 있어서 급하게 주문했는데요\\n완전 빠른배송에 예쁘게 보내주셨네요\\n퀄리티도 짱짱 !! 감사합니다',\n",
       " '재구매빠르고 저렴해서 항상 이용합니다',\n",
       " '재구매배송이 완전 빨라서 일단 핵만족입니다~~갑자기 주문을 했지만 엄청나게 빠르게 도착해서 정말 쫄앗네요 늦으면 어쩔까해서 ㅠㅠ 정말 감사할따름이네요 ~~잘해주셧으니 저도 담에 또 구매하러 오겟습니다',\n",
       " '빠른배송감사합니다.',\n",
       " '재구매급하게 주문했는데 너무 잘 도착해서 너무감사드려요\\n화환이 완전 크고 이뻐서 너무 잘 주문한듯해요 ~\\n만족합니다 ㅎ 자주 주문할게요~',\n",
       " '재구매개업한 지인에게 힘좀 실어주기위해서 보내드렸습니다\\n35플라워 사장님께서 꽃 풍부하고 신선한 꽃으로 깔끔하게 전달해주셔서 매번 주문합니다\\n지인이 엄청 좋았다고 화환이 들어와서 기분이 업! 되었다고 하더라구요 ㅋㅋ\\n우리 지인 사업 대박났으면 합니다^^',\n",
       " '재구매배달잘됐어요\\n빠른배송감사해요',\n",
       " '감사합니다 감사합니다 좋은 제품 감사합니다 감사합니다',\n",
       " '재구매여러번 이용했는데 항상 친절하게  잘 대응해 주셔서 감사합니다. 근조화환을 보낸다는게  잘못해서 축하하환을 보낼뻔한 아찔한 일이 있었는데 친절하게 바로 대응해 주셔서 믿음이 갑니다',\n",
       " '빠른배송 \\n고맙습니다',\n",
       " '빠른배송. 빠른배송입니다',\n",
       " '재구매늘 이용하지만 빠르고 저렴하게 느껴집니다~',\n",
       " '재구매배송도 빠르고 약속한 시간에 맞춰 잘 배송되었네요~~상담도 친절히 해주시고 화환도 꼼꼼하고  풍성하니 좋네요~~',\n",
       " '재구매배송빠르고 제품도좋아요',\n",
       " '재구매배송빠르고 제품도좋아요',\n",
       " '한달사용기잘 받았고 감사합니다 다만 지역에 따라 추가 요금을 달라고 해서 조금 아쉬움이 있었습니다',\n",
       " '한달사용기재구매빠르고 좋아요~ 단골입니다. 믿고 구매합니다',\n",
       " '재구매잘 받았습니다 ~~',\n",
       " '재구매가격도 괜찮고 시간맞춰서 배송 딱 해주셨네요 \\n믿고 주문 할 수 있어서 너무 좋은거 같아요 감사합니다',\n",
       " '재구매아무래도 이런거는 시간약속이 생명인데 역시나 \\n시간약속 철저하게 지켜서 보내주시네요 \\n화환도 예쁘고 진짜 풍성해요~',\n",
       " '빠른 배송과 사진 전송으로 아주 만족합니다.\\n다음에도 한번 더 이용할 생각입니다.',\n",
       " '빠른 배송 감사합니다.',\n",
       " '특가중이라 가격도 저렴하고 배송도 빠르고 너무 좋네요',\n",
       " '지인 분 가게 개업 해서 급하게 주문했는데도 정말 괜찮네요!\\n급할땐 항상 여기 이용해야겠어요 \\n퀄도 좋고 시간 지켜서 오니까 믿음가요! 번창하시고용! \\n담에 또 이용하겠습니다!',\n",
       " '재구매배송도 빠르고 좋아요',\n",
       " '재구매회사 퇴사하궁 친구가 어렵게 카페를 차리게 되어가지궁! 화환을 몰래 보내주었는뎅 ㅎ퇴근하고 친구 카페 갔더니 ㅋㅋㅋ 완전 좋아해용 ㅎㅎ',\n",
       " '재구매여기 정말 가성비 미쳤습니다\\n화환도 해야하고 따로 금앱도 해야 해서 부담일때 딱입니다\\n그렇다고 딱히 상품질이 떨어지는 것은 아니라 최고 입니다 감사합니다',\n",
       " '재구매시간도 잘 맞춰서 도착했어요! 꽃도 이쁘고 싱싱해서 화사해보이고 좋더라고요~ 화환 정말 가성비좋게 잘한것같아요 ㅎㅎ',\n",
       " '드디어집안에경사가났습니다 45살우리 친언니가 시집을가서 제가화환을안할수가없어서 미리 준비를이곳에서했어요 가족끼리하느라 주중에 했고  제날짜에 정확하게 배송이왔어요 잔치분위기내고싶어서 화환필수!!분위기도좋고 진짜 기분좋습니다',\n",
       " '재구매예식날 시간 정확하게 배송해주셔서 \\n너무 좋았어요 ~\\n늦지 않게 잘 배송해주셨고 꽃도 풍성했습니다',\n",
       " '재구매고모가 이번에 개업하셔서 부모님 대신 보내드렸는데 너무 좋아하시네요 ㅎㅎㅎ\\n가끔씩 필요할 때마다 이용하는 고객인데 신경써주셔서 고맙습니다~^^',\n",
       " '재구매감사합니다 잘받았습니다',\n",
       " '잘 도착했네요~~ 문자가 조금 늦게와서 아쉽지만 꽃 상태 괜찮았어요',\n",
       " '가성비 꽃집이에요~~ 꽃바구니인데도 저렴하게 선물했네요 받는 분이 생각지못한 선물이라며 너무너무 좋아했어요~~!! 다음에 또 주문할게요',\n",
       " '재구매자주 구매하던 곳에서 제 시간에 맞춰줄수 없다는\\n요청을 받고 급하게 여기로 주문했는데 정말 빠르게\\n배송해주시고 퀄리티도 괜찮아서 정말 좋았어요 !!',\n",
       " '개업하는곳이라 오전에 시간맞춰 주문드렸는데..\\n시간 잘맞춰 보내주셨네요. 감사합니다! 또 주문할께요!',\n",
       " '가성비 짱이네요 ㅎㅎ 다음에도 이용할게요',\n",
       " '친구가 가게 개업하는데 못가서 화환을 보냈어요.\\n멀리서나마 이렇게 응원할수있어 좋아요ㅎㅎ 감사해요',\n",
       " '재구매신속,정확 가성비 굿~^^',\n",
       " '재구매빠른 배송 감사합니다',\n",
       " '재구매중요한 행사에 보내는 화환이라 당부 드렸는데 다른곳 기본화환보다 상태가 좋아요. 급한 화환 보낼때 빠르게 잘 보내주셔서 종종 이용하고 있어요.^^',\n",
       " '개업하는곳에 화한보냈어요.\\n가격도 좋고 꽃도 싱싱하니 만족이예요.\\n리본도 이쁘게 써주심!!ㅎㅎ',\n",
       " '인터넷으로 화환을 주문해보는게 처음이라서 이것저것 판매자님께 문의드렸는데 친절하게 응대해주셔서 좋았어요 꽃도 제시간에 맞춰 잘 도착했네요 덕분에 좋은일에 이쁜 꽃으로 축하해드렸네요^^',\n",
       " '재구매지인의 결혼식인데 코로나격리땜에 못가게돼서 지난번에 꽃배달 시켰던곳에서 주문했는데 역시나 사장님이 때깔나게해주시더라구요~화환 안전하게 보내주셔서 감사합니다!!^^',\n",
       " '재구매배송이 정말 로켓총알배송이에요 :)',\n",
       " '재구매배송후 안내문자가 늘 요청시간 범주내로 오네요. 화환상태도 무지하게 좋고 배송 늦는적도 없어서 만족하며 이용하고 있습니다^^',\n",
       " '재구매배송이 약간 느렸습니다\\n※재생 썼다고 (상주 며느리가 꽃집을 운영) 말나왔음',\n",
       " '재구매배송빠르고 좋습니다 도착 후 문자 주신번호로 문의 드렸는데 답변은 안주시더라규오',\n",
       " '재구매일단 꽃 상태도 정말 좋고, 풍성한게\\n가성비도 괜찮은거 같아요 ~ 특히\\n배송이 되게 빨라서 만족스러웠어요:)',\n",
       " '재구매친한 지인결혼식 당일 일이 있어 가보지는 못하고 화한 보내줬어요~\\n급하게 주문했는데 정확한 시간에 배송 잘해주시고 감사해요 다음에 필요하면 또주문할게요 번창하세요!!',\n",
       " '재구매시간 촉박하게 주문했는데도 제 시간 맞춰 해주셔서 감사드려요. 화환 모양도 이쁘고 꽃도 싱싱해서 받으시는 분이 좋아하셨어요. 다음에 주문할 일 있으면 꼭 여기로 주문할게요.',\n",
       " '재구매총알배송오브총알입니다',\n",
       " '재구매꽃장식 깔끔하게 잘되어있고요, 상담해주시는 상담원분도 친절하게 잘 설명해주셔서 구매하기 어렵지 않았던것 같아요 ~~ 담에 재구매 있어서 일잇으면 다시올게요~',\n",
       " '재구매제품 배송 모두만족합니다!',\n",
       " '재구매저렴하고 빠른 배송에 항상 이용합니다',\n",
       " '한달사용기재구매항상 잘 애용하고 있어요',\n",
       " '잘써보겠습니당. 좋아요',\n",
       " '재구매집들이 선물로 스투키 화분 보냈는데 친구가 너무 좋아하네요~\\n마트나 오프라인에서 판매되는 식물보다 저렴한 가격 대비 상태가 좋네요.^^',\n",
       " '재구매재주문 입니다 만족합니다',\n",
       " '꽃도 싱싱하고 배송 사진도 보내주셔서 감사합니다!',\n",
       " '신속정확하게 원하는 시간대에 잘 맞춰서 도착했어요!\\n꽃도 넘 풍성하니 디자인도 맘에들구요~~\\n담에 또 이용하겠습니당~~',\n",
       " '한달사용기재구매항상친절하게 신경써주셔서 감사합니다',\n",
       " '재구매갑작스러운 아버님 부고 소식에 부랴부랴 주문해서\\n보냈는데 빠르게 배송해주시고 정성스러운 화환을\\n보니 마음에 위안이 되더라구요..',\n",
       " '재구매가격대비 화환 상태나 친절하시고 신속한 배송 늘 차질 없이 잘 처리해주셔서 감사합니다^^\\n늘 만족하며 이용하고 있어요~',\n",
       " '친구 부탁으로 구매를 하였는데 빠른 배송과 정확한 사진첨부로 아주 만족하게 이용했습니다.',\n",
       " '이모식당을 개업하는데 엄마가 35플라워가 괜찮다더라 그러시면서 여기주문 부탁하셨어요~~ 주변분들이 추천해주셨나봐여~~다른데서 온 화환보다 여기\\n화환이 눈에 띄고  좋네여\\n그래서 여기서 주문하라고 하셨나봐여 \\n배달 잘받았습니다~~',\n",
       " '재구매정확한 배송에 항상  만족합니다',\n",
       " '재구매여기는 오프라인 이라 첫 주문때는 걱정이\\n많이 되었는데, 진짜 깔끔하고 꽃도 싱싱하고\\n이쁘게 정성스레 잘해주셔서 참 좋았어요 ㅡ\\n다음번에도 신세 질께요!',\n",
       " '한달사용기재구매신속 정확 언제나 여기서만.',\n",
       " '재구매아주좋아요 번창하세요 자주이용할께요',\n",
       " '재구매항상 빠르고 좋습니다',\n",
       " '재구매사무실에서 이용하고 있어요. 정확하고 빠른 배송 좋습니다.',\n",
       " '아는언니가결혼식을하는데 못가보게되서 화한이라도보내자하고 후기이곳저곳보다가 여기평이조아구매했는데 깔끔하게 배송시간잘맞춰서도착했다고 연락와서 기분이매우좋더라구요^^',\n",
       " '확인연락+배송후안내문자 다좋음',\n",
       " '한달사용기재구매매번이슈있을때 이용합니다 정말 만족해요',\n",
       " '친한친구 개업화환으로 주문했어요.\\n빠르고 예쁜 화환으로 배송해주셔서 감사합니다! 화환 실제로 받아보니 친구가 이쁘다고 고맙다고하네요~^^\\n사진으로 봤는데 진짜 화환 이쁘더라구요.\\n이 가격에 잘 산 것 같아요',\n",
       " '배송도 잘맞춰주시고 좋앜씁니다',\n",
       " '재구매친구 가게 개업이라 힘든 시기에 작은 선물 주려고 보내주었어요~\\n시간에 맞게 잘 배달해주셨고 꽃도 풍성하게 보여 좋았어요~',\n",
       " '총알배송 감사합니다',\n",
       " '한달사용기재구매근조화환 최고인다. 매번 사용중입니다. 너무 감사합니다. 사진은 확대했습니다. 다른글들이 나오면 안되어서',\n",
       " '재구매지인 결혼식이라 주문했어요. 식장 시간에 맞춰 배달도 해주시고 화환 상태가 너무 좋아서 만족스러운 구매였어요🥰',\n",
       " '재구매항상 잘이용합니다.',\n",
       " '재구매기존에 이용해보고 넘 괜찮아서 또 이용해 봤는데 이번에도 역시 배송이 칼 같아서 늦지않게 배송완료해주셔서 감사했어요 타업체에비해 훨씬 괜찮은듯요 강추해요 ㅎㅎ',\n",
       " '재구매빠르고 정확한 배송 감사드립니다',\n",
       " '재구매빠른 전달과 가격에 만족합니다.\\n너무 좋아요.',\n",
       " '재구매매번 사용하고 있습니다\\n감사합니다',\n",
       " '재구매업무상 화환 보낼 곳이 많아서 여기저기 많이 이용해 봤는데 여기만큼 괜찮은 곳을 못 봤어요 \\n앞으로도 잘 부탁 드려요~~',\n",
       " '한달전에 처음 주문해봤는데 화환도 마음에 들고 무엇보다 직원분이 소통이 잘되서 좋았어요~',\n",
       " '재구매빠른배송 만족합니다.',\n",
       " '재구매항상 빠르고 가격도 좋습니다',\n",
       " '재구매어렵게 취업에 성공한 친구가 있어 계모임 하는 친구들이랑 돈을 모아서 화환 보내주었습니다!!\\n시간 잘 맞춰서 도착하니 친구가 바로 연락오네요 ㅎㅎ',\n",
       " '빠르고 정확하게 배송해주셨어요',\n",
       " '재구매배송 대박 꼼꼼 여기서 50번 이상 구매한듯요',\n",
       " '재구매고향동생 결혼식에 축하화환 보낸다고\\n급하게 주문했는데, 늦지않게 도착해서\\n정말 다행입니다 감사합니다',\n",
       " '주말에 행사 진행했는데 화환을 다 추가하라고 사장님이 이야기 하셔서 ㅜㅜ\\n급하게 준비한거라 오프라인 매장에서 주문이 잘안되더라구요ㅠㅠ\\n정말 빠르게 해주셔서 감사하고 시간안에 배송해주려서 감사하네요 ~ 덕분에 행사 잘 마쳤습니다 ! 너무 감사해요',\n",
       " '재구매급하게 주문했는데 빠른배송 감사합니다',\n",
       " '재구매모임하는 친구가 결혼을 앞두고 있어서 만나서 저녁먹기전에 서프라이즈로 화환 주문해서 선물로줬는데 좋아하고 좋아해요 ㅎㅎ',\n",
       " '재구매화환이 엄청 세련되고 고급스러워요 딱 원하는 스타일로 된 것이라 대만족합니다 전반적으로 가격도 친절하고 가성비 굳이네요 ~~!',\n",
       " '재구매거래처직원이 결혼식이 있어 주문했습니다. 급하게 연락이 와서 당일에 주문했는데 가능해서 다행이었어요! 감사합니다!',\n",
       " '배송이 정말 정확하네요!! 딱 제가 원하던 시간에 맞춰왔네요~ 요청사항도 꼼꼼하게 잘 들어주셔서 정말 마음에 들어요!! 앞으로 화환은 여기서 주문해야겠어요!!',\n",
       " '재구매항상~!!  좋습니다~^^',\n",
       " '재구매다른곳보다 저렴한데도 정성껏 잘 꾸며서 보내 주십니다~\\n꽃도 싱싱하면서 풍성해요^^\\n다음에도 또 주문할께요~~',\n",
       " '재구매다른곳보다 훨씬 싱싱하고 풍성하게 만든 화환을 보내 주십니다\\n저렴하기도하고 만족스러워요! \\n추천추천!',\n",
       " '재구매항상 여기서 시키고있어요. 배송 빠르고 좋아요.',\n",
       " '한달사용기재구매항상  고객  기대에  만족을 주는 곳..',\n",
       " '배송이 빠르고 품질도 신뢰가 갑니다 \\n주문이 간편해서 무척 만족합니다 \\n저렴하고 직원분들도 친절합니다~^^',\n",
       " '좋아요 저렴하고 빠릅니다',\n",
       " '항상그렇듯 좋아요.',\n",
       " '재구매돟아요아주좋습니다정말',\n",
       " '조카가 결혼했거든용ㆍ 축하화환 \\n 화려하고 이쁘고 원하는 시간에\\n잘 배달되어 고모로서 넘 기분 좋았답니당ㅋ',\n",
       " '재구매당골집~ 항상 최고입니다~^^',\n",
       " '아버님 생신 때 보내 드렸는데 너무 예쁘네요',\n",
       " '항상 애용합니다\\n이번에도 빠른 배송 감사합니다',\n",
       " '재구매엄마 친구 자녀분이 결혼한다하여, 엄마가 주문해달라고해서 주문했어요. 엄마가 우리가 보낸 화환이 제일 이뻤다구 하시네요ㅎㅎ!!',\n",
       " '재구매경조사 등에 필요한 화환은 항상 주문합니다. 가격도 합리적이고 요청한 시간에 맞춰 배송해주어 항상 감사하게 생각합니다.',\n",
       " '재구매가을이되니 예식이 많네요~~ 당근 다음예식때도 잘부탁드립니다~~',\n",
       " '바르고 정확하게 배송되었습니다. 고맙습니다.',\n",
       " '제시간에 잘 도착했어요~! 만족합니다',\n",
       " '한달사용기재구매늘 애용합니다 재구매또합니다',\n",
       " '한달사용기재구매제품좋아요. 친절해요',\n",
       " '배송도 시간도  잘맞춰 주시고 가져다 주시는분도 친절히 해주셔서 감사했습니다.\\n좋은날 활짝핀 꽃처럼 예쁜 시작하라고 친구들이  선물하는거라 신경이 쓰였는데 맘에들었습니다.\\n감사합니다.',\n",
       " '빠른 배송과 친절한 사진첨부로 아주 만족하게 이용했습니다.',\n",
       " '전화하셔도 친절하게 궁금한거 답변해주시고 배송도 적당한 시간에 갖다주시고 사진까지 찍어주셔서 좋았어요 !! 비록 너무 정신이 없어서 제 눈으로 직접 확인은 못했지만요 ㅠㅠ',\n",
       " '덕분에 지난주 화환 잘도착했습니다 ~ 당시 아침에 생각나서 12시 식장에 10시 정도에 급하게 주문했는데, 친절하게 설명해주시고 식 전에 도착해주셔서 정말 너무너무 했습니다~~ 당시 여러곳 다 불가능하다 했는데, 여기 사장님께서 해주셨어요. 너무 감사드리며 화환 필요하신 분들 여기 사장님께 주문하세요~~!!',\n",
       " '꽃배달 업체 여러군데 이용해밨는데 여기가 제일 괜찮은거 같아요 \\n총알배송에 친절한 상담에 화환도 구성좋고 이쁘네요 급하게 주문했는데 배송시간도 착오없이 잘 보내주셔서 감사합니다',\n",
       " '재구매자주구매해요\\n마음에들어요',\n",
       " '늦게 시킨거아닌가 걱정했는데 제때 맞춰서 꽃도 싱싱하고 아주 예쁘게 왔어요! 담에 또 시킬께요! 감사합니다ㅎ',\n",
       " '화환도 너무 좋네요~\\n배송의 상태도 좋고 개업식을 하는 지인에게 보내줬는데\\n꽃이 풍성하고 시간도 잘 맞춰서 갖다주셔서 넘 좋았어요\\n요즘 온라인으로 많이들 주문을 하는데 진짜 해보니 더 이쁘고 좋네요',\n",
       " '한달사용기재구매좋습니다 아주 좋습니다',\n",
       " '재구매항상 여기서 주문하고 있어요',\n",
       " '재구매잘 도착해주셔서 감사합니다!',\n",
       " '재구매언제나 만족스럽습니다.',\n",
       " '혀사퇴직한 친구가 큰마음 먹고 이번에 샵을 오픈했어요. 새로운시작 좋은기운을 담아 친구에게 선물했습니다.친구가 너무 마음에 들어해서 저도 좋네요',\n",
       " '재구매항상 이용합니다 이번에는 예식장에서 눈으로 확인했네요 배송빠르고 인증샷까지 좋아요',\n",
       " '화환보낼일 있어서 온라인으로 알아보다가 딱 마음에 들어서 선택했어요^_^ 시간도 잘 맞춰서 도착했고 가격도 착한데 꽃상태도 너무 좋고 이뻤어요~  다음번에도 이용할께요!',\n",
       " '언제나 감사합니다~',\n",
       " '재구매근조화환 잘받았습니다',\n",
       " '한달사용기재구매빠른배송 항상 감사합니다',\n",
       " '친구 개업축하로 보내줬는데 맘에 들어하네요 \\n어려운시기에 용기내서 새로운 도전하는거 축하해주고 싶어서\\n여러군데 비교하고 문의해서 여기로 결정했는데 선택 잘 한거 같아요',\n",
       " '아는 지인분 결혼식에 보내려고 했는데 이런 게 처음이라 어색했지만 사장님이 잘 안내해 주셔서 무사하보낼 수 있었어요~!! 다음에는 화환 말고 꽃바구니는 꽃다발 같은 걸로 한번 이용해 볼게요 사장님 번창 하세요~^^',\n",
       " '한달사용기진짜 굿 초이스입니다.항상꽃배달주문은 여기서~~~',\n",
       " '재구매축하할 일이생겨 배송을 주문했어여.\\n깔끔하게 잘 배송해주셔서 감사합니다.\\n늘 만족하게 해주는 곳이네요',\n",
       " '지정한 날자에 안갖다주고 개업도 하기 전에!!\\n전날에  갖다 주겟다 하고 갖다 주면 어떻게요!!',\n",
       " '결혼하는 친구가 있어서 예쁘게 화환 하나 해서 보냈어요! 시간 맞춰서 배송해주시고 예쁘게 만들어서 보내주셔서 친구들에게 칭찬 받았네요 ㅎ 상태 좋고 예뻐요! 만족해요 ㅎ',\n",
       " '재구매제품 배송 모두 만족합니다.',\n",
       " '거래처에 잘보냈읍니다.',\n",
       " '재구매늘 여기서 주문해요~ 만족합니다!',\n",
       " '축하할일이있어서 급하게보냈는데도 시간정확하게 좋은제품으로만 구성해서보내주셔서 감사해요ㅎㅎ다음번에도 선물할때있음 또주문할께요 ^^',\n",
       " '재구매매우빠른배송매우만족',\n",
       " '친오빠가 꼬기집을 오픈하게되어 화환 준비했어요 꽃도 예쁘고 풍성하니 좋아요. 앞으로 35플라워 단골각입니다.',\n",
       " '재구매항상 잘이용하고있습니다.',\n",
       " '친구가 옷가게 개업을 한다고 연락이 왔어요\\n가보지 못하고 하니 그래서 개업으 화환을 보내드렸어요~\\n화환이 꽃이 너무 이쁘고 풍성하지만 일단 화환이 고급스럽고\\n배송도 빨라서 만족합니다.',\n",
       " '넘 예쁜 화환을 지정한 시간에 잘 배달해 주셔서\\n고맙습니다.\\n삼오플라워를 자주 이용하는데 대만족입니다.',\n",
       " '선물드린분이 너무 좋아해요~',\n",
       " '작은 꽃배달 같은거는 근처화원에서 몇번 해봤는데 온라인상으로는 처음이라 반신반의 했는데 꽃 너무 풍성하고 시간맞춰 잘 보내주셔서 감사드려요 너무 친절하신 응대에 필요하면 자주 방문하려구요',\n",
       " '재구매항상 잘 애용하고있어요',\n",
       " '친구들모임이 있는데 그중 한친구가 코로나때문에 일년을 미루다가 드디어 결혼식을해서 친구들이랑같이 화환보내줬어요~ 시간에 맞춰서 잘 도착했고 너무 이쁘게 잘 왔네요^^',\n",
       " '정확한 배송.\\n이쁜 화환.\\n대만족.',\n",
       " '배송이 빠르고 정확합니다',\n",
       " '재구매매번 잘 이용중이에요 굳입니다.',\n",
       " '화환 빠르게 배송해주셨더라구요 ^^\\n진짜 생각보다 훨씬 빨리 배송해주셔서 너무 좋았어요.\\n화환도 신선한 꽃으로 풍성하게 잘 구성해주셔서 좋네요',\n",
       " '친절한 상담과 정확한 배송 감사합니다^^',\n",
       " '튼튼하고 좋았습니당',\n",
       " '전날(주말)에 시켰는데 잘받았다고 합니다. 빠르고 예쁜거로 보내주셨어요~',\n",
       " '재구매항상 주문하는곳 !!! 번창하세요',\n",
       " '진짜 배송도 정확하고 화환도 너무 이쁘고 최고입니다! 담에도 화환 보낼일 있으면 여기서 할게요!!',\n",
       " '재구매빠른배송 정확한 시간 감사합니다',\n",
       " '친구가 멀리서하는 결혼식이라 주문했어요 인터넷으로 처음주문해보는데 , 다행히 시간도 잘맞춰서 도착했고 예쁘다네요 너무만족합니다^^',\n",
       " '재구매친구 결혼식이 있어서 주문했습니당!! \\n문구도 깔끔하고 여기 화환이 제일 눈에 띄어서 좋았어용ㅎㅎㅎ 넘 맘에 들어요',\n",
       " '재구매꽃 화환 배달 사고 없이 잘 받았네여\\n우선 꽃이 싱싱했구여\\n이뻐서 넘 좋았어여\\n택배주문 편하고 할만하네여',\n",
       " '배송이 빨랐어요 !',\n",
       " '배송도 빠르고 정확하네요~',\n",
       " '재구매배송 잘 받았습니당ㅎㅎ 시간에 딱 맞춰 와서 좋았어요! 사진보다 좀 더 풍성해보이고 싱싱해서 좋네요!',\n",
       " '재구매빠른배송 만족입니다. 만족',\n",
       " '재구매좋네요\\n배송도 빠르고 쓸만해요.',\n",
       " '다 좋았는데 생화로 꽂혀있는 소국이 너무 시들어서 기분이 좀 그랬어요 ㅠㅠ',\n",
       " '한달사용기재구매늘 신속배달 감사합니다',\n",
       " '지인 개업 선물로 보냈는데 \\n예쁘다고 좋아해주네요 ~ 꽃도 싱싱한거로 잘\\n만들어 보내주셨드라구요 감사합니다',\n",
       " '가성비 좋습니다~~~',\n",
       " '재구매빠른배송 만족입니다. 만족',\n",
       " '재구매빠른배송 만족입니다.만족',\n",
       " '고등학교 친구모임 첫 결혼식이라 신경써서 준비했는데, 정말 만족스러웠어요. 코로나에 안그래도 울적해했는데, 친구도 너무 고마워했구요~식장가서 보니 저희 꽃이 제일 싱싱하고 예쁘면서도 화려해서 사진찍어도 잘나오더라구요! 게다가 리본 문구 요청드린것도 너무 깔끔하게 잘해서 잘보이게 걸어주셔서, 인증샷 찍느냐고 바빴네요ㅎㅎ 문의도 많이 드리고 했는데 친절하게 답변해주시고, 화환도 너무 잘 만들어 보내주셔서 감사합니다~',\n",
       " '재구매빠른배송 감사합니다',\n",
       " '가격도 저렴하고 정말 마음에 드는 화환으로 왔습니다.\\n친구 결혼식에 제가 보낸 화환이 눈에 띄는게 정말 기분이 좋았습니다.\\n다음에도 주문할게요.',\n",
       " '사진도보내주시고 완료됏다 문자도주셔서 좋았어요',\n",
       " 'ㅎㅎ 화환하는 집 많더라구용\\n회사상사가 초개해주셔가지고 알게 됬어요 ㅎ\\n잘 해주셔서 감사합니다 ㅎㅎ',\n",
       " '재구매배송시간 너무 잘시켜주셔서 감사합니다.꽃상태도 좋고 사진도 배내주셔서 너무 좋았습니다.',\n",
       " '완전 좋아요 강추합니다',\n",
       " '재구매빠른배송 감사합니다..^^',\n",
       " '개업식에 맞춰 잘 도착했습니다\\n꽃 개화도 잘되고 싱싱하고 퀼리티 좋네요\\n가격도 착하고 만족합니다',\n",
       " '축하할 일이 있어서 급하게 주문했는데도 불구하고 시간 맞춰서 배송 잘해주셔서 넘 감사해요! 예쁜꽃 배송되었다고 엄청좋아하네요 덕분입니다 ㅎ',\n",
       " '지인 추천으로 주문했어요. 제가 직접 주문해봤던 것이 아니고 추천으로 주문한거라 조금 걱정이 됐었는데 괜한 걱정이었네요. 정말 만족스러웠습니다.',\n",
       " '빠르고 정확한 배공',\n",
       " '다른곳보다  싸고 꽃이 많은 편이에요\\n다른건 모르겠지만 축하화환은 여기가 최고인것 같아요\\n앞으로도 여기서 화환주문할게요',\n",
       " '너무좋아요 배송빨라요',\n",
       " '한달사용기재구매항상만족하는 ㅅㅓ비스가 있습니다. 여기네요',\n",
       " '친구가 결혼이 있었어요~\\n가보지 못하고 그래서 화환을 보내드렸는데\\n화환이 꽃도 풍성하고 너무 이쁘고 시간도 맞춰서 갖다주셔서 넘 좋았어요\\n감사합니다.',\n",
       " '화환이 아주 풍성하고 제 시간에 맞춰서 잘 왔어요 \\n화환을 자주 시켜보지 않아서 어떨까 싶었는데 친절하고 빠르게 보내주셔서 축하의 마음을 잘 전달할 수 있었어요 \\n넘 만족스러워요',\n",
       " '한달사용기재구매빠른배송 감사합니다.',\n",
       " '한달사용기재구매빠른배송 감사합니다.',\n",
       " '축하 화환 보내일 있어서 비교해 보고 주문했어요.\\n꽃도 싱싱하고 화환도 풍성하게 잘 보내주신 거 같네요. 받으신 분이 너무 좋아하셔서 저도 기분이 좋아요. 감사합니다  또 이용할게요!^^',\n",
       " '급하게 화환 보낼일이 있어서 주문했는데 원하는 시간에 딱 보내주셔서 감사합니다. 화환 너무 이쁘게 잘 왔습니다. 너무 만족합니다.',\n",
       " '재구매배송 빠르고 좋아요.',\n",
       " '재구매상품도 좋고 배송도 잘 해주시고,항상 믿고 주문합니다.',\n",
       " '리본글 작성시 숫자 기입시 좀더 세심함이 필요합니다',\n",
       " '한달사용기재구매선물받으신분이 너무 이쁘다고 좋아해주셨어요 좋은 물건보내주셔서 감사합니다. 최근 방문했더니 아직 싱싱하니 잘 크고 있네요',\n",
       " '지인딸 개업식에  보내려고  구매했는데  가격도 좋고  꽃도 잘보내주셔서 대만족입니다  요즘 꽃보낼일이 종종생기는데 여기서  꼭시키려고요',\n",
       " '꽃상태좋았고 원하던 시간전에 잘도착했습니다!\\n처음 주문해본곳인데\\n앞으로 종종이용하게될것같습니다!',\n",
       " '정말 고급스럽고 이쁘게 꾸며주셨네요 결혼식화환은 시간이 생명인데 빠르게 배달해줘서 넘 맘에들어요 가성비도 좋고 대만족합니다 ㅎㅎ',\n",
       " '개업식에 화환이 빠지면 섭하죠 !! 특가에 배송도 빠르고 꼼꼼하게 \\n신경써주셔서 더욱 더 빛나는 개업식이 된 거 같아서 엄마도 좋아하는 \\n모습이에요 ㅎㅎ 감사합니다~',\n",
       " '재구매믿고 주문하는 곳이에요. 감사합니다',\n",
       " '재구매언제나 믿고 주문하는 화환입니다.',\n",
       " '한달사용기재구매항상 애용합니다. 좋아요.',\n",
       " '재구매가격저렴 총알 배송 좋아요. 여기가 젤 짱인듯',\n",
       " '역시 믿고 구매하는 곳! 이번에도 깔끔하고 멋지게 잘 가져다 주셔서 감사합니다',\n",
       " '재구매미리 구매확정 합니다 그만큼 믿을수있는업체이지요',\n",
       " '재구매미리 구매확정 합니다 그만큼 믿을수있는업체이지요',\n",
       " '재구매제품 배송 모두만족합니다!',\n",
       " '재구매제품 배송 모두만족합니다!',\n",
       " '재구매언제나 빠른 배송 감사합니다',\n",
       " '직업적으로 알게된 친한형 가게 개업식에 하나 보냈습니다 거리도 멀고 가보진 못해서 화환이라도 보내려고 한건데 저보다 더 꼼꼼히 일정확인도 해주시고 퀄리티 좋은꽃 보내주셔서 감사합니다',\n",
       " '회사 대표님께서 필요하시다고 해서 주문했는데 별다른 말씀없으신걸보니 괜찮으셨나 봅니다.',\n",
       " '재구매................',\n",
       " '재구매빠른 배송 좋네요. 사무실에서 이용하고 있어요.',\n",
       " '재구매배송도 상품도 너무 좋아요 완벽\\n또 주문할게요',\n",
       " '친구가 가게를 오픈해서 의미있는 선물로 무얼해줄까 고민하다가 축하화환을 선물해봤는데  가게  분위기가 환하게 산다고 만족해하네요 감사합니다',\n",
       " '친구가 가게 개업으로 인해서 화환이 필요했어요~\\n요즘 온라인으로 많이들 주문을 한다고 그래서 온라인으로 알아보고\\n주문을 했는데 꽃이 너무 이쁘고 풍성하고 시간도 맞춰서 잘 갖다주시네요',\n",
       " '감사합니다 잘보냤습니다',\n",
       " '감사합니다. \\n자주 이용하고있습니다.',\n",
       " '재구매회사 비품으로 주문해요',\n",
       " '재구매빠른배송과 배송사진 감사합니다',\n",
       " '재구매빠른 배송과 배송사진 감사합니다',\n",
       " '화환 여기저기 비교해보고 구입햇어요.\\n직접 보지않고 배송햇는데 받은 사람이 맘에들어해서 대만족이요!',\n",
       " '좋아요 사진으로봣지만 괜찮은듯',\n",
       " '재구매매번 이용합니다. 가성비도 좋고 꽃 상태도 좋습니다.',\n",
       " '시간 맞게 잘도착하였고, 인증 사진도 보내주셔서 좋았습니다. 다음에 또 이용할게요.',\n",
       " '재구매배송시간도 잘 맞춰주시고. 만족합니다',\n",
       " '친구 결혼식에 화환 보내봤어요 화환이 엄청 비싼줄 알았는데 생각보다 저렴하고 구매하기도 쉽네요 인터넷으로 이렇게 쉽게 구매할 수 있는지 첨 알았어요 앞으로도 특별한 이벤트가 필요할 때 종종 구매해야겠어요',\n",
       " '빠른 배송도 꽃도 깔끔하면서 화려한 색감 구성으로 잘 도착했었요~ 새로 시작하는 부부를 위한 선물로 화환 주문했는데 신경써서 보내주셔서 감사드립니다.',\n",
       " '재구매잘 도착하여 좋습니다! 항상 !',\n",
       " '친구가 10년동안 육아하다가 이번에 취업에 성공을 했다고 연락이 왔어요\\n그래서 첫 출근기념으로 꽃을 보내주니 너무 좋아하네요~\\n꽃도 너무 풍성하고 넘 만족해요',\n",
       " '재구매잘받았습니다. 감사합니다.',\n",
       " '잘 도착했어요~ 지인 개업축화로 화환을 보냈는데 시간도 잘 지켜주시고 꽃들도 싱싱하니 예쁘다고 인사들었네요^^ 다음에도 이용할께요 ~',\n",
       " '요청한 시간에 정확하게 배달해주셨습니다.\\n\\n도착하고 인계사진도 바로 보내주셨어요',\n",
       " '실수없이 잘 받았습니다',\n",
       " '아이가 무용을 하는데 급하게 소규모로 공연이 잡혀서\\n꽃을 들고 가는거보다는 꽃배달로 받는게 너무 좋을꺼 같아서 주문을 했어요\\n꽃이 너무 이쁘고 너무너무 맘에 들어요',\n",
       " '항상 이용하고 있습니다\\n감사합니다',\n",
       " '재구매언제나 만족합니다. 최고~!!!!!',\n",
       " '결혼식이 있어서 주문했는데 \\n친구가 여기 괜찮다고 소개시켜줘서 주문했는데\\n꽃도 싱싱하고 퀄리티 좋네여',\n",
       " '행사는 시간이 제일 중요한데 원하는 시간에 맞춰 잘 왔어요~  꽃이 깔끔하고 만족스러워요\\n크게 신경쓸거 없이 간편하게 주문하고 빠르게 배송되니 좋네요!',\n",
       " '재구매빠르고 품질좋고 확인 사진까지 확실해요',\n",
       " '예쁘고 빠릅니다. \\n.',\n",
       " '한달사용기편하고 좋았어요~~',\n",
       " '급히 보낼 일이있어 상담하고 주문했는데\\n상담도 친절하게 해주시고 시간도 잘 맞춰 보내주셔서 좋은 선물이되옸습니다! 감사합니당',\n",
       " '재구매정확한 배송 감사합니다']"
      ]
     },
     "execution_count": 367,
     "metadata": {},
     "output_type": "execute_result"
    }
   ],
   "source": [
    "리뷰"
   ]
  },
  {
   "cell_type": "code",
   "execution_count": 366,
   "id": "36b201d8",
   "metadata": {},
   "outputs": [
    {
     "data": {
      "text/plain": [
       "{'star_average': '4.8',\n",
       " 'review_number': '13,580',\n",
       " '리뷰': ['재구매꽃바구니랑 같이 구매했는데 훨씬 저렴한 꽃바구니가 더 비싸보이고 예뻐요 이 가격이 맞나 싶을정도로 허술하구여 꽃이 다 시들어있어요..잎파리는 왜이렇게 많은지 ㅎㅎㅎ받는 사람한테 주기 미안할 정도예요;;',\n",
       "  '배송도 빠르고 좋아요.\\n단지 다른지역에는 두개주문하면 디자인을 조금 틀리게 해주시던데 똑같은거네요',\n",
       "  '선물받으신분이 이쁘대요ㅎㅎ\\n맘에들어해서 다행이네요\\n감사합니다',\n",
       "  '중간중간 피드백도 좋고, \\n상담도 친절하고..  매우매우 좋아요',\n",
       "  '빠른배송과 요청사항에 맞게 잘 전달해 주셔서 감사합니다~^^',\n",
       "  '재구매배송도 빠르고 친절하구 너무 감사합니다',\n",
       "  '다른 곳보다 가격이 저렴해서 좋아요\\n제 시간에 왓어요',\n",
       "  '재구매정말 중요한 상이였는데 배송이 늦어서 너무 속상했어요..',\n",
       "  '사진보다 이쁩니다~  가성비 좋음~',\n",
       "  '재구매항상 여기서 주문하고 있습니다.',\n",
       "  '재구매언제나 만족하면서 애용중입니다.',\n",
       "  '재구매진짜 빨리 내주셔서 감사해요 1등으로 도착했어요\\n역시 단골할만합니다\\n저렴하고 빠르고 정확하고 싱싱하고',\n",
       "  '재구매빠르게 잘 받았습니다.',\n",
       "  '재구매배송빠르고 좋았네요',\n",
       "  '한달사용기정성스런 화환 덕분에 선물 받으신 분이 좋아하셨습니다!',\n",
       "  '재구매굿굿 빠른배송고맙습니다',\n",
       "  '재구매굿굿 빠른배송고맙습니다',\n",
       "  '재구매아주좋아요 사용하기편해요 간편해요',\n",
       "  '재구매항상쓰는곳입니다~~~~~',\n",
       "  '빠르고 정확합니다 항상 이용중',\n",
       "  '한달사용기재구매항상 빨리 진행해 주셔서 감사합니다',\n",
       "  '재구매화환은 삼오플라워에서만 주문하고 있어요. 항상 만족하고 있습니다.',\n",
       "  '아주 좋아요 굿굿굿',\n",
       "  '빠른배송에 퀄리티가 좋아요',\n",
       "  '꽃이 좀 더 풍성햇음해요',\n",
       "  '재구매항상 감사합니다 번창하세요',\n",
       "  '재구매빠른배송과 풍성한 꽃이 맘에듭니다\\n그리고 항상 배달즉시 사진을 보내줘서 확인할수있어서 좋아요',\n",
       "  '재구매어제 저녁 늦게 주문했는데 아침일찍 최선을 다해서 배송해주셔서 결혼식 이쁘게 잘  치뤄드렸습니다',\n",
       "  '매번 빠르고 정확하게 잘해줌',\n",
       "  '항상 잘 이용하고 있어요',\n",
       "  '날짜,시간 잘 맞춰서 도착한 것 같아요 실물로 보진 못했지만 좋아하시네요 감사합니다^^',\n",
       "  '배송빠르고 너무 좋아요~ 감사합니다',\n",
       "  '재구매배송빠르고 너무 좋아요~ 감사합니다',\n",
       "  '재구매회사일로 계속 이용하고 있는데 대응도 잘해주시고 좋아요. 앞으로도 이용할께요.수고하셨습니다',\n",
       "  '재구매항상 이용해요 가격도 괜찮고 배달완료후엔 사진까지 전송해줘요',\n",
       "  '한달사용기재구매항상 잘 애용하고있어요\\n최고에요',\n",
       "  '어머니가 좋아하셨어요 감사합니다',\n",
       "  '재구매늘 여기서 구매하게 되네요~\\n배송도 원하는 시간 잘 해 주시고 피드백도 좋아 감사합니다.\\n번창하세요~~',\n",
       "  '재구매일요일이라서 아침 배송이 안되서 아쉬웠지만 어쩔수 없지용',\n",
       "  '재구매항상 믿고 주문합니다.',\n",
       "  '재구매빠른배송이라 좋아요',\n",
       "  '재구매정확한 배송 감사합니다',\n",
       "  '한달사용기집안 행사에 적은 경비로 아름다운 꽃을 받을수  있어서 감사했습니다.',\n",
       "  '재구매늦었지만 리뷰합니다\\n항상 좋은화환 신속한배송 저렴함 감사합니다',\n",
       "  '재구매사무실에서 이용중이예요. 친절합니다.',\n",
       "  '재구매만족합니다 주말에도 빠르고 좋아요',\n",
       "  '배송이 늦은 건지 문자가 늦은 건지 요청 시간보다 늦었네요 그렇지만 상춤 사진보니 마음에 들어서 별5개 드립니다 제품 설명 사진과 다를 수 있다는 안내 받았는데 제품 안내 사진보다 더 마음에 드네요',\n",
       "  '재구매배달완료 사진까지 잘찍어서 보내주셔서 감사합니다',\n",
       "  '재구매항상 꽃배달이나 화환은 여기 이용하는데 저렴하고 가격대비질도 좋습니다~',\n",
       "  '3시간 만에 배송 되고 좋았어요!',\n",
       "  '두번째 이용인데 당일 급하게 신청했는데 예쁘게 만들어 보내주셨어요^^\\n배송즉시 사진까지 보내주시고 넘 좋아요\\n전 계속 여기만 이용할려구요 ㅎ ㅎ\\n\\n※사진보내주신걸 올리려니 안올라가네요;;',\n",
       "  '어느새 사촌조카가 결혼을 한다고 연락이 왔네요.\\n마침 당일에 일이있어서 참석을 못해서 전화로 인사는 드렸는데...\\n그래도, 화환 하나는 보내야겠기에 여기저기 알아보다가\\n이곳에서 주문하게 되었네요..\\n\\n주문후에 고객센터에서도 확인전화까지 주시고...ㅎㅎㅎ\\n나중에 친척어른들 한테도 너가보낸 화환 잘받았다고\\n고맙다는 인사는 덤으로 받았습니다..\\n\\n나중에도 화환이나 꽃은 이곳에서 주문해야겠네요...\\n감사합니다...',\n",
       "  '재구매항상 감사합니다~ 번창하세요~',\n",
       "  '친구가 이번에 학원을 개업한다고 하네요\\n요즘에 우리아이들도 학원이다 온라인이다 날리던데..\\n잘되라는 이야기도 해주고..\\n명색이 개업하는데 그래도\\n지나가면서 알아보고, 소문나라고 화환을 하나 보내주려고 알아보다가\\n이곳에서 주문까지 했습니다.\\n\\n배송후에 사진주신것 보니 풍성하게 해서 잘배송되었네요.\\n감사합니다..\\n\\n다음에도 이곳 자주자주 이용할게요...\\n\\n수고하세요...ㅎㅎ',\n",
       "  '지방이라 추가로 돈을 더 냈지만 가격이 괜찮아요 배송도 빠르구요',\n",
       "  '재구매항상 여기서 보내요.\\n수고하세요',\n",
       "  '재구매빠르게 잘 도착했어요.',\n",
       "  '원래 주문하던 업체가 있었는데 마지막에 주문했을때 문제가 좀 있어서 업체를 바꿔서 주문했습니다. 시간도 아주 잘 지켜주셨고 제일 걱정했던 퀄리티가 제가 원하던 화환 그 모습으로 도착해서 맘이 놓였네요^^~\\n늦지않게 그리고 좋은제품으로 잘 도착하게해주셔서 감사합니다^^~',\n",
       "  '급하게 당일에 주문했는데 제시간에 맞춰서 도착했어요 감사합니다. 상태도 좋고 마음에 들었어요 다음에 재구매 의사 있음. 다음에 주문시 최소 전날에는 주문할께요~~',\n",
       "  '한달사용기좋아요 ㅎㅎ 오늘 또 주문하려고요 ^^',\n",
       "  '재구매사무실에서 사용해요. 빠른배송, 친절한 응대 감사합니다.',\n",
       "  '재구매사무실에서 사용해요. 빠른배송, 친절한 응대 감사합니다.',\n",
       "  '한달사용기재구매늘 애용하는데 좋습니다 다시 재구매합니다',\n",
       "  '재구매감사합니다 자주 사용하고있네요!',\n",
       "  '배송도 너무 빠르고 품질이 너무 좋아요!! 매번 이용하고 있어요',\n",
       "  '재구매여기서만 주문해요. 좋아요.',\n",
       "  '재구매배송빠르고 좋아요,',\n",
       "  '한달사용기잘 받았습니다. 자주 이용하고 주변에도 알리고 있어요 사업 번창 하십시요',\n",
       "  '한달사용기재구매잘 받았습니다. 자주 이용하고 주변에도 알리고 있어요 사업 번창 하십시요',\n",
       "  '한달사용기재구매항상 주문하는 곳이에요',\n",
       "  '빠르고 정확히 배송해주셨어요. 감사합니다. \\n보톨 유선으로만 주문해봐서 인터넷 주문은 혹시 배송이 늦을까 걱정했는데 괜한 걱정이었네요. 감사합니다!\\n배달 후에 바로 메세지로 안내도 해주셔서 더 걱정 덜었습니다!',\n",
       "  '한달사용기재구매빠른배송 그리고 확인서비스 좋아요',\n",
       "  '재구매배송정확하고친절하게배달해주세요',\n",
       "  '재구매부모님 아시는 분이 가게오픈하셨다고 화환 선물하신다고 하더라구요~ 그래서 알아봐달라고해서 제가 지난번에 꽃배달 했을때 여기가 괜찮았던걸로 기억해서 화환보냈네요~ 부모님이 가게 다녀와보시곤 화환 좋더라고 칭찬하셨어요^^',\n",
       "  '재구매늘 사용해요 친절하고 좋아요',\n",
       "  '한달사용기친구들이 좋아한 모습 보니까 기분이 좋네요',\n",
       "  '재구매좋아요 빠른배송 감사',\n",
       "  '빠른배송 감사합니다 자주이용할게요',\n",
       "  '사진까지 찍어서 보내주셨습니다 감사합니다',\n",
       "  '빠른배송 감사합니다~!',\n",
       "  '꼼꼼하게 배송해주시고 주문상품 동일하게 맞춰주셔서 감사합니다.',\n",
       "  '잘받았습니다 감사합니다',\n",
       "  '재구매축하할땐 화환 좋은거같아요~ 요즘 결혼식하기도  좀 그런데 친구가 드디어 결혼했거든요! 그래서 넘 축하기념으로 화환보냈습니다~ 문구도 제가 원하는대로 잘 작성해주셨고 실제로보니 더 예쁘네요^^',\n",
       "  '재구매화환배송은 최고예요👍시간빠르고 정확해서 매번 이용합니다',\n",
       "  '재구매2개 재구매했습니다.\\n감사합니다.',\n",
       "  '재구매자주 애용합니다.\\n번창하세요',\n",
       "  '배송이 빠르고 좋습니다.',\n",
       "  '빠르고 정확해서 좋네요. 담에 또 주문넣고 싶습니다. 개업하는거 바로 알자마자 검색해서 보냈는데 당일배송이 되다니. 친구랑 약속 지켜서다행입니다. 제 개업날에도 화환보내준친구라 저도 부끄럽지않게 보냈어야했거든요.  굿!!',\n",
       "  '한달사용기재구매항상 정확하구 신속한 배송과 인증 문자\\n감사합니다',\n",
       "  '확인 전화에 문자까지. 빠른 배송 만족이여~ 잘 배송해주셔서 감사합니다',\n",
       "  '재구매여기 진짜 변함없네요 ㅋㅋ\\n전에 몇번 시키고 그닥 시킬일 없다고 엄마가 \\n급하게 전화와서 지금 꽃집 갈 상황이 안되는데\\n화환 하나만 시켜달라고 해서 시켰거든요\\n근데 엄마가 비싼거 아니냐고 받은 사람은 고맙다고\\n하는데 화환 비싸보인다고 괜히 내가 부탁해서 비싼거\\n보냈냐고 하시길래 아니라고 가격 말씀 드리니 ㅋㅋ\\n앞으로도 거기 주문해달래요 ㅋㅋ',\n",
       "  '한달사용기재구매항상 이용하고 있습니다. 제시간에 사진 잘 보내주어 고맙습니다 받는분도 만족하셨어요',\n",
       "  '오후늦게 결혼식에 보내려고 급하게 주문했는데 늦지않게 잘 도착하였네요 \\n늦게도착하여 사진은 못찍었지만 특가인데도 여느화환들 못지않게 화려하여 매우 만족했습니다!',\n",
       "  '재구매빠른 배송 좋아요~',\n",
       "  '재구매늘 믿고 구매합니다. 항상 빠르게 배송해주시고 도채하면 사진도 찍어 주시고 좋아요',\n",
       "  '재구매지난번 꽃배달 매우만족해서 이번에도 이용 해봤어요~ 직접 방문할 개업식이라 제가보낸 화환 가서보니 예쁘더라구요~ ^^  화환이 일찌감치 잘 도착해있어서 넘 좋았답니다~',\n",
       "  '재구매여기서만 주문합니다.',\n",
       "  '재구매약속한 시간에 잘 맞쳤습니다',\n",
       "  '재구매믿고 주문하는 가성비 갑!!',\n",
       "  '한달사용기재구매늘 빠르고 도착후 사진도 보내주시고 좋아욥',\n",
       "  '재구매급하게 당일 저녁 결혼식때문에 주문했는데 시간맞춰서 잘 도착 했어요~ 너무 감사합니다~ 꽃상태도 좋고 예뻤어요~^^  조만간 또 주문계획있는데 그때 또 잘 부탁드립니다',\n",
       "  '친구 아들의 결혼식에 보내는 화환을 알아보려고 여러곳에 알아보다..\\n이곳이 가성비 좋은 화환을 보내는것을 보고,\\n이곳에서 화환을 주문했습니다.\\n\\n직접가서 화환을 보니 다른곳에서 온것보다 더 풍성하고 만족스럽네요..\\n다음에도 또 주문할게요...\\n\\n감사합니다...',\n",
       "  '잘 도착했습니다. 고생하세요',\n",
       "  '재구매사무실에서 사용하는데 빠른 배송이라 잘 시키고 있어요.',\n",
       "  '재구매받은사람이좋아해요~',\n",
       "  '재구매받은사람이좋아해요~',\n",
       "  '재구매받은사람이좋아해요~',\n",
       "  '재구매회사에서 늘 이용해요.\\n급할땐 전화로 주문가능해서 좋아요',\n",
       "  '재구매빠른배송 만족입니다. 만족',\n",
       "  '재구매친구가 개업했다고해서 축하화환을 배달했습니다.문의할때 어찌나 죄송스러웠던지ㅠㅠ계속되는 질문에도 꼼꼼하고 친절하게 답변해주셔서 감사했습니다.친구가 다른업체들과는 다르게 화환 퀄리티 부분에서도 엄청 좋다면서 마음에 들어하더라구요~^^다음번에도 재주문 하러 오겠습니다!',\n",
       "  '재구매이번에 아는 지인이 개인 카페를 오픈했다고 해서 화 하나 보내드렸어요!! 몇 년 동안 준비해서 오픈했는데 좋은 결과가 있기 바라면서 보냈는데 너무 마음에 들어 하시고 이쁘다고 하시네요~ 여기가 화환은 최곤듯합니낭',\n",
       "  '친한동생이 결혼한대서 화환을 보냈어요~\\n거리가 너무 먼데다가 코로나가 또 극심해져서 아이데리고 가지는 못하겠더라고요. \\n시간 맞춰서 잘 도착했다고 문자로 보내주셔서 좋았어요.\\n동생도 화환 받고 감사인사 왔더라고요~',\n",
       "  '아주 좋았어요~ 화환은 무조건 여기서만 해요',\n",
       "  '재구매빠른배송 저렴한가격 최고예요',\n",
       "  '재구매잘 받았습니다.. 감사합니다..',\n",
       "  '정말 급하게 주문 했는데 이렇게 올 수 있나 싶었는데 4시간전에 주문했는데 시간 잘 맞춰 왔어요 가격도 좋고 정말 로켓총알 배송이네요 빨라도 퀄리티는 아주 좋아요 꽃 싱싱하고 너무 이쁩니다 !',\n",
       "  '재구매항상 잘 애용합니다',\n",
       "  '빠른 배송에 화환도 너무 이쁘고 좋네요.\\n무엇보다 좋은건 착한 가격이네요',\n",
       "  '한달사용기매번 여기서 시킵니다 가격도 저렴하고 배송도 빨라요',\n",
       "  '재구매항상 주문하는곳입니다 도착시 사진도 꼭 보내주시고 책임감있게 잘해주시는것같아요',\n",
       "  '재구매좋은 화환 보내주셔서 감사요 싱싱해서 좋습니다\\n빠른배송도 감사해요',\n",
       "  '재구매매번 이용해요 사진을 못찍었네요ㅜ 감사합니당',\n",
       "  '합리적인 가격에 문자로 알려주시고 서비스도 좋았어요',\n",
       "  '재구매드디어…일년을 미루던 절친 결혼식~ 그래서 친구들이랑 너무 축하한다며 화환도 하나 보냈어요~ 일찍부터 식장에 가있었는데 화환도 일찍잘 도착했어요~',\n",
       "  '재구매꾸준히 이용하고있습니다 감사합니다',\n",
       "  '전날 부랴부랴 주문했는데 주문한대로 잘배송되었구 사진도 보내줘서 확인도되고 좋았습니다~꽃도 비어보이지않고 이쁘네요~',\n",
       "  '재구매빠르고 정확한 배송에 만족',\n",
       "  '재구매배송빠르고 넘좋아요 또구매합니다',\n",
       "  '재구매좋은제품으로 대응해주셔서 감사합니다~',\n",
       "  '재구매배송빠르고제품도좋아요',\n",
       "  '재구매친구 가게 1주년이라서 힘든시기에 잘 견뎌내서 선물로 화환하나 보내주었네용~\\n사장님 믿고 보냈는뎅 ㅎㅎ 역시 시간도 잘맞춰 주시고 감사했습니당!',\n",
       "  '재구매매번 여기서 주문해요. 현장 도착 사진 보내주셔서 감사합니지.',\n",
       "  '재구매개업식에 보냈어요~ 직접 가보면 더 좋았을텐데 거리가 좀 있어서 못가고 화환으로 대신했어요! 너무 고맙다고 연락왔네여!!^^',\n",
       "  '한달사용기재구매빠른배송감사드립니다',\n",
       "  '한달사용기재구매품질에서 아주 만족합니다',\n",
       "  '재구매배송빠르고 저렴하게 잘 샀습니다.',\n",
       "  '재구매자주구매해요\\n항상만족합니다.\\n빠르게배송해주셔서감사해요',\n",
       "  '재구매굳!!!!! 화환.',\n",
       "  '한달사용기재구매빠른배송 감사합니다',\n",
       "  '좋은 제품보내주셔서 감사합니다.',\n",
       "  '가격대비 꽃이 정말 마음에 들어요. 예약시간도 정확히 맞춰주시고, 오늘의 꽃으로 고르길 잘한거같아요. 선물받은사람도, 선물한사람도 모두 만족 대만족입니다!^^',\n",
       "  '재구매항상 빠르고 좋습니다. 굳',\n",
       "  '급하게 축하 화환 보낼일이 생겼는데 처음이라 아는 곳도 없어서 꽃집찾기도 힘들고 인터넷으로 주문해 봤는데 대만족입니다 굳이 여기저기 꽃집 찾으로 가지 않아도 되고 화면 처럼 잘해주셨어요 감사합니다',\n",
       "  '재구매화환 배달 인터넷으로 주문하니 배송도 빠르고 좋네욤!\\n사장님께 이것저것 여쭤보고 주문했는데 친절하게 대답도 잘해주시고 ㅎㅎ 넘 좋았답니다!!',\n",
       "  '재구매자주 주문합니다 매번 만족합니다',\n",
       "  '재구매빠르고 정확해요 감사합니다',\n",
       "  '재구매애경사에 항상 35플라워에서 주문한답니다.',\n",
       "  '재구매배달완료사진도 전송해주고 꼼꼼하고 좋아요',\n",
       "  '한달사용기재구매항상 애용하는 곳입니다.',\n",
       "  '한달사용기재구매항상 애용하는 곳입니다.',\n",
       "  '재구매빠른 배송 감사합니다',\n",
       "  '완전 대만족 입니당!!!',\n",
       "  '재구매배송도 빠르고 물건도 좋아요',\n",
       "  '매번 화환 보낼때 여기서 하는데 너무 만족이에요 !',\n",
       "  '배송잘되고 사진 남겨주고 좋아요',\n",
       "  '재구매매번 잘 이용하고 있습니다.~~',\n",
       "  '재구매오늘 일요일인데도 잘 처리해 주셔서 정말 감사드려요\\n일요일에 급하게 보내게 되어서 않되면 어쩌나 했는데 감사해요^^',\n",
       "  '결혼식에 보내는건데 가지 않고 화환만 보내는 거라 상태가 좀 신경 쓰였는데 사진 받아보니 엄청 꼼꼼하게 만들어서 잘 보내주셨더라구요 배송 시간도 잘 지켜 주셔서 걱정 덜었어요',\n",
       "  '저렴하게 구매했어요..',\n",
       "  '재구매화환은 매번 여기서 주문을 하는 것 같습니다\\n배송도 너무 잘해주시고 꽃도 싱싱한 것들로 꽂아주셔서 좋네욥!!\\n다음에 또 주문할게욥!',\n",
       "  '재구매잘구매했습니다. ㅎㅎ 사진도 보내주십니다',\n",
       "  '재구매감사합니다 잘받았습니다',\n",
       "  '빠르고 정확하게 배송해주셔서 좋았어요.\\n친구에게 축하해줄일이 있어서 보냈는데, 친구가 넘 좋아하네요 .\\n계속 잘됐으면 좋겠어요. 친구가 행복해하는 모습 보니 넘 좋네요 .감사해요~!',\n",
       "  '재구매개업선물로 이만한게 없죠, 가격도 괜찮고 \\n시간도 딱 맞춰서 오셨어요 ! 추운데도 싱싱한 꽃들덕에 \\n가게가 화사하게 느껴졌어요 감사합니다',\n",
       "  '재구매화환 시간맞춰 잘 배송해주셔서 감사합니다.\\n꽃도 촘촘하고 싱싱해서 완전 맘에 드네요~ㅎㅎ\\n강추합니닷!!',\n",
       "  '재구매정확해서 자주이용합니다',\n",
       "  '재구매친구가 결혼하는 상황에서 빈손으로 가기는 그래서\\n축하화환 하나 보냈네요 결혼식시간이 애매해서\\n걱정했는데, 제 시간에 맞게 도착해서 좋았습니다 ^^*',\n",
       "  '재구매멀어서 직접 가보지는 못할것 같아서 화환으로 대신했어요 \\n대박났으면 좋겠다는 마음으로 보냈는데 다행이 이번에도\\n화환을 아주 실하게 좋은걸로 보내주셨네요 \\n부실하면 안 보내느만 못한데 여기는 아주 상태 좋아요',\n",
       "  '재구매축하할일이 있어서 화환 보냈어요~ 저도 갔는데 저보다 먼저 잘 도착해있더라구요~ 화환도 멋지고 좋았습니다~',\n",
       "  '재구매역시  꽃 보내줄때에는 확실히 티나는거 보내줘야 해요^^ 아주 확 티나서 딱 좋더라구요 감사합니다!',\n",
       "  '재구매빠른 배송 감사합니다',\n",
       "  '한달사용기배송도 빠르고 배송하고 사진까지 인증샷 보내주셔서 너무 만족스럽습니덩',\n",
       "  '재구매배송 빠르고 좋아요 ..',\n",
       "  '개업식에 보냈어요 꽃도 풍성하고 시든거 없었고 리본도  예쁘게 잘해서 보내주셨네요.  기사님도 친절하시고  착한 가격에 구매하게 되서 부담도 덜게 되고 너무 좋았어요',\n",
       "  '재구매거래처 이전 재오픈으로 축하할겸 보냈어요. 원하는 시간에 맞춰서 배송해주셔서 감사합니다^^;; 요청시간보다 빠르게 도착하면 난감할때도 있어 무조건 빠른게 좋은것도 아니더라구요. 늘 일처리 잘해주셔서 만족스러워요 :)',\n",
       "  '재구매항상 애용하고 있습니다.',\n",
       "  '친구가 개업하는데 멀어서 가보기도 힘들고 화환만 보냈어요 배송하신 다음 사진도 보내주시고 형 친절하시네요 꽃도 화사하고 이쁜 거 같더라구요.  또 이용하러 올게요',\n",
       "  '급하게 주문하느라 알아보지도 못하고 주문했는데\\n실물보니 마음에 쏙 드네요\\n화환 주문할 일이 자주 있는데 조만간 또 오겠습니다',\n",
       "  '재구매얼마나 신중하게 골랐는지 모르겠네요\\n그래도 잘 선택 했어요 감사합니다 마음에 들어하더군요^^',\n",
       "  '재구매얼마나 좋아하는 지 모르겠네요 보면서 저도 너무 좋았습니다 정말로 좋은시간이었어요^^',\n",
       "  '재구매쌀화환만 받는다고하여 보냈는데 쌀환환도 괜찮네요~',\n",
       "  '받는사람이 만족해하네요',\n",
       "  '받는사람이 만족해하네요',\n",
       "  '지인분 결혼식에 보냈어요 축하선물은 역시 환이 최고인 듯해요.  엄청 풍성하고 이쁘게 해서 보내주셔서 너무 감사합니다 정성이 가득했네요.   또 주문하러 올게요',\n",
       "  '친구네   가게 개업식에 보냈어요 시간도 잘 맞춰 주시고  화환에도 정성이 가득한 게 눈에 보이네요 싱싱한 꽃들이 화사했습니다.   꽃 선물 할일 생기면 또 들릴게요',\n",
       "  '재구매여기는 항상 만족스럽네요 \\n바빠서 시중에서 구매할 시간이 안되서 온라인으로 \\n한번 주문해봤었는데 너무 괜찮더라구요 \\n이번에 또 이용해봤는데 처음이랑 똑같이 좋네요 \\n앞으로도 믿고 이용할려구요',\n",
       "  '재구매화환 보내야하지하고 생각만하고 있다가 까먹어서 급하게 거래처에 보내면서 사장님께 연락드렸는데 넘 감사하게도 빠른 배송해주셨네요!',\n",
       "  '재구매빠르고 정확한 배송',\n",
       "  '재구매궁금한거 있어서 전화드렸는데 상담사님 엄청 친절하시네요 \\n제가 잘못 적은게 있어서 급하게 수정이 필요해서 \\n전화드렸는데 귀찮아하는 기색 하나없이 친절하게\\n고쳐주셨어요 ㅎㅎ\\n여러모로 참 좋아용!!~~',\n",
       "  '한달사용기재구매요즘은 추운겨울에도 예식장 화환을 보냅니다',\n",
       "  '한달사용기재구매빠른배송 감사합니다.. 자주 이용할게요',\n",
       "  '재구매전에 너무 잘해주셔서 단골되었습니다\\n개업해서 대박나라고 \\n축하하는 마음 한가득 담아 화환 쐈어요 =3 \\n\\n꽃 화려하고 예뻐요 샤샤샷',\n",
       "  '휴일이라 너무 늦을까 싶었는데, 처음 말씀하신 것보다 시간이 잘 맞게 도착해서 감사했습니다. 응대도 감사했고, 문자로도 설명주시고....여러모로 감사했습니다.',\n",
       "  '실물을 못봤지만 이쁘겠죠',\n",
       "  '재구매감사합니다 잘받았습니다',\n",
       "  '한달사용기만족합니다 좋아요 좋아',\n",
       "  '한달사용기재구매만족합니다 좋아요 좋아',\n",
       "  '한달사용기재구매좋아요 잘 사용하겠습니다.',\n",
       "  '재구매거래처에 보내는거라 신경쓰였는데..\\n시간맞춰 잘 보내주셔서 감사합니다.\\n다음에도 또 구매하러 올께요.',\n",
       "  '좋긴한데 배송해주시는분이 집 앞까지 해주신 게 아니라 나오라 하신게 기분이 조금 그랬었네요',\n",
       "  '재구매개업하는 친구가 있어서 주문을 했습니다~\\n믿고 구매하는데 친구가 화환 받아보더니 너무 좋아해서 기분이 좋습니다~\\n사장님도 너무 친절하십니다~',\n",
       "  '재구매이시국에 조금 걱정스럽지만 동생이 개업했어요.\\n축하화환보냈는데 잘챙겨 보내주셔서 감사합니다.',\n",
       "  '재구매풍성하고 예뻐요 ㅎㅎㅎ',\n",
       "  '콘서트 2일 전 미리 주문했는데, 시간에 맞춰 잘 왔고 고객이 만족했습니다.',\n",
       "  '재구매고모가 개업을 하셔서 보내드렸는데 너무 맘에든다며 좋아하시네요!감사합니다',\n",
       "  '재구매여기서만 구매해요 빠르고 주소잘못기재했는데 핀절하게 연락오시고 감사합니다',\n",
       "  '재구매화환 꽃도 싱싱해보이고 좋아요.\\n급히 주문했는데도 일찍 보내주셔서 대만족!!\\n친절하셔서 자꾸 찾게되네용ㅎㅎ',\n",
       "  '재구매배송도 빠르고 현장 사진 보내주셔서 감사합니다.',\n",
       "  '재구매특가라 저렴해서 좋네용 ~~\\n풍성하게 잘 해주셔서 좋구, 사장님도 친절하셨습니당~~ \\n다음번에 또 구매하러 여기로 올게용~~',\n",
       "  '재구매어제까지 기억해놓고 생일인거 당일 아침에 아는척 못하고 급하게 출근하느라 깜빡해서 아침에 부랴 급히 배송 부탁드렸는데 오전 중에 잘 도착했네요. 와이프가 너무 좋아해요.',\n",
       "  '한달사용기재구매사무실에서 사용하는데 빠르고 저렴하고 자주 이용해요',\n",
       "  '재구매전에 한번 이용해보고 너무 마음에 들어서 또 \\n시킬일이 있어서 시킴.\\n가격대비 꽃 이쁘구 색상조합도 이쁩니다.\\n좋은선물 했어요~감사합니다.\\n받은분도 아주 좋아하셨어요~',\n",
       "  '재구매매번 이용해요 감사합니다 ^^',\n",
       "  '이모생신때 보내드렸어요ㅋㅋ환갑은 아직 아니라ㅋㅋ이벤트성으로 보냈는데 좋아하시네요ㅋㅋ',\n",
       "  '재구매급하게 주문했음에도 불구하고 빠르게 대처하여 잘 배송되었어요 엄청 빨리 신속정확하게 배송해주셨네요 여러모로 데코며 신선함이 남다르고 사장님 서비스 베리굳이네요 굳입니다 ㅎㅎ',\n",
       "  '업체에서 보내주신 사진 첨부합니다.\\n사진을 위에서 찍어서 그럴 수도 있겠지만, 사진상으로는 기대보다 좀 작았어요.\\n그리고 오전 11시에 배송 요청드렸는데 오전 9시 25분에 배송완료 문자가 왔더라구요^^;\\n그래도 이 가격에 이 정도면 나쁘지 않다 생각해요.',\n",
       "  '재구매회사에서 늘 이용해요',\n",
       "  '3단 화환 완전 이쁨ㅋ\\n받고나서 어찌나 놀랐는지 몰라요\\n제가 깜빡하고 행사를 까먹어서 급하게 주문 넣었거든요\\n친절하게 상담도 해주시고 주문 하는데 힘들지 않았습니다~',\n",
       "  '아주 좋고 너무 만족스럽습니다',\n",
       "  '처음 주문이라 걱정했는데\\n생각보다 나무가 더 크고 예쁘네요',\n",
       "  '재구매항상 주문하는곳 친절하고 좋습니다',\n",
       "  '빠르고, 좋습니다.',\n",
       "  '빠른 총알배송 감사합니다',\n",
       "  '정확하게 도착했고 꼼꼼하게 신경 써주셔서 좋았습니다.',\n",
       "  '재구매친절한 상담도 감사하고 빠른 배송도 정말 만족스러워요~~ \\n풍성한 화환이 맘에 들어서 항상 이곳에서 주문하는데 늘 한결 같아서 좋아요^^',\n",
       "  '예전 직장 동료 결혼식 때문에\\n화환 주문 넣어 봤습니다~ 꼭 참석 하고 싶었는데\\n부득불 집에 행사가 겹처서 못 가게 됐어요~\\n꽃도 이쁘게 잘 꽂아 주시고 감사합니다~',\n",
       "  '재구매딴데보다 저렴저렴 퀄도 좋아 후기남기네요!! \\n시간, 장소 잘 맞게 지켜주셨고, 총알 배송이라 급했는데도 잘 도착했어요!!',\n",
       "  '재구매항상 만족입니다 번창하세요',\n",
       "  '재구매배송빠르고 상품도 만족스러워요',\n",
       "  '재구매감사합니다 깔끔하게 잘 보내주셔서 제가 너무 좋았습니다\\n마음이 놓이니까 너무 좋았어요!^^',\n",
       "  '재구매재구매했습니다. 계속 구매할게요.',\n",
       "  '재구매제품 배송 모두만족합니다!',\n",
       "  '재구매화환 시간맞춰 잘 배송해주셔서 감사합니다 ^^ \\n결혼식 못가봐서 화환 보냈는데 \\n친구가 넘나리 좋아하네요 ㅋㅋ',\n",
       "  '재구매꾸준히 이용하고 있어요. 다른곳보다 일처리도 잘해주시고 화환도 합리적인 가격이라 만족해요. 한결같이 이슈없이 처리 잘해주십니다. 적극 추천해요.',\n",
       "  '재구매오프라인에선 이정도 화환이면 5만원은 최소 줘야하는데 가격대비 화환 상태도 좋고 친절하셔서 필요시마다 이용하고 있어요. 감사합니다^^',\n",
       "  '재구매빠른 배송 감사 합니다',\n",
       "  '예전에 다른 가게에서 주문 해봤는데요.\\n그때는 특가라고 하면 완전 허접하게 와서\\n결국 2개를 시키든지 다시 시키든지 했었거든요.\\n와 진짜 가성비 짱이네요.',\n",
       "  '재구매시간이 촉박했는데 빠르게 배달해주셨어요',\n",
       "  '재구매빠르게 배송되었어요 만족합니다',\n",
       "  '재구매제품배송 모두 만족합니다!',\n",
       "  '재구매제품배송 모두 만족합니다!',\n",
       "  '재구매제품배송 모두 만족합니다!',\n",
       "  '재구매애경사에 항상 이곳에서 주문하고 있어요',\n",
       "  '재구매빠른배송 감사합니다~',\n",
       "  '재구매항상 잘 이용하고있습니다.',\n",
       "  '재구매경조사에 늘 주문하는제품',\n",
       "  '재구매거래처 직원이 결혼하다고해서 코로나 시국이라 화환으로 보내줬는데 시간약속 장소도  정확하게 배달해주셔서 감사합니다',\n",
       "  '재구매너무 만족해요 급하게 주문했는데 빠르게 처리해 주셔서 감사합니다\\n기본화환인데도 빈곳 없이 꽉차있어서 좋아요!',\n",
       "  '재구매결혼식 일정에 출장이 잡혀있어 부득이 화환으로 대신했는데,\\n리본 문구 오타가 나서 수정한다고 전화드렸는데 빠르게 잘 처리해주시고 당일배송인데 시간 맞춰주셔서 고맙습니다.',\n",
       "  '재구매배송도 빠르고 이뻐요ㅎ',\n",
       "  '재구매빠른 배송 감사합니다',\n",
       "  '재구매저렴하고 빠르고 만족합니다',\n",
       "  '재구매매번 물건전달후 사진찍어 보내주셨는데 \\n이번엔 상품전달전 작업시 사진 찍어보내주셔서 실망했어요.\\n담엔 장소전달후 사진 찍어주심 좋을것같아요.',\n",
       "  '재구매항상 빠른배송고맙습니다',\n",
       "  '재구매지정한 일자, 시간에 잘 배송되었습니다. 그래서 항상 이용하고 있습니다.',\n",
       "  '재구매바쁘기도 하고,, 요즘 날씨가 넘 추워 나가기도 싫더라고요 \\n어디서든 걍 편히 주문할 수 있어서 편해요 \\n알아서 잘 해주시니 대!만!족!!',\n",
       "  '빠른 배송 감사합니다',\n",
       "  '재구매감사합니다 감사합니다 좋은 제품 감사합니다 감사합니다',\n",
       "  '베송 빠르고 저렴하게 잘 샀어요',\n",
       "  '꽃도 풍성한 편이고 가성비가 진짜 좋네요~\\n다음에도 꼭 여기서 주문 넣어야겠어요^^\\n친절하게 상담도 잘 해주시고 만족입니다^^',\n",
       "  '재구매말도안되게빠른 로켓배송-!!',\n",
       "  '저렴하게. 잘 샀어요 배송도 빠르고 받는분이 아주 좋아했습니다!',\n",
       "  '재구매정확한 배송 좋아요',\n",
       "  '재구매엄청 이쁘네요! 이번에도 정말 이쁘게 잘 준비해줘서 대박 맘에들어요 새로 창업에 도전하는 친구도 크게 만족해해서 기분이 좋았어요 강추합니다!!',\n",
       "  '재구매배송빠르고 사진까지 보내주니 안심되요',\n",
       "  '재구매배송빠름 제품 좋음',\n",
       "  '재구매가격은 저렴한데도 풍성하게 잘 만들어 주셔서 감사합니다 \\n화환이 필요할 때면 항상 이곳을 이용하는데 변함 없이 좋은 퀄리티의 화환을 만들어 주시네요~',\n",
       "  '재구매기존에 주문했을때 예쁜 화환으로 보내주셔서 또 \\n주문했어요. 받으신분이 화환 너무 예쁘다고 좋아해주셔서\\n기분이 좋네요. 가격대비 좋았습니다.',\n",
       "  '한달사용기매번 주문하는 곳이에요! 좋습니다',\n",
       "  '재구매항상 알아서 척척 아주만족합니다',\n",
       "  '재구매빠른배송이 넘 좋습니다.',\n",
       "  '재구매잘 구매했습니다~!',\n",
       "  '재구매고등학교 동창 결혼에 화환을 동창들이랑 함께해서 보내게 되었는데 화환 깔끔하게 잘 만들어서 보내주셨더라구요\\n꽃도 싱싱하구 감사했어요',\n",
       "  '재구매잘 받았습니다~~ \\n기본화환인데도 만족해요! \\n풍성하게 잘해서 보내주시기도 했고 정확한 시간에 배송도 감사해요~',\n",
       "  '배송빠르고 인증샷까지 좋습니당',\n",
       "  '재구매쿠팡보다빠른 로켓배송-!!!',\n",
       "  '재구매꽃도 항상 풍성하고 배송도 정확하고 항상 배송완료되는 사진을보면 정말 잘 구매했는다는 생각이 항상드네요 감사합니다',\n",
       "  '재구매사촌동생이 결혼식에 참석을 못해서 화환으로 보내줬는데  사진으로 봤는데 너무나 이쁘네요 감사합니다',\n",
       "  '한달사용기빠르게 배송받았습니다',\n",
       "  '엄마가 엄~청 좋아하시네요\\n번창하세요',\n",
       "  '배송후 문자로 사진도 보내주시고 가성비 좋고 만족스럽네요',\n",
       "  '재구매3단으로 시켰는데도 진짜 화려하고 좋습니다\\n항상 느끼지만 이집은 가성비 끝판왕인듯 싶네요 \\n가격이 진짜 착해요 \\n그렇다고 화환이 부실하지도 않고 별5점 드립니다',\n",
       "  '특가라고 해서 꽃은 허접하게 싸서 보내주시면 어쩌나\\n했는데 완전 실하고 괜찮네요~ 꽃도 풍성하고\\n만족입니다~',\n",
       "  '재구매매번 친절할 업무처리 감사드립니다',\n",
       "  '재구매항상 만족합니다~~~',\n",
       "  '잘 받았어요 부모님꺼 제꺼 두개 했는데\\n모양을 살짝 다르게 해주시는 센스!!!',\n",
       "  '재구매항상 주문하고 정확하고 저렴해서 너무 좋아요',\n",
       "  '친구 결혼식때 화환처음 보내보는데 친구도  감동받고 원하는 시각에 알아서 잘 가져다 주셔서 너무 감사합니다:) 다음에 다른친구 결혼하면 또 주문 할께요❣️',\n",
       "  '재구매사촌동생 결혼식에 못갔는데 조카가 돌잔치를 하는데 ㅠㅠ 평일에 코로나라서 참석이 어려워서 화환으로 마음을 전하게 되었네엽 ㅠㅠ\\n꽃 싱싱하게 잘 배달해주셔서 감사해엽',\n",
       "  '한달사용기빠른배송 감사합니다...',\n",
       "  '재구매정말 항상 꽃이 너무나 신선하고 가성비가 항상좋다고느껴집니다  색상조합도 센스도 있고  가격도 착하고 굿',\n",
       "  '배송도 정확히 잘됐고 이뻤어요\\n그리고 부모님꺼 제꺼 두개 했는데 완전 똑같게 안해주셔서 너무 만족했어요',\n",
       "  '재구매항상 좋은 제품, 빠른 배송 감사합니다. 항상 이용하는 곳입니다. ^^',\n",
       "  '좋습니다. 다만 주문한 문구 일부가 빠졌어요 ㅠ',\n",
       "  '어떤 일이든 꽃을 보내주면 더 잘 풀리는 것 같네요\\n잘 보내주셔서 감사합니다\\n다음에 주문할떄 참고할게요',\n",
       "  '이시국에 샵 개업하는 친구가 있어서 보냈어요.\\n화환 싫다고하더니 보내주니 참 좋아라하네요ㅎㅎ\\n칼배송 감사합니다',\n",
       "  '한달사용기지인 오픈 축하화한 좋아요',\n",
       "  '한달사용기재구매배송빠르고 좋아요.',\n",
       "  '재구매급하게 주문했는데 빠르게 잘 받았습니다.',\n",
       "  '재구매개업한 지인 ^^ \\n축하하는 마음 듬뿍 담아서 화환보냈습니다 ㅋ\\n특가라 다른곳보다 가격 저렴해요 \\n꽃 풍성해요',\n",
       "  '친절하고 정화한 배송 감사드립니다',\n",
       "  '배송도 빠르고 정확하게 잘배송되었습니다',\n",
       "  '착한가격에 화환 아주 잘 샀어요!\\n기존 거래처에서 사던거 반값정도인데 최고네요.\\n배송도 정확하고 좋아요~',\n",
       "  '재구매근조화환 축하화환 꽃배달 개업화분 결혼식화환 장례식조화 장례 결혼 꽃다발 생일꽃바구니배달',\n",
       "  '한달사용기재구매항상만족하고 좋아요. 빠르고',\n",
       "  '지인추천으로 이용해써요 가격도 적당하고 화환\\n퀄리티도 너무 갠찬코해서ㅈ가성비 넘 만족했어요\\n담에 또 이용하께여~판매자님 친절하시구~~^^',\n",
       "  '재구매배송이 빠르네요. 만족합니다',\n",
       "  '재구매배송이 빠르네요. 만족합니다',\n",
       "  '지인추천으로 이용해는데  퀄리티도 갠찬코 가성비\\n넘 만족스럽구 잘 이용했네요 판매자님 친절하시구요\\n화환두 풍성하고 좋더라구요!',\n",
       "  '아는언니 결혼해서 보내줬어요ㅎ 여기 구성이 예쁘고 가성비좋아서 구입했는데 역시나 만족입니다 싱싱하고 잘보내졌네욯',\n",
       "  '재구매배송정확하고 빨라서 좋습니다',\n",
       "  '어떤거 보내줄까 하다가 시간이 너무 가서 급하게 주문 햇어요\\n약간 고민 되긴 했지만 그래도 잘 고른것 같아서 안심입니다',\n",
       "  '재구매배송정확하고 좋아요 항상 이용하고 있어요',\n",
       "  '재구매제품배송모두 만족합니다!',\n",
       "  '급하게 주문했는데 응대 잘해주시고 제시간에 잘보내\\n주셔서 완전좋았어요 ~ 너무 퀄좋은걸로 !! 역시 믿고 \\n재주문했는데 만족스러워요',\n",
       "  '빠르고 정확한 배송 감사합니다',\n",
       "  '전달완료 사진 보내준건 좋았지만 보내는 사람없이 축하메세지만 가서 전화해서 항의함..먼저 전화하지 않았으면 전화도 안왔겠죠.  담날에 리본교체하는걸로 수습됨.',\n",
       "  '조카 결혼식에 가족이름으로 보냈네요ㅎ 조카결혼 바랬는데 잘되서 특별히 보냈어요 아주이쁘고 싱싱한걸로 잘보내주셔서 만족합니다ㅎ',\n",
       "  '재구매항상 애용하고있습니다~~',\n",
       "  '재구매필요할때마다 35플라워 주문하는데 만족해요',\n",
       "  '재구매배송도 빠르고 물건도 좋아요',\n",
       "  '정확한 배송 감사합니다~',\n",
       "  '개업 축하 선물로 보냈는데 정확하게 시간 잘 지켜주고 \\n가성비 좋게 이용했어요  풍성하니 고급지고 만족합니다',\n",
       "  '한달사용기배송빠르고 좋습니다.',\n",
       "  '한달사용기재구매가격 저렴하고 시간 정확해서 좋아요. 여기서만 주문하게 되네요.',\n",
       "  '어머님께 서프라이즈로 보내드렸어요~~^^ 너무 좋아하시네요 감사합니다',\n",
       "  '재구매빠른배송 만족합니다.',\n",
       "  '재구매예쁜화환 잘 받아 놓구선 후기가 좀 늦었네요^^\\n시간 맞춰 잘 배송되었고 꽃도 신선하고 예뻤어요~',\n",
       "  '항상 빠르고 정확한배송. 사진피드 감사해요.',\n",
       "  '빠른배송너무감사합니디 ㅎㅎ',\n",
       "  '재구매친한 형님 결혼식에 보내드렸어요 코로나라 가지못해서 온라인 배달 했는데 요청드린 시간에 잘보내주셨네요 좋습니다ㅎ',\n",
       "  '재구매배송도 빠르고 저렴하지만 고급스러워요~항상 애용합니다~^^',\n",
       "  '재구매부모님께서 급히 부탁을 하셨어요 결혼식이 있는데 화환을 하나 해야하신다구~ 그래서 제가 대신 배달신청을 했습니다~ 늦게 주문을 해서 직접 전화해서 여쭤보고 주문했는데 너무 친절하시더라구요!!! 화환도 시간맞춰서 잘 도착했다고해요',\n",
       "  '한달사용기빨랐고 좋았습니다!!',\n",
       "  '올바른배송 감사합니다.',\n",
       "  '밤 늦게 주문하긴 했지만 다음날 오후 1시 배송은 좀 심하네요. 게다가 배송이 되면 사진이 보통 오기 마련인데, 제가 확인차 연락 드리니 그제서야 사진을 보내줍니다.',\n",
       "  '재구매배송빠르고 제품좋아요',\n",
       "  '제시간에 잘보내주시고 응대도 친절하셔서 기분좋았구\\n가성비 화환도 너무 좋더라구요 잘 이용 했답니당 만족용',\n",
       "  '재구매대박대박이자나요~\\n여기 앞으로 단골 되야겠어요\\n퀄리티 정말 뒤쳐지지 않구요\\n친절상담스',\n",
       "  '재구매항상 이용합니다~~! 도착해서 사진까지 보내주셔서 너무 좋아요',\n",
       "  '재구매물건도 좋고 배송도 빨라요',\n",
       "  '재구매만족합니다 계속 이용중입니다',\n",
       "  '빠른 배송 감사합니다....',\n",
       "  '재구매잘받았습니다\\n 결혼식에 보냈는데 \\n도착하고 나니 뿌듯 ㅎㅎ\\n퀄이 넘 좋아요',\n",
       "  '개업하는 동생한테 보냈어요. 꽃 싱싱하고 문구도 세심하게 잘 적어주셨네요. 넉넉하게 전달해도 된다고 했는데 일찍 배송 되었네요. 감사합니다',\n",
       "  '재구매항상 빠르고 정확히 배송해주셔서 감사합니다',\n",
       "  '재구매자주이용하는데 항상 최곱니다',\n",
       "  '자주 이용하는곳 편하네요',\n",
       "  '곷다발이랑 바구니랑 어떤걸 보낼지 한참 고민  햇네요 그래도 잘 골랐다는 생각이 드네요 마음에 들었어요 감사ㅐ요 좋은걸 보내주셨네요^^',\n",
       "  '재구매항상 여기에서만 구매하고있어요!빠른대응과 신속한 배송해주셔서 감사합니다!',\n",
       "  '잘 받았습니다! 감사합니다!^^\\n다만 리본 글이 정렬이 맞지 않는 부분이 좀 아쉬웠네요..',\n",
       "  '히히 정말 굿 퀄리티자나여?\\n이건 정말 비교도 안되영!!\\n사장님도 친절스~~많이파세요',\n",
       "  '빠른 처리 감사합니다',\n",
       "  '배송이 다른 날짜에되었네요',\n",
       "  '재구매항상 빠르게 배송해주셔서 매번 이용하고 있어요~~!',\n",
       "  '재구매잘 도착한거 확인했습니다. 감사합니다.',\n",
       "  '재구매좋은 가격에 꽃도 좋고 사장님께서 신경을 많이 써주셔서 넘 감사했어요!!\\n다음에도 또 주문하겠습니다!',\n",
       "  '재구매어제 결혼식이 12시 였는데, 11시경 배송 문자와 사진 잘 받았습니다. 항상 축하 & 근조화환 필요 시 이용하고 있는데 만족합니다.',\n",
       "  '재구매아주좋아요 여기만 이용합니다',\n",
       "  '꽃바구니 당일 급하게 주문했는데\\n시간에 맞게 잘 도착했어요\\n받는분도 아주 만족해하십니다\\n좀 아쉬운게 꽃바구니 배달전에\\n사진을 미리볼수 있었으면해요\\n오늘 배달된 꽃바구니는 \\n아주 만족스러웠습니다^^',\n",
       "  '재구매항상 믿고 이용하는 곳입니다!! 정확하고 빠른배송 감사합니다',\n",
       "  '재구매경조사때 자주 이용하는곳인데 언제나 스피드 배송과 배송완료 사진을 칼같이 보내줘소 좋다',\n",
       "  '재구매빠른배송이굿입니다..',\n",
       "  '우와~ 부랴부랴 주문했는데\\n정말 빨리와서 한번 놀래구용~\\n너무 이쁘게 해주셔서 두번 놀랬어요',\n",
       "  '축하화환 예쁘고 화려하네요. 타업체꺼는 6-7만원이나 줘야 이렇던데 저렴하게 가성비 있는 제품 잘 구매한듯 해요 뒷처리도 잘 해주셧어요!',\n",
       "  '장사 시작하는 친구가 생겨서 보냈어요 잘 되어야 할텐데 하는 기원을 담아 보냅니다 정말 잘되야할텐데요',\n",
       "  '재구매여러번 구매했는데 이번엔 리본에 다른 사람 이름붙여 가서 혼선이 있었네요. 잘 확인하시고 보내주세요. 젤중요한 보내는 사람 이름을 딴사람으로 보내니 ㅜㅜ 그동안 다른 아이디로 많이 주문했었는데 신뢰가 조금 깨지네요',\n",
       "  '빠른배송조아요~가격도젤싼듯',\n",
       "  '깨끗하고 싱싱해요. 꽃들도 풍성하니 전혀 걱정할 필요가 없었네요. 시간이 맞게 배달해주셔서 식전에 잘 보고 결혼식 볼 수 있었어요.',\n",
       "  '한달사용기항상 애용합니다. 근데 요즘 사진이 문자로 안오네요 ㅠㅠ',\n",
       "  '재구매배송도 빨리해주시고 화환도 예쁘고 싱싱한 꽃들로 풍성하게 꾸며주셔서 기분좋게 잘 받았습니다! 담에 필요할 일 있음 또 시킬께요!',\n",
       "  '빠른 배송 좋습니다  만족해요',\n",
       "  '재구매잘 받았습니다 이번엔 제대로 배송되었겠죠? 한번 잘못 배송되니 불안하네요. 사진은 잘 받았습니다만 본인에게 확인은 아직 못했네요',\n",
       "  '재구매오랜만에 연락 닿은 친구가 사업을 시작했다는 이야기 듣고.. 잘되었으면해서 화환 배달을 해주렀습니닷!\\n사장님께 시간 알려드렸는데 잘 맞춰주셨내욥!',\n",
       "  '재구매지인 결혼식에 보냈는데 너무 좋아합니다 꽃도 이쁜걸로 풍성하게 해주셨어요 꽃이 생각보다 오래가서 좋아요 다들 이쁘다고 좋아합니다 배달 시간도 늦지 않게 일찍 보내주셔서 감사합니다 강추',\n",
       "  '재구매친절하고 배송좋고 좋앙ᆢㄷ',\n",
       "  '재구매어려운시기라 걱정하면서 개업하는 친구가 있어서 축하해주기위해 화환을 보냈습니다. 정말 잘되기 위한마음으로 축하해줬네요. 화환도 일찍 잘 도착했고 큼지막하니 좋더라구요',\n",
       "  '재구매전 직장동료분께서 타 지역으로 가셨는데 아기가 돌이라해서 사무실분들이랑 같이 화환 하나 선물로 드렸는데 배송 잘해주셨어용!',\n",
       "  '재구매빨리 배송도서 좋아요',\n",
       "  '재구매항상 배송하는 곳이에요',\n",
       "  '시간 촉박했는데 시간 잘 맞춰서 잘 배달했네요 덕분에 잘 해결되였습니다.화환 너무 풍성하고 싱싱하네요 문구도 이쁘게 잘 적어줬네요 감사합니다',\n",
       "  '재구매오랜친구가 결혼을 해서 화환도 같이 보내줬어요. 시간도 상태도 좋게 와서 만족스러워요 많이 파세요~',\n",
       "  '정말 감사해요 얼마나 걱정 햇는지 모르겟어요 갈수 없어서 보낸건데 잘 보내주셔서 정말 감사합니다 정말 다행이었어요^^',\n",
       "  '재구매배송 너무 빠른거 아닌가유 ㅋㅋ\\n완전 좋아유~~\\n특급배송이네용',\n",
       "  '사진과 같이 화환 잘 받았어요',\n",
       "  '재구매꽃배달 할일이 자주 있는편이라 주문을 여러곳에 해봤는데 여기만한곳이 없는거같아요. 그래서 이번엔 화환보낼일이 있어서 화환보냈습니다~ 시간에 잘 맞춰 도착했어요!!',\n",
       "  '받는 분이 아주 좋아했어요',\n",
       "  '정말 너무 만족스럽습니다! 예식 전날 밤에 결제 했는데 아침 9시에 확인 전화 바로 주시고 예식 시작 하시간 전에 잘 가져다 주시고 저는 사정이 생겨서 참석을 못했는데 너무 뿌듯했네요^^ 다음번 경조사도 여기입니다!',\n",
       "  '빠르게 해결해 주셔서 감사합니다',\n",
       "  '한달사용기재구매항상 감사합니다.\\n좋은 가격으로 구매했네요.',\n",
       "  '가격 저렴하고 배송도 빠르네용',\n",
       "  '재구매시간전에미리배송해주시고,\\n감사합니다~~',\n",
       "  '배송 빠르고 이뻐요',\n",
       "  '튼튼하고 날짜도 딱 맞춰서 배송돼서 너무 좋았습니다.',\n",
       "  '이쁜 꽃 감사합니다 ^^',\n",
       "  '재구매결혼하는 친구가 있어서 친구들 모임에서 화환을 보내줬어여~ 지난번에 제가 이용했었는데 너무 예뻤어서 이번에도 35플라워 이용했구요^^ 화환보내주니 친구가 너무 좋아했습니다~',\n",
       "  '재구매친절한 안내 빠른 배송 늘 이용중입니다',\n",
       "  '재구매빠른배송항상 감사합니다',\n",
       "  '재구매총알배송과 예쁜화환 감사해요\\n믿고 이용합니다',\n",
       "  '사진과 같이 괜찮았어요',\n",
       "  '재구매잘 받았다고 들었고 이번에도 꽃이 좋아서 만족합니다~\\n저번에도 급하게 요청드렸던것같은데 이곳이 빨라서 이곳에서만 주문하게 되네요~\\n역시 배송 진짜 빠르시네요~',\n",
       "  '잘 도착 햇다는 연락을 받았어요 잘 보내져서 다행입니다 항상 꽃을 보내게 되면 기분ㅣ 좋아지네요 감사해요^^',\n",
       "  '이집꽃집은 처음주문해 보는데 만족합니다.서비스도 좋고 가격도 저렴하고 약속시간도 잘 지켜줘서 별 5개 드립니다',\n",
       "  '빠른배송감사드립니다\\n언제나 믿고 이용할수있는 제품',\n",
       "  '가게에 딱 맞는 문구를 주문한대로 제작해서 배달 받았어요. 빠른 처리 완전 좋네요! 직접 가서 주문하지 않아도 되고, 직업상 주문할 일이 많은데 자주오겠습니다',\n",
       "  '코시국이라 직접 찾아가지는 못했고 이렇게 꽃으로 마음 전해봤네요ㅎ\\n개업 축하용으로 구매해봤는데 좋네요ㅎ\\n다음에도 잘 부탁드립니다ㅎㅎ',\n",
       "  '재구매빠른배송 잘 받았습니다',\n",
       "  '한달사용기재사용하는건 알았지만  시든 꽃은  교체라도 해주셨으면얼마나 좋았을까요',\n",
       "  '재구매빠른배송과 사장님의 친절함에 감동했습니다\\n급하게 주문을 해야했음에도 안내를 잘해주셔서 감사했습니다',\n",
       "  '재구매항상 잘 이용하고 있습니다^^',\n",
       "  '빠른배송 감동이에요 ㅠㅠ',\n",
       "  '처음에 여기 알게된 것도 배송이 빠르단 후기보고 시켜봤는데 진짜 빨리해주셔서 좋았던 기억이 있어요. 개업하는 소식 늦게 전해준 지인에게 선물로 화환 시켜 보냈는데 이번에도 빨리 보내주셔서 감사합니다 :)',\n",
       "  '맘에 들어요~! 좋아요',\n",
       "  '예쁜화환감사합니다.🤗🤗🤗🤗👍👍👍👍',\n",
       "  '싸게 잘 샀어요 \\n다음에 또 이용할게요',\n",
       "  '재구매친구의 음식점 오픈인데 거리가 좀 있어서 직접 가보지는 못해서 화환으로 보내줬습니다. 화환 잘받았다고 고맙다고하네요^^',\n",
       "  '빠른 배송감사합니다.3단으로 주문했는데 가격도 저렴하고 화환 퀼리티도 좋고 넘 만족합니다 다음에 또 주문할게요',\n",
       "  '재구매빠르게 잘 도착했네툐',\n",
       "  '축하하러 가야 할 일이 있었는데 몸이 아파서 가보질 못했죠. 꽃다발 하려다가 화환으로 보냈는데 저만 화환 보냈다고 감사하다고 연락왔네요',\n",
       "  '재구매배송 잘 받았습니당 ㅎㅎ 시간도 잘 맞춰주시고 화환상태도 좋네요! 다른곳에서 온거보다 더 풍성해보이고 좋아요!',\n",
       "  '재구매친구가 가게 개업은해서 멀해줄까하자가 화한 하나 보냈는데  너무 마음에들어 하더라구요~이전에도 잘보내주셔서 또왔습니다! 다음달에 결혼식때도 보낼예정인데 그때도 잘부탁드립니다!!',\n",
       "  '재구매배송 빠르고 너무 좋습니다.  감사합니다.',\n",
       "  '한달사용기재구매항상 여기서 시켜요',\n",
       "  '정말 아슬아슬하게 주문 햇떠라구요 그래도 잘 보내져서 다행이에요 감사합닏 정말 잘처리해 주셨어요^^',\n",
       "  '재구매빠른배송 만족합니다.',\n",
       "  '경사 또는 부고시 매번 이용하는데\\n만족도 100%입니다.\\n\\n처음엔 친구소개로 알게되어 일생기면\\n주문하고 톡으로도 알림오고\\n문자로도 사진 보내주셔서 정말 좋습니다.\\n\\n다음에도 또 주문할 의향 있습니다.',\n",
       "  '잘받았습니다 풍성하게 잘왔어ㅇ',\n",
       "  '재구매빠르게 잘 받았습니다.',\n",
       "  '빠른배송도 화환모양모두 마음에들어요.감사합니다.',\n",
       "  '빠른배송도 화환모양모두 마음에들어요.감사합니다.',\n",
       "  '재구매화환을 주문 해봤습니다.  급하게 주문 하느냐 시간안에 도착 하려나 걱정 했는데 잘 도착 했더라구요. 가격도 좋고 만족스러웠어요',\n",
       "  '재구매엄마가 급하게 대신좀 주문해달라고 해서 여기서 했는데 \\n너무 감사했네요 ㅎㅎ\\n화환이란게 너무 부실하면 안 보내니만 몬한데 여기는 \\n풍성하고 꽃도 싱싱해서 엄마가 체면 제대로 섰따고 하시네요 ㅎㅎ\\n시간 약속도 아주 철저해요~\\n믿고 주문하는 업체 좋아용~',\n",
       "  '항상 여기서 시켜서 이용하고있어요 굿',\n",
       "  '맘에 들어요~\\n너무 좋은데요\\n` 담에 또 주문할게요!!',\n",
       "  '재구매거래처 결혼식인데 화환을 보내야해서 주문했습니다. 여기저기 주문해봤었는데 여기서 주문했던게 가장 만족스러워서 재주문했네요. 이번에도 잘 해주셔서 감사합니다.',\n",
       "  '저렴한가격이지만 가성비가 좋은 화환이네요~\\n신선한 꽃을 제시간에 이렇게 빨리 배달받을 수 있다니 완전 굿이엇습니다',\n",
       "  '재구매항상 시간 잘 맞춰서 잘 배송해주세요\\n직원분들 항상 친절하시구요\\n앞으로도 화환은 무조건 여기로 할 예정입니다!',\n",
       "  '재구매배송도 빠르고 제품도 좋아요',\n",
       "  '재구매예전에 결혼식에 보냈던적이 있는데 직접 봤을때도 옆에 있던 화환보다 퀄리티 좋아보여서 만족했었어서 이번에도 주문했어요^^ 못봐도 믿고 주문했는데 빠른배송 해주셔서 감사합니다~',\n",
       "  '재구매매번이용해요 싸고 좋아요',\n",
       "  '재구매물건도 좋고 배송도 빨라요',\n",
       "  '빠르고 좋아요 ㅎㅋ',\n",
       "  '지정한 날짜에 맞춰 배송해주셨네요',\n",
       "  '진짜 꽃배달 서비스업체 너무 많아서 찾다가\\n알게 되서 시켜봤는데 만족스럽습니다.\\n근데 4시예약 했는데 3시에 왔네요^^;;\\n진짜 총알배송..나중에 꽃 필요하면 여기서 할게요!감사합니다',\n",
       "  '재구매잘 받았습니다.. 감사합니다..',\n",
       "  '화환은 처음 주문해봤는데 만족스럽습니다 ㅎㅎ',\n",
       "  '재구매늘 신속하고 정확해서 여기만 이용합니다',\n",
       "  '재구매편하게 잘 주문했어요 ! \\n회사일 관련해서 일생기면 추가로 주문할게요 ! \\n가격도 좋은것같고 배송이 빨라서 좋았어요 !',\n",
       "  '지역이 먼 친구가 결혼했어요.\\n코시국이라 직접 가지는 못했고 화환으로 마음 전달했습니다.\\n시간맞춰 잘 보내주셔서 감사해요',\n",
       "  '한달사용기재구매항상 주문하는 곳이에요',\n",
       "  '빠른처리 감사합니다',\n",
       "  '재구매친구가 식당개업을 크게 했는데 일반 나무보다는 화환이 더 좋을 것 같아 구매했어요. 리본도 요청대로 잘 써주시고 화환도 깨끗하고 풍성해서 만족해요!',\n",
       "  '재구매업체 사장님 따님 결혼식 으로 수문하였어요. 꽃이 풍성하니까  화환이고급스럽게 배송되어  맘에 들더요.. \\n빠른배송도 감사드립니다. 재구매하러 올께요.',\n",
       "  '한달사용기빠르고 정확한 배송에 감사드립니다',\n",
       "  '배송 빠르고 좋아요!',\n",
       "  '정말 빠르게 받았어요~배송 부탁받은건데 보내주신분이 만족하셨어요^^',\n",
       "  '한달사용기재구매원하는 시간에 원하는 문구로 배달해주셔서 매번 행사때마다 쓰고 있어요 만족합니다.',\n",
       "  '재구매어제 결혼식에 화환을 보냈는데 늦지않게 잘 갖다주셔서 좋았네요. 가격도 저렴한것 같아요.만족합니다',\n",
       "  '한달사용기저번에 시켰을땐 괜찮았는데 이번엔 진짜 너무 별로였어요 보내고도 민망했어요ㅠ',\n",
       "  '재구매빠른배송감사합니다.',\n",
       "  '정확한 배송 좋아요!~~',\n",
       "  '재구매너무 좋아요^^ 항상 잘 이용하고 있습ㄴㅣ다!!',\n",
       "  '재구매항상 이용하고 있습니다!\\n인증샷까지 최고!',\n",
       "  '재구매빠르고 정확한 배송감사합니다',\n",
       "  '빠른배송 감사합니다',\n",
       "  '재구매빠른배송 좋았어요..',\n",
       "  '재구매빠른배송 좋았어요..',\n",
       "  '재구매빠른배송 좋았어요..',\n",
       "  '재구매빠른배송 좋았어요..',\n",
       "  '재구매빠른배송 좋았어요..',\n",
       "  '재구매빠른배송 좋았어요..',\n",
       "  '재구매저렴한 가격인데도 싱싱한 꽃들로 가득 채워주셔서 너무 감사드려요 ~ 다음에도 여기를 이용해야겠어요^.^',\n",
       "  '재구매매번 종류별로 주문하고있슨데 항상 미리 확인하고 정확하게 배송해주셔서 감사합니다!',\n",
       "  '오늘 절친이 샵 오픈했어요.\\n친구들 계모임에서 총무담당이라 제가 주문했는데 잘받았다고해요. 칼배송 굿!!',\n",
       "  '재구매배송이 빠르네요. 만족합니다',\n",
       "  '재구매이번에도 필요한 시간에 맞춰 잘 배송해줘서 고맙습니다\\n꽃이 싱싱하고 좋아서 매번 만족하고 있습니다\\n다음에 또 주문할게요',\n",
       "  '재구매매번 편하게 잘 이용하고있습니다',\n",
       "  '토요일 친구가 개업하는데 일이 있어 아직 못갔어요.\\n미안한마음 화환에 담아 보냈는데 다행히 넘 좋아하네요~ㅎㅎ',\n",
       "  '중간에 급히 수정요청도 드렸는데 흔쾌히 수정해주셔서 감사해요.\\n자꾸 이것저것 귀찮게해드려는데 넘 친절하셔서 좋았어요~',\n",
       "  '한달사용기모두가 만족합니다.',\n",
       "  '잘 전달되었겠죠 급하게 주문했는데 친절하시고\\n감사합니다',\n",
       "  '재구매조기회 동생 결혼으로 화환 주문했어요.  빠른 배송 감사드리고 꽃이 싱싱한거 보니 너무 에쁘더라구요.  화환 꽃 풍성함도 맘에들어요 ㅋ',\n",
       "  '재구매항상  경조사때  이용하는 곳이에요.  주문하면  다시한번  확인 전화 주시고  배송도  안전하게 끌끔하게  배송해줌. 계속 이용할 마음 있음.',\n",
       "  '재구매제품 배송 모두만족합니다!',\n",
       "  '재구매신속 정확 항상 애용하는...',\n",
       "  '재구매항상 편하게 잘쓰고있습니다',\n",
       "  '동생이 가게 오픈햇 개업하는 분위기 낼겸 보냈어요.\\n확실히 가게앞에 화한이 있으니 누가봐도 개업한티 팍팍~\\n감사합니다~',\n",
       "  '한달사용기총알배송 감사해요 다음에도 부탁',\n",
       "  '재구매축하할 일이 생겨서 급하게 주문했는데 상태 엄청 좋고 배송도 신속하니 넘 맘에 들어요 전반적으로 가성비도 좋고 강추합니다 ㅎㅎ',\n",
       "  '재구매지인분이 이번에 학원을 개원하게 되었어요\\n평소에 잘 챙겨주시고 그르셔서 보답할 방법을 찾다가\\n화환을 보냈는데 너무 좋아하셔서 저도 만족해요',\n",
       "  '재구매요즘 경기가 살살 풀리고 있어서 대박나라고 보내줬어요 ㅎㅎ\\n기다리다가 경기 풀리는거 보고 개업한다고 했는데 드디어\\n개업한다고 하더라구요 \\n보니깐 제가 보낸 화환이 젤 실하네요 ㅎㅎ',\n",
       "  '재구매배송시간 정확하고 화환 가성비 최고에요\\n타지역으로 보내는 게 처음이라 걱정했는데 \\n정말빠르고 사진까지 보내주시니 좋아요',\n",
       "  '재구매빠르고 정확히 배송해 주셔서 매번 사용합니다',\n",
       "  '재구매풍성하고 실한 화환으로 여기서 화환 보내고는 한번도\\n실망한적이 없어서 꾸준히 이용하고 있네요 ㅎㅎ \\n가격도 거품없고 화환도 진짜 신경써서 잘 만들어서\\n보내주시더라구요 ㅎㅎ',\n",
       "  '거래처에 보내는거라 신경 많이 쓰였는데..\\n잘 챙겨서 보내주셔서 감사해요. 또 이용할께욥!!',\n",
       "  '재구매개업식! 장례식! 전 모두 여기서 보내요~ 가격좋고! 품질좋고! 빠르고!\\n진짜 최고입니다^^',\n",
       "  '재구매인터넷으로 쉽게 구매할수있어서 좋네요\\n꽃은 매번 이 스토어 구매하게되네요\\n받는분께서 잘 받았다고 연락받았어요',\n",
       "  '재구매당일인데도 배송 정확하고 빠르게 와서 만족해요 ㅎㅎ 여기서 자주 주문해야겠어요 ㅎㅎ 꽃도 싱싱함 굿굿',\n",
       "  '재구매꽃도 싱심학고 풍성하게 좋고 리본도 잘써주시고 시간도 딱 맞춰 도착했습니다.\\n거품있는 화환이 아니라 가격 정말 착해서 좋습니다 신경써 주셔서 감사합니다',\n",
       "  '빠른배송 . 감사합니다. .항상 잘이용하고 있습니다^^',\n",
       "  '재구매빠르게 배송되었어요',\n",
       "  '한달사용기hayhshsgsgsgeheh',\n",
       "  '한달사용기재구매배송이빨라서좋았습니다',\n",
       "  '재구매지인 개업축하때문에 애용하게 되었어요 기대이상으로 넘 맘에 들어서 담에도 또 이용 할 계획입니다 굳이에요~~!',\n",
       "  '평일인데도 결혼하는 같은 팀내 동료.\\n하필이면 제가 팀에서 막내라 화환을 보내야하는데,\\n그걸 너무 늦게 알았던거에요. 당연히 보냈을줄 알았는데 안보냈더라구요. 급하게 부랴부랴 주문했는데 다행히도 예식시간전에 잘 도착했습니다.\\n급한주문인데도 잘 맞춰주셔서 감사합니당',\n",
       "  '한달사용기재구매빠른배송좋앗습니다..',\n",
       "  '재구매항상쓰는곳임~~~~~~~~',\n",
       "  '생각보다 신경써서 잘 보내주시는것같아요.\\n온라인이라 반신반의했는데 넘 괜찮은데요? 강추해요!',\n",
       "  '재구매선물로 오늘의 꽃바구니 주문했는데\\n괜찮았어요~~',\n",
       "  '잘 받았습니다 그 밖으로 노란꽃이 없어서 아쉬웠어요\\n다른건 다 좋앜씁니다',\n",
       "  '재구매좋아요 좋아요 좋아요 ㅎㅎ',\n",
       "  '다른곳에서 구매하다가 여기서는 처음 구매해봣어요 ~ 이전에 비슷비슷할줄알고 조금더 싼데로 했다가 완전 피받네요 가격차 진짜 얼마안나더라도 여기처럼 품질좋은데로 하는게 맞는것 같아요~~ 담에 또 구매하러올게요',\n",
       "  '재구매배송빠르고제품도좋아요',\n",
       "  '재구매배송이빨라요 믿고 구매합니다',\n",
       "  '굿 👍👍👍👍굳',\n",
       "  '재구매새언니 생일이라서 가족 식사자리에 배송 시켰는데… 부끄러워하면서도 좋아하는 새언니 보니까 주문하길 잘했다 생각이 들더라구요~\\n시간 맞춰 예쁘게 배송 되었어요.',\n",
       "  '재구매여기 화환 진짜 실해요\\n시중에서 한번 주문해보고 너무 실망해서 온라인으로 \\n주문해봤었는데 여기 너무 괜찮더라구요\\n한번 이용해보고는 맘에 들어서 이제 여기만 이용하고 있어요',\n",
       "  '처음 주문한건데 평이 좋은덴 다 이유가 있나봐요.\\n저 역시 만족입니다. 친절하시고 배송도 빠르고 굿!',\n",
       "  '화환이라고 해서 가격이 비쌀까봐 걱정이 많았는데\\n가격도 괜찮고, 퀄리티도 좋네요 \\n친구가 디저트카페 개업하는데 시간 맞춰서 보내주셨어요',\n",
       "  '재구매빠른배송 감사합니당',\n",
       "  '재구매빠른배송 감나합니당',\n",
       "  '시간은 잘 맞취 주셨는데요 \\n정말 꽂상태는 완젼 ㅡㅡ별루 였습니다 \\n새출발하는결혼식 화원인데  \\n아무리 재활용이여도  그렇쵸  그나마  생화 한가지(소국) 몆개 있는것이  시들어서 있는 상태 \\n너무했네요  창피했어요',\n",
       "  '맘에들어요친절하고배송도빠르고요',\n",
       "  '한달사용기가성비초초초대박임초강추',\n",
       "  '재구매퇴사하는 직원이 잘되길 바라는 마음에 사무실 동료들이랑 같이 돈 모아서 화환 선물 주었슴당!\\n고맙다고 울먹거리기도해서 ㅠㅠ \\n화환이 이렇게 좋은 의미였네욤',\n",
       "  '친구 결혼식이 있어서 급하게 주문했는데요\\n완전 빠른배송에 예쁘게 보내주셨네요\\n퀄리티도 짱짱 !! 감사합니다',\n",
       "  '재구매빠르고 저렴해서 항상 이용합니다',\n",
       "  '재구매배송이 완전 빨라서 일단 핵만족입니다~~갑자기 주문을 했지만 엄청나게 빠르게 도착해서 정말 쫄앗네요 늦으면 어쩔까해서 ㅠㅠ 정말 감사할따름이네요 ~~잘해주셧으니 저도 담에 또 구매하러 오겟습니다',\n",
       "  '빠른배송감사합니다.',\n",
       "  '재구매급하게 주문했는데 너무 잘 도착해서 너무감사드려요\\n화환이 완전 크고 이뻐서 너무 잘 주문한듯해요 ~\\n만족합니다 ㅎ 자주 주문할게요~',\n",
       "  '재구매개업한 지인에게 힘좀 실어주기위해서 보내드렸습니다\\n35플라워 사장님께서 꽃 풍부하고 신선한 꽃으로 깔끔하게 전달해주셔서 매번 주문합니다\\n지인이 엄청 좋았다고 화환이 들어와서 기분이 업! 되었다고 하더라구요 ㅋㅋ\\n우리 지인 사업 대박났으면 합니다^^',\n",
       "  '재구매배달잘됐어요\\n빠른배송감사해요',\n",
       "  '감사합니다 감사합니다 좋은 제품 감사합니다 감사합니다',\n",
       "  '재구매여러번 이용했는데 항상 친절하게  잘 대응해 주셔서 감사합니다. 근조화환을 보낸다는게  잘못해서 축하하환을 보낼뻔한 아찔한 일이 있었는데 친절하게 바로 대응해 주셔서 믿음이 갑니다',\n",
       "  '빠른배송 \\n고맙습니다',\n",
       "  '빠른배송. 빠른배송입니다',\n",
       "  '재구매늘 이용하지만 빠르고 저렴하게 느껴집니다~',\n",
       "  '재구매배송도 빠르고 약속한 시간에 맞춰 잘 배송되었네요~~상담도 친절히 해주시고 화환도 꼼꼼하고  풍성하니 좋네요~~',\n",
       "  '재구매배송빠르고 제품도좋아요',\n",
       "  '재구매배송빠르고 제품도좋아요',\n",
       "  '한달사용기잘 받았고 감사합니다 다만 지역에 따라 추가 요금을 달라고 해서 조금 아쉬움이 있었습니다',\n",
       "  '한달사용기재구매빠르고 좋아요~ 단골입니다. 믿고 구매합니다',\n",
       "  '재구매잘 받았습니다 ~~',\n",
       "  '재구매가격도 괜찮고 시간맞춰서 배송 딱 해주셨네요 \\n믿고 주문 할 수 있어서 너무 좋은거 같아요 감사합니다',\n",
       "  '재구매아무래도 이런거는 시간약속이 생명인데 역시나 \\n시간약속 철저하게 지켜서 보내주시네요 \\n화환도 예쁘고 진짜 풍성해요~',\n",
       "  '빠른 배송과 사진 전송으로 아주 만족합니다.\\n다음에도 한번 더 이용할 생각입니다.',\n",
       "  '빠른 배송 감사합니다.',\n",
       "  '특가중이라 가격도 저렴하고 배송도 빠르고 너무 좋네요',\n",
       "  '지인 분 가게 개업 해서 급하게 주문했는데도 정말 괜찮네요!\\n급할땐 항상 여기 이용해야겠어요 \\n퀄도 좋고 시간 지켜서 오니까 믿음가요! 번창하시고용! \\n담에 또 이용하겠습니다!',\n",
       "  '재구매배송도 빠르고 좋아요',\n",
       "  '재구매회사 퇴사하궁 친구가 어렵게 카페를 차리게 되어가지궁! 화환을 몰래 보내주었는뎅 ㅎ퇴근하고 친구 카페 갔더니 ㅋㅋㅋ 완전 좋아해용 ㅎㅎ',\n",
       "  '재구매여기 정말 가성비 미쳤습니다\\n화환도 해야하고 따로 금앱도 해야 해서 부담일때 딱입니다\\n그렇다고 딱히 상품질이 떨어지는 것은 아니라 최고 입니다 감사합니다',\n",
       "  '재구매시간도 잘 맞춰서 도착했어요! 꽃도 이쁘고 싱싱해서 화사해보이고 좋더라고요~ 화환 정말 가성비좋게 잘한것같아요 ㅎㅎ',\n",
       "  '드디어집안에경사가났습니다 45살우리 친언니가 시집을가서 제가화환을안할수가없어서 미리 준비를이곳에서했어요 가족끼리하느라 주중에 했고  제날짜에 정확하게 배송이왔어요 잔치분위기내고싶어서 화환필수!!분위기도좋고 진짜 기분좋습니다',\n",
       "  '재구매예식날 시간 정확하게 배송해주셔서 \\n너무 좋았어요 ~\\n늦지 않게 잘 배송해주셨고 꽃도 풍성했습니다',\n",
       "  '재구매고모가 이번에 개업하셔서 부모님 대신 보내드렸는데 너무 좋아하시네요 ㅎㅎㅎ\\n가끔씩 필요할 때마다 이용하는 고객인데 신경써주셔서 고맙습니다~^^',\n",
       "  '재구매감사합니다 잘받았습니다',\n",
       "  '잘 도착했네요~~ 문자가 조금 늦게와서 아쉽지만 꽃 상태 괜찮았어요',\n",
       "  '가성비 꽃집이에요~~ 꽃바구니인데도 저렴하게 선물했네요 받는 분이 생각지못한 선물이라며 너무너무 좋아했어요~~!! 다음에 또 주문할게요',\n",
       "  '재구매자주 구매하던 곳에서 제 시간에 맞춰줄수 없다는\\n요청을 받고 급하게 여기로 주문했는데 정말 빠르게\\n배송해주시고 퀄리티도 괜찮아서 정말 좋았어요 !!',\n",
       "  '개업하는곳이라 오전에 시간맞춰 주문드렸는데..\\n시간 잘맞춰 보내주셨네요. 감사합니다! 또 주문할께요!',\n",
       "  '가성비 짱이네요 ㅎㅎ 다음에도 이용할게요',\n",
       "  '친구가 가게 개업하는데 못가서 화환을 보냈어요.\\n멀리서나마 이렇게 응원할수있어 좋아요ㅎㅎ 감사해요',\n",
       "  '재구매신속,정확 가성비 굿~^^',\n",
       "  '재구매빠른 배송 감사합니다',\n",
       "  '재구매중요한 행사에 보내는 화환이라 당부 드렸는데 다른곳 기본화환보다 상태가 좋아요. 급한 화환 보낼때 빠르게 잘 보내주셔서 종종 이용하고 있어요.^^',\n",
       "  '개업하는곳에 화한보냈어요.\\n가격도 좋고 꽃도 싱싱하니 만족이예요.\\n리본도 이쁘게 써주심!!ㅎㅎ',\n",
       "  '인터넷으로 화환을 주문해보는게 처음이라서 이것저것 판매자님께 문의드렸는데 친절하게 응대해주셔서 좋았어요 꽃도 제시간에 맞춰 잘 도착했네요 덕분에 좋은일에 이쁜 꽃으로 축하해드렸네요^^',\n",
       "  '재구매지인의 결혼식인데 코로나격리땜에 못가게돼서 지난번에 꽃배달 시켰던곳에서 주문했는데 역시나 사장님이 때깔나게해주시더라구요~화환 안전하게 보내주셔서 감사합니다!!^^',\n",
       "  '재구매배송이 정말 로켓총알배송이에요 :)',\n",
       "  '재구매배송후 안내문자가 늘 요청시간 범주내로 오네요. 화환상태도 무지하게 좋고 배송 늦는적도 없어서 만족하며 이용하고 있습니다^^',\n",
       "  '재구매배송이 약간 느렸습니다\\n※재생 썼다고 (상주 며느리가 꽃집을 운영) 말나왔음',\n",
       "  '재구매배송빠르고 좋습니다 도착 후 문자 주신번호로 문의 드렸는데 답변은 안주시더라규오',\n",
       "  '재구매일단 꽃 상태도 정말 좋고, 풍성한게\\n가성비도 괜찮은거 같아요 ~ 특히\\n배송이 되게 빨라서 만족스러웠어요:)',\n",
       "  '재구매친한 지인결혼식 당일 일이 있어 가보지는 못하고 화한 보내줬어요~\\n급하게 주문했는데 정확한 시간에 배송 잘해주시고 감사해요 다음에 필요하면 또주문할게요 번창하세요!!',\n",
       "  '재구매시간 촉박하게 주문했는데도 제 시간 맞춰 해주셔서 감사드려요. 화환 모양도 이쁘고 꽃도 싱싱해서 받으시는 분이 좋아하셨어요. 다음에 주문할 일 있으면 꼭 여기로 주문할게요.',\n",
       "  '재구매총알배송오브총알입니다',\n",
       "  '재구매꽃장식 깔끔하게 잘되어있고요, 상담해주시는 상담원분도 친절하게 잘 설명해주셔서 구매하기 어렵지 않았던것 같아요 ~~ 담에 재구매 있어서 일잇으면 다시올게요~',\n",
       "  '재구매제품 배송 모두만족합니다!',\n",
       "  '재구매저렴하고 빠른 배송에 항상 이용합니다',\n",
       "  '한달사용기재구매항상 잘 애용하고 있어요',\n",
       "  '잘써보겠습니당. 좋아요',\n",
       "  '재구매집들이 선물로 스투키 화분 보냈는데 친구가 너무 좋아하네요~\\n마트나 오프라인에서 판매되는 식물보다 저렴한 가격 대비 상태가 좋네요.^^',\n",
       "  '재구매재주문 입니다 만족합니다',\n",
       "  '꽃도 싱싱하고 배송 사진도 보내주셔서 감사합니다!',\n",
       "  '신속정확하게 원하는 시간대에 잘 맞춰서 도착했어요!\\n꽃도 넘 풍성하니 디자인도 맘에들구요~~\\n담에 또 이용하겠습니당~~',\n",
       "  '한달사용기재구매항상친절하게 신경써주셔서 감사합니다',\n",
       "  '재구매갑작스러운 아버님 부고 소식에 부랴부랴 주문해서\\n보냈는데 빠르게 배송해주시고 정성스러운 화환을\\n보니 마음에 위안이 되더라구요..',\n",
       "  '재구매가격대비 화환 상태나 친절하시고 신속한 배송 늘 차질 없이 잘 처리해주셔서 감사합니다^^\\n늘 만족하며 이용하고 있어요~',\n",
       "  '친구 부탁으로 구매를 하였는데 빠른 배송과 정확한 사진첨부로 아주 만족하게 이용했습니다.',\n",
       "  '이모식당을 개업하는데 엄마가 35플라워가 괜찮다더라 그러시면서 여기주문 부탁하셨어요~~ 주변분들이 추천해주셨나봐여~~다른데서 온 화환보다 여기\\n화환이 눈에 띄고  좋네여\\n그래서 여기서 주문하라고 하셨나봐여 \\n배달 잘받았습니다~~',\n",
       "  '재구매정확한 배송에 항상  만족합니다',\n",
       "  '재구매여기는 오프라인 이라 첫 주문때는 걱정이\\n많이 되었는데, 진짜 깔끔하고 꽃도 싱싱하고\\n이쁘게 정성스레 잘해주셔서 참 좋았어요 ㅡ\\n다음번에도 신세 질께요!',\n",
       "  '한달사용기재구매신속 정확 언제나 여기서만.',\n",
       "  '재구매아주좋아요 번창하세요 자주이용할께요',\n",
       "  '재구매항상 빠르고 좋습니다',\n",
       "  '재구매사무실에서 이용하고 있어요. 정확하고 빠른 배송 좋습니다.',\n",
       "  '아는언니가결혼식을하는데 못가보게되서 화한이라도보내자하고 후기이곳저곳보다가 여기평이조아구매했는데 깔끔하게 배송시간잘맞춰서도착했다고 연락와서 기분이매우좋더라구요^^',\n",
       "  '확인연락+배송후안내문자 다좋음',\n",
       "  '한달사용기재구매매번이슈있을때 이용합니다 정말 만족해요',\n",
       "  '친한친구 개업화환으로 주문했어요.\\n빠르고 예쁜 화환으로 배송해주셔서 감사합니다! 화환 실제로 받아보니 친구가 이쁘다고 고맙다고하네요~^^\\n사진으로 봤는데 진짜 화환 이쁘더라구요.\\n이 가격에 잘 산 것 같아요',\n",
       "  '배송도 잘맞춰주시고 좋앜씁니다',\n",
       "  '재구매친구 가게 개업이라 힘든 시기에 작은 선물 주려고 보내주었어요~\\n시간에 맞게 잘 배달해주셨고 꽃도 풍성하게 보여 좋았어요~',\n",
       "  '총알배송 감사합니다',\n",
       "  '한달사용기재구매근조화환 최고인다. 매번 사용중입니다. 너무 감사합니다. 사진은 확대했습니다. 다른글들이 나오면 안되어서',\n",
       "  '재구매지인 결혼식이라 주문했어요. 식장 시간에 맞춰 배달도 해주시고 화환 상태가 너무 좋아서 만족스러운 구매였어요🥰',\n",
       "  '재구매항상 잘이용합니다.',\n",
       "  '재구매기존에 이용해보고 넘 괜찮아서 또 이용해 봤는데 이번에도 역시 배송이 칼 같아서 늦지않게 배송완료해주셔서 감사했어요 타업체에비해 훨씬 괜찮은듯요 강추해요 ㅎㅎ',\n",
       "  '재구매빠르고 정확한 배송 감사드립니다',\n",
       "  '재구매빠른 전달과 가격에 만족합니다.\\n너무 좋아요.',\n",
       "  '재구매매번 사용하고 있습니다\\n감사합니다',\n",
       "  '재구매업무상 화환 보낼 곳이 많아서 여기저기 많이 이용해 봤는데 여기만큼 괜찮은 곳을 못 봤어요 \\n앞으로도 잘 부탁 드려요~~',\n",
       "  '한달전에 처음 주문해봤는데 화환도 마음에 들고 무엇보다 직원분이 소통이 잘되서 좋았어요~',\n",
       "  '재구매빠른배송 만족합니다.',\n",
       "  '재구매항상 빠르고 가격도 좋습니다',\n",
       "  '재구매어렵게 취업에 성공한 친구가 있어 계모임 하는 친구들이랑 돈을 모아서 화환 보내주었습니다!!\\n시간 잘 맞춰서 도착하니 친구가 바로 연락오네요 ㅎㅎ',\n",
       "  '빠르고 정확하게 배송해주셨어요',\n",
       "  '재구매배송 대박 꼼꼼 여기서 50번 이상 구매한듯요',\n",
       "  '재구매고향동생 결혼식에 축하화환 보낸다고\\n급하게 주문했는데, 늦지않게 도착해서\\n정말 다행입니다 감사합니다',\n",
       "  '주말에 행사 진행했는데 화환을 다 추가하라고 사장님이 이야기 하셔서 ㅜㅜ\\n급하게 준비한거라 오프라인 매장에서 주문이 잘안되더라구요ㅠㅠ\\n정말 빠르게 해주셔서 감사하고 시간안에 배송해주려서 감사하네요 ~ 덕분에 행사 잘 마쳤습니다 ! 너무 감사해요',\n",
       "  '재구매급하게 주문했는데 빠른배송 감사합니다',\n",
       "  '재구매모임하는 친구가 결혼을 앞두고 있어서 만나서 저녁먹기전에 서프라이즈로 화환 주문해서 선물로줬는데 좋아하고 좋아해요 ㅎㅎ',\n",
       "  '재구매화환이 엄청 세련되고 고급스러워요 딱 원하는 스타일로 된 것이라 대만족합니다 전반적으로 가격도 친절하고 가성비 굳이네요 ~~!',\n",
       "  '재구매거래처직원이 결혼식이 있어 주문했습니다. 급하게 연락이 와서 당일에 주문했는데 가능해서 다행이었어요! 감사합니다!',\n",
       "  '배송이 정말 정확하네요!! 딱 제가 원하던 시간에 맞춰왔네요~ 요청사항도 꼼꼼하게 잘 들어주셔서 정말 마음에 들어요!! 앞으로 화환은 여기서 주문해야겠어요!!',\n",
       "  '재구매항상~!!  좋습니다~^^',\n",
       "  '재구매다른곳보다 저렴한데도 정성껏 잘 꾸며서 보내 주십니다~\\n꽃도 싱싱하면서 풍성해요^^\\n다음에도 또 주문할께요~~',\n",
       "  '재구매다른곳보다 훨씬 싱싱하고 풍성하게 만든 화환을 보내 주십니다\\n저렴하기도하고 만족스러워요! \\n추천추천!',\n",
       "  '재구매항상 여기서 시키고있어요. 배송 빠르고 좋아요.',\n",
       "  '한달사용기재구매항상  고객  기대에  만족을 주는 곳..',\n",
       "  '배송이 빠르고 품질도 신뢰가 갑니다 \\n주문이 간편해서 무척 만족합니다 \\n저렴하고 직원분들도 친절합니다~^^',\n",
       "  '좋아요 저렴하고 빠릅니다',\n",
       "  '항상그렇듯 좋아요.',\n",
       "  '재구매돟아요아주좋습니다정말',\n",
       "  '조카가 결혼했거든용ㆍ 축하화환 \\n 화려하고 이쁘고 원하는 시간에\\n잘 배달되어 고모로서 넘 기분 좋았답니당ㅋ',\n",
       "  '재구매당골집~ 항상 최고입니다~^^',\n",
       "  '아버님 생신 때 보내 드렸는데 너무 예쁘네요',\n",
       "  '항상 애용합니다\\n이번에도 빠른 배송 감사합니다',\n",
       "  '재구매엄마 친구 자녀분이 결혼한다하여, 엄마가 주문해달라고해서 주문했어요. 엄마가 우리가 보낸 화환이 제일 이뻤다구 하시네요ㅎㅎ!!',\n",
       "  '재구매경조사 등에 필요한 화환은 항상 주문합니다. 가격도 합리적이고 요청한 시간에 맞춰 배송해주어 항상 감사하게 생각합니다.',\n",
       "  '재구매가을이되니 예식이 많네요~~ 당근 다음예식때도 잘부탁드립니다~~',\n",
       "  '바르고 정확하게 배송되었습니다. 고맙습니다.',\n",
       "  '제시간에 잘 도착했어요~! 만족합니다',\n",
       "  '한달사용기재구매늘 애용합니다 재구매또합니다',\n",
       "  '한달사용기재구매제품좋아요. 친절해요',\n",
       "  '배송도 시간도  잘맞춰 주시고 가져다 주시는분도 친절히 해주셔서 감사했습니다.\\n좋은날 활짝핀 꽃처럼 예쁜 시작하라고 친구들이  선물하는거라 신경이 쓰였는데 맘에들었습니다.\\n감사합니다.',\n",
       "  '빠른 배송과 친절한 사진첨부로 아주 만족하게 이용했습니다.',\n",
       "  '전화하셔도 친절하게 궁금한거 답변해주시고 배송도 적당한 시간에 갖다주시고 사진까지 찍어주셔서 좋았어요 !! 비록 너무 정신이 없어서 제 눈으로 직접 확인은 못했지만요 ㅠㅠ',\n",
       "  '덕분에 지난주 화환 잘도착했습니다 ~ 당시 아침에 생각나서 12시 식장에 10시 정도에 급하게 주문했는데, 친절하게 설명해주시고 식 전에 도착해주셔서 정말 너무너무 했습니다~~ 당시 여러곳 다 불가능하다 했는데, 여기 사장님께서 해주셨어요. 너무 감사드리며 화환 필요하신 분들 여기 사장님께 주문하세요~~!!',\n",
       "  '꽃배달 업체 여러군데 이용해밨는데 여기가 제일 괜찮은거 같아요 \\n총알배송에 친절한 상담에 화환도 구성좋고 이쁘네요 급하게 주문했는데 배송시간도 착오없이 잘 보내주셔서 감사합니다',\n",
       "  '재구매자주구매해요\\n마음에들어요',\n",
       "  '늦게 시킨거아닌가 걱정했는데 제때 맞춰서 꽃도 싱싱하고 아주 예쁘게 왔어요! 담에 또 시킬께요! 감사합니다ㅎ',\n",
       "  '화환도 너무 좋네요~\\n배송의 상태도 좋고 개업식을 하는 지인에게 보내줬는데\\n꽃이 풍성하고 시간도 잘 맞춰서 갖다주셔서 넘 좋았어요\\n요즘 온라인으로 많이들 주문을 하는데 진짜 해보니 더 이쁘고 좋네요',\n",
       "  '한달사용기재구매좋습니다 아주 좋습니다',\n",
       "  '재구매항상 여기서 주문하고 있어요',\n",
       "  '재구매잘 도착해주셔서 감사합니다!',\n",
       "  '재구매언제나 만족스럽습니다.',\n",
       "  '혀사퇴직한 친구가 큰마음 먹고 이번에 샵을 오픈했어요. 새로운시작 좋은기운을 담아 친구에게 선물했습니다.친구가 너무 마음에 들어해서 저도 좋네요',\n",
       "  '재구매항상 이용합니다 이번에는 예식장에서 눈으로 확인했네요 배송빠르고 인증샷까지 좋아요',\n",
       "  '화환보낼일 있어서 온라인으로 알아보다가 딱 마음에 들어서 선택했어요^_^ 시간도 잘 맞춰서 도착했고 가격도 착한데 꽃상태도 너무 좋고 이뻤어요~  다음번에도 이용할께요!',\n",
       "  '언제나 감사합니다~',\n",
       "  '재구매근조화환 잘받았습니다',\n",
       "  '한달사용기재구매빠른배송 항상 감사합니다',\n",
       "  '친구 개업축하로 보내줬는데 맘에 들어하네요 \\n어려운시기에 용기내서 새로운 도전하는거 축하해주고 싶어서\\n여러군데 비교하고 문의해서 여기로 결정했는데 선택 잘 한거 같아요',\n",
       "  '아는 지인분 결혼식에 보내려고 했는데 이런 게 처음이라 어색했지만 사장님이 잘 안내해 주셔서 무사하보낼 수 있었어요~!! 다음에는 화환 말고 꽃바구니는 꽃다발 같은 걸로 한번 이용해 볼게요 사장님 번창 하세요~^^',\n",
       "  '한달사용기진짜 굿 초이스입니다.항상꽃배달주문은 여기서~~~',\n",
       "  '재구매축하할 일이생겨 배송을 주문했어여.\\n깔끔하게 잘 배송해주셔서 감사합니다.\\n늘 만족하게 해주는 곳이네요',\n",
       "  '지정한 날자에 안갖다주고 개업도 하기 전에!!\\n전날에  갖다 주겟다 하고 갖다 주면 어떻게요!!',\n",
       "  '결혼하는 친구가 있어서 예쁘게 화환 하나 해서 보냈어요! 시간 맞춰서 배송해주시고 예쁘게 만들어서 보내주셔서 친구들에게 칭찬 받았네요 ㅎ 상태 좋고 예뻐요! 만족해요 ㅎ',\n",
       "  '재구매제품 배송 모두 만족합니다.',\n",
       "  '거래처에 잘보냈읍니다.',\n",
       "  '재구매늘 여기서 주문해요~ 만족합니다!',\n",
       "  '축하할일이있어서 급하게보냈는데도 시간정확하게 좋은제품으로만 구성해서보내주셔서 감사해요ㅎㅎ다음번에도 선물할때있음 또주문할께요 ^^',\n",
       "  '재구매매우빠른배송매우만족',\n",
       "  '친오빠가 꼬기집을 오픈하게되어 화환 준비했어요 꽃도 예쁘고 풍성하니 좋아요. 앞으로 35플라워 단골각입니다.',\n",
       "  '재구매항상 잘이용하고있습니다.',\n",
       "  '친구가 옷가게 개업을 한다고 연락이 왔어요\\n가보지 못하고 하니 그래서 개업으 화환을 보내드렸어요~\\n화환이 꽃이 너무 이쁘고 풍성하지만 일단 화환이 고급스럽고\\n배송도 빨라서 만족합니다.',\n",
       "  '넘 예쁜 화환을 지정한 시간에 잘 배달해 주셔서\\n고맙습니다.\\n삼오플라워를 자주 이용하는데 대만족입니다.',\n",
       "  '선물드린분이 너무 좋아해요~',\n",
       "  '작은 꽃배달 같은거는 근처화원에서 몇번 해봤는데 온라인상으로는 처음이라 반신반의 했는데 꽃 너무 풍성하고 시간맞춰 잘 보내주셔서 감사드려요 너무 친절하신 응대에 필요하면 자주 방문하려구요',\n",
       "  '재구매항상 잘 애용하고있어요',\n",
       "  '친구들모임이 있는데 그중 한친구가 코로나때문에 일년을 미루다가 드디어 결혼식을해서 친구들이랑같이 화환보내줬어요~ 시간에 맞춰서 잘 도착했고 너무 이쁘게 잘 왔네요^^',\n",
       "  '정확한 배송.\\n이쁜 화환.\\n대만족.',\n",
       "  '배송이 빠르고 정확합니다',\n",
       "  '재구매매번 잘 이용중이에요 굳입니다.',\n",
       "  '화환 빠르게 배송해주셨더라구요 ^^\\n진짜 생각보다 훨씬 빨리 배송해주셔서 너무 좋았어요.\\n화환도 신선한 꽃으로 풍성하게 잘 구성해주셔서 좋네요',\n",
       "  '친절한 상담과 정확한 배송 감사합니다^^',\n",
       "  '튼튼하고 좋았습니당',\n",
       "  '전날(주말)에 시켰는데 잘받았다고 합니다. 빠르고 예쁜거로 보내주셨어요~',\n",
       "  '재구매항상 주문하는곳 !!! 번창하세요',\n",
       "  '진짜 배송도 정확하고 화환도 너무 이쁘고 최고입니다! 담에도 화환 보낼일 있으면 여기서 할게요!!',\n",
       "  '재구매빠른배송 정확한 시간 감사합니다',\n",
       "  '친구가 멀리서하는 결혼식이라 주문했어요 인터넷으로 처음주문해보는데 , 다행히 시간도 잘맞춰서 도착했고 예쁘다네요 너무만족합니다^^',\n",
       "  '재구매친구 결혼식이 있어서 주문했습니당!! \\n문구도 깔끔하고 여기 화환이 제일 눈에 띄어서 좋았어용ㅎㅎㅎ 넘 맘에 들어요',\n",
       "  '재구매꽃 화환 배달 사고 없이 잘 받았네여\\n우선 꽃이 싱싱했구여\\n이뻐서 넘 좋았어여\\n택배주문 편하고 할만하네여',\n",
       "  '배송이 빨랐어요 !',\n",
       "  '배송도 빠르고 정확하네요~',\n",
       "  '재구매배송 잘 받았습니당ㅎㅎ 시간에 딱 맞춰 와서 좋았어요! 사진보다 좀 더 풍성해보이고 싱싱해서 좋네요!',\n",
       "  '재구매빠른배송 만족입니다. 만족',\n",
       "  '재구매좋네요\\n배송도 빠르고 쓸만해요.',\n",
       "  '다 좋았는데 생화로 꽂혀있는 소국이 너무 시들어서 기분이 좀 그랬어요 ㅠㅠ',\n",
       "  '한달사용기재구매늘 신속배달 감사합니다',\n",
       "  '지인 개업 선물로 보냈는데 \\n예쁘다고 좋아해주네요 ~ 꽃도 싱싱한거로 잘\\n만들어 보내주셨드라구요 감사합니다',\n",
       "  '가성비 좋습니다~~~',\n",
       "  '재구매빠른배송 만족입니다. 만족',\n",
       "  '재구매빠른배송 만족입니다.만족',\n",
       "  '고등학교 친구모임 첫 결혼식이라 신경써서 준비했는데, 정말 만족스러웠어요. 코로나에 안그래도 울적해했는데, 친구도 너무 고마워했구요~식장가서 보니 저희 꽃이 제일 싱싱하고 예쁘면서도 화려해서 사진찍어도 잘나오더라구요! 게다가 리본 문구 요청드린것도 너무 깔끔하게 잘해서 잘보이게 걸어주셔서, 인증샷 찍느냐고 바빴네요ㅎㅎ 문의도 많이 드리고 했는데 친절하게 답변해주시고, 화환도 너무 잘 만들어 보내주셔서 감사합니다~',\n",
       "  '재구매빠른배송 감사합니다',\n",
       "  '가격도 저렴하고 정말 마음에 드는 화환으로 왔습니다.\\n친구 결혼식에 제가 보낸 화환이 눈에 띄는게 정말 기분이 좋았습니다.\\n다음에도 주문할게요.',\n",
       "  '사진도보내주시고 완료됏다 문자도주셔서 좋았어요',\n",
       "  'ㅎㅎ 화환하는 집 많더라구용\\n회사상사가 초개해주셔가지고 알게 됬어요 ㅎ\\n잘 해주셔서 감사합니다 ㅎㅎ',\n",
       "  '재구매배송시간 너무 잘시켜주셔서 감사합니다.꽃상태도 좋고 사진도 배내주셔서 너무 좋았습니다.',\n",
       "  '완전 좋아요 강추합니다',\n",
       "  '재구매빠른배송 감사합니다..^^',\n",
       "  '개업식에 맞춰 잘 도착했습니다\\n꽃 개화도 잘되고 싱싱하고 퀼리티 좋네요\\n가격도 착하고 만족합니다',\n",
       "  '축하할 일이 있어서 급하게 주문했는데도 불구하고 시간 맞춰서 배송 잘해주셔서 넘 감사해요! 예쁜꽃 배송되었다고 엄청좋아하네요 덕분입니다 ㅎ',\n",
       "  '지인 추천으로 주문했어요. 제가 직접 주문해봤던 것이 아니고 추천으로 주문한거라 조금 걱정이 됐었는데 괜한 걱정이었네요. 정말 만족스러웠습니다.',\n",
       "  '빠르고 정확한 배공',\n",
       "  '다른곳보다  싸고 꽃이 많은 편이에요\\n다른건 모르겠지만 축하화환은 여기가 최고인것 같아요\\n앞으로도 여기서 화환주문할게요',\n",
       "  '너무좋아요 배송빨라요',\n",
       "  '한달사용기재구매항상만족하는 ㅅㅓ비스가 있습니다. 여기네요',\n",
       "  '친구가 결혼이 있었어요~\\n가보지 못하고 그래서 화환을 보내드렸는데\\n화환이 꽃도 풍성하고 너무 이쁘고 시간도 맞춰서 갖다주셔서 넘 좋았어요\\n감사합니다.',\n",
       "  '화환이 아주 풍성하고 제 시간에 맞춰서 잘 왔어요 \\n화환을 자주 시켜보지 않아서 어떨까 싶었는데 친절하고 빠르게 보내주셔서 축하의 마음을 잘 전달할 수 있었어요 \\n넘 만족스러워요',\n",
       "  '한달사용기재구매빠른배송 감사합니다.',\n",
       "  '한달사용기재구매빠른배송 감사합니다.',\n",
       "  '축하 화환 보내일 있어서 비교해 보고 주문했어요.\\n꽃도 싱싱하고 화환도 풍성하게 잘 보내주신 거 같네요. 받으신 분이 너무 좋아하셔서 저도 기분이 좋아요. 감사합니다  또 이용할게요!^^',\n",
       "  '급하게 화환 보낼일이 있어서 주문했는데 원하는 시간에 딱 보내주셔서 감사합니다. 화환 너무 이쁘게 잘 왔습니다. 너무 만족합니다.',\n",
       "  '재구매배송 빠르고 좋아요.',\n",
       "  '재구매상품도 좋고 배송도 잘 해주시고,항상 믿고 주문합니다.',\n",
       "  '리본글 작성시 숫자 기입시 좀더 세심함이 필요합니다',\n",
       "  '한달사용기재구매선물받으신분이 너무 이쁘다고 좋아해주셨어요 좋은 물건보내주셔서 감사합니다. 최근 방문했더니 아직 싱싱하니 잘 크고 있네요',\n",
       "  '지인딸 개업식에  보내려고  구매했는데  가격도 좋고  꽃도 잘보내주셔서 대만족입니다  요즘 꽃보낼일이 종종생기는데 여기서  꼭시키려고요',\n",
       "  '꽃상태좋았고 원하던 시간전에 잘도착했습니다!\\n처음 주문해본곳인데\\n앞으로 종종이용하게될것같습니다!',\n",
       "  '정말 고급스럽고 이쁘게 꾸며주셨네요 결혼식화환은 시간이 생명인데 빠르게 배달해줘서 넘 맘에들어요 가성비도 좋고 대만족합니다 ㅎㅎ',\n",
       "  '개업식에 화환이 빠지면 섭하죠 !! 특가에 배송도 빠르고 꼼꼼하게 \\n신경써주셔서 더욱 더 빛나는 개업식이 된 거 같아서 엄마도 좋아하는 \\n모습이에요 ㅎㅎ 감사합니다~',\n",
       "  '재구매믿고 주문하는 곳이에요. 감사합니다',\n",
       "  '재구매언제나 믿고 주문하는 화환입니다.',\n",
       "  '한달사용기재구매항상 애용합니다. 좋아요.',\n",
       "  '재구매가격저렴 총알 배송 좋아요. 여기가 젤 짱인듯',\n",
       "  '역시 믿고 구매하는 곳! 이번에도 깔끔하고 멋지게 잘 가져다 주셔서 감사합니다',\n",
       "  '재구매미리 구매확정 합니다 그만큼 믿을수있는업체이지요',\n",
       "  '재구매미리 구매확정 합니다 그만큼 믿을수있는업체이지요',\n",
       "  '재구매제품 배송 모두만족합니다!',\n",
       "  '재구매제품 배송 모두만족합니다!',\n",
       "  '재구매언제나 빠른 배송 감사합니다',\n",
       "  '직업적으로 알게된 친한형 가게 개업식에 하나 보냈습니다 거리도 멀고 가보진 못해서 화환이라도 보내려고 한건데 저보다 더 꼼꼼히 일정확인도 해주시고 퀄리티 좋은꽃 보내주셔서 감사합니다',\n",
       "  '회사 대표님께서 필요하시다고 해서 주문했는데 별다른 말씀없으신걸보니 괜찮으셨나 봅니다.',\n",
       "  '재구매................',\n",
       "  '재구매빠른 배송 좋네요. 사무실에서 이용하고 있어요.',\n",
       "  '재구매배송도 상품도 너무 좋아요 완벽\\n또 주문할게요',\n",
       "  '친구가 가게를 오픈해서 의미있는 선물로 무얼해줄까 고민하다가 축하화환을 선물해봤는데  가게  분위기가 환하게 산다고 만족해하네요 감사합니다',\n",
       "  '친구가 가게 개업으로 인해서 화환이 필요했어요~\\n요즘 온라인으로 많이들 주문을 한다고 그래서 온라인으로 알아보고\\n주문을 했는데 꽃이 너무 이쁘고 풍성하고 시간도 맞춰서 잘 갖다주시네요',\n",
       "  '감사합니다 잘보냤습니다',\n",
       "  '감사합니다. \\n자주 이용하고있습니다.',\n",
       "  '재구매회사 비품으로 주문해요',\n",
       "  '재구매빠른배송과 배송사진 감사합니다',\n",
       "  '재구매빠른 배송과 배송사진 감사합니다',\n",
       "  '화환 여기저기 비교해보고 구입햇어요.\\n직접 보지않고 배송햇는데 받은 사람이 맘에들어해서 대만족이요!',\n",
       "  '좋아요 사진으로봣지만 괜찮은듯',\n",
       "  '재구매매번 이용합니다. 가성비도 좋고 꽃 상태도 좋습니다.',\n",
       "  '시간 맞게 잘도착하였고, 인증 사진도 보내주셔서 좋았습니다. 다음에 또 이용할게요.',\n",
       "  '재구매배송시간도 잘 맞춰주시고. 만족합니다',\n",
       "  '친구 결혼식에 화환 보내봤어요 화환이 엄청 비싼줄 알았는데 생각보다 저렴하고 구매하기도 쉽네요 인터넷으로 이렇게 쉽게 구매할 수 있는지 첨 알았어요 앞으로도 특별한 이벤트가 필요할 때 종종 구매해야겠어요',\n",
       "  '빠른 배송도 꽃도 깔끔하면서 화려한 색감 구성으로 잘 도착했었요~ 새로 시작하는 부부를 위한 선물로 화환 주문했는데 신경써서 보내주셔서 감사드립니다.',\n",
       "  '재구매잘 도착하여 좋습니다! 항상 !',\n",
       "  '친구가 10년동안 육아하다가 이번에 취업에 성공을 했다고 연락이 왔어요\\n그래서 첫 출근기념으로 꽃을 보내주니 너무 좋아하네요~\\n꽃도 너무 풍성하고 넘 만족해요',\n",
       "  '재구매잘받았습니다. 감사합니다.',\n",
       "  '잘 도착했어요~ 지인 개업축화로 화환을 보냈는데 시간도 잘 지켜주시고 꽃들도 싱싱하니 예쁘다고 인사들었네요^^ 다음에도 이용할께요 ~',\n",
       "  '요청한 시간에 정확하게 배달해주셨습니다.\\n\\n도착하고 인계사진도 바로 보내주셨어요',\n",
       "  '실수없이 잘 받았습니다',\n",
       "  '아이가 무용을 하는데 급하게 소규모로 공연이 잡혀서\\n꽃을 들고 가는거보다는 꽃배달로 받는게 너무 좋을꺼 같아서 주문을 했어요\\n꽃이 너무 이쁘고 너무너무 맘에 들어요',\n",
       "  '항상 이용하고 있습니다\\n감사합니다',\n",
       "  '재구매언제나 만족합니다. 최고~!!!!!',\n",
       "  '결혼식이 있어서 주문했는데 \\n친구가 여기 괜찮다고 소개시켜줘서 주문했는데\\n꽃도 싱싱하고 퀄리티 좋네여',\n",
       "  '행사는 시간이 제일 중요한데 원하는 시간에 맞춰 잘 왔어요~  꽃이 깔끔하고 만족스러워요\\n크게 신경쓸거 없이 간편하게 주문하고 빠르게 배송되니 좋네요!',\n",
       "  '재구매빠르고 품질좋고 확인 사진까지 확실해요',\n",
       "  '예쁘고 빠릅니다. \\n.',\n",
       "  '한달사용기편하고 좋았어요~~',\n",
       "  '급히 보낼 일이있어 상담하고 주문했는데\\n상담도 친절하게 해주시고 시간도 잘 맞춰 보내주셔서 좋은 선물이되옸습니다! 감사합니당',\n",
       "  '재구매정확한 배송 감사합니다'],\n",
       " '별점': ['1잉',\n",
       "  '5잉',\n",
       "  '5잉',\n",
       "  '5잉',\n",
       "  '5잉',\n",
       "  '5잉',\n",
       "  '5잉',\n",
       "  '1잉',\n",
       "  '5잉',\n",
       "  '5잉',\n",
       "  '5잉',\n",
       "  '5잉',\n",
       "  '5잉',\n",
       "  '5잉',\n",
       "  '5잉',\n",
       "  '5잉',\n",
       "  '5잉',\n",
       "  '5잉',\n",
       "  '5잉',\n",
       "  '5잉',\n",
       "  '5잉',\n",
       "  '5잉',\n",
       "  '5잉',\n",
       "  '5잉',\n",
       "  '4잉',\n",
       "  '5잉',\n",
       "  '5잉',\n",
       "  '5잉',\n",
       "  '5잉',\n",
       "  '5잉',\n",
       "  '5잉',\n",
       "  '5잉',\n",
       "  '5잉',\n",
       "  '5잉',\n",
       "  '5잉',\n",
       "  '5잉',\n",
       "  '5잉',\n",
       "  '5잉',\n",
       "  '5잉',\n",
       "  '5잉',\n",
       "  '5잉',\n",
       "  '5잉',\n",
       "  '4잉',\n",
       "  '5잉',\n",
       "  '5잉',\n",
       "  '5잉',\n",
       "  '5잉',\n",
       "  '5잉',\n",
       "  '5잉',\n",
       "  '5잉',\n",
       "  '5잉',\n",
       "  '5잉',\n",
       "  '5잉',\n",
       "  '5잉',\n",
       "  '5잉',\n",
       "  '4잉',\n",
       "  '5잉',\n",
       "  '5잉',\n",
       "  '5잉',\n",
       "  '5잉',\n",
       "  '5잉',\n",
       "  '5잉',\n",
       "  '5잉',\n",
       "  '5잉',\n",
       "  '5잉',\n",
       "  '5잉',\n",
       "  '5잉',\n",
       "  '5잉',\n",
       "  '5잉',\n",
       "  '5잉',\n",
       "  '5잉',\n",
       "  '5잉',\n",
       "  '5잉',\n",
       "  '5잉',\n",
       "  '5잉',\n",
       "  '5잉',\n",
       "  '5잉',\n",
       "  '5잉',\n",
       "  '5잉',\n",
       "  '5잉',\n",
       "  '5잉',\n",
       "  '5잉',\n",
       "  '5잉',\n",
       "  '5잉',\n",
       "  '5잉',\n",
       "  '5잉',\n",
       "  '5잉',\n",
       "  '5잉',\n",
       "  '5잉',\n",
       "  '5잉',\n",
       "  '5잉',\n",
       "  '5잉',\n",
       "  '5잉',\n",
       "  '5잉',\n",
       "  '5잉',\n",
       "  '5잉',\n",
       "  '5잉',\n",
       "  '5잉',\n",
       "  '5잉',\n",
       "  '5잉',\n",
       "  '5잉',\n",
       "  '5잉',\n",
       "  '5잉',\n",
       "  '5잉',\n",
       "  '5잉',\n",
       "  '5잉',\n",
       "  '5잉',\n",
       "  '5잉',\n",
       "  '5잉',\n",
       "  '5잉',\n",
       "  '5잉',\n",
       "  '5잉',\n",
       "  '5잉',\n",
       "  '5잉',\n",
       "  '5잉',\n",
       "  '5잉',\n",
       "  '5잉',\n",
       "  '5잉',\n",
       "  '5잉',\n",
       "  '5잉',\n",
       "  '5잉',\n",
       "  '5잉',\n",
       "  '5잉',\n",
       "  '5잉',\n",
       "  '4잉',\n",
       "  '5잉',\n",
       "  '5잉',\n",
       "  '5잉',\n",
       "  '5잉',\n",
       "  '5잉',\n",
       "  '5잉',\n",
       "  '5잉',\n",
       "  '5잉',\n",
       "  '5잉',\n",
       "  '5잉',\n",
       "  '5잉',\n",
       "  '5잉',\n",
       "  '5잉',\n",
       "  '5잉',\n",
       "  '5잉',\n",
       "  '5잉',\n",
       "  '5잉',\n",
       "  '5잉',\n",
       "  '5잉',\n",
       "  '5잉',\n",
       "  '5잉',\n",
       "  '5잉',\n",
       "  '5잉',\n",
       "  '5잉',\n",
       "  '5잉',\n",
       "  '5잉',\n",
       "  '5잉',\n",
       "  '5잉',\n",
       "  '5잉',\n",
       "  '5잉',\n",
       "  '5잉',\n",
       "  '5잉',\n",
       "  '5잉',\n",
       "  '5잉',\n",
       "  '5잉',\n",
       "  '5잉',\n",
       "  '5잉',\n",
       "  '5잉',\n",
       "  '5잉',\n",
       "  '5잉',\n",
       "  '5잉',\n",
       "  '5잉',\n",
       "  '5잉',\n",
       "  '5잉',\n",
       "  '5잉',\n",
       "  '5잉',\n",
       "  '5잉',\n",
       "  '5잉',\n",
       "  '5잉',\n",
       "  '5잉',\n",
       "  '5잉',\n",
       "  '5잉',\n",
       "  '5잉',\n",
       "  '5잉',\n",
       "  '5잉',\n",
       "  '5잉',\n",
       "  '5잉',\n",
       "  '5잉',\n",
       "  '5잉',\n",
       "  '5잉',\n",
       "  '5잉',\n",
       "  '5잉',\n",
       "  '5잉',\n",
       "  '5잉',\n",
       "  '5잉',\n",
       "  '5잉',\n",
       "  '5잉',\n",
       "  '5잉',\n",
       "  '5잉',\n",
       "  '5잉',\n",
       "  '5잉',\n",
       "  '5잉',\n",
       "  '5잉',\n",
       "  '5잉',\n",
       "  '4잉',\n",
       "  '5잉',\n",
       "  '5잉',\n",
       "  '4잉',\n",
       "  '5잉',\n",
       "  '5잉',\n",
       "  '5잉',\n",
       "  '5잉',\n",
       "  '5잉',\n",
       "  '5잉',\n",
       "  '5잉',\n",
       "  '5잉',\n",
       "  '5잉',\n",
       "  '4잉',\n",
       "  '5잉',\n",
       "  '5잉',\n",
       "  '4잉',\n",
       "  '5잉',\n",
       "  '5잉',\n",
       "  '5잉',\n",
       "  '5잉',\n",
       "  '5잉',\n",
       "  '5잉',\n",
       "  '5잉',\n",
       "  '5잉',\n",
       "  '5잉',\n",
       "  '5잉',\n",
       "  '5잉',\n",
       "  '4잉',\n",
       "  '5잉',\n",
       "  '5잉',\n",
       "  '5잉',\n",
       "  '5잉',\n",
       "  '5잉',\n",
       "  '5잉',\n",
       "  '5잉',\n",
       "  '5잉',\n",
       "  '5잉',\n",
       "  '5잉',\n",
       "  '5잉',\n",
       "  '5잉',\n",
       "  '5잉',\n",
       "  '5잉',\n",
       "  '5잉',\n",
       "  '5잉',\n",
       "  '5잉',\n",
       "  '5잉',\n",
       "  '5잉',\n",
       "  '5잉',\n",
       "  '5잉',\n",
       "  '5잉',\n",
       "  '5잉',\n",
       "  '5잉',\n",
       "  '4잉',\n",
       "  '5잉',\n",
       "  '5잉',\n",
       "  '5잉',\n",
       "  '5잉',\n",
       "  '5잉',\n",
       "  '5잉',\n",
       "  '5잉',\n",
       "  '5잉',\n",
       "  '5잉',\n",
       "  '5잉',\n",
       "  '5잉',\n",
       "  '5잉',\n",
       "  '5잉',\n",
       "  '5잉',\n",
       "  '5잉',\n",
       "  '5잉',\n",
       "  '5잉',\n",
       "  '5잉',\n",
       "  '5잉',\n",
       "  '5잉',\n",
       "  '5잉',\n",
       "  '5잉',\n",
       "  '5잉',\n",
       "  '5잉',\n",
       "  '5잉',\n",
       "  '5잉',\n",
       "  '5잉',\n",
       "  '5잉',\n",
       "  '5잉',\n",
       "  '5잉',\n",
       "  '5잉',\n",
       "  '5잉',\n",
       "  '5잉',\n",
       "  '5잉',\n",
       "  '5잉',\n",
       "  '5잉',\n",
       "  '4잉',\n",
       "  '5잉',\n",
       "  '5잉',\n",
       "  '5잉',\n",
       "  '5잉',\n",
       "  '5잉',\n",
       "  '5잉',\n",
       "  '5잉',\n",
       "  '5잉',\n",
       "  '5잉',\n",
       "  '5잉',\n",
       "  '3잉',\n",
       "  '5잉',\n",
       "  '5잉',\n",
       "  '5잉',\n",
       "  '5잉',\n",
       "  '5잉',\n",
       "  '5잉',\n",
       "  '5잉',\n",
       "  '5잉',\n",
       "  '5잉',\n",
       "  '5잉',\n",
       "  '5잉',\n",
       "  '5잉',\n",
       "  '5잉',\n",
       "  '5잉',\n",
       "  '5잉',\n",
       "  '2잉',\n",
       "  '5잉',\n",
       "  '5잉',\n",
       "  '5잉',\n",
       "  '5잉',\n",
       "  '5잉',\n",
       "  '5잉',\n",
       "  '5잉',\n",
       "  '5잉',\n",
       "  '5잉',\n",
       "  '5잉',\n",
       "  '5잉',\n",
       "  '5잉',\n",
       "  '5잉',\n",
       "  '5잉',\n",
       "  '5잉',\n",
       "  '5잉',\n",
       "  '5잉',\n",
       "  '5잉',\n",
       "  '2잉',\n",
       "  '4잉',\n",
       "  '5잉',\n",
       "  '5잉',\n",
       "  '5잉',\n",
       "  '5잉',\n",
       "  '5잉',\n",
       "  '5잉',\n",
       "  '5잉',\n",
       "  '5잉',\n",
       "  '5잉',\n",
       "  '5잉',\n",
       "  '5잉',\n",
       "  '5잉',\n",
       "  '5잉',\n",
       "  '5잉',\n",
       "  '5잉',\n",
       "  '5잉',\n",
       "  '2잉',\n",
       "  '4잉',\n",
       "  '4잉',\n",
       "  '5잉',\n",
       "  '5잉',\n",
       "  '5잉',\n",
       "  '5잉',\n",
       "  '5잉',\n",
       "  '5잉',\n",
       "  '5잉',\n",
       "  '5잉',\n",
       "  '5잉',\n",
       "  '5잉',\n",
       "  '3잉',\n",
       "  '5잉',\n",
       "  '5잉',\n",
       "  '5잉',\n",
       "  '5잉',\n",
       "  '5잉',\n",
       "  '4잉',\n",
       "  '5잉',\n",
       "  '5잉',\n",
       "  '3잉',\n",
       "  '5잉',\n",
       "  '5잉',\n",
       "  '5잉',\n",
       "  '5잉',\n",
       "  '5잉',\n",
       "  '5잉',\n",
       "  '5잉',\n",
       "  '5잉',\n",
       "  '4잉',\n",
       "  '5잉',\n",
       "  '4잉',\n",
       "  '5잉',\n",
       "  '5잉',\n",
       "  '5잉',\n",
       "  '5잉',\n",
       "  '5잉',\n",
       "  '5잉',\n",
       "  '5잉',\n",
       "  '5잉',\n",
       "  '5잉',\n",
       "  '5잉',\n",
       "  '5잉',\n",
       "  '5잉',\n",
       "  '4잉',\n",
       "  '5잉',\n",
       "  '5잉',\n",
       "  '5잉',\n",
       "  '5잉',\n",
       "  '5잉',\n",
       "  '5잉',\n",
       "  '5잉',\n",
       "  '3잉',\n",
       "  '5잉',\n",
       "  '5잉',\n",
       "  '5잉',\n",
       "  '5잉',\n",
       "  '5잉',\n",
       "  '5잉',\n",
       "  '5잉',\n",
       "  '5잉',\n",
       "  '5잉',\n",
       "  '5잉',\n",
       "  '5잉',\n",
       "  '5잉',\n",
       "  '5잉',\n",
       "  '5잉',\n",
       "  '5잉',\n",
       "  '5잉',\n",
       "  '5잉',\n",
       "  '5잉',\n",
       "  '5잉',\n",
       "  '5잉',\n",
       "  '5잉',\n",
       "  '5잉',\n",
       "  '5잉',\n",
       "  '5잉',\n",
       "  '5잉',\n",
       "  '5잉',\n",
       "  '5잉',\n",
       "  '5잉',\n",
       "  '5잉',\n",
       "  '5잉',\n",
       "  '5잉',\n",
       "  '5잉',\n",
       "  '5잉',\n",
       "  '5잉',\n",
       "  '4잉',\n",
       "  '5잉',\n",
       "  '5잉',\n",
       "  '5잉',\n",
       "  '5잉',\n",
       "  '5잉',\n",
       "  '5잉',\n",
       "  '5잉',\n",
       "  '5잉',\n",
       "  '5잉',\n",
       "  '5잉',\n",
       "  '5잉',\n",
       "  '5잉',\n",
       "  '5잉',\n",
       "  '5잉',\n",
       "  '5잉',\n",
       "  '1잉',\n",
       "  '5잉',\n",
       "  '5잉',\n",
       "  '5잉',\n",
       "  '5잉',\n",
       "  '5잉',\n",
       "  '5잉',\n",
       "  '5잉',\n",
       "  '5잉',\n",
       "  '5잉',\n",
       "  '5잉',\n",
       "  '5잉',\n",
       "  '5잉',\n",
       "  '5잉',\n",
       "  '5잉',\n",
       "  '5잉',\n",
       "  '5잉',\n",
       "  '5잉',\n",
       "  '5잉',\n",
       "  '5잉',\n",
       "  '5잉',\n",
       "  '5잉',\n",
       "  '5잉',\n",
       "  '5잉',\n",
       "  '5잉',\n",
       "  '5잉',\n",
       "  '5잉',\n",
       "  '5잉',\n",
       "  '5잉',\n",
       "  '5잉',\n",
       "  '5잉',\n",
       "  '5잉',\n",
       "  '5잉',\n",
       "  '5잉',\n",
       "  '5잉',\n",
       "  '5잉',\n",
       "  '5잉',\n",
       "  '5잉',\n",
       "  '5잉',\n",
       "  '5잉',\n",
       "  '5잉',\n",
       "  '5잉',\n",
       "  '5잉',\n",
       "  '5잉',\n",
       "  '5잉',\n",
       "  '5잉',\n",
       "  '5잉',\n",
       "  '5잉',\n",
       "  '5잉',\n",
       "  '5잉',\n",
       "  '5잉',\n",
       "  '5잉',\n",
       "  '5잉',\n",
       "  '5잉',\n",
       "  '5잉',\n",
       "  '5잉',\n",
       "  '5잉',\n",
       "  '5잉',\n",
       "  '5잉',\n",
       "  '5잉',\n",
       "  '5잉',\n",
       "  '5잉',\n",
       "  '5잉',\n",
       "  '2잉',\n",
       "  '5잉',\n",
       "  '5잉',\n",
       "  '5잉',\n",
       "  '5잉',\n",
       "  '5잉',\n",
       "  '5잉',\n",
       "  '5잉',\n",
       "  '5잉',\n",
       "  '5잉',\n",
       "  '5잉',\n",
       "  '5잉',\n",
       "  '5잉',\n",
       "  '5잉',\n",
       "  '4잉',\n",
       "  '5잉',\n",
       "  '5잉',\n",
       "  '5잉',\n",
       "  '5잉',\n",
       "  '4잉',\n",
       "  '5잉',\n",
       "  '5잉',\n",
       "  '5잉',\n",
       "  '5잉',\n",
       "  '5잉',\n",
       "  '5잉',\n",
       "  '5잉',\n",
       "  '5잉',\n",
       "  '5잉',\n",
       "  '5잉',\n",
       "  '5잉',\n",
       "  '5잉',\n",
       "  '5잉',\n",
       "  '5잉',\n",
       "  '5잉',\n",
       "  '5잉',\n",
       "  '5잉',\n",
       "  '5잉',\n",
       "  '5잉',\n",
       "  '5잉',\n",
       "  '5잉',\n",
       "  '5잉',\n",
       "  '5잉',\n",
       "  '5잉',\n",
       "  '5잉',\n",
       "  '5잉',\n",
       "  '5잉',\n",
       "  '5잉',\n",
       "  '5잉',\n",
       "  '5잉',\n",
       "  '1잉',\n",
       "  '5잉',\n",
       "  '5잉',\n",
       "  '5잉',\n",
       "  '5잉',\n",
       "  '5잉',\n",
       "  '5잉',\n",
       "  '5잉',\n",
       "  '5잉',\n",
       "  '5잉',\n",
       "  '5잉',\n",
       "  '5잉',\n",
       "  '5잉',\n",
       "  '5잉',\n",
       "  '5잉',\n",
       "  '5잉',\n",
       "  '5잉',\n",
       "  '5잉',\n",
       "  '5잉',\n",
       "  '5잉',\n",
       "  '5잉',\n",
       "  '5잉',\n",
       "  '5잉',\n",
       "  '5잉',\n",
       "  '5잉',\n",
       "  '5잉',\n",
       "  '5잉',\n",
       "  '5잉',\n",
       "  '5잉',\n",
       "  '5잉',\n",
       "  '5잉',\n",
       "  '5잉',\n",
       "  '5잉',\n",
       "  '5잉',\n",
       "  '5잉',\n",
       "  '5잉',\n",
       "  '5잉',\n",
       "  '5잉',\n",
       "  '5잉',\n",
       "  '5잉',\n",
       "  '5잉',\n",
       "  '5잉',\n",
       "  '5잉',\n",
       "  '5잉',\n",
       "  '5잉',\n",
       "  '5잉',\n",
       "  '5잉',\n",
       "  '5잉',\n",
       "  '5잉',\n",
       "  '5잉',\n",
       "  '5잉',\n",
       "  '5잉',\n",
       "  '5잉',\n",
       "  '5잉',\n",
       "  '5잉',\n",
       "  '5잉',\n",
       "  '5잉',\n",
       "  '5잉',\n",
       "  '5잉',\n",
       "  '5잉',\n",
       "  '5잉',\n",
       "  '5잉',\n",
       "  '5잉',\n",
       "  '5잉',\n",
       "  '5잉',\n",
       "  '5잉',\n",
       "  '5잉',\n",
       "  '5잉',\n",
       "  '5잉',\n",
       "  '5잉',\n",
       "  '5잉',\n",
       "  '5잉',\n",
       "  '5잉',\n",
       "  '5잉',\n",
       "  '5잉',\n",
       "  '5잉',\n",
       "  '5잉',\n",
       "  '5잉',\n",
       "  '5잉',\n",
       "  '5잉',\n",
       "  '5잉',\n",
       "  '5잉',\n",
       "  '5잉',\n",
       "  '5잉',\n",
       "  '5잉',\n",
       "  '5잉',\n",
       "  '5잉',\n",
       "  '5잉',\n",
       "  '5잉',\n",
       "  '5잉',\n",
       "  '5잉',\n",
       "  '5잉',\n",
       "  '5잉',\n",
       "  '5잉',\n",
       "  '5잉',\n",
       "  '5잉',\n",
       "  '3잉',\n",
       "  '5잉',\n",
       "  '5잉',\n",
       "  '4잉',\n",
       "  '5잉',\n",
       "  '5잉',\n",
       "  '5잉',\n",
       "  '5잉',\n",
       "  '5잉',\n",
       "  '5잉',\n",
       "  '5잉',\n",
       "  '5잉',\n",
       "  '5잉',\n",
       "  '5잉',\n",
       "  '5잉',\n",
       "  '5잉',\n",
       "  '5잉',\n",
       "  '5잉',\n",
       "  '5잉',\n",
       "  '5잉',\n",
       "  '5잉',\n",
       "  '5잉',\n",
       "  '5잉',\n",
       "  '5잉',\n",
       "  '5잉',\n",
       "  '5잉',\n",
       "  '5잉',\n",
       "  '5잉',\n",
       "  '5잉',\n",
       "  '5잉',\n",
       "  '5잉',\n",
       "  '5잉',\n",
       "  '5잉',\n",
       "  '2잉',\n",
       "  '5잉',\n",
       "  '5잉',\n",
       "  '5잉',\n",
       "  '5잉',\n",
       "  '5잉',\n",
       "  '5잉',\n",
       "  '5잉',\n",
       "  '5잉',\n",
       "  '5잉',\n",
       "  '5잉',\n",
       "  '5잉',\n",
       "  '5잉',\n",
       "  '5잉',\n",
       "  '5잉',\n",
       "  '5잉',\n",
       "  '5잉',\n",
       "  '5잉',\n",
       "  '5잉',\n",
       "  '5잉',\n",
       "  '5잉',\n",
       "  '5잉',\n",
       "  '5잉',\n",
       "  '5잉',\n",
       "  '5잉',\n",
       "  '5잉',\n",
       "  '5잉',\n",
       "  '5잉',\n",
       "  '5잉',\n",
       "  '3잉',\n",
       "  '5잉',\n",
       "  '5잉',\n",
       "  '5잉',\n",
       "  '5잉',\n",
       "  '5잉',\n",
       "  '4잉',\n",
       "  '5잉',\n",
       "  '5잉',\n",
       "  '5잉',\n",
       "  '5잉',\n",
       "  '5잉',\n",
       "  '5잉',\n",
       "  '5잉',\n",
       "  '5잉',\n",
       "  '4잉',\n",
       "  '5잉',\n",
       "  '5잉',\n",
       "  '5잉',\n",
       "  '5잉',\n",
       "  '5잉',\n",
       "  '5잉',\n",
       "  '5잉',\n",
       "  '5잉',\n",
       "  '5잉',\n",
       "  '5잉',\n",
       "  '5잉',\n",
       "  '5잉',\n",
       "  '5잉',\n",
       "  '5잉',\n",
       "  '5잉',\n",
       "  '5잉',\n",
       "  '5잉',\n",
       "  '5잉',\n",
       "  '5잉',\n",
       "  '5잉',\n",
       "  '5잉',\n",
       "  '4잉',\n",
       "  '5잉',\n",
       "  '5잉',\n",
       "  '5잉',\n",
       "  '5잉',\n",
       "  '5잉',\n",
       "  '5잉',\n",
       "  '5잉',\n",
       "  '5잉',\n",
       "  '5잉',\n",
       "  '5잉',\n",
       "  '5잉',\n",
       "  '5잉',\n",
       "  '5잉']}"
      ]
     },
     "execution_count": 366,
     "metadata": {},
     "output_type": "execute_result"
    }
   ],
   "source": [
    "market"
   ]
  },
  {
   "cell_type": "code",
   "execution_count": 360,
   "id": "09c8748b",
   "metadata": {},
   "outputs": [
    {
     "data": {
      "text/plain": [
       "{'star_average': '4.8',\n",
       " 'review_number': '13,580',\n",
       " '리뷰': ['재구매꽃바구니랑 같이 구매했는데 훨씬 저렴한 꽃바구니가 더 비싸보이고 예뻐요 이 가격이 맞나 싶을정도로 허술하구여 꽃이 다 시들어있어요..잎파리는 왜이렇게 많은지 ㅎㅎㅎ받는 사람한테 주기 미안할 정도예요;;',\n",
       "  '배송도 빠르고 좋아요.\\n단지 다른지역에는 두개주문하면 디자인을 조금 틀리게 해주시던데 똑같은거네요',\n",
       "  '선물받으신분이 이쁘대요ㅎㅎ\\n맘에들어해서 다행이네요\\n감사합니다',\n",
       "  '중간중간 피드백도 좋고, \\n상담도 친절하고..  매우매우 좋아요',\n",
       "  '빠른배송과 요청사항에 맞게 잘 전달해 주셔서 감사합니다~^^',\n",
       "  '재구매배송도 빠르고 친절하구 너무 감사합니다',\n",
       "  '다른 곳보다 가격이 저렴해서 좋아요\\n제 시간에 왓어요',\n",
       "  '재구매정말 중요한 상이였는데 배송이 늦어서 너무 속상했어요..',\n",
       "  '사진보다 이쁩니다~  가성비 좋음~',\n",
       "  '재구매항상 여기서 주문하고 있습니다.',\n",
       "  '재구매언제나 만족하면서 애용중입니다.',\n",
       "  '재구매진짜 빨리 내주셔서 감사해요 1등으로 도착했어요\\n역시 단골할만합니다\\n저렴하고 빠르고 정확하고 싱싱하고',\n",
       "  '재구매빠르게 잘 받았습니다.',\n",
       "  '재구매배송빠르고 좋았네요',\n",
       "  '한달사용기정성스런 화환 덕분에 선물 받으신 분이 좋아하셨습니다!',\n",
       "  '재구매굿굿 빠른배송고맙습니다',\n",
       "  '재구매굿굿 빠른배송고맙습니다',\n",
       "  '재구매아주좋아요 사용하기편해요 간편해요',\n",
       "  '재구매항상쓰는곳입니다~~~~~',\n",
       "  '빠르고 정확합니다 항상 이용중',\n",
       "  '한달사용기재구매항상 빨리 진행해 주셔서 감사합니다',\n",
       "  '재구매화환은 삼오플라워에서만 주문하고 있어요. 항상 만족하고 있습니다.',\n",
       "  '아주 좋아요 굿굿굿',\n",
       "  '빠른배송에 퀄리티가 좋아요',\n",
       "  '꽃이 좀 더 풍성햇음해요',\n",
       "  '재구매항상 감사합니다 번창하세요',\n",
       "  '재구매빠른배송과 풍성한 꽃이 맘에듭니다\\n그리고 항상 배달즉시 사진을 보내줘서 확인할수있어서 좋아요',\n",
       "  '재구매어제 저녁 늦게 주문했는데 아침일찍 최선을 다해서 배송해주셔서 결혼식 이쁘게 잘  치뤄드렸습니다',\n",
       "  '매번 빠르고 정확하게 잘해줌',\n",
       "  '항상 잘 이용하고 있어요',\n",
       "  '날짜,시간 잘 맞춰서 도착한 것 같아요 실물로 보진 못했지만 좋아하시네요 감사합니다^^',\n",
       "  '배송빠르고 너무 좋아요~ 감사합니다',\n",
       "  '재구매배송빠르고 너무 좋아요~ 감사합니다',\n",
       "  '재구매회사일로 계속 이용하고 있는데 대응도 잘해주시고 좋아요. 앞으로도 이용할께요.수고하셨습니다',\n",
       "  '재구매항상 이용해요 가격도 괜찮고 배달완료후엔 사진까지 전송해줘요',\n",
       "  '한달사용기재구매항상 잘 애용하고있어요\\n최고에요',\n",
       "  '어머니가 좋아하셨어요 감사합니다',\n",
       "  '재구매늘 여기서 구매하게 되네요~\\n배송도 원하는 시간 잘 해 주시고 피드백도 좋아 감사합니다.\\n번창하세요~~',\n",
       "  '재구매일요일이라서 아침 배송이 안되서 아쉬웠지만 어쩔수 없지용',\n",
       "  '재구매항상 믿고 주문합니다.',\n",
       "  '재구매빠른배송이라 좋아요',\n",
       "  '재구매정확한 배송 감사합니다',\n",
       "  '한달사용기집안 행사에 적은 경비로 아름다운 꽃을 받을수  있어서 감사했습니다.',\n",
       "  '재구매늦었지만 리뷰합니다\\n항상 좋은화환 신속한배송 저렴함 감사합니다',\n",
       "  '재구매사무실에서 이용중이예요. 친절합니다.',\n",
       "  '재구매만족합니다 주말에도 빠르고 좋아요',\n",
       "  '배송이 늦은 건지 문자가 늦은 건지 요청 시간보다 늦었네요 그렇지만 상춤 사진보니 마음에 들어서 별5개 드립니다 제품 설명 사진과 다를 수 있다는 안내 받았는데 제품 안내 사진보다 더 마음에 드네요',\n",
       "  '재구매배달완료 사진까지 잘찍어서 보내주셔서 감사합니다',\n",
       "  '재구매항상 꽃배달이나 화환은 여기 이용하는데 저렴하고 가격대비질도 좋습니다~',\n",
       "  '3시간 만에 배송 되고 좋았어요!',\n",
       "  '두번째 이용인데 당일 급하게 신청했는데 예쁘게 만들어 보내주셨어요^^\\n배송즉시 사진까지 보내주시고 넘 좋아요\\n전 계속 여기만 이용할려구요 ㅎ ㅎ\\n\\n※사진보내주신걸 올리려니 안올라가네요;;',\n",
       "  '어느새 사촌조카가 결혼을 한다고 연락이 왔네요.\\n마침 당일에 일이있어서 참석을 못해서 전화로 인사는 드렸는데...\\n그래도, 화환 하나는 보내야겠기에 여기저기 알아보다가\\n이곳에서 주문하게 되었네요..\\n\\n주문후에 고객센터에서도 확인전화까지 주시고...ㅎㅎㅎ\\n나중에 친척어른들 한테도 너가보낸 화환 잘받았다고\\n고맙다는 인사는 덤으로 받았습니다..\\n\\n나중에도 화환이나 꽃은 이곳에서 주문해야겠네요...\\n감사합니다...',\n",
       "  '재구매항상 감사합니다~ 번창하세요~',\n",
       "  '친구가 이번에 학원을 개업한다고 하네요\\n요즘에 우리아이들도 학원이다 온라인이다 날리던데..\\n잘되라는 이야기도 해주고..\\n명색이 개업하는데 그래도\\n지나가면서 알아보고, 소문나라고 화환을 하나 보내주려고 알아보다가\\n이곳에서 주문까지 했습니다.\\n\\n배송후에 사진주신것 보니 풍성하게 해서 잘배송되었네요.\\n감사합니다..\\n\\n다음에도 이곳 자주자주 이용할게요...\\n\\n수고하세요...ㅎㅎ',\n",
       "  '지방이라 추가로 돈을 더 냈지만 가격이 괜찮아요 배송도 빠르구요',\n",
       "  '재구매항상 여기서 보내요.\\n수고하세요',\n",
       "  '재구매빠르게 잘 도착했어요.',\n",
       "  '원래 주문하던 업체가 있었는데 마지막에 주문했을때 문제가 좀 있어서 업체를 바꿔서 주문했습니다. 시간도 아주 잘 지켜주셨고 제일 걱정했던 퀄리티가 제가 원하던 화환 그 모습으로 도착해서 맘이 놓였네요^^~\\n늦지않게 그리고 좋은제품으로 잘 도착하게해주셔서 감사합니다^^~',\n",
       "  '급하게 당일에 주문했는데 제시간에 맞춰서 도착했어요 감사합니다. 상태도 좋고 마음에 들었어요 다음에 재구매 의사 있음. 다음에 주문시 최소 전날에는 주문할께요~~',\n",
       "  '한달사용기좋아요 ㅎㅎ 오늘 또 주문하려고요 ^^',\n",
       "  '재구매사무실에서 사용해요. 빠른배송, 친절한 응대 감사합니다.',\n",
       "  '재구매사무실에서 사용해요. 빠른배송, 친절한 응대 감사합니다.',\n",
       "  '한달사용기재구매늘 애용하는데 좋습니다 다시 재구매합니다',\n",
       "  '재구매감사합니다 자주 사용하고있네요!',\n",
       "  '배송도 너무 빠르고 품질이 너무 좋아요!! 매번 이용하고 있어요',\n",
       "  '재구매여기서만 주문해요. 좋아요.',\n",
       "  '재구매배송빠르고 좋아요,',\n",
       "  '한달사용기잘 받았습니다. 자주 이용하고 주변에도 알리고 있어요 사업 번창 하십시요',\n",
       "  '한달사용기재구매잘 받았습니다. 자주 이용하고 주변에도 알리고 있어요 사업 번창 하십시요',\n",
       "  '한달사용기재구매항상 주문하는 곳이에요',\n",
       "  '빠르고 정확히 배송해주셨어요. 감사합니다. \\n보톨 유선으로만 주문해봐서 인터넷 주문은 혹시 배송이 늦을까 걱정했는데 괜한 걱정이었네요. 감사합니다!\\n배달 후에 바로 메세지로 안내도 해주셔서 더 걱정 덜었습니다!',\n",
       "  '한달사용기재구매빠른배송 그리고 확인서비스 좋아요',\n",
       "  '재구매배송정확하고친절하게배달해주세요',\n",
       "  '재구매부모님 아시는 분이 가게오픈하셨다고 화환 선물하신다고 하더라구요~ 그래서 알아봐달라고해서 제가 지난번에 꽃배달 했을때 여기가 괜찮았던걸로 기억해서 화환보냈네요~ 부모님이 가게 다녀와보시곤 화환 좋더라고 칭찬하셨어요^^',\n",
       "  '재구매늘 사용해요 친절하고 좋아요',\n",
       "  '한달사용기친구들이 좋아한 모습 보니까 기분이 좋네요',\n",
       "  '재구매좋아요 빠른배송 감사',\n",
       "  '빠른배송 감사합니다 자주이용할게요',\n",
       "  '사진까지 찍어서 보내주셨습니다 감사합니다',\n",
       "  '빠른배송 감사합니다~!',\n",
       "  '꼼꼼하게 배송해주시고 주문상품 동일하게 맞춰주셔서 감사합니다.',\n",
       "  '잘받았습니다 감사합니다',\n",
       "  '재구매축하할땐 화환 좋은거같아요~ 요즘 결혼식하기도  좀 그런데 친구가 드디어 결혼했거든요! 그래서 넘 축하기념으로 화환보냈습니다~ 문구도 제가 원하는대로 잘 작성해주셨고 실제로보니 더 예쁘네요^^',\n",
       "  '재구매화환배송은 최고예요👍시간빠르고 정확해서 매번 이용합니다',\n",
       "  '재구매2개 재구매했습니다.\\n감사합니다.',\n",
       "  '재구매자주 애용합니다.\\n번창하세요',\n",
       "  '배송이 빠르고 좋습니다.',\n",
       "  '빠르고 정확해서 좋네요. 담에 또 주문넣고 싶습니다. 개업하는거 바로 알자마자 검색해서 보냈는데 당일배송이 되다니. 친구랑 약속 지켜서다행입니다. 제 개업날에도 화환보내준친구라 저도 부끄럽지않게 보냈어야했거든요.  굿!!',\n",
       "  '한달사용기재구매항상 정확하구 신속한 배송과 인증 문자\\n감사합니다',\n",
       "  '확인 전화에 문자까지. 빠른 배송 만족이여~ 잘 배송해주셔서 감사합니다',\n",
       "  '재구매여기 진짜 변함없네요 ㅋㅋ\\n전에 몇번 시키고 그닥 시킬일 없다고 엄마가 \\n급하게 전화와서 지금 꽃집 갈 상황이 안되는데\\n화환 하나만 시켜달라고 해서 시켰거든요\\n근데 엄마가 비싼거 아니냐고 받은 사람은 고맙다고\\n하는데 화환 비싸보인다고 괜히 내가 부탁해서 비싼거\\n보냈냐고 하시길래 아니라고 가격 말씀 드리니 ㅋㅋ\\n앞으로도 거기 주문해달래요 ㅋㅋ',\n",
       "  '한달사용기재구매항상 이용하고 있습니다. 제시간에 사진 잘 보내주어 고맙습니다 받는분도 만족하셨어요',\n",
       "  '오후늦게 결혼식에 보내려고 급하게 주문했는데 늦지않게 잘 도착하였네요 \\n늦게도착하여 사진은 못찍었지만 특가인데도 여느화환들 못지않게 화려하여 매우 만족했습니다!',\n",
       "  '재구매빠른 배송 좋아요~',\n",
       "  '재구매늘 믿고 구매합니다. 항상 빠르게 배송해주시고 도채하면 사진도 찍어 주시고 좋아요',\n",
       "  '재구매지난번 꽃배달 매우만족해서 이번에도 이용 해봤어요~ 직접 방문할 개업식이라 제가보낸 화환 가서보니 예쁘더라구요~ ^^  화환이 일찌감치 잘 도착해있어서 넘 좋았답니다~',\n",
       "  '재구매여기서만 주문합니다.',\n",
       "  '재구매약속한 시간에 잘 맞쳤습니다',\n",
       "  '재구매믿고 주문하는 가성비 갑!!',\n",
       "  '한달사용기재구매늘 빠르고 도착후 사진도 보내주시고 좋아욥',\n",
       "  '꼼꼼하게 배송해주시고 주문상품 동일하게 맞춰주셔서 감사합니다.',\n",
       "  '잘받았습니다 감사합니다',\n",
       "  '재구매축하할땐 화환 좋은거같아요~ 요즘 결혼식하기도  좀 그런데 친구가 드디어 결혼했거든요! 그래서 넘 축하기념으로 화환보냈습니다~ 문구도 제가 원하는대로 잘 작성해주셨고 실제로보니 더 예쁘네요^^',\n",
       "  '재구매화환배송은 최고예요👍시간빠르고 정확해서 매번 이용합니다',\n",
       "  '재구매2개 재구매했습니다.\\n감사합니다.',\n",
       "  '재구매자주 애용합니다.\\n번창하세요',\n",
       "  '배송이 빠르고 좋습니다.',\n",
       "  '빠르고 정확해서 좋네요. 담에 또 주문넣고 싶습니다. 개업하는거 바로 알자마자 검색해서 보냈는데 당일배송이 되다니. 친구랑 약속 지켜서다행입니다. 제 개업날에도 화환보내준친구라 저도 부끄럽지않게 보냈어야했거든요.  굿!!',\n",
       "  '한달사용기재구매항상 정확하구 신속한 배송과 인증 문자\\n감사합니다',\n",
       "  '확인 전화에 문자까지. 빠른 배송 만족이여~ 잘 배송해주셔서 감사합니다',\n",
       "  '재구매여기 진짜 변함없네요 ㅋㅋ\\n전에 몇번 시키고 그닥 시킬일 없다고 엄마가 \\n급하게 전화와서 지금 꽃집 갈 상황이 안되는데\\n화환 하나만 시켜달라고 해서 시켰거든요\\n근데 엄마가 비싼거 아니냐고 받은 사람은 고맙다고\\n하는데 화환 비싸보인다고 괜히 내가 부탁해서 비싼거\\n보냈냐고 하시길래 아니라고 가격 말씀 드리니 ㅋㅋ\\n앞으로도 거기 주문해달래요 ㅋㅋ',\n",
       "  '한달사용기재구매항상 이용하고 있습니다. 제시간에 사진 잘 보내주어 고맙습니다 받는분도 만족하셨어요',\n",
       "  '오후늦게 결혼식에 보내려고 급하게 주문했는데 늦지않게 잘 도착하였네요 \\n늦게도착하여 사진은 못찍었지만 특가인데도 여느화환들 못지않게 화려하여 매우 만족했습니다!',\n",
       "  '재구매빠른 배송 좋아요~',\n",
       "  '재구매늘 믿고 구매합니다. 항상 빠르게 배송해주시고 도채하면 사진도 찍어 주시고 좋아요',\n",
       "  '재구매지난번 꽃배달 매우만족해서 이번에도 이용 해봤어요~ 직접 방문할 개업식이라 제가보낸 화환 가서보니 예쁘더라구요~ ^^  화환이 일찌감치 잘 도착해있어서 넘 좋았답니다~',\n",
       "  '재구매여기서만 주문합니다.',\n",
       "  '재구매약속한 시간에 잘 맞쳤습니다',\n",
       "  '재구매믿고 주문하는 가성비 갑!!',\n",
       "  '한달사용기재구매늘 빠르고 도착후 사진도 보내주시고 좋아욥',\n",
       "  '재구매좋은 화환 보내주셔서 감사요 싱싱해서 좋습니다\\n빠른배송도 감사해요',\n",
       "  '재구매매번 이용해요 사진을 못찍었네요ㅜ 감사합니당',\n",
       "  '합리적인 가격에 문자로 알려주시고 서비스도 좋았어요',\n",
       "  '재구매드디어…일년을 미루던 절친 결혼식~ 그래서 친구들이랑 너무 축하한다며 화환도 하나 보냈어요~ 일찍부터 식장에 가있었는데 화환도 일찍잘 도착했어요~',\n",
       "  '재구매꾸준히 이용하고있습니다 감사합니다',\n",
       "  '전날 부랴부랴 주문했는데 주문한대로 잘배송되었구 사진도 보내줘서 확인도되고 좋았습니다~꽃도 비어보이지않고 이쁘네요~',\n",
       "  '재구매빠르고 정확한 배송에 만족',\n",
       "  '재구매배송빠르고 넘좋아요 또구매합니다',\n",
       "  '재구매좋은제품으로 대응해주셔서 감사합니다~',\n",
       "  '재구매배송빠르고제품도좋아요',\n",
       "  '재구매친구 가게 1주년이라서 힘든시기에 잘 견뎌내서 선물로 화환하나 보내주었네용~\\n사장님 믿고 보냈는뎅 ㅎㅎ 역시 시간도 잘맞춰 주시고 감사했습니당!',\n",
       "  '재구매매번 여기서 주문해요. 현장 도착 사진 보내주셔서 감사합니지.',\n",
       "  '재구매개업식에 보냈어요~ 직접 가보면 더 좋았을텐데 거리가 좀 있어서 못가고 화환으로 대신했어요! 너무 고맙다고 연락왔네여!!^^',\n",
       "  '한달사용기재구매빠른배송감사드립니다',\n",
       "  '한달사용기재구매품질에서 아주 만족합니다',\n",
       "  '재구매배송빠르고 저렴하게 잘 샀습니다.',\n",
       "  '재구매자주구매해요\\n항상만족합니다.\\n빠르게배송해주셔서감사해요',\n",
       "  '재구매굳!!!!! 화환.',\n",
       "  '한달사용기재구매빠른배송 감사합니다',\n",
       "  '좋은 제품보내주셔서 감사합니다.',\n",
       "  '재구매좋은 화환 보내주셔서 감사요 싱싱해서 좋습니다\\n빠른배송도 감사해요',\n",
       "  '재구매매번 이용해요 사진을 못찍었네요ㅜ 감사합니당',\n",
       "  '합리적인 가격에 문자로 알려주시고 서비스도 좋았어요',\n",
       "  '재구매드디어…일년을 미루던 절친 결혼식~ 그래서 친구들이랑 너무 축하한다며 화환도 하나 보냈어요~ 일찍부터 식장에 가있었는데 화환도 일찍잘 도착했어요~',\n",
       "  '재구매꾸준히 이용하고있습니다 감사합니다',\n",
       "  '전날 부랴부랴 주문했는데 주문한대로 잘배송되었구 사진도 보내줘서 확인도되고 좋았습니다~꽃도 비어보이지않고 이쁘네요~',\n",
       "  '재구매빠르고 정확한 배송에 만족',\n",
       "  '재구매배송빠르고 넘좋아요 또구매합니다',\n",
       "  '재구매좋은제품으로 대응해주셔서 감사합니다~',\n",
       "  '재구매배송빠르고제품도좋아요',\n",
       "  '재구매친구 가게 1주년이라서 힘든시기에 잘 견뎌내서 선물로 화환하나 보내주었네용~\\n사장님 믿고 보냈는뎅 ㅎㅎ 역시 시간도 잘맞춰 주시고 감사했습니당!',\n",
       "  '재구매매번 여기서 주문해요. 현장 도착 사진 보내주셔서 감사합니지.',\n",
       "  '재구매개업식에 보냈어요~ 직접 가보면 더 좋았을텐데 거리가 좀 있어서 못가고 화환으로 대신했어요! 너무 고맙다고 연락왔네여!!^^',\n",
       "  '한달사용기재구매빠른배송감사드립니다',\n",
       "  '한달사용기재구매품질에서 아주 만족합니다',\n",
       "  '재구매배송빠르고 저렴하게 잘 샀습니다.',\n",
       "  '재구매자주구매해요\\n항상만족합니다.\\n빠르게배송해주셔서감사해요',\n",
       "  '재구매굳!!!!! 화환.',\n",
       "  '한달사용기재구매빠른배송 감사합니다',\n",
       "  '좋은 제품보내주셔서 감사합니다.',\n",
       "  '재구매잘구매했습니다. ㅎㅎ 사진도 보내주십니다',\n",
       "  '재구매감사합니다 잘받았습니다',\n",
       "  '빠르고 정확하게 배송해주셔서 좋았어요.\\n친구에게 축하해줄일이 있어서 보냈는데, 친구가 넘 좋아하네요 .\\n계속 잘됐으면 좋겠어요. 친구가 행복해하는 모습 보니 넘 좋네요 .감사해요~!',\n",
       "  '재구매개업선물로 이만한게 없죠, 가격도 괜찮고 \\n시간도 딱 맞춰서 오셨어요 ! 추운데도 싱싱한 꽃들덕에 \\n가게가 화사하게 느껴졌어요 감사합니다',\n",
       "  '재구매화환 시간맞춰 잘 배송해주셔서 감사합니다.\\n꽃도 촘촘하고 싱싱해서 완전 맘에 드네요~ㅎㅎ\\n강추합니닷!!',\n",
       "  '재구매정확해서 자주이용합니다',\n",
       "  '재구매친구가 결혼하는 상황에서 빈손으로 가기는 그래서\\n축하화환 하나 보냈네요 결혼식시간이 애매해서\\n걱정했는데, 제 시간에 맞게 도착해서 좋았습니다 ^^*',\n",
       "  '재구매멀어서 직접 가보지는 못할것 같아서 화환으로 대신했어요 \\n대박났으면 좋겠다는 마음으로 보냈는데 다행이 이번에도\\n화환을 아주 실하게 좋은걸로 보내주셨네요 \\n부실하면 안 보내느만 못한데 여기는 아주 상태 좋아요',\n",
       "  '재구매축하할일이 있어서 화환 보냈어요~ 저도 갔는데 저보다 먼저 잘 도착해있더라구요~ 화환도 멋지고 좋았습니다~',\n",
       "  '재구매역시  꽃 보내줄때에는 확실히 티나는거 보내줘야 해요^^ 아주 확 티나서 딱 좋더라구요 감사합니다!',\n",
       "  '재구매빠른 배송 감사합니다',\n",
       "  '한달사용기배송도 빠르고 배송하고 사진까지 인증샷 보내주셔서 너무 만족스럽습니덩',\n",
       "  '재구매배송 빠르고 좋아요 ..',\n",
       "  '개업식에 보냈어요 꽃도 풍성하고 시든거 없었고 리본도  예쁘게 잘해서 보내주셨네요.  기사님도 친절하시고  착한 가격에 구매하게 되서 부담도 덜게 되고 너무 좋았어요',\n",
       "  '재구매거래처 이전 재오픈으로 축하할겸 보냈어요. 원하는 시간에 맞춰서 배송해주셔서 감사합니다^^;; 요청시간보다 빠르게 도착하면 난감할때도 있어 무조건 빠른게 좋은것도 아니더라구요. 늘 일처리 잘해주셔서 만족스러워요 :)',\n",
       "  '재구매항상 애용하고 있습니다.',\n",
       "  '친구가 개업하는데 멀어서 가보기도 힘들고 화환만 보냈어요 배송하신 다음 사진도 보내주시고 형 친절하시네요 꽃도 화사하고 이쁜 거 같더라구요.  또 이용하러 올게요',\n",
       "  '급하게 주문하느라 알아보지도 못하고 주문했는데\\n실물보니 마음에 쏙 드네요\\n화환 주문할 일이 자주 있는데 조만간 또 오겠습니다',\n",
       "  '재구매얼마나 신중하게 골랐는지 모르겠네요\\n그래도 잘 선택 했어요 감사합니다 마음에 들어하더군요^^',\n",
       "  '재구매얼마나 좋아하는 지 모르겠네요 보면서 저도 너무 좋았습니다 정말로 좋은시간이었어요^^',\n",
       "  '재구매쌀화환만 받는다고하여 보냈는데 쌀환환도 괜찮네요~',\n",
       "  '받는사람이 만족해하네요',\n",
       "  '받는사람이 만족해하네요',\n",
       "  '지인분 결혼식에 보냈어요 축하선물은 역시 환이 최고인 듯해요.  엄청 풍성하고 이쁘게 해서 보내주셔서 너무 감사합니다 정성이 가득했네요.   또 주문하러 올게요',\n",
       "  '친구네   가게 개업식에 보냈어요 시간도 잘 맞춰 주시고  화환에도 정성이 가득한 게 눈에 보이네요 싱싱한 꽃들이 화사했습니다.   꽃 선물 할일 생기면 또 들릴게요',\n",
       "  '재구매여기는 항상 만족스럽네요 \\n바빠서 시중에서 구매할 시간이 안되서 온라인으로 \\n한번 주문해봤었는데 너무 괜찮더라구요 \\n이번에 또 이용해봤는데 처음이랑 똑같이 좋네요 \\n앞으로도 믿고 이용할려구요',\n",
       "  '재구매화환 보내야하지하고 생각만하고 있다가 까먹어서 급하게 거래처에 보내면서 사장님께 연락드렸는데 넘 감사하게도 빠른 배송해주셨네요!',\n",
       "  '재구매빠르고 정확한 배송',\n",
       "  '재구매궁금한거 있어서 전화드렸는데 상담사님 엄청 친절하시네요 \\n제가 잘못 적은게 있어서 급하게 수정이 필요해서 \\n전화드렸는데 귀찮아하는 기색 하나없이 친절하게\\n고쳐주셨어요 ㅎㅎ\\n여러모로 참 좋아용!!~~',\n",
       "  '한달사용기재구매요즘은 추운겨울에도 예식장 화환을 보냅니다',\n",
       "  '한달사용기재구매빠른배송 감사합니다.. 자주 이용할게요',\n",
       "  '재구매전에 너무 잘해주셔서 단골되었습니다\\n개업해서 대박나라고 \\n축하하는 마음 한가득 담아 화환 쐈어요 =3 \\n\\n꽃 화려하고 예뻐요 샤샤샷',\n",
       "  '휴일이라 너무 늦을까 싶었는데, 처음 말씀하신 것보다 시간이 잘 맞게 도착해서 감사했습니다. 응대도 감사했고, 문자로도 설명주시고....여러모로 감사했습니다.',\n",
       "  '실물을 못봤지만 이쁘겠죠',\n",
       "  '재구매감사합니다 잘받았습니다',\n",
       "  '한달사용기만족합니다 좋아요 좋아',\n",
       "  '한달사용기재구매만족합니다 좋아요 좋아',\n",
       "  '한달사용기재구매좋아요 잘 사용하겠습니다.',\n",
       "  '재구매거래처에 보내는거라 신경쓰였는데..\\n시간맞춰 잘 보내주셔서 감사합니다.\\n다음에도 또 구매하러 올께요.',\n",
       "  '좋긴한데 배송해주시는분이 집 앞까지 해주신 게 아니라 나오라 하신게 기분이 조금 그랬었네요',\n",
       "  '재구매개업하는 친구가 있어서 주문을 했습니다~\\n믿고 구매하는데 친구가 화환 받아보더니 너무 좋아해서 기분이 좋습니다~\\n사장님도 너무 친절하십니다~',\n",
       "  '재구매이시국에 조금 걱정스럽지만 동생이 개업했어요.\\n축하화환보냈는데 잘챙겨 보내주셔서 감사합니다.',\n",
       "  '재구매풍성하고 예뻐요 ㅎㅎㅎ',\n",
       "  '콘서트 2일 전 미리 주문했는데, 시간에 맞춰 잘 왔고 고객이 만족했습니다.',\n",
       "  '재구매고모가 개업을 하셔서 보내드렸는데 너무 맘에든다며 좋아하시네요!감사합니다',\n",
       "  '재구매여기서만 구매해요 빠르고 주소잘못기재했는데 핀절하게 연락오시고 감사합니다',\n",
       "  '재구매화환 꽃도 싱싱해보이고 좋아요.\\n급히 주문했는데도 일찍 보내주셔서 대만족!!\\n친절하셔서 자꾸 찾게되네용ㅎㅎ',\n",
       "  '재구매배송도 빠르고 현장 사진 보내주셔서 감사합니다.',\n",
       "  '재구매특가라 저렴해서 좋네용 ~~\\n풍성하게 잘 해주셔서 좋구, 사장님도 친절하셨습니당~~ \\n다음번에 또 구매하러 여기로 올게용~~',\n",
       "  '재구매어제까지 기억해놓고 생일인거 당일 아침에 아는척 못하고 급하게 출근하느라 깜빡해서 아침에 부랴 급히 배송 부탁드렸는데 오전 중에 잘 도착했네요. 와이프가 너무 좋아해요.',\n",
       "  '한달사용기재구매사무실에서 사용하는데 빠르고 저렴하고 자주 이용해요',\n",
       "  '재구매전에 한번 이용해보고 너무 마음에 들어서 또 \\n시킬일이 있어서 시킴.\\n가격대비 꽃 이쁘구 색상조합도 이쁩니다.\\n좋은선물 했어요~감사합니다.\\n받은분도 아주 좋아하셨어요~',\n",
       "  '재구매매번 이용해요 감사합니다 ^^',\n",
       "  '이모생신때 보내드렸어요ㅋㅋ환갑은 아직 아니라ㅋㅋ이벤트성으로 보냈는데 좋아하시네요ㅋㅋ',\n",
       "  '재구매급하게 주문했음에도 불구하고 빠르게 대처하여 잘 배송되었어요 엄청 빨리 신속정확하게 배송해주셨네요 여러모로 데코며 신선함이 남다르고 사장님 서비스 베리굳이네요 굳입니다 ㅎㅎ',\n",
       "  '업체에서 보내주신 사진 첨부합니다.\\n사진을 위에서 찍어서 그럴 수도 있겠지만, 사진상으로는 기대보다 좀 작았어요.\\n그리고 오전 11시에 배송 요청드렸는데 오전 9시 25분에 배송완료 문자가 왔더라구요^^;\\n그래도 이 가격에 이 정도면 나쁘지 않다 생각해요.',\n",
       "  '재구매회사에서 늘 이용해요',\n",
       "  '3단 화환 완전 이쁨ㅋ\\n받고나서 어찌나 놀랐는지 몰라요\\n제가 깜빡하고 행사를 까먹어서 급하게 주문 넣었거든요\\n친절하게 상담도 해주시고 주문 하는데 힘들지 않았습니다~',\n",
       "  '아주 좋고 너무 만족스럽습니다',\n",
       "  '처음 주문이라 걱정했는데\\n생각보다 나무가 더 크고 예쁘네요',\n",
       "  '재구매항상 주문하는곳 친절하고 좋습니다',\n",
       "  '빠르고, 좋습니다.',\n",
       "  '빠른 총알배송 감사합니다',\n",
       "  '정확하게 도착했고 꼼꼼하게 신경 써주셔서 좋았습니다.',\n",
       "  '재구매친절한 상담도 감사하고 빠른 배송도 정말 만족스러워요~~ \\n풍성한 화환이 맘에 들어서 항상 이곳에서 주문하는데 늘 한결 같아서 좋아요^^',\n",
       "  '예전 직장 동료 결혼식 때문에\\n화환 주문 넣어 봤습니다~ 꼭 참석 하고 싶었는데\\n부득불 집에 행사가 겹처서 못 가게 됐어요~\\n꽃도 이쁘게 잘 꽂아 주시고 감사합니다~',\n",
       "  '재구매딴데보다 저렴저렴 퀄도 좋아 후기남기네요!! \\n시간, 장소 잘 맞게 지켜주셨고, 총알 배송이라 급했는데도 잘 도착했어요!!',\n",
       "  '재구매항상 만족입니다 번창하세요',\n",
       "  '재구매배송빠르고 상품도 만족스러워요',\n",
       "  '재구매감사합니다 깔끔하게 잘 보내주셔서 제가 너무 좋았습니다\\n마음이 놓이니까 너무 좋았어요!^^',\n",
       "  '재구매재구매했습니다. 계속 구매할게요.',\n",
       "  '재구매제품 배송 모두만족합니다!',\n",
       "  '재구매화환 시간맞춰 잘 배송해주셔서 감사합니다 ^^ \\n결혼식 못가봐서 화환 보냈는데 \\n친구가 넘나리 좋아하네요 ㅋㅋ',\n",
       "  '재구매꾸준히 이용하고 있어요. 다른곳보다 일처리도 잘해주시고 화환도 합리적인 가격이라 만족해요. 한결같이 이슈없이 처리 잘해주십니다. 적극 추천해요.',\n",
       "  '재구매오프라인에선 이정도 화환이면 5만원은 최소 줘야하는데 가격대비 화환 상태도 좋고 친절하셔서 필요시마다 이용하고 있어요. 감사합니다^^',\n",
       "  '재구매빠른 배송 감사 합니다',\n",
       "  '예전에 다른 가게에서 주문 해봤는데요.\\n그때는 특가라고 하면 완전 허접하게 와서\\n결국 2개를 시키든지 다시 시키든지 했었거든요.\\n와 진짜 가성비 짱이네요.',\n",
       "  '재구매시간이 촉박했는데 빠르게 배달해주셨어요',\n",
       "  '재구매빠르게 배송되었어요 만족합니다',\n",
       "  '재구매제품배송 모두 만족합니다!',\n",
       "  '재구매제품배송 모두 만족합니다!',\n",
       "  '재구매제품배송 모두 만족합니다!',\n",
       "  '재구매애경사에 항상 이곳에서 주문하고 있어요',\n",
       "  '재구매빠른배송 감사합니다~',\n",
       "  '재구매항상 잘 이용하고있습니다.',\n",
       "  '재구매경조사에 늘 주문하는제품',\n",
       "  '재구매거래처 직원이 결혼하다고해서 코로나 시국이라 화환으로 보내줬는데 시간약속 장소도  정확하게 배달해주셔서 감사합니다',\n",
       "  '재구매너무 만족해요 급하게 주문했는데 빠르게 처리해 주셔서 감사합니다\\n기본화환인데도 빈곳 없이 꽉차있어서 좋아요!',\n",
       "  '재구매결혼식 일정에 출장이 잡혀있어 부득이 화환으로 대신했는데,\\n리본 문구 오타가 나서 수정한다고 전화드렸는데 빠르게 잘 처리해주시고 당일배송인데 시간 맞춰주셔서 고맙습니다.',\n",
       "  '재구매배송도 빠르고 이뻐요ㅎ',\n",
       "  '재구매빠른 배송 감사합니다',\n",
       "  '재구매저렴하고 빠르고 만족합니다',\n",
       "  '재구매매번 물건전달후 사진찍어 보내주셨는데 \\n이번엔 상품전달전 작업시 사진 찍어보내주셔서 실망했어요.\\n담엔 장소전달후 사진 찍어주심 좋을것같아요.',\n",
       "  '재구매항상 빠른배송고맙습니다',\n",
       "  '재구매지정한 일자, 시간에 잘 배송되었습니다. 그래서 항상 이용하고 있습니다.',\n",
       "  '재구매바쁘기도 하고,, 요즘 날씨가 넘 추워 나가기도 싫더라고요 \\n어디서든 걍 편히 주문할 수 있어서 편해요 \\n알아서 잘 해주시니 대!만!족!!',\n",
       "  '빠른 배송 감사합니다',\n",
       "  '재구매감사합니다 감사합니다 좋은 제품 감사합니다 감사합니다',\n",
       "  '베송 빠르고 저렴하게 잘 샀어요',\n",
       "  '꽃도 풍성한 편이고 가성비가 진짜 좋네요~\\n다음에도 꼭 여기서 주문 넣어야겠어요^^\\n친절하게 상담도 잘 해주시고 만족입니다^^',\n",
       "  '재구매말도안되게빠른 로켓배송-!!',\n",
       "  '저렴하게. 잘 샀어요 배송도 빠르고 받는분이 아주 좋아했습니다!',\n",
       "  '재구매정확한 배송 좋아요',\n",
       "  '재구매엄청 이쁘네요! 이번에도 정말 이쁘게 잘 준비해줘서 대박 맘에들어요 새로 창업에 도전하는 친구도 크게 만족해해서 기분이 좋았어요 강추합니다!!',\n",
       "  '재구매배송빠르고 사진까지 보내주니 안심되요',\n",
       "  '재구매배송빠름 제품 좋음',\n",
       "  '재구매가격은 저렴한데도 풍성하게 잘 만들어 주셔서 감사합니다 \\n화환이 필요할 때면 항상 이곳을 이용하는데 변함 없이 좋은 퀄리티의 화환을 만들어 주시네요~',\n",
       "  '재구매기존에 주문했을때 예쁜 화환으로 보내주셔서 또 \\n주문했어요. 받으신분이 화환 너무 예쁘다고 좋아해주셔서\\n기분이 좋네요. 가격대비 좋았습니다.',\n",
       "  '한달사용기매번 주문하는 곳이에요! 좋습니다',\n",
       "  '재구매항상 알아서 척척 아주만족합니다',\n",
       "  '재구매빠른배송이 넘 좋습니다.',\n",
       "  '재구매잘 구매했습니다~!',\n",
       "  '재구매고등학교 동창 결혼에 화환을 동창들이랑 함께해서 보내게 되었는데 화환 깔끔하게 잘 만들어서 보내주셨더라구요\\n꽃도 싱싱하구 감사했어요',\n",
       "  '재구매잘 받았습니다~~ \\n기본화환인데도 만족해요! \\n풍성하게 잘해서 보내주시기도 했고 정확한 시간에 배송도 감사해요~',\n",
       "  '배송빠르고 인증샷까지 좋습니당',\n",
       "  '재구매쿠팡보다빠른 로켓배송-!!!',\n",
       "  '재구매꽃도 항상 풍성하고 배송도 정확하고 항상 배송완료되는 사진을보면 정말 잘 구매했는다는 생각이 항상드네요 감사합니다',\n",
       "  '재구매사촌동생이 결혼식에 참석을 못해서 화환으로 보내줬는데  사진으로 봤는데 너무나 이쁘네요 감사합니다',\n",
       "  '한달사용기빠르게 배송받았습니다',\n",
       "  '엄마가 엄~청 좋아하시네요\\n번창하세요',\n",
       "  '배송후 문자로 사진도 보내주시고 가성비 좋고 만족스럽네요',\n",
       "  '재구매3단으로 시켰는데도 진짜 화려하고 좋습니다\\n항상 느끼지만 이집은 가성비 끝판왕인듯 싶네요 \\n가격이 진짜 착해요 \\n그렇다고 화환이 부실하지도 않고 별5점 드립니다',\n",
       "  '특가라고 해서 꽃은 허접하게 싸서 보내주시면 어쩌나\\n했는데 완전 실하고 괜찮네요~ 꽃도 풍성하고\\n만족입니다~',\n",
       "  '재구매매번 친절할 업무처리 감사드립니다',\n",
       "  '재구매항상 만족합니다~~~',\n",
       "  '잘 받았어요 부모님꺼 제꺼 두개 했는데\\n모양을 살짝 다르게 해주시는 센스!!!',\n",
       "  '재구매항상 주문하고 정확하고 저렴해서 너무 좋아요',\n",
       "  '친구 결혼식때 화환처음 보내보는데 친구도  감동받고 원하는 시각에 알아서 잘 가져다 주셔서 너무 감사합니다:) 다음에 다른친구 결혼하면 또 주문 할께요❣️',\n",
       "  '재구매사촌동생 결혼식에 못갔는데 조카가 돌잔치를 하는데 ㅠㅠ 평일에 코로나라서 참석이 어려워서 화환으로 마음을 전하게 되었네엽 ㅠㅠ\\n꽃 싱싱하게 잘 배달해주셔서 감사해엽',\n",
       "  '한달사용기빠른배송 감사합니다...',\n",
       "  '재구매정말 항상 꽃이 너무나 신선하고 가성비가 항상좋다고느껴집니다  색상조합도 센스도 있고  가격도 착하고 굿',\n",
       "  '배송도 정확히 잘됐고 이뻤어요\\n그리고 부모님꺼 제꺼 두개 했는데 완전 똑같게 안해주셔서 너무 만족했어요',\n",
       "  '재구매항상 좋은 제품, 빠른 배송 감사합니다. 항상 이용하는 곳입니다. ^^',\n",
       "  '좋습니다. 다만 주문한 문구 일부가 빠졌어요 ㅠ',\n",
       "  '어떤 일이든 꽃을 보내주면 더 잘 풀리는 것 같네요\\n잘 보내주셔서 감사합니다\\n다음에 주문할떄 참고할게요',\n",
       "  '이시국에 샵 개업하는 친구가 있어서 보냈어요.\\n화환 싫다고하더니 보내주니 참 좋아라하네요ㅎㅎ\\n칼배송 감사합니다',\n",
       "  '한달사용기지인 오픈 축하화한 좋아요',\n",
       "  '한달사용기재구매배송빠르고 좋아요.',\n",
       "  '재구매급하게 주문했는데 빠르게 잘 받았습니다.',\n",
       "  '재구매개업한 지인 ^^ \\n축하하는 마음 듬뿍 담아서 화환보냈습니다 ㅋ\\n특가라 다른곳보다 가격 저렴해요 \\n꽃 풍성해요',\n",
       "  '친절하고 정화한 배송 감사드립니다',\n",
       "  '배송도 빠르고 정확하게 잘배송되었습니다',\n",
       "  '착한가격에 화환 아주 잘 샀어요!\\n기존 거래처에서 사던거 반값정도인데 최고네요.\\n배송도 정확하고 좋아요~',\n",
       "  '재구매근조화환 축하화환 꽃배달 개업화분 결혼식화환 장례식조화 장례 결혼 꽃다발 생일꽃바구니배달',\n",
       "  '한달사용기재구매항상만족하고 좋아요. 빠르고',\n",
       "  '지인추천으로 이용해써요 가격도 적당하고 화환\\n퀄리티도 너무 갠찬코해서ㅈ가성비 넘 만족했어요\\n담에 또 이용하께여~판매자님 친절하시구~~^^',\n",
       "  '재구매배송이 빠르네요. 만족합니다',\n",
       "  '재구매배송이 빠르네요. 만족합니다',\n",
       "  '지인추천으로 이용해는데  퀄리티도 갠찬코 가성비\\n넘 만족스럽구 잘 이용했네요 판매자님 친절하시구요\\n화환두 풍성하고 좋더라구요!',\n",
       "  '아는언니 결혼해서 보내줬어요ㅎ 여기 구성이 예쁘고 가성비좋아서 구입했는데 역시나 만족입니다 싱싱하고 잘보내졌네욯',\n",
       "  '재구매배송정확하고 빨라서 좋습니다',\n",
       "  '어떤거 보내줄까 하다가 시간이 너무 가서 급하게 주문 햇어요\\n약간 고민 되긴 했지만 그래도 잘 고른것 같아서 안심입니다',\n",
       "  '재구매배송정확하고 좋아요 항상 이용하고 있어요',\n",
       "  '재구매제품배송모두 만족합니다!',\n",
       "  '급하게 주문했는데 응대 잘해주시고 제시간에 잘보내\\n주셔서 완전좋았어요 ~ 너무 퀄좋은걸로 !! 역시 믿고 \\n재주문했는데 만족스러워요',\n",
       "  '빠르고 정확한 배송 감사합니다',\n",
       "  '전달완료 사진 보내준건 좋았지만 보내는 사람없이 축하메세지만 가서 전화해서 항의함..먼저 전화하지 않았으면 전화도 안왔겠죠.  담날에 리본교체하는걸로 수습됨.',\n",
       "  '조카 결혼식에 가족이름으로 보냈네요ㅎ 조카결혼 바랬는데 잘되서 특별히 보냈어요 아주이쁘고 싱싱한걸로 잘보내주셔서 만족합니다ㅎ',\n",
       "  '재구매항상 애용하고있습니다~~',\n",
       "  '재구매필요할때마다 35플라워 주문하는데 만족해요',\n",
       "  '재구매배송도 빠르고 물건도 좋아요',\n",
       "  '정확한 배송 감사합니다~',\n",
       "  '개업 축하 선물로 보냈는데 정확하게 시간 잘 지켜주고 \\n가성비 좋게 이용했어요  풍성하니 고급지고 만족합니다',\n",
       "  '한달사용기배송빠르고 좋습니다.',\n",
       "  '한달사용기재구매가격 저렴하고 시간 정확해서 좋아요. 여기서만 주문하게 되네요.',\n",
       "  '어머님께 서프라이즈로 보내드렸어요~~^^ 너무 좋아하시네요 감사합니다',\n",
       "  '재구매빠른배송 만족합니다.',\n",
       "  '재구매예쁜화환 잘 받아 놓구선 후기가 좀 늦었네요^^\\n시간 맞춰 잘 배송되었고 꽃도 신선하고 예뻤어요~',\n",
       "  '항상 빠르고 정확한배송. 사진피드 감사해요.',\n",
       "  '빠른배송너무감사합니디 ㅎㅎ',\n",
       "  '재구매친한 형님 결혼식에 보내드렸어요 코로나라 가지못해서 온라인 배달 했는데 요청드린 시간에 잘보내주셨네요 좋습니다ㅎ',\n",
       "  '재구매배송도 빠르고 저렴하지만 고급스러워요~항상 애용합니다~^^',\n",
       "  '재구매부모님께서 급히 부탁을 하셨어요 결혼식이 있는데 화환을 하나 해야하신다구~ 그래서 제가 대신 배달신청을 했습니다~ 늦게 주문을 해서 직접 전화해서 여쭤보고 주문했는데 너무 친절하시더라구요!!! 화환도 시간맞춰서 잘 도착했다고해요',\n",
       "  '한달사용기빨랐고 좋았습니다!!',\n",
       "  '올바른배송 감사합니다.',\n",
       "  '밤 늦게 주문하긴 했지만 다음날 오후 1시 배송은 좀 심하네요. 게다가 배송이 되면 사진이 보통 오기 마련인데, 제가 확인차 연락 드리니 그제서야 사진을 보내줍니다.',\n",
       "  '재구매배송빠르고 제품좋아요',\n",
       "  '제시간에 잘보내주시고 응대도 친절하셔서 기분좋았구\\n가성비 화환도 너무 좋더라구요 잘 이용 했답니당 만족용',\n",
       "  '재구매대박대박이자나요~\\n여기 앞으로 단골 되야겠어요\\n퀄리티 정말 뒤쳐지지 않구요\\n친절상담스',\n",
       "  '재구매항상 이용합니다~~! 도착해서 사진까지 보내주셔서 너무 좋아요',\n",
       "  '재구매물건도 좋고 배송도 빨라요',\n",
       "  '재구매만족합니다 계속 이용중입니다',\n",
       "  '빠른 배송 감사합니다....',\n",
       "  '재구매잘받았습니다\\n 결혼식에 보냈는데 \\n도착하고 나니 뿌듯 ㅎㅎ\\n퀄이 넘 좋아요',\n",
       "  '개업하는 동생한테 보냈어요. 꽃 싱싱하고 문구도 세심하게 잘 적어주셨네요. 넉넉하게 전달해도 된다고 했는데 일찍 배송 되었네요. 감사합니다',\n",
       "  '재구매항상 빠르고 정확히 배송해주셔서 감사합니다',\n",
       "  '재구매자주이용하는데 항상 최곱니다',\n",
       "  '자주 이용하는곳 편하네요',\n",
       "  '곷다발이랑 바구니랑 어떤걸 보낼지 한참 고민  햇네요 그래도 잘 골랐다는 생각이 드네요 마음에 들었어요 감사ㅐ요 좋은걸 보내주셨네요^^',\n",
       "  '재구매항상 여기에서만 구매하고있어요!빠른대응과 신속한 배송해주셔서 감사합니다!',\n",
       "  '잘 받았습니다! 감사합니다!^^\\n다만 리본 글이 정렬이 맞지 않는 부분이 좀 아쉬웠네요..',\n",
       "  '히히 정말 굿 퀄리티자나여?\\n이건 정말 비교도 안되영!!\\n사장님도 친절스~~많이파세요',\n",
       "  '빠른 처리 감사합니다',\n",
       "  '배송이 다른 날짜에되었네요',\n",
       "  '재구매항상 빠르게 배송해주셔서 매번 이용하고 있어요~~!',\n",
       "  '재구매잘 도착한거 확인했습니다. 감사합니다.',\n",
       "  '재구매좋은 가격에 꽃도 좋고 사장님께서 신경을 많이 써주셔서 넘 감사했어요!!\\n다음에도 또 주문하겠습니다!',\n",
       "  '재구매어제 결혼식이 12시 였는데, 11시경 배송 문자와 사진 잘 받았습니다. 항상 축하 & 근조화환 필요 시 이용하고 있는데 만족합니다.',\n",
       "  '재구매아주좋아요 여기만 이용합니다',\n",
       "  '꽃바구니 당일 급하게 주문했는데\\n시간에 맞게 잘 도착했어요\\n받는분도 아주 만족해하십니다\\n좀 아쉬운게 꽃바구니 배달전에\\n사진을 미리볼수 있었으면해요\\n오늘 배달된 꽃바구니는 \\n아주 만족스러웠습니다^^',\n",
       "  '재구매항상 믿고 이용하는 곳입니다!! 정확하고 빠른배송 감사합니다',\n",
       "  '재구매경조사때 자주 이용하는곳인데 언제나 스피드 배송과 배송완료 사진을 칼같이 보내줘소 좋다',\n",
       "  '재구매빠른배송이굿입니다..',\n",
       "  '우와~ 부랴부랴 주문했는데\\n정말 빨리와서 한번 놀래구용~\\n너무 이쁘게 해주셔서 두번 놀랬어요',\n",
       "  '축하화환 예쁘고 화려하네요. 타업체꺼는 6-7만원이나 줘야 이렇던데 저렴하게 가성비 있는 제품 잘 구매한듯 해요 뒷처리도 잘 해주셧어요!',\n",
       "  '장사 시작하는 친구가 생겨서 보냈어요 잘 되어야 할텐데 하는 기원을 담아 보냅니다 정말 잘되야할텐데요',\n",
       "  '재구매여러번 구매했는데 이번엔 리본에 다른 사람 이름붙여 가서 혼선이 있었네요. 잘 확인하시고 보내주세요. 젤중요한 보내는 사람 이름을 딴사람으로 보내니 ㅜㅜ 그동안 다른 아이디로 많이 주문했었는데 신뢰가 조금 깨지네요',\n",
       "  '빠른배송조아요~가격도젤싼듯',\n",
       "  '깨끗하고 싱싱해요. 꽃들도 풍성하니 전혀 걱정할 필요가 없었네요. 시간이 맞게 배달해주셔서 식전에 잘 보고 결혼식 볼 수 있었어요.',\n",
       "  '한달사용기항상 애용합니다. 근데 요즘 사진이 문자로 안오네요 ㅠㅠ',\n",
       "  '재구매배송도 빨리해주시고 화환도 예쁘고 싱싱한 꽃들로 풍성하게 꾸며주셔서 기분좋게 잘 받았습니다! 담에 필요할 일 있음 또 시킬께요!',\n",
       "  '빠른 배송 좋습니다  만족해요',\n",
       "  '재구매잘 받았습니다 이번엔 제대로 배송되었겠죠? 한번 잘못 배송되니 불안하네요. 사진은 잘 받았습니다만 본인에게 확인은 아직 못했네요',\n",
       "  '재구매오랜만에 연락 닿은 친구가 사업을 시작했다는 이야기 듣고.. 잘되었으면해서 화환 배달을 해주렀습니닷!\\n사장님께 시간 알려드렸는데 잘 맞춰주셨내욥!',\n",
       "  '재구매지인 결혼식에 보냈는데 너무 좋아합니다 꽃도 이쁜걸로 풍성하게 해주셨어요 꽃이 생각보다 오래가서 좋아요 다들 이쁘다고 좋아합니다 배달 시간도 늦지 않게 일찍 보내주셔서 감사합니다 강추',\n",
       "  '재구매친절하고 배송좋고 좋앙ᆢㄷ',\n",
       "  '재구매어려운시기라 걱정하면서 개업하는 친구가 있어서 축하해주기위해 화환을 보냈습니다. 정말 잘되기 위한마음으로 축하해줬네요. 화환도 일찍 잘 도착했고 큼지막하니 좋더라구요',\n",
       "  '재구매전 직장동료분께서 타 지역으로 가셨는데 아기가 돌이라해서 사무실분들이랑 같이 화환 하나 선물로 드렸는데 배송 잘해주셨어용!',\n",
       "  '재구매빨리 배송도서 좋아요',\n",
       "  '재구매항상 배송하는 곳이에요',\n",
       "  '시간 촉박했는데 시간 잘 맞춰서 잘 배달했네요 덕분에 잘 해결되였습니다.화환 너무 풍성하고 싱싱하네요 문구도 이쁘게 잘 적어줬네요 감사합니다',\n",
       "  '재구매오랜친구가 결혼을 해서 화환도 같이 보내줬어요. 시간도 상태도 좋게 와서 만족스러워요 많이 파세요~',\n",
       "  '정말 감사해요 얼마나 걱정 햇는지 모르겟어요 갈수 없어서 보낸건데 잘 보내주셔서 정말 감사합니다 정말 다행이었어요^^',\n",
       "  '재구매배송 너무 빠른거 아닌가유 ㅋㅋ\\n완전 좋아유~~\\n특급배송이네용',\n",
       "  '사진과 같이 화환 잘 받았어요',\n",
       "  '재구매꽃배달 할일이 자주 있는편이라 주문을 여러곳에 해봤는데 여기만한곳이 없는거같아요. 그래서 이번엔 화환보낼일이 있어서 화환보냈습니다~ 시간에 잘 맞춰 도착했어요!!',\n",
       "  '받는 분이 아주 좋아했어요',\n",
       "  '정말 너무 만족스럽습니다! 예식 전날 밤에 결제 했는데 아침 9시에 확인 전화 바로 주시고 예식 시작 하시간 전에 잘 가져다 주시고 저는 사정이 생겨서 참석을 못했는데 너무 뿌듯했네요^^ 다음번 경조사도 여기입니다!',\n",
       "  '빠르게 해결해 주셔서 감사합니다',\n",
       "  '한달사용기재구매항상 감사합니다.\\n좋은 가격으로 구매했네요.',\n",
       "  '가격 저렴하고 배송도 빠르네용',\n",
       "  '재구매시간전에미리배송해주시고,\\n감사합니다~~',\n",
       "  '배송 빠르고 이뻐요',\n",
       "  '튼튼하고 날짜도 딱 맞춰서 배송돼서 너무 좋았습니다.',\n",
       "  '이쁜 꽃 감사합니다 ^^',\n",
       "  '재구매결혼하는 친구가 있어서 친구들 모임에서 화환을 보내줬어여~ 지난번에 제가 이용했었는데 너무 예뻤어서 이번에도 35플라워 이용했구요^^ 화환보내주니 친구가 너무 좋아했습니다~',\n",
       "  '재구매친절한 안내 빠른 배송 늘 이용중입니다',\n",
       "  '재구매빠른배송항상 감사합니다',\n",
       "  '재구매총알배송과 예쁜화환 감사해요\\n믿고 이용합니다',\n",
       "  '사진과 같이 괜찮았어요',\n",
       "  '재구매잘 받았다고 들었고 이번에도 꽃이 좋아서 만족합니다~\\n저번에도 급하게 요청드렸던것같은데 이곳이 빨라서 이곳에서만 주문하게 되네요~\\n역시 배송 진짜 빠르시네요~',\n",
       "  '잘 도착 햇다는 연락을 받았어요 잘 보내져서 다행입니다 항상 꽃을 보내게 되면 기분ㅣ 좋아지네요 감사해요^^',\n",
       "  '이집꽃집은 처음주문해 보는데 만족합니다.서비스도 좋고 가격도 저렴하고 약속시간도 잘 지켜줘서 별 5개 드립니다',\n",
       "  '빠른배송감사드립니다\\n언제나 믿고 이용할수있는 제품',\n",
       "  '가게에 딱 맞는 문구를 주문한대로 제작해서 배달 받았어요. 빠른 처리 완전 좋네요! 직접 가서 주문하지 않아도 되고, 직업상 주문할 일이 많은데 자주오겠습니다',\n",
       "  '코시국이라 직접 찾아가지는 못했고 이렇게 꽃으로 마음 전해봤네요ㅎ\\n개업 축하용으로 구매해봤는데 좋네요ㅎ\\n다음에도 잘 부탁드립니다ㅎㅎ',\n",
       "  '재구매빠른배송 잘 받았습니다',\n",
       "  '한달사용기재사용하는건 알았지만  시든 꽃은  교체라도 해주셨으면얼마나 좋았을까요',\n",
       "  '재구매빠른배송과 사장님의 친절함에 감동했습니다\\n급하게 주문을 해야했음에도 안내를 잘해주셔서 감사했습니다',\n",
       "  '재구매항상 잘 이용하고 있습니다^^',\n",
       "  '빠른배송 감동이에요 ㅠㅠ',\n",
       "  '처음에 여기 알게된 것도 배송이 빠르단 후기보고 시켜봤는데 진짜 빨리해주셔서 좋았던 기억이 있어요. 개업하는 소식 늦게 전해준 지인에게 선물로 화환 시켜 보냈는데 이번에도 빨리 보내주셔서 감사합니다 :)',\n",
       "  '맘에 들어요~! 좋아요',\n",
       "  '예쁜화환감사합니다.🤗🤗🤗🤗👍👍👍👍',\n",
       "  '싸게 잘 샀어요 \\n다음에 또 이용할게요',\n",
       "  '재구매친구의 음식점 오픈인데 거리가 좀 있어서 직접 가보지는 못해서 화환으로 보내줬습니다. 화환 잘받았다고 고맙다고하네요^^',\n",
       "  '빠른 배송감사합니다.3단으로 주문했는데 가격도 저렴하고 화환 퀼리티도 좋고 넘 만족합니다 다음에 또 주문할게요',\n",
       "  '재구매빠르게 잘 도착했네툐',\n",
       "  '축하하러 가야 할 일이 있었는데 몸이 아파서 가보질 못했죠. 꽃다발 하려다가 화환으로 보냈는데 저만 화환 보냈다고 감사하다고 연락왔네요',\n",
       "  '재구매배송 잘 받았습니당 ㅎㅎ 시간도 잘 맞춰주시고 화환상태도 좋네요! 다른곳에서 온거보다 더 풍성해보이고 좋아요!',\n",
       "  '재구매친구가 가게 개업은해서 멀해줄까하자가 화한 하나 보냈는데  너무 마음에들어 하더라구요~이전에도 잘보내주셔서 또왔습니다! 다음달에 결혼식때도 보낼예정인데 그때도 잘부탁드립니다!!',\n",
       "  '재구매배송 빠르고 너무 좋습니다.  감사합니다.',\n",
       "  '한달사용기재구매항상 여기서 시켜요',\n",
       "  '정말 아슬아슬하게 주문 햇떠라구요 그래도 잘 보내져서 다행이에요 감사합닏 정말 잘처리해 주셨어요^^',\n",
       "  '재구매빠른배송 만족합니다.',\n",
       "  '경사 또는 부고시 매번 이용하는데\\n만족도 100%입니다.\\n\\n처음엔 친구소개로 알게되어 일생기면\\n주문하고 톡으로도 알림오고\\n문자로도 사진 보내주셔서 정말 좋습니다.\\n\\n다음에도 또 주문할 의향 있습니다.',\n",
       "  '잘받았습니다 풍성하게 잘왔어ㅇ',\n",
       "  '재구매빠르게 잘 받았습니다.',\n",
       "  '빠른배송도 화환모양모두 마음에들어요.감사합니다.',\n",
       "  '빠른배송도 화환모양모두 마음에들어요.감사합니다.',\n",
       "  '재구매화환을 주문 해봤습니다.  급하게 주문 하느냐 시간안에 도착 하려나 걱정 했는데 잘 도착 했더라구요. 가격도 좋고 만족스러웠어요',\n",
       "  '재구매엄마가 급하게 대신좀 주문해달라고 해서 여기서 했는데 \\n너무 감사했네요 ㅎㅎ\\n화환이란게 너무 부실하면 안 보내니만 몬한데 여기는 \\n풍성하고 꽃도 싱싱해서 엄마가 체면 제대로 섰따고 하시네요 ㅎㅎ\\n시간 약속도 아주 철저해요~\\n믿고 주문하는 업체 좋아용~',\n",
       "  '항상 여기서 시켜서 이용하고있어요 굿',\n",
       "  '맘에 들어요~\\n너무 좋은데요\\n` 담에 또 주문할게요!!',\n",
       "  '재구매거래처 결혼식인데 화환을 보내야해서 주문했습니다. 여기저기 주문해봤었는데 여기서 주문했던게 가장 만족스러워서 재주문했네요. 이번에도 잘 해주셔서 감사합니다.',\n",
       "  '저렴한가격이지만 가성비가 좋은 화환이네요~\\n신선한 꽃을 제시간에 이렇게 빨리 배달받을 수 있다니 완전 굿이엇습니다',\n",
       "  '재구매항상 시간 잘 맞춰서 잘 배송해주세요\\n직원분들 항상 친절하시구요\\n앞으로도 화환은 무조건 여기로 할 예정입니다!',\n",
       "  '재구매배송도 빠르고 제품도 좋아요',\n",
       "  '재구매예전에 결혼식에 보냈던적이 있는데 직접 봤을때도 옆에 있던 화환보다 퀄리티 좋아보여서 만족했었어서 이번에도 주문했어요^^ 못봐도 믿고 주문했는데 빠른배송 해주셔서 감사합니다~',\n",
       "  '재구매매번이용해요 싸고 좋아요',\n",
       "  '재구매물건도 좋고 배송도 빨라요',\n",
       "  '빠르고 좋아요 ㅎㅋ',\n",
       "  '지정한 날짜에 맞춰 배송해주셨네요',\n",
       "  '진짜 꽃배달 서비스업체 너무 많아서 찾다가\\n알게 되서 시켜봤는데 만족스럽습니다.\\n근데 4시예약 했는데 3시에 왔네요^^;;\\n진짜 총알배송..나중에 꽃 필요하면 여기서 할게요!감사합니다',\n",
       "  '재구매잘 받았습니다.. 감사합니다..',\n",
       "  '화환은 처음 주문해봤는데 만족스럽습니다 ㅎㅎ',\n",
       "  '재구매늘 신속하고 정확해서 여기만 이용합니다',\n",
       "  '재구매편하게 잘 주문했어요 ! \\n회사일 관련해서 일생기면 추가로 주문할게요 ! \\n가격도 좋은것같고 배송이 빨라서 좋았어요 !',\n",
       "  '지역이 먼 친구가 결혼했어요.\\n코시국이라 직접 가지는 못했고 화환으로 마음 전달했습니다.\\n시간맞춰 잘 보내주셔서 감사해요',\n",
       "  '한달사용기재구매항상 주문하는 곳이에요',\n",
       "  '빠른처리 감사합니다',\n",
       "  '재구매친구가 식당개업을 크게 했는데 일반 나무보다는 화환이 더 좋을 것 같아 구매했어요. 리본도 요청대로 잘 써주시고 화환도 깨끗하고 풍성해서 만족해요!',\n",
       "  '재구매업체 사장님 따님 결혼식 으로 수문하였어요. 꽃이 풍성하니까  화환이고급스럽게 배송되어  맘에 들더요.. \\n빠른배송도 감사드립니다. 재구매하러 올께요.',\n",
       "  '한달사용기빠르고 정확한 배송에 감사드립니다',\n",
       "  '배송 빠르고 좋아요!',\n",
       "  '정말 빠르게 받았어요~배송 부탁받은건데 보내주신분이 만족하셨어요^^',\n",
       "  '한달사용기재구매원하는 시간에 원하는 문구로 배달해주셔서 매번 행사때마다 쓰고 있어요 만족합니다.',\n",
       "  '재구매어제 결혼식에 화환을 보냈는데 늦지않게 잘 갖다주셔서 좋았네요. 가격도 저렴한것 같아요.만족합니다',\n",
       "  '한달사용기저번에 시켰을땐 괜찮았는데 이번엔 진짜 너무 별로였어요 보내고도 민망했어요ㅠ',\n",
       "  '재구매빠른배송감사합니다.',\n",
       "  '정확한 배송 좋아요!~~',\n",
       "  '재구매너무 좋아요^^ 항상 잘 이용하고 있습ㄴㅣ다!!',\n",
       "  '재구매항상 이용하고 있습니다!\\n인증샷까지 최고!',\n",
       "  '재구매빠르고 정확한 배송감사합니다',\n",
       "  '빠른배송 감사합니다',\n",
       "  '재구매빠른배송 좋았어요..',\n",
       "  '재구매빠른배송 좋았어요..',\n",
       "  '재구매빠른배송 좋았어요..',\n",
       "  '재구매빠른배송 좋았어요..',\n",
       "  '재구매빠른배송 좋았어요..',\n",
       "  '재구매빠른배송 좋았어요..',\n",
       "  '재구매저렴한 가격인데도 싱싱한 꽃들로 가득 채워주셔서 너무 감사드려요 ~ 다음에도 여기를 이용해야겠어요^.^',\n",
       "  '재구매매번 종류별로 주문하고있슨데 항상 미리 확인하고 정확하게 배송해주셔서 감사합니다!',\n",
       "  '오늘 절친이 샵 오픈했어요.\\n친구들 계모임에서 총무담당이라 제가 주문했는데 잘받았다고해요. 칼배송 굿!!',\n",
       "  '재구매배송이 빠르네요. 만족합니다',\n",
       "  '재구매이번에도 필요한 시간에 맞춰 잘 배송해줘서 고맙습니다\\n꽃이 싱싱하고 좋아서 매번 만족하고 있습니다\\n다음에 또 주문할게요',\n",
       "  '재구매매번 편하게 잘 이용하고있습니다',\n",
       "  '토요일 친구가 개업하는데 일이 있어 아직 못갔어요.\\n미안한마음 화환에 담아 보냈는데 다행히 넘 좋아하네요~ㅎㅎ',\n",
       "  '중간에 급히 수정요청도 드렸는데 흔쾌히 수정해주셔서 감사해요.\\n자꾸 이것저것 귀찮게해드려는데 넘 친절하셔서 좋았어요~',\n",
       "  '한달사용기모두가 만족합니다.',\n",
       "  '잘 전달되었겠죠 급하게 주문했는데 친절하시고\\n감사합니다',\n",
       "  '재구매조기회 동생 결혼으로 화환 주문했어요.  빠른 배송 감사드리고 꽃이 싱싱한거 보니 너무 에쁘더라구요.  화환 꽃 풍성함도 맘에들어요 ㅋ',\n",
       "  '재구매항상  경조사때  이용하는 곳이에요.  주문하면  다시한번  확인 전화 주시고  배송도  안전하게 끌끔하게  배송해줌. 계속 이용할 마음 있음.',\n",
       "  '재구매제품 배송 모두만족합니다!',\n",
       "  '재구매신속 정확 항상 애용하는...',\n",
       "  '재구매항상 편하게 잘쓰고있습니다',\n",
       "  '동생이 가게 오픈햇 개업하는 분위기 낼겸 보냈어요.\\n확실히 가게앞에 화한이 있으니 누가봐도 개업한티 팍팍~\\n감사합니다~',\n",
       "  '한달사용기총알배송 감사해요 다음에도 부탁',\n",
       "  '재구매축하할 일이 생겨서 급하게 주문했는데 상태 엄청 좋고 배송도 신속하니 넘 맘에 들어요 전반적으로 가성비도 좋고 강추합니다 ㅎㅎ',\n",
       "  '재구매지인분이 이번에 학원을 개원하게 되었어요\\n평소에 잘 챙겨주시고 그르셔서 보답할 방법을 찾다가\\n화환을 보냈는데 너무 좋아하셔서 저도 만족해요',\n",
       "  '재구매요즘 경기가 살살 풀리고 있어서 대박나라고 보내줬어요 ㅎㅎ\\n기다리다가 경기 풀리는거 보고 개업한다고 했는데 드디어\\n개업한다고 하더라구요 \\n보니깐 제가 보낸 화환이 젤 실하네요 ㅎㅎ',\n",
       "  '재구매배송시간 정확하고 화환 가성비 최고에요\\n타지역으로 보내는 게 처음이라 걱정했는데 \\n정말빠르고 사진까지 보내주시니 좋아요',\n",
       "  '재구매빠르고 정확히 배송해 주셔서 매번 사용합니다',\n",
       "  '재구매풍성하고 실한 화환으로 여기서 화환 보내고는 한번도\\n실망한적이 없어서 꾸준히 이용하고 있네요 ㅎㅎ \\n가격도 거품없고 화환도 진짜 신경써서 잘 만들어서\\n보내주시더라구요 ㅎㅎ',\n",
       "  '거래처에 보내는거라 신경 많이 쓰였는데..\\n잘 챙겨서 보내주셔서 감사해요. 또 이용할께욥!!',\n",
       "  '재구매개업식! 장례식! 전 모두 여기서 보내요~ 가격좋고! 품질좋고! 빠르고!\\n진짜 최고입니다^^',\n",
       "  '재구매인터넷으로 쉽게 구매할수있어서 좋네요\\n꽃은 매번 이 스토어 구매하게되네요\\n받는분께서 잘 받았다고 연락받았어요',\n",
       "  '재구매당일인데도 배송 정확하고 빠르게 와서 만족해요 ㅎㅎ 여기서 자주 주문해야겠어요 ㅎㅎ 꽃도 싱싱함 굿굿',\n",
       "  '재구매꽃도 싱심학고 풍성하게 좋고 리본도 잘써주시고 시간도 딱 맞춰 도착했습니다.\\n거품있는 화환이 아니라 가격 정말 착해서 좋습니다 신경써 주셔서 감사합니다',\n",
       "  '빠른배송 . 감사합니다. .항상 잘이용하고 있습니다^^',\n",
       "  '재구매빠르게 배송되었어요',\n",
       "  '한달사용기hayhshsgsgsgeheh',\n",
       "  '한달사용기재구매배송이빨라서좋았습니다',\n",
       "  '재구매지인 개업축하때문에 애용하게 되었어요 기대이상으로 넘 맘에 들어서 담에도 또 이용 할 계획입니다 굳이에요~~!',\n",
       "  '평일인데도 결혼하는 같은 팀내 동료.\\n하필이면 제가 팀에서 막내라 화환을 보내야하는데,\\n그걸 너무 늦게 알았던거에요. 당연히 보냈을줄 알았는데 안보냈더라구요. 급하게 부랴부랴 주문했는데 다행히도 예식시간전에 잘 도착했습니다.\\n급한주문인데도 잘 맞춰주셔서 감사합니당',\n",
       "  '한달사용기재구매빠른배송좋앗습니다..',\n",
       "  '재구매항상쓰는곳임~~~~~~~~',\n",
       "  '생각보다 신경써서 잘 보내주시는것같아요.\\n온라인이라 반신반의했는데 넘 괜찮은데요? 강추해요!',\n",
       "  '재구매선물로 오늘의 꽃바구니 주문했는데\\n괜찮았어요~~',\n",
       "  '잘 받았습니다 그 밖으로 노란꽃이 없어서 아쉬웠어요\\n다른건 다 좋앜씁니다',\n",
       "  '재구매좋아요 좋아요 좋아요 ㅎㅎ',\n",
       "  '다른곳에서 구매하다가 여기서는 처음 구매해봣어요 ~ 이전에 비슷비슷할줄알고 조금더 싼데로 했다가 완전 피받네요 가격차 진짜 얼마안나더라도 여기처럼 품질좋은데로 하는게 맞는것 같아요~~ 담에 또 구매하러올게요',\n",
       "  '재구매배송빠르고제품도좋아요',\n",
       "  '재구매배송이빨라요 믿고 구매합니다',\n",
       "  '굿 👍👍👍👍굳',\n",
       "  '재구매새언니 생일이라서 가족 식사자리에 배송 시켰는데… 부끄러워하면서도 좋아하는 새언니 보니까 주문하길 잘했다 생각이 들더라구요~\\n시간 맞춰 예쁘게 배송 되었어요.',\n",
       "  '재구매여기 화환 진짜 실해요\\n시중에서 한번 주문해보고 너무 실망해서 온라인으로 \\n주문해봤었는데 여기 너무 괜찮더라구요\\n한번 이용해보고는 맘에 들어서 이제 여기만 이용하고 있어요',\n",
       "  '처음 주문한건데 평이 좋은덴 다 이유가 있나봐요.\\n저 역시 만족입니다. 친절하시고 배송도 빠르고 굿!',\n",
       "  '화환이라고 해서 가격이 비쌀까봐 걱정이 많았는데\\n가격도 괜찮고, 퀄리티도 좋네요 \\n친구가 디저트카페 개업하는데 시간 맞춰서 보내주셨어요',\n",
       "  '재구매빠른배송 감사합니당',\n",
       "  '재구매빠른배송 감나합니당',\n",
       "  '시간은 잘 맞취 주셨는데요 \\n정말 꽂상태는 완젼 ㅡㅡ별루 였습니다 \\n새출발하는결혼식 화원인데  \\n아무리 재활용이여도  그렇쵸  그나마  생화 한가지(소국) 몆개 있는것이  시들어서 있는 상태 \\n너무했네요  창피했어요',\n",
       "  '맘에들어요친절하고배송도빠르고요',\n",
       "  '한달사용기가성비초초초대박임초강추',\n",
       "  '재구매퇴사하는 직원이 잘되길 바라는 마음에 사무실 동료들이랑 같이 돈 모아서 화환 선물 주었슴당!\\n고맙다고 울먹거리기도해서 ㅠㅠ \\n화환이 이렇게 좋은 의미였네욤',\n",
       "  '친구 결혼식이 있어서 급하게 주문했는데요\\n완전 빠른배송에 예쁘게 보내주셨네요\\n퀄리티도 짱짱 !! 감사합니다',\n",
       "  '재구매빠르고 저렴해서 항상 이용합니다',\n",
       "  '재구매배송이 완전 빨라서 일단 핵만족입니다~~갑자기 주문을 했지만 엄청나게 빠르게 도착해서 정말 쫄앗네요 늦으면 어쩔까해서 ㅠㅠ 정말 감사할따름이네요 ~~잘해주셧으니 저도 담에 또 구매하러 오겟습니다',\n",
       "  '빠른배송감사합니다.',\n",
       "  '재구매급하게 주문했는데 너무 잘 도착해서 너무감사드려요\\n화환이 완전 크고 이뻐서 너무 잘 주문한듯해요 ~\\n만족합니다 ㅎ 자주 주문할게요~',\n",
       "  '재구매개업한 지인에게 힘좀 실어주기위해서 보내드렸습니다\\n35플라워 사장님께서 꽃 풍부하고 신선한 꽃으로 깔끔하게 전달해주셔서 매번 주문합니다\\n지인이 엄청 좋았다고 화환이 들어와서 기분이 업! 되었다고 하더라구요 ㅋㅋ\\n우리 지인 사업 대박났으면 합니다^^',\n",
       "  '재구매배달잘됐어요\\n빠른배송감사해요',\n",
       "  '감사합니다 감사합니다 좋은 제품 감사합니다 감사합니다',\n",
       "  '재구매여러번 이용했는데 항상 친절하게  잘 대응해 주셔서 감사합니다. 근조화환을 보낸다는게  잘못해서 축하하환을 보낼뻔한 아찔한 일이 있었는데 친절하게 바로 대응해 주셔서 믿음이 갑니다',\n",
       "  '빠른배송 \\n고맙습니다',\n",
       "  '빠른배송. 빠른배송입니다',\n",
       "  '재구매늘 이용하지만 빠르고 저렴하게 느껴집니다~',\n",
       "  '재구매배송도 빠르고 약속한 시간에 맞춰 잘 배송되었네요~~상담도 친절히 해주시고 화환도 꼼꼼하고  풍성하니 좋네요~~',\n",
       "  '재구매배송빠르고 제품도좋아요',\n",
       "  '재구매배송빠르고 제품도좋아요',\n",
       "  '한달사용기잘 받았고 감사합니다 다만 지역에 따라 추가 요금을 달라고 해서 조금 아쉬움이 있었습니다',\n",
       "  '한달사용기재구매빠르고 좋아요~ 단골입니다. 믿고 구매합니다',\n",
       "  '재구매잘 받았습니다 ~~',\n",
       "  '재구매가격도 괜찮고 시간맞춰서 배송 딱 해주셨네요 \\n믿고 주문 할 수 있어서 너무 좋은거 같아요 감사합니다',\n",
       "  '재구매아무래도 이런거는 시간약속이 생명인데 역시나 \\n시간약속 철저하게 지켜서 보내주시네요 \\n화환도 예쁘고 진짜 풍성해요~',\n",
       "  '빠른 배송과 사진 전송으로 아주 만족합니다.\\n다음에도 한번 더 이용할 생각입니다.',\n",
       "  '빠른 배송 감사합니다.',\n",
       "  '특가중이라 가격도 저렴하고 배송도 빠르고 너무 좋네요',\n",
       "  '지인 분 가게 개업 해서 급하게 주문했는데도 정말 괜찮네요!\\n급할땐 항상 여기 이용해야겠어요 \\n퀄도 좋고 시간 지켜서 오니까 믿음가요! 번창하시고용! \\n담에 또 이용하겠습니다!',\n",
       "  '재구매배송도 빠르고 좋아요',\n",
       "  '재구매회사 퇴사하궁 친구가 어렵게 카페를 차리게 되어가지궁! 화환을 몰래 보내주었는뎅 ㅎ퇴근하고 친구 카페 갔더니 ㅋㅋㅋ 완전 좋아해용 ㅎㅎ',\n",
       "  '재구매여기 정말 가성비 미쳤습니다\\n화환도 해야하고 따로 금앱도 해야 해서 부담일때 딱입니다\\n그렇다고 딱히 상품질이 떨어지는 것은 아니라 최고 입니다 감사합니다',\n",
       "  '재구매시간도 잘 맞춰서 도착했어요! 꽃도 이쁘고 싱싱해서 화사해보이고 좋더라고요~ 화환 정말 가성비좋게 잘한것같아요 ㅎㅎ',\n",
       "  '드디어집안에경사가났습니다 45살우리 친언니가 시집을가서 제가화환을안할수가없어서 미리 준비를이곳에서했어요 가족끼리하느라 주중에 했고  제날짜에 정확하게 배송이왔어요 잔치분위기내고싶어서 화환필수!!분위기도좋고 진짜 기분좋습니다',\n",
       "  '재구매예식날 시간 정확하게 배송해주셔서 \\n너무 좋았어요 ~\\n늦지 않게 잘 배송해주셨고 꽃도 풍성했습니다',\n",
       "  '재구매고모가 이번에 개업하셔서 부모님 대신 보내드렸는데 너무 좋아하시네요 ㅎㅎㅎ\\n가끔씩 필요할 때마다 이용하는 고객인데 신경써주셔서 고맙습니다~^^',\n",
       "  '재구매감사합니다 잘받았습니다',\n",
       "  '잘 도착했네요~~ 문자가 조금 늦게와서 아쉽지만 꽃 상태 괜찮았어요',\n",
       "  '가성비 꽃집이에요~~ 꽃바구니인데도 저렴하게 선물했네요 받는 분이 생각지못한 선물이라며 너무너무 좋아했어요~~!! 다음에 또 주문할게요',\n",
       "  '재구매자주 구매하던 곳에서 제 시간에 맞춰줄수 없다는\\n요청을 받고 급하게 여기로 주문했는데 정말 빠르게\\n배송해주시고 퀄리티도 괜찮아서 정말 좋았어요 !!',\n",
       "  '개업하는곳이라 오전에 시간맞춰 주문드렸는데..\\n시간 잘맞춰 보내주셨네요. 감사합니다! 또 주문할께요!',\n",
       "  '가성비 짱이네요 ㅎㅎ 다음에도 이용할게요',\n",
       "  '친구가 가게 개업하는데 못가서 화환을 보냈어요.\\n멀리서나마 이렇게 응원할수있어 좋아요ㅎㅎ 감사해요',\n",
       "  '재구매신속,정확 가성비 굿~^^',\n",
       "  '재구매빠른 배송 감사합니다',\n",
       "  '재구매중요한 행사에 보내는 화환이라 당부 드렸는데 다른곳 기본화환보다 상태가 좋아요. 급한 화환 보낼때 빠르게 잘 보내주셔서 종종 이용하고 있어요.^^',\n",
       "  '개업하는곳에 화한보냈어요.\\n가격도 좋고 꽃도 싱싱하니 만족이예요.\\n리본도 이쁘게 써주심!!ㅎㅎ',\n",
       "  '인터넷으로 화환을 주문해보는게 처음이라서 이것저것 판매자님께 문의드렸는데 친절하게 응대해주셔서 좋았어요 꽃도 제시간에 맞춰 잘 도착했네요 덕분에 좋은일에 이쁜 꽃으로 축하해드렸네요^^',\n",
       "  '재구매지인의 결혼식인데 코로나격리땜에 못가게돼서 지난번에 꽃배달 시켰던곳에서 주문했는데 역시나 사장님이 때깔나게해주시더라구요~화환 안전하게 보내주셔서 감사합니다!!^^',\n",
       "  '재구매배송이 정말 로켓총알배송이에요 :)',\n",
       "  '재구매배송후 안내문자가 늘 요청시간 범주내로 오네요. 화환상태도 무지하게 좋고 배송 늦는적도 없어서 만족하며 이용하고 있습니다^^',\n",
       "  '재구매배송이 약간 느렸습니다\\n※재생 썼다고 (상주 며느리가 꽃집을 운영) 말나왔음',\n",
       "  '재구매배송빠르고 좋습니다 도착 후 문자 주신번호로 문의 드렸는데 답변은 안주시더라규오',\n",
       "  '재구매일단 꽃 상태도 정말 좋고, 풍성한게\\n가성비도 괜찮은거 같아요 ~ 특히\\n배송이 되게 빨라서 만족스러웠어요:)',\n",
       "  '재구매친한 지인결혼식 당일 일이 있어 가보지는 못하고 화한 보내줬어요~\\n급하게 주문했는데 정확한 시간에 배송 잘해주시고 감사해요 다음에 필요하면 또주문할게요 번창하세요!!',\n",
       "  '재구매시간 촉박하게 주문했는데도 제 시간 맞춰 해주셔서 감사드려요. 화환 모양도 이쁘고 꽃도 싱싱해서 받으시는 분이 좋아하셨어요. 다음에 주문할 일 있으면 꼭 여기로 주문할게요.',\n",
       "  '재구매총알배송오브총알입니다',\n",
       "  '재구매꽃장식 깔끔하게 잘되어있고요, 상담해주시는 상담원분도 친절하게 잘 설명해주셔서 구매하기 어렵지 않았던것 같아요 ~~ 담에 재구매 있어서 일잇으면 다시올게요~',\n",
       "  '재구매제품 배송 모두만족합니다!',\n",
       "  '재구매저렴하고 빠른 배송에 항상 이용합니다',\n",
       "  '한달사용기재구매항상 잘 애용하고 있어요',\n",
       "  '잘써보겠습니당. 좋아요',\n",
       "  '재구매집들이 선물로 스투키 화분 보냈는데 친구가 너무 좋아하네요~\\n마트나 오프라인에서 판매되는 식물보다 저렴한 가격 대비 상태가 좋네요.^^',\n",
       "  '재구매재주문 입니다 만족합니다',\n",
       "  '꽃도 싱싱하고 배송 사진도 보내주셔서 감사합니다!',\n",
       "  '신속정확하게 원하는 시간대에 잘 맞춰서 도착했어요!\\n꽃도 넘 풍성하니 디자인도 맘에들구요~~\\n담에 또 이용하겠습니당~~',\n",
       "  '한달사용기재구매항상친절하게 신경써주셔서 감사합니다',\n",
       "  '재구매갑작스러운 아버님 부고 소식에 부랴부랴 주문해서\\n보냈는데 빠르게 배송해주시고 정성스러운 화환을\\n보니 마음에 위안이 되더라구요..',\n",
       "  '재구매가격대비 화환 상태나 친절하시고 신속한 배송 늘 차질 없이 잘 처리해주셔서 감사합니다^^\\n늘 만족하며 이용하고 있어요~',\n",
       "  '친구 부탁으로 구매를 하였는데 빠른 배송과 정확한 사진첨부로 아주 만족하게 이용했습니다.',\n",
       "  '이모식당을 개업하는데 엄마가 35플라워가 괜찮다더라 그러시면서 여기주문 부탁하셨어요~~ 주변분들이 추천해주셨나봐여~~다른데서 온 화환보다 여기\\n화환이 눈에 띄고  좋네여\\n그래서 여기서 주문하라고 하셨나봐여 \\n배달 잘받았습니다~~',\n",
       "  '재구매정확한 배송에 항상  만족합니다',\n",
       "  '재구매여기는 오프라인 이라 첫 주문때는 걱정이\\n많이 되었는데, 진짜 깔끔하고 꽃도 싱싱하고\\n이쁘게 정성스레 잘해주셔서 참 좋았어요 ㅡ\\n다음번에도 신세 질께요!',\n",
       "  '한달사용기재구매신속 정확 언제나 여기서만.',\n",
       "  '재구매아주좋아요 번창하세요 자주이용할께요',\n",
       "  '재구매항상 빠르고 좋습니다',\n",
       "  '재구매사무실에서 이용하고 있어요. 정확하고 빠른 배송 좋습니다.',\n",
       "  '아는언니가결혼식을하는데 못가보게되서 화한이라도보내자하고 후기이곳저곳보다가 여기평이조아구매했는데 깔끔하게 배송시간잘맞춰서도착했다고 연락와서 기분이매우좋더라구요^^',\n",
       "  '확인연락+배송후안내문자 다좋음',\n",
       "  '한달사용기재구매매번이슈있을때 이용합니다 정말 만족해요',\n",
       "  '친한친구 개업화환으로 주문했어요.\\n빠르고 예쁜 화환으로 배송해주셔서 감사합니다! 화환 실제로 받아보니 친구가 이쁘다고 고맙다고하네요~^^\\n사진으로 봤는데 진짜 화환 이쁘더라구요.\\n이 가격에 잘 산 것 같아요',\n",
       "  '배송도 잘맞춰주시고 좋앜씁니다',\n",
       "  '재구매친구 가게 개업이라 힘든 시기에 작은 선물 주려고 보내주었어요~\\n시간에 맞게 잘 배달해주셨고 꽃도 풍성하게 보여 좋았어요~',\n",
       "  '총알배송 감사합니다',\n",
       "  '한달사용기재구매근조화환 최고인다. 매번 사용중입니다. 너무 감사합니다. 사진은 확대했습니다. 다른글들이 나오면 안되어서',\n",
       "  '재구매지인 결혼식이라 주문했어요. 식장 시간에 맞춰 배달도 해주시고 화환 상태가 너무 좋아서 만족스러운 구매였어요🥰',\n",
       "  '재구매항상 잘이용합니다.',\n",
       "  '재구매기존에 이용해보고 넘 괜찮아서 또 이용해 봤는데 이번에도 역시 배송이 칼 같아서 늦지않게 배송완료해주셔서 감사했어요 타업체에비해 훨씬 괜찮은듯요 강추해요 ㅎㅎ',\n",
       "  '재구매빠르고 정확한 배송 감사드립니다',\n",
       "  '재구매빠른 전달과 가격에 만족합니다.\\n너무 좋아요.',\n",
       "  '재구매매번 사용하고 있습니다\\n감사합니다',\n",
       "  '재구매업무상 화환 보낼 곳이 많아서 여기저기 많이 이용해 봤는데 여기만큼 괜찮은 곳을 못 봤어요 \\n앞으로도 잘 부탁 드려요~~',\n",
       "  '한달전에 처음 주문해봤는데 화환도 마음에 들고 무엇보다 직원분이 소통이 잘되서 좋았어요~',\n",
       "  '재구매빠른배송 만족합니다.',\n",
       "  '재구매항상 빠르고 가격도 좋습니다',\n",
       "  '재구매어렵게 취업에 성공한 친구가 있어 계모임 하는 친구들이랑 돈을 모아서 화환 보내주었습니다!!\\n시간 잘 맞춰서 도착하니 친구가 바로 연락오네요 ㅎㅎ',\n",
       "  '빠르고 정확하게 배송해주셨어요',\n",
       "  '재구매배송 대박 꼼꼼 여기서 50번 이상 구매한듯요',\n",
       "  '재구매고향동생 결혼식에 축하화환 보낸다고\\n급하게 주문했는데, 늦지않게 도착해서\\n정말 다행입니다 감사합니다',\n",
       "  '주말에 행사 진행했는데 화환을 다 추가하라고 사장님이 이야기 하셔서 ㅜㅜ\\n급하게 준비한거라 오프라인 매장에서 주문이 잘안되더라구요ㅠㅠ\\n정말 빠르게 해주셔서 감사하고 시간안에 배송해주려서 감사하네요 ~ 덕분에 행사 잘 마쳤습니다 ! 너무 감사해요',\n",
       "  '재구매급하게 주문했는데 빠른배송 감사합니다',\n",
       "  '재구매모임하는 친구가 결혼을 앞두고 있어서 만나서 저녁먹기전에 서프라이즈로 화환 주문해서 선물로줬는데 좋아하고 좋아해요 ㅎㅎ',\n",
       "  '재구매화환이 엄청 세련되고 고급스러워요 딱 원하는 스타일로 된 것이라 대만족합니다 전반적으로 가격도 친절하고 가성비 굳이네요 ~~!',\n",
       "  '재구매거래처직원이 결혼식이 있어 주문했습니다. 급하게 연락이 와서 당일에 주문했는데 가능해서 다행이었어요! 감사합니다!',\n",
       "  '배송이 정말 정확하네요!! 딱 제가 원하던 시간에 맞춰왔네요~ 요청사항도 꼼꼼하게 잘 들어주셔서 정말 마음에 들어요!! 앞으로 화환은 여기서 주문해야겠어요!!',\n",
       "  '재구매항상~!!  좋습니다~^^',\n",
       "  '재구매다른곳보다 저렴한데도 정성껏 잘 꾸며서 보내 주십니다~\\n꽃도 싱싱하면서 풍성해요^^\\n다음에도 또 주문할께요~~',\n",
       "  '재구매다른곳보다 훨씬 싱싱하고 풍성하게 만든 화환을 보내 주십니다\\n저렴하기도하고 만족스러워요! \\n추천추천!',\n",
       "  '재구매항상 여기서 시키고있어요. 배송 빠르고 좋아요.',\n",
       "  '한달사용기재구매항상  고객  기대에  만족을 주는 곳..',\n",
       "  '배송이 빠르고 품질도 신뢰가 갑니다 \\n주문이 간편해서 무척 만족합니다 \\n저렴하고 직원분들도 친절합니다~^^',\n",
       "  '좋아요 저렴하고 빠릅니다',\n",
       "  '항상그렇듯 좋아요.',\n",
       "  '재구매돟아요아주좋습니다정말',\n",
       "  '조카가 결혼했거든용ㆍ 축하화환 \\n 화려하고 이쁘고 원하는 시간에\\n잘 배달되어 고모로서 넘 기분 좋았답니당ㅋ',\n",
       "  '재구매당골집~ 항상 최고입니다~^^',\n",
       "  '아버님 생신 때 보내 드렸는데 너무 예쁘네요',\n",
       "  '항상 애용합니다\\n이번에도 빠른 배송 감사합니다',\n",
       "  '재구매엄마 친구 자녀분이 결혼한다하여, 엄마가 주문해달라고해서 주문했어요. 엄마가 우리가 보낸 화환이 제일 이뻤다구 하시네요ㅎㅎ!!',\n",
       "  '재구매경조사 등에 필요한 화환은 항상 주문합니다. 가격도 합리적이고 요청한 시간에 맞춰 배송해주어 항상 감사하게 생각합니다.',\n",
       "  '재구매가을이되니 예식이 많네요~~ 당근 다음예식때도 잘부탁드립니다~~',\n",
       "  '바르고 정확하게 배송되었습니다. 고맙습니다.',\n",
       "  '제시간에 잘 도착했어요~! 만족합니다',\n",
       "  '한달사용기재구매늘 애용합니다 재구매또합니다',\n",
       "  '한달사용기재구매제품좋아요. 친절해요',\n",
       "  '배송도 시간도  잘맞춰 주시고 가져다 주시는분도 친절히 해주셔서 감사했습니다.\\n좋은날 활짝핀 꽃처럼 예쁜 시작하라고 친구들이  선물하는거라 신경이 쓰였는데 맘에들었습니다.\\n감사합니다.',\n",
       "  '빠른 배송과 친절한 사진첨부로 아주 만족하게 이용했습니다.',\n",
       "  '전화하셔도 친절하게 궁금한거 답변해주시고 배송도 적당한 시간에 갖다주시고 사진까지 찍어주셔서 좋았어요 !! 비록 너무 정신이 없어서 제 눈으로 직접 확인은 못했지만요 ㅠㅠ',\n",
       "  '덕분에 지난주 화환 잘도착했습니다 ~ 당시 아침에 생각나서 12시 식장에 10시 정도에 급하게 주문했는데, 친절하게 설명해주시고 식 전에 도착해주셔서 정말 너무너무 했습니다~~ 당시 여러곳 다 불가능하다 했는데, 여기 사장님께서 해주셨어요. 너무 감사드리며 화환 필요하신 분들 여기 사장님께 주문하세요~~!!',\n",
       "  '꽃배달 업체 여러군데 이용해밨는데 여기가 제일 괜찮은거 같아요 \\n총알배송에 친절한 상담에 화환도 구성좋고 이쁘네요 급하게 주문했는데 배송시간도 착오없이 잘 보내주셔서 감사합니다',\n",
       "  '재구매자주구매해요\\n마음에들어요',\n",
       "  '늦게 시킨거아닌가 걱정했는데 제때 맞춰서 꽃도 싱싱하고 아주 예쁘게 왔어요! 담에 또 시킬께요! 감사합니다ㅎ',\n",
       "  '화환도 너무 좋네요~\\n배송의 상태도 좋고 개업식을 하는 지인에게 보내줬는데\\n꽃이 풍성하고 시간도 잘 맞춰서 갖다주셔서 넘 좋았어요\\n요즘 온라인으로 많이들 주문을 하는데 진짜 해보니 더 이쁘고 좋네요',\n",
       "  '한달사용기재구매좋습니다 아주 좋습니다',\n",
       "  '재구매항상 여기서 주문하고 있어요',\n",
       "  '재구매잘 도착해주셔서 감사합니다!',\n",
       "  '재구매언제나 만족스럽습니다.',\n",
       "  '혀사퇴직한 친구가 큰마음 먹고 이번에 샵을 오픈했어요. 새로운시작 좋은기운을 담아 친구에게 선물했습니다.친구가 너무 마음에 들어해서 저도 좋네요',\n",
       "  '재구매항상 이용합니다 이번에는 예식장에서 눈으로 확인했네요 배송빠르고 인증샷까지 좋아요',\n",
       "  '화환보낼일 있어서 온라인으로 알아보다가 딱 마음에 들어서 선택했어요^_^ 시간도 잘 맞춰서 도착했고 가격도 착한데 꽃상태도 너무 좋고 이뻤어요~  다음번에도 이용할께요!',\n",
       "  '언제나 감사합니다~',\n",
       "  '재구매근조화환 잘받았습니다',\n",
       "  '한달사용기재구매빠른배송 항상 감사합니다',\n",
       "  '친구 개업축하로 보내줬는데 맘에 들어하네요 \\n어려운시기에 용기내서 새로운 도전하는거 축하해주고 싶어서\\n여러군데 비교하고 문의해서 여기로 결정했는데 선택 잘 한거 같아요',\n",
       "  '아는 지인분 결혼식에 보내려고 했는데 이런 게 처음이라 어색했지만 사장님이 잘 안내해 주셔서 무사하보낼 수 있었어요~!! 다음에는 화환 말고 꽃바구니는 꽃다발 같은 걸로 한번 이용해 볼게요 사장님 번창 하세요~^^',\n",
       "  '한달사용기진짜 굿 초이스입니다.항상꽃배달주문은 여기서~~~',\n",
       "  '재구매축하할 일이생겨 배송을 주문했어여.\\n깔끔하게 잘 배송해주셔서 감사합니다.\\n늘 만족하게 해주는 곳이네요',\n",
       "  '지정한 날자에 안갖다주고 개업도 하기 전에!!\\n전날에  갖다 주겟다 하고 갖다 주면 어떻게요!!',\n",
       "  '결혼하는 친구가 있어서 예쁘게 화환 하나 해서 보냈어요! 시간 맞춰서 배송해주시고 예쁘게 만들어서 보내주셔서 친구들에게 칭찬 받았네요 ㅎ 상태 좋고 예뻐요! 만족해요 ㅎ',\n",
       "  '재구매제품 배송 모두 만족합니다.',\n",
       "  '거래처에 잘보냈읍니다.',\n",
       "  '재구매늘 여기서 주문해요~ 만족합니다!',\n",
       "  '축하할일이있어서 급하게보냈는데도 시간정확하게 좋은제품으로만 구성해서보내주셔서 감사해요ㅎㅎ다음번에도 선물할때있음 또주문할께요 ^^',\n",
       "  '재구매매우빠른배송매우만족',\n",
       "  '친오빠가 꼬기집을 오픈하게되어 화환 준비했어요 꽃도 예쁘고 풍성하니 좋아요. 앞으로 35플라워 단골각입니다.',\n",
       "  '재구매항상 잘이용하고있습니다.',\n",
       "  '친구가 옷가게 개업을 한다고 연락이 왔어요\\n가보지 못하고 하니 그래서 개업으 화환을 보내드렸어요~\\n화환이 꽃이 너무 이쁘고 풍성하지만 일단 화환이 고급스럽고\\n배송도 빨라서 만족합니다.',\n",
       "  '넘 예쁜 화환을 지정한 시간에 잘 배달해 주셔서\\n고맙습니다.\\n삼오플라워를 자주 이용하는데 대만족입니다.',\n",
       "  '선물드린분이 너무 좋아해요~',\n",
       "  '작은 꽃배달 같은거는 근처화원에서 몇번 해봤는데 온라인상으로는 처음이라 반신반의 했는데 꽃 너무 풍성하고 시간맞춰 잘 보내주셔서 감사드려요 너무 친절하신 응대에 필요하면 자주 방문하려구요',\n",
       "  '재구매항상 잘 애용하고있어요',\n",
       "  '친구들모임이 있는데 그중 한친구가 코로나때문에 일년을 미루다가 드디어 결혼식을해서 친구들이랑같이 화환보내줬어요~ 시간에 맞춰서 잘 도착했고 너무 이쁘게 잘 왔네요^^',\n",
       "  '정확한 배송.\\n이쁜 화환.\\n대만족.',\n",
       "  '배송이 빠르고 정확합니다',\n",
       "  '재구매매번 잘 이용중이에요 굳입니다.',\n",
       "  '화환 빠르게 배송해주셨더라구요 ^^\\n진짜 생각보다 훨씬 빨리 배송해주셔서 너무 좋았어요.\\n화환도 신선한 꽃으로 풍성하게 잘 구성해주셔서 좋네요',\n",
       "  '친절한 상담과 정확한 배송 감사합니다^^',\n",
       "  '튼튼하고 좋았습니당',\n",
       "  '전날(주말)에 시켰는데 잘받았다고 합니다. 빠르고 예쁜거로 보내주셨어요~',\n",
       "  '재구매항상 주문하는곳 !!! 번창하세요',\n",
       "  '진짜 배송도 정확하고 화환도 너무 이쁘고 최고입니다! 담에도 화환 보낼일 있으면 여기서 할게요!!',\n",
       "  '재구매빠른배송 정확한 시간 감사합니다',\n",
       "  '친구가 멀리서하는 결혼식이라 주문했어요 인터넷으로 처음주문해보는데 , 다행히 시간도 잘맞춰서 도착했고 예쁘다네요 너무만족합니다^^',\n",
       "  '재구매친구 결혼식이 있어서 주문했습니당!! \\n문구도 깔끔하고 여기 화환이 제일 눈에 띄어서 좋았어용ㅎㅎㅎ 넘 맘에 들어요',\n",
       "  '재구매꽃 화환 배달 사고 없이 잘 받았네여\\n우선 꽃이 싱싱했구여\\n이뻐서 넘 좋았어여\\n택배주문 편하고 할만하네여',\n",
       "  '배송이 빨랐어요 !',\n",
       "  '배송도 빠르고 정확하네요~',\n",
       "  '재구매배송 잘 받았습니당ㅎㅎ 시간에 딱 맞춰 와서 좋았어요! 사진보다 좀 더 풍성해보이고 싱싱해서 좋네요!',\n",
       "  '재구매빠른배송 만족입니다. 만족',\n",
       "  '재구매좋네요\\n배송도 빠르고 쓸만해요.'],\n",
       " '별점': ['1',\n",
       "  '5',\n",
       "  '5',\n",
       "  '5',\n",
       "  '5',\n",
       "  '5',\n",
       "  '5',\n",
       "  '1',\n",
       "  '5',\n",
       "  '5',\n",
       "  '5',\n",
       "  '5',\n",
       "  '5',\n",
       "  '5',\n",
       "  '5',\n",
       "  '5',\n",
       "  '5',\n",
       "  '5',\n",
       "  '5',\n",
       "  '5',\n",
       "  '5',\n",
       "  '5',\n",
       "  '5',\n",
       "  '5',\n",
       "  '4',\n",
       "  '5',\n",
       "  '5',\n",
       "  '5',\n",
       "  '5',\n",
       "  '5',\n",
       "  '5',\n",
       "  '5',\n",
       "  '5',\n",
       "  '5',\n",
       "  '5',\n",
       "  '5',\n",
       "  '5',\n",
       "  '5',\n",
       "  '5',\n",
       "  '5',\n",
       "  '5',\n",
       "  '5',\n",
       "  '4',\n",
       "  '5',\n",
       "  '5',\n",
       "  '5',\n",
       "  '5',\n",
       "  '5',\n",
       "  '5',\n",
       "  '5',\n",
       "  '5',\n",
       "  '5',\n",
       "  '5',\n",
       "  '5',\n",
       "  '5',\n",
       "  '4',\n",
       "  '5',\n",
       "  '5',\n",
       "  '5',\n",
       "  '5',\n",
       "  '5',\n",
       "  '5',\n",
       "  '5',\n",
       "  '5',\n",
       "  '5',\n",
       "  '5',\n",
       "  '5',\n",
       "  '5',\n",
       "  '5',\n",
       "  '5',\n",
       "  '5',\n",
       "  '5',\n",
       "  '5',\n",
       "  '5',\n",
       "  '5',\n",
       "  '5',\n",
       "  '5',\n",
       "  '5',\n",
       "  '5',\n",
       "  '5',\n",
       "  '5',\n",
       "  '5',\n",
       "  '5',\n",
       "  '5',\n",
       "  '5',\n",
       "  '5',\n",
       "  '5',\n",
       "  '5',\n",
       "  '5',\n",
       "  '5',\n",
       "  '5',\n",
       "  '5',\n",
       "  '5',\n",
       "  '5',\n",
       "  '5',\n",
       "  '5',\n",
       "  '5',\n",
       "  '5',\n",
       "  '5',\n",
       "  '5',\n",
       "  '5',\n",
       "  '5',\n",
       "  '5',\n",
       "  '5',\n",
       "  '5',\n",
       "  '5',\n",
       "  '5',\n",
       "  '5',\n",
       "  '5',\n",
       "  '5',\n",
       "  '5',\n",
       "  '5',\n",
       "  '5',\n",
       "  '5',\n",
       "  '5',\n",
       "  '5',\n",
       "  '5',\n",
       "  '5',\n",
       "  '5',\n",
       "  '5',\n",
       "  '5',\n",
       "  '5',\n",
       "  '5',\n",
       "  '5',\n",
       "  '4',\n",
       "  '5',\n",
       "  '5',\n",
       "  '5',\n",
       "  '5',\n",
       "  '5',\n",
       "  '5',\n",
       "  '5',\n",
       "  '5',\n",
       "  '5',\n",
       "  '5',\n",
       "  '5',\n",
       "  '5',\n",
       "  '5',\n",
       "  '5',\n",
       "  '5',\n",
       "  '5',\n",
       "  '5',\n",
       "  '5',\n",
       "  '5',\n",
       "  '4',\n",
       "  '5',\n",
       "  '5',\n",
       "  '5',\n",
       "  '5',\n",
       "  '5',\n",
       "  '5',\n",
       "  '5',\n",
       "  '5',\n",
       "  '5',\n",
       "  '5',\n",
       "  '5',\n",
       "  '5',\n",
       "  '5',\n",
       "  '5',\n",
       "  '5',\n",
       "  '5',\n",
       "  '5',\n",
       "  '5',\n",
       "  '5',\n",
       "  '5',\n",
       "  '5',\n",
       "  '5',\n",
       "  '5',\n",
       "  '5',\n",
       "  '5',\n",
       "  '5',\n",
       "  '5',\n",
       "  '5',\n",
       "  '5',\n",
       "  '5',\n",
       "  '5',\n",
       "  '5',\n",
       "  '5',\n",
       "  '5',\n",
       "  '5',\n",
       "  '5',\n",
       "  '5',\n",
       "  '5',\n",
       "  '5',\n",
       "  '5',\n",
       "  '5',\n",
       "  '5',\n",
       "  '5',\n",
       "  '5',\n",
       "  '5',\n",
       "  '5',\n",
       "  '5',\n",
       "  '5',\n",
       "  '5',\n",
       "  '5',\n",
       "  '5',\n",
       "  '5',\n",
       "  '5',\n",
       "  '5',\n",
       "  '4',\n",
       "  '5',\n",
       "  '5',\n",
       "  '4',\n",
       "  '5',\n",
       "  '5',\n",
       "  '5',\n",
       "  '5',\n",
       "  '5',\n",
       "  '5',\n",
       "  '5',\n",
       "  '5',\n",
       "  '5',\n",
       "  '4',\n",
       "  '5',\n",
       "  '5',\n",
       "  '4',\n",
       "  '5',\n",
       "  '5',\n",
       "  '5',\n",
       "  '5',\n",
       "  '5',\n",
       "  '5',\n",
       "  '5',\n",
       "  '5',\n",
       "  '5',\n",
       "  '5',\n",
       "  '5',\n",
       "  '4',\n",
       "  '5',\n",
       "  '5',\n",
       "  '5',\n",
       "  '5',\n",
       "  '5',\n",
       "  '5',\n",
       "  '5',\n",
       "  '5',\n",
       "  '5',\n",
       "  '5',\n",
       "  '5',\n",
       "  '5',\n",
       "  '5',\n",
       "  '5',\n",
       "  '5',\n",
       "  '5',\n",
       "  '5',\n",
       "  '5',\n",
       "  '5',\n",
       "  '5',\n",
       "  '5',\n",
       "  '5',\n",
       "  '5',\n",
       "  '5',\n",
       "  '4',\n",
       "  '5',\n",
       "  '5',\n",
       "  '5',\n",
       "  '5',\n",
       "  '5',\n",
       "  '5',\n",
       "  '5',\n",
       "  '5',\n",
       "  '5',\n",
       "  '5',\n",
       "  '5',\n",
       "  '5',\n",
       "  '5',\n",
       "  '5',\n",
       "  '5',\n",
       "  '5',\n",
       "  '5',\n",
       "  '5',\n",
       "  '5',\n",
       "  '5',\n",
       "  '5',\n",
       "  '5',\n",
       "  '5',\n",
       "  '5',\n",
       "  '5',\n",
       "  '5',\n",
       "  '5',\n",
       "  '5',\n",
       "  '5',\n",
       "  '5',\n",
       "  '5',\n",
       "  '5',\n",
       "  '5',\n",
       "  '5',\n",
       "  '5',\n",
       "  '5',\n",
       "  '4',\n",
       "  '5',\n",
       "  '5',\n",
       "  '5',\n",
       "  '5',\n",
       "  '5',\n",
       "  '5',\n",
       "  '5',\n",
       "  '5',\n",
       "  '5',\n",
       "  '5',\n",
       "  '3',\n",
       "  '5',\n",
       "  '5',\n",
       "  '5',\n",
       "  '5',\n",
       "  '5',\n",
       "  '5',\n",
       "  '5',\n",
       "  '5',\n",
       "  '5',\n",
       "  '5',\n",
       "  '5',\n",
       "  '5',\n",
       "  '5',\n",
       "  '5',\n",
       "  '5',\n",
       "  '2',\n",
       "  '5',\n",
       "  '5',\n",
       "  '5',\n",
       "  '5',\n",
       "  '5',\n",
       "  '5',\n",
       "  '5',\n",
       "  '5',\n",
       "  '5',\n",
       "  '5',\n",
       "  '5',\n",
       "  '5',\n",
       "  '5',\n",
       "  '5',\n",
       "  '5',\n",
       "  '5',\n",
       "  '5',\n",
       "  '5',\n",
       "  '2',\n",
       "  '4',\n",
       "  '5',\n",
       "  '5',\n",
       "  '5',\n",
       "  '5',\n",
       "  '5',\n",
       "  '5',\n",
       "  '5',\n",
       "  '5',\n",
       "  '5',\n",
       "  '5',\n",
       "  '5',\n",
       "  '5',\n",
       "  '5',\n",
       "  '5',\n",
       "  '5',\n",
       "  '5',\n",
       "  '2',\n",
       "  '4',\n",
       "  '4',\n",
       "  '5',\n",
       "  '5',\n",
       "  '5',\n",
       "  '5',\n",
       "  '5',\n",
       "  '5',\n",
       "  '5',\n",
       "  '5',\n",
       "  '5',\n",
       "  '5',\n",
       "  '3',\n",
       "  '5',\n",
       "  '5',\n",
       "  '5',\n",
       "  '5',\n",
       "  '5',\n",
       "  '4',\n",
       "  '5',\n",
       "  '5',\n",
       "  '3',\n",
       "  '5',\n",
       "  '5',\n",
       "  '5',\n",
       "  '5',\n",
       "  '5',\n",
       "  '5',\n",
       "  '5',\n",
       "  '5',\n",
       "  '4',\n",
       "  '5',\n",
       "  '4',\n",
       "  '5',\n",
       "  '5',\n",
       "  '5',\n",
       "  '5',\n",
       "  '5',\n",
       "  '5',\n",
       "  '5',\n",
       "  '5',\n",
       "  '5',\n",
       "  '5',\n",
       "  '5',\n",
       "  '5',\n",
       "  '4',\n",
       "  '5',\n",
       "  '5',\n",
       "  '5',\n",
       "  '5',\n",
       "  '5',\n",
       "  '5',\n",
       "  '5',\n",
       "  '3',\n",
       "  '5',\n",
       "  '5',\n",
       "  '5',\n",
       "  '5',\n",
       "  '5',\n",
       "  '5',\n",
       "  '5',\n",
       "  '5',\n",
       "  '5',\n",
       "  '5',\n",
       "  '5',\n",
       "  '5',\n",
       "  '5',\n",
       "  '5',\n",
       "  '5',\n",
       "  '5',\n",
       "  '5',\n",
       "  '5',\n",
       "  '5',\n",
       "  '5',\n",
       "  '5',\n",
       "  '5',\n",
       "  '5',\n",
       "  '5',\n",
       "  '5',\n",
       "  '5',\n",
       "  '5',\n",
       "  '5',\n",
       "  '5',\n",
       "  '5',\n",
       "  '5',\n",
       "  '5',\n",
       "  '5',\n",
       "  '5',\n",
       "  '4',\n",
       "  '5',\n",
       "  '5',\n",
       "  '5',\n",
       "  '5',\n",
       "  '5',\n",
       "  '5',\n",
       "  '5',\n",
       "  '5',\n",
       "  '5',\n",
       "  '5',\n",
       "  '5',\n",
       "  '5',\n",
       "  '5',\n",
       "  '5',\n",
       "  '5',\n",
       "  '1',\n",
       "  '5',\n",
       "  '5',\n",
       "  '5',\n",
       "  '5',\n",
       "  '5',\n",
       "  '5',\n",
       "  '5',\n",
       "  '5',\n",
       "  '5',\n",
       "  '5',\n",
       "  '5',\n",
       "  '5',\n",
       "  '5',\n",
       "  '5',\n",
       "  '5',\n",
       "  '5',\n",
       "  '5',\n",
       "  '5',\n",
       "  '5',\n",
       "  '5',\n",
       "  '5',\n",
       "  '5',\n",
       "  '5',\n",
       "  '5',\n",
       "  '5',\n",
       "  '5',\n",
       "  '5',\n",
       "  '5',\n",
       "  '5',\n",
       "  '5',\n",
       "  '5',\n",
       "  '5',\n",
       "  '5',\n",
       "  '5',\n",
       "  '5',\n",
       "  '5',\n",
       "  '5',\n",
       "  '5',\n",
       "  '5',\n",
       "  '5',\n",
       "  '5',\n",
       "  '5',\n",
       "  '5',\n",
       "  '5',\n",
       "  '5',\n",
       "  '5',\n",
       "  '5',\n",
       "  '5',\n",
       "  '5',\n",
       "  '5',\n",
       "  '5',\n",
       "  '5',\n",
       "  '5',\n",
       "  '5',\n",
       "  '5',\n",
       "  '5',\n",
       "  '5',\n",
       "  '5',\n",
       "  '5',\n",
       "  '5',\n",
       "  '5',\n",
       "  '5',\n",
       "  '2',\n",
       "  '5',\n",
       "  '5',\n",
       "  '5',\n",
       "  '5',\n",
       "  '5',\n",
       "  '5',\n",
       "  '5',\n",
       "  '5',\n",
       "  '5',\n",
       "  '5',\n",
       "  '5',\n",
       "  '5',\n",
       "  '5',\n",
       "  '4',\n",
       "  '5',\n",
       "  '5',\n",
       "  '5',\n",
       "  '5',\n",
       "  '4',\n",
       "  '5',\n",
       "  '5',\n",
       "  '5',\n",
       "  '5',\n",
       "  '5',\n",
       "  '5',\n",
       "  '5',\n",
       "  '5',\n",
       "  '5',\n",
       "  '5',\n",
       "  '5',\n",
       "  '5',\n",
       "  '5',\n",
       "  '5',\n",
       "  '5',\n",
       "  '5',\n",
       "  '5',\n",
       "  '5',\n",
       "  '5',\n",
       "  '5',\n",
       "  '5',\n",
       "  '5',\n",
       "  '5',\n",
       "  '5',\n",
       "  '5',\n",
       "  '5',\n",
       "  '5',\n",
       "  '5',\n",
       "  '5',\n",
       "  '5',\n",
       "  '1',\n",
       "  '5',\n",
       "  '5',\n",
       "  '5',\n",
       "  '5',\n",
       "  '5',\n",
       "  '5',\n",
       "  '5',\n",
       "  '5',\n",
       "  '5',\n",
       "  '5',\n",
       "  '5',\n",
       "  '5',\n",
       "  '5',\n",
       "  '5',\n",
       "  '5',\n",
       "  '5',\n",
       "  '5',\n",
       "  '5',\n",
       "  '5',\n",
       "  '5',\n",
       "  '5',\n",
       "  '5',\n",
       "  '5',\n",
       "  '5',\n",
       "  '5',\n",
       "  '5',\n",
       "  '5',\n",
       "  '5',\n",
       "  '5',\n",
       "  '5',\n",
       "  '5',\n",
       "  '5',\n",
       "  '5',\n",
       "  '5',\n",
       "  '5',\n",
       "  '5',\n",
       "  '5',\n",
       "  '5',\n",
       "  '5',\n",
       "  '5',\n",
       "  '5',\n",
       "  '5',\n",
       "  '5',\n",
       "  '5',\n",
       "  '5',\n",
       "  '5',\n",
       "  '5',\n",
       "  '5',\n",
       "  '5',\n",
       "  '5',\n",
       "  '5',\n",
       "  '5',\n",
       "  '5',\n",
       "  '5',\n",
       "  '5',\n",
       "  '5',\n",
       "  '5',\n",
       "  '5',\n",
       "  '5',\n",
       "  '5',\n",
       "  '5',\n",
       "  '5',\n",
       "  '5',\n",
       "  '5',\n",
       "  '5',\n",
       "  '5',\n",
       "  '5',\n",
       "  '5',\n",
       "  '5',\n",
       "  '5',\n",
       "  '5',\n",
       "  '5',\n",
       "  '5',\n",
       "  '5',\n",
       "  '5',\n",
       "  '5',\n",
       "  '5',\n",
       "  '5',\n",
       "  '5',\n",
       "  '5',\n",
       "  '5',\n",
       "  '5',\n",
       "  '5',\n",
       "  '5',\n",
       "  '5',\n",
       "  '5',\n",
       "  '5',\n",
       "  '5',\n",
       "  '5',\n",
       "  '5',\n",
       "  '5',\n",
       "  '5',\n",
       "  '5',\n",
       "  '5',\n",
       "  '5',\n",
       "  '3',\n",
       "  '5',\n",
       "  '5',\n",
       "  '4',\n",
       "  '5',\n",
       "  '5',\n",
       "  '5',\n",
       "  '5',\n",
       "  '5',\n",
       "  '5',\n",
       "  '5',\n",
       "  '5',\n",
       "  '5',\n",
       "  '5',\n",
       "  '5',\n",
       "  '5',\n",
       "  '5',\n",
       "  '5',\n",
       "  '5',\n",
       "  '5',\n",
       "  '5',\n",
       "  '5',\n",
       "  '5',\n",
       "  '5',\n",
       "  '5',\n",
       "  '5',\n",
       "  '5',\n",
       "  '5',\n",
       "  '5',\n",
       "  '5',\n",
       "  '5',\n",
       "  '5',\n",
       "  '5']}"
      ]
     },
     "execution_count": 360,
     "metadata": {},
     "output_type": "execute_result"
    }
   ],
   "source": [
    "dict[0]"
   ]
  },
  {
   "cell_type": "code",
   "execution_count": 355,
   "id": "ba14bb6b",
   "metadata": {},
   "outputs": [
    {
     "data": {
      "text/html": [
       "<div>\n",
       "<style scoped>\n",
       "    .dataframe tbody tr th:only-of-type {\n",
       "        vertical-align: middle;\n",
       "    }\n",
       "\n",
       "    .dataframe tbody tr th {\n",
       "        vertical-align: top;\n",
       "    }\n",
       "\n",
       "    .dataframe thead th {\n",
       "        text-align: right;\n",
       "    }\n",
       "</style>\n",
       "<table border=\"1\" class=\"dataframe\">\n",
       "  <thead>\n",
       "    <tr style=\"text-align: right;\">\n",
       "      <th></th>\n",
       "      <th>star_average</th>\n",
       "      <th>review_number</th>\n",
       "      <th>리뷰</th>\n",
       "      <th>별점</th>\n",
       "    </tr>\n",
       "  </thead>\n",
       "  <tbody>\n",
       "    <tr>\n",
       "      <th>0</th>\n",
       "      <td>4.8</td>\n",
       "      <td>13,580</td>\n",
       "      <td>[재구매꽃바구니랑 같이 구매했는데 훨씬 저렴한 꽃바구니가 더 비싸보이고 예뻐요 이 ...</td>\n",
       "      <td>[1, 5, 5, 5, 5, 5, 5, 1, 5, 5, 5, 5, 5, 5, 5, ...</td>\n",
       "    </tr>\n",
       "  </tbody>\n",
       "</table>\n",
       "</div>"
      ],
      "text/plain": [
       "  star_average review_number  \\\n",
       "0          4.8        13,580   \n",
       "\n",
       "                                                  리뷰  \\\n",
       "0  [재구매꽃바구니랑 같이 구매했는데 훨씬 저렴한 꽃바구니가 더 비싸보이고 예뻐요 이 ...   \n",
       "\n",
       "                                                  별점  \n",
       "0  [1, 5, 5, 5, 5, 5, 5, 1, 5, 5, 5, 5, 5, 5, 5, ...  "
      ]
     },
     "execution_count": 355,
     "metadata": {},
     "output_type": "execute_result"
    }
   ],
   "source": [
    "결과 = pd.DataFrame.from_dict(dict,\"index\")\n",
    "결과"
   ]
  },
  {
   "cell_type": "code",
   "execution_count": 260,
   "id": "0c5e4100",
   "metadata": {},
   "outputs": [
    {
     "data": {
      "text/plain": [
       "<selenium.webdriver.remote.webelement.WebElement (session=\"aaf9b2abd0d5117d1bdb7a7b30e1a064\", element=\"65a79a12-98f5-44e5-b5fe-e5758ec78896\")>"
      ]
     },
     "execution_count": 260,
     "metadata": {},
     "output_type": "execute_result"
    }
   ],
   "source": [
    "page_chek = driver.find_element_by_css_selector(\"#REVIEW > div > div._2y6yIawL6t > div > div.cv6id6JEkg > div > div\")\n",
    "page_chek"
   ]
  },
  {
   "cell_type": "code",
   "execution_count": 261,
   "id": "84adbdf7",
   "metadata": {},
   "outputs": [
    {
     "data": {
      "text/plain": [
       "12"
      ]
     },
     "execution_count": 261,
     "metadata": {},
     "output_type": "execute_result"
    }
   ],
   "source": [
    "pages = page_chek.find_elements_by_css_selector('a')\n",
    "len(pages)"
   ]
  },
  {
   "cell_type": "code",
   "execution_count": 262,
   "id": "48ff461f",
   "metadata": {
    "scrolled": false
   },
   "outputs": [
    {
     "name": "stdout",
     "output_type": "stream",
     "text": [
      "이전\n",
      "41\n",
      "42\n",
      "43\n",
      "44\n",
      "45\n",
      "46\n",
      "47\n",
      "48\n",
      "49\n",
      "50\n",
      "다음\n"
     ]
    }
   ],
   "source": [
    "for i in (pages) :\n",
    "    print(i.text)"
   ]
  },
  {
   "cell_type": "code",
   "execution_count": 285,
   "id": "5410cf0a",
   "metadata": {},
   "outputs": [
    {
     "ename": "IndexError",
     "evalue": "list index out of range",
     "output_type": "error",
     "traceback": [
      "\u001b[1;31m---------------------------------------------------------------------------\u001b[0m",
      "\u001b[1;31mIndexError\u001b[0m                                Traceback (most recent call last)",
      "\u001b[1;32m~\\AppData\\Local\\Temp/ipykernel_58136/612858854.py\u001b[0m in \u001b[0;36m<module>\u001b[1;34m\u001b[0m\n\u001b[0;32m      3\u001b[0m \u001b[1;33m\u001b[0m\u001b[0m\n\u001b[0;32m      4\u001b[0m \u001b[1;32mfor\u001b[0m \u001b[0mi\u001b[0m \u001b[1;32min\u001b[0m \u001b[0mrange\u001b[0m\u001b[1;33m(\u001b[0m\u001b[1;36m2\u001b[0m\u001b[1;33m,\u001b[0m \u001b[1;36m13\u001b[0m\u001b[1;33m)\u001b[0m\u001b[1;33m:\u001b[0m\u001b[1;33m\u001b[0m\u001b[1;33m\u001b[0m\u001b[0m\n\u001b[1;32m----> 5\u001b[1;33m     \u001b[0mpages\u001b[0m\u001b[1;33m[\u001b[0m\u001b[0mi\u001b[0m\u001b[1;33m]\u001b[0m\u001b[1;33m.\u001b[0m\u001b[0mclick\u001b[0m\u001b[1;33m(\u001b[0m\u001b[1;33m)\u001b[0m\u001b[1;33m\u001b[0m\u001b[1;33m\u001b[0m\u001b[0m\n\u001b[0m\u001b[0;32m      6\u001b[0m     \u001b[0mtime\u001b[0m\u001b[1;33m.\u001b[0m\u001b[0msleep\u001b[0m\u001b[1;33m(\u001b[0m\u001b[1;36m1\u001b[0m\u001b[1;33m)\u001b[0m\u001b[1;33m\u001b[0m\u001b[1;33m\u001b[0m\u001b[0m\n",
      "\u001b[1;31mIndexError\u001b[0m: list index out of range"
     ]
    }
   ],
   "source": [
    "# 10개 페이지 클릭하는지 확인\n",
    "page_chek = driver.find_element_by_css_selector(\"#REVIEW > div > div._2y6yIawL6t > div > div.cv6id6JEkg > div > div\")\n",
    "pages = page_chek.find_elements_by_css_selector('a')\n",
    "\n",
    "for i in range(2, 13):\n",
    "    pages[i].click()\n",
    "    time.sleep(1)"
   ]
  },
  {
   "cell_type": "code",
   "execution_count": 193,
   "id": "2eadd8d7",
   "metadata": {},
   "outputs": [
    {
     "name": "stdout",
     "output_type": "stream",
     "text": [
      "이전\n",
      "11\n",
      "12\n",
      "13\n",
      "14\n",
      "15\n",
      "16\n",
      "17\n",
      "18\n",
      "19\n",
      "20\n",
      "다음\n"
     ]
    }
   ],
   "source": [
    "for i in pages :\n",
    "    print(i.text)"
   ]
  },
  {
   "cell_type": "code",
   "execution_count": 279,
   "id": "a2b54676",
   "metadata": {},
   "outputs": [
    {
     "name": "stdout",
     "output_type": "stream",
     "text": [
      "660\n",
      "660\n"
     ]
    }
   ],
   "source": [
    "print(len(리뷰))\n",
    "print(len(별점))"
   ]
  },
  {
   "cell_type": "code",
   "execution_count": 280,
   "id": "e87874f4",
   "metadata": {},
   "outputs": [
    {
     "data": {
      "text/plain": [
       "['친한친구 개업화환으로 주문했어요.\\n빠르고 예쁜 화환으로 배송해주셔서 감사합니다! 화환 실제로 받아보니 친구가 이쁘다고 고맙다고하네요~^^\\n사진으로 봤는데 진짜 화환 이쁘더라구요.\\n이 가격에 잘 산 것 같아요',\n",
       " '배송도 잘맞춰주시고 좋앜씁니다',\n",
       " '재구매친구 가게 개업이라 힘든 시기에 작은 선물 주려고 보내주었어요~\\n시간에 맞게 잘 배달해주셨고 꽃도 풍성하게 보여 좋았어요~',\n",
       " '총알배송 감사합니다',\n",
       " '한달사용기재구매근조화환 최고인다. 매번 사용중입니다. 너무 감사합니다. 사진은 확대했습니다. 다른글들이 나오면 안되어서',\n",
       " '재구매지인 결혼식이라 주문했어요. 식장 시간에 맞춰 배달도 해주시고 화환 상태가 너무 좋아서 만족스러운 구매였어요🥰',\n",
       " '재구매항상 잘이용합니다.',\n",
       " '재구매기존에 이용해보고 넘 괜찮아서 또 이용해 봤는데 이번에도 역시 배송이 칼 같아서 늦지않게 배송완료해주셔서 감사했어요 타업체에비해 훨씬 괜찮은듯요 강추해요 ㅎㅎ',\n",
       " '재구매빠르고 정확한 배송 감사드립니다',\n",
       " '재구매빠른 전달과 가격에 만족합니다.\\n너무 좋아요.',\n",
       " '재구매매번 사용하고 있습니다\\n감사합니다',\n",
       " '재구매업무상 화환 보낼 곳이 많아서 여기저기 많이 이용해 봤는데 여기만큼 괜찮은 곳을 못 봤어요 \\n앞으로도 잘 부탁 드려요~~',\n",
       " '한달전에 처음 주문해봤는데 화환도 마음에 들고 무엇보다 직원분이 소통이 잘되서 좋았어요~',\n",
       " '재구매빠른배송 만족합니다.',\n",
       " '재구매항상 빠르고 가격도 좋습니다',\n",
       " '재구매어렵게 취업에 성공한 친구가 있어 계모임 하는 친구들이랑 돈을 모아서 화환 보내주었습니다!!\\n시간 잘 맞춰서 도착하니 친구가 바로 연락오네요 ㅎㅎ',\n",
       " '빠르고 정확하게 배송해주셨어요',\n",
       " '재구매배송 대박 꼼꼼 여기서 50번 이상 구매한듯요',\n",
       " '재구매고향동생 결혼식에 축하화환 보낸다고\\n급하게 주문했는데, 늦지않게 도착해서\\n정말 다행입니다 감사합니다',\n",
       " '주말에 행사 진행했는데 화환을 다 추가하라고 사장님이 이야기 하셔서 ㅜㅜ\\n급하게 준비한거라 오프라인 매장에서 주문이 잘안되더라구요ㅠㅠ\\n정말 빠르게 해주셔서 감사하고 시간안에 배송해주려서 감사하네요 ~ 덕분에 행사 잘 마쳤습니다 ! 너무 감사해요',\n",
       " '재구매급하게 주문했는데 빠른배송 감사합니다',\n",
       " '재구매모임하는 친구가 결혼을 앞두고 있어서 만나서 저녁먹기전에 서프라이즈로 화환 주문해서 선물로줬는데 좋아하고 좋아해요 ㅎㅎ',\n",
       " '재구매화환이 엄청 세련되고 고급스러워요 딱 원하는 스타일로 된 것이라 대만족합니다 전반적으로 가격도 친절하고 가성비 굳이네요 ~~!',\n",
       " '재구매거래처직원이 결혼식이 있어 주문했습니다. 급하게 연락이 와서 당일에 주문했는데 가능해서 다행이었어요! 감사합니다!',\n",
       " '배송이 정말 정확하네요!! 딱 제가 원하던 시간에 맞춰왔네요~ 요청사항도 꼼꼼하게 잘 들어주셔서 정말 마음에 들어요!! 앞으로 화환은 여기서 주문해야겠어요!!',\n",
       " '재구매항상~!!  좋습니다~^^',\n",
       " '재구매다른곳보다 저렴한데도 정성껏 잘 꾸며서 보내 주십니다~\\n꽃도 싱싱하면서 풍성해요^^\\n다음에도 또 주문할께요~~',\n",
       " '재구매다른곳보다 훨씬 싱싱하고 풍성하게 만든 화환을 보내 주십니다\\n저렴하기도하고 만족스러워요! \\n추천추천!',\n",
       " '재구매항상 여기서 시키고있어요. 배송 빠르고 좋아요.',\n",
       " '한달사용기재구매항상  고객  기대에  만족을 주는 곳..',\n",
       " '배송이 빠르고 품질도 신뢰가 갑니다 \\n주문이 간편해서 무척 만족합니다 \\n저렴하고 직원분들도 친절합니다~^^',\n",
       " '좋아요 저렴하고 빠릅니다',\n",
       " '항상그렇듯 좋아요.',\n",
       " '재구매돟아요아주좋습니다정말',\n",
       " '조카가 결혼했거든용ㆍ 축하화환 \\n 화려하고 이쁘고 원하는 시간에\\n잘 배달되어 고모로서 넘 기분 좋았답니당ㅋ',\n",
       " '재구매당골집~ 항상 최고입니다~^^',\n",
       " '아버님 생신 때 보내 드렸는데 너무 예쁘네요',\n",
       " '항상 애용합니다\\n이번에도 빠른 배송 감사합니다',\n",
       " '재구매엄마 친구 자녀분이 결혼한다하여, 엄마가 주문해달라고해서 주문했어요. 엄마가 우리가 보낸 화환이 제일 이뻤다구 하시네요ㅎㅎ!!',\n",
       " '재구매경조사 등에 필요한 화환은 항상 주문합니다. 가격도 합리적이고 요청한 시간에 맞춰 배송해주어 항상 감사하게 생각합니다.',\n",
       " '재구매가을이되니 예식이 많네요~~ 당근 다음예식때도 잘부탁드립니다~~',\n",
       " '바르고 정확하게 배송되었습니다. 고맙습니다.',\n",
       " '제시간에 잘 도착했어요~! 만족합니다',\n",
       " '한달사용기재구매늘 애용합니다 재구매또합니다',\n",
       " '한달사용기재구매제품좋아요. 친절해요',\n",
       " '배송도 시간도  잘맞춰 주시고 가져다 주시는분도 친절히 해주셔서 감사했습니다.\\n좋은날 활짝핀 꽃처럼 예쁜 시작하라고 친구들이  선물하는거라 신경이 쓰였는데 맘에들었습니다.\\n감사합니다.',\n",
       " '빠른 배송과 친절한 사진첨부로 아주 만족하게 이용했습니다.',\n",
       " '전화하셔도 친절하게 궁금한거 답변해주시고 배송도 적당한 시간에 갖다주시고 사진까지 찍어주셔서 좋았어요 !! 비록 너무 정신이 없어서 제 눈으로 직접 확인은 못했지만요 ㅠㅠ',\n",
       " '덕분에 지난주 화환 잘도착했습니다 ~ 당시 아침에 생각나서 12시 식장에 10시 정도에 급하게 주문했는데, 친절하게 설명해주시고 식 전에 도착해주셔서 정말 너무너무 했습니다~~ 당시 여러곳 다 불가능하다 했는데, 여기 사장님께서 해주셨어요. 너무 감사드리며 화환 필요하신 분들 여기 사장님께 주문하세요~~!!',\n",
       " '꽃배달 업체 여러군데 이용해밨는데 여기가 제일 괜찮은거 같아요 \\n총알배송에 친절한 상담에 화환도 구성좋고 이쁘네요 급하게 주문했는데 배송시간도 착오없이 잘 보내주셔서 감사합니다',\n",
       " '재구매자주구매해요\\n마음에들어요',\n",
       " '늦게 시킨거아닌가 걱정했는데 제때 맞춰서 꽃도 싱싱하고 아주 예쁘게 왔어요! 담에 또 시킬께요! 감사합니다ㅎ',\n",
       " '화환도 너무 좋네요~\\n배송의 상태도 좋고 개업식을 하는 지인에게 보내줬는데\\n꽃이 풍성하고 시간도 잘 맞춰서 갖다주셔서 넘 좋았어요\\n요즘 온라인으로 많이들 주문을 하는데 진짜 해보니 더 이쁘고 좋네요',\n",
       " '한달사용기재구매좋습니다 아주 좋습니다',\n",
       " '재구매항상 여기서 주문하고 있어요',\n",
       " '재구매잘 도착해주셔서 감사합니다!',\n",
       " '재구매언제나 만족스럽습니다.',\n",
       " '혀사퇴직한 친구가 큰마음 먹고 이번에 샵을 오픈했어요. 새로운시작 좋은기운을 담아 친구에게 선물했습니다.친구가 너무 마음에 들어해서 저도 좋네요',\n",
       " '재구매항상 이용합니다 이번에는 예식장에서 눈으로 확인했네요 배송빠르고 인증샷까지 좋아요',\n",
       " '화환보낼일 있어서 온라인으로 알아보다가 딱 마음에 들어서 선택했어요^_^ 시간도 잘 맞춰서 도착했고 가격도 착한데 꽃상태도 너무 좋고 이뻤어요~  다음번에도 이용할께요!',\n",
       " '언제나 감사합니다~',\n",
       " '재구매근조화환 잘받았습니다',\n",
       " '한달사용기재구매빠른배송 항상 감사합니다',\n",
       " '친구 개업축하로 보내줬는데 맘에 들어하네요 \\n어려운시기에 용기내서 새로운 도전하는거 축하해주고 싶어서\\n여러군데 비교하고 문의해서 여기로 결정했는데 선택 잘 한거 같아요',\n",
       " '아는 지인분 결혼식에 보내려고 했는데 이런 게 처음이라 어색했지만 사장님이 잘 안내해 주셔서 무사하보낼 수 있었어요~!! 다음에는 화환 말고 꽃바구니는 꽃다발 같은 걸로 한번 이용해 볼게요 사장님 번창 하세요~^^',\n",
       " '한달사용기진짜 굿 초이스입니다.항상꽃배달주문은 여기서~~~',\n",
       " '재구매축하할 일이생겨 배송을 주문했어여.\\n깔끔하게 잘 배송해주셔서 감사합니다.\\n늘 만족하게 해주는 곳이네요',\n",
       " '지정한 날자에 안갖다주고 개업도 하기 전에!!\\n전날에  갖다 주겟다 하고 갖다 주면 어떻게요!!',\n",
       " '결혼하는 친구가 있어서 예쁘게 화환 하나 해서 보냈어요! 시간 맞춰서 배송해주시고 예쁘게 만들어서 보내주셔서 친구들에게 칭찬 받았네요 ㅎ 상태 좋고 예뻐요! 만족해요 ㅎ',\n",
       " '재구매제품 배송 모두 만족합니다.',\n",
       " '거래처에 잘보냈읍니다.',\n",
       " '재구매늘 여기서 주문해요~ 만족합니다!',\n",
       " '축하할일이있어서 급하게보냈는데도 시간정확하게 좋은제품으로만 구성해서보내주셔서 감사해요ㅎㅎ다음번에도 선물할때있음 또주문할께요 ^^',\n",
       " '재구매매우빠른배송매우만족',\n",
       " '친오빠가 꼬기집을 오픈하게되어 화환 준비했어요 꽃도 예쁘고 풍성하니 좋아요. 앞으로 35플라워 단골각입니다.',\n",
       " '재구매항상 잘이용하고있습니다.',\n",
       " '친구가 옷가게 개업을 한다고 연락이 왔어요\\n가보지 못하고 하니 그래서 개업으 화환을 보내드렸어요~\\n화환이 꽃이 너무 이쁘고 풍성하지만 일단 화환이 고급스럽고\\n배송도 빨라서 만족합니다.',\n",
       " '넘 예쁜 화환을 지정한 시간에 잘 배달해 주셔서\\n고맙습니다.\\n삼오플라워를 자주 이용하는데 대만족입니다.',\n",
       " '선물드린분이 너무 좋아해요~',\n",
       " '작은 꽃배달 같은거는 근처화원에서 몇번 해봤는데 온라인상으로는 처음이라 반신반의 했는데 꽃 너무 풍성하고 시간맞춰 잘 보내주셔서 감사드려요 너무 친절하신 응대에 필요하면 자주 방문하려구요',\n",
       " '재구매항상 잘 애용하고있어요',\n",
       " '친구들모임이 있는데 그중 한친구가 코로나때문에 일년을 미루다가 드디어 결혼식을해서 친구들이랑같이 화환보내줬어요~ 시간에 맞춰서 잘 도착했고 너무 이쁘게 잘 왔네요^^',\n",
       " '정확한 배송.\\n이쁜 화환.\\n대만족.',\n",
       " '배송이 빠르고 정확합니다',\n",
       " '재구매매번 잘 이용중이에요 굳입니다.',\n",
       " '화환 빠르게 배송해주셨더라구요 ^^\\n진짜 생각보다 훨씬 빨리 배송해주셔서 너무 좋았어요.\\n화환도 신선한 꽃으로 풍성하게 잘 구성해주셔서 좋네요',\n",
       " '친절한 상담과 정확한 배송 감사합니다^^',\n",
       " '튼튼하고 좋았습니당',\n",
       " '전날(주말)에 시켰는데 잘받았다고 합니다. 빠르고 예쁜거로 보내주셨어요~',\n",
       " '재구매항상 주문하는곳 !!! 번창하세요',\n",
       " '진짜 배송도 정확하고 화환도 너무 이쁘고 최고입니다! 담에도 화환 보낼일 있으면 여기서 할게요!!',\n",
       " '재구매빠른배송 정확한 시간 감사합니다',\n",
       " '친구가 멀리서하는 결혼식이라 주문했어요 인터넷으로 처음주문해보는데 , 다행히 시간도 잘맞춰서 도착했고 예쁘다네요 너무만족합니다^^',\n",
       " '재구매친구 결혼식이 있어서 주문했습니당!! \\n문구도 깔끔하고 여기 화환이 제일 눈에 띄어서 좋았어용ㅎㅎㅎ 넘 맘에 들어요',\n",
       " '재구매꽃 화환 배달 사고 없이 잘 받았네여\\n우선 꽃이 싱싱했구여\\n이뻐서 넘 좋았어여\\n택배주문 편하고 할만하네여',\n",
       " '배송이 빨랐어요 !',\n",
       " '배송도 빠르고 정확하네요~',\n",
       " '재구매배송 잘 받았습니당ㅎㅎ 시간에 딱 맞춰 와서 좋았어요! 사진보다 좀 더 풍성해보이고 싱싱해서 좋네요!',\n",
       " '재구매빠른배송 만족입니다. 만족',\n",
       " '재구매좋네요\\n배송도 빠르고 쓸만해요.',\n",
       " '다 좋았는데 생화로 꽂혀있는 소국이 너무 시들어서 기분이 좀 그랬어요 ㅠㅠ',\n",
       " '한달사용기재구매늘 신속배달 감사합니다',\n",
       " '지인 개업 선물로 보냈는데 \\n예쁘다고 좋아해주네요 ~ 꽃도 싱싱한거로 잘\\n만들어 보내주셨드라구요 감사합니다',\n",
       " '가성비 좋습니다~~~',\n",
       " '재구매빠른배송 만족입니다. 만족',\n",
       " '재구매빠른배송 만족입니다.만족',\n",
       " '고등학교 친구모임 첫 결혼식이라 신경써서 준비했는데, 정말 만족스러웠어요. 코로나에 안그래도 울적해했는데, 친구도 너무 고마워했구요~식장가서 보니 저희 꽃이 제일 싱싱하고 예쁘면서도 화려해서 사진찍어도 잘나오더라구요! 게다가 리본 문구 요청드린것도 너무 깔끔하게 잘해서 잘보이게 걸어주셔서, 인증샷 찍느냐고 바빴네요ㅎㅎ 문의도 많이 드리고 했는데 친절하게 답변해주시고, 화환도 너무 잘 만들어 보내주셔서 감사합니다~',\n",
       " '재구매빠른배송 감사합니다',\n",
       " '가격도 저렴하고 정말 마음에 드는 화환으로 왔습니다.\\n친구 결혼식에 제가 보낸 화환이 눈에 띄는게 정말 기분이 좋았습니다.\\n다음에도 주문할게요.',\n",
       " '사진도보내주시고 완료됏다 문자도주셔서 좋았어요',\n",
       " 'ㅎㅎ 화환하는 집 많더라구용\\n회사상사가 초개해주셔가지고 알게 됬어요 ㅎ\\n잘 해주셔서 감사합니다 ㅎㅎ',\n",
       " '재구매배송시간 너무 잘시켜주셔서 감사합니다.꽃상태도 좋고 사진도 배내주셔서 너무 좋았습니다.',\n",
       " '완전 좋아요 강추합니다',\n",
       " '재구매빠른배송 감사합니다..^^',\n",
       " '개업식에 맞춰 잘 도착했습니다\\n꽃 개화도 잘되고 싱싱하고 퀼리티 좋네요\\n가격도 착하고 만족합니다',\n",
       " '축하할 일이 있어서 급하게 주문했는데도 불구하고 시간 맞춰서 배송 잘해주셔서 넘 감사해요! 예쁜꽃 배송되었다고 엄청좋아하네요 덕분입니다 ㅎ',\n",
       " '지인 추천으로 주문했어요. 제가 직접 주문해봤던 것이 아니고 추천으로 주문한거라 조금 걱정이 됐었는데 괜한 걱정이었네요. 정말 만족스러웠습니다.',\n",
       " '빠르고 정확한 배공',\n",
       " '다른곳보다  싸고 꽃이 많은 편이에요\\n다른건 모르겠지만 축하화환은 여기가 최고인것 같아요\\n앞으로도 여기서 화환주문할게요',\n",
       " '너무좋아요 배송빨라요',\n",
       " '한달사용기재구매항상만족하는 ㅅㅓ비스가 있습니다. 여기네요',\n",
       " '친구가 결혼이 있었어요~\\n가보지 못하고 그래서 화환을 보내드렸는데\\n화환이 꽃도 풍성하고 너무 이쁘고 시간도 맞춰서 갖다주셔서 넘 좋았어요\\n감사합니다.',\n",
       " '화환이 아주 풍성하고 제 시간에 맞춰서 잘 왔어요 \\n화환을 자주 시켜보지 않아서 어떨까 싶었는데 친절하고 빠르게 보내주셔서 축하의 마음을 잘 전달할 수 있었어요 \\n넘 만족스러워요',\n",
       " '한달사용기재구매빠른배송 감사합니다.',\n",
       " '한달사용기재구매빠른배송 감사합니다.',\n",
       " '축하 화환 보내일 있어서 비교해 보고 주문했어요.\\n꽃도 싱싱하고 화환도 풍성하게 잘 보내주신 거 같네요. 받으신 분이 너무 좋아하셔서 저도 기분이 좋아요. 감사합니다  또 이용할게요!^^',\n",
       " '급하게 화환 보낼일이 있어서 주문했는데 원하는 시간에 딱 보내주셔서 감사합니다. 화환 너무 이쁘게 잘 왔습니다. 너무 만족합니다.',\n",
       " '재구매배송 빠르고 좋아요.',\n",
       " '재구매상품도 좋고 배송도 잘 해주시고,항상 믿고 주문합니다.',\n",
       " '리본글 작성시 숫자 기입시 좀더 세심함이 필요합니다',\n",
       " '한달사용기재구매선물받으신분이 너무 이쁘다고 좋아해주셨어요 좋은 물건보내주셔서 감사합니다. 최근 방문했더니 아직 싱싱하니 잘 크고 있네요',\n",
       " '지인딸 개업식에  보내려고  구매했는데  가격도 좋고  꽃도 잘보내주셔서 대만족입니다  요즘 꽃보낼일이 종종생기는데 여기서  꼭시키려고요',\n",
       " '꽃상태좋았고 원하던 시간전에 잘도착했습니다!\\n처음 주문해본곳인데\\n앞으로 종종이용하게될것같습니다!',\n",
       " '정말 고급스럽고 이쁘게 꾸며주셨네요 결혼식화환은 시간이 생명인데 빠르게 배달해줘서 넘 맘에들어요 가성비도 좋고 대만족합니다 ㅎㅎ',\n",
       " '개업식에 화환이 빠지면 섭하죠 !! 특가에 배송도 빠르고 꼼꼼하게 \\n신경써주셔서 더욱 더 빛나는 개업식이 된 거 같아서 엄마도 좋아하는 \\n모습이에요 ㅎㅎ 감사합니다~',\n",
       " '재구매믿고 주문하는 곳이에요. 감사합니다',\n",
       " '재구매언제나 믿고 주문하는 화환입니다.',\n",
       " '한달사용기재구매항상 애용합니다. 좋아요.',\n",
       " '재구매가격저렴 총알 배송 좋아요. 여기가 젤 짱인듯',\n",
       " '역시 믿고 구매하는 곳! 이번에도 깔끔하고 멋지게 잘 가져다 주셔서 감사합니다',\n",
       " '재구매미리 구매확정 합니다 그만큼 믿을수있는업체이지요',\n",
       " '재구매미리 구매확정 합니다 그만큼 믿을수있는업체이지요',\n",
       " '재구매제품 배송 모두만족합니다!',\n",
       " '재구매제품 배송 모두만족합니다!',\n",
       " '재구매언제나 빠른 배송 감사합니다',\n",
       " '직업적으로 알게된 친한형 가게 개업식에 하나 보냈습니다 거리도 멀고 가보진 못해서 화환이라도 보내려고 한건데 저보다 더 꼼꼼히 일정확인도 해주시고 퀄리티 좋은꽃 보내주셔서 감사합니다',\n",
       " '회사 대표님께서 필요하시다고 해서 주문했는데 별다른 말씀없으신걸보니 괜찮으셨나 봅니다.',\n",
       " '재구매................',\n",
       " '재구매빠른 배송 좋네요. 사무실에서 이용하고 있어요.',\n",
       " '재구매배송도 상품도 너무 좋아요 완벽\\n또 주문할게요',\n",
       " '친구가 가게를 오픈해서 의미있는 선물로 무얼해줄까 고민하다가 축하화환을 선물해봤는데  가게  분위기가 환하게 산다고 만족해하네요 감사합니다',\n",
       " '친구가 가게 개업으로 인해서 화환이 필요했어요~\\n요즘 온라인으로 많이들 주문을 한다고 그래서 온라인으로 알아보고\\n주문을 했는데 꽃이 너무 이쁘고 풍성하고 시간도 맞춰서 잘 갖다주시네요',\n",
       " '감사합니다 잘보냤습니다',\n",
       " '감사합니다. \\n자주 이용하고있습니다.',\n",
       " '재구매회사 비품으로 주문해요',\n",
       " '재구매빠른배송과 배송사진 감사합니다',\n",
       " '재구매빠른 배송과 배송사진 감사합니다',\n",
       " '화환 여기저기 비교해보고 구입햇어요.\\n직접 보지않고 배송햇는데 받은 사람이 맘에들어해서 대만족이요!',\n",
       " '좋아요 사진으로봣지만 괜찮은듯',\n",
       " '재구매매번 이용합니다. 가성비도 좋고 꽃 상태도 좋습니다.',\n",
       " '시간 맞게 잘도착하였고, 인증 사진도 보내주셔서 좋았습니다. 다음에 또 이용할게요.',\n",
       " '재구매배송시간도 잘 맞춰주시고. 만족합니다',\n",
       " '친구 결혼식에 화환 보내봤어요 화환이 엄청 비싼줄 알았는데 생각보다 저렴하고 구매하기도 쉽네요 인터넷으로 이렇게 쉽게 구매할 수 있는지 첨 알았어요 앞으로도 특별한 이벤트가 필요할 때 종종 구매해야겠어요',\n",
       " '빠른 배송도 꽃도 깔끔하면서 화려한 색감 구성으로 잘 도착했었요~ 새로 시작하는 부부를 위한 선물로 화환 주문했는데 신경써서 보내주셔서 감사드립니다.',\n",
       " '재구매잘 도착하여 좋습니다! 항상 !',\n",
       " '친구가 10년동안 육아하다가 이번에 취업에 성공을 했다고 연락이 왔어요\\n그래서 첫 출근기념으로 꽃을 보내주니 너무 좋아하네요~\\n꽃도 너무 풍성하고 넘 만족해요',\n",
       " '재구매잘받았습니다. 감사합니다.',\n",
       " '잘 도착했어요~ 지인 개업축화로 화환을 보냈는데 시간도 잘 지켜주시고 꽃들도 싱싱하니 예쁘다고 인사들었네요^^ 다음에도 이용할께요 ~',\n",
       " '요청한 시간에 정확하게 배달해주셨습니다.\\n\\n도착하고 인계사진도 바로 보내주셨어요',\n",
       " '실수없이 잘 받았습니다',\n",
       " '아이가 무용을 하는데 급하게 소규모로 공연이 잡혀서\\n꽃을 들고 가는거보다는 꽃배달로 받는게 너무 좋을꺼 같아서 주문을 했어요\\n꽃이 너무 이쁘고 너무너무 맘에 들어요',\n",
       " '항상 이용하고 있습니다\\n감사합니다',\n",
       " '재구매언제나 만족합니다. 최고~!!!!!',\n",
       " '결혼식이 있어서 주문했는데 \\n친구가 여기 괜찮다고 소개시켜줘서 주문했는데\\n꽃도 싱싱하고 퀄리티 좋네여',\n",
       " '행사는 시간이 제일 중요한데 원하는 시간에 맞춰 잘 왔어요~  꽃이 깔끔하고 만족스러워요\\n크게 신경쓸거 없이 간편하게 주문하고 빠르게 배송되니 좋네요!',\n",
       " '재구매빠르고 품질좋고 확인 사진까지 확실해요',\n",
       " '예쁘고 빠릅니다. \\n.',\n",
       " '한달사용기편하고 좋았어요~~',\n",
       " '급히 보낼 일이있어 상담하고 주문했는데\\n상담도 친절하게 해주시고 시간도 잘 맞춰 보내주셔서 좋은 선물이되옸습니다! 감사합니당',\n",
       " '재구매정확한 배송 감사합니다',\n",
       " '재구매잘받았습니다\\n자주 사용하고있어용\\n번창하세용~^^',\n",
       " '친구네 개업식에 가지 못해서 축하화환으로 보냈는데 싱싱하고 시간도 잘 맞춰보내주셔서 너무 감사했어요!',\n",
       " '재구매감사합니다 잘받았습니다',\n",
       " '빠르고 좋았어요 또 이용할게요',\n",
       " '지인 개업식에 찾아가지 못하게 되어 어찌할까 고민하다 화환이 생각나서 구매했어요 시간이 촉박해서 걱정했는데 다행이 제시간에 배송도 잘해주시고 꽃도 신선하니 좋네요 덕분에 고마운 마음 잘 전했어요',\n",
       " '친구 결혼식장에 서프라이즈로 주문했어요 \\n세상에 ㅎㅎ 다른 화환보다 너무 예쁜거 있죠?!!\\n완전 친구도 감동이라고 >ㅁ<  앞으로 화환은 여기서 주문해야될거같아요\\n감사합니다!!',\n",
       " '재구매가격도 저렴하고 배송도 정확하고 좋아요.',\n",
       " '재구매항상감사합니다~번창하세요~',\n",
       " '직장 옮긴지 얼마 안되었는데 제 상사가 생일이라는 말을 들어서\\n직장상사 몰레 서프라이즈도 이번에 꽃다발을 보내줬는데\\n직장상사가 처음 받아봤는지 너무 좋아하고 시간도 회의 끝나는 시간대라서 너무 좋아하네요 감사합니다.',\n",
       " '배송빠르고\\n배송후 사진보내주신게 좋네요',\n",
       " '재구매항상 빠르고 사진도 찍어보내주셔서 좋아요',\n",
       " '화환이 급하게 필요해서 주문을 했어요\\n화환이 진짜 고급스러우면 너무 맘에 들고\\n급하게 주문을 했는데도 바로 가져다 주셔서 넘 감사합니다.',\n",
       " '잘 받았습니다!!!',\n",
       " '친정엄마테 갑자기 전화오더니 당장 화환보낼일이 생겼다고 어떻게 해야되냐고 해서 제가 급하게 알아보고 보냈네요~ 넘 갑작스러워서 직접 전화문의드리고 결제했는데 너무 친절하셨고 생각보다 배달도 빠르게 도착해서 정말 다행이네요^^ 감사합니다 또 이용할일 있을텐데 여기서 주문 할께요!',\n",
       " '아끼는 지인이 이번에 개업해서 축하선물로 보냈습니다 ㅎㅎ 화환이 아주 싱싱하고 깔끔하다며 좋아하네요 ㅎㅎ 배송도 빨랐어요~ 감사합니다',\n",
       " '친절하시고 신경많으써주시고 좋습니다.',\n",
       " '축하할일이 있어서 보냈는데 시간맞춰서 배송해주셔서 감사해요 ㅎ 상태좋은 꽃들로만 구성해주셔서 더 축하할 수 있었던것 같아요 ㅎ 많이파세요 ㅎㅎ',\n",
       " '한달사용기너무 만족해서 리뷰 남겨요~',\n",
       " '한달사용기너무 좋아서 조만간 재구매 하려고요~~~',\n",
       " '한달사용기너무 좋아서 조만간 재구매 하려고요~~~',\n",
       " '한달사용기여기화환이제일저렴하고 가성비최고입니다.',\n",
       " '동네분 이번에 개업해서 주문했어요 \\n세상에 화환 꽃도 너무 예쁘고 가격도 착해 가성비 짱이네요\\n시간 맞춰서 보내주셔서 감사합니다.',\n",
       " '배송 빠르게 잘 왔어요 친구 결혼 축하로 보냈는데 잘 도착했어요 꽃도 이쁘고 향도 좋아서 다들 만족하고 좋아하네요 감사합니다',\n",
       " '한달사용기재구매매번 빠른배송 감사드립니다.',\n",
       " '재구매항상 화환 보낼때마다 이용하는 것 같아요. 빠르고 배송도 잘해주셔서 만족합니다.',\n",
       " '재구매빠른 배송 만족합니다',\n",
       " '재구매이렇게 관리가 잘된 화환을 특가로 구매할 수 있다니 너무 좋은 것 같아요 친구가 소개시켜 줬는데 역시 소개받은 만큼 기대도 컸지만 만족도 큽니다',\n",
       " '한달사용기항상 잘 구매하고 있습니다.',\n",
       " '재구매잘받았습니다. 또 구매할게요.',\n",
       " '재구매급하게 주문했는데 잘 받았습니다.',\n",
       " '친구 가게 오픈으로 찾아가서 축하해줘야하는데 ㅠㅠ 출근해야해서 직접 찾아가진 못하고 축하화환을 보내주었어요\\n화환 깔끔하고 시간 맞춰서 배달해주셔서 좋았어요',\n",
       " '예쁘고 배송 괜찮아요 ...',\n",
       " '재구매빠른배송 감사합니다',\n",
       " '재구매잘 받았습니다 감사합니다',\n",
       " '저희 어머니가 이번에 가게 오픈을 하셨어요.앞으로 승승장구 하셨으면 좋겠어서 축하 화환을 선물해 드렸습니다~ 제 시간에 맞춰서 직접 배송도 해주시고 총알배송이여서 그런지 더 마음에 들었습니다! 화환 상태 퀄리티 아주 좋습니다~',\n",
       " '재구매항상 애용하고 있어요 배송빠르고 처리좋아요',\n",
       " '후기가 좋은이유가 있었네요~!^^\\n시간약속 칼 같이 지켜주시고 \\n퀄리티도 넘 좋았습니다~! \\n자주이용할게요 ! ㅎㅎ',\n",
       " '재구매제품 배송 모두 만족합니다!!',\n",
       " '배송이 빠르고 친절하네요.',\n",
       " '제시간에 잘 배송되었습니다\\n감사합니다',\n",
       " '급하게 화환보낼일이 있어서 처음으로 이용해봤어요~ 가격도 좋고 배달도 빠르게 잘 도착했더라구요~ 다음번에 꽃배달 할일이 있을거같은데 또 이용해야겠어요^^',\n",
       " '진짜 가성비 짱이네요 ㅎㅎ\\n꽃 상태도 좋고 문구도 요청대로 잘 써져 왔어요\\n개업선물로 보냈는데 배송도 칼이고 아주 좋네요',\n",
       " '재구매제품 배송 모두 만족합니다.',\n",
       " '같이근무하던 친구가  사무실오픈을 하게되어 화환주문했는데 꽃도 풍성하고 배송시간 딱맟춰와 너무 고마웠어요  ~감사합니다ㅎ',\n",
       " '좋아요 좋아요. 재구매의사 있어요.',\n",
       " '친구가 카페를 오픈해성! 축하해주려궁 화환을 보내주었어용!\\n연휴라서 연락드리는게 좀 그랬는뎅 ㅎㅎ 친절하게 답변주시고 화환도 배송을 잘해주셔서 좋았오용!',\n",
       " '배송 잘해주셔서 감사해요~',\n",
       " '특가에 좋은 화환 구매한거 같아요 ㅎㅎ 배송도 빠르고 시간 맞춰서 잘 받았습니다 감사합니다!',\n",
       " '화환 주문했는데 너무 이쁜걸로 주셔서 감사합니다. 여러개중에서 제께 제일이쁜것같아요ㅎㅎ 감사합니다.',\n",
       " '처음 주문해봤는데 화환이 색감이나 견고함이 최고네요~^^ 아빠 부탁으로 거래처에 보낸건데 직접 보고 주문하는것보다 좋아요^^',\n",
       " '재구매35플라워에서. 지정하고사용중입니다\\n꽃퀄리티도 좋고 가격도 좋습니다',\n",
       " '재구매빠른 배송에 감사합니다. 지인분도 좋은데 가셨을거 같아요..',\n",
       " '너무 좋아요 ㅎ\\n화환이 크고 화려해서 우와 ~ 소리가 절로 나오네요 ㅎ\\n입구에 딱 놔두니 웅장 하기까지 하고 ㅎ\\n너무 맘에 들어요',\n",
       " '친구가 미용실을 개업해서 축하화한 하나 보냈어요~ 이런 배송이 처음이라 걱정했는데 친구가 답장으로 이쁜 화환을 보냈더라구요 ㅎㅎ 기사분도 제 시간에 바로와주시고 설치까지 해주셔서 편하게 받을 수 있었다네용~ 화환도 어디 부서진곳없이 말짱하게 와서 다행이네용!! 다음에도 꽃배달할 일이 있으면 여길 자주 이용해야겠어요~',\n",
       " '한달사용기재구매항상 주문하는 곳이에요',\n",
       " '완전조아요 친구네개업식 넘 감사합니다.이집에서 2개주문했어요',\n",
       " '잘 받았습니다 감사합니다 수고하세요 홧팅',\n",
       " '재구매빠른배송이 좋아요.',\n",
       " '재구매잘 전달 해주셔서 감사합니다',\n",
       " '재구매항상 이용하는 업체이고 빠르고 정확한 배송 만족',\n",
       " '한달사용기총알 배송 인정! 넘 서비스가 좋네요',\n",
       " '재구매정확한배송 감사합니다',\n",
       " '요즘에는 평일에도 이렇게 결혼을 하네요. 제가 너무 바쁜 업무로 참석하지 못하고 화환이라도 보냈어요^^. 배송도 식 맞게 미리 도착해 줘서 얼마나 다행 이던지. 친구한테 전화하면서 화환 잘 받았냐하고 참석 못해 미안한 마음을 전했습니다. 앞으로 제 친구들이 많이 가겠죠. 그때마다 35플라워 찜 입니다',\n",
       " '재구매좋아요 배송도좋아요',\n",
       " '늦지않게 배송해주셔서 감사합니다\\n거리가 좀 있으셨을꺼 같은데 덕분에 화환 잘 전달했습니다~\\n감사합니다!',\n",
       " '결혼식 계속 미루다가 드디어 친구가 결혼했어요~  더 축하해주고 싶어서 화환도 보냈네요^^ \\n저도 일찍 갔는데 화환은 더 일찍 잘 도착해있드라구요^^ 감사합니다~~',\n",
       " '친절하고 상태도좋네요👍',\n",
       " '한달사용기재구매잘 전해 주셔서 감사합니다',\n",
       " '한달사용기재구매빠른배송이인상적입니다',\n",
       " '배송은 빠릅니다.....',\n",
       " '재구매항상 주문하여 사용하고 있습니다.',\n",
       " '거래처 결혼식 화환이었어요. 시간맞춰 배송감사, 싱싱한 꽃으로 보내주셔서 더욱 감사~',\n",
       " '재구매항상 잘 이용하고 있습니다~^^',\n",
       " '재구매확실히 신속 배송 만족합니다',\n",
       " '친구가 매장하나 오픈하게 되었는데 직접 가보질 못해서 인사차 축하화환 선물로 보내주었어요. 화환 받은 친구가 마음에 들었는지 꽃들이 너무 이쁘다며 칭찬을 아끼지 않더라구요? 빠른 배송까지 해주시고 싱싱한 꽃들로 이쁘게 보내주셨더라구요~ 다음에 기회되면 또 이용하도록 할게요.',\n",
       " '재구매항상 빠른배송 감사합니다~~',\n",
       " '급하게 주문했는데도 시간맞춰 보내주셔서 감사합니다!\\n화환 상태도 좋았고 배송해주시는 분도 친절해서 너무 좋았어요~',\n",
       " '한달사용기아주 좋아요 이래서 다들 구매하나바요\\n재구매 고고합니다',\n",
       " '항상 이용하는데 늘 만족합니다',\n",
       " '한달사용기감사합니다. \\n제시간에 잘 도착하였다고합니다',\n",
       " '남친생일에 한번보내봤는데 이렇게 좋아해줄줄은 몰랐네요. 남자들도 꽃을 좋아하더라구요 ㅎ 잘받았고 담에도 주문할께요 ^^',\n",
       " '외삼촌 생신이라 보내 드렸어요.\\n너무 예쁜 꽃 받으시고~ 코로나로 생각도 못했는데 감사하다고 전화하셨더라구요.\\n검색해보고 후기도 읽어보고 주문했는데 선택 잘한거 같아요. 또 이용하러 올게요~',\n",
       " '지인 추천으로 소개받아서 구매했는데\\n온라인 주문이 이번이 처음이라 걱정했어요\\n그치만 예약 배송까지 정말 빠르게 도착했네요 🤭🤭',\n",
       " '배송도 제시간에 와주셨고 꽃바구니도 만족스럽습니다.',\n",
       " '행사장 보낼 화환 고민고민해서 찾다가 선택했는데 정말 좋네요 꽃이 정말 싱싱하고 다른 화환보다 진짜 두배는 꽃이 많아 보였어요 가격은 다 비슷비슷해도 품질은 최고네요 감사합니다~~',\n",
       " '가격도싸고 만족합니다',\n",
       " '인터넷으로 처음주문해봤는데 전화상담도 친절하게 해주시고, 특히 이쁜제품으로 주셔서 받는분이 좋아하세요^^',\n",
       " '항상만족합니다~~~',\n",
       " '지인이 가게 개업을 해서 이번에 화환을 보내줬어요\\n화환이 진짜 고급지고 가성비 좋네요',\n",
       " '재구매배송이 빠르고 배송사진도 문자로 남겨줘서 좋았습니다',\n",
       " '재구매배송이 빠르고 배송사진도 문자로 남겨줘서 좋았습니다',\n",
       " '한달사용기재구매배송이 빠르고 배송사진도 문자로 남겨줘서 좋았습니다',\n",
       " '재구매빠른 배송 감사드립니다..',\n",
       " '재구매항상이용합니다~~~~',\n",
       " '재구매항상이용합니다~~~~',\n",
       " '빠른배송 잘배송해주셔서 감사합니다^^',\n",
       " '총알배송 감사합니다.',\n",
       " '배송빠르고 좋아요 최고',\n",
       " '배송빨라요질도좋아요',\n",
       " '친구가 결혼한대서 축하해주려고 보냈어요. \\n멀기도 멀지만 코시국이라 결혼식에 참석은 못했네요. 시간 맞춰서 잘 도착했더라고요. \\n예쁘게 보내주셔서 감사해요.',\n",
       " '코로나로 힘든시기에 가게오픈한다는 지인에게 보내드릴려고 주문했어요\\n퀄리티도 좋고 다른데꺼 보다 제가 보낸게 젤로 이쁘네요',\n",
       " '특가라 정말 저렴하게 구입한거같아요!! 사진으로 봤는데 정말 이가격 실화 인가 싶더라구요~ 꽃도 완전 풍성하고 이쁘던데... 너무 감사해요!!  다음번에 또 이용해야겠습니다^^',\n",
       " '한달사용기재구매잘 이용하고 있습니다.. 감사합니다..',\n",
       " '한달사용기재구매잘 이용하고 있습니다.. 감사합니다..',\n",
       " '동창 결혼식인데 동창회에서 화환보내야해서  주문했습니다. 지인추천으로 구매했는데 괜찮네요. 가격도 저렴하고 화환에 있는 꽃상태도 좋습니다',\n",
       " '이벤트로는 너무 만족했는데...아무리 특가지만 꽃상태가 시든게 많이보여서 조금 아쉬웠네요!!!그래도 배송은 시간딱 맞춰주셔서 좋았어요!!',\n",
       " '화환 보낼곳이 생겨 주문했는데 친절하게 상담해주시고 좋은 화환을 보내주셔서 좋았어요. 다음에 필요하면 또 주문 할게요',\n",
       " '한달사용기재구매배송도 시간에 맞추어서 잘해주시고 가성비도 좋네요',\n",
       " '재구매배송빠르고 굳입니다.',\n",
       " '배송빠르고 상품 이뻐요 좋아요!',\n",
       " '친구 결혼식에 보냈는데 화환 상태가 너무 좋고 화사해서 선물하길 잘했다고 생각들었어요! 만족합니다',\n",
       " '재구매빠른배송 감사합니다.',\n",
       " '많은 곳중에 고민하다 선택했는데 정말 잘 선택했네요 꽃도 하나같이 싱싱하고 다른곳보다 꽃도 풍성한데 시간도 잘 맞춰주셔서 감사합니다 다음에도 부탁드리겠습니다',\n",
       " '재구매빠르고 신속 가격저렴',\n",
       " '친언니가 조카 낳고 조리원에서 퇴원하는 날이라 현관앞에 대문짝만한 화환 보내줬어요 제정신이냐고 전화 왔는데 이벤트 주최자는 넘 행복합니다 빠른 배송, 상품 퀄리티 아주 만족스러워요!!',\n",
       " '친구부모님께서 지병으로 돌아가셨다는 연락을 받았어요\\n하지만 코로나여파로 친지들만 갈수있어서 화환이라도 보내드리려고\\n알아보고 보내줬는데 시간도 잘 맞춰서 가져다 주시고 꽃도 풍성하고 넘 좋았다고 연락이 왔네요',\n",
       " '한달사용기재구매배송 빠르고 좋아요',\n",
       " '배송 빠르고 만족합니다 \\n상품 퀄리티가 좋아요!!\\n잘받았어요 ^^',\n",
       " '재구매배송빠르고 친절합니다. 여기서만 구매합니다',\n",
       " '재구매잘 받았습니다. 감사합니다.',\n",
       " '배송도 빠르게 되고 아주 좋아요. 항상 이용하는 곳입니다.',\n",
       " '고모님께서 가게를 오픈하셨는데 멀어서 직접 못가는 대신 보내드렸어요. 꽃이 싱싱하고 예쁘다고 연락오셨네요. 감사합니다.',\n",
       " '거래처가 사무실 확장 이전을 해서 축화 화환하나 보내드렸습니다. 빠른 배송에 색감도 알록달록 이쁜 꽃들로 정성껏 준비해서 보내주셨네요~ 거래처에서 감사 인사 전달 받았어요~ 이쁘게 준비해서 빠른 배송 해주셔서 감사드려요.',\n",
       " '재구매빠른배송 만족입니다. 만족',\n",
       " '이 상점 정말 최고예요. 친구 결혼식 혼잡한 곳이라 걱정했는데 예식 시작전에 도착해 감사요. 가성비도 좋고 풍성하게제작해서 왔어요. 완죤 감사합니다. 상점 찜 합니다.',\n",
       " '재구매아주좋아요 편해요 간편해요',\n",
       " '배송 잘 받았습니당 ㅎㅎ 시간도 맞춰주시고 화환상태도 너무 좋네요!! 감사합니다!',\n",
       " '친구 개업식이라 보냈습니다. 퇴근하고 와서 봤는데 꽃이 풍성하고 싱싱하네요. 친구도 예쁘다고하고 덕분에 기분좋은 선물했습니다.',\n",
       " '배송시간 지켜주는 곳 이네요. 감사합니다. 가성비보다 더 멋지게 왔어요.  이렇게까지 풍성하게 와줘서 깜놀^^ 친구결혼식장에 화환도 멋지게 ㅋ  감사합니다 상점 찜 했어요.',\n",
       " '친구가개업을 해서 보냈어요 \\n시간약속 잘 지켜주시고 친절하시네요 \\n잘 보낸거 같아요',\n",
       " '행사가 있어서 보내게 되었는데,\\n처음 주문해본거라 시간을 잘맞출지 고민스러웠는데\\n그럴필요 없었네요 빠른배송 감사합니다^^*',\n",
       " '정말 총알배송이네요~~♡\\n부랴부랴 주문했어요 \\n배송 굿 퀄리티가 좋아요',\n",
       " '재구매빠른배송감사합니다.',\n",
       " '좋네요 좋아요 좋은것같아요',\n",
       " '모임에서 보내야할 일이 있어 주문했습니다\\n창단 후 처음보내는거라 신경쓰였는대 좋은거 잘 보낸거 같아요 \\n수고하세요',\n",
       " '화환 배달 보냈는데 정말 고맙다고 잘받았다고 하네요~~  감사합니다^^ 가격도 많이 비싸지 않고 온라인으로 주문할수도 있고 정말 좋습니다~^^',\n",
       " '재구매빠른 배달 감사합니다~',\n",
       " '한달사용기재구매일등으로 도착했다고 합니다',\n",
       " '급하게 주문했는데 제시각에 도착해서 다행이네요  화환은 재활용하는곳이 많다는데 여기는 전혀 그런거 없나봐요 꽃상태가 너무 좋네요 감사합니다',\n",
       " '총알배송역시나 성격급한저에게 아주만족스러운서비스가되었습니다 감사합니다',\n",
       " '재구매배송빠르고 친절하시고 무엇보다 상품이 너무 만족스러워요~',\n",
       " 'ㄴ좋아요아줒ㅎㅎ가용ㅇ',\n",
       " '잘 전달이 되었습니다 휴일이라서 조금 걱정 했는데 잘 보내졌어요\\n신경 않쓰이게 잘 해주셔서 감사드립니다 다음에도 주문하도록 하겠습니다',\n",
       " '친구 결혼식이라 화원보냈는데 덕분에\\n늦지않고 세이브했네요 ^^ 감사합니다',\n",
       " '저렴하고 보기도 좋고 배송도 제때오고 나무랄게 없었습니다. 서비스에 감사드립니다.',\n",
       " '재구매배송도 빠르고 만족해서 매번 이용하고있습니다',\n",
       " '재구매단골집~ 만족합니다.',\n",
       " '재구매이번에 회사직장동료가 결혼해서 주문했어요\\n직접 도착해서 봤는데 화환 퀄리티가 좋더라구요\\n다른분들 비싸게주고보내주신 화환이랑 비교했을때\\n크게 별차이를 못느꼈네요 ㅎ\\n최고!',\n",
       " '재구매두번째주문이예요\\n여기 화환 퀄리티가 좋고 가격이저렴하고\\n약속도 잘지켜주셔서 또 구매했어요~\\n이번에 지인 개업식에 보냈는데 지인이 너무\\n큰돈쓴거 아니냐고ㅎㅎㅎ덕에 어깨으쓱했네요',\n",
       " '한달사용기친구가 좋아했어요 감사합니다',\n",
       " '리뷰보고 주문해봤는데 리뷰대로 너무 친절하게 상담해주시고, 이쁜상품으로 재시간에 딱 맞게 주셔서 감사합니다 ^^',\n",
       " '재구매항상 같은 곳에서 주문하는데 지역에 관계없이 문제없이 잘 배달되고 가성비도 좋습니다',\n",
       " '명절연휴 끝난 수요일에 결혼하는 사람이 누군가 했더니 제 친구였네요. 예쁜 결혼식장 벽면에 꽃까지 장식되어있으니 정말 멋졌어요. 싱싱한 꽃 제시간에 보내주셔서 감사해요 덕분에 예쁜 날 되었습니다',\n",
       " '재구매배송만족입니다...만족',\n",
       " '화환을 처음보내봐서 걱정이 많았는대\\n상담도 친절하시고 시간도 잘 맞춰주셔서\\n너무 만족했습니다',\n",
       " '배송지 바꿨는데 원하는 시간에 배송이 잘 됐어요. 다음에도 여기서 또 주문할게요',\n",
       " '재구매항상 잘 이용하고있습니다!',\n",
       " '이곳저곳 비교하다 주문했는데 대만족\\n시간 약속 칼 같네요 마무리까지 깔끔\\n화한 가성비 좋네요',\n",
       " '부모님께 급하게 깜짝 선물로 드렸는데 우선은\\n당일 주문해도 정말 총알 배송으로 안전하게 가져다 주셔서 감사합니다. 헤헤 가격도 정말 저렴하고 꽃도 너무 예쁘고 부모님이 행복해하시네요 ㅎㅎ',\n",
       " '재구매배송빠르고 좋아요.',\n",
       " '저렴하게 잘 샀네요 \\n로켓 총알 배송이라 배송도 빠르고 \\n시간 약속 잘 지켜주셔서 좋아요 :) \\n담에 또 구매하겠습니다.',\n",
       " '재구매항상 잘 사용하고 있습니다.\\n빠르고 정확하게 배송 해주셔서 감사합니다.',\n",
       " '화환 시킬일이 종종 있는데 원래 시키던곳보다 가격 좋은곳 알아내서 좋네요! 퀄리티도 전혀 떨어지지 않아서 좋아요~!!',\n",
       " '항상 이용하는 곳입니다.\\n가격대비 너무 좋아요 \\n다음에 또 이용할게요',\n",
       " '총알배송 감사합니다~!\\n풍성하게 부탁드렸는데 꼼꼼하게 신경써주셔서 너무 감사드려요 ㅎ 다음에도 또 주문할게요',\n",
       " '재구매신속하고 정확합니다~^^',\n",
       " '배송시간 맞게 잘 도착했다고 연락 받았어요.  친구 딸 결혼식화환 으로 보냈어요. 직접 참석하면 좋은데 요즘 시기적으로 참석 못하고 이렇게 마음으로 보냈어요 ^^',\n",
       " '화환 가격 너무 괜찮구요!! 풍성하게 잘 왔더라구요~! 가성비 맘에들어서 여기 자주 시킬거같은 느낌이에요 ㅎㅎ',\n",
       " '화환이 필요해서 주문을 했는데\\n시간을 맞춰서 갖다주시고 넘 좋았어요',\n",
       " '요즘같은 시국에 방문은 못하더라도 화환으로라도 마음을 전하게 돼서 좋은거같네요 잘 배송해주신거 같아요',\n",
       " '한달사용기재구매항상 잘 애용합니다\\n신속정확',\n",
       " '지인 결혼식이라 축의만 할까 하다가 화환도 보냈는데 상태 좋은 상품으로 배송된거 같아 좋아요',\n",
       " '결혼식으로 화환을 보내줬는데 화환이 진짜 고급지고 만족해요',\n",
       " '재구매항상 여기서 주문합니다. 칼배송입니닼',\n",
       " '한달사용기빠른 배송 감사해요\\n오늘 꽃바구니 주문했었는데\\n사실 만족스런 디자인은 아닙니다\\n좀더 가격이 있는 걸로 주문할걸 후회했어요',\n",
       " '화환 주문은 처음이어서 전화로 이것저것 여쭤보았는데 친절히 응대해주셔서 감사합니다. 급하게 보내야했던 부분이라 진행이 될까 했지만 덕분에 잘 진행했네요. 감사드려요!',\n",
       " '재구매즉시 발송 항상 이용하는 곳입니다. 항상 감사합니다',\n",
       " '배송도 빠르고 사진 보내주는게 안심되네요',\n",
       " '한달사용기재구매항상 재구매 하고 있습니다.\\n빠르고 정확하게 배송 해주셔서 감사합니다.',\n",
       " '거래처 따님 결혼식에 가진못하고 화환이라도 보냈는데 배달빠르고좋네요',\n",
       " '감사합니다 화환 고퀄로 잘 배송됬네요\\n주말이라 늦을까봐 걱정했는데 늦지않게왔네요\\n다음에 또 이용하겠습니다',\n",
       " '재구매배송도 정확하고 가격도 저렴해서 매번 이용하고 있습니다.',\n",
       " '재구매배송도 정확하고 가격도 저렴해서 매번 이용하고 있습니다.',\n",
       " '급하게 주문했는데 배송시간 잘지켜주시고, 이쁜상품으로 보내주셔서 감사합니다.^^',\n",
       " '재구매주문하다 리본 문구 오타났는데 센스있게 잘 고쳐주셨어요 ㅎㅎㅎ\\n지난번 구입하고 너무 괜찮아서 또 이용했는데 전화 받으시는 분이 사장님인지 직원분인지 잘 모르겠는데 상당히 친절하십니다~',\n",
       " \"개업한 친구 축하해주려고 화환 보냈습니다 ^^ \\n꽃도 화려하고 풍성해서 좋아요 'ㅁ' \\n친구가 좋아하니 기분 좋네요 ^^\",\n",
       " '아주좋은제품이라고생각합니다.',\n",
       " '한달사용기재구매정성스러워서 추천해요',\n",
       " '잘 받았고 , 퀄리티 너무 좋습니다\\n다음에 화환 보낼때 또 이용할게요^^',\n",
       " '재구매빠른 배송 감사합니다',\n",
       " '재구매믿고 씁니다~ㅎㅎㅎ',\n",
       " '재구매제품 배송모두 만족합니다',\n",
       " '잘 받앗네요 전달이 잘 되어서 아주 만족스럽습니다\\n잘 보내주셔서 감사드리고 다음에도 주문하도록 할게요',\n",
       " '매번 이용하는데 너무 좋아요!!',\n",
       " '재구매항상만족하고있어요   전달받으신분도 너무나 만족해서 기뻐요 행사있을때 또 주문할꺼예요',\n",
       " '개업하신분께 보내드렸어요 가격도 저렴해서 부담없이 한거 같아요!',\n",
       " '항상 애용하는곳입니다',\n",
       " '신속한 배송과 안내 서비스 너무 좋아요 감사합니다',\n",
       " '한달사용기빠르게 처리되고 사진도 바로 보내주셨어요',\n",
       " '재구매이번 연휴에 급하게 보내야 해서 주문 했는데\\n잘보내주셔서 감사드려요\\n잘 처리가 되어서 고맙네요',\n",
       " '재구매깜박 잊어버려서 허둥지둥 준비했는데 빨리 보내주셔서 감사했어요 \\n특가로 저렴하게 구입했구요. 화환도 마음에 들어요. 다음에도 좋은일 있으면 재구매 하러 오겠습니다',\n",
       " '한달사용기신속한배달너무감사드립니다',\n",
       " '재구매경조사때마다 매번 씁니다 \\n배송도 빠르고 굿입니다~',\n",
       " '조아요조아요조아요조아요',\n",
       " '재구매배송빠르고품질굿입니다.',\n",
       " '재구매빠른배송. 만족합니다',\n",
       " '재구매제품 배송 모두만족합니다.',\n",
       " '재구매제품 배송 모두만족합니다.',\n",
       " '재구매사장님이 넘 친절하시네요\\n이것저것 문의했는데 친절하게 응대해주셔서 좋았습니다. 꽃 상태도 좋았고 제가 원하는 시간에 받아 볼 수 있어서 만족스러웠어요.',\n",
       " '재구매언제나 친절+신속+정확 한 곳이여서 너무 맘에 듭니다!',\n",
       " '행사가 있어 보냈는데   시든꽃도 없고  싱싱하고 멋지게 꾸며서  잘 보내주셨어요,  35플라워 처음 이용해보는데  완전 대만족이네요. 배송이 빠른것도 좋아서 다음에 또 이용할게요',\n",
       " '재구매여기서 두번째 주문해요 믿고 주문하는 집입니다 \\n배송시간도 칼같으시고 기사님도 친절하시고 만족이에여',\n",
       " '재구매이번에 화환 문구 변경때문에 사장님 좀 번거롭게해드렸는데 ㅠㅠ 넘나 친절하고 신속하게 처리해주셔서 감사했어요 ㅠㅠ',\n",
       " '빠른 배송 피드백까지 확실히 좋았어요',\n",
       " '재구매감사합니다 항상 애용합니다',\n",
       " '배송도 빠르고 정말 이쁘게 잘나온\\n아이들로 보내주셔서 좋았어요 :)',\n",
       " '재구매늘 저렴하고 빨라좋아요',\n",
       " '재구매항상 감사합니다. ^^^^',\n",
       " '재구매시간 맞혀 빠르게 잘 도착해 줘서 너무 감사합니다. 몇번째인데 너무 맘에 들어요 ㅎㅎㅎ',\n",
       " '배달완료까지 계속 연락주셔서 안심되었고요. 꽃바구니 먼저 사진으로 보내주셨는데 사진갬성감동😭그리고 꽃이 생각보다 너무 이뻐서 또 감동😭😭 코로나때문에 엄마생신에도 못가서 죄송했는데 엄마도 넘좋아하셨고요. 정말 좋은 선물되었어요. 감사합니다.',\n",
       " '재구매휴일에 빠른배송요!',\n",
       " '예상보다 더 빠르게 전달 해 주셨습니다 벌써 세번째 이용인데 이용 할 때 마다 만족하네요',\n",
       " '한달사용기급하게 밤늦게 주문 넣었었는데 다음날 오전 중으로 보내주셨던거 같아요~ 요즘 코로나때문에 4단계라서 사실 장례식장 가지도 못하는 상황이라 너무 안타깝지만 이렇게나마 근조화환이라도 보내서 고인명복빌어드리는것도 좋은방법인듯합니다~~',\n",
       " '친구결혼식에 보냈어요\\n급하게 보냈는데 제시간에 도착했더라구요\\n화환도이쁘고 만족합니다\\n가성비굿',\n",
       " '재구매빠른 배송 감사합니다..^^',\n",
       " '항상 믿고 구매하는곳 이에요~\\n빠른배송 풍성한 꽃량도 정말\\n만족스럽네요 ^^*',\n",
       " '재구매제가 화환 주문해 본 것 중 가장 빨리 도착했어요. 완전 만족합니다.',\n",
       " '재구매원하는 시간에 맞춰 잘 도착했습니다. 도착 후 사진을 보내주셔서 화환상태도 확인 가능하고, 늦을까 조마조마할 필요 없을정도로 시간도 잘 맞춰주셔서 감사합니다.',\n",
       " '기분좋은 개업 축하선물이 되었어요 :)',\n",
       " '재구매굿 자주 이용중입니다^^',\n",
       " '재구매원하는시간에 맞춰서 정말빠르게 배송해줍니다 :)',\n",
       " '급하게 주문했어요 정확하게 시간 맞춰 보내주셔서 감사합니다',\n",
       " '신속하고 응대가 빠르고 꽃도 예뻤어요.',\n",
       " '재구매다른곳 기본형보다 퀄리티 괜찮고 가격도 착해서 만족스러워요\\n근조화환 보냈다가 괜찮아서 친척분 개업식에 보냈는데 괜찮네요',\n",
       " '재구매빠른배송이좋앗습니다',\n",
       " '재구매배송너무 빠르고 정확합니다  자주이용합니다. 믿을만합니다',\n",
       " '친절하시고 좋았어요%%',\n",
       " '빠른배송 \\n감사합니다~^^',\n",
       " '인터넷으로 주문을 해봤던 경험 중에 제일 최고였습니다!\\n꽃도 너무 싱싱하고 꽃다발이 풍성해서 너무 이쁘더라구요!\\n주는 사람도 받는 사람도 너무 기분이 좋았어욥!!\\n사진으로 친구가 찍어준 것을 봤지만 최고였네욥 ㅎㅎ',\n",
       " '재구매항상  정확한  배송  감사합니다.',\n",
       " '요즘은 진짜 화환이 대세죠...ㅋㅋ 가보기는 힘들고 마음은전하고 싶을떄 이만한게 없어요 최고좋았어요 ㅎㅎ',\n",
       " '재구매화환도 풍성하고 배송도 신속 정확했어요.\\n중요한 곳이라 배송시간 신경 써달라 요청 드렸는데 요청한시간에 맞춰 일찍 도착해서 너무너무 감사했네요!!',\n",
       " '사진도 보내주시고 감사합니다.',\n",
       " '재구매빠른배송 감사합니다.',\n",
       " '사진에 비해 좀 허접햇어요',\n",
       " '친절한 응대에 너무 기분 좋게 주문했습니다 \\n물건도 딱 맞추서 잘 받았구요 \\n화려하고 예쁘네용 번창하세욥!!',\n",
       " '재구매지인개업식에 보냈어요\\n가격도 저렴하고  꽃도많고  친구가\\n아주좋아했어요ㅎㅎ\\n다음에도 또이용할게요~^^',\n",
       " '상품 배송 만족합니다.',\n",
       " '상품 배송 만족합니다.',\n",
       " '한달사용기상당히 만족합니다. 별도의 리뷰를 할 제품은 아니며 제품의 질과  빠르고 정확한 배송이 상당히 만족합니다.',\n",
       " '원하는 시간이 빠른 오전이었는데 배송불가시간대이다보니 고객센터에서 연락이 바로오셨습니다. 시간 다시 조율해서 예약하였고, 잘 도착해서 원하는곳에 잘 비치해주셨습니다.',\n",
       " '재구매배송 빠르고\\n아주 만족스럽습니다.',\n",
       " '재구매지인한테 보냈어요 시간맞춰 잘 도착했네요 \\n사진봤어요 이쁘고 풍성하게 해주셨어요 감사해요!',\n",
       " '한달사용기생화는 숨바꼭질 수준이예요.\\n그리고 전국 대리점마다 스타일이 틀려서 잘못걸리면 굉장히 올드하네요..',\n",
       " '재구매배송빠르고 제품도 좋아요',\n",
       " '재구매빠른배송 감사합니다',\n",
       " '한달사용기재구매빠르고 좋아요. \\n배송후에 사진도 보내줘서 좋아요',\n",
       " '재구매주말이라 빠르진 않더군요.',\n",
       " '빠르고 정확한 배송감사합니다',\n",
       " '재구매화환 넘 예뻐요 \\n다른데보다 여기가 제일 퀄리티 좋은거같아요 \\n배송 잘 받았어요 굿굿',\n",
       " '여기꽃집 괜찮네요\\n조카결혼식에 보냈는데 꽃도싱싱하고 가격도 넘\\n착하더라구요\\n시간장소 딱 맞게 잘도착해서\\n너무만족합니다',\n",
       " '재구매항상 믿고 주문하는 곳. \\n사진을 매번 보내주셔서 안심이 돼요\\n시간 약속도 잘 지켜주시고 꽃도 풍성하니 마음에 듭니다.',\n",
       " '여기저기 찾아보다가 급하게 여기서 화환 주문했는데 생각보다 퀄리가 좋아서 기분좋네여 앞으로 화환은 여기서만 주문하려구요:)',\n",
       " '축하화환 처음 주문해봤는데 \\n너무 친절하게 상담해주셔서 수월하게 주문할 수 있었네요~~\\n제 시간에 맞춰서 잘 도착했더라고요~\\n화환도 넘 예뻤어요~',\n",
       " '재구매좋아요  다만 사진은 현장에 인도한후에 찍어서 주셧음좋겟어요 준비중은 사진은 아무 의미가 없지않나요',\n",
       " '재구매늘 이용하지만 매우 만족합니다',\n",
       " '재구매잘 받았답니다.^^~',\n",
       " '재구매항상잘구매하고있어요  코로나때문에 참석을 못해서 대신 화한을보냈어요',\n",
       " '완전빠른배송감사합니다 ~~',\n",
       " '재구매빠르고 정확한 배송 항상감사합니다',\n",
       " '재구매빠른배송 감사드립니다 ^^',\n",
       " '회사에서 급하게 주문했는데 대부분 화환 사진만 보내주시는데 35플라워는 화환사진에 상주 성함이랑 호수가 같이 나오게끔 보내주셔서 너무 좋았어요~ 다른곳에서 주문하면 제대로 잘 간건지 매번 주문시 찜찜함이 있었는데 저렇게 화면을 같이 찍어보내주시니까 마음도 놓이고 믿음도 더 가고 너무 좋네용~',\n",
       " '오랜만에 꽃 보내드리려고 주문 했어요\\n아주 좋아하시니까 제가다 기분이 좋네요 감사해요^^!~',\n",
       " '재구매두번째 구매!! 배송도 빨라요',\n",
       " '한달사용기친구가 너무 좋아하고 예쁘게 포장해주셔서 감사해요 인증사진도 굿~~~',\n",
       " '기념일이라 이벤트해주려고 특별하게 꽃을 주문했는뎅 직접가서 고르는 꽃보다 더 이쁘고 잘 포장해주셨더라구용 헤헷\\n꽃도 넘 이쁘궁 사장님 완전 친절하셔서 좋았슴당!!\\n담에 또 구매하겠습니당!!',\n",
       " '재구매배송 빠르고 정확합니다...',\n",
       " '재구매빠른 배송 감사합니다',\n",
       " '젤 저렴하고 편하고 시간맞춰 배달 후 사진 전송까지 완벽합니다 ㅠㅠ',\n",
       " '재구매배송빠르고 정확해요',\n",
       " '재구매빠른 배송 좋아요.',\n",
       " '빠른시간 확실하네요',\n",
       " '직접 받았으면 참 좋았을텐데 좀 아쉽긴하지만 받은 친구가 좋아해서 다행이예요',\n",
       " '개업하는 친구한테 처음으로 화환을 보내게되었는데 여기저기 이것을 추천하는 글을 보고 , 확신을 가지고 주문하였는데.., 제가 외국에있는데 네이버 톡톡으로 실시간으로 사진도 보내주시고 ㅠㅠ너무 안심되고 잘 선물했습니다! 선물받은친구도 하자없이 너무 잘받았다고연락왔네요!  가격도 다른곳보다좋은데 빠르고 정확하고.. 친절하시기까지해서 또 선물할일있으면 이곳을 애용하겠다던 다른 분들 맘 이해가갑니다..! 사장님 감사합니다!',\n",
       " '근조 환관 만족합니다.',\n",
       " '재구매급하게 보내야 했는데 신속하게 처리해주셔서 감사합니다\\n가성비도 만족스럽지만 착오없이 잘 해주셔서 늘 믿고 이용하고 있어요~',\n",
       " '한달사용기위로해주셔서 감사합니다',\n",
       " '재구매화환이랑 개업화분은 여기에서만 주문하고 있습니다.\\n항상 좋은 제품, 빠른 배송 감사합니다. ^^',\n",
       " '재구매afdasfsafsafa',\n",
       " '재구매asdfasfasfsaf',\n",
       " '한달사용기재구매늘 빠르고 사진도 보내주고 좋습니다',\n",
       " '재구매아주 만족 합니다 ㅎ',\n",
       " '지인 개업한다고 개업식에 이제야 보냈네요\\n좋은 가격에 좋은 상품 보낼 수 있어서 대만족\\n특가 많이 내주세요!!',\n",
       " '잘받았습니다 \\n맘에 쏙 들어요\\n판매자분 정말 친절하세용 응대도 빠릅니당',\n",
       " '시간맞춰서잘도착했어요ㅎ\\n코로나갑자기심해져서 화환으로\\n대체했는데 깔끔히잘보내주셨어요',\n",
       " '재구매....... ..',\n",
       " '재구매빠르고 정확히 도착했어요',\n",
       " '잘받았습니다 ㅎㅎ굿굿\\n부랴부랴 주문했어요 ㅎㅎ\\n정말 굿퀄리티 굿배송\\nGood',\n",
       " '특가였는데도 너무 만족했어요 !\\n친구가게에 멘트도 부탁드린걸로 잘 갔다구ㅋㅋ\\n나중에 인증샷 올릴께요',\n",
       " '처음 주문해보는데 상담도 친절하게 해주시고 특가라 저렴하게 주문했어요!! 우리 화환이 젤 눈에 띄었어용ㅎㅎㅎ',\n",
       " '배송 화환 만족합니다',\n",
       " '와 너~무 예뻐요 정말 마음에 들어요. 배송 여부도 꼼꼼하게 챙겨주셨고, 파스텔톤으로 밝게 요청드렸었는데 정말 화사하게 해주셔서 받으시는 분도 저도 정말 만족했습니다 ^^ 감사합니다 :)',\n",
       " '한달사용기정말 빨리 도착했어요.',\n",
       " '빠른배송감사합니다.',\n",
       " '재구매매번 잘 이용하고있오요',\n",
       " '재구매덕분에 빠르고 저렴하게 화환 이용하고 있습니다.',\n",
       " '한달사용기배송 시간이 몇시간 정도 너무 빨라서 좋았ㄱㅎ 꽃바구니가 커서 아버지가 좋아하셨어요.',\n",
       " '재구매배송정확하고 친절해요^^',\n",
       " '친구네 개업식에 보냈어요.\\n가격도 부담스럽지않고 보이기에도 좋았네요.\\n번창하세요.',\n",
       " '과정깔끔하게 좋습니다',\n",
       " '재구매항상 빠르고 정확하게 배송해주셔서 감사합니다!',\n",
       " '재구매빠르고  좋아요  여기서만 시켜요',\n",
       " '재구매물건도 좋고 배송도 빨라요',\n",
       " '결재끝나기 무섭게 바로 감사문자와 담날 오전중 배달하겠다는 문자,누구에게 전달하고 사진까지 찍어 보내주셨습니다 감사합니다\\n또 이용할일 있을땐 꼭 35플라워 이용하겠습니다~^^',\n",
       " '재구매약 2시간 전 급하게 주문했는데 시간에 맞춰 도착했습니다.',\n",
       " '마침 보낼 곳이 있었는데 특가로 좋은가격에\\n보낼 수 있어서 좋네요. ^^ \\n복 많이 받으세요!',\n",
       " '재구매ㄹ항상 이용합니다~~~~~',\n",
       " '매번 여기서 주문해서 보내드리는데 받는분들마다 좋아하십니다',\n",
       " '재구매자주 이용하는 곳.  편하고  경조사 있을때마다 이용하게 되는곳.',\n",
       " '한달사용기재구매화환은 여기서만 주문합니다',\n",
       " '재구매자주구매합니다.\\n이번에도만족했어요',\n",
       " '재구매빠른 배송 감사합니다',\n",
       " '재구매꽃도 예쁘고 배송도 잘해주셔서 감사합니다.',\n",
       " '재구매빠른배송이 좋았어요..',\n",
       " '정확하고 빠른 배송',\n",
       " '재구매빠른 배송 감사합니다',\n",
       " '사이즈도 크고 생화조화 균형있게 이쁘게 해주셨어요~ 저렴하지만 싸보이지않아요~ 감사합니다!',\n",
       " '잘 받았습니다 생각보다 넘 일찍 배송되어 전시간 예식때 배치되어 당황스러웠네요 ㅜㅜ',\n",
       " '재구매항상이용하는곳 적극 추천합니다!',\n",
       " '재구매항상 빠르고 정확하게 감사합니다!',\n",
       " '친구 결혼식 화환 주문했어요~ \\n친절하게 상담해주셔서 원활하게 주문 했습니다',\n",
       " 'zushssueueeh',\n",
       " '결혼식 화환으로 최고예요!! 시간도 딱 맞춰 왔고 저렴하고 좋아용ㅎㅎㅎ',\n",
       " '한달사용기주문하면 확인전화도 오고 좋았어요',\n",
       " '한달사용기잘받아서 다음에 또 구매하려고 해요',\n",
       " '한달사용기저렴하고 꽃도싱싱했고 만족합니다.',\n",
       " '재구매늘 신속,정확해서 잘이용하고 있습니다',\n",
       " '재구매신속 인전 정확 쵝오',\n",
       " '빠른배송 감사합니다',\n",
       " '재구매배송빠르고 넘착한가격에 잘햇습니다',\n",
       " '재구매항상 감사합니다. ^^',\n",
       " 'ㅏ른배송 감사합니다',\n",
       " '만족합니다 저럼하네요',\n",
       " '재구매항상 애용중입니다.',\n",
       " '재구매자주 이용하고 있습니다. 빠른배송 감사합니다.',\n",
       " '꽃도 풍성하고 예쁘게 꾸며주셔서 감사했습니다!',\n",
       " '배송이 빠르고 도착 후 사진으로 알려줘서 좋습니다',\n",
       " '한달사용기재구매항상 빠른 배송 감사합니다',\n",
       " '좋아요 ~~~~~~~~~^^^',\n",
       " '재구매만족합니다.....',\n",
       " '재구매................',\n",
       " '한달사용기재구매가격도 품질도 좋아요.\\n감사합니다.',\n",
       " '재구매빠르고 정확한 배송',\n",
       " '재구매항상 주문하는곳~ 배송도 빠르고 사진도 보내주고~ 좋아요~',\n",
       " '한달사용기서비스가 좋아서 추가 신청 했답니다.^^',\n",
       " '몇번 이용했던곳 믿고 맡길수있는 곳입니다.\\n또 이용하러 오겠습니다.',\n",
       " 'BEST아내의 생일이라 이벤트로 꽃바구니를 찿다가 집앞에 매장에가서 꽃바구니 가격을 확인해보니, \\n여기보다 많이 비싸더군요 ^^;; 아이들이 이곳을 발견하고 이야기해주네요 \\n아이들이 열심히 상품리뷰와 구성을 보더니, 이곳이 가격대비 좋은 상품인것 같다고^^\\n이벤트 몇일전부터 아이들과 선물도 사고, 여러가지를 준비하면서 많은 기대를 하게되었네요\\n들뜬 아이들과 선물을 받고서 좋아할 와이프를 생각하니 ㅎㅎ\\n당일 배송전에 미리 전화주시고, 시간에 늦지않게 배송해 주셨더군요\\n주문하고서 와이프가 좋아하는 파스텔톤으로 미리 이야기를 했었는데.\\n꽃바구니를 먼저 받아본 아이들은 환호를 하더군요. 꽃을 잘모르는 제가 보기에도 무척이나 풍성하고 좋아요♡♡♡\\n미리 준비한 이벤트에 꽃바구니가 피날레를 장식해 주네요..\\n이렇게 좋아하는 와이프를 보니, 그동안 내가 너무 소흘한게 아니었나 하고 조금 미안해 지더군요\\n앞으로는 더 자주 이런 이벤트를 해주어야겠네요\\n이렇게 꽃바구니 이쁘게 해주셔서 감사해요.. 앞으로 더 자주 이용할게요..♥♥♥',\n",
       " '한달사용기빠르게 배송을 해줬어요',\n",
       " '재구매항상 잘 이용하고 있습니다',\n",
       " '재구매매번여기서만 구매합니다',\n",
       " '미리가져다 주셔서 감사해요',\n",
       " '재구매빠른배송부탁드립니다',\n",
       " '재구매항상 애용하는\\n신속정확',\n",
       " '재구매질 받았어요 빠른 배송 감사합니다',\n",
       " '재구매항상 빠른 배송 해주셔서 감사합니다.\\n위치 좋은곳에 잘 배송해주시고.\\n꽃도 좋은걸 보내주셔서 고맙습니다.',\n",
       " '빠른배송 감사합니다',\n",
       " '재구매빠른배송이큰장점입니다',\n",
       " '재구매빠른배송이큰장점입니다',\n",
       " '재구매화환이 필요할때 항상 이용합니다. 바로바로 잘 대응해 주셔서 감사합니다.',\n",
       " '재구매급히 주문했는데 빠르게 잘 받았습니다.',\n",
       " '재구매................',\n",
       " 'BEST원래 인터넷에서 물건사도 후기같은거 잘 쓰지않는데, 이런 꽃집은 꼭 알려야 될거같아요~~♡♡♡\\n동창회에모임에서 제일 먼저 결혼을 하게 된 친구놈한테 축하화환을 보내야 되어서 꽃집을 알아보던중\\n동네에 꽃집에서 화환 전국배송된다고 적혀있어서 들어가 금액을 확인해 보니 뜨악~~\\n그러서, 회사다니는 친한 친구에게 이야기 했더니, 자기네 회사에서 이용한다는 35플라워를 소개 받고 주문을 하게 되었습니다.\\n화환 주문이 처음이라 결제하자마자 바로 고객센터 전화 해서 확인전까지 ~~\\n고객센터에 한참동안이나 상담원에게 물어봤는데도 친절하게 마지막까지 설명해주시고 진짜 폭풍감독이었습니다. ㅋㅋㅋ\\n결혼식 당일 웨딩홀에서  실제로 화환을 봤는데  실물이 훨씬 더 이쁘고 풍성해서  아주 만족하게 되었습니다.\\n이제부터는 친구들 결혼식이 계속있는데, 이곳을 찜해놓고 이용해겠네요..\\n인생꽃집 35플라워 앞으로도  잘부탁드립니다.  번창하세요~  감사합니다^^',\n",
       " '좋아요!!!!!!!',\n",
       " '재구매상품 및 배송 다 좋습니다.',\n",
       " '재구매항상 화환은 35플라워에서 구입합니다. 이번에도 깔끔하게 원하는 시간에 배송해주시니 감사하네요.',\n",
       " '꽃같은거 고르는 감각 없는데도 선물받는사람 퍼스널컬러 맞춰서 요청드렸더니 아주 만족하네요ㅎㅎ 비오는날에도 배송 빠르고 전화받으실때 친절하십니다. 또 꽃 살일 있으면 이용하겠습니다~',\n",
       " '급하게 선물할 일이 있어서 여기저기 검색해봤는데 다른곳은 사진리뷰 보니까 지역별로 복불복이 너무 심하고 가격도 퀄리티에 비해 너무 비싸더라구요\\n거의 포기할쯤에 여기 발견했는데 리뷰 보면 거의 대부분 화환이긴 하지만 그 중 꽃바구니 사진리뷰보니까 진짜 너무 예쁜거있죠\\n그래서 바로 주문했어요 안내문자도 보내주시고 시간도 나름 맞춰주시고 사진도 보내주셔서 너무 좋았어요\\n샘플 사진이랑 비교해보면 바구니뿐만 아니라 꽃까지 95% 똑같아요\\n받으신분 대만족하셔서 저도 너무 뿌듯했어요\\n담에 또 꽃선물 할 일 있으면 무조건 여기서 주문할게요😽',\n",
       " 'BEST기존 거래처 꽃집에서 배송시간이 한참 지나도 배송이 되지않고서, 배송확인을 문의하면 전화 연결도 잘되지않고, \\n상담원들의 딱딱한 말투에 불만을 느끼던중  친구가 자기네 회사에서 35플라워를 이용한다는 이야기를 듣고 주문하게 되었습니다 ^^;;\\n인터넷 화환하는 꽃집들이 다 거기서 거기겠지, 그래도 친구말 믿고 속는셈 치고 한번 이용해 보았네요..ㅎㅎ\\n마침 중요한 거래처가 확장이전을 하게되어 화환을 보내야 되어서 주문했더니, 주문후 바로 고객센터에서 확인전화가 오네요...오오~~\\n이런 ... 배송지 주소를 우리집으로 잘못 작성했는데.. 다시 확인해주시네요 ♡♡♡ \\n주문해서 도착하기까지 빠른 배송,  배송후에 인증사진까지 보내주시고 만족 100%였습니다.\\n배송후에 대표님한테 말씀드렸더니, 대표님도 가격저렴하고 상품도 만족스럽다고 아주 좋아라 하시네요 ㅎㅎㅎ\\n요즘 같은 어려운 시기에 가격도 저렴하고 서비스까지 좋은 35플라워  정말 짱입니다!!',\n",
       " '재구매의정부 추가 요금없이 빠르게 감사합니다',\n",
       " '꽃바구니 12번 주문했고 주문에서 배송까지 4시간쯤 걸렸어요 톡톡이용한 상담도 빨리 진행됐고 저는 실물을 못봤지만 받은분이 맘에들어하세요',\n",
       " '감사합니다.좋아요 감사',\n",
       " '재구매자주구매합니다.\\n대로구매했는데\\n생각보다화분이안크네요',\n",
       " 'BEST저희 선생님께서 이번에 발표회를 하게되었네요. 아무래도 선생님 발표회를 직접 가야겠지만\\n거리가 너무 멀어서 이번에는 찿아 뵙지는 못했네요. 미리 전화도 드리고 죄송하다고 말씀도 드렸지만, \\n그래도 조금 아쉬워서 꽃바구니 폭풍검색을 하게 되었네요..♡♡♡\\n여기서 여러가지 상품을 보니 다양하게 있었는데, 차라리 평소에 선생님이 좋아하시는 꽃들로 구성해서\\n주문을 하는것이 나을거 같아서 오늘의 꽃바구니를 선택했네요....ㅎㅎ\\n결제하고 고객센터에 상담하시는분에게 파스텔톤으로 이것저것 요청 드렸는데\\n배송된 상품 사진을보니 아주 만족스럽네요..ㄳㄳ\\n상담사님 친절하게 응대해주셔서 감사해요 ㅎㅎㅎ\\n발표회 끝나고서 선생님에게 전화드려서 잘 하셨는지 이것저것 이야기하다가,\\n선생님이 꽃바구니 잘받았다고 하시네요 ♥♥♥\\n평소에 꽃바구니를 많이 받으시는 분이라 이런말씀 잘 안하시는데...ㅋㅋㅋ\\n제가 보기에도 아주 좋은상품으로 배송되어서 감사해요.\\n인생꽃집으로 등록해놓고 자주 자주 이용할게요\\n감사해요^^',\n",
       " '재구매배송 서비스 너무 좋아요👍',\n",
       " '재구매일요일인데도 신속히 배송 해 주셔서 감사합니다\\n번창하세요~~',\n",
       " '재구매글자 틀린거 있음 따로 연락주시고 진짜 꼼꼼해요',\n",
       " '재구매항상 빠른 배송 감사합니다\\n근조 특급이면 신경쓴 티가 난다고들 좋아하십니다',\n",
       " '재구매배송빠르고 상품도 좋아요',\n",
       " '재구매빠르고 정확하게 도착했어요',\n",
       " '재구매빠른 배송 만족합니다.',\n",
       " '재구매아주돟아요아주돟아요아주돟아요아주돟아요아주돟아요아주돟아요아주돟아요아주돟아요',\n",
       " '넘조아요 마니파세용ㅎㅎ',\n",
       " '재구매잘받았습니다. 감사합니다.',\n",
       " '재구매좋아요 다음데 또 구매할께요',\n",
       " '정확하고 빠른배송 좋아요',\n",
       " '화분 잘 받았습니다~',\n",
       " '재구매항상 만족하면서 시키고 있습니다',\n",
       " '늘 이용하는 곳 ^^',\n",
       " '한달사용기재구매사진과 다르게 배송됐움',\n",
       " '한달사용기아주 좋아요.잘쓰고있어요',\n",
       " '좋아요~~~ 당일배송 굿',\n",
       " '재구매정확하고 빠른 배송에 만족합니다',\n",
       " '재구매아주친절하시고 항상 인증샷까지 매번 이용하고 있어요 강추!',\n",
       " '한달사용기재구매잘 선물 드렸습니다 배송 빠르고 좋아요',\n",
       " '정말 예쁘네요♡ 감사합니다~!!!',\n",
       " '빠르고 예쁘고 좋습니다^^',\n",
       " '한달사용기재구매잘 쓰고 있습니다. 만족스럽습니다.',\n",
       " '한달사용기재구매만족해서 별5점 남기구갑니다 :)',\n",
       " '재구매회사 이름이 조금 다르게 갔지만 좋아용',\n",
       " '재구매품질좋고 배송빠르고 저렴해서 자주이용하고 있습니다. 감사합니다.',\n",
       " '재구매역시 빠르고 좋아요 \\n항상 감사합니다',\n",
       " '한달사용기재구매빠른 배송에 꽃도 너무 예뻣어요.. 와이프가 마음에 들어 합니다.',\n",
       " '한달사용기자주 이용하고있습니다',\n",
       " '한달사용기아주좋아요 간편해요',\n",
       " '한달사용기재구매배송 빠르고 잘 선물드렸네요',\n",
       " '한달사용기재구매배송 빠르고 잘 선물드렸네요',\n",
       " '재구매언제나정확하지요\\n단골',\n",
       " '배송도 안전히 시간내에 해주셔서 너무 좋았어용~~',\n",
       " '코로나라 장례식에는 가지 못해서 근조화환을 급하게 찾으면서 여기서 주문하게 되었네요~ 밤에 주문한거라 담날오전중에 가길 최대한 바랬는데 다행히 최대한 빨리 보내달라 요청드려서 빨리 배달되었습니다 사진도 보내주셔서 좋았네요',\n",
       " '한달사용기감사합니다. 사진으로 받았는데 꽃 상태가 좋더군요..',\n",
       " '재구매빠르게 잘 받았습니다:) 감사합니다',\n",
       " '재구매좋아요아요\\n좋습니다',\n",
       " '재구매잘 받았습니다. 감사합니다',\n",
       " '재구매빠른 배송 감사합니다',\n",
       " '재구매아주 만족 합니다 단골',\n",
       " '재구매상품을 아주 빨리 배송해주세요.',\n",
       " '빠른 배송 감사합니다',\n",
       " '한달사용기만족합니다. 좋은 제품 빠른 배송 좋네요.\\n다음에도 또 이용하겠습니다~',\n",
       " '한달사용기배송도 빠르고 상품도 만족합니다.',\n",
       " '항상 믿고 주문합니다^^ 빠른배송!! \\n꽉채워진 꽃들!! 너무 감사합니다',\n",
       " '배송빠르고 시간정확하고 퀄리티 조아요',\n",
       " '재구매배송빠르고 싱싱한 근조화한이 왓어요\\n잘받았습니다',\n",
       " '시간정확하시고상품이보기좋게풍성하다며 아주만족하세요 감사합니다^^\\n다음에도 이용하겠습니다',\n",
       " '재구매배송도 빠르고 배달후 사진도 찍어서 보내주셔서 좋아요',\n",
       " '재구매늘 만족 합니다 감사합니다',\n",
       " '재구매항상 잘 애용하고 있습니다',\n",
       " '한달사용기관리 잘했더니 아직도 살아있어요~',\n",
       " '주문하자마자 따로 연락 주셔서 주문 내용 확인해주시고, ㅂㅏ로 바로 문자로 진행상황 알려주셔서 좋았어요! 예정 시간보다 2시간 일찍 배송해주시고 안전하게 잘 배송됐더라구요~ 특가라 생화보다 조화가 많긴 했는데 오히려 요즘같이 더운 날씨에는 생화 화환은 지속력이 떨어져서 금방 시들더라고요!! 그래서 정말 만족합니다~~ 다음에 또 화환 주문할 일이 생기면 이용하겠습니다!',\n",
       " '재구매배송 빠르고 제품도 좋아요',\n",
       " '한달사용기재구매항상이용합니다~~~',\n",
       " '한달사용기재구매항상이용합니다~~~',\n",
       " '한달사용기재구매항상 사용합니다.\\n배송 빠르고 좋아요.',\n",
       " '재구매빠른 배송 감사합니다',\n",
       " '재구매빠른 배송 감사합니다',\n",
       " '한달사용기재구매배송도빠르고 응대도 친절했습니다',\n",
       " '한달사용기배송시간이 상담때보단 늦어졌지만 잘보내주셨어요',\n",
       " '한달사용기지인 개업선물로 보내줬어요',\n",
       " '재구매빠른배송 감사합니다',\n",
       " '재구매빠르고 안전한 배송',\n",
       " '추가배송비 없이 잘 받았습니다 아주맘에그네요',\n",
       " '재구매사진도 보내주시고 좋습니다',\n",
       " '재구매빠른 배송 감사합니다.',\n",
       " '재구매매번시키는곳이에요\\n좋아요',\n",
       " '재구매좋아요 언제나 만족하고있네요',\n",
       " '사진도 보내주시고 빠른배송도 맘에 들었어요 ~ 감사합니다 ~',\n",
       " '친절한안내와 마무리 서비스 굿',\n",
       " '한달사용기너무 친절한 상담자분이 아직도 기억나네요\\n담에도 무조건 여기입니다',\n",
       " '한달사용기재구매항상 잘 이용하고 있습니다',\n",
       " '빠른배송 도착사진 너무 감사합니다^^\\n다른것보다 풍성하고 좋아요!!!!',\n",
       " '자주 애용하소 있어요',\n",
       " '재구매배송도 빠르고 싸고 엄청 좋아요',\n",
       " '재구매맨날 여기서 시키는데 짱임',\n",
       " '재구매화환 한번 주문했는데 마음에 들어서 \\n근조도 주문했어요\\n역시 시원시원하고 깔끔하게 처리해주시네요\\n앞으로도 믿고 주문할 예정입니다',\n",
       " '재구매재구매요 감사하빈다',\n",
       " '정말 만족합니다.\\n응대도 정말 친절하게 해주셨고\\n원하는 배송시간보다 1시간 일찍 배송해주셨습니다.\\n사진도 배송전 모습과 배송 후 진열 된 모습까지 찍어서 \\n배송직후 바로 보내주셨어요\\n그리고 무엇보다 가장 맘에 든 점은 화환의 크기입니다.\\n이 점은 기대하지 못했는데\\n다른 분들이 보내신 것보다 화환의 크기가 더 크고\\n리본도 풍성하더라구요\\n정말 추천합니다!',\n",
       " '한달사용기재구매다음에도 주문할게요^^',\n",
       " '재미있는 축하를 위해 보냈어요. 스타됐다고 ㅋㅋ',\n",
       " '어디서 이딴 다 녹슨쇠를 구해서 만들어주셨는지 화환이 제대로 서있지를 못하네요 기둥이 다 삭아서 나무주워다 덧대놨습니다. 개업하는집에 보냈는데 개망신만 당했습니다. 망하라고 저딴 쓰레기 철기둥 주워다 만들어주신건지 화환보내놓고도 창피하네요.',\n",
       " '매번 여기서 불러요',\n",
       " '화환  필요시 항상 주문하는곳\\n정확해요',\n",
       " '공기정화식물로 제일이라 또 구매했어요\\n원하는 시간에 배송도 해주시고\\n집안까지 놓아주셔서 정말 감사합니다',\n",
       " '재구매항상 주문하고 있습니다 계속 신경써서 배송 부탁드립니다',\n",
       " '재구매잘 배송 받았다고 합니다. 감사합니다.',\n",
       " '재구매잘 배송 받았다고 합니다. 감사합니다.',\n",
       " '역시 개업에는 화환이 있어야 더 분위기가 사는듯해요 선물로 보냈는데 시간도 빠르고 정확 ! 바로 사진도 찍어보내주셨구요 만족입니다 !',\n",
       " '한달사용기재구매아주 만족하고 있습니다.',\n",
       " '재구매종종 이용하고 있습니다. 가격도 좋구 배송도 빨라서 아주 좋아요. 다음에 또 시킬께요',\n",
       " '한달사용기배송이 너무 빨라 좋았습니다',\n",
       " '한달사용기재구매감사합니다. 잘받았습니다.',\n",
       " '재구매감사합니다. 잘 받았습니다.']"
      ]
     },
     "execution_count": 280,
     "metadata": {},
     "output_type": "execute_result"
    }
   ],
   "source": [
    "리뷰"
   ]
  },
  {
   "cell_type": "code",
   "execution_count": 38,
   "id": "4139fdcf",
   "metadata": {},
   "outputs": [
    {
     "data": {
      "application/vnd.jupyter.widget-view+json": {
       "model_id": "d1479a6c28024853a725f5f50b8eda01",
       "version_major": 2,
       "version_minor": 0
      },
      "text/plain": [
       "  0%|          | 0/20 [00:00<?, ?it/s]"
      ]
     },
     "metadata": {},
     "output_type": "display_data"
    },
    {
     "data": {
      "application/vnd.jupyter.widget-view+json": {
       "model_id": "9482d568da4748a9a0cc87e62acbff34",
       "version_major": 2,
       "version_minor": 0
      },
      "text/plain": [
       "  0%|          | 0/20 [00:00<?, ?it/s]"
      ]
     },
     "metadata": {},
     "output_type": "display_data"
    },
    {
     "data": {
      "application/vnd.jupyter.widget-view+json": {
       "model_id": "c08e6e7f2c854a62982ad92986e0a9a5",
       "version_major": 2,
       "version_minor": 0
      },
      "text/plain": [
       "  0%|          | 0/20 [00:00<?, ?it/s]"
      ]
     },
     "metadata": {},
     "output_type": "display_data"
    },
    {
     "data": {
      "application/vnd.jupyter.widget-view+json": {
       "model_id": "232bd9e715554f23b82f4397894169b8",
       "version_major": 2,
       "version_minor": 0
      },
      "text/plain": [
       "  0%|          | 0/20 [00:00<?, ?it/s]"
      ]
     },
     "metadata": {},
     "output_type": "display_data"
    },
    {
     "data": {
      "application/vnd.jupyter.widget-view+json": {
       "model_id": "958ac2d30a744a76ab4cf52fbe4b732c",
       "version_major": 2,
       "version_minor": 0
      },
      "text/plain": [
       "  0%|          | 0/20 [00:00<?, ?it/s]"
      ]
     },
     "metadata": {},
     "output_type": "display_data"
    },
    {
     "data": {
      "application/vnd.jupyter.widget-view+json": {
       "model_id": "c29dbbeb253742c88179c5e80c573dfa",
       "version_major": 2,
       "version_minor": 0
      },
      "text/plain": [
       "  0%|          | 0/20 [00:00<?, ?it/s]"
      ]
     },
     "metadata": {},
     "output_type": "display_data"
    },
    {
     "data": {
      "application/vnd.jupyter.widget-view+json": {
       "model_id": "ba448aeb911740fbb2be43ebc57739fb",
       "version_major": 2,
       "version_minor": 0
      },
      "text/plain": [
       "  0%|          | 0/20 [00:00<?, ?it/s]"
      ]
     },
     "metadata": {},
     "output_type": "display_data"
    },
    {
     "data": {
      "application/vnd.jupyter.widget-view+json": {
       "model_id": "60d0973a289d4fbd981efe0f44d6a2ac",
       "version_major": 2,
       "version_minor": 0
      },
      "text/plain": [
       "  0%|          | 0/20 [00:00<?, ?it/s]"
      ]
     },
     "metadata": {},
     "output_type": "display_data"
    },
    {
     "data": {
      "application/vnd.jupyter.widget-view+json": {
       "model_id": "36db8941d2424e7ea563deeb0b2914b9",
       "version_major": 2,
       "version_minor": 0
      },
      "text/plain": [
       "  0%|          | 0/20 [00:00<?, ?it/s]"
      ]
     },
     "metadata": {},
     "output_type": "display_data"
    },
    {
     "data": {
      "application/vnd.jupyter.widget-view+json": {
       "model_id": "f179ccc2271c490781e51ac8e9e0b7a7",
       "version_major": 2,
       "version_minor": 0
      },
      "text/plain": [
       "  0%|          | 0/20 [00:00<?, ?it/s]"
      ]
     },
     "metadata": {},
     "output_type": "display_data"
    },
    {
     "data": {
      "application/vnd.jupyter.widget-view+json": {
       "model_id": "7c529cab8cdc47de9e0f6c0d66878e0c",
       "version_major": 2,
       "version_minor": 0
      },
      "text/plain": [
       "  0%|          | 0/20 [00:00<?, ?it/s]"
      ]
     },
     "metadata": {},
     "output_type": "display_data"
    },
    {
     "data": {
      "application/vnd.jupyter.widget-view+json": {
       "model_id": "bbff56a96c6b46469a3ccaaf52af13bb",
       "version_major": 2,
       "version_minor": 0
      },
      "text/plain": [
       "  0%|          | 0/20 [00:00<?, ?it/s]"
      ]
     },
     "metadata": {},
     "output_type": "display_data"
    },
    {
     "data": {
      "application/vnd.jupyter.widget-view+json": {
       "model_id": "75829fab848b422997bcb7af6a6e21d2",
       "version_major": 2,
       "version_minor": 0
      },
      "text/plain": [
       "  0%|          | 0/20 [00:00<?, ?it/s]"
      ]
     },
     "metadata": {},
     "output_type": "display_data"
    },
    {
     "data": {
      "application/vnd.jupyter.widget-view+json": {
       "model_id": "dd372e2aa52848eeb771fa2184f7643c",
       "version_major": 2,
       "version_minor": 0
      },
      "text/plain": [
       "  0%|          | 0/20 [00:00<?, ?it/s]"
      ]
     },
     "metadata": {},
     "output_type": "display_data"
    }
   ],
   "source": [
    "# 별점 리뷰 합치기\n",
    "# 3. 리뷰\n",
    "market = {}\n",
    "page_chek = driver.find_element_by_css_selector(\"#REVIEW > div > div._2y6yIawL6t > div > div.cv6id6JEkg > div > div\")\n",
    "pages = page_chek.find_elements_by_css_selector('a')\n",
    "리뷰 = []\n",
    "별점 = []\n",
    "for i in range(2, 13):\n",
    "    try:\n",
    "        # 리뷰\n",
    "        overlays3 = \"._19SE1Dnqkf .YEtwtZFLDz\"\n",
    "        repurchase = driver.find_elements_by_css_selector(overlays3)\n",
    "        for x in tqdm(repurchase):\n",
    "            if True :\n",
    "                driver.find_element_by_css_selector(\"._1eidska71d\")\n",
    "            else:\n",
    "                driver.find_element_by_css_selector(overlays3)\n",
    "            repurchase = x.text\n",
    "            리뷰.append(repurchase)\n",
    "\n",
    "        # 별점 \n",
    "        overlays4 = \"._1YShY6EQ56 ._37TlmH3OaI ._2V6vMO_iLm ._15NU42F3kT\"\n",
    "        reviewstar = driver.find_elements_by_css_selector(overlays4)\n",
    "        for reviewstar in tqdm(reviewstar):    \n",
    "            reviewstar = reviewstar.text\n",
    "            별점.append(reviewstar)\n",
    "        market['리뷰'] = 리뷰\n",
    "        market['별점'] = 별점\n",
    "\n",
    "        # 다음 페이지 클릭\n",
    "        aaa = driver.find_element_by_xpath(f\"//*[@id='REVIEW']/div/div[3]/div/div[2]/div/div/a[{i}]\")\n",
    "        aaa.click()\n",
    "        time.sleep(1)\n",
    "    except :\n",
    "        print(m)"
   ]
  },
  {
   "cell_type": "code",
   "execution_count": null,
   "id": "41a438df",
   "metadata": {},
   "outputs": [],
   "source": [
    "# 잘 수집되었는지 체크해보기()\n",
    "import webbrowser\n",
    "webbrowser.open(url_list[0], new=0)"
   ]
  }
 ],
 "metadata": {
  "kernelspec": {
   "display_name": "Python 3 (ipykernel)",
   "language": "python",
   "name": "python3"
  },
  "language_info": {
   "codemirror_mode": {
    "name": "ipython",
    "version": 3
   },
   "file_extension": ".py",
   "mimetype": "text/x-python",
   "name": "python",
   "nbconvert_exporter": "python",
   "pygments_lexer": "ipython3",
   "version": "3.9.7"
  },
  "toc": {
   "base_numbering": 1,
   "nav_menu": {},
   "number_sections": true,
   "sideBar": true,
   "skip_h1_title": false,
   "title_cell": "Table of Contents",
   "title_sidebar": "Contents",
   "toc_cell": false,
   "toc_position": {},
   "toc_section_display": true,
   "toc_window_display": false
  }
 },
 "nbformat": 4,
 "nbformat_minor": 5
}
