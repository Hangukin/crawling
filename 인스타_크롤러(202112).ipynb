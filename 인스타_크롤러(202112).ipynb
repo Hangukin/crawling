{
 "cells": [
  {
   "cell_type": "code",
   "execution_count": 4,
   "metadata": {},
   "outputs": [],
   "source": [
    "import pandas as pd\n",
    "import numpy as np\n",
    "\n",
    "# 라이브러리 import\n",
    "# 라이브러리 : 필요한 도구\n",
    "from selenium import webdriver  # 라이브러리(모듈) 가져오라\n",
    "from selenium.webdriver import ActionChains as AC\n",
    "from tqdm import tqdm\n",
    "from tqdm import tqdm_notebook\n",
    "import re\n",
    "from time import sleep\n",
    "import time\n",
    "\n",
    "# 워닝 무시\n",
    "import warnings\n",
    "warnings.filterwarnings('ignore')"
   ]
  },
  {
   "cell_type": "markdown",
   "metadata": {},
   "source": [
    "## (테스트용)크롤링 연구"
   ]
  },
  {
   "cell_type": "code",
   "execution_count": 72,
   "metadata": {},
   "outputs": [
    {
     "data": {
      "text/plain": [
       "'카페'"
      ]
     },
     "execution_count": 72,
     "metadata": {},
     "output_type": "execute_result"
    }
   ],
   "source": [
    "# 데이터 수집할 키워드 지정\n",
    "keyword = \"서면 맛집\"\n",
    "keyword"
   ]
  },
  {
   "cell_type": "code",
   "execution_count": 5,
   "metadata": {},
   "outputs": [],
   "source": [
    "# 크롬창 띄우기\n",
    "import chromedriver_autoinstaller\n",
    "chrome_path = chromedriver_autoinstaller.install()\n",
    "driver = webdriver.Chrome(chrome_path)\n",
    "\n",
    "driver.get(\"https://www.instagram.com/\")\n",
    "time.sleep(3)"
   ]
  },
  {
   "cell_type": "raw",
   "metadata": {},
   "source": [
    "수동 로그인"
   ]
  },
  {
   "cell_type": "code",
   "execution_count": 14,
   "metadata": {},
   "outputs": [],
   "source": [
    "# 검색창에 커서 클릭\n",
    "element = driver.find_element_by_css_selector(\".TqC_a\")\n",
    "element.click()\n",
    "time.sleep(1)"
   ]
  },
  {
   "cell_type": "code",
   "execution_count": 15,
   "metadata": {},
   "outputs": [],
   "source": [
    "# 검색 창에 검색어 입력\n",
    "element = driver.find_element_by_css_selector(\".XTCLo.Ju1dg.x3qfX\")\n",
    "element.clear()  # 혹시 검색창에 존재하는 텍스트 제거\n",
    "element.send_keys(keyword)\n",
    "time.sleep(2)"
   ]
  },
  {
   "cell_type": "code",
   "execution_count": 16,
   "metadata": {},
   "outputs": [],
   "source": [
    "# 검색어 리스트 중 첫번째 검색어 클릭\n",
    "query_list = driver.find_elements_by_css_selector(\".-qQT3\")\n",
    "query_list[0].click()\n",
    "time.sleep(3)"
   ]
  },
  {
   "cell_type": "code",
   "execution_count": 17,
   "metadata": {},
   "outputs": [],
   "source": [
    "# 첫번째 사진 클릭\n",
    "CSS_tran=\"div.Nnq7C.weEfm .eLAPa\"                         \n",
    "driver.find_element_by_css_selector(CSS_tran).click()   # 사진 클릭\n",
    "time.sleep(1)"
   ]
  },
  {
   "cell_type": "code",
   "execution_count": 18,
   "metadata": {},
   "outputs": [
    {
     "data": {
      "text/plain": [
       "'https://instagram.ficn3-4.fna.fbcdn.net/v/t51.2885-15/e35/270934974_964219314178665_8345896991750698523_n.webp.jpg?_nc_ht=instagram.ficn3-4.fna.fbcdn.net&_nc_cat=109&_nc_ohc=dScjwP4Pz5wAX_I0BLP&edm=AP_V10EBAAAA&ccb=7-4&oh=00_AT8kvkwIt3qL5GxrXIthJD5to5k5G6neYeynzKMK5N2lhA&oe=61D66B39&_nc_sid=4f375e'"
      ]
     },
     "execution_count": 18,
     "metadata": {},
     "output_type": "execute_result"
    }
   ],
   "source": [
    "# 사진(pic) 크롤링\n",
    "overlays1 = \"div._2dDPU.CkGkG .FFVAD\"                   # 사진창 속 사진   \n",
    "img = driver.find_element_by_css_selector(overlays1)    # 사진 선택\n",
    "pic = img.get_attribute('src')                          # 사진 url 크롤링 완료\n",
    "pic"
   ]
  },
  {
   "cell_type": "code",
   "execution_count": 83,
   "metadata": {},
   "outputs": [
    {
     "data": {
      "text/plain": [
       "'2021년 12월 30일'"
      ]
     },
     "execution_count": 83,
     "metadata": {},
     "output_type": "execute_result"
    }
   ],
   "source": [
    "# 날짜(date) 크롤링\n",
    "overlays2 = \"div._2dDPU.CkGkG .c-Yi7 > time\"                  # 날짜 지정\n",
    "datum2 = driver.find_element_by_css_selector(overlays2)     # 날짜 선택\n",
    "datum2.get_attribute('title')      #.text시 몇시간 전이 나옴"
   ]
  },
  {
   "cell_type": "code",
   "execution_count": 84,
   "metadata": {},
   "outputs": [
    {
     "data": {
      "text/plain": [
       "'좋아요 911개'"
      ]
     },
     "execution_count": 84,
     "metadata": {},
     "output_type": "execute_result"
    }
   ],
   "source": [
    "# 좋아요(like) 크롤링\n",
    "overlays3 = \".Nm9Fw\"                                        # 리뷰창 속 날짜\n",
    "datum3 = driver.find_element_by_css_selector(overlays3)     # 리뷰 선택\n",
    "like = datum3.text                                          # 좋아요 크롤링 완료\n",
    "like                                                                                                                                                                                                                                                                                                                                                                                                                                                                                                                                                                                                                                                                                                                                                                                                                                                                                                                                                                                                                                                                                                                                                                                                                                                                                                                                                                                                                   "
   ]
  },
  {
   "cell_type": "code",
   "execution_count": 85,
   "metadata": {},
   "outputs": [
    {
     "data": {
      "text/plain": [
       "['#1일1캎_',\n",
       " '',\n",
       " '',\n",
       " '',\n",
       " '',\n",
       " '',\n",
       " '',\n",
       " '',\n",
       " '',\n",
       " '',\n",
       " '',\n",
       " '',\n",
       " '',\n",
       " '',\n",
       " '',\n",
       " '',\n",
       " '',\n",
       " '',\n",
       " '',\n",
       " '']"
      ]
     },
     "execution_count": 85,
     "metadata": {},
     "output_type": "execute_result"
    }
   ],
   "source": [
    "# 해시태그(tag) 크롤링\n",
    "overlays4 = \".xil3i\"                                         \n",
    "datum3 = driver.find_elements_by_css_selector(overlays4)    # 태그 선택\n",
    "\n",
    "tag_list = []\n",
    "for i in range(len(datum3)):\n",
    "    tag_list.append(datum3[i].text)\n",
    "tag_list"
   ]
  },
  {
   "cell_type": "code",
   "execution_count": 86,
   "metadata": {},
   "outputs": [],
   "source": [
    "# 다음장 클릭\n",
    "CSS_tran2=\" ._65Bje.coreSpriteRightPaginationArrow \"             # 다음 버튼 정의\n",
    "tran_button2 = driver.find_element_by_css_selector(CSS_tran2)  # 다음 버튼 find\n",
    "AC(driver).move_to_element(tran_button2).click().perform()     # 다음 버튼 클릭"
   ]
  },
  {
   "cell_type": "code",
   "execution_count": null,
   "metadata": {},
   "outputs": [],
   "source": [
    "body > div._2dDPU.CkGkG > div.zZYga > div > article > div > div._97aPb > div > div > div.KL4Bh > img"
   ]
  },
  {
   "cell_type": "code",
   "execution_count": null,
   "metadata": {},
   "outputs": [],
   "source": []
  },
  {
   "cell_type": "markdown",
   "metadata": {},
   "source": [
    "# for문으로 인스타그램 크롤링 시작!"
   ]
  },
  {
   "cell_type": "code",
   "execution_count": 29,
   "metadata": {},
   "outputs": [],
   "source": [
    "# 데이터 수집할 키워드 지정\n",
    "keyword = \"d\"\n",
    "len_insta = 20"
   ]
  },
  {
   "cell_type": "code",
   "execution_count": 7,
   "metadata": {},
   "outputs": [],
   "source": [
    "# 크롬창 띄우기\n",
    "chrome_path = chromedriver_autoinstaller.install()\n",
    "driver = webdriver.Chrome(chrome_path)\n",
    "\n",
    "driver.get(\"https://www.instagram.com/\")\n",
    "time.sleep(3)"
   ]
  },
  {
   "cell_type": "raw",
   "metadata": {},
   "source": [
    "수동 로그인\n",
    "알림 설정 : \"나중에 하기\" 클릭"
   ]
  },
  {
   "cell_type": "code",
   "execution_count": 30,
   "metadata": {},
   "outputs": [],
   "source": [
    "# 검색창에 커서 클릭\n",
    "element = driver.find_element_by_css_selector(\".TqC_a\")\n",
    "element.click()\n",
    "time.sleep(1)\n",
    "\n",
    "# 검색 창에 검색어 입력\n",
    "element = driver.find_element_by_css_selector(\".XTCLo.Ju1dg.x3qfX\")\n",
    "element.clear()  # 혹시 검색창에 존재하는 텍스트 제거\n",
    "element.send_keys(keyword)\n",
    "time.sleep(2)\n",
    "\n",
    "# 검색어 리스트 중 첫번째 검색어 클릭\n",
    "query_list = driver.find_elements_by_css_selector(\".-qQT3\")\n",
    "query_list[0].click()\n",
    "time.sleep(3)"
   ]
  },
  {
   "cell_type": "code",
   "execution_count": 31,
   "metadata": {},
   "outputs": [
    {
     "data": {
      "application/vnd.jupyter.widget-view+json": {
       "model_id": "814020d49a184961b8d3713995fcf468",
       "version_major": 2,
       "version_minor": 0
      },
      "text/plain": [
       "  0%|          | 0/20 [00:00<?, ?it/s]"
      ]
     },
     "metadata": {},
     "output_type": "display_data"
    },
    {
     "name": "stdout",
     "output_type": "stream",
     "text": [
      "0 []\n",
      "1 []\n",
      "2 []\n",
      "3 []\n",
      "4 []\n",
      "5 []\n",
      "6 []\n",
      "7 []\n",
      "8 []\n",
      "9 []\n",
      "10 []\n",
      "11 []\n",
      "12 []\n",
      "13 []\n",
      "14 []\n",
      "15 []\n",
      "16 []\n",
      "17 []\n",
      "18 []\n",
      "19 []\n",
      "{0: {'picture': 'https://instagram.ficn3-4.fna.fbcdn.net/v/t51.2885-15/e35/p1080x1080/270206110_908134973273712_7653517433223325700_n.jpg?_nc_ht=instagram.ficn3-4.fna.fbcdn.net&_nc_cat=100&_nc_ohc=f8M4a76lSk0AX88ti3r&edm=AP_V10EBAAAA&ccb=7-4&oh=00_AT_OjcVjSbZPF0aZiglrF_vDTgZ4u8WSEdseFK2gRcWTqg&oe=61D5E123&_nc_sid=4f375e', 'date': '2021년 12월 30일', 'like': 'nxzzon\\n님 \\n외 82명\\n이 좋아합니다', 'tag': []}, 1: {'picture': 'https://instagram.ficn3-3.fna.fbcdn.net/v/t51.2885-15/e35/p1080x1080/242292656_351481450092733_8986231204804518875_n.jpg?_nc_ht=instagram.ficn3-3.fna.fbcdn.net&_nc_cat=101&_nc_ohc=K0PlOVhsoE0AX_dGI0t&edm=AP_V10EBAAAA&ccb=7-4&oh=00_AT9G8bZKEAy7O5Ll72ez3Ru6DdKnJhOWY1eX-xy7KYkyzw&oe=61D579E8&_nc_sid=4f375e', 'date': '2021년 9월 21일', 'like': 'nxzzon\\n님 \\n외 88명\\n이 좋아합니다', 'tag': []}, 2: {'picture': 'https://instagram.ficn3-3.fna.fbcdn.net/v/t51.2885-15/e35/p1080x1080/242294025_851651125715070_6484984952584041413_n.jpg?_nc_ht=instagram.ficn3-3.fna.fbcdn.net&_nc_cat=106&_nc_ohc=awWsXLy0AIgAX9EE_5o&tn=HKTDolnbAVIaIL3o&edm=AP_V10EBAAAA&ccb=7-4&oh=00_AT8f7JrhcZOc4a0MgBOfaCglMHfpw_pT4FtvSoVIp2lL5g&oe=61D4DDC6&_nc_sid=4f375e', 'date': '2021년 9월 20일', 'like': 'nxzzon\\n님 \\n외 67명\\n이 좋아합니다', 'tag': []}, 3: {'picture': 'https://instagram.ficn3-3.fna.fbcdn.net/v/t51.2885-15/e35/s1080x1080/242188736_230093989083920_6492678135109093983_n.jpg?_nc_ht=instagram.ficn3-3.fna.fbcdn.net&_nc_cat=108&_nc_ohc=fJmbEJysiEkAX_4awAE&edm=AP_V10EBAAAA&ccb=7-4&oh=00_AT_9aMvUr1wzvHkMeaaK5K8DvaDyYACGh2JlqqOUzFuleg&oe=61D49128&_nc_sid=4f375e', 'date': '2021년 9월 19일', 'like': 'nxzzon\\n님 \\n외 62명\\n이 좋아합니다', 'tag': []}, 4: {'picture': 'https://instagram.ficn3-4.fna.fbcdn.net/v/t51.2885-15/e35/s1080x1080/241847858_161379976060762_7339402379277457992_n.jpg?_nc_ht=instagram.ficn3-4.fna.fbcdn.net&_nc_cat=110&_nc_ohc=yC0xC5MYokMAX9zZD3e&edm=AP_V10EBAAAA&ccb=7-4&oh=00_AT9sQn-x_Zq3EU635LPvTQOxgqvffFFY3hBLXBk2ajTvVg&oe=61D538B1&_nc_sid=4f375e', 'date': '2021년 9월 12일', 'like': 'nxzzon\\n님 \\n외 82명\\n이 좋아합니다', 'tag': []}, 5: {'picture': 'https://instagram.ficn3-3.fna.fbcdn.net/v/t51.2885-15/e35/p1080x1080/235988223_202014298619534_2407061816756168265_n.jpg?_nc_ht=instagram.ficn3-3.fna.fbcdn.net&_nc_cat=102&_nc_ohc=UmhoFL4LLSkAX_JGhC7&tn=HKTDolnbAVIaIL3o&edm=AP_V10EBAAAA&ccb=7-4&oh=00_AT8Q7vo5OUH5bXvQ84z0TvL5fexEOrGAIATSnM8wMx5ULw&oe=61D5A598&_nc_sid=4f375e', 'date': '2021년 8월 12일', 'like': 'nxzzon\\n님 \\n외 88명\\n이 좋아합니다', 'tag': []}, 6: {'picture': 'https://instagram.ficn3-3.fna.fbcdn.net/v/t51.2885-15/e35/s1080x1080/224491709_1496595920701071_5569137461653212576_n.jpg?_nc_ht=instagram.ficn3-3.fna.fbcdn.net&_nc_cat=103&_nc_ohc=oxI9tJOlOaoAX9TXgTS&edm=AP_V10EBAAAA&ccb=7-4&oh=00_AT_cMUOin1u3uufNjfVPK0lNwzV-3RlGaK6U54I9LLfGaQ&oe=61D59865&_nc_sid=4f375e', 'date': '2021년 7월 26일', 'like': 'nxzzon\\n님 \\n외 82명\\n이 좋아합니다', 'tag': []}, 7: {'picture': 'https://instagram.ficn3-4.fna.fbcdn.net/v/t51.2885-15/e35/s1080x1080/213792538_142938904523323_6610757500851556071_n.jpg?_nc_ht=instagram.ficn3-4.fna.fbcdn.net&_nc_cat=107&_nc_ohc=xgzekqSYQoAAX99MiVJ&edm=AP_V10EBAAAA&ccb=7-4&oh=00_AT97_x2dJtiW8-FSO3YOvOvnXlXvk28llCZywa3PKMNxqw&oe=61D52960&_nc_sid=4f375e', 'date': '2021년 7월 12일', 'like': 'nxzzon\\n님 \\n외 101명\\n이 좋아합니다', 'tag': []}, 8: {'picture': 'https://instagram.ficn3-4.fna.fbcdn.net/v/t51.2885-15/e35/s1080x1080/214346310_151497137052801_6027270095943292218_n.jpg?_nc_ht=instagram.ficn3-4.fna.fbcdn.net&_nc_cat=109&_nc_ohc=WNaTRqCf95AAX9iVs5A&tn=HKTDolnbAVIaIL3o&edm=AP_V10EBAAAA&ccb=7-4&oh=00_AT8q65pwgrscnIEttovj74idyw5mNhRoFHr5qpaXserJ2w&oe=61D50A67&_nc_sid=4f375e', 'date': '2021년 7월 12일', 'like': 'nxzzon\\n님 \\n외 81명\\n이 좋아합니다', 'tag': []}, 9: {'picture': 'https://instagram.ficn3-3.fna.fbcdn.net/v/t51.2885-15/e35/s1080x1080/213530004_557072635323716_3030652214169190510_n.jpg?_nc_ht=instagram.ficn3-3.fna.fbcdn.net&_nc_cat=108&_nc_ohc=gpNG3RmqKeMAX92wazB&tn=HKTDolnbAVIaIL3o&edm=AP_V10EBAAAA&ccb=7-4&oh=00_AT_UOUGqSeL2a1A_LDc8obLaKh_xrzuYivjldNOLMw1UCg&oe=61D63606&_nc_sid=4f375e', 'date': '2021년 7월 10일', 'like': 'nxzzon\\n님 \\n외 79명\\n이 좋아합니다', 'tag': []}, 10: {'picture': 'https://instagram.ficn3-3.fna.fbcdn.net/v/t51.2885-15/e35/s1080x1080/209327417_513126830016518_7286378412284124400_n.jpg?_nc_ht=instagram.ficn3-3.fna.fbcdn.net&_nc_cat=102&_nc_ohc=cyxWd_WDz3IAX8_h85f&edm=AP_V10EBAAAA&ccb=7-4&oh=00_AT-kRfUj-GLQoOXrDrtqpwNZyvu6kaSHiQ22dOdlfUEP8A&oe=61D500B5&_nc_sid=4f375e', 'date': '2021년 6월 29일', 'like': 'nxzzon\\n님 \\n외 85명\\n이 좋아합니다', 'tag': []}, 11: {'picture': 'https://instagram.ficn3-3.fna.fbcdn.net/v/t51.2885-15/e35/s1080x1080/207064251_282720560177101_2115934133190613395_n.jpg?_nc_ht=instagram.ficn3-3.fna.fbcdn.net&_nc_cat=101&_nc_ohc=80xdQkaXt2UAX_41YnJ&edm=AP_V10EBAAAA&ccb=7-4&oh=00_AT-xnL9PLb6R8Uhr4ndZoi8CGwa-f3uGSaDJAMwXw4vLGA&oe=61D5C53B&_nc_sid=4f375e', 'date': '2021년 6월 23일', 'like': 'nxzzon\\n님 \\n외 72명\\n이 좋아합니다', 'tag': []}, 12: {'picture': 'https://instagram.ficn3-4.fna.fbcdn.net/v/t51.2885-15/e35/202651141_535296830935591_658937731685978461_n.jpg?_nc_ht=instagram.ficn3-4.fna.fbcdn.net&_nc_cat=107&_nc_ohc=E04zTCoHPLQAX8vjobc&tn=HKTDolnbAVIaIL3o&edm=AP_V10EBAAAA&ccb=7-4&oh=00_AT-m_2xii7Yio5c7NBC9ov_DvIVJYuVvgq-hET7xpGc-Bg&oe=61D4C0E1&_nc_sid=4f375e', 'date': '2021년 6월 18일', 'like': 'nxzzon\\n님 \\n외 54명\\n이 좋아합니다', 'tag': []}, 13: {'picture': 'https://instagram.ficn3-3.fna.fbcdn.net/v/t51.2885-15/e35/s1080x1080/187780537_766087127412714_3872931749647185993_n.jpg?_nc_ht=instagram.ficn3-3.fna.fbcdn.net&_nc_cat=106&_nc_ohc=E0NBVwzzDFQAX-rdS5U&edm=AP_V10EBAAAA&ccb=7-4&oh=00_AT9BMirELVxf1DdLwKxS_xpxs6-c-pijKfsggoTp0P8cBw&oe=61D66CDD&_nc_sid=4f375e', 'date': '2021년 5월 19일', 'like': 'nxzzon\\n님 \\n외 85명\\n이 좋아합니다', 'tag': []}, 14: {'picture': 'https://instagram.ficn3-4.fna.fbcdn.net/v/t51.2885-15/e35/s1080x1080/181049615_764684177574509_4723723186558946146_n.jpg?_nc_ht=instagram.ficn3-4.fna.fbcdn.net&_nc_cat=105&_nc_ohc=YsctWAFMCyoAX_9qDHj&tn=HKTDolnbAVIaIL3o&edm=AP_V10EBAAAA&ccb=7-4&oh=00_AT-zu96Pc7w15tm3fcbxXplki4wF8FmumzGs_xhpRiYsBw&oe=61D537BC&_nc_sid=4f375e', 'date': '2021년 5월 8일', 'like': 'nxzzon\\n님 \\n외 82명\\n이 좋아합니다', 'tag': []}, 15: {'picture': 'https://instagram.ficn3-4.fna.fbcdn.net/v/t51.2885-15/e35/s1080x1080/181110190_317019569788452_599009603290156887_n.jpg?_nc_ht=instagram.ficn3-4.fna.fbcdn.net&_nc_cat=100&_nc_ohc=OBmOpSUILS4AX96GRM6&tn=HKTDolnbAVIaIL3o&edm=AP_V10EBAAAA&ccb=7-4&oh=00_AT_DLCOMcpi2oFA8xke8amHXPrW2MIPuCA3xn0UFALab5w&oe=61D522C8&_nc_sid=4f375e', 'date': '2021년 5월 2일', 'like': 'nxzzon\\n님 \\n외 73명\\n이 좋아합니다', 'tag': []}, 16: {'picture': 'https://instagram.ficn3-4.fna.fbcdn.net/v/t51.2885-15/e35/p1080x1080/169788199_101138502068009_308749797107252319_n.jpg?_nc_ht=instagram.ficn3-4.fna.fbcdn.net&_nc_cat=105&_nc_ohc=16faHqJvQqgAX998Elz&tn=HKTDolnbAVIaIL3o&edm=AP_V10EBAAAA&ccb=7-4&oh=00_AT-2OhVX2BceY6e6e1m1yvUyatRF5mQl7jS6EXch-L5mrA&oe=61D4CB47&_nc_sid=4f375e', 'date': '2021년 4월 7일', 'like': 'nxzzon\\n님 \\n외 76명\\n이 좋아합니다', 'tag': []}, 17: {'picture': 'https://instagram.ficn3-4.fna.fbcdn.net/v/t51.2885-15/e35/p1080x1080/163525618_941253076682038_8433270039796909757_n.jpg?_nc_ht=instagram.ficn3-4.fna.fbcdn.net&_nc_cat=110&_nc_ohc=erE2nHt2HI8AX_qF41R&edm=AP_V10EBAAAA&ccb=7-4&oh=00_AT9bFC0lRk2foy7KiApl5r8KKE7NY8O_t7FSgPh2HtTPhw&oe=61D62322&_nc_sid=4f375e', 'date': '2021년 3월 22일', 'like': 'nxzzon\\n님 \\n외 76명\\n이 좋아합니다', 'tag': []}, 18: {'picture': 'https://instagram.ficn3-4.fna.fbcdn.net/v/t51.2885-15/e35/s1080x1080/157416043_904393983696441_736427521367678059_n.jpg?_nc_ht=instagram.ficn3-4.fna.fbcdn.net&_nc_cat=109&_nc_ohc=NCO31Eytd2EAX9XY7M5&edm=AP_V10EBAAAA&ccb=7-4&oh=00_AT-UkGyMD0qLgt35qtYKat3h1P73CrW5HtYi38KEL-S8KA&oe=61D52168&_nc_sid=4f375e', 'date': '2021년 3월 7일', 'like': 'nxzzon\\n님 \\n외 63명\\n이 좋아합니다', 'tag': []}, 19: {'picture': 'https://instagram.ficn3-4.fna.fbcdn.net/v/t51.2885-15/e35/151706751_1550942241782757_5791057246829517734_n.jpg?_nc_ht=instagram.ficn3-4.fna.fbcdn.net&_nc_cat=109&_nc_ohc=KOGLG6WlYdMAX9ZGldz&edm=AP_V10EBAAAA&ccb=7-4&oh=00_AT9vlyIAgBJ0dAu75OjH07yF8CSWaIxDpxvSAs8dEAlvRg&oe=61D640B4&_nc_sid=4f375e', 'date': '2021년 2월 26일', 'like': 'nxzzon\\n님 \\n외 98명\\n이 좋아합니다', 'tag': []}}\n"
     ]
    }
   ],
   "source": [
    "dict = {}\n",
    "\n",
    "# 첫번째 사진 클릭\n",
    "CSS_tran=\"div.Nnq7C.weEfm .eLAPa\"                         \n",
    "driver.find_element_by_css_selector(CSS_tran).click()   # 사진 클릭\n",
    "time.sleep(1)\n",
    "\n",
    "# 크롤링 시작\n",
    "for j in tqdm_notebook(range(0, len_insta)):    \n",
    "\n",
    "    target_info = {}                                            # 사진별 데이터를 담을 딕셔너리 생성\n",
    "\n",
    "    try:    # 크롤링을 시도해라.\n",
    "        # 사진(pic) 크롤링\n",
    "        overlays1 = \"div._2dDPU.CkGkG .FFVAD\"                   # 사진창 속 사진   \n",
    "        img = driver.find_element_by_css_selector(overlays1)    # 사진 선택\n",
    "        pic = img.get_attribute('src')                        # 사진 url 크롤링 완료\n",
    "        target_info['picture'] = pic\n",
    "        # 사진(pic) 크롤링\n",
    "                       \n",
    "        # 날짜(date) 크롤링\n",
    "        overlays2 = \"div._2dDPU.CkGkG .c-Yi7 > time\"                # 날짜 지정\n",
    "        datum2 = driver.find_element_by_css_selector(overlays2)     # 날짜 선택\n",
    "        date = datum2.get_attribute('title')\n",
    "        target_info['date'] = date\n",
    "\n",
    "        # 좋아요(like) 크롤링\n",
    "        overlays3 = \".Nm9Fw\"                                        # 리뷰창 속 날짜\n",
    "        datum3 = driver.find_element_by_css_selector(overlays3)     # 리뷰 선택\n",
    "        like = datum3.text                                          # 좋아요 크롤링 완료\n",
    "        target_info['like'] = like\n",
    "\n",
    "        # 해시태그(tag) 크롤링\n",
    "        overlays4 = \".xil3i\"                                         \n",
    "        datum3 = driver.find_elements_by_css_selector(overlays4)    # 태그 선택\n",
    "        tag_list = []\n",
    "        for i in range(len(datum3)):\n",
    "            tag_list.append(datum3[i].text)\n",
    "        target_info['tag'] = tag_list\n",
    "\n",
    "        dict[j] = target_info            # 토탈 딕셔너리로 만들기\n",
    "\n",
    "        print(j, tag_list)\n",
    "\n",
    "        # 다음장 클릭\n",
    "        CSS_tran2=\"._65Bje.coreSpriteRightPaginationArrow \"             # 다음 버튼 정의\n",
    "        tran_button2 = driver.find_element_by_css_selector(CSS_tran2)  # 다음 버튼 find\n",
    "        AC(driver).move_to_element(tran_button2).click().perform()     # 다음 버튼 클릭\n",
    "        time.sleep(3)\n",
    "\n",
    "    except:  # 에러가 나면 다음장을 클릭해라\n",
    "        # 다음장 클릭\n",
    "        CSS_tran2=\"._65Bje.coreSpriteRightPaginationArrow  \"             # 다음 버튼 정의\n",
    "        tran_button2 = driver.find_element_by_css_selector(CSS_tran2)  # 다음 버튼 find\n",
    "        AC(driver).move_to_element(tran_button2).click().perform()     # 다음 버튼 클릭\n",
    "\n",
    "        time.sleep(3)\n",
    "\n",
    "print(dict)"
   ]
  },
  {
   "cell_type": "code",
   "execution_count": 32,
   "metadata": {
    "scrolled": false
   },
   "outputs": [
    {
     "name": "stdout",
     "output_type": "stream",
     "text": [
      "(20, 4)\n"
     ]
    },
    {
     "data": {
      "text/html": [
       "<div>\n",
       "<style scoped>\n",
       "    .dataframe tbody tr th:only-of-type {\n",
       "        vertical-align: middle;\n",
       "    }\n",
       "\n",
       "    .dataframe tbody tr th {\n",
       "        vertical-align: top;\n",
       "    }\n",
       "\n",
       "    .dataframe thead th {\n",
       "        text-align: right;\n",
       "    }\n",
       "</style>\n",
       "<table border=\"1\" class=\"dataframe\">\n",
       "  <thead>\n",
       "    <tr style=\"text-align: right;\">\n",
       "      <th></th>\n",
       "      <th>picture</th>\n",
       "      <th>date</th>\n",
       "      <th>like</th>\n",
       "      <th>tag</th>\n",
       "    </tr>\n",
       "  </thead>\n",
       "  <tbody>\n",
       "    <tr>\n",
       "      <th>0</th>\n",
       "      <td>https://instagram.ficn3-4.fna.fbcdn.net/v/t51....</td>\n",
       "      <td>2021년 12월 30일</td>\n",
       "      <td>nxzzon\\n님 \\n외 82명\\n이 좋아합니다</td>\n",
       "      <td>[]</td>\n",
       "    </tr>\n",
       "    <tr>\n",
       "      <th>1</th>\n",
       "      <td>https://instagram.ficn3-3.fna.fbcdn.net/v/t51....</td>\n",
       "      <td>2021년 9월 21일</td>\n",
       "      <td>nxzzon\\n님 \\n외 88명\\n이 좋아합니다</td>\n",
       "      <td>[]</td>\n",
       "    </tr>\n",
       "    <tr>\n",
       "      <th>2</th>\n",
       "      <td>https://instagram.ficn3-3.fna.fbcdn.net/v/t51....</td>\n",
       "      <td>2021년 9월 20일</td>\n",
       "      <td>nxzzon\\n님 \\n외 67명\\n이 좋아합니다</td>\n",
       "      <td>[]</td>\n",
       "    </tr>\n",
       "    <tr>\n",
       "      <th>3</th>\n",
       "      <td>https://instagram.ficn3-3.fna.fbcdn.net/v/t51....</td>\n",
       "      <td>2021년 9월 19일</td>\n",
       "      <td>nxzzon\\n님 \\n외 62명\\n이 좋아합니다</td>\n",
       "      <td>[]</td>\n",
       "    </tr>\n",
       "    <tr>\n",
       "      <th>4</th>\n",
       "      <td>https://instagram.ficn3-4.fna.fbcdn.net/v/t51....</td>\n",
       "      <td>2021년 9월 12일</td>\n",
       "      <td>nxzzon\\n님 \\n외 82명\\n이 좋아합니다</td>\n",
       "      <td>[]</td>\n",
       "    </tr>\n",
       "    <tr>\n",
       "      <th>5</th>\n",
       "      <td>https://instagram.ficn3-3.fna.fbcdn.net/v/t51....</td>\n",
       "      <td>2021년 8월 12일</td>\n",
       "      <td>nxzzon\\n님 \\n외 88명\\n이 좋아합니다</td>\n",
       "      <td>[]</td>\n",
       "    </tr>\n",
       "    <tr>\n",
       "      <th>6</th>\n",
       "      <td>https://instagram.ficn3-3.fna.fbcdn.net/v/t51....</td>\n",
       "      <td>2021년 7월 26일</td>\n",
       "      <td>nxzzon\\n님 \\n외 82명\\n이 좋아합니다</td>\n",
       "      <td>[]</td>\n",
       "    </tr>\n",
       "    <tr>\n",
       "      <th>7</th>\n",
       "      <td>https://instagram.ficn3-4.fna.fbcdn.net/v/t51....</td>\n",
       "      <td>2021년 7월 12일</td>\n",
       "      <td>nxzzon\\n님 \\n외 101명\\n이 좋아합니다</td>\n",
       "      <td>[]</td>\n",
       "    </tr>\n",
       "    <tr>\n",
       "      <th>8</th>\n",
       "      <td>https://instagram.ficn3-4.fna.fbcdn.net/v/t51....</td>\n",
       "      <td>2021년 7월 12일</td>\n",
       "      <td>nxzzon\\n님 \\n외 81명\\n이 좋아합니다</td>\n",
       "      <td>[]</td>\n",
       "    </tr>\n",
       "    <tr>\n",
       "      <th>9</th>\n",
       "      <td>https://instagram.ficn3-3.fna.fbcdn.net/v/t51....</td>\n",
       "      <td>2021년 7월 10일</td>\n",
       "      <td>nxzzon\\n님 \\n외 79명\\n이 좋아합니다</td>\n",
       "      <td>[]</td>\n",
       "    </tr>\n",
       "    <tr>\n",
       "      <th>10</th>\n",
       "      <td>https://instagram.ficn3-3.fna.fbcdn.net/v/t51....</td>\n",
       "      <td>2021년 6월 29일</td>\n",
       "      <td>nxzzon\\n님 \\n외 85명\\n이 좋아합니다</td>\n",
       "      <td>[]</td>\n",
       "    </tr>\n",
       "    <tr>\n",
       "      <th>11</th>\n",
       "      <td>https://instagram.ficn3-3.fna.fbcdn.net/v/t51....</td>\n",
       "      <td>2021년 6월 23일</td>\n",
       "      <td>nxzzon\\n님 \\n외 72명\\n이 좋아합니다</td>\n",
       "      <td>[]</td>\n",
       "    </tr>\n",
       "    <tr>\n",
       "      <th>12</th>\n",
       "      <td>https://instagram.ficn3-4.fna.fbcdn.net/v/t51....</td>\n",
       "      <td>2021년 6월 18일</td>\n",
       "      <td>nxzzon\\n님 \\n외 54명\\n이 좋아합니다</td>\n",
       "      <td>[]</td>\n",
       "    </tr>\n",
       "    <tr>\n",
       "      <th>13</th>\n",
       "      <td>https://instagram.ficn3-3.fna.fbcdn.net/v/t51....</td>\n",
       "      <td>2021년 5월 19일</td>\n",
       "      <td>nxzzon\\n님 \\n외 85명\\n이 좋아합니다</td>\n",
       "      <td>[]</td>\n",
       "    </tr>\n",
       "    <tr>\n",
       "      <th>14</th>\n",
       "      <td>https://instagram.ficn3-4.fna.fbcdn.net/v/t51....</td>\n",
       "      <td>2021년 5월 8일</td>\n",
       "      <td>nxzzon\\n님 \\n외 82명\\n이 좋아합니다</td>\n",
       "      <td>[]</td>\n",
       "    </tr>\n",
       "    <tr>\n",
       "      <th>15</th>\n",
       "      <td>https://instagram.ficn3-4.fna.fbcdn.net/v/t51....</td>\n",
       "      <td>2021년 5월 2일</td>\n",
       "      <td>nxzzon\\n님 \\n외 73명\\n이 좋아합니다</td>\n",
       "      <td>[]</td>\n",
       "    </tr>\n",
       "    <tr>\n",
       "      <th>16</th>\n",
       "      <td>https://instagram.ficn3-4.fna.fbcdn.net/v/t51....</td>\n",
       "      <td>2021년 4월 7일</td>\n",
       "      <td>nxzzon\\n님 \\n외 76명\\n이 좋아합니다</td>\n",
       "      <td>[]</td>\n",
       "    </tr>\n",
       "    <tr>\n",
       "      <th>17</th>\n",
       "      <td>https://instagram.ficn3-4.fna.fbcdn.net/v/t51....</td>\n",
       "      <td>2021년 3월 22일</td>\n",
       "      <td>nxzzon\\n님 \\n외 76명\\n이 좋아합니다</td>\n",
       "      <td>[]</td>\n",
       "    </tr>\n",
       "    <tr>\n",
       "      <th>18</th>\n",
       "      <td>https://instagram.ficn3-4.fna.fbcdn.net/v/t51....</td>\n",
       "      <td>2021년 3월 7일</td>\n",
       "      <td>nxzzon\\n님 \\n외 63명\\n이 좋아합니다</td>\n",
       "      <td>[]</td>\n",
       "    </tr>\n",
       "    <tr>\n",
       "      <th>19</th>\n",
       "      <td>https://instagram.ficn3-4.fna.fbcdn.net/v/t51....</td>\n",
       "      <td>2021년 2월 26일</td>\n",
       "      <td>nxzzon\\n님 \\n외 98명\\n이 좋아합니다</td>\n",
       "      <td>[]</td>\n",
       "    </tr>\n",
       "  </tbody>\n",
       "</table>\n",
       "</div>"
      ],
      "text/plain": [
       "                                              picture           date  \\\n",
       "0   https://instagram.ficn3-4.fna.fbcdn.net/v/t51....  2021년 12월 30일   \n",
       "1   https://instagram.ficn3-3.fna.fbcdn.net/v/t51....   2021년 9월 21일   \n",
       "2   https://instagram.ficn3-3.fna.fbcdn.net/v/t51....   2021년 9월 20일   \n",
       "3   https://instagram.ficn3-3.fna.fbcdn.net/v/t51....   2021년 9월 19일   \n",
       "4   https://instagram.ficn3-4.fna.fbcdn.net/v/t51....   2021년 9월 12일   \n",
       "5   https://instagram.ficn3-3.fna.fbcdn.net/v/t51....   2021년 8월 12일   \n",
       "6   https://instagram.ficn3-3.fna.fbcdn.net/v/t51....   2021년 7월 26일   \n",
       "7   https://instagram.ficn3-4.fna.fbcdn.net/v/t51....   2021년 7월 12일   \n",
       "8   https://instagram.ficn3-4.fna.fbcdn.net/v/t51....   2021년 7월 12일   \n",
       "9   https://instagram.ficn3-3.fna.fbcdn.net/v/t51....   2021년 7월 10일   \n",
       "10  https://instagram.ficn3-3.fna.fbcdn.net/v/t51....   2021년 6월 29일   \n",
       "11  https://instagram.ficn3-3.fna.fbcdn.net/v/t51....   2021년 6월 23일   \n",
       "12  https://instagram.ficn3-4.fna.fbcdn.net/v/t51....   2021년 6월 18일   \n",
       "13  https://instagram.ficn3-3.fna.fbcdn.net/v/t51....   2021년 5월 19일   \n",
       "14  https://instagram.ficn3-4.fna.fbcdn.net/v/t51....    2021년 5월 8일   \n",
       "15  https://instagram.ficn3-4.fna.fbcdn.net/v/t51....    2021년 5월 2일   \n",
       "16  https://instagram.ficn3-4.fna.fbcdn.net/v/t51....    2021년 4월 7일   \n",
       "17  https://instagram.ficn3-4.fna.fbcdn.net/v/t51....   2021년 3월 22일   \n",
       "18  https://instagram.ficn3-4.fna.fbcdn.net/v/t51....    2021년 3월 7일   \n",
       "19  https://instagram.ficn3-4.fna.fbcdn.net/v/t51....   2021년 2월 26일   \n",
       "\n",
       "                           like tag  \n",
       "0    nxzzon\\n님 \\n외 82명\\n이 좋아합니다  []  \n",
       "1    nxzzon\\n님 \\n외 88명\\n이 좋아합니다  []  \n",
       "2    nxzzon\\n님 \\n외 67명\\n이 좋아합니다  []  \n",
       "3    nxzzon\\n님 \\n외 62명\\n이 좋아합니다  []  \n",
       "4    nxzzon\\n님 \\n외 82명\\n이 좋아합니다  []  \n",
       "5    nxzzon\\n님 \\n외 88명\\n이 좋아합니다  []  \n",
       "6    nxzzon\\n님 \\n외 82명\\n이 좋아합니다  []  \n",
       "7   nxzzon\\n님 \\n외 101명\\n이 좋아합니다  []  \n",
       "8    nxzzon\\n님 \\n외 81명\\n이 좋아합니다  []  \n",
       "9    nxzzon\\n님 \\n외 79명\\n이 좋아합니다  []  \n",
       "10   nxzzon\\n님 \\n외 85명\\n이 좋아합니다  []  \n",
       "11   nxzzon\\n님 \\n외 72명\\n이 좋아합니다  []  \n",
       "12   nxzzon\\n님 \\n외 54명\\n이 좋아합니다  []  \n",
       "13   nxzzon\\n님 \\n외 85명\\n이 좋아합니다  []  \n",
       "14   nxzzon\\n님 \\n외 82명\\n이 좋아합니다  []  \n",
       "15   nxzzon\\n님 \\n외 73명\\n이 좋아합니다  []  \n",
       "16   nxzzon\\n님 \\n외 76명\\n이 좋아합니다  []  \n",
       "17   nxzzon\\n님 \\n외 76명\\n이 좋아합니다  []  \n",
       "18   nxzzon\\n님 \\n외 63명\\n이 좋아합니다  []  \n",
       "19   nxzzon\\n님 \\n외 98명\\n이 좋아합니다  []  "
      ]
     },
     "execution_count": 32,
     "metadata": {},
     "output_type": "execute_result"
    }
   ],
   "source": [
    "# 판다스로 만들기 : 엑셀(테이블) 형식으로 만들기\n",
    "import pandas as pd\n",
    "result_df = pd.DataFrame.from_dict(dict, 'index')\n",
    "\n",
    "print(result_df.shape)\n",
    "result_df"
   ]
  },
  {
   "cell_type": "code",
   "execution_count": 21,
   "metadata": {
    "scrolled": false
   },
   "outputs": [],
   "source": [
    "# n = result_df['picture'].count()\n",
    "\n",
    "# csv 파일로 저장\n",
    "result_df.to_csv(\"insta({}).csv\".format(keyword), encoding='utf-8-sig')"
   ]
  },
  {
   "cell_type": "code",
   "execution_count": 22,
   "metadata": {},
   "outputs": [
    {
     "data": {
      "text/plain": [
       "16"
      ]
     },
     "execution_count": 22,
     "metadata": {},
     "output_type": "execute_result"
    }
   ],
   "source": [
    "num_pic = len(result_df['picture'])\n",
    "num_pic"
   ]
  },
  {
   "cell_type": "code",
   "execution_count": 33,
   "metadata": {},
   "outputs": [],
   "source": [
    "# 이미지들 image_insta 폴더에 다운받기\n",
    "import os\n",
    "import urllib.request\n",
    "\n",
    "# 만약 image_insta 폴더가 없으면 만들어라\n",
    "if not os.path.exists(\"image_insta\"):\n",
    "    os.makedirs(\"image_insta\")\n",
    "        \n",
    "for i in range(0, 20):\n",
    "    try:\n",
    "        index = result_df['picture'][i]\n",
    "        date = result_df['date'][i]\n",
    "        urllib.request.urlretrieve(index, \"image_insta/{0}_{1}.jpg\".format(date, i))        \n",
    "    except:\n",
    "        pass"
   ]
  },
  {
   "cell_type": "markdown",
   "metadata": {},
   "source": [
    "끝"
   ]
  },
  {
   "cell_type": "code",
   "execution_count": null,
   "metadata": {},
   "outputs": [],
   "source": []
  }
 ],
 "metadata": {
  "kernelspec": {
   "display_name": "Python 3 (ipykernel)",
   "language": "python",
   "name": "python3"
  },
  "language_info": {
   "codemirror_mode": {
    "name": "ipython",
    "version": 3
   },
   "file_extension": ".py",
   "mimetype": "text/x-python",
   "name": "python",
   "nbconvert_exporter": "python",
   "pygments_lexer": "ipython3",
   "version": "3.9.7"
  },
  "varInspector": {
   "cols": {
    "lenName": 16,
    "lenType": 16,
    "lenVar": 40
   },
   "kernels_config": {
    "python": {
     "delete_cmd_postfix": "",
     "delete_cmd_prefix": "del ",
     "library": "var_list.py",
     "varRefreshCmd": "print(var_dic_list())"
    },
    "r": {
     "delete_cmd_postfix": ") ",
     "delete_cmd_prefix": "rm(",
     "library": "var_list.r",
     "varRefreshCmd": "cat(var_dic_list()) "
    }
   },
   "types_to_exclude": [
    "module",
    "function",
    "builtin_function_or_method",
    "instance",
    "_Feature"
   ],
   "window_display": false
  }
 },
 "nbformat": 4,
 "nbformat_minor": 2
}
