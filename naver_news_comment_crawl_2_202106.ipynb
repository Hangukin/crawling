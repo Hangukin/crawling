{
 "cells": [
  {
   "cell_type": "code",
   "execution_count": 1,
   "metadata": {},
   "outputs": [
    {
     "data": {
      "text/plain": [
       "'C:\\\\Users\\\\korean\\\\practice'"
      ]
     },
     "execution_count": 1,
     "metadata": {},
     "output_type": "execute_result"
    }
   ],
   "source": [
    "pwd"
   ]
  },
  {
   "cell_type": "code",
   "execution_count": 8,
   "metadata": {},
   "outputs": [],
   "source": [
    "# 라이브러리 import\n",
    "import pandas as pd\n",
    "import numpy as np\n",
    "\n",
    "from selenium import webdriver  # 라이브러리(모듈) 가져오라\n",
    "from selenium.webdriver import ActionChains as AC\n",
    "import chromedriver_autoinstaller\n",
    "from tqdm import tqdm\n",
    "from tqdm.notebook import tqdm\n",
    "import re\n",
    "from time import sleep\n",
    "import time\n",
    "\n",
    "# 워닝 무시\n",
    "import warnings\n",
    "warnings.filterwarnings('ignore')"
   ]
  },
  {
   "cell_type": "code",
   "execution_count": 9,
   "metadata": {},
   "outputs": [
    {
     "data": {
      "text/plain": [
       "'삼성전자'"
      ]
     },
     "execution_count": 9,
     "metadata": {},
     "output_type": "execute_result"
    }
   ],
   "source": [
    "# 데이터 수집할 키워드 지정\n",
    "keyword = \"삼성전자\"\n",
    "keyword"
   ]
  },
  {
   "cell_type": "markdown",
   "metadata": {},
   "source": [
    "# 네이버뉴스들 url 수집"
   ]
  },
  {
   "cell_type": "code",
   "execution_count": 10,
   "metadata": {},
   "outputs": [],
   "source": [
    "# 크롬창 띄우기\n",
    "chrome_path = chromedriver_autoinstaller.install()\n",
    "driver = webdriver.Chrome(chrome_path)\n",
    "\n",
    "driver.get(\"https://search.naver.com/search.naver?where=news&sm=tab_jum&query={}\".format(keyword))\n",
    "time.sleep(2)"
   ]
  },
  {
   "cell_type": "code",
   "execution_count": 11,
   "metadata": {},
   "outputs": [],
   "source": [
    "# page1에서 네이버뉴스 url 수집하기\n",
    "things = driver.find_elements_by_link_text('네이버뉴스')  \n",
    "\n",
    "url_list = []\n",
    "for thing in things:\n",
    "    url = thing.get_attribute('href')\n",
    "    url_list.append(url)\n",
    "    "
   ]
  },
  {
   "cell_type": "code",
   "execution_count": 12,
   "metadata": {
    "scrolled": true
   },
   "outputs": [
    {
     "name": "stdout",
     "output_type": "stream",
     "text": [
      "26\n"
     ]
    },
    {
     "data": {
      "text/plain": [
       "['https://news.naver.com/main/read.naver?mode=LSD&mid=sec&sid1=101&oid=008&aid=0004689859',\n",
       " 'https://news.naver.com/main/read.naver?mode=LSD&mid=sec&sid1=101&oid=014&aid=0004764163',\n",
       " 'https://news.naver.com/main/read.naver?mode=LSD&mid=sec&sid1=105&oid=366&aid=0000783771',\n",
       " 'https://news.naver.com/main/read.naver?mode=LSD&mid=sec&sid1=105&oid=030&aid=0002990923',\n",
       " 'https://news.naver.com/main/read.naver?mode=LSD&mid=sec&sid1=105&oid=009&aid=0004901524',\n",
       " 'https://news.naver.com/main/read.naver?mode=LSD&mid=sec&sid1=105&oid=629&aid=0000124513',\n",
       " 'https://news.naver.com/main/read.naver?mode=LSD&mid=sec&sid1=105&oid=277&aid=0005023254',\n",
       " 'https://news.naver.com/main/read.naver?mode=LSD&mid=sec&sid1=105&oid=014&aid=0004764241',\n",
       " 'https://news.naver.com/main/read.naver?mode=LSD&mid=sec&sid1=105&oid=001&aid=0012854875',\n",
       " 'https://news.naver.com/main/read.naver?mode=LSD&mid=sec&sid1=101&oid=018&aid=0005116589',\n",
       " 'https://news.naver.com/main/read.naver?mode=LSD&mid=sec&sid1=101&oid=024&aid=0000072381',\n",
       " 'https://news.naver.com/main/read.naver?mode=LSD&mid=sec&sid1=105&oid=030&aid=0002990887',\n",
       " 'https://news.naver.com/main/read.naver?mode=LSD&mid=sec&sid1=105&oid=243&aid=0000020685',\n",
       " 'https://news.naver.com/main/read.naver?mode=LSD&mid=sec&sid1=105&oid=011&aid=0004002416',\n",
       " 'https://news.naver.com/main/read.naver?mode=LSD&mid=sec&sid1=105&oid=366&aid=0000783809',\n",
       " 'https://news.naver.com/main/read.naver?mode=LSD&mid=sec&sid1=105&oid=119&aid=0002562357',\n",
       " 'https://news.naver.com/main/read.naver?mode=LSD&mid=sec&sid1=101&oid=082&aid=0001134280',\n",
       " 'https://news.naver.com/main/read.naver?mode=LSD&mid=sec&sid1=105&oid=018&aid=0005116776',\n",
       " 'https://news.naver.com/main/read.naver?mode=LSD&mid=sec&sid1=105&oid=092&aid=0002243622',\n",
       " 'https://news.naver.com/main/read.naver?mode=LSD&mid=sec&sid1=101&oid=215&aid=0001006482',\n",
       " 'https://news.naver.com/main/read.naver?mode=LSD&mid=sec&sid1=101&oid=081&aid=0003241224',\n",
       " 'https://news.naver.com/main/read.naver?mode=LSD&mid=sec&sid1=101&oid=001&aid=0012851372',\n",
       " 'https://news.naver.com/main/read.naver?mode=LSD&mid=sec&sid1=101&oid=366&aid=0000783773',\n",
       " 'https://news.naver.com/main/read.naver?mode=LSD&mid=sec&sid1=105&oid=293&aid=0000037460',\n",
       " 'https://news.naver.com/main/read.naver?mode=LSD&mid=sec&sid1=101&oid=277&aid=0005023237',\n",
       " 'https://news.naver.com/main/read.naver?mode=LSD&mid=sec&sid1=101&oid=025&aid=0003163131']"
      ]
     },
     "execution_count": 12,
     "metadata": {},
     "output_type": "execute_result"
    }
   ],
   "source": [
    "print(len(url_list))\n",
    "url_list"
   ]
  },
  {
   "cell_type": "code",
   "execution_count": 13,
   "metadata": {
    "scrolled": true
   },
   "outputs": [],
   "source": [
    "df = pd.DataFrame({\"url\":url_list})\n",
    "df.to_csv('navernews_urls.csv')"
   ]
  },
  {
   "cell_type": "markdown",
   "metadata": {},
   "source": [
    "# 뉴스 별 댓글 수집"
   ]
  },
  {
   "cell_type": "code",
   "execution_count": 14,
   "metadata": {
    "scrolled": true
   },
   "outputs": [
    {
     "data": {
      "text/plain": [
       "0     https://news.naver.com/main/read.naver?mode=LS...\n",
       "1     https://news.naver.com/main/read.naver?mode=LS...\n",
       "2     https://news.naver.com/main/read.naver?mode=LS...\n",
       "3     https://news.naver.com/main/read.naver?mode=LS...\n",
       "4     https://news.naver.com/main/read.naver?mode=LS...\n",
       "5     https://news.naver.com/main/read.naver?mode=LS...\n",
       "6     https://news.naver.com/main/read.naver?mode=LS...\n",
       "7     https://news.naver.com/main/read.naver?mode=LS...\n",
       "8     https://news.naver.com/main/read.naver?mode=LS...\n",
       "9     https://news.naver.com/main/read.naver?mode=LS...\n",
       "10    https://news.naver.com/main/read.naver?mode=LS...\n",
       "11    https://news.naver.com/main/read.naver?mode=LS...\n",
       "12    https://news.naver.com/main/read.naver?mode=LS...\n",
       "13    https://news.naver.com/main/read.naver?mode=LS...\n",
       "14    https://news.naver.com/main/read.naver?mode=LS...\n",
       "15    https://news.naver.com/main/read.naver?mode=LS...\n",
       "16    https://news.naver.com/main/read.naver?mode=LS...\n",
       "17    https://news.naver.com/main/read.naver?mode=LS...\n",
       "18    https://news.naver.com/main/read.naver?mode=LS...\n",
       "19    https://news.naver.com/main/read.naver?mode=LS...\n",
       "20    https://news.naver.com/main/read.naver?mode=LS...\n",
       "21    https://news.naver.com/main/read.naver?mode=LS...\n",
       "22    https://news.naver.com/main/read.naver?mode=LS...\n",
       "23    https://news.naver.com/main/read.naver?mode=LS...\n",
       "24    https://news.naver.com/main/read.naver?mode=LS...\n",
       "25    https://news.naver.com/main/read.naver?mode=LS...\n",
       "Name: url, dtype: object"
      ]
     },
     "execution_count": 14,
     "metadata": {},
     "output_type": "execute_result"
    }
   ],
   "source": [
    "# 저장해둔 url 불러오기\n",
    "df = pd.read_csv('navernews_urls.csv')\n",
    "df['url']"
   ]
  },
  {
   "cell_type": "code",
   "execution_count": 15,
   "metadata": {},
   "outputs": [
    {
     "data": {
      "text/plain": [
       "26"
      ]
     },
     "execution_count": 15,
     "metadata": {},
     "output_type": "execute_result"
    }
   ],
   "source": [
    "len(df['url'])"
   ]
  },
  {
   "cell_type": "markdown",
   "metadata": {},
   "source": [
    "# 기사 한 개 크롤링 Test"
   ]
  },
  {
   "cell_type": "code",
   "execution_count": 16,
   "metadata": {},
   "outputs": [],
   "source": [
    "dict = {}"
   ]
  },
  {
   "cell_type": "code",
   "execution_count": 17,
   "metadata": {},
   "outputs": [],
   "source": [
    "# 뉴스 크롬창 띄우기\n",
    "\n",
    "chrome_path = chromedriver_autoinstaller.install()\n",
    "driver = webdriver.Chrome(chrome_path)\n",
    "driver.get(df['url'][0])"
   ]
  },
  {
   "cell_type": "markdown",
   "metadata": {},
   "source": [
    "## 기사 제목,날짜,추천수 수집"
   ]
  },
  {
   "cell_type": "code",
   "execution_count": 18,
   "metadata": {},
   "outputs": [
    {
     "ename": "NoSuchElementException",
     "evalue": "Message: no such element: Unable to locate element: {\"method\":\"css selector\",\"selector\":\".content_area\"}\n  (Session info: chrome=96.0.4664.110)\nStacktrace:\nBacktrace:\n\tOrdinal0 [0x00E665C3+2516419]\n\tOrdinal0 [0x00DFFAA1+2095777]\n\tOrdinal0 [0x00D02698+1058456]\n\tOrdinal0 [0x00D2D2A8+1233576]\n\tOrdinal0 [0x00D2D49B+1234075]\n\tOrdinal0 [0x00D57672+1406578]\n\tOrdinal0 [0x00D4637A+1336186]\n\tOrdinal0 [0x00D55A1F+1399327]\n\tOrdinal0 [0x00D4620B+1335819]\n\tOrdinal0 [0x00D225E7+1189351]\n\tOrdinal0 [0x00D23449+1193033]\n\tGetHandleVerifier [0x00FF3AA4+1573796]\n\tGetHandleVerifier [0x0109D8E7+2269671]\n\tGetHandleVerifier [0x00EF491B+528923]\n\tGetHandleVerifier [0x00EF3D69+525929]\n\tOrdinal0 [0x00E050A9+2117801]\n\tOrdinal0 [0x00E09458+2135128]\n\tOrdinal0 [0x00E09592+2135442]\n\tOrdinal0 [0x00E130F1+2175217]\n\tBaseThreadInitThunk [0x75FBFA29+25]\n\tRtlGetAppContainerNamedObjectPath [0x77AB7A9E+286]\n\tRtlGetAppContainerNamedObjectPath [0x77AB7A6E+238]\n",
     "output_type": "error",
     "traceback": [
      "\u001b[1;31m---------------------------------------------------------------------------\u001b[0m",
      "\u001b[1;31mNoSuchElementException\u001b[0m                    Traceback (most recent call last)",
      "\u001b[1;32m~\\AppData\\Local\\Temp/ipykernel_26492/1462330802.py\u001b[0m in \u001b[0;36m<module>\u001b[1;34m\u001b[0m\n\u001b[0;32m      1\u001b[0m \u001b[1;31m# 기사 제목\u001b[0m\u001b[1;33m\u001b[0m\u001b[1;33m\u001b[0m\u001b[0m\n\u001b[1;32m----> 2\u001b[1;33m \u001b[0mtitle\u001b[0m \u001b[1;33m=\u001b[0m \u001b[0mdriver\u001b[0m\u001b[1;33m.\u001b[0m\u001b[0mfind_element_by_css_selector\u001b[0m\u001b[1;33m(\u001b[0m\u001b[1;34m'.content_area'\u001b[0m\u001b[1;33m)\u001b[0m\u001b[1;33m\u001b[0m\u001b[1;33m\u001b[0m\u001b[0m\n\u001b[0m\u001b[0;32m      3\u001b[0m \u001b[0mtitle\u001b[0m \u001b[1;33m=\u001b[0m \u001b[0mtitle\u001b[0m\u001b[1;33m.\u001b[0m\u001b[0mtext\u001b[0m\u001b[1;33m\u001b[0m\u001b[1;33m\u001b[0m\u001b[0m\n\u001b[0;32m      4\u001b[0m \u001b[0mprint\u001b[0m\u001b[1;33m(\u001b[0m\u001b[0mtitle\u001b[0m\u001b[1;33m)\u001b[0m\u001b[1;33m\u001b[0m\u001b[1;33m\u001b[0m\u001b[0m\n\u001b[0;32m      5\u001b[0m \u001b[1;33m\u001b[0m\u001b[0m\n",
      "\u001b[1;32mC:\\anacon\\lib\\site-packages\\selenium\\webdriver\\remote\\webdriver.py\u001b[0m in \u001b[0;36mfind_element_by_css_selector\u001b[1;34m(self, css_selector)\u001b[0m\n\u001b[0;32m    806\u001b[0m             \u001b[0mstacklevel\u001b[0m\u001b[1;33m=\u001b[0m\u001b[1;36m2\u001b[0m\u001b[1;33m,\u001b[0m\u001b[1;33m\u001b[0m\u001b[1;33m\u001b[0m\u001b[0m\n\u001b[0;32m    807\u001b[0m         )\n\u001b[1;32m--> 808\u001b[1;33m         \u001b[1;32mreturn\u001b[0m \u001b[0mself\u001b[0m\u001b[1;33m.\u001b[0m\u001b[0mfind_element\u001b[0m\u001b[1;33m(\u001b[0m\u001b[0mby\u001b[0m\u001b[1;33m=\u001b[0m\u001b[0mBy\u001b[0m\u001b[1;33m.\u001b[0m\u001b[0mCSS_SELECTOR\u001b[0m\u001b[1;33m,\u001b[0m \u001b[0mvalue\u001b[0m\u001b[1;33m=\u001b[0m\u001b[0mcss_selector\u001b[0m\u001b[1;33m)\u001b[0m\u001b[1;33m\u001b[0m\u001b[1;33m\u001b[0m\u001b[0m\n\u001b[0m\u001b[0;32m    809\u001b[0m \u001b[1;33m\u001b[0m\u001b[0m\n\u001b[0;32m    810\u001b[0m     \u001b[1;32mdef\u001b[0m \u001b[0mfind_elements_by_css_selector\u001b[0m\u001b[1;33m(\u001b[0m\u001b[0mself\u001b[0m\u001b[1;33m,\u001b[0m \u001b[0mcss_selector\u001b[0m\u001b[1;33m)\u001b[0m \u001b[1;33m->\u001b[0m \u001b[0mWebElement\u001b[0m\u001b[1;33m:\u001b[0m\u001b[1;33m\u001b[0m\u001b[1;33m\u001b[0m\u001b[0m\n",
      "\u001b[1;32mC:\\anacon\\lib\\site-packages\\selenium\\webdriver\\remote\\webdriver.py\u001b[0m in \u001b[0;36mfind_element\u001b[1;34m(self, by, value)\u001b[0m\n\u001b[0;32m   1242\u001b[0m             \u001b[0mvalue\u001b[0m \u001b[1;33m=\u001b[0m \u001b[1;34m'[name=\"%s\"]'\u001b[0m \u001b[1;33m%\u001b[0m \u001b[0mvalue\u001b[0m\u001b[1;33m\u001b[0m\u001b[1;33m\u001b[0m\u001b[0m\n\u001b[0;32m   1243\u001b[0m \u001b[1;33m\u001b[0m\u001b[0m\n\u001b[1;32m-> 1244\u001b[1;33m         return self.execute(Command.FIND_ELEMENT, {\n\u001b[0m\u001b[0;32m   1245\u001b[0m             \u001b[1;34m'using'\u001b[0m\u001b[1;33m:\u001b[0m \u001b[0mby\u001b[0m\u001b[1;33m,\u001b[0m\u001b[1;33m\u001b[0m\u001b[1;33m\u001b[0m\u001b[0m\n\u001b[0;32m   1246\u001b[0m             'value': value})['value']\n",
      "\u001b[1;32mC:\\anacon\\lib\\site-packages\\selenium\\webdriver\\remote\\webdriver.py\u001b[0m in \u001b[0;36mexecute\u001b[1;34m(self, driver_command, params)\u001b[0m\n\u001b[0;32m    422\u001b[0m         \u001b[0mresponse\u001b[0m \u001b[1;33m=\u001b[0m \u001b[0mself\u001b[0m\u001b[1;33m.\u001b[0m\u001b[0mcommand_executor\u001b[0m\u001b[1;33m.\u001b[0m\u001b[0mexecute\u001b[0m\u001b[1;33m(\u001b[0m\u001b[0mdriver_command\u001b[0m\u001b[1;33m,\u001b[0m \u001b[0mparams\u001b[0m\u001b[1;33m)\u001b[0m\u001b[1;33m\u001b[0m\u001b[1;33m\u001b[0m\u001b[0m\n\u001b[0;32m    423\u001b[0m         \u001b[1;32mif\u001b[0m \u001b[0mresponse\u001b[0m\u001b[1;33m:\u001b[0m\u001b[1;33m\u001b[0m\u001b[1;33m\u001b[0m\u001b[0m\n\u001b[1;32m--> 424\u001b[1;33m             \u001b[0mself\u001b[0m\u001b[1;33m.\u001b[0m\u001b[0merror_handler\u001b[0m\u001b[1;33m.\u001b[0m\u001b[0mcheck_response\u001b[0m\u001b[1;33m(\u001b[0m\u001b[0mresponse\u001b[0m\u001b[1;33m)\u001b[0m\u001b[1;33m\u001b[0m\u001b[1;33m\u001b[0m\u001b[0m\n\u001b[0m\u001b[0;32m    425\u001b[0m             response['value'] = self._unwrap_value(\n\u001b[0;32m    426\u001b[0m                 response.get('value', None))\n",
      "\u001b[1;32mC:\\anacon\\lib\\site-packages\\selenium\\webdriver\\remote\\errorhandler.py\u001b[0m in \u001b[0;36mcheck_response\u001b[1;34m(self, response)\u001b[0m\n\u001b[0;32m    245\u001b[0m                 \u001b[0malert_text\u001b[0m \u001b[1;33m=\u001b[0m \u001b[0mvalue\u001b[0m\u001b[1;33m[\u001b[0m\u001b[1;34m'alert'\u001b[0m\u001b[1;33m]\u001b[0m\u001b[1;33m.\u001b[0m\u001b[0mget\u001b[0m\u001b[1;33m(\u001b[0m\u001b[1;34m'text'\u001b[0m\u001b[1;33m)\u001b[0m\u001b[1;33m\u001b[0m\u001b[1;33m\u001b[0m\u001b[0m\n\u001b[0;32m    246\u001b[0m             \u001b[1;32mraise\u001b[0m \u001b[0mexception_class\u001b[0m\u001b[1;33m(\u001b[0m\u001b[0mmessage\u001b[0m\u001b[1;33m,\u001b[0m \u001b[0mscreen\u001b[0m\u001b[1;33m,\u001b[0m \u001b[0mstacktrace\u001b[0m\u001b[1;33m,\u001b[0m \u001b[0malert_text\u001b[0m\u001b[1;33m)\u001b[0m  \u001b[1;31m# type: ignore[call-arg]  # mypy is not smart enough here\u001b[0m\u001b[1;33m\u001b[0m\u001b[1;33m\u001b[0m\u001b[0m\n\u001b[1;32m--> 247\u001b[1;33m         \u001b[1;32mraise\u001b[0m \u001b[0mexception_class\u001b[0m\u001b[1;33m(\u001b[0m\u001b[0mmessage\u001b[0m\u001b[1;33m,\u001b[0m \u001b[0mscreen\u001b[0m\u001b[1;33m,\u001b[0m \u001b[0mstacktrace\u001b[0m\u001b[1;33m)\u001b[0m\u001b[1;33m\u001b[0m\u001b[1;33m\u001b[0m\u001b[0m\n\u001b[0m\u001b[0;32m    248\u001b[0m \u001b[1;33m\u001b[0m\u001b[0m\n\u001b[0;32m    249\u001b[0m     \u001b[1;32mdef\u001b[0m \u001b[0m_value_or_default\u001b[0m\u001b[1;33m(\u001b[0m\u001b[0mself\u001b[0m\u001b[1;33m,\u001b[0m \u001b[0mobj\u001b[0m\u001b[1;33m:\u001b[0m \u001b[0mMapping\u001b[0m\u001b[1;33m[\u001b[0m\u001b[0m_KT\u001b[0m\u001b[1;33m,\u001b[0m \u001b[0m_VT\u001b[0m\u001b[1;33m]\u001b[0m\u001b[1;33m,\u001b[0m \u001b[0mkey\u001b[0m\u001b[1;33m:\u001b[0m \u001b[0m_KT\u001b[0m\u001b[1;33m,\u001b[0m \u001b[0mdefault\u001b[0m\u001b[1;33m:\u001b[0m \u001b[0m_VT\u001b[0m\u001b[1;33m)\u001b[0m \u001b[1;33m->\u001b[0m \u001b[0m_VT\u001b[0m\u001b[1;33m:\u001b[0m\u001b[1;33m\u001b[0m\u001b[1;33m\u001b[0m\u001b[0m\n",
      "\u001b[1;31mNoSuchElementException\u001b[0m: Message: no such element: Unable to locate element: {\"method\":\"css selector\",\"selector\":\".content_area\"}\n  (Session info: chrome=96.0.4664.110)\nStacktrace:\nBacktrace:\n\tOrdinal0 [0x00E665C3+2516419]\n\tOrdinal0 [0x00DFFAA1+2095777]\n\tOrdinal0 [0x00D02698+1058456]\n\tOrdinal0 [0x00D2D2A8+1233576]\n\tOrdinal0 [0x00D2D49B+1234075]\n\tOrdinal0 [0x00D57672+1406578]\n\tOrdinal0 [0x00D4637A+1336186]\n\tOrdinal0 [0x00D55A1F+1399327]\n\tOrdinal0 [0x00D4620B+1335819]\n\tOrdinal0 [0x00D225E7+1189351]\n\tOrdinal0 [0x00D23449+1193033]\n\tGetHandleVerifier [0x00FF3AA4+1573796]\n\tGetHandleVerifier [0x0109D8E7+2269671]\n\tGetHandleVerifier [0x00EF491B+528923]\n\tGetHandleVerifier [0x00EF3D69+525929]\n\tOrdinal0 [0x00E050A9+2117801]\n\tOrdinal0 [0x00E09458+2135128]\n\tOrdinal0 [0x00E09592+2135442]\n\tOrdinal0 [0x00E130F1+2175217]\n\tBaseThreadInitThunk [0x75FBFA29+25]\n\tRtlGetAppContainerNamedObjectPath [0x77AB7A9E+286]\n\tRtlGetAppContainerNamedObjectPath [0x77AB7A6E+238]\n"
     ]
    }
   ],
   "source": [
    "# 기사 제목\n",
    "title = driver.find_element_by_css_selector('.content_area')\n",
    "title = title.text\n",
    "print(title)\n",
    "\n",
    "# 기사 날짜\n",
    "date = driver.find_element_by_css_selector('.t11')\n",
    "date = date.text\n",
    "print(date)\n",
    "\n",
    "# 기사 추천수 날짜\n",
    "up = driver.find_element_by_css_selector('.tomain.as_addinfo .u_cnt._count')\n",
    "up = up.text\n",
    "print('기사 추천 수: ', up)"
   ]
  },
  {
   "cell_type": "markdown",
   "metadata": {},
   "source": [
    "## 기사감정 수집(좋아요, 훈훈해요, 슬퍼요, 화나요)"
   ]
  },
  {
   "cell_type": "code",
   "execution_count": 19,
   "metadata": {},
   "outputs": [
    {
     "name": "stdout",
     "output_type": "stream",
     "text": [
      "1,014\n",
      "26\n",
      "2\n",
      "27\n",
      "16\n"
     ]
    }
   ],
   "source": [
    "# 좋아요\n",
    "like = driver.find_element_by_css_selector(\".end_btn .u_likeit_list.good .u_likeit_list_count._count\")\n",
    "like = like.text\n",
    "print(like)\n",
    "\n",
    "# 훈훈해요\n",
    "warm = driver.find_element_by_css_selector(\".end_btn .u_likeit_list.warm .u_likeit_list_count._count\")\n",
    "warm = warm.text\n",
    "print(warm)\n",
    "\n",
    "# 슬퍼요\n",
    "sad = driver.find_element_by_css_selector(\".end_btn .u_likeit_list.sad .u_likeit_list_count._count\")\n",
    "sad = sad.text\n",
    "print(sad)\n",
    "\n",
    "# 화나요\n",
    "angry = driver.find_element_by_css_selector(\".end_btn .u_likeit_list.angry .u_likeit_list_count._count\")\n",
    "angry = angry.text\n",
    "print(angry)\n",
    "\n",
    "# 후속기사 원해요\n",
    "want = driver.find_element_by_css_selector(\".end_btn .u_likeit_list.want .u_likeit_list_count._count\")\n",
    "want = want.text\n",
    "print(want)"
   ]
  },
  {
   "cell_type": "markdown",
   "metadata": {},
   "source": [
    "## 댓글 수집"
   ]
  },
  {
   "cell_type": "code",
   "execution_count": 20,
   "metadata": {
    "scrolled": true
   },
   "outputs": [
    {
     "data": {
      "text/plain": [
       "215"
      ]
     },
     "execution_count": 20,
     "metadata": {},
     "output_type": "execute_result"
    }
   ],
   "source": [
    "# 기사 댓글 갯수 \n",
    "review_count = driver.find_element_by_css_selector(\".u_cbox_count\").text\n",
    "review_count = int(review_count.replace(',', ''))\n",
    "review_count"
   ]
  },
  {
   "cell_type": "code",
   "execution_count": 21,
   "metadata": {},
   "outputs": [
    {
     "data": {
      "text/plain": [
       "10"
      ]
     },
     "execution_count": 21,
     "metadata": {},
     "output_type": "execute_result"
    }
   ],
   "source": [
    "# 더보기 클릭 횟수\n",
    "moreview_num = review_count//20   #더보기 기본 20개씩\n",
    "moreview_num"
   ]
  },
  {
   "cell_type": "code",
   "execution_count": 26,
   "metadata": {},
   "outputs": [],
   "source": [
    "# 댓글 버튼 클릭\n",
    "driver.find_element_by_css_selector(\".lo_txt\").click()\n",
    "time.sleep(1)"
   ]
  },
  {
   "cell_type": "code",
   "execution_count": 27,
   "metadata": {},
   "outputs": [],
   "source": [
    "# 더보기 버튼 여러번 클릭하기\n",
    "k=0\n",
    "while k <= moreview_num:  # 더보기 횟수만큼 반복 \n",
    "    try:\n",
    "        driver.find_element_by_css_selector(\".u_cbox_page_more\").click()  # 더보기 버튼 클릭\n",
    "        time.sleep(1)\n",
    "        k = k+1\n",
    "    except:        \n",
    "        break   # 에러나면 클릭 반복문을 빠져나가라"
   ]
  },
  {
   "cell_type": "code",
   "execution_count": 28,
   "metadata": {},
   "outputs": [
    {
     "data": {
      "application/vnd.jupyter.widget-view+json": {
       "model_id": "b154c15f0dd244a4b8e35b600d9eb3c8",
       "version_major": 2,
       "version_minor": 0
      },
      "text/plain": [
       "  0%|          | 0/215 [00:00<?, ?it/s]"
      ]
     },
     "metadata": {},
     "output_type": "display_data"
    },
    {
     "name": "stdout",
     "output_type": "stream",
     "text": [
      "215\n"
     ]
    },
    {
     "data": {
      "text/plain": [
       "['오호~~ 대한민국 대표 삼성 응원합니다!!!',\n",
       " '문재인은 A4지 붙여서 주면 좋아하겄네.. 허허허.',\n",
       " '정말 미 쳤구나 삼성. 센스 오지구요. 자랑스럽다 삼성. 문가야 삼성은 나라 고용률 높이고 연관산업 부흥에, 천문학적인 세금 납부하며 나라를 먹여 살리는데 넌 도대체가 우리 세금받아 쳐 쓰는거말곤 할 줄 아는게 없냐 세금벌어지야...',\n",
       " '재앙이 비스포크는 인공기?',\n",
       " '가전은 삼성이 안되는듯',\n",
       " '응원합니다',\n",
       " '한국에는 문재인,김정은 사진 넣으면 삼성불매한다던 대깨문들한테도 많이 팔수있을거같아요!! 어때요 삼송?',\n",
       " '다음 버젼은 왼쪽은 태극기',\n",
       " '인이형 돼지에게 몇대 선물로,,,,,',\n",
       " '이쁘다~~ 대한민국 국기 이용해서 예쁘게 만들어보자~~^^',\n",
       " '성조기 이쁘긴 이쁘네 ㅋㅋ',\n",
       " '깃발이 무슨 상관이야 돈돼면 일장기도 붙여서 팔아야지',\n",
       " '비스포크 4도어 냉장고 사주세요 국기는 제가 살게요',\n",
       " '상단 좌 태극기 우 성조기 하단 일장기 한미일 동맹 에디션도 만들어 주세요~~~~',\n",
       " '아이디어는 좋은데 누가보면 미국제품인줄.. 삼성이 미국기업?',\n",
       " '저기 별갯수 틀리면 역풍불수도 있음 조심조심ㅋㅋ',\n",
       " 'Good idea ~',\n",
       " '역시 굿굿 아이디어~~^^',\n",
       " '성조기 개멋지네 누구아이디어 인지 ㄷㄷㄷ 미국의 성조기 부심 어마어마 하지 어떤 집이든 거실이나 방의 한쪽 벽엔 성조기를 걸어놓은집이 대부분',\n",
       " '삼성 아이디어 멋지네 중국몽 문제인 대통령 보다 삼성 일 잘하네',\n",
       " '그래서 무슨 일 생겼는 지는 안 나오는데?;; 오늘도 낚였구나 파닥파닥',\n",
       " '클린봇이 부적절한 표현을 감지한 댓글입니다.',\n",
       " '스메그가 이미 했던거',\n",
       " '원주민 학살한 미친 악마들의 나라~',\n",
       " '짱깨들 또 배끼겠구나, 오성홍기 그롯 부터 콘돔까지 나오겠구나~~~~~~',\n",
       " '작성자에 의해 삭제된 댓글입니다.',\n",
       " '중공국기 디자인하면 대깨문들이 미친듯이 구매할듯.중공이라면 눈물로 존경하는것들이니...토착쨩. 깨들.',\n",
       " '화나요 누른 간첩들은 태극기랑 성조기 싫어하지?',\n",
       " '문재인이 싫어 하는 아이디어 입니다.',\n",
       " '작성자에 의해 삭제된 댓글입니다.',\n",
       " '그런데 왜 깃발은 거꾸로 그려놨음? 맥이는거임?',\n",
       " '작성자에 의해 삭제된 댓글입니다.',\n",
       " '갓삼성. 기업윤리 부분에 항상 신경 써주시고 전 세게에서 승승장구해주길 기원합니다.',\n",
       " '좋은 아이디어군요',\n",
       " '클린봇이 부적절한 표현을 감지한 댓글입니다.',\n",
       " '도라이 ㅋ ㅋ ㅋ',\n",
       " '천조국 형님들 국기면 냉장고 열때마다 108배임',\n",
       " '우리나라는 태극기 잘 안팔릴걸라본다. 미국 영국 프랑스 국기는 잘 팔릴듯. 아님 노재팬 하면 잘 모르것네',\n",
       " '와 그래선 안되겠지만 저기 욱일기 붙여져있으면 난리나겠네',\n",
       " '다~떠나서....내눈엔이뿐데?ㅡ.ㅡ 개취일뿐',\n",
       " '???: 혹시 즁국 국기로는 안되겠슙니꽈? (쩝)',\n",
       " '역시 쫌생이 결정장애 문어벙 정권과 전과4범의 꽁떡이나 먹는 이재명 후보가 있는 대한민국의 수준과는 맞지 않는 탁월한 능력을 가진 기업입니다.',\n",
       " '비스포크는 진짜 신의 한수...',\n",
       " '작성자에 의해 삭제된 댓글입니다.',\n",
       " '역시 문재인대통령님과 이재명 차기대통령임의 나라 국민과 기업입니다. 자랑스럽습니다.',\n",
       " '잉,',\n",
       " '저 냉장고 쓰다 지겨우면 문 컬러 바꿔주는 서비스가 참신.비용궁금',\n",
       " '너도 부업으로 유투브 하냐? 낚시질하고 있어',\n",
       " '그거 좋은 아이디어다ㅡ각 나라별로 부착해라...부칸에 수출할땐 인민기를 붙이면 공산당들 환장하겠다 더 나아가서 중국에 수출할땐 모택동 등소핑 시진핑얼굴사진을 프린팅해라 잘 팔릴듯',\n",
       " '삼성 최고 입니다!',\n",
       " 'UK국기도 이쁠듯',\n",
       " '성조기 이쁘네 야 우리도 태극문양 냉장고 팔아줘',\n",
       " '그래서 성조기를 붙였더니 생긴일이 뭔데. 제목에는 뭔가 이슈가 있는것처럼 써놓고.. 뭔데!?',\n",
       " '판타스틱~~good',\n",
       " '미국, 영국 국기가 조금 디자인적으로 이쁘게 생기긴 했음. 유럽 국가의 삼색기는 조금 단순하고...',\n",
       " '와 이쁘다',\n",
       " '대박나길~~~',\n",
       " '오씨 캡아같음 간지쩐다',\n",
       " '이거 아이디어 좋네. 미국애들 은근 애국심 뿜뿜이라 여기저기 성조기 장식하는거 환장하는데',\n",
       " '멋지네',\n",
       " '성조기 위치 나만 이상하나?이쁘긴 참 이쁜데',\n",
       " '삼전 주식 폭락하겠군',\n",
       " '비스포크 녹색/노란색 조합 겁나 이쁨',\n",
       " '전라도 필수 인공기 에디션',\n",
       " '우와 .아이디어 굿이다. 역시 고객맞춤 삼성이다. 미국시장을 꿰뚫고 대한민국을 다시한번 알리네 ♡',\n",
       " '작성자에 의해 삭제된 댓글입니다.',\n",
       " '문재인 집에는 인공기와 김일성 사진이 붙어있겠구만 ㅋㅋㅋㅋㅋㅋㅋㅋㅋㅋㅋ',\n",
       " '우리 나라의 자랑거리 *삼성 화이팅*',\n",
       " '항상 것모습만 그럴싸하게..',\n",
       " '밥오들 삼성 지분 미국에 거의 다 넘어 갔는데ㅋㅋ',\n",
       " '기업은 초1류, 관료는 2류, 정치인은 3류, 더불어 미친당은 4류, 문재인과 이재명은 하류!',\n",
       " '다음은 마블 에디션???',\n",
       " 'Good! Excellent! Fantastic! 친일토착왜구 푸른지붕둥지 탁란조작질 이북뻐꾸기랑 더불어! 박영선이 2017년 평창핑양동계올림픽때 들고 자랑스럽게 흔들던, ²⁸독도는일본땅!독도삭제한반도기²⁸를, 새파란 조작질 놈년들의 애국기업 LG가, 입힌 냉장고를 일본에 수출하면, 대박날까? 아님 폭망할까?',\n",
       " '우리나라에는 태극기 안넣냐? 매국노 아님?',\n",
       " '미국인들 성조기 디자인에 넣는 거 좋아하던데 잘 팔릴 듯. 아이디어 굳',\n",
       " '중국서 중공기 단 모방작 또 나오것네. ㅋㅋㅋㅋ',\n",
       " '성조기 디자인 깔끔하게 잘 뽑았네 저거 태극기도 한번 뽑아보자ㅋㅋ',\n",
       " '대단하다. 아이디어 낸사람 상줘야겠다.',\n",
       " '아이디어 좋다!! 각나라마다 저런식으로 해주면 잘 팔리겠네~~~',\n",
       " '또, 또 기사를 가장한 광고. 냉장고에 태극기 그려넣는다고 사겠냐? 안 사!',\n",
       " '우리나라 태극기도 달게 해주세요.',\n",
       " '성조기 예쁘다',\n",
       " '그나라의 문화와 정서를 터치해주는 스마트 글로벌 마켓팅. 샘성 화이팅~',\n",
       " 'Good Idea! Excellent! Fantastic!',\n",
       " '외국기업인 이상 현지화도 잘 할 필요가 있음. 애플이나 구글이 미국기업이라 얻는 이점이 워낙 크기때문에',\n",
       " '오브제는 모양만 따라하지말고 좀 납짝하게 만들자',\n",
       " '더불어 토착왜구들은 성조기 극혐이쥐 난 성도기 에뒤션 좋다',\n",
       " '미국뽕의 힘 ㅋㅋㅋㅋㅋ',\n",
       " '외국기는 미국이 캐나다기 브라질기 스웨덴기 남아공기 러시아기 이쁘다',\n",
       " '난 해외 마케팅하면 LG 메카폰이 제일 먼저 생각나던데.. 디자인도 중요하지만 수출하려는 국가에 특화된 기능으로 시간되면 내장 나침반기능으로 메카의 방향을 알려줘서 그쪽보고 절하면 되는 폰이였는데, 이슬람권 (중동, 북아프리카) 에서 초대박났었음.',\n",
       " '양날의 검이다. ㅋㅋ 주미북한애들 삼성냉장고에 인공기 떠억하고 붙이겠네. 하긴 미국은 국보법이 없으니... 세상이 원래 그래. 양날검. ㅎㅎ',\n",
       " '미국국기는 저렇게해서 집에 두면 디자인도 이뻐서 가슴웅장해질거 같은데 중국국기를 저렇게해서 두면 씨뻘건게 굉장히 불편하고 보기싫을거같네...어쩌다이리됫누 ㅋㅋ',\n",
       " '멋있군!',\n",
       " '일장기 하면 화이트 인덕션에 불켜논거 같겠다 ㅋ',\n",
       " '국내에서도 광복절에 태극기도 붙이고 판매하면 사고싶다',\n",
       " '미국에서만 팔수 있겠네. 나라 맞춤형 전략 ㅎㅎ. 중동가서 팔면 국민들이 다 때려 부술듯',\n",
       " '영국 국기 모양도 괜찮을듯. 그래도 난 태극기로 선택하겠음',\n",
       " '국기 중에 성조기와 유니언잭이 제일 멋지긴 하지.',\n",
       " '대한민국 사병복과 화이바에 여성가족부와 그산하 수천개의 세금정치조직녀들의 마스코트를 오바르크치면 멋지겠네 ..아니다 코로나마크를 여가부마크로 바꿔라..ㅋㅋ',\n",
       " '태극기도 하면 예쁠듯ㅎㅎ',\n",
       " '어지간히 난장판인 나라 아닌 이상 네셔날리즘 안먹히는곳은 없지',\n",
       " '별론디',\n",
       " '미국영화에서 성조기가빠진적이있던가 굳생각',\n",
       " '중국은 해주지마',\n",
       " '이런거보면 참 대한민국 대단해..이렇게 작은나라에서 전자제품이 세계시장을 휩쓸고 있고.',\n",
       " '한국에디션도 나오면 좋을듯',\n",
       " '국뽕 ㅋㅋㅋㅋㅋㅋ 소비 ㅋㅋㅋㅋㅋ 전략 ㅋㅋㅋㅋㅋ 👍',\n",
       " '애플은 냉장고 없지롱',\n",
       " '좋은. 아이디어 ~~',\n",
       " '와우 ~~< 👍',\n",
       " '가전은 lg 다',\n",
       " '나라별 국기 이쁘겠다',\n",
       " '냉장고는 엘쥐가 좋지',\n",
       " '냉장 아메리카!',\n",
       " '발상 굿~!',\n",
       " '좋네요. 기업죽이는 한국말고 기업 지원해주는 나라에서 사업하세요. 대한민국은 기업가를 사회악으로 취급하고 세금을 사악하게 떼가죠. 노동자들은 일도 안하면서 놀고 먹으려고하고. 다들 근로자만하고 기업은 외국에 가는게 맞는것같아요.',\n",
       " '싫어서안사나… 비싸서 못사지 ㅠ',\n",
       " 'ㅋㅋㅋ',\n",
       " '멋있다',\n",
       " '인공기넣으면 한국에서 대박날텐데.... 정부가 보조금지원해주고 통일영웅기업으로 수령님도 친서보내주신다.',\n",
       " '비스포크 특징을 살려 고객 가족사진 붙이는 이벤트 해도 좋을 듯요.',\n",
       " '유니언잭으로 해줘요',\n",
       " '디자인 좋네요^^',\n",
       " '작성자에 의해 삭제된 댓글입니다.',\n",
       " '광고네',\n",
       " '미국이나 해외로 떠나라 ㆍ 대한민국에 삼성은 심장만 두면된다 ㆍ 개돼지 노조 없는곳으로 가라',\n",
       " '아이디어 좋아요..!',\n",
       " '한국에서도 많이팔릴듯',\n",
       " '근대 이기사가 왜 지금 나와~? 7월에 나온 기사인대~',\n",
       " '중국은 푸우 에디션 추천 ^^ 러블리한 캐릭터에 중퀴들 발작하듯이 기뻐할듯 ㅇㅇ',\n",
       " '삼성은 애플을 이길거다 분명히',\n",
       " '와 역시 클라스 👍',\n",
       " '진짜 아이디어 미쳤다..나두 냉장고에 태극기붙이면살거같은데...',\n",
       " '미국도 국뽕은 못참지 ㅋㅋㅋㅋㅋㅋ',\n",
       " '당장 태극기 에디션을 출시하시오 ㅋ1만대 한정판매 로ㅋ',\n",
       " '음.. 정말로 디자인 굿이네... 이건 잘했다. 삼성아. 봐도 시원하네.. 태극기 넣으면 좀 우리나라도 팔릴라나..',\n",
       " '대한민국의 자부심! 삼성!! 이재용 파이팅!!',\n",
       " '역시 국기 디자인은 성조기와 유니언잭이 최고인 것 같다.',\n",
       " '미국만큼 삼성 대우해 주면 저런거 해도 되는거 아님?',\n",
       " '스타벅스 컵 처럼 나라별 냉장고 만들자~~^^',\n",
       " '한국은 통일기 아님 인공기 외엔 불허 하겠지.',\n",
       " '유니언잭 이쁘겠네',\n",
       " '정부가 삼성일하는 것의 반만해도 나라가 이렇게 어렵지는 않겠다 관료조직도 경쟁해야되는데 이미지정치나하고있으니 나라가 개판 태극기에 태극문양빼고 삼상로고박자',\n",
       " '애국마케팅 시작',\n",
       " '미국판 국뽕에디션 ㅋㅋㅋㅋ',\n",
       " '가전은 중공이 쉽지않을 겁니다.기술로 어필하기 힘든 분야가 있죠. 식품처럼. 다만 삼성전자 하나로 버틴다는 게. 이 겁나 많은 인구밀도 세계최상위, 자원최빈국, 기술중진국, 식량자급도 하위권에.. 엘지? 안타깝다,,모터는 엘지라고 하던데 가전도 삼성에 밀리는 모양새. 치약이나 게속 팔아라',\n",
       " '큰 나라일 수록 국뽕이 장난 아니지. 미국뽕 전략 괜찮네 ㅎ',\n",
       " '태극기 디자인좀 바꾸자. 나는 아시아 삼국의 아이텐티티를, 일본은 태양. 중국은 별. 한국은 달. 이라고 생각한다. 지금의 태극기는 조선의 일월오봉도를 형상화한 것에 불과하다. 달, 정, 한 같은 우리나라 고유의 정서에다가, 지형적 특징인 교류, 조화, 융화를 형상화해서 만들자. 그리고 최종시안을 국민투표로 결정하면 되지 않을까?',\n",
       " '클린봇이 부적절한 표현을 감지한 댓글입니다.',\n",
       " '클린봇이 부적절한 표현을 감지한 댓글입니다.',\n",
       " '캐나다 코스트코 홈페이지 들어가보면가전 업체 열 몇군데 나오는데 첫번째 엘지 두번째 삼성 그뒤로 일본 미국 기업들 입니다 세상 많이 변했어요',\n",
       " '이왕이면 좌측 상단쪽에는 대한민국, 우측 상단쪽은 미국, 우리 대한민국 아래 좌측 하단에는 일본, 미국 아래 우측 하단에는 영국 국기를 넣었어면 아주 좋았을 것이다. 여기서 핵심은 일본은 우리 아래인 것이 핵심이다. 이것이 알게 모르게 애국이다. ㅋㅋㅋ',\n",
       " '이쁘네요.',\n",
       " '작성자에 의해 삭제된 댓글입니다.',\n",
       " '존경하는 대통령님 사진박아서 비스포크 쩝쩝이 에디션 하나 출시하면 대박날듯',\n",
       " '마케팅 참신해 ㅎㅎㅎ',\n",
       " '역시 삼성이 최고네요!!!',\n",
       " '미국 성조기랑 영국 유니언잭은 장식용으로 멋짐',\n",
       " '작성자에 의해 삭제된 댓글입니다.',\n",
       " '백색가전은 LG가 장악했는데... 삼성도 엄청나구만. 이제 글로벌 가전업체들은 한국2강외잡 이니.. 진짜 대단하다',\n",
       " '외국기업인 이상 어느정도 해당국에서 애국심 마케팅을 하긴 해야함 ㅋㅋ',\n",
       " '냉동실에 캡틴 아메리카 있어요',\n",
       " '클린봇이 부적절한 표현을 감지한 댓글입니다.',\n",
       " '국뽕이최고지',\n",
       " '그래서 무슨 일이 생겼는데요......제목 어그로 끌어놓고 막상 내용은 걍 삼성 제품 설명 뿐이네',\n",
       " '천잰데?',\n",
       " '미국 헐리우드 영화들은 선과 악으로 확실히 구별하는데 소련과 미국의 체제 대비를 암시하며 은연중 시민들에게 주입시키는 거라고 수업발표 준비 중에 공부했어요 ㅎㅎㅎ 작은 인원의 수업이었고 재수강 각 떠서 F로 옮겨받고 이제 성적증명떼면 없는 기록이지만 교수님의 도전이었어요. 토론하며 주제에 대해 컨펌받고 수정하고 교수님과 의견조율해가며 했던 즐거웠던 수업이었는데 여튼 저런 선과 악의 대비를 잘 이용하면 마케팅에도 성공할 수 있을 것 같네요!',\n",
       " '삼성 최고다!!',\n",
       " '역쒸 삼성. Good~',\n",
       " '민주당의 남조선 국기는 사양할게요..',\n",
       " '작성자에 의해 삭제된 댓글입니다.',\n",
       " '역쉬 삼성!!!예쁘네~',\n",
       " '성조기 문양은 우리나라에서도 인기니까 잘 팔릴듯',\n",
       " '올~~ 좋은아이디어네요',\n",
       " '우방국가에 대한 예우이면서 아이디어다',\n",
       " '대한민국 국기도 만들어주세요',\n",
       " '이 글을 민주당이 싫어합니다. 태극기도 싫어합니다. 오성기는 좋아요.',\n",
       " '싫어요는 뭐 빨갱이 들이냐',\n",
       " '굿 아이디어',\n",
       " '작성자에 의해 삭제된 댓글입니다.',\n",
       " '작성자에 의해 삭제된 댓글입니다.',\n",
       " '영리하다 ㅋㅋㅋㅋㅋ',\n",
       " '공산당 깃발 붙이면 중국에서 대박 날 듯.',\n",
       " '작성자에 의해 삭제된 댓글입니다.',\n",
       " '클린봇이 부적절한 표현을 감지한 댓글입니다.',\n",
       " '샤넬, 루이비통 로고 달고 팔면 불티나게 팔릴듯ㅋ 특히 한국에서',\n",
       " '우리나라에 출시해도 태극기부대 꼰대들이 많이 사줄듯',\n",
       " '리재용동무를 좀비 기생충 무리들이 구속 시키는 이유를 알겠다. 저기에 인공기를 붙여야 했어..',\n",
       " '안되겠지만 Dokdo is Korean land. 이렇게 모든수출품에 나갔으면 좋겠네.',\n",
       " '대가리 잘 썼누',\n",
       " '비스포크 냉장고 김치냉장고 변온냉장고 구입김치냉장고는 완전 냉동고 임. 5-6개월동안 우여곡절끝에 교환했으나 계속 얼고 있음 김치냉장고 가 아니리 냉동고임. As을 받있지만 지금도 얼어 있음',\n",
       " '삼성은 영업의 달인....!!L G 는 기술의 상징',\n",
       " '역시 국뽕은 돈이 된다',\n",
       " '에디션은 영국이나 캐나다가 ㅇㅈ',\n",
       " '응원합니다. 미국,캐나다에서는 삼성 LG가전이 상류층의 상징이 되었습니다 큰 세일기간에는 TV사려고 난리입니다',\n",
       " '중국 에디션은 극혐임... 대만 에디션으로 ㄲㄲㄲ',\n",
       " '태극기 에디션은 망해요 ㄴㄴ',\n",
       " '문재앙 에디션 _ 인공기',\n",
       " '삼성 응원!!!!!!',\n",
       " '독일에는 독일제국기어떠냐',\n",
       " '태극기 버전 아니 만국기 버전도 곧 나오겠네...',\n",
       " '이쁘다.성조기',\n",
       " '저기다 마누라 사진 크게붙여놈 냉장고 근처에 안간다',\n",
       " '사진이 좌우 뒤집힌건가??? 성조기 반전되어있으니 얼른 수정하시길..',\n",
       " '촌스러움이 없네 오히려 예프네',\n",
       " '역시 삼성 아이디어 최고 당신이 대한민국 대표 기업이라 자랑스럽습니다',\n",
       " '국가별 시리즈 출시해 주세요.',\n",
       " '문재인 이재명 에게는 북한 인공기 부처서 선물 해주면 엄청 좋아하겠지',\n",
       " '참 구차하다;;; 일본에서는 제품에 삼성로고까지 지우더니…',\n",
       " '삼성 응원합니다',\n",
       " '별모양 위치가 바꼈다...',\n",
       " '삼성아 각나라별로 저렇게 하면된다 굿',\n",
       " '멋진 아이디어 입니다. 역시 삼성 응원합니다.',\n",
       " '우리도 태극기 달자!!!!!!!!!',\n",
       " '작성자에 의해 삭제된 댓글입니다.']"
      ]
     },
     "execution_count": 28,
     "metadata": {},
     "output_type": "execute_result"
    }
   ],
   "source": [
    "# review 수집하기\n",
    "review_list = []\n",
    "\n",
    "overlays1 = \".u_cbox_text_wrap\"\n",
    "reviews = driver.find_elements_by_css_selector(overlays1)\n",
    "\n",
    "for review in tqdm(reviews):    \n",
    "    review = review.text\n",
    "    review_list.append(review)\n",
    "\n",
    "print(len(review_list))\n",
    "review_list"
   ]
  },
  {
   "cell_type": "code",
   "execution_count": 23,
   "metadata": {},
   "outputs": [
    {
     "data": {
      "text/plain": [
       "{'기사명': '\"갤Z플립 겁나게 팔렸네\"…삼성 폴더블폰, 올해 판매량 1000만대 유력',\n",
       " '날짜': '2021.12.30. 오전 11:33',\n",
       " '기사 추천 수': '4',\n",
       " '댓글': ['겁나게가 뭐냐 대체',\n",
       "  '역대 폰 디자인중 원탑인듯. 스펙은 좀 아쉽...',\n",
       "  '중국이 아닌 베트남 공장에서 만든 것에도 의미가 있지. 아직 중국만큼 최적화도 안됐을 텐데.',\n",
       "  '자국민이라면 칭찬이나 격려좀 합시다.. 뭐가 그렇게 꼬여서 사는지 댓글따라가보면 죄다 부정적인 댓글이나 쓰고 대체 어떻게 살아오신겁니까들',\n",
       "  '삼성 폴더블 안쓰는 12%는 중국인 99% 기타 1%쯤 될듯',\n",
       "  '삼성은 지금 망해 가고 있다. 미국이 죽이려고 마음을 단단히 먹었어, 곧 망한다.',\n",
       "  '박수 ~👏 고맙습니다~',\n",
       "  '6프로 화웨이는 도대체 어떤폰일까?',\n",
       "  '애풀스토어에서 아이패드 구매신청 오늘했는데 내년 3월 2일 ...참 많이도 산다',\n",
       "  '에스펜 수납만 되면 완벽할꺼같은데',\n",
       "  '1억대도 아니고 겨우 1000만대 가지고 놀랄일이냐 쓰레기 기사',\n",
       "  'ㅡㅡ애플은 4,000만대라는데 더 힘좀내자~~!!!',\n",
       "  '저걸 누가사 90년대접이식폴더',\n",
       "  '여성은 플립ㆍ남성은 폴더블',\n",
       "  '구라를 믿는 사람이 있냐,ㅋㅋ 폴더블 내수용으로 공짜폰으로 풀었겠지',\n",
       "  '1000대는 개뿔',\n",
       "  '작성자에 의해 삭제된 댓글입니다.',\n",
       "  '전혀 겁안나는데? 기사 이런식으로밖에 못쓰나 좀 참신하게 관심을 끌던가 너무 대놓고 관심유도하네'],\n",
       " '좋아요': '32',\n",
       " '훈훈해요': '8',\n",
       " '슬퍼요': '0',\n",
       " '화나요': '5',\n",
       " '후속기사 원해요': '2'}"
      ]
     },
     "execution_count": 23,
     "metadata": {},
     "output_type": "execute_result"
    }
   ],
   "source": [
    "target_info = {}\n",
    "\n",
    "target_info['기사명'] = title\n",
    "target_info['날짜'] = date\n",
    "target_info['기사 추천 수'] = up\n",
    "target_info['댓글'] = review_list\n",
    "target_info['좋아요'] = like\n",
    "target_info['훈훈해요'] = warm\n",
    "target_info['슬퍼요'] = sad\n",
    "target_info['화나요'] = angry\n",
    "target_info['후속기사 원해요'] = want\n",
    "            \n",
    "target_info"
   ]
  },
  {
   "cell_type": "code",
   "execution_count": 24,
   "metadata": {},
   "outputs": [],
   "source": [
    "dict[0] = target_info"
   ]
  },
  {
   "cell_type": "raw",
   "metadata": {},
   "source": [
    "-> 기사 한 개 테스트 완료!"
   ]
  },
  {
   "cell_type": "code",
   "execution_count": 25,
   "metadata": {},
   "outputs": [
    {
     "data": {
      "text/plain": [
       "{0: {'기사명': '\"갤Z플립 겁나게 팔렸네\"…삼성 폴더블폰, 올해 판매량 1000만대 유력',\n",
       "  '날짜': '2021.12.30. 오전 11:33',\n",
       "  '기사 추천 수': '4',\n",
       "  '댓글': ['겁나게가 뭐냐 대체',\n",
       "   '역대 폰 디자인중 원탑인듯. 스펙은 좀 아쉽...',\n",
       "   '중국이 아닌 베트남 공장에서 만든 것에도 의미가 있지. 아직 중국만큼 최적화도 안됐을 텐데.',\n",
       "   '자국민이라면 칭찬이나 격려좀 합시다.. 뭐가 그렇게 꼬여서 사는지 댓글따라가보면 죄다 부정적인 댓글이나 쓰고 대체 어떻게 살아오신겁니까들',\n",
       "   '삼성 폴더블 안쓰는 12%는 중국인 99% 기타 1%쯤 될듯',\n",
       "   '삼성은 지금 망해 가고 있다. 미국이 죽이려고 마음을 단단히 먹었어, 곧 망한다.',\n",
       "   '박수 ~👏 고맙습니다~',\n",
       "   '6프로 화웨이는 도대체 어떤폰일까?',\n",
       "   '애풀스토어에서 아이패드 구매신청 오늘했는데 내년 3월 2일 ...참 많이도 산다',\n",
       "   '에스펜 수납만 되면 완벽할꺼같은데',\n",
       "   '1억대도 아니고 겨우 1000만대 가지고 놀랄일이냐 쓰레기 기사',\n",
       "   'ㅡㅡ애플은 4,000만대라는데 더 힘좀내자~~!!!',\n",
       "   '저걸 누가사 90년대접이식폴더',\n",
       "   '여성은 플립ㆍ남성은 폴더블',\n",
       "   '구라를 믿는 사람이 있냐,ㅋㅋ 폴더블 내수용으로 공짜폰으로 풀었겠지',\n",
       "   '1000대는 개뿔',\n",
       "   '작성자에 의해 삭제된 댓글입니다.',\n",
       "   '전혀 겁안나는데? 기사 이런식으로밖에 못쓰나 좀 참신하게 관심을 끌던가 너무 대놓고 관심유도하네'],\n",
       "  '좋아요': '32',\n",
       "  '훈훈해요': '8',\n",
       "  '슬퍼요': '0',\n",
       "  '화나요': '5',\n",
       "  '후속기사 원해요': '2'}}"
      ]
     },
     "execution_count": 25,
     "metadata": {},
     "output_type": "execute_result"
    }
   ],
   "source": [
    "dict"
   ]
  },
  {
   "cell_type": "markdown",
   "metadata": {},
   "source": [
    "## 전체 기사 for문으로 데이터 수집하기"
   ]
  },
  {
   "cell_type": "code",
   "execution_count": 26,
   "metadata": {},
   "outputs": [
    {
     "data": {
      "text/plain": [
       "27"
      ]
     },
     "execution_count": 26,
     "metadata": {},
     "output_type": "execute_result"
    }
   ],
   "source": [
    "len(df['url'])"
   ]
  },
  {
   "cell_type": "code",
   "execution_count": 29,
   "metadata": {
    "scrolled": false
   },
   "outputs": [
    {
     "data": {
      "application/vnd.jupyter.widget-view+json": {
       "model_id": "34eefa91fd924c11b08676e83ddc5b62",
       "version_major": 2,
       "version_minor": 0
      },
      "text/plain": [
       "  0%|          | 0/10 [00:00<?, ?it/s]"
      ]
     },
     "metadata": {},
     "output_type": "display_data"
    },
    {
     "data": {
      "application/vnd.jupyter.widget-view+json": {
       "model_id": "06bb3938db984fe7956df10f1f9626ab",
       "version_major": 2,
       "version_minor": 0
      },
      "text/plain": [
       "  0%|          | 0/18 [00:00<?, ?it/s]"
      ]
     },
     "metadata": {},
     "output_type": "display_data"
    },
    {
     "name": "stdout",
     "output_type": "stream",
     "text": [
      "\"갤Z플립 겁나게 팔렸네\"…삼성 폴더블폰, 올해 판매량 1000만대 유력 ( 댓글 수: 18 )\n"
     ]
    },
    {
     "data": {
      "application/vnd.jupyter.widget-view+json": {
       "model_id": "5d7dee6a9eba4a6e911cd32034309651",
       "version_major": 2,
       "version_minor": 0
      },
      "text/plain": [
       "  0%|          | 0/6 [00:00<?, ?it/s]"
      ]
     },
     "metadata": {},
     "output_type": "display_data"
    },
    {
     "name": "stdout",
     "output_type": "stream",
     "text": [
      "삼성 폴더블 대중화 통했다…지난해보다 4배 더 팔려 ( 댓글 수: 6 )\n"
     ]
    },
    {
     "data": {
      "application/vnd.jupyter.widget-view+json": {
       "model_id": "f2caca2aa45141c1a3db6184fbf15a6f",
       "version_major": 2,
       "version_minor": 0
      },
      "text/plain": [
       "  0%|          | 0/3 [00:00<?, ?it/s]"
      ]
     },
     "metadata": {},
     "output_type": "display_data"
    },
    {
     "name": "stdout",
     "output_type": "stream",
     "text": [
      "\"올해 Z플립은 #성공적\"…삼성의 Z시리즈 판매율 전년比 4배↑ ( 댓글 수: 3 )\n"
     ]
    },
    {
     "data": {
      "application/vnd.jupyter.widget-view+json": {
       "model_id": "85e8a007e45e4f1f8f13b97c54167b5d",
       "version_major": 2,
       "version_minor": 0
      },
      "text/plain": [
       "  0%|          | 0/1 [00:00<?, ?it/s]"
      ]
     },
     "metadata": {},
     "output_type": "display_data"
    },
    {
     "name": "stdout",
     "output_type": "stream",
     "text": [
      "삼성 \"올해 폴더블폰 판매량 작년의 4배\"…800만대 추정 ( 댓글 수: 1 )\n"
     ]
    },
    {
     "data": {
      "application/vnd.jupyter.widget-view+json": {
       "model_id": "f0ef22a0e71b4bcb8735c4ec82d106c1",
       "version_major": 2,
       "version_minor": 0
      },
      "text/plain": [
       "  0%|          | 0/193 [00:00<?, ?it/s]"
      ]
     },
     "metadata": {},
     "output_type": "display_data"
    },
    {
     "name": "stdout",
     "output_type": "stream",
     "text": [
      "냉장고에 성조기 붙였더니 생긴 일…美 친 삼성의 아이디어 ( 댓글 수: 193 )\n"
     ]
    },
    {
     "data": {
      "application/vnd.jupyter.widget-view+json": {
       "model_id": "7621301d1f284489ad71b15ff2c27dfa",
       "version_major": 2,
       "version_minor": 0
      },
      "text/plain": [
       "0it [00:00, ?it/s]"
      ]
     },
     "metadata": {},
     "output_type": "display_data"
    },
    {
     "name": "stdout",
     "output_type": "stream",
     "text": [
      "삼성전자, 비스포크 가전 앞세워 美 시장 공략 ( 댓글 수: 0 )\n"
     ]
    },
    {
     "data": {
      "application/vnd.jupyter.widget-view+json": {
       "model_id": "1a163abdc3b4497ab5410bee661f5068",
       "version_major": 2,
       "version_minor": 0
      },
      "text/plain": [
       "0it [00:02, ?it/s]"
      ]
     },
     "metadata": {},
     "output_type": "display_data"
    },
    {
     "name": "stdout",
     "output_type": "stream",
     "text": [
      "삼성전자, 美시장 ‘비스포크’ 라인업 확대 ( 댓글 수: 0 )\n"
     ]
    },
    {
     "data": {
      "application/vnd.jupyter.widget-view+json": {
       "model_id": "ebdee59059f647b6adb1a37cee7e863a",
       "version_major": 2,
       "version_minor": 0
      },
      "text/plain": [
       "0it [00:00, ?it/s]"
      ]
     },
     "metadata": {},
     "output_type": "display_data"
    },
    {
     "name": "stdout",
     "output_type": "stream",
     "text": [
      "폴더블폰 대중화 이끈 삼성 \"갤럭시Z 판매량 전년 4배 ↑\" ( 댓글 수: 0 )\n",
      "8\n"
     ]
    },
    {
     "data": {
      "text/plain": [
       "{0: {'기사명': '\"갤Z플립 겁나게 팔렸네\"…삼성 폴더블폰, 올해 판매량 1000만대 유력',\n",
       "  '날짜': '2021.12.30. 오전 11:33',\n",
       "  '기사 추천 수': 843,\n",
       "  '좋아요': 32,\n",
       "  '훈훈해요': 8,\n",
       "  '슬퍼요': 0,\n",
       "  '화나요': 5,\n",
       "  '후속기사 원해요': 2,\n",
       "  '댓글 수': 18,\n",
       "  '댓글': ['겁나게가 뭐냐 대체',\n",
       "   '역대 폰 디자인중 원탑인듯. 스펙은 좀 아쉽...',\n",
       "   '중국이 아닌 베트남 공장에서 만든 것에도 의미가 있지. 아직 중국만큼 최적화도 안됐을 텐데.',\n",
       "   '자국민이라면 칭찬이나 격려좀 합시다.. 뭐가 그렇게 꼬여서 사는지 댓글따라가보면 죄다 부정적인 댓글이나 쓰고 대체 어떻게 살아오신겁니까들',\n",
       "   '삼성 폴더블 안쓰는 12%는 중국인 99% 기타 1%쯤 될듯',\n",
       "   '삼성은 지금 망해 가고 있다. 미국이 죽이려고 마음을 단단히 먹었어, 곧 망한다.',\n",
       "   '박수 ~👏 고맙습니다~',\n",
       "   '6프로 화웨이는 도대체 어떤폰일까?',\n",
       "   '애풀스토어에서 아이패드 구매신청 오늘했는데 내년 3월 2일 ...참 많이도 산다',\n",
       "   '에스펜 수납만 되면 완벽할꺼같은데',\n",
       "   '1억대도 아니고 겨우 1000만대 가지고 놀랄일이냐 쓰레기 기사',\n",
       "   'ㅡㅡ애플은 4,000만대라는데 더 힘좀내자~~!!!',\n",
       "   '저걸 누가사 90년대접이식폴더',\n",
       "   '여성은 플립ㆍ남성은 폴더블',\n",
       "   '구라를 믿는 사람이 있냐,ㅋㅋ 폴더블 내수용으로 공짜폰으로 풀었겠지',\n",
       "   '1000대는 개뿔',\n",
       "   '작성자에 의해 삭제된 댓글입니다.',\n",
       "   '전혀 겁안나는데? 기사 이런식으로밖에 못쓰나 좀 참신하게 관심을 끌던가 너무 대놓고 관심유도하네']},\n",
       " 1: {'기사명': '삼성 폴더블 대중화 통했다…지난해보다 4배 더 팔려',\n",
       "  '날짜': '2021.12.30. 오전 11:40',\n",
       "  '기사 추천 수': 271,\n",
       "  '좋아요': 5,\n",
       "  '훈훈해요': 1,\n",
       "  '슬퍼요': 0,\n",
       "  '화나요': 2,\n",
       "  '후속기사 원해요': 0,\n",
       "  '댓글 수': 6,\n",
       "  '댓글': ['삼성은 그냥 삼성의 길을 가면 된다. 어차피 시총이 코스닥보다 많은 애플한테는 자금력으로도 안돼며 브랜드가치, 국가이미지까지 뭐 하나 앞서기 쉬운 개 없다. 경쟁보다는 차별화. 나름대로의 강점을 만들며 나아가면 된다.',\n",
       "   '800만대 ㅋㅋㅋㅋ 팀쿡이 이 기사를 좋아합니다 ㅋㅋㅋ',\n",
       "   'z플립 밧데리좀 어케 해줘봐봐~~~~ㅜ ㅜ',\n",
       "   '작성자에 의해 삭제된 댓글입니다.',\n",
       "   '1000대 팔리던게 4000천대 팔린것도 4배라고ㅎ',\n",
       "   '주가관리나 해라. 18 열받네']},\n",
       " 2: {'기사명': '\"올해 Z플립은 #성공적\"…삼성의 Z시리즈 판매율 전년比 4배↑',\n",
       "  '날짜': '2021.12.30. 오전 11:09',\n",
       "  '기사 추천 수': 375,\n",
       "  '좋아요': 0,\n",
       "  '훈훈해요': 0,\n",
       "  '슬퍼요': 0,\n",
       "  '화나요': 0,\n",
       "  '후속기사 원해요': 2,\n",
       "  '댓글 수': 3,\n",
       "  '댓글': ['누구는 출시 6개월만에 1억대씩 파는데 누구는 4개월동안 4백만대 팔아서 자화자찬',\n",
       "   '주위에 낚여서 플립 산 애들 다음에는 절대 접는 폰 안 산다고 하던데 기러기들은 참 애쓴다 광고비는 받았고 기사는 써야겠고',\n",
       "   '주시캆이 올라가야지? 똥주다']},\n",
       " 4: {'기사명': '삼성 \"올해 폴더블폰 판매량 작년의 4배\"…800만대 추정',\n",
       "  '날짜': '2021.12.30. 오전 11:00',\n",
       "  '기사 추천 수': 260,\n",
       "  '좋아요': 0,\n",
       "  '훈훈해요': 0,\n",
       "  '슬퍼요': 0,\n",
       "  '화나요': 0,\n",
       "  '후속기사 원해요': 0,\n",
       "  '댓글 수': 1,\n",
       "  '댓글': ['Z폴드3 넷플릭스보기에 최적화 아주굿~~']},\n",
       " 5: {'기사명': '냉장고에 성조기 붙였더니 생긴 일…美 친 삼성의 아이디어',\n",
       "  '날짜': '2021.12.30. 오전 10:28',\n",
       "  '기사 추천 수': 476,\n",
       "  '좋아요': 884,\n",
       "  '훈훈해요': 24,\n",
       "  '슬퍼요': 2,\n",
       "  '화나요': 24,\n",
       "  '후속기사 원해요': 15,\n",
       "  '댓글 수': 193,\n",
       "  '댓글': ['스메그가 이미 했던거',\n",
       "   '원주민 학살한 미친 악마들의 나라~',\n",
       "   '짱깨들 또 배끼겠구나, 오성홍기 그롯 부터 콘돔까지 나오겠구나~~~~~~',\n",
       "   '작성자에 의해 삭제된 댓글입니다.',\n",
       "   '중공국기 디자인하면 대깨문들이 미친듯이 구매할듯.중공이라면 눈물로 존경하는것들이니...토착쨩. 깨들.',\n",
       "   '화나요 누른 간첩들은 태극기랑 성조기 싫어하지?',\n",
       "   '문재인이 싫어 하는 아이디어 입니다.',\n",
       "   '국내용도 태극기 붙혀라 설마 일장기붙혀서 일본에 수출은 안하겠지?',\n",
       "   '그런데 왜 깃발은 거꾸로 그려놨음? 맥이는거임?',\n",
       "   '우리나라 버전은 빼자. 놀러온 할배할매들이 공주님을 석방하라! 이러면서....아 오늘 석방이지 미안',\n",
       "   '갓삼성. 기업윤리 부분에 항상 신경 써주시고 전 세게에서 승승장구해주길 기원합니다.',\n",
       "   '좋은 아이디어군요',\n",
       "   '클린봇이 부적절한 표현을 감지한 댓글입니다.',\n",
       "   '도라이 ㅋ ㅋ ㅋ',\n",
       "   '천조국 형님들 국기면 냉장고 열때마다 108배임',\n",
       "   '우리나라는 태극기 잘 안팔릴걸라본다. 미국 영국 프랑스 국기는 잘 팔릴듯. 아님 노재팬 하면 잘 모르것네',\n",
       "   '와 그래선 안되겠지만 저기 욱일기 붙여져있으면 난리나겠네',\n",
       "   '다~떠나서....내눈엔이뿐데?ㅡ.ㅡ 개취일뿐',\n",
       "   '???: 혹시 즁국 국기로는 안되겠슙니꽈? (쩝)',\n",
       "   '역시 쫌생이 결정장애 문어벙 정권과 전과4범의 꽁떡이나 먹는 이재명 후보가 있는 대한민국의 수준과는 맞지 않는 탁월한 능력을 가진 기업입니다.',\n",
       "   '비스포크는 진짜 신의 한수...',\n",
       "   '작성자에 의해 삭제된 댓글입니다.',\n",
       "   '역시 문재인대통령님과 이재명 차기대통령임의 나라 국민과 기업입니다. 자랑스럽습니다.',\n",
       "   '잉,',\n",
       "   '저 냉장고 쓰다 지겨우면 문 컬러 바꿔주는 서비스가 참신.비용궁금',\n",
       "   '너도 부업으로 유투브 하냐? 낚시질하고 있어',\n",
       "   '그거 좋은 아이디어다ㅡ각 나라별로 부착해라...부칸에 수출할땐 인민기를 붙이면 공산당들 환장하겠다 더 나아가서 중국에 수출할땐 모택동 등소핑 시진핑얼굴사진을 프린팅해라 잘 팔릴듯',\n",
       "   '삼성 최고 입니다!',\n",
       "   'UK국기도 이쁠듯',\n",
       "   '성조기 이쁘네 야 우리도 태극문양 냉장고 팔아줘',\n",
       "   '그래서 성조기를 붙였더니 생긴일이 뭔데. 제목에는 뭔가 이슈가 있는것처럼 써놓고.. 뭔데!?',\n",
       "   '판타스틱~~good',\n",
       "   '미국, 영국 국기가 조금 디자인적으로 이쁘게 생기긴 했음. 유럽 국가의 삼색기는 조금 단순하고...',\n",
       "   '와 이쁘다',\n",
       "   '대박나길~~~',\n",
       "   '오씨 캡아같음 간지쩐다',\n",
       "   '이거 아이디어 좋네. 미국애들 은근 애국심 뿜뿜이라 여기저기 성조기 장식하는거 환장하는데',\n",
       "   '멋지네',\n",
       "   '성조기 위치 나만 이상하나?이쁘긴 참 이쁜데',\n",
       "   '삼전 주식 폭락하겠군',\n",
       "   '비스포크 녹색/노란색 조합 겁나 이쁨',\n",
       "   '전라도 필수 인공기 에디션',\n",
       "   '우와 .아이디어 굿이다. 역시 고객맞춤 삼성이다. 미국시장을 꿰뚫고 대한민국을 다시한번 알리네 ♡',\n",
       "   '작성자에 의해 삭제된 댓글입니다.',\n",
       "   '문재인 집에는 인공기와 김일성 사진이 붙어있겠구만 ㅋㅋㅋㅋㅋㅋㅋㅋㅋㅋㅋ',\n",
       "   '우리 나라의 자랑거리 *삼성 화이팅*',\n",
       "   '항상 것모습만 그럴싸하게..',\n",
       "   '밥오들 삼성 지분 미국에 거의 다 넘어 갔는데ㅋㅋ',\n",
       "   '기업은 초1류, 관료는 2류, 정치인은 3류, 더불어 미친당은 4류, 문재인과 이재명은 하류!',\n",
       "   '다음은 마블 에디션???',\n",
       "   'Good! Excellent! Fantastic! 친일토착왜구 푸른지붕둥지 탁란조작질 이북뻐꾸기랑 더불어! 박영선이 2017년 평창핑양동계올림픽때 들고 자랑스럽게 흔들던, ²⁸독도는일본땅!독도삭제한반도기²⁸를, 새파란 조작질 놈년들의 애국기업 LG가, 입힌 냉장고를 일본에 수출하면, 대박날까? 아님 폭망할까?',\n",
       "   '우리나라에는 태극기 안넣냐? 매국노 아님?',\n",
       "   '미국인들 성조기 디자인에 넣는 거 좋아하던데 잘 팔릴 듯. 아이디어 굳',\n",
       "   '중국서 중공기 단 모방작 또 나오것네. ㅋㅋㅋㅋ',\n",
       "   '성조기 디자인 깔끔하게 잘 뽑았네 저거 태극기도 한번 뽑아보자ㅋㅋ',\n",
       "   '대단하다. 아이디어 낸사람 상줘야겠다.',\n",
       "   '아이디어 좋다!! 각나라마다 저런식으로 해주면 잘 팔리겠네~~~',\n",
       "   '또, 또 기사를 가장한 광고. 냉장고에 태극기 그려넣는다고 사겠냐? 안 사!',\n",
       "   '우리나라 태극기도 달게 해주세요.',\n",
       "   '성조기 예쁘다',\n",
       "   '그나라의 문화와 정서를 터치해주는 스마트 글로벌 마켓팅. 샘성 화이팅~',\n",
       "   'Good Idea! Excellent! Fantastic!',\n",
       "   '외국기업인 이상 현지화도 잘 할 필요가 있음. 애플이나 구글이 미국기업이라 얻는 이점이 워낙 크기때문에',\n",
       "   '오브제는 모양만 따라하지말고 좀 납짝하게 만들자',\n",
       "   '더불어 토착왜구들은 성조기 극혐이쥐 난 성도기 에뒤션 좋다',\n",
       "   '미국뽕의 힘 ㅋㅋㅋㅋㅋ',\n",
       "   '외국기는 미국이 캐나다기 브라질기 스웨덴기 남아공기 러시아기 이쁘다',\n",
       "   '난 해외 마케팅하면 LG 메카폰이 제일 먼저 생각나던데.. 디자인도 중요하지만 수출하려는 국가에 특화된 기능으로 시간되면 내장 나침반기능으로 메카의 방향을 알려줘서 그쪽보고 절하면 되는 폰이였는데, 이슬람권 (중동, 북아프리카) 에서 초대박났었음.',\n",
       "   '양날의 검이다. ㅋㅋ 주미북한애들 삼성냉장고에 인공기 떠억하고 붙이겠네. 하긴 미국은 국보법이 없으니... 세상이 원래 그래. 양날검. ㅎㅎ',\n",
       "   '미국국기는 저렇게해서 집에 두면 디자인도 이뻐서 가슴웅장해질거 같은데 중국국기를 저렇게해서 두면 씨뻘건게 굉장히 불편하고 보기싫을거같네...어쩌다이리됫누 ㅋㅋ',\n",
       "   '멋있군!',\n",
       "   '일장기 하면 화이트 인덕션에 불켜논거 같겠다 ㅋ',\n",
       "   '국내에서도 광복절에 태극기도 붙이고 판매하면 사고싶다',\n",
       "   '미국에서만 팔수 있겠네. 나라 맞춤형 전략 ㅎㅎ. 중동가서 팔면 국민들이 다 때려 부술듯',\n",
       "   '영국 국기 모양도 괜찮을듯. 그래도 난 태극기로 선택하겠음',\n",
       "   '국기 중에 성조기와 유니언잭이 제일 멋지긴 하지.',\n",
       "   '대한민국 사병복과 화이바에 여성가족부와 그산하 수천개의 세금정치조직녀들의 마스코트를 오바르크치면 멋지겠네 ..아니다 코로나마크를 여가부마크로 바꿔라..ㅋㅋ',\n",
       "   '태극기도 하면 예쁠듯ㅎㅎ',\n",
       "   '어지간히 난장판인 나라 아닌 이상 네셔날리즘 안먹히는곳은 없지',\n",
       "   '별론디',\n",
       "   '미국영화에서 성조기가빠진적이있던가 굳생각',\n",
       "   '중국은 해주지마',\n",
       "   '이런거보면 참 대한민국 대단해..이렇게 작은나라에서 전자제품이 세계시장을 휩쓸고 있고.',\n",
       "   '한국에디션도 나오면 좋을듯',\n",
       "   '국뽕 ㅋㅋㅋㅋㅋㅋ 소비 ㅋㅋㅋㅋㅋ 전략 ㅋㅋㅋㅋㅋ 👍',\n",
       "   '애플은 냉장고 없지롱',\n",
       "   '좋은. 아이디어 ~~',\n",
       "   '와우 ~~< 👍',\n",
       "   '가전은 lg 다',\n",
       "   '나라별 국기 이쁘겠다',\n",
       "   '냉장고는 엘쥐가 좋지',\n",
       "   '냉장 아메리카!',\n",
       "   '발상 굿~!',\n",
       "   '좋네요. 기업죽이는 한국말고 기업 지원해주는 나라에서 사업하세요. 대한민국은 기업가를 사회악으로 취급하고 세금을 사악하게 떼가죠. 노동자들은 일도 안하면서 놀고 먹으려고하고. 다들 근로자만하고 기업은 외국에 가는게 맞는것같아요.',\n",
       "   '싫어서안사나… 비싸서 못사지 ㅠ',\n",
       "   'ㅋㅋㅋ',\n",
       "   '멋있다',\n",
       "   '인공기넣으면 한국에서 대박날텐데.... 정부가 보조금지원해주고 통일영웅기업으로 수령님도 친서보내주신다.',\n",
       "   '비스포크 특징을 살려 고객 가족사진 붙이는 이벤트 해도 좋을 듯요.',\n",
       "   '유니언잭으로 해줘요',\n",
       "   '디자인 좋네요^^',\n",
       "   '작성자에 의해 삭제된 댓글입니다.',\n",
       "   '광고네',\n",
       "   '미국이나 해외로 떠나라 ㆍ 대한민국에 삼성은 심장만 두면된다 ㆍ 개돼지 노조 없는곳으로 가라',\n",
       "   '아이디어 좋아요..!',\n",
       "   '한국에서도 많이팔릴듯',\n",
       "   '근대 이기사가 왜 지금 나와~? 7월에 나온 기사인대~',\n",
       "   '중국은 푸우 에디션 추천 ^^ 러블리한 캐릭터에 중퀴들 발작하듯이 기뻐할듯 ㅇㅇ',\n",
       "   '삼성은 애플을 이길거다 분명히',\n",
       "   '와 역시 클라스 👍',\n",
       "   '진짜 아이디어 미쳤다..나두 냉장고에 태극기붙이면살거같은데...',\n",
       "   '미국도 국뽕은 못참지 ㅋㅋㅋㅋㅋㅋ',\n",
       "   '당장 태극기 에디션을 출시하시오 ㅋ1만대 한정판매 로ㅋ',\n",
       "   '음.. 정말로 디자인 굿이네... 이건 잘했다. 삼성아. 봐도 시원하네.. 태극기 넣으면 좀 우리나라도 팔릴라나..',\n",
       "   '대한민국의 자부심! 삼성!! 이재용 파이팅!!',\n",
       "   '역시 국기 디자인은 성조기와 유니언잭이 최고인 것 같다.',\n",
       "   '미국만큼 삼성 대우해 주면 저런거 해도 되는거 아님?',\n",
       "   '스타벅스 컵 처럼 나라별 냉장고 만들자~~^^',\n",
       "   '한국은 통일기 아님 인공기 외엔 불허 하겠지.',\n",
       "   '유니언잭 이쁘겠네',\n",
       "   '정부가 삼성일하는 것의 반만해도 나라가 이렇게 어렵지는 않겠다 관료조직도 경쟁해야되는데 이미지정치나하고있으니 나라가 개판 태극기에 태극문양빼고 삼상로고박자',\n",
       "   '애국마케팅 시작',\n",
       "   '미국판 국뽕에디션 ㅋㅋㅋㅋ',\n",
       "   '가전은 중공이 쉽지않을 겁니다.기술로 어필하기 힘든 분야가 있죠. 식품처럼. 다만 삼성전자 하나로 버틴다는 게. 이 겁나 많은 인구밀도 세계최상위, 자원최빈국, 기술중진국, 식량자급도 하위권에.. 엘지? 안타깝다,,모터는 엘지라고 하던데 가전도 삼성에 밀리는 모양새. 치약이나 게속 팔아라',\n",
       "   '큰 나라일 수록 국뽕이 장난 아니지. 미국뽕 전략 괜찮네 ㅎ',\n",
       "   '태극기 디자인좀 바꾸자. 나는 아시아 삼국의 아이텐티티를, 일본은 태양. 중국은 별. 한국은 달. 이라고 생각한다. 지금의 태극기는 조선의 일월오봉도를 형상화한 것에 불과하다. 달, 정, 한 같은 우리나라 고유의 정서에다가, 지형적 특징인 교류, 조화, 융화를 형상화해서 만들자. 그리고 최종시안을 국민투표로 결정하면 되지 않을까?',\n",
       "   '클린봇이 부적절한 표현을 감지한 댓글입니다.',\n",
       "   '클린봇이 부적절한 표현을 감지한 댓글입니다.',\n",
       "   '캐나다 코스트코 홈페이지 들어가보면가전 업체 열 몇군데 나오는데 첫번째 엘지 두번째 삼성 그뒤로 일본 미국 기업들 입니다 세상 많이 변했어요',\n",
       "   '이왕이면 좌측 상단쪽에는 대한민국, 우측 상단쪽은 미국, 우리 대한민국 아래 좌측 하단에는 일본, 미국 아래 우측 하단에는 영국 국기를 넣었어면 아주 좋았을 것이다. 여기서 핵심은 일본은 우리 아래인 것이 핵심이다. 이것이 알게 모르게 애국이다. ㅋㅋㅋ',\n",
       "   '이쁘네요.',\n",
       "   '작성자에 의해 삭제된 댓글입니다.',\n",
       "   '존경하는 대통령님 사진박아서 비스포크 쩝쩝이 에디션 하나 출시하면 대박날듯',\n",
       "   '마케팅 참신해 ㅎㅎㅎ',\n",
       "   '역시 삼성이 최고네요!!!',\n",
       "   '미국 성조기랑 영국 유니언잭은 장식용으로 멋짐',\n",
       "   '작성자에 의해 삭제된 댓글입니다.',\n",
       "   '백색가전은 LG가 장악했는데... 삼성도 엄청나구만. 이제 글로벌 가전업체들은 한국2강외잡 이니.. 진짜 대단하다',\n",
       "   '외국기업인 이상 어느정도 해당국에서 애국심 마케팅을 하긴 해야함 ㅋㅋ',\n",
       "   '냉동실에 캡틴 아메리카 있어요',\n",
       "   '클린봇이 부적절한 표현을 감지한 댓글입니다.',\n",
       "   '국뽕이최고지',\n",
       "   '그래서 무슨 일이 생겼는데요......제목 어그로 끌어놓고 막상 내용은 걍 삼성 제품 설명 뿐이네',\n",
       "   '천잰데?',\n",
       "   '미국 헐리우드 영화들은 선과 악으로 확실히 구별하는데 소련과 미국의 체제 대비를 암시하며 은연중 시민들에게 주입시키는 거라고 수업발표 준비 중에 공부했어요 ㅎㅎㅎ 작은 인원의 수업이었고 재수강 각 떠서 F로 옮겨받고 이제 성적증명떼면 없는 기록이지만 교수님의 도전이었어요. 토론하며 주제에 대해 컨펌받고 수정하고 교수님과 의견조율해가며 했던 즐거웠던 수업이었는데 여튼 저런 선과 악의 대비를 잘 이용하면 마케팅에도 성공할 수 있을 것 같네요!',\n",
       "   '삼성 최고다!!',\n",
       "   '역쒸 삼성. Good~',\n",
       "   '민주당의 남조선 국기는 사양할게요..',\n",
       "   '작성자에 의해 삭제된 댓글입니다.',\n",
       "   '역쉬 삼성!!!예쁘네~',\n",
       "   '성조기 문양은 우리나라에서도 인기니까 잘 팔릴듯',\n",
       "   '올~~ 좋은아이디어네요',\n",
       "   '우방국가에 대한 예우이면서 아이디어다',\n",
       "   '대한민국 국기도 만들어주세요',\n",
       "   '이 글을 민주당이 싫어합니다. 태극기도 싫어합니다. 오성기는 좋아요.',\n",
       "   '싫어요는 뭐 빨갱이 들이냐',\n",
       "   '굿 아이디어',\n",
       "   '작성자에 의해 삭제된 댓글입니다.',\n",
       "   '성조기 옆에 태극기도 달아보렴ㆍ 재미한국인들과 한류 덕도 봐야죠',\n",
       "   '영리하다 ㅋㅋㅋㅋㅋ',\n",
       "   '공산당 깃발 붙이면 중국에서 대박 날 듯.',\n",
       "   '작성자에 의해 삭제된 댓글입니다.',\n",
       "   '클린봇이 부적절한 표현을 감지한 댓글입니다.',\n",
       "   '샤넬, 루이비통 로고 달고 팔면 불티나게 팔릴듯ㅋ 특히 한국에서',\n",
       "   '우리나라에 출시해도 태극기부대 꼰대들이 많이 사줄듯',\n",
       "   '리재용동무를 좀비 기생충 무리들이 구속 시키는 이유를 알겠다. 저기에 인공기를 붙여야 했어..',\n",
       "   '안되겠지만 Dokdo is Korean land. 이렇게 모든수출품에 나갔으면 좋겠네.',\n",
       "   '대가리 잘 썼누',\n",
       "   '비스포크 냉장고 김치냉장고 변온냉장고 구입김치냉장고는 완전 냉동고 임. 5-6개월동안 우여곡절끝에 교환했으나 계속 얼고 있음 김치냉장고 가 아니리 냉동고임. As을 받있지만 지금도 얼어 있음',\n",
       "   '삼성은 영업의 달인....!!L G 는 기술의 상징',\n",
       "   '역시 국뽕은 돈이 된다',\n",
       "   '에디션은 영국이나 캐나다가 ㅇㅈ',\n",
       "   '응원합니다. 미국,캐나다에서는 삼성 LG가전이 상류층의 상징이 되었습니다 큰 세일기간에는 TV사려고 난리입니다',\n",
       "   '중국 에디션은 극혐임... 대만 에디션으로 ㄲㄲㄲ',\n",
       "   '태극기 에디션은 망해요 ㄴㄴ',\n",
       "   '문재앙 에디션 _ 인공기',\n",
       "   '삼성 응원!!!!!!',\n",
       "   '독일에는 독일제국기어떠냐',\n",
       "   '태극기 버전 아니 만국기 버전도 곧 나오겠네...',\n",
       "   '이쁘다.성조기',\n",
       "   '저기다 마누라 사진 크게붙여놈 냉장고 근처에 안간다',\n",
       "   '사진이 좌우 뒤집힌건가??? 성조기 반전되어있으니 얼른 수정하시길..',\n",
       "   '촌스러움이 없네 오히려 예프네',\n",
       "   '역시 삼성 아이디어 최고 당신이 대한민국 대표 기업이라 자랑스럽습니다',\n",
       "   '국가별 시리즈 출시해 주세요.',\n",
       "   '문재인 이재명 에게는 북한 인공기 부처서 선물 해주면 엄청 좋아하겠지',\n",
       "   '참 구차하다;;; 일본에서는 제품에 삼성로고까지 지우더니…',\n",
       "   '삼성 응원합니다',\n",
       "   '별모양 위치가 바꼈다...',\n",
       "   '삼성아 각나라별로 저렇게 하면된다 굿',\n",
       "   '멋진 아이디어 입니다. 역시 삼성 응원합니다.',\n",
       "   '우리도 태극기 달자!!!!!!!!!',\n",
       "   '작성자에 의해 삭제된 댓글입니다.']},\n",
       " 6: {'기사명': '삼성전자, 비스포크 가전 앞세워 美 시장 공략',\n",
       "  '날짜': '2021.12.30. 오전 9:17',\n",
       "  '기사 추천 수': 25,\n",
       "  '좋아요': 1,\n",
       "  '훈훈해요': 0,\n",
       "  '슬퍼요': 0,\n",
       "  '화나요': 0,\n",
       "  '후속기사 원해요': 0,\n",
       "  '댓글 수': 0,\n",
       "  '댓글': []},\n",
       " 8: {'기사명': '삼성전자, 美시장 ‘비스포크’ 라인업 확대',\n",
       "  '날짜': '2021.12.30. 오전 11:49',\n",
       "  '기사 추천 수': 523,\n",
       "  '좋아요': 1,\n",
       "  '훈훈해요': 0,\n",
       "  '슬퍼요': 0,\n",
       "  '화나요': 0,\n",
       "  '후속기사 원해요': 0,\n",
       "  '댓글 수': 0,\n",
       "  '댓글': []},\n",
       " 9: {'기사명': '폴더블폰 대중화 이끈 삼성 \"갤럭시Z 판매량 전년 4배 ↑\"',\n",
       "  '날짜': '2021.12.30. 오전 11:00',\n",
       "  '기사 추천 수': 458,\n",
       "  '좋아요': 1,\n",
       "  '훈훈해요': 1,\n",
       "  '슬퍼요': 0,\n",
       "  '화나요': 1,\n",
       "  '후속기사 원해요': 0,\n",
       "  '댓글 수': 0,\n",
       "  '댓글': []}}"
      ]
     },
     "execution_count": 29,
     "metadata": {},
     "output_type": "execute_result"
    }
   ],
   "source": [
    "dict = {}\n",
    "\n",
    "# n : 크롤링할 뉴스 갯수\n",
    "n = 10      # 전체 뉴스 수 : len(df['url'])\n",
    "\n",
    "# 페이지당 기사 수집\n",
    "for i in tqdm(range(0, n)):   \n",
    "    try:\n",
    "        # 뉴스 크롬창 띄우기\n",
    "        driver = webdriver.Chrome(\"C:/Users/korean/practice/chromedriver.exe\" )  # 윈도우 : \"chromedriver.exe\"\n",
    "        driver.get(df['url'][i])\n",
    "        time.sleep(1)\n",
    "\n",
    "        # 기사 데이터 수집\n",
    "        title = driver.find_element_by_css_selector('.tts_head').text\n",
    "        date = driver.find_element_by_css_selector('.t11').text\n",
    "        up = int(driver.find_element_by_css_selector('.u_cnt._count').text)\n",
    "        like = int(driver.find_element_by_css_selector(\".end_btn .u_likeit_list.good .u_likeit_list_count._count\").text)\n",
    "        warm = int(driver.find_element_by_css_selector(\".end_btn .u_likeit_list.warm .u_likeit_list_count._count\").text)\n",
    "        sad = int(driver.find_element_by_css_selector(\".end_btn .u_likeit_list.sad .u_likeit_list_count._count\").text)\n",
    "        angry = int(driver.find_element_by_css_selector(\".end_btn .u_likeit_list.angry .u_likeit_list_count._count\").text)\n",
    "        want = int(driver.find_element_by_css_selector(\".end_btn .u_likeit_list.want .u_likeit_list_count._count\").text)\n",
    "\n",
    "        # 기사 댓글 갯수 \n",
    "        review_count = int(driver.find_element_by_css_selector(\".u_cbox_count\").text.replace(',', ''))\n",
    "\n",
    "        # 더보기 클릭 횟수\n",
    "        moreview_num = review_count//20\n",
    "\n",
    "        # 댓글 버튼 클릭\n",
    "        driver.find_element_by_css_selector(\".lo_txt\").click()\n",
    "        time.sleep(1)\n",
    "\n",
    "        # 더보기 버튼 여러번 클릭하기\n",
    "        k=0\n",
    "        while k <= moreview_num:  # 더보기 횟수만큼 반복 \n",
    "            try:\n",
    "                driver.find_element_by_css_selector(\".u_cbox_page_more\").click()  # 더보기 버튼 클릭\n",
    "                time.sleep(1)\n",
    "                k = k+1\n",
    "            except:        \n",
    "                break   # 에러나면 클릭 반복문을 빠져나가라\n",
    "\n",
    "        # review 수집하기\n",
    "        review_list = []\n",
    "        overlays1 = \".u_cbox_text_wrap\"\n",
    "        reviews = driver.find_elements_by_css_selector(overlays1)\n",
    "        for review in tqdm(reviews):    \n",
    "            review = review.text\n",
    "            review_list.append(review)\n",
    "\n",
    "        target_info = {}\n",
    "        target_info['기사명'] = title\n",
    "        target_info['날짜'] = date\n",
    "        target_info['기사 추천 수'] = up\n",
    "        target_info['좋아요'] = like\n",
    "        target_info['훈훈해요'] = warm\n",
    "        target_info['슬퍼요'] = sad\n",
    "        target_info['화나요'] = angry\n",
    "        target_info['후속기사 원해요'] = want\n",
    "        target_info['댓글 수'] = len(review_list)\n",
    "        target_info['댓글'] = review_list\n",
    "\n",
    "        dict[i] = target_info\n",
    "        \n",
    "        print(title, '( 댓글 수:', len(review_list),')')\n",
    "\n",
    "        driver.close()\n",
    "        time.sleep(2)\n",
    "        \n",
    "    except:\n",
    "        driver.close()\n",
    "        continue\n",
    "\n",
    "print(len(dict))\n",
    "dict"
   ]
  },
  {
   "cell_type": "code",
   "execution_count": 30,
   "metadata": {},
   "outputs": [
    {
     "data": {
      "text/html": [
       "<div>\n",
       "<style scoped>\n",
       "    .dataframe tbody tr th:only-of-type {\n",
       "        vertical-align: middle;\n",
       "    }\n",
       "\n",
       "    .dataframe tbody tr th {\n",
       "        vertical-align: top;\n",
       "    }\n",
       "\n",
       "    .dataframe thead th {\n",
       "        text-align: right;\n",
       "    }\n",
       "</style>\n",
       "<table border=\"1\" class=\"dataframe\">\n",
       "  <thead>\n",
       "    <tr style=\"text-align: right;\">\n",
       "      <th></th>\n",
       "      <th>기사명</th>\n",
       "      <th>날짜</th>\n",
       "      <th>기사 추천 수</th>\n",
       "      <th>좋아요</th>\n",
       "      <th>훈훈해요</th>\n",
       "      <th>슬퍼요</th>\n",
       "      <th>화나요</th>\n",
       "      <th>후속기사 원해요</th>\n",
       "      <th>댓글 수</th>\n",
       "      <th>댓글</th>\n",
       "    </tr>\n",
       "  </thead>\n",
       "  <tbody>\n",
       "    <tr>\n",
       "      <th>0</th>\n",
       "      <td>\"갤Z플립 겁나게 팔렸네\"…삼성 폴더블폰, 올해 판매량 1000만대 유력</td>\n",
       "      <td>2021.12.30. 오전 11:33</td>\n",
       "      <td>843</td>\n",
       "      <td>32</td>\n",
       "      <td>8</td>\n",
       "      <td>0</td>\n",
       "      <td>5</td>\n",
       "      <td>2</td>\n",
       "      <td>18</td>\n",
       "      <td>[겁나게가 뭐냐 대체, 역대 폰 디자인중 원탑인듯. 스펙은 좀 아쉽..., 중국이 ...</td>\n",
       "    </tr>\n",
       "    <tr>\n",
       "      <th>1</th>\n",
       "      <td>삼성 폴더블 대중화 통했다…지난해보다 4배 더 팔려</td>\n",
       "      <td>2021.12.30. 오전 11:40</td>\n",
       "      <td>271</td>\n",
       "      <td>5</td>\n",
       "      <td>1</td>\n",
       "      <td>0</td>\n",
       "      <td>2</td>\n",
       "      <td>0</td>\n",
       "      <td>6</td>\n",
       "      <td>[삼성은 그냥 삼성의 길을 가면 된다. 어차피 시총이 코스닥보다 많은 애플한테는 자...</td>\n",
       "    </tr>\n",
       "    <tr>\n",
       "      <th>2</th>\n",
       "      <td>\"올해 Z플립은 #성공적\"…삼성의 Z시리즈 판매율 전년比 4배↑</td>\n",
       "      <td>2021.12.30. 오전 11:09</td>\n",
       "      <td>375</td>\n",
       "      <td>0</td>\n",
       "      <td>0</td>\n",
       "      <td>0</td>\n",
       "      <td>0</td>\n",
       "      <td>2</td>\n",
       "      <td>3</td>\n",
       "      <td>[누구는 출시 6개월만에 1억대씩 파는데 누구는 4개월동안 4백만대 팔아서 자화자찬...</td>\n",
       "    </tr>\n",
       "    <tr>\n",
       "      <th>4</th>\n",
       "      <td>삼성 \"올해 폴더블폰 판매량 작년의 4배\"…800만대 추정</td>\n",
       "      <td>2021.12.30. 오전 11:00</td>\n",
       "      <td>260</td>\n",
       "      <td>0</td>\n",
       "      <td>0</td>\n",
       "      <td>0</td>\n",
       "      <td>0</td>\n",
       "      <td>0</td>\n",
       "      <td>1</td>\n",
       "      <td>[Z폴드3 넷플릭스보기에 최적화 아주굿~~]</td>\n",
       "    </tr>\n",
       "    <tr>\n",
       "      <th>5</th>\n",
       "      <td>냉장고에 성조기 붙였더니 생긴 일…美 친 삼성의 아이디어</td>\n",
       "      <td>2021.12.30. 오전 10:28</td>\n",
       "      <td>476</td>\n",
       "      <td>884</td>\n",
       "      <td>24</td>\n",
       "      <td>2</td>\n",
       "      <td>24</td>\n",
       "      <td>15</td>\n",
       "      <td>193</td>\n",
       "      <td>[스메그가 이미 했던거, 원주민 학살한 미친 악마들의 나라~, 짱깨들 또 배끼겠구나...</td>\n",
       "    </tr>\n",
       "    <tr>\n",
       "      <th>6</th>\n",
       "      <td>삼성전자, 비스포크 가전 앞세워 美 시장 공략</td>\n",
       "      <td>2021.12.30. 오전 9:17</td>\n",
       "      <td>25</td>\n",
       "      <td>1</td>\n",
       "      <td>0</td>\n",
       "      <td>0</td>\n",
       "      <td>0</td>\n",
       "      <td>0</td>\n",
       "      <td>0</td>\n",
       "      <td>[]</td>\n",
       "    </tr>\n",
       "    <tr>\n",
       "      <th>8</th>\n",
       "      <td>삼성전자, 美시장 ‘비스포크’ 라인업 확대</td>\n",
       "      <td>2021.12.30. 오전 11:49</td>\n",
       "      <td>523</td>\n",
       "      <td>1</td>\n",
       "      <td>0</td>\n",
       "      <td>0</td>\n",
       "      <td>0</td>\n",
       "      <td>0</td>\n",
       "      <td>0</td>\n",
       "      <td>[]</td>\n",
       "    </tr>\n",
       "    <tr>\n",
       "      <th>9</th>\n",
       "      <td>폴더블폰 대중화 이끈 삼성 \"갤럭시Z 판매량 전년 4배 ↑\"</td>\n",
       "      <td>2021.12.30. 오전 11:00</td>\n",
       "      <td>458</td>\n",
       "      <td>1</td>\n",
       "      <td>1</td>\n",
       "      <td>0</td>\n",
       "      <td>1</td>\n",
       "      <td>0</td>\n",
       "      <td>0</td>\n",
       "      <td>[]</td>\n",
       "    </tr>\n",
       "  </tbody>\n",
       "</table>\n",
       "</div>"
      ],
      "text/plain": [
       "                                        기사명                    날짜  기사 추천 수  \\\n",
       "0  \"갤Z플립 겁나게 팔렸네\"…삼성 폴더블폰, 올해 판매량 1000만대 유력  2021.12.30. 오전 11:33      843   \n",
       "1              삼성 폴더블 대중화 통했다…지난해보다 4배 더 팔려  2021.12.30. 오전 11:40      271   \n",
       "2       \"올해 Z플립은 #성공적\"…삼성의 Z시리즈 판매율 전년比 4배↑  2021.12.30. 오전 11:09      375   \n",
       "4          삼성 \"올해 폴더블폰 판매량 작년의 4배\"…800만대 추정  2021.12.30. 오전 11:00      260   \n",
       "5           냉장고에 성조기 붙였더니 생긴 일…美 친 삼성의 아이디어  2021.12.30. 오전 10:28      476   \n",
       "6                 삼성전자, 비스포크 가전 앞세워 美 시장 공략   2021.12.30. 오전 9:17       25   \n",
       "8                   삼성전자, 美시장 ‘비스포크’ 라인업 확대  2021.12.30. 오전 11:49      523   \n",
       "9         폴더블폰 대중화 이끈 삼성 \"갤럭시Z 판매량 전년 4배 ↑\"  2021.12.30. 오전 11:00      458   \n",
       "\n",
       "   좋아요  훈훈해요  슬퍼요  화나요  후속기사 원해요  댓글 수  \\\n",
       "0   32     8    0    5         2    18   \n",
       "1    5     1    0    2         0     6   \n",
       "2    0     0    0    0         2     3   \n",
       "4    0     0    0    0         0     1   \n",
       "5  884    24    2   24        15   193   \n",
       "6    1     0    0    0         0     0   \n",
       "8    1     0    0    0         0     0   \n",
       "9    1     1    0    1         0     0   \n",
       "\n",
       "                                                  댓글  \n",
       "0  [겁나게가 뭐냐 대체, 역대 폰 디자인중 원탑인듯. 스펙은 좀 아쉽..., 중국이 ...  \n",
       "1  [삼성은 그냥 삼성의 길을 가면 된다. 어차피 시총이 코스닥보다 많은 애플한테는 자...  \n",
       "2  [누구는 출시 6개월만에 1억대씩 파는데 누구는 4개월동안 4백만대 팔아서 자화자찬...  \n",
       "4                           [Z폴드3 넷플릭스보기에 최적화 아주굿~~]  \n",
       "5  [스메그가 이미 했던거, 원주민 학살한 미친 악마들의 나라~, 짱깨들 또 배끼겠구나...  \n",
       "6                                                 []  \n",
       "8                                                 []  \n",
       "9                                                 []  "
      ]
     },
     "execution_count": 30,
     "metadata": {},
     "output_type": "execute_result"
    }
   ],
   "source": [
    "# 판다스로 만들기\n",
    "import pandas as pd\n",
    "result_df = pd.DataFrame.from_dict(dict, 'index')\n",
    "result_df\n",
    "# result_df.rename(columns={result_df.columns[0] : name}, inplace=True)"
   ]
  },
  {
   "cell_type": "code",
   "execution_count": 31,
   "metadata": {},
   "outputs": [],
   "source": [
    "# 파일로 저장\n",
    "result_df.to_excel(\"naver_article_({}).xlsx\".format(keyword))"
   ]
  },
  {
   "cell_type": "code",
   "execution_count": null,
   "metadata": {},
   "outputs": [],
   "source": []
  },
  {
   "cell_type": "code",
   "execution_count": null,
   "metadata": {},
   "outputs": [],
   "source": []
  },
  {
   "cell_type": "code",
   "execution_count": null,
   "metadata": {},
   "outputs": [],
   "source": []
  }
 ],
 "metadata": {
  "kernelspec": {
   "display_name": "Python 3 (ipykernel)",
   "language": "python",
   "name": "python3"
  },
  "language_info": {
   "codemirror_mode": {
    "name": "ipython",
    "version": 3
   },
   "file_extension": ".py",
   "mimetype": "text/x-python",
   "name": "python",
   "nbconvert_exporter": "python",
   "pygments_lexer": "ipython3",
   "version": "3.9.7"
  },
  "varInspector": {
   "cols": {
    "lenName": 16,
    "lenType": 16,
    "lenVar": 40
   },
   "kernels_config": {
    "python": {
     "delete_cmd_postfix": "",
     "delete_cmd_prefix": "del ",
     "library": "var_list.py",
     "varRefreshCmd": "print(var_dic_list())"
    },
    "r": {
     "delete_cmd_postfix": ") ",
     "delete_cmd_prefix": "rm(",
     "library": "var_list.r",
     "varRefreshCmd": "cat(var_dic_list()) "
    }
   },
   "types_to_exclude": [
    "module",
    "function",
    "builtin_function_or_method",
    "instance",
    "_Feature"
   ],
   "window_display": false
  }
 },
 "nbformat": 4,
 "nbformat_minor": 2
}
