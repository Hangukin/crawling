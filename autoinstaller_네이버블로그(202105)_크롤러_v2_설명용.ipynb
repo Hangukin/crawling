{
 "cells": [
  {
   "cell_type": "code",
   "execution_count": 2,
   "metadata": {},
   "outputs": [
    {
     "name": "stdout",
     "output_type": "stream",
     "text": [
      "Collecting chromedriver_autoinstaller\n",
      "  Downloading chromedriver_autoinstaller-0.3.1-py3-none-any.whl (6.3 kB)\n",
      "Installing collected packages: chromedriver-autoinstaller\n",
      "Successfully installed chromedriver-autoinstaller-0.3.1\n"
     ]
    }
   ],
   "source": [
    "!pip install chromedriver_autoinstaller"
   ]
  },
  {
   "cell_type": "code",
   "execution_count": 1,
   "metadata": {
    "id": "855Mo76s-kvl"
   },
   "outputs": [],
   "source": [
    "# 네이버에서 검색어 입력받아 검색 한 후 블로그 메뉴를 선택하고\n",
    "# 오른쪽에 있는 검색옵션 버튼을 눌러서\n",
    "# 정렬 방식과 기간을 입력하기\n",
    "\n",
    "#Step 0. 필요한 모듈과 라이브러리를 로딩합니다.\n",
    "import sys # 시스템\n",
    "import os  # 시스템\n",
    "\n",
    "import pandas as pd  # 판다스 : 데이터분석 라이브러리\n",
    "import numpy as np   # 넘파이 : 숫자, 행렬 데이터 라이브러리\n",
    "\n",
    "from bs4 import BeautifulSoup    # html 데이터를 전처리\n",
    "from selenium import webdriver   # 웹 브라우저 자동화\n",
    "from selenium.webdriver.common.keys import Keys\n",
    "import chromedriver_autoinstaller\n",
    "\n",
    "import time    # 서버와 통신할 때 중간중간 시간 지연. 보통은 1초\n",
    "from tqdm import tqdm_notebook   # for문 돌릴 때 진행상황을 %게이지로 알려준다.\n",
    "\n",
    "# 워닝 무시\n",
    "import warnings\n",
    "warnings.filterwarnings('ignore')"
   ]
  },
  {
   "cell_type": "code",
   "execution_count": null,
   "metadata": {},
   "outputs": [],
   "source": []
  },
  {
   "cell_type": "code",
   "execution_count": 2,
   "metadata": {
    "id": "n8Lxk6vh-kvn",
    "outputId": "69ae7a9d-8942-49d3-f943-63eb1f8e7569"
   },
   "outputs": [
    {
     "name": "stdout",
     "output_type": "stream",
     "text": [
      "Python 3.9.7\n"
     ]
    }
   ],
   "source": [
    "# python 버전 확인\n",
    "!python --version"
   ]
  },
  {
   "cell_type": "code",
   "execution_count": 3,
   "metadata": {
    "id": "Vn8wKGA8-kvo",
    "outputId": "da4b2b84-4fd6-4730-fc49-8b24a87623d4"
   },
   "outputs": [
    {
     "data": {
      "text/plain": [
       "'1.3.4'"
      ]
     },
     "execution_count": 3,
     "metadata": {},
     "output_type": "execute_result"
    }
   ],
   "source": [
    "# 판다스 버전 확인\n",
    "pd.__version__"
   ]
  },
  {
   "cell_type": "code",
   "execution_count": 4,
   "metadata": {},
   "outputs": [],
   "source": [
    "# !pip install selenium"
   ]
  },
  {
   "cell_type": "code",
   "execution_count": 5,
   "metadata": {
    "id": "CNdy9c7U-kvo",
    "outputId": "38d4d3b7-0b1a-46a4-b2fc-6a4e2d79a399"
   },
   "outputs": [
    {
     "name": "stdout",
     "output_type": "stream",
     "text": [
      "1.크롤링할 키워드는 무엇입니까?: 삼산 맛집\n"
     ]
    }
   ],
   "source": [
    "# 검색어, 검색 기간 정의\n",
    "query_txt = input('1.크롤링할 키워드는 무엇입니까?: ')"
   ]
  },
  {
   "cell_type": "code",
   "execution_count": 6,
   "metadata": {},
   "outputs": [
    {
     "data": {
      "text/plain": [
       "'삼산 맛집'"
      ]
     },
     "execution_count": 6,
     "metadata": {},
     "output_type": "execute_result"
    }
   ],
   "source": [
    "query_txt"
   ]
  },
  {
   "cell_type": "markdown",
   "metadata": {
    "id": "MniuiSeb-kvp"
   },
   "source": [
    "# 1. 크롤링할 블로그 url 수집하기"
   ]
  },
  {
   "cell_type": "code",
   "execution_count": 7,
   "metadata": {},
   "outputs": [
    {
     "data": {
      "text/plain": [
       "'C:\\\\Users\\\\korean\\\\practice'"
      ]
     },
     "execution_count": 7,
     "metadata": {},
     "output_type": "execute_result"
    }
   ],
   "source": [
    "pwd"
   ]
  },
  {
   "cell_type": "code",
   "execution_count": 8,
   "metadata": {},
   "outputs": [],
   "source": [
    "# !pip install selenium"
   ]
  },
  {
   "cell_type": "code",
   "execution_count": 9,
   "metadata": {
    "code_folding": [],
    "colab": {
     "base_uri": "https://localhost:8080/",
     "height": 239
    },
    "executionInfo": {
     "elapsed": 5,
     "status": "error",
     "timestamp": 1622793307717,
     "user": {
      "displayName": "Hyeok Lee",
      "photoUrl": "",
      "userId": "09184002132621914803"
     },
     "user_tz": -540
    },
    "id": "buplEXzx-kvq",
    "outputId": "11751daa-2f59-4a1d-d6a7-ca9282d20c33"
   },
   "outputs": [],
   "source": [
    "# Step 1. 크롬 웹브라우저 실행\n",
    "# pip install chromedriver_autoinstaller\n",
    "chrome_path = chromedriver_autoinstaller.install()\n",
    "driver = webdriver.Chrome(chrome_path)\n",
    "\n",
    "# 사이트 주소는 네이버\n",
    "driver.get('http://www.naver.com')\n",
    "time.sleep(2)  # 2초간 정지"
   ]
  },
  {
   "cell_type": "code",
   "execution_count": 10,
   "metadata": {
    "code_folding": [],
    "id": "uiwhXvob-kvq"
   },
   "outputs": [],
   "source": [
    "# Step 2. 네이버 검색창에 \"검색어\" 검색\n",
    "element = driver.find_element_by_id(\"query\")\n",
    "element.send_keys(query_txt)  # query_txt는 위에서 입력한 키워드\n",
    "element.submit()\n",
    "time.sleep(1)"
   ]
  },
  {
   "cell_type": "code",
   "execution_count": 11,
   "metadata": {
    "code_folding": [],
    "id": "uiwhXvob-kvq"
   },
   "outputs": [],
   "source": [
    "# 'VIEW' 클릭\n",
    "driver.find_element_by_link_text(\"VIEW\").click( )\n",
    "time.sleep(1)"
   ]
  },
  {
   "cell_type": "code",
   "execution_count": 12,
   "metadata": {
    "code_folding": [],
    "id": "uiwhXvob-kvq"
   },
   "outputs": [],
   "source": [
    "# '블로그' 클릭\n",
    "driver.find_element_by_link_text(\"블로그\").click( )\n",
    "time.sleep(1)\n",
    "\n",
    "# '옵션' 클릭\n",
    "driver.find_element_by_link_text(\"옵션\").click( )\n",
    "time.sleep(1)"
   ]
  },
  {
   "cell_type": "code",
   "execution_count": 13,
   "metadata": {
    "code_folding": [],
    "id": "X537FPoE-kvq",
    "outputId": "2e7df665-1fd7-4fd0-dcc9-65b6a12c7a6d"
   },
   "outputs": [
    {
     "name": "stdout",
     "output_type": "stream",
     "text": [
      "전체\n",
      "블로그\n",
      "카페\n",
      "관련도순\n",
      "최신순\n",
      "전체\n",
      "1시간\n",
      "1일\n",
      "1주\n",
      "1개월\n",
      "3개월\n",
      "6개월\n",
      "1년\n",
      "직접입력옵션펼치기\n"
     ]
    }
   ],
   "source": [
    "# 검색옵션 확인\n",
    "item_li = driver.find_elements_by_css_selector('.option .txt')\n",
    "\n",
    "for i in range(0, len(item_li)):\n",
    "    print(item_li[i].text)"
   ]
  },
  {
   "cell_type": "code",
   "execution_count": 14,
   "metadata": {
    "id": "YNdHtrki-kvr",
    "outputId": "e7fde35f-3b2b-4cde-a4f6-006975ff383c"
   },
   "outputs": [
    {
     "name": "stdout",
     "output_type": "stream",
     "text": [
      "6개월\n"
     ]
    }
   ],
   "source": [
    "# 검색기간 '3개월' 클릭\n",
    "print(item_li[11].text)"
   ]
  },
  {
   "cell_type": "code",
   "execution_count": 15,
   "metadata": {
    "id": "YNdHtrki-kvr",
    "outputId": "e7fde35f-3b2b-4cde-a4f6-006975ff383c",
    "scrolled": true
   },
   "outputs": [],
   "source": [
    "item_li[11].click()"
   ]
  },
  {
   "cell_type": "code",
   "execution_count": 16,
   "metadata": {
    "id": "OyFhrsrA-kvr"
   },
   "outputs": [],
   "source": [
    "# 스크롤 다운\n",
    "# driver.execute_script(\"window.scrollTo(0, 500)\")\n",
    "# time.sleep(2)\n",
    "\n",
    "# 스크롤을 밑으로 내려주는 함수\n",
    "def scroll_down(driver):\n",
    "    driver.execute_script(\"window.scrollTo(0, 19431049)\")\n",
    "    time.sleep(1)\n",
    "\n",
    "# n: 스크롤할 횟수 설정\n",
    "n = 5  # 스크롤 1번 당 30개씩\n",
    "i = 0\n",
    "while i < n: # 이 조건이 만족되는 동안 반복 실행\n",
    "    scroll_down(driver) # 스크롤 다운\n",
    "    i = i+1"
   ]
  },
  {
   "cell_type": "code",
   "execution_count": 17,
   "metadata": {
    "id": "35cdGv2g-kvr",
    "outputId": "b04e2570-7061-4bc9-fdaf-d0862d6d2e7e"
   },
   "outputs": [
    {
     "data": {
      "text/plain": [
       "<selenium.webdriver.remote.webelement.WebElement (session=\"60736d43a3aa43efa18d2f6dc5f43b81\", element=\"92523637-a304-4d17-bab0-b70f3bfb704a\")>"
      ]
     },
     "execution_count": 17,
     "metadata": {},
     "output_type": "execute_result"
    }
   ],
   "source": [
    "# 블로그 글 url들 수집\n",
    "url_list = []\n",
    "title_list = []\n",
    "\n",
    "# URL_raw 크롤링 시작\n",
    "articles = \".api_txt_lines.total_tit\"\n",
    "article_raw = driver.find_elements_by_css_selector(articles)\n",
    "article_raw[0]"
   ]
  },
  {
   "cell_type": "code",
   "execution_count": 18,
   "metadata": {
    "id": "lS4BWdhY-kvr",
    "outputId": "325f828f-c25d-46e4-89d2-df3cdf39dc3d"
   },
   "outputs": [
    {
     "data": {
      "text/plain": [
       "'https://blog.naver.com/vnawmd9233?Redirect=Log&logNo=222602864537'"
      ]
     },
     "execution_count": 18,
     "metadata": {},
     "output_type": "execute_result"
    }
   ],
   "source": [
    "article_raw[0].get_attribute('href')"
   ]
  },
  {
   "cell_type": "code",
   "execution_count": 19,
   "metadata": {
    "id": "c4oJ0A0S-kvs",
    "outputId": "bd3015c2-0b1e-472e-f2a5-1df89f81cf67",
    "scrolled": true
   },
   "outputs": [
    {
     "name": "stdout",
     "output_type": "stream",
     "text": [
      "찬란했던 울산 삼산 맛집 모음\n",
      "만족했었던 울산 삼산 맛집 리스트\n",
      "매력터진 울산 삼산 맛집 모음\n",
      "매력있는 울산 삼산 맛집 공유\n",
      "우수했던 울산 삼산 맛집 리스트\n",
      "엄지들었던 울산 삼산 맛집 소개\n",
      "느낌있는 울산 삼산 맛집 리스트\n",
      "뛰어난 울산 삼산 맛집 리스트\n",
      "끄덕였던 울산 삼산 맛집 모음\n",
      "울산 삼산 맛집 연말데이트 분위기 좋은 레스토랑 더본테이블\n",
      "칭찬했던 울산 삼산 맛집 리스트\n",
      "울산 삼산 맛집 단골하고 싶은 촌놈밥집\n",
      "울산삼산맛집 울산 삼산 해산물 조개갈비찜맛집 위찜\n",
      "울산삼산맛집 데이트코스 한우오마카세 우주인\n",
      "삼산 맛집, 뇨끼와 샥슈카가 맛있는 브런치 레스토랑 1616\n",
      "울산 삼산 초밥맛집 혁이네\n",
      "울산 삼산 맛집, 해운대31cm해물칼국수\n",
      "울산 삼산 맛집 온리육 다녀와봤어요.\n",
      "울산 삼산 쌀국수 해외 느낌 제대로인 맛집\n",
      "울산 삼산 맛집 / 숙성돼지고기 진리 온리육\n",
      "[울산 삼산 / 맛집] 힙한 감성의 맛집 'SOKOA' 삼산점 (소코아)\n",
      "사람많은 울산 삼산 맛집 맛있는 게스트로\n",
      "울산삼산맛집 양고기전문점 라무진 양갈비는사랑\n",
      "울산 삼산 맛집 샤브샤브는 역시 만만 sz\n",
      "[울산 / 삼산] 분위기 좋은 울산 삼산 맛집 헤이다이닝\n",
      "울산 삼산 맛집 게스트로 분위기좋은 공원뷰\n",
      "[울산/삼산]울산 화덕피자 맛집 핫플레이스 - 게스트로\n",
      "울산 삼산 브런치 맛집 '페즈키친' 뇨끼 및 파스타 맛집\n",
      "울산맛집 삼산맛집 왕돈까스 홍익돈까스\n",
      "울산 삼산 해산물,갈비찜맛집 위찜\n",
      "울산 삼산 맛집 오리엔탈 무거면옥 돈까스 맛집\n",
      "울산 삼산맛집 해산물/부채새우가 맛있는 구이구이본부\n",
      "울산 삼산 맛집 더본테이블 코스요리 너무 맛있짜냐\n",
      "울산 삼산 텐동 맛집 온센! 핫플이넹\n",
      "울산 삼산 맛집 헤이다이닝\n",
      "울산 삼산 맛집 본참치 점심특선 괜춘해요!(주말 가능)\n",
      "울산 삼산 맛집 롯데시티호텔 근처 대왕해물문어보쌈\n",
      "울산 삼산 맛집/울산 카레 맛집 - 소코아\n",
      "삼산 고반식당 : 최고급 숙성 한돈 전문점 / 울산 달동 고기 맛집\n",
      "울산 삼산 맛집 :: 분위기 좋은 고기집 이씨솜씨 삼산점\n",
      "울산 삼산 맛집 샤브샤브맛집 만만 샤브샤브뷔페\n",
      "울산 삼산 맛집 '숙성도마' 달동 가성비 좋은 고깃집!\n",
      "울산대게 삼산맛집 가족 외식 즐기고 왔어요\n",
      "[울산] 남구 삼산 일식 이자카야 숙성사시미 맛집 :: 청리일식당\n",
      "울산 삼산동 찜닭 맛집 꼬꼬사우나 찜닭 삼산본점\n",
      "울산삼산맛집 중식코스요리 잘하는 하준레스토랑\n",
      "울산 삼산 맛집 / 한우국밥 돈까스 가성비 좋은 오리엔탈무거면옥\n",
      "울산 삼산 맛집, 양식 먹을 때는 헤이다이닝\n",
      "울산 삼산 맛집 육첩반상 현대백화점 울산점 한국인의 밥상은...\n",
      "[울산 삼산 맛집]정일면 : 마제소바 맛집! 울산에 이런집이? 쫀맛.\n",
      "울산삼산맛집 , 고급지게 코스요리로 즐기자 중식레스토랑...\n",
      "울산삼산맛집 점심추천 편백집 롯데백화점 울산점\n",
      "[울산맛집]돈까스맛집 내돈내산 냉모밀까지 가성비좋은 삼산...\n",
      "[울산/삼산]울산 삼산동 카페... (터키식 샌드커피 & 까눌레 맛집)\n",
      "울산 삼산 맛집 '라무진' 계속 찾게되는 울산 양고기 맛집!\n",
      "울산 삼산 맛집 / 울산 달동 고기집 <무쇠김치삼겹>\n",
      "맛집 [온센] 바삭한 튀김이 가득, 타마고는 기본! 삼산 일식 맛집\n",
      "울산 삼산 맛집 - 헤이다이닝\n",
      "울산삼산닭갈비맛집 점심/저녁 상관없이 맛있는 헬로팬\n",
      "울산삼산맛집 :: 울산전복 코스요리 수승대 추천해요\n",
      "울산맛집 사량도자연산횟집 삼산2호점 포장후기\n",
      "[울산맛집]삼산맛집 삼산동 타코야끼 현대백화점 근처 타코파파\n",
      "[울산삼산맛집] 울산 삼산동 돈까스맛집 카츠애\n",
      "울산 달동 맛집 '헬로팬&국제치킨' 삼산 닭갈비 맛집!\n",
      "울산장어덮밥 삼산/달동 맛집 밥심 제대로 한그륵\n",
      "울산삼산맛집 화덕피자맛집 분위기있는 핫플레이스 게스트로\n",
      "울산 삼산 맛집 / 연말 분위기 좋은 모임장소 헤이다이닝\n",
      "울산 삼산 파스타 맛집 스텝바이스텝\n",
      "[삼산 맛집] 류센소(ft. 라멘 맛집)\n",
      "울산 삼산 맛집 '스텝바이스텝' 재방문하게 되는 데이트 맛집!\n",
      "삼산맛집:)딥센스.분위기좋은레스토랑\n",
      "[울산 삼산 / 맛집] 분위기 좋은 양식당 '부조화' (@솜케이크)\n",
      "울산 삼산 맛집 비빔밥과 불고기전골 모두 맛있는 함가면반\n",
      "울산 삼산 맛집 '마이페이보릿파스타'\n",
      "[울산삼산맛집]내돈내산 삼산파스타맛집 폼폰루지...\n",
      "[울산/삼산]울산 삼산 맛집 - 꼬꼬사우나 찜닭/치즈토핑 추가\n",
      "울산 삼산 맛집 / 기념일에 분위기 내기 좋은 헤이다이닝\n",
      "[울산/삼산]울산 삼산동 삼계탕 맛집-대가야삼계탕/포장가능...\n",
      "[울산/삼산]울산 삼산 맛집 - 오리엔탈 한식당 무거면옥/가성비...\n",
      "[울산 삼산 / 맛집] 분위기 좋은 이탈리아 음식점 '딥센스...\n",
      "울산 삼산 맛집 '스텝바이스텝' 파스타 수제버거 맛집 발견!\n",
      "교대역 고기집 핫한 교대역 맛집 삼산회관\n",
      "[삼산맛집] 게스트로 : 삼산동... 데이트하기 좋은 화덕피자 맛집!\n",
      "울산 삼산맛집 데이트 코스- 게스트로\n",
      "마이페이보릿파스타 (울산 파스타 맛집 / 삼산맛집)\n",
      "울산 삼산 마카롱 - 프랑스식 정통 마카롱 맛집 파티세리오브\n",
      "울산삼산 맛집, 테이크아웃 전문점 유부부\n",
      "울산 삼산 맛집 :: 겨울철 따뜻한 분위기 헤이다이닝\n",
      "울산 삼산 신상 맛집 온센 , 텐동\n",
      "울산삼산맛집 울산 삼산 해산물 위찜 맛있네잉 !\n",
      "울산 삼산 맛집 : 테라스가든 중국음식 코스요리 하준\n",
      "울산 삼산 맛집 회식장소 추천 삼산정 도시락 배달가요~\n",
      "울산 삼산 맛집 [만권화밥] 혼밥하기도 좋은 업스퀘어 맛집...\n",
      "울산 삼산 맛집 말복이니까 맛있는 꼬꼬사우나 찜닭 본점 추천\n",
      "[울산 삼산 / 맛집] 뜨끈한 국물에 소주한잔 '남해 꽃게탕 & 쭈꾸미'\n",
      "울산 삼산 맛집 '류센소'\n",
      "울산/삼산맛집 돈가스도 우동도 맛있는 섬섬옥수\n",
      "삼산맛집 : 류센소 (일본라멘)\n",
      "울산 사시미맛집 삼산 술집 이자카야 소담히\n",
      "울산 삼산 술집 갓포이찌 굴튀김맛집이야~\n",
      "[울산삼산맛집] 분위기가 좋은 브런치카페\"까사레지나\"\n",
      "[맛집 추천] 리얼 울산 삼산 초밥 스시 맛집 추천 '사시스세소'\n",
      "울산 삼산 맛집 - 소코아\n",
      "울산 삼산 맛집 만만 샤브샤브 최고\n",
      "울산삼산맛집 분위기좋은 삼산동핫플 파스타맛집 헤이다이닝\n",
      "울산 삼산 맛집 오리엔탈 무거면옥 들기름 막국수 추천\n",
      "울산 삼산 맛집 / 소코아(SOKOA)♥ 울산 소코아(SOKOA)\n",
      "[교대역 맛집] 3번째 방문하는 서울 교대 맛집 *삼산회관*\n",
      "울산 고기 맛집 삼산 고반식당\n",
      "울산 삼산 돈까스 맛집 : 카츠더태화\n",
      "울산 삼산 맛집 만만샤브샤브 샐러드바 주차장 걱정도 노놉\n",
      "[울산 맛집/삼산 맛집] 평화김해뒷고기 삼산점 : 뒷고기는 역시...\n",
      "고급스러운 울산 삼산 맛집 BEST\n",
      "울산 삼산 맛집 헤이다이닝, 분위기좋은 레스토랑\n",
      "교대역 맛집 생방송투데이 삼산회관\n",
      "울산 삼산 맛집 꼬꼬사우나 찜닭 삼산본점 가성비좋은 점심특선!\n",
      "울산 삼산 초밥맛집, 본참치 초밥정식 런치코스\n",
      "울산 삼산 맛집 <한우클라쓰>\n",
      "울산 삼산 맛집 만만 샤브샤브뷔페\n",
      "울산 삼산 소고기맛집 베테랑바베큐 믿고 먹는 소고기맛집\n",
      "울산 삼산 맛집 일본가정식 '미소반'\n",
      "교대역 맛집 \"삼산회관\" 돼지김치구이+돼지김치찌개 먹고 왔어요~\n",
      "울산 화덕피자 맛집 삼산 게스트로\n",
      "울산 삼산 카레 맛집 소코아 내돈내산 찐후기\n",
      "울산 삼산 맛집 [브라운돈까스... 가득, 울산 돈까스 맛집\n",
      "울산 삼산 맛집 - 매드포갈릭\n",
      "울산 삼산 맛집 돼지고기가 맛있는 고반식당\n",
      "울산 삼산 화덕피자 맛집 분위기좋은 파스타집 기념일...\n",
      "울산 삼산 맛집 평화김해뒷고기 (삼산점)\n",
      "삼산맛집 상무초밥 울산삼산점 점심특선B 굿굿!\n",
      "울산 삼산 맛집 양고기 맛집 라무진 (삼산점)\n",
      "울산 삼산 쭈꾸미 맛집 안성깍뚜기 !볶음밥까지 풀코스\n",
      "울산 신상 맛집 :: 삼산 포케 샐러드 슬로우캘리\n",
      "울산 한우 맛집 소와, 삼산 소고기 맛집\n",
      "울산 삼산 맛집 밤이깊을림 이자카야 술집\n",
      "교대역 맛집 [삼산회관] 여기 생방송 투데이에 나와서 웨이팅까지\n",
      "울산 삼산 맛집 시원한 막국수가있는 오리엔탈무거면옥\n",
      "울산 굴맛집 굴구이전문점 삼산 식이네굴구이\n",
      "만족스런 울산 삼산 맛집 /양고기 전문점 라무진\n",
      "울산 삼산 맛집 '옥스스모크앤그릴' 더테라스가든 수제버거 맛집!\n",
      "울산 삼산 맛집, 해운대31센치해물칼국수 칼국수먹고...\n",
      "울산 남구 삼산 맛집 강추! 대세박목살 삼산점 숙성목살...\n",
      "서초구 돼지김치구이, 김치찌개 맛집_삼산회관 교대점\n",
      "울산 남구 삼산 참치 맛집 본참치 VIP코스 후기\n",
      "울산삼산한우맛집 소와 특수부위 전문점\n",
      "울산 대게 맛집 삼산 게수작 속이 꽉 찬 대게 랍스타\n",
      "[울산 삼산맛집] 오발탄\n",
      "목포 석현동 맛집 삼산회관 돼지김치구이\n",
      "울산 삼산 맛집 사량도자연산 횟집\n",
      "[울산 삼산 맛집] - 혁이네 (스시맛집!!!)\n",
      "울산 삼산 맛집 [게스트로]... 코스 추천, 울산 화덕피자 맛집\n",
      "교대역 맛집 생방송투데이 삼산회관 돼지김치구이\n",
      "울산 삼산 맛집, 삼산쌈밥에서 건강한 식사\n",
      "울산 삼산 소고기 맛집 한우마을 가성비 좋은 투플러스 맛집\n",
      "울산회식장소 삼산맛집 미생 제주흑돼지 삼겹살 찐이야\n",
      "울산 삼산맛집 - 메뉴가 독특한 1616\n",
      "울산 삼산 맛집 분위기도 맛집! 두번째 방문한 게스트로\n",
      "울산 삼산 마라탕 맛집 맛있다고 울지마라탕 &샤브샤브\n",
      "울산삼산맛집 울산환갑 장소 찾는다면 수승대 강추!\n",
      "[울산 맛집/삼산 맛집] 꼬꼬 사우나 찜닭 삼산본점 : 믿고 먹는...\n",
      "울산 삼산 맛집 내돈내산 배달의민족 배달맛집후기 top7...\n",
      "울산 삼산 텐동 맛집 - 온센 이까텐동 먹어봄! (feat. 당고)...\n",
      "[울산 삼산 맛집] 울산 유일한 냉장 양고기 전문점 라무진\n",
      "울산미풍해장국/ 울산삼산맛집 /울산해장국맛집/ 삼산미풍해장...\n",
      "삼산 샐러드 맛집 : 포켓포케 울산본점 / 건강한 다이어트 식단...\n",
      "울산 삼산 텐동 맛집 온센 텐지순례 다녀왔습니다\n",
      "울산 삼산 맛집 특별한날 찾은 이 곳, 헤이다이닝\n",
      "[삼산맛집] 스시 여기 괜찮네? 혁이네 스시바\n",
      "울산삼산/카페 : 라푀유 크로와상(빵 맛집)\n",
      "울산 삼산 파스타 맛집 마이페이보릿파스타 방문기\n",
      "[ 울산 삼산 ] 마라탕 가성비 좋은 맛집, 마라탠쿵\n",
      "울산 달동/삼산 맛집 : 소코아(SOKOA) 삼산점\n",
      "울산 남구 삼산 와인 맛집, 라피콜라 이탈리아\n",
      "울산삼산맛집 명촌순두부보쌈... 가격 주차) 삼산동 보쌈맛집 24시\n",
      "[울산맛집] 삼산밀면칼국수 (밀면맛집)\n",
      "울산 삼산 맛집 - 본참치 - 런치 초밥정식과 마제소바\n",
      "울산 고기집 삼산 맛집 총각집\n",
      "들기름막국수 오리엔탈 무거면옥 울산 삼산 맛집이다~\n",
      "울산 삼산 맛집 헤이다이닝 분위기 좋아서 데이트하기 완전 굿\n",
      "울산 삼산 게스트로 삼산 양식 맛집이네요\n",
      "\n",
      "url갯수:  180\n",
      "title갯수:  180\n"
     ]
    }
   ],
   "source": [
    "# 크롤링한 url 정제 시작\n",
    "for article in article_raw:\n",
    "    url = article.get_attribute('href')\n",
    "    url_list.append(url)\n",
    "time.sleep(1)\n",
    "\n",
    "# 제목 크롤링 시작\n",
    "for article in article_raw:\n",
    "    title = article.text\n",
    "    title_list.append(title)\n",
    "\n",
    "    print(title)\n",
    "\n",
    "print(\"\")\n",
    "print('url갯수: ', len(url_list))\n",
    "print('title갯수: ', len(title_list))"
   ]
  },
  {
   "cell_type": "code",
   "execution_count": 20,
   "metadata": {
    "id": "R2yjlm_5-kvs",
    "outputId": "efd2bab6-67e5-4d04-d826-4f878de28658"
   },
   "outputs": [
    {
     "data": {
      "text/plain": [
       "['https://blog.naver.com/vnawmd9233?Redirect=Log&logNo=222602864537',\n",
       " 'https://blog.naver.com/hihslee?Redirect=Log&logNo=222572825037',\n",
       " 'https://blog.naver.com/lovely_k_mk?Redirect=Log&logNo=222595369316',\n",
       " 'https://blog.naver.com/apple_pie14?Redirect=Log&logNo=222602854149',\n",
       " 'https://blog.naver.com/x1330x?Redirect=Log&logNo=222596797597',\n",
       " 'https://blog.naver.com/aaaet13?Redirect=Log&logNo=222582188211',\n",
       " 'https://blog.naver.com/wnwjqdlrksek?Redirect=Log&logNo=222508742748',\n",
       " 'https://blog.naver.com/sanjizoro1?Redirect=Log&logNo=222527530066',\n",
       " 'https://blog.naver.com/soyunroom?Redirect=Log&logNo=222495646683',\n",
       " 'https://blog.naver.com/cjssus3?Redirect=Log&logNo=222599944419',\n",
       " 'https://blog.naver.com/idhsssh?Redirect=Log&logNo=222426635172',\n",
       " 'https://blog.naver.com/qufzhd12?Redirect=Log&logNo=222572632008',\n",
       " 'https://blog.naver.com/melissa0716?Redirect=Log&logNo=222605162876',\n",
       " 'https://blog.naver.com/taehyunmk?Redirect=Log&logNo=222589548298',\n",
       " 'https://blog.naver.com/songhe62?Redirect=Log&logNo=222558928620',\n",
       " 'https://blog.naver.com/runfriend?Redirect=Log&logNo=222595971499',\n",
       " 'https://blog.naver.com/vitamincandy?Redirect=Log&logNo=222585281776',\n",
       " 'https://blog.naver.com/suyeon052?Redirect=Log&logNo=222496776738',\n",
       " 'https://blog.naver.com/lb4580?Redirect=Log&logNo=222501346244',\n",
       " 'https://blog.naver.com/hwang_c11?Redirect=Log&logNo=222529583503',\n",
       " 'https://blog.naver.com/ddongberry?Redirect=Log&logNo=222599464397',\n",
       " 'https://blog.naver.com/windy6104?Redirect=Log&logNo=222585991889',\n",
       " 'https://blog.naver.com/tonsun67?Redirect=Log&logNo=222592628203',\n",
       " 'https://blog.naver.com/bodda819?Redirect=Log&logNo=222478978458',\n",
       " 'https://blog.naver.com/an_airy?Redirect=Log&logNo=222588812487',\n",
       " 'https://blog.naver.com/crover88?Redirect=Log&logNo=222570261571',\n",
       " 'https://blog.naver.com/bee0111?Redirect=Log&logNo=222560046883',\n",
       " 'https://blog.naver.com/qkrtk8150?Redirect=Log&logNo=222544949203',\n",
       " 'https://blog.naver.com/runfriend?Redirect=Log&logNo=222448865397',\n",
       " 'https://blog.naver.com/angel8512?Redirect=Log&logNo=222598726634',\n",
       " 'https://blog.naver.com/ssuujin?Redirect=Log&logNo=222587524356',\n",
       " 'https://blog.naver.com/melissa0716?Redirect=Log&logNo=222593883860',\n",
       " 'https://blog.naver.com/heeya1236?Redirect=Log&logNo=222511691336',\n",
       " 'https://blog.naver.com/heyday2799?Redirect=Log&logNo=222589359794',\n",
       " 'https://blog.naver.com/0168904378?Redirect=Log&logNo=222567310336',\n",
       " 'https://blog.naver.com/hanbada_02?Redirect=Log&logNo=222594384145',\n",
       " 'https://blog.naver.com/shyivy7?Redirect=Log&logNo=222513581485',\n",
       " 'https://blog.naver.com/saddyblue0?Redirect=Log&logNo=222434086367',\n",
       " 'https://blog.naver.com/llnallll?Redirect=Log&logNo=222526448660',\n",
       " 'https://blog.naver.com/chi4540?Redirect=Log&logNo=222489121294',\n",
       " 'https://blog.naver.com/runfriend?Redirect=Log&logNo=222574686971',\n",
       " 'https://blog.naver.com/qkrtk8150?Redirect=Log&logNo=222515357929',\n",
       " 'https://blog.naver.com/nomh2010?Redirect=Log&logNo=222503648038',\n",
       " 'https://blog.naver.com/narae0277?Redirect=Log&logNo=222607477391',\n",
       " 'https://blog.naver.com/cjssus3?Redirect=Log&logNo=222578021280',\n",
       " 'https://blog.naver.com/melissa0716?Redirect=Log&logNo=222561260606',\n",
       " 'https://blog.naver.com/hwang_c11?Redirect=Log&logNo=222500360518',\n",
       " 'https://blog.naver.com/10_e_dd?Redirect=Log&logNo=222528285990',\n",
       " 'https://blog.naver.com/ayajj?Redirect=Log&logNo=222599535417',\n",
       " 'https://blog.naver.com/rong1227?Redirect=Log&logNo=222601817337',\n",
       " 'https://blog.naver.com/shyivy7?Redirect=Log&logNo=222550663528',\n",
       " 'https://blog.naver.com/taehyunmk?Redirect=Log&logNo=222581746614',\n",
       " 'https://blog.naver.com/runfriend?Redirect=Log&logNo=222521148338',\n",
       " 'https://blog.naver.com/bee0111?Redirect=Log&logNo=222580485508',\n",
       " 'https://blog.naver.com/qkrtk8150?Redirect=Log&logNo=222511556457',\n",
       " 'https://blog.naver.com/whitemwlove?Redirect=Log&logNo=222579269443',\n",
       " 'https://blog.naver.com/cofls18?Redirect=Log&logNo=222567365376',\n",
       " 'https://blog.naver.com/greatlady6947?Redirect=Log&logNo=222550468645',\n",
       " 'https://blog.naver.com/melissa0716?Redirect=Log&logNo=222544847744',\n",
       " 'https://blog.naver.com/fpassion21?Redirect=Log&logNo=222605620546',\n",
       " 'https://blog.naver.com/runfriend?Redirect=Log&logNo=222597165018',\n",
       " 'https://blog.naver.com/runfriend?Redirect=Log&logNo=222499531323',\n",
       " 'https://blog.naver.com/runfriend?Redirect=Log&logNo=222526274230',\n",
       " 'https://blog.naver.com/qkrtk8150?Redirect=Log&logNo=222558531587',\n",
       " 'https://blog.naver.com/melissa0716?Redirect=Log&logNo=222517655232',\n",
       " 'https://blog.naver.com/melissa0716?Redirect=Log&logNo=222566152957',\n",
       " 'https://blog.naver.com/hwang_c11?Redirect=Log&logNo=222592261141',\n",
       " 'https://blog.naver.com/hwang_c11?Redirect=Log&logNo=222595380424',\n",
       " 'https://blog.naver.com/misongchunja?Redirect=Log&logNo=222524924100',\n",
       " 'https://blog.naver.com/qkrtk8150?Redirect=Log&logNo=222562055041',\n",
       " 'https://blog.naver.com/lmh1378?Redirect=Log&logNo=222603397847',\n",
       " 'https://blog.naver.com/ddongberry?Redirect=Log&logNo=222603953755',\n",
       " 'https://blog.naver.com/crover88?Redirect=Log&logNo=222596379820',\n",
       " 'https://blog.naver.com/wusl1553?Redirect=Log&logNo=222598652064',\n",
       " 'https://blog.naver.com/runfriend?Redirect=Log&logNo=222462146638',\n",
       " 'https://blog.naver.com/bee0111?Redirect=Log&logNo=222572287109',\n",
       " 'https://blog.naver.com/flylove999?Redirect=Log&logNo=222591331073',\n",
       " 'https://blog.naver.com/bee0111?Redirect=Log&logNo=222604335456',\n",
       " 'https://blog.naver.com/bee0111?Redirect=Log&logNo=222559413047',\n",
       " 'https://blog.naver.com/ddongberry?Redirect=Log&logNo=222575778087',\n",
       " 'https://blog.naver.com/qkrtk8150?Redirect=Log&logNo=222497724663',\n",
       " 'https://blog.naver.com/yippee0112?Redirect=Log&logNo=222551575507',\n",
       " 'https://blog.naver.com/kde529?Redirect=Log&logNo=222572008625',\n",
       " 'https://blog.naver.com/europtour?Redirect=Log&logNo=222575229149',\n",
       " 'https://blog.naver.com/ralala_la?Redirect=Log&logNo=222435393511',\n",
       " 'https://blog.naver.com/saddyblue0?Redirect=Log&logNo=222515749555',\n",
       " 'https://blog.naver.com/bluebird0316?Redirect=Log&logNo=222605865967',\n",
       " 'https://blog.naver.com/chi4540?Redirect=Log&logNo=222563197183',\n",
       " 'https://blog.naver.com/light3524?Redirect=Log&logNo=222589902767',\n",
       " 'https://blog.naver.com/minzzy87?Redirect=Log&logNo=222606762736',\n",
       " 'https://blog.naver.com/chhieut?Redirect=Log&logNo=222599133027',\n",
       " 'https://blog.naver.com/80may11?Redirect=Log&logNo=222422282443',\n",
       " 'https://blog.naver.com/cofls18?Redirect=Log&logNo=222604630830',\n",
       " 'https://blog.naver.com/aajupestylej?Redirect=Log&logNo=222464886680',\n",
       " 'https://blog.naver.com/ddongberry?Redirect=Log&logNo=222573729698',\n",
       " 'https://blog.naver.com/wusl1553?Redirect=Log&logNo=222506294597',\n",
       " 'https://blog.naver.com/l4o8v6ez?Redirect=Log&logNo=222506349933',\n",
       " 'https://blog.naver.com/momo725?Redirect=Log&logNo=222552076981',\n",
       " 'https://blog.naver.com/hyeminkbs?Redirect=Log&logNo=222597715501',\n",
       " 'https://blog.naver.com/hyeminkbs?Redirect=Log&logNo=222592507510',\n",
       " 'https://blog.naver.com/oiups77?Redirect=Log&logNo=222533489431',\n",
       " 'https://blog.naver.com/dpwls200?Redirect=Log&logNo=222526339104',\n",
       " 'https://blog.naver.com/greatlady6947?Redirect=Log&logNo=222481064671',\n",
       " 'https://blog.naver.com/peanut_s_?Redirect=Log&logNo=222418581086',\n",
       " 'https://blog.naver.com/melissa0716?Redirect=Log&logNo=222501674337',\n",
       " 'https://blog.naver.com/aajupestylej?Redirect=Log&logNo=222463543222',\n",
       " 'https://blog.naver.com/jeongdaeun2?Redirect=Log&logNo=222422022887',\n",
       " 'https://blog.naver.com/cute3799?Redirect=Log&logNo=222568661397',\n",
       " 'https://blog.naver.com/choberil?Redirect=Log&logNo=222505796917',\n",
       " 'https://blog.naver.com/smfgodqhr7?Redirect=Log&logNo=222607489291',\n",
       " 'https://blog.naver.com/pcskys19?Redirect=Log&logNo=222514058467',\n",
       " 'https://blog.naver.com/kde529?Redirect=Log&logNo=222551786946',\n",
       " 'https://blog.naver.com/qkrdbwjd0302?Redirect=Log&logNo=222561332041',\n",
       " 'https://blog.naver.com/ruddbsangel?Redirect=Log&logNo=222488735417',\n",
       " 'https://blog.naver.com/dasolphoto?Redirect=Log&logNo=222490965982',\n",
       " 'https://blog.naver.com/kissme2000s?Redirect=Log&logNo=222607478969',\n",
       " 'https://blog.naver.com/sweetydy?Redirect=Log&logNo=222507655445',\n",
       " 'https://blog.naver.com/whitemwlove?Redirect=Log&logNo=222435996259',\n",
       " 'https://blog.naver.com/42chkh?Redirect=Log&logNo=222472248598',\n",
       " 'https://blog.naver.com/wlfjq9?Redirect=Log&logNo=222604037685',\n",
       " 'https://blog.naver.com/wusl1553?Redirect=Log&logNo=222439714143',\n",
       " 'https://blog.naver.com/susie0106?Redirect=Log&logNo=222594411548',\n",
       " 'https://blog.naver.com/masong89?Redirect=Log&logNo=222472154556',\n",
       " 'https://blog.naver.com/wa_you27?Redirect=Log&logNo=222604933169',\n",
       " 'https://blog.naver.com/cofls18?Redirect=Log&logNo=222551723871',\n",
       " 'https://blog.naver.com/greatlady6947?Redirect=Log&logNo=222454360015',\n",
       " 'https://blog.naver.com/ssuujin?Redirect=Log&logNo=222446613544',\n",
       " 'https://blog.naver.com/aajupestylej?Redirect=Log&logNo=222467716118',\n",
       " 'https://blog.naver.com/jyj0323?Redirect=Log&logNo=222442665272',\n",
       " 'https://blog.naver.com/ssuunn2890?Redirect=Log&logNo=222459725056',\n",
       " 'https://blog.naver.com/jyj0323?Redirect=Log&logNo=222439027369',\n",
       " 'https://blog.naver.com/heyday2799?Redirect=Log&logNo=222572922143',\n",
       " 'https://blog.naver.com/chi4540?Redirect=Log&logNo=222568872435',\n",
       " 'https://blog.naver.com/heyday2799?Redirect=Log&logNo=222566464684',\n",
       " 'https://blog.naver.com/yiseul9995?Redirect=Log&logNo=222606909421',\n",
       " 'https://blog.naver.com/dg8908?Redirect=Log&logNo=222492394930',\n",
       " 'https://blog.naver.com/pjybd0203?Redirect=Log&logNo=222462227563',\n",
       " 'https://blog.naver.com/hyeminkbs?Redirect=Log&logNo=222570402577',\n",
       " 'https://blog.naver.com/macadalkom?Redirect=Log&logNo=222462933015',\n",
       " 'https://blog.naver.com/qkrtk8150?Redirect=Log&logNo=222425004491',\n",
       " 'https://blog.naver.com/qor10221?Redirect=Log&logNo=222451136165',\n",
       " 'https://blog.naver.com/ayajj?Redirect=Log&logNo=222541049394',\n",
       " 'https://blog.naver.com/serin0177?Redirect=Log&logNo=222585341121',\n",
       " 'https://blog.naver.com/mangowith?Redirect=Log&logNo=222473191354',\n",
       " 'https://blog.naver.com/somnium87?Redirect=Log&logNo=222547896678',\n",
       " 'https://blog.naver.com/glee23sy?Redirect=Log&logNo=222445500224',\n",
       " 'https://blog.naver.com/cupid19?Redirect=Log&logNo=222528468981',\n",
       " 'https://blog.naver.com/rira8989?Redirect=Log&logNo=222580070894',\n",
       " 'https://blog.naver.com/dnjs092?Redirect=Log&logNo=222520555642',\n",
       " 'https://blog.naver.com/wldud7239?Redirect=Log&logNo=222606549805',\n",
       " 'https://blog.naver.com/cofls18?Redirect=Log&logNo=222569295487',\n",
       " 'https://blog.naver.com/angelhaniel?Redirect=Log&logNo=222490558495',\n",
       " 'https://blog.naver.com/tmfql3077?Redirect=Log&logNo=222608264810',\n",
       " 'https://blog.naver.com/pionqueen?Redirect=Log&logNo=222578369759',\n",
       " 'https://blog.naver.com/melissa0716?Redirect=Log&logNo=222430095346',\n",
       " 'https://blog.naver.com/tetsu0000?Redirect=Log&logNo=222529642352',\n",
       " 'https://blog.naver.com/jyj0323?Redirect=Log&logNo=222435265544',\n",
       " 'https://blog.naver.com/heyday2799?Redirect=Log&logNo=222563206988',\n",
       " 'https://blog.naver.com/kpj4775?Redirect=Log&logNo=222597631128',\n",
       " 'https://blog.naver.com/kde529?Redirect=Log&logNo=222465948436',\n",
       " 'https://blog.naver.com/todrlclfm97?Redirect=Log&logNo=222425059352',\n",
       " 'https://blog.naver.com/leehyne?Redirect=Log&logNo=222604755599',\n",
       " 'https://blog.naver.com/an_airy?Redirect=Log&logNo=222430717573',\n",
       " 'https://blog.naver.com/greentreeno?Redirect=Log&logNo=222604904181',\n",
       " 'https://blog.naver.com/llnallll?Redirect=Log&logNo=222589492663',\n",
       " 'https://blog.naver.com/cousticchord?Redirect=Log&logNo=222603923796',\n",
       " 'https://blog.naver.com/alll89?Redirect=Log&logNo=222565082448',\n",
       " 'https://blog.naver.com/wldls_j93?Redirect=Log&logNo=222605929450',\n",
       " 'https://blog.naver.com/qls8619?Redirect=Log&logNo=222604960147',\n",
       " 'https://blog.naver.com/ebong0302?Redirect=Log&logNo=222579531560',\n",
       " 'https://blog.naver.com/gmlrud6910?Redirect=Log&logNo=222601628921',\n",
       " 'https://blog.naver.com/minju3024?Redirect=Log&logNo=222608089217',\n",
       " 'https://blog.naver.com/godpms?Redirect=Log&logNo=222603596445',\n",
       " 'https://blog.naver.com/masterl22?Redirect=Log&logNo=222608393081',\n",
       " 'https://blog.naver.com/jungah052?Redirect=Log&logNo=222597940476',\n",
       " 'https://blog.naver.com/rulrul32?Redirect=Log&logNo=222596035906',\n",
       " 'https://blog.naver.com/hyeminkbs?Redirect=Log&logNo=222528395962',\n",
       " 'https://blog.naver.com/minsil0526?Redirect=Log&logNo=222456914262',\n",
       " 'https://blog.naver.com/sad0pirate?Redirect=Log&logNo=222591891093',\n",
       " 'https://blog.naver.com/greennn007?Redirect=Log&logNo=222601752452']"
      ]
     },
     "execution_count": 20,
     "metadata": {},
     "output_type": "execute_result"
    }
   ],
   "source": [
    "# 수집된 url들 확인\n",
    "url_list"
   ]
  },
  {
   "cell_type": "code",
   "execution_count": 21,
   "metadata": {
    "id": "Q491yek4-kvs",
    "outputId": "b8d88911-275c-4f8d-bd89-0c3831d666c7"
   },
   "outputs": [
    {
     "data": {
      "text/plain": [
       "['찬란했던 울산 삼산 맛집 모음',\n",
       " '만족했었던 울산 삼산 맛집 리스트',\n",
       " '매력터진 울산 삼산 맛집 모음',\n",
       " '매력있는 울산 삼산 맛집 공유',\n",
       " '우수했던 울산 삼산 맛집 리스트',\n",
       " '엄지들었던 울산 삼산 맛집 소개',\n",
       " '느낌있는 울산 삼산 맛집 리스트',\n",
       " '뛰어난 울산 삼산 맛집 리스트',\n",
       " '끄덕였던 울산 삼산 맛집 모음',\n",
       " '울산 삼산 맛집 연말데이트 분위기 좋은 레스토랑 더본테이블',\n",
       " '칭찬했던 울산 삼산 맛집 리스트',\n",
       " '울산 삼산 맛집 단골하고 싶은 촌놈밥집',\n",
       " '울산삼산맛집 울산 삼산 해산물 조개갈비찜맛집 위찜',\n",
       " '울산삼산맛집 데이트코스 한우오마카세 우주인',\n",
       " '삼산 맛집, 뇨끼와 샥슈카가 맛있는 브런치 레스토랑 1616',\n",
       " '울산 삼산 초밥맛집 혁이네',\n",
       " '울산 삼산 맛집, 해운대31cm해물칼국수',\n",
       " '울산 삼산 맛집 온리육 다녀와봤어요.',\n",
       " '울산 삼산 쌀국수 해외 느낌 제대로인 맛집',\n",
       " '울산 삼산 맛집 / 숙성돼지고기 진리 온리육',\n",
       " \"[울산 삼산 / 맛집] 힙한 감성의 맛집 'SOKOA' 삼산점 (소코아)\",\n",
       " '사람많은 울산 삼산 맛집 맛있는 게스트로',\n",
       " '울산삼산맛집 양고기전문점 라무진 양갈비는사랑',\n",
       " '울산 삼산 맛집 샤브샤브는 역시 만만 sz',\n",
       " '[울산 / 삼산] 분위기 좋은 울산 삼산 맛집 헤이다이닝',\n",
       " '울산 삼산 맛집 게스트로 분위기좋은 공원뷰',\n",
       " '[울산/삼산]울산 화덕피자 맛집 핫플레이스 - 게스트로',\n",
       " \"울산 삼산 브런치 맛집 '페즈키친' 뇨끼 및 파스타 맛집\",\n",
       " '울산맛집 삼산맛집 왕돈까스 홍익돈까스',\n",
       " '울산 삼산 해산물,갈비찜맛집 위찜',\n",
       " '울산 삼산 맛집 오리엔탈 무거면옥 돈까스 맛집',\n",
       " '울산 삼산맛집 해산물/부채새우가 맛있는 구이구이본부',\n",
       " '울산 삼산 맛집 더본테이블 코스요리 너무 맛있짜냐',\n",
       " '울산 삼산 텐동 맛집 온센! 핫플이넹',\n",
       " '울산 삼산 맛집 헤이다이닝',\n",
       " '울산 삼산 맛집 본참치 점심특선 괜춘해요!(주말 가능)',\n",
       " '울산 삼산 맛집 롯데시티호텔 근처 대왕해물문어보쌈',\n",
       " '울산 삼산 맛집/울산 카레 맛집 - 소코아',\n",
       " '삼산 고반식당 : 최고급 숙성 한돈 전문점 / 울산 달동 고기 맛집',\n",
       " '울산 삼산 맛집 :: 분위기 좋은 고기집 이씨솜씨 삼산점',\n",
       " '울산 삼산 맛집 샤브샤브맛집 만만 샤브샤브뷔페',\n",
       " \"울산 삼산 맛집 '숙성도마' 달동 가성비 좋은 고깃집!\",\n",
       " '울산대게 삼산맛집 가족 외식 즐기고 왔어요',\n",
       " '[울산] 남구 삼산 일식 이자카야 숙성사시미 맛집 :: 청리일식당',\n",
       " '울산 삼산동 찜닭 맛집 꼬꼬사우나 찜닭 삼산본점',\n",
       " '울산삼산맛집 중식코스요리 잘하는 하준레스토랑',\n",
       " '울산 삼산 맛집 / 한우국밥 돈까스 가성비 좋은 오리엔탈무거면옥',\n",
       " '울산 삼산 맛집, 양식 먹을 때는 헤이다이닝',\n",
       " '울산 삼산 맛집 육첩반상 현대백화점 울산점 한국인의 밥상은...',\n",
       " '[울산 삼산 맛집]정일면 : 마제소바 맛집! 울산에 이런집이? 쫀맛.',\n",
       " '울산삼산맛집 , 고급지게 코스요리로 즐기자 중식레스토랑...',\n",
       " '울산삼산맛집 점심추천 편백집 롯데백화점 울산점',\n",
       " '[울산맛집]돈까스맛집 내돈내산 냉모밀까지 가성비좋은 삼산...',\n",
       " '[울산/삼산]울산 삼산동 카페... (터키식 샌드커피 & 까눌레 맛집)',\n",
       " \"울산 삼산 맛집 '라무진' 계속 찾게되는 울산 양고기 맛집!\",\n",
       " '울산 삼산 맛집 / 울산 달동 고기집 <무쇠김치삼겹>',\n",
       " '맛집 [온센] 바삭한 튀김이 가득, 타마고는 기본! 삼산 일식 맛집',\n",
       " '울산 삼산 맛집 - 헤이다이닝',\n",
       " '울산삼산닭갈비맛집 점심/저녁 상관없이 맛있는 헬로팬',\n",
       " '울산삼산맛집 :: 울산전복 코스요리 수승대 추천해요',\n",
       " '울산맛집 사량도자연산횟집 삼산2호점 포장후기',\n",
       " '[울산맛집]삼산맛집 삼산동 타코야끼 현대백화점 근처 타코파파',\n",
       " '[울산삼산맛집] 울산 삼산동 돈까스맛집 카츠애',\n",
       " \"울산 달동 맛집 '헬로팬&국제치킨' 삼산 닭갈비 맛집!\",\n",
       " '울산장어덮밥 삼산/달동 맛집 밥심 제대로 한그륵',\n",
       " '울산삼산맛집 화덕피자맛집 분위기있는 핫플레이스 게스트로',\n",
       " '울산 삼산 맛집 / 연말 분위기 좋은 모임장소 헤이다이닝',\n",
       " '울산 삼산 파스타 맛집 스텝바이스텝',\n",
       " '[삼산 맛집] 류센소(ft. 라멘 맛집)',\n",
       " \"울산 삼산 맛집 '스텝바이스텝' 재방문하게 되는 데이트 맛집!\",\n",
       " '삼산맛집:)딥센스.분위기좋은레스토랑',\n",
       " \"[울산 삼산 / 맛집] 분위기 좋은 양식당 '부조화' (@솜케이크)\",\n",
       " '울산 삼산 맛집 비빔밥과 불고기전골 모두 맛있는 함가면반',\n",
       " \"울산 삼산 맛집 '마이페이보릿파스타'\",\n",
       " '[울산삼산맛집]내돈내산 삼산파스타맛집 폼폰루지...',\n",
       " '[울산/삼산]울산 삼산 맛집 - 꼬꼬사우나 찜닭/치즈토핑 추가',\n",
       " '울산 삼산 맛집 / 기념일에 분위기 내기 좋은 헤이다이닝',\n",
       " '[울산/삼산]울산 삼산동 삼계탕 맛집-대가야삼계탕/포장가능...',\n",
       " '[울산/삼산]울산 삼산 맛집 - 오리엔탈 한식당 무거면옥/가성비...',\n",
       " \"[울산 삼산 / 맛집] 분위기 좋은 이탈리아 음식점 '딥센스...\",\n",
       " \"울산 삼산 맛집 '스텝바이스텝' 파스타 수제버거 맛집 발견!\",\n",
       " '교대역 고기집 핫한 교대역 맛집 삼산회관',\n",
       " '[삼산맛집] 게스트로 : 삼산동... 데이트하기 좋은 화덕피자 맛집!',\n",
       " '울산 삼산맛집 데이트 코스- 게스트로',\n",
       " '마이페이보릿파스타 (울산 파스타 맛집 / 삼산맛집)',\n",
       " '울산 삼산 마카롱 - 프랑스식 정통 마카롱 맛집 파티세리오브',\n",
       " '울산삼산 맛집, 테이크아웃 전문점 유부부',\n",
       " '울산 삼산 맛집 :: 겨울철 따뜻한 분위기 헤이다이닝',\n",
       " '울산 삼산 신상 맛집 온센 , 텐동',\n",
       " '울산삼산맛집 울산 삼산 해산물 위찜 맛있네잉 !',\n",
       " '울산 삼산 맛집 : 테라스가든 중국음식 코스요리 하준',\n",
       " '울산 삼산 맛집 회식장소 추천 삼산정 도시락 배달가요~',\n",
       " '울산 삼산 맛집 [만권화밥] 혼밥하기도 좋은 업스퀘어 맛집...',\n",
       " '울산 삼산 맛집 말복이니까 맛있는 꼬꼬사우나 찜닭 본점 추천',\n",
       " \"[울산 삼산 / 맛집] 뜨끈한 국물에 소주한잔 '남해 꽃게탕 & 쭈꾸미'\",\n",
       " \"울산 삼산 맛집 '류센소'\",\n",
       " '울산/삼산맛집 돈가스도 우동도 맛있는 섬섬옥수',\n",
       " '삼산맛집 : 류센소 (일본라멘)',\n",
       " '울산 사시미맛집 삼산 술집 이자카야 소담히',\n",
       " '울산 삼산 술집 갓포이찌 굴튀김맛집이야~',\n",
       " '[울산삼산맛집] 분위기가 좋은 브런치카페\"까사레지나\"',\n",
       " \"[맛집 추천] 리얼 울산 삼산 초밥 스시 맛집 추천 '사시스세소'\",\n",
       " '울산 삼산 맛집 - 소코아',\n",
       " '울산 삼산 맛집 만만 샤브샤브 최고',\n",
       " '울산삼산맛집 분위기좋은 삼산동핫플 파스타맛집 헤이다이닝',\n",
       " '울산 삼산 맛집 오리엔탈 무거면옥 들기름 막국수 추천',\n",
       " '울산 삼산 맛집 / 소코아(SOKOA)♥ 울산 소코아(SOKOA)',\n",
       " '[교대역 맛집] 3번째 방문하는 서울 교대 맛집 *삼산회관*',\n",
       " '울산 고기 맛집 삼산 고반식당',\n",
       " '울산 삼산 돈까스 맛집 : 카츠더태화',\n",
       " '울산 삼산 맛집 만만샤브샤브 샐러드바 주차장 걱정도 노놉',\n",
       " '[울산 맛집/삼산 맛집] 평화김해뒷고기 삼산점 : 뒷고기는 역시...',\n",
       " '고급스러운 울산 삼산 맛집 BEST',\n",
       " '울산 삼산 맛집 헤이다이닝, 분위기좋은 레스토랑',\n",
       " '교대역 맛집 생방송투데이 삼산회관',\n",
       " '울산 삼산 맛집 꼬꼬사우나 찜닭 삼산본점 가성비좋은 점심특선!',\n",
       " '울산 삼산 초밥맛집, 본참치 초밥정식 런치코스',\n",
       " '울산 삼산 맛집 <한우클라쓰>',\n",
       " '울산 삼산 맛집 만만 샤브샤브뷔페',\n",
       " '울산 삼산 소고기맛집 베테랑바베큐 믿고 먹는 소고기맛집',\n",
       " \"울산 삼산 맛집 일본가정식 '미소반'\",\n",
       " '교대역 맛집 \"삼산회관\" 돼지김치구이+돼지김치찌개 먹고 왔어요~',\n",
       " '울산 화덕피자 맛집 삼산 게스트로',\n",
       " '울산 삼산 카레 맛집 소코아 내돈내산 찐후기',\n",
       " '울산 삼산 맛집 [브라운돈까스... 가득, 울산 돈까스 맛집',\n",
       " '울산 삼산 맛집 - 매드포갈릭',\n",
       " '울산 삼산 맛집 돼지고기가 맛있는 고반식당',\n",
       " '울산 삼산 화덕피자 맛집 분위기좋은 파스타집 기념일...',\n",
       " '울산 삼산 맛집 평화김해뒷고기 (삼산점)',\n",
       " '삼산맛집 상무초밥 울산삼산점 점심특선B 굿굿!',\n",
       " '울산 삼산 맛집 양고기 맛집 라무진 (삼산점)',\n",
       " '울산 삼산 쭈꾸미 맛집 안성깍뚜기 !볶음밥까지 풀코스',\n",
       " '울산 신상 맛집 :: 삼산 포케 샐러드 슬로우캘리',\n",
       " '울산 한우 맛집 소와, 삼산 소고기 맛집',\n",
       " '울산 삼산 맛집 밤이깊을림 이자카야 술집',\n",
       " '교대역 맛집 [삼산회관] 여기 생방송 투데이에 나와서 웨이팅까지',\n",
       " '울산 삼산 맛집 시원한 막국수가있는 오리엔탈무거면옥',\n",
       " '울산 굴맛집 굴구이전문점 삼산 식이네굴구이',\n",
       " '만족스런 울산 삼산 맛집 /양고기 전문점 라무진',\n",
       " \"울산 삼산 맛집 '옥스스모크앤그릴' 더테라스가든 수제버거 맛집!\",\n",
       " '울산 삼산 맛집, 해운대31센치해물칼국수 칼국수먹고...',\n",
       " '울산 남구 삼산 맛집 강추! 대세박목살 삼산점 숙성목살...',\n",
       " '서초구 돼지김치구이, 김치찌개 맛집_삼산회관 교대점',\n",
       " '울산 남구 삼산 참치 맛집 본참치 VIP코스 후기',\n",
       " '울산삼산한우맛집 소와 특수부위 전문점',\n",
       " '울산 대게 맛집 삼산 게수작 속이 꽉 찬 대게 랍스타',\n",
       " '[울산 삼산맛집] 오발탄',\n",
       " '목포 석현동 맛집 삼산회관 돼지김치구이',\n",
       " '울산 삼산 맛집 사량도자연산 횟집',\n",
       " '[울산 삼산 맛집] - 혁이네 (스시맛집!!!)',\n",
       " '울산 삼산 맛집 [게스트로]... 코스 추천, 울산 화덕피자 맛집',\n",
       " '교대역 맛집 생방송투데이 삼산회관 돼지김치구이',\n",
       " '울산 삼산 맛집, 삼산쌈밥에서 건강한 식사',\n",
       " '울산 삼산 소고기 맛집 한우마을 가성비 좋은 투플러스 맛집',\n",
       " '울산회식장소 삼산맛집 미생 제주흑돼지 삼겹살 찐이야',\n",
       " '울산 삼산맛집 - 메뉴가 독특한 1616',\n",
       " '울산 삼산 맛집 분위기도 맛집! 두번째 방문한 게스트로',\n",
       " '울산 삼산 마라탕 맛집 맛있다고 울지마라탕 &샤브샤브',\n",
       " '울산삼산맛집 울산환갑 장소 찾는다면 수승대 강추!',\n",
       " '[울산 맛집/삼산 맛집] 꼬꼬 사우나 찜닭 삼산본점 : 믿고 먹는...',\n",
       " '울산 삼산 맛집 내돈내산 배달의민족 배달맛집후기 top7...',\n",
       " '울산 삼산 텐동 맛집 - 온센 이까텐동 먹어봄! (feat. 당고)...',\n",
       " '[울산 삼산 맛집] 울산 유일한 냉장 양고기 전문점 라무진',\n",
       " '울산미풍해장국/ 울산삼산맛집 /울산해장국맛집/ 삼산미풍해장...',\n",
       " '삼산 샐러드 맛집 : 포켓포케 울산본점 / 건강한 다이어트 식단...',\n",
       " '울산 삼산 텐동 맛집 온센 텐지순례 다녀왔습니다',\n",
       " '울산 삼산 맛집 특별한날 찾은 이 곳, 헤이다이닝',\n",
       " '[삼산맛집] 스시 여기 괜찮네? 혁이네 스시바',\n",
       " '울산삼산/카페 : 라푀유 크로와상(빵 맛집)',\n",
       " '울산 삼산 파스타 맛집 마이페이보릿파스타 방문기',\n",
       " '[ 울산 삼산 ] 마라탕 가성비 좋은 맛집, 마라탠쿵',\n",
       " '울산 달동/삼산 맛집 : 소코아(SOKOA) 삼산점',\n",
       " '울산 남구 삼산 와인 맛집, 라피콜라 이탈리아',\n",
       " '울산삼산맛집 명촌순두부보쌈... 가격 주차) 삼산동 보쌈맛집 24시',\n",
       " '[울산맛집] 삼산밀면칼국수 (밀면맛집)',\n",
       " '울산 삼산 맛집 - 본참치 - 런치 초밥정식과 마제소바',\n",
       " '울산 고기집 삼산 맛집 총각집',\n",
       " '들기름막국수 오리엔탈 무거면옥 울산 삼산 맛집이다~',\n",
       " '울산 삼산 맛집 헤이다이닝 분위기 좋아서 데이트하기 완전 굿',\n",
       " '울산 삼산 게스트로 삼산 양식 맛집이네요']"
      ]
     },
     "execution_count": 21,
     "metadata": {},
     "output_type": "execute_result"
    }
   ],
   "source": [
    "# 수집된 블로그 제목 확인\n",
    "title_list"
   ]
  },
  {
   "cell_type": "code",
   "execution_count": 22,
   "metadata": {
    "id": "MvgyX_pk-kvt",
    "outputId": "7749cfef-5aa7-45f6-db8a-e94b444998d8",
    "scrolled": false
   },
   "outputs": [
    {
     "data": {
      "text/html": [
       "<div>\n",
       "<style scoped>\n",
       "    .dataframe tbody tr th:only-of-type {\n",
       "        vertical-align: middle;\n",
       "    }\n",
       "\n",
       "    .dataframe tbody tr th {\n",
       "        vertical-align: top;\n",
       "    }\n",
       "\n",
       "    .dataframe thead th {\n",
       "        text-align: right;\n",
       "    }\n",
       "</style>\n",
       "<table border=\"1\" class=\"dataframe\">\n",
       "  <thead>\n",
       "    <tr style=\"text-align: right;\">\n",
       "      <th></th>\n",
       "      <th>url</th>\n",
       "      <th>title</th>\n",
       "    </tr>\n",
       "  </thead>\n",
       "  <tbody>\n",
       "    <tr>\n",
       "      <th>0</th>\n",
       "      <td>https://blog.naver.com/vnawmd9233?Redirect=Log...</td>\n",
       "      <td>찬란했던 울산 삼산 맛집 모음</td>\n",
       "    </tr>\n",
       "    <tr>\n",
       "      <th>1</th>\n",
       "      <td>https://blog.naver.com/hihslee?Redirect=Log&amp;lo...</td>\n",
       "      <td>만족했었던 울산 삼산 맛집 리스트</td>\n",
       "    </tr>\n",
       "    <tr>\n",
       "      <th>2</th>\n",
       "      <td>https://blog.naver.com/lovely_k_mk?Redirect=Lo...</td>\n",
       "      <td>매력터진 울산 삼산 맛집 모음</td>\n",
       "    </tr>\n",
       "    <tr>\n",
       "      <th>3</th>\n",
       "      <td>https://blog.naver.com/apple_pie14?Redirect=Lo...</td>\n",
       "      <td>매력있는 울산 삼산 맛집 공유</td>\n",
       "    </tr>\n",
       "    <tr>\n",
       "      <th>4</th>\n",
       "      <td>https://blog.naver.com/x1330x?Redirect=Log&amp;log...</td>\n",
       "      <td>우수했던 울산 삼산 맛집 리스트</td>\n",
       "    </tr>\n",
       "    <tr>\n",
       "      <th>...</th>\n",
       "      <td>...</td>\n",
       "      <td>...</td>\n",
       "    </tr>\n",
       "    <tr>\n",
       "      <th>175</th>\n",
       "      <td>https://blog.naver.com/rulrul32?Redirect=Log&amp;l...</td>\n",
       "      <td>울산 삼산 맛집 - 본참치 - 런치 초밥정식과 마제소바</td>\n",
       "    </tr>\n",
       "    <tr>\n",
       "      <th>176</th>\n",
       "      <td>https://blog.naver.com/hyeminkbs?Redirect=Log&amp;...</td>\n",
       "      <td>울산 고기집 삼산 맛집 총각집</td>\n",
       "    </tr>\n",
       "    <tr>\n",
       "      <th>177</th>\n",
       "      <td>https://blog.naver.com/minsil0526?Redirect=Log...</td>\n",
       "      <td>들기름막국수 오리엔탈 무거면옥 울산 삼산 맛집이다~</td>\n",
       "    </tr>\n",
       "    <tr>\n",
       "      <th>178</th>\n",
       "      <td>https://blog.naver.com/sad0pirate?Redirect=Log...</td>\n",
       "      <td>울산 삼산 맛집 헤이다이닝 분위기 좋아서 데이트하기 완전 굿</td>\n",
       "    </tr>\n",
       "    <tr>\n",
       "      <th>179</th>\n",
       "      <td>https://blog.naver.com/greennn007?Redirect=Log...</td>\n",
       "      <td>울산 삼산 게스트로 삼산 양식 맛집이네요</td>\n",
       "    </tr>\n",
       "  </tbody>\n",
       "</table>\n",
       "<p>180 rows × 2 columns</p>\n",
       "</div>"
      ],
      "text/plain": [
       "                                                   url  \\\n",
       "0    https://blog.naver.com/vnawmd9233?Redirect=Log...   \n",
       "1    https://blog.naver.com/hihslee?Redirect=Log&lo...   \n",
       "2    https://blog.naver.com/lovely_k_mk?Redirect=Lo...   \n",
       "3    https://blog.naver.com/apple_pie14?Redirect=Lo...   \n",
       "4    https://blog.naver.com/x1330x?Redirect=Log&log...   \n",
       "..                                                 ...   \n",
       "175  https://blog.naver.com/rulrul32?Redirect=Log&l...   \n",
       "176  https://blog.naver.com/hyeminkbs?Redirect=Log&...   \n",
       "177  https://blog.naver.com/minsil0526?Redirect=Log...   \n",
       "178  https://blog.naver.com/sad0pirate?Redirect=Log...   \n",
       "179  https://blog.naver.com/greennn007?Redirect=Log...   \n",
       "\n",
       "                                 title  \n",
       "0                     찬란했던 울산 삼산 맛집 모음  \n",
       "1                   만족했었던 울산 삼산 맛집 리스트  \n",
       "2                     매력터진 울산 삼산 맛집 모음  \n",
       "3                     매력있는 울산 삼산 맛집 공유  \n",
       "4                    우수했던 울산 삼산 맛집 리스트  \n",
       "..                                 ...  \n",
       "175     울산 삼산 맛집 - 본참치 - 런치 초밥정식과 마제소바  \n",
       "176                   울산 고기집 삼산 맛집 총각집  \n",
       "177       들기름막국수 오리엔탈 무거면옥 울산 삼산 맛집이다~  \n",
       "178  울산 삼산 맛집 헤이다이닝 분위기 좋아서 데이트하기 완전 굿  \n",
       "179             울산 삼산 게스트로 삼산 양식 맛집이네요  \n",
       "\n",
       "[180 rows x 2 columns]"
      ]
     },
     "execution_count": 22,
     "metadata": {},
     "output_type": "execute_result"
    }
   ],
   "source": [
    "# 수집된 url_list, title_list로 판다스 데이터프레임 만들기\n",
    "df = pd.DataFrame({'url':url_list, 'title':title_list})\n",
    "df"
   ]
  },
  {
   "cell_type": "code",
   "execution_count": 23,
   "metadata": {
    "id": "0gl5A-pW-kvt",
    "outputId": "a559e994-03d4-4012-87d8-13ff86500cd9"
   },
   "outputs": [
    {
     "data": {
      "text/plain": [
       "'C:\\\\Users\\\\korean\\\\practice'"
      ]
     },
     "execution_count": 23,
     "metadata": {},
     "output_type": "execute_result"
    }
   ],
   "source": [
    "pwd"
   ]
  },
  {
   "cell_type": "code",
   "execution_count": 24,
   "metadata": {
    "id": "utM15Eos-kvt"
   },
   "outputs": [],
   "source": [
    "# 저장하기\n",
    "df.to_excel(\"blog_url.xlsx\", encoding='utf-8-sig')\n",
    "# df.to_csv(\"blog_url.csv\")"
   ]
  },
  {
   "cell_type": "markdown",
   "metadata": {
    "id": "hXNfrK-L-kvt"
   },
   "source": [
    "# 2. 블로그 내용 크롤링하기"
   ]
  },
  {
   "cell_type": "code",
   "execution_count": 25,
   "metadata": {
    "id": "wueBlU75-kvt"
   },
   "outputs": [],
   "source": [
    "import sys\n",
    "import os\n",
    "import pandas as pd\n",
    "import numpy as np"
   ]
  },
  {
   "cell_type": "code",
   "execution_count": 27,
   "metadata": {
    "id": "nRD3qDF5-kvt",
    "outputId": "9630a68d-e501-4865-eaa2-3112a51d78ab",
    "scrolled": true
   },
   "outputs": [
    {
     "name": "stdout",
     "output_type": "stream",
     "text": [
      "180\n"
     ]
    },
    {
     "data": {
      "text/html": [
       "<div>\n",
       "<style scoped>\n",
       "    .dataframe tbody tr th:only-of-type {\n",
       "        vertical-align: middle;\n",
       "    }\n",
       "\n",
       "    .dataframe tbody tr th {\n",
       "        vertical-align: top;\n",
       "    }\n",
       "\n",
       "    .dataframe thead th {\n",
       "        text-align: right;\n",
       "    }\n",
       "</style>\n",
       "<table border=\"1\" class=\"dataframe\">\n",
       "  <thead>\n",
       "    <tr style=\"text-align: right;\">\n",
       "      <th></th>\n",
       "      <th>url</th>\n",
       "      <th>title</th>\n",
       "    </tr>\n",
       "  </thead>\n",
       "  <tbody>\n",
       "    <tr>\n",
       "      <th>0</th>\n",
       "      <td>https://blog.naver.com/vnawmd9233?Redirect=Log...</td>\n",
       "      <td>찬란했던 울산 삼산 맛집 모음</td>\n",
       "    </tr>\n",
       "    <tr>\n",
       "      <th>1</th>\n",
       "      <td>https://blog.naver.com/hihslee?Redirect=Log&amp;lo...</td>\n",
       "      <td>만족했었던 울산 삼산 맛집 리스트</td>\n",
       "    </tr>\n",
       "    <tr>\n",
       "      <th>2</th>\n",
       "      <td>https://blog.naver.com/lovely_k_mk?Redirect=Lo...</td>\n",
       "      <td>매력터진 울산 삼산 맛집 모음</td>\n",
       "    </tr>\n",
       "    <tr>\n",
       "      <th>3</th>\n",
       "      <td>https://blog.naver.com/apple_pie14?Redirect=Lo...</td>\n",
       "      <td>매력있는 울산 삼산 맛집 공유</td>\n",
       "    </tr>\n",
       "    <tr>\n",
       "      <th>4</th>\n",
       "      <td>https://blog.naver.com/x1330x?Redirect=Log&amp;log...</td>\n",
       "      <td>우수했던 울산 삼산 맛집 리스트</td>\n",
       "    </tr>\n",
       "    <tr>\n",
       "      <th>...</th>\n",
       "      <td>...</td>\n",
       "      <td>...</td>\n",
       "    </tr>\n",
       "    <tr>\n",
       "      <th>175</th>\n",
       "      <td>https://blog.naver.com/rulrul32?Redirect=Log&amp;l...</td>\n",
       "      <td>울산 삼산 맛집 - 본참치 - 런치 초밥정식과 마제소바</td>\n",
       "    </tr>\n",
       "    <tr>\n",
       "      <th>176</th>\n",
       "      <td>https://blog.naver.com/hyeminkbs?Redirect=Log&amp;...</td>\n",
       "      <td>울산 고기집 삼산 맛집 총각집</td>\n",
       "    </tr>\n",
       "    <tr>\n",
       "      <th>177</th>\n",
       "      <td>https://blog.naver.com/minsil0526?Redirect=Log...</td>\n",
       "      <td>들기름막국수 오리엔탈 무거면옥 울산 삼산 맛집이다~</td>\n",
       "    </tr>\n",
       "    <tr>\n",
       "      <th>178</th>\n",
       "      <td>https://blog.naver.com/sad0pirate?Redirect=Log...</td>\n",
       "      <td>울산 삼산 맛집 헤이다이닝 분위기 좋아서 데이트하기 완전 굿</td>\n",
       "    </tr>\n",
       "    <tr>\n",
       "      <th>179</th>\n",
       "      <td>https://blog.naver.com/greennn007?Redirect=Log...</td>\n",
       "      <td>울산 삼산 게스트로 삼산 양식 맛집이네요</td>\n",
       "    </tr>\n",
       "  </tbody>\n",
       "</table>\n",
       "<p>180 rows × 2 columns</p>\n",
       "</div>"
      ],
      "text/plain": [
       "                                                   url  \\\n",
       "0    https://blog.naver.com/vnawmd9233?Redirect=Log...   \n",
       "1    https://blog.naver.com/hihslee?Redirect=Log&lo...   \n",
       "2    https://blog.naver.com/lovely_k_mk?Redirect=Lo...   \n",
       "3    https://blog.naver.com/apple_pie14?Redirect=Lo...   \n",
       "4    https://blog.naver.com/x1330x?Redirect=Log&log...   \n",
       "..                                                 ...   \n",
       "175  https://blog.naver.com/rulrul32?Redirect=Log&l...   \n",
       "176  https://blog.naver.com/hyeminkbs?Redirect=Log&...   \n",
       "177  https://blog.naver.com/minsil0526?Redirect=Log...   \n",
       "178  https://blog.naver.com/sad0pirate?Redirect=Log...   \n",
       "179  https://blog.naver.com/greennn007?Redirect=Log...   \n",
       "\n",
       "                                 title  \n",
       "0                     찬란했던 울산 삼산 맛집 모음  \n",
       "1                   만족했었던 울산 삼산 맛집 리스트  \n",
       "2                     매력터진 울산 삼산 맛집 모음  \n",
       "3                     매력있는 울산 삼산 맛집 공유  \n",
       "4                    우수했던 울산 삼산 맛집 리스트  \n",
       "..                                 ...  \n",
       "175     울산 삼산 맛집 - 본참치 - 런치 초밥정식과 마제소바  \n",
       "176                   울산 고기집 삼산 맛집 총각집  \n",
       "177       들기름막국수 오리엔탈 무거면옥 울산 삼산 맛집이다~  \n",
       "178  울산 삼산 맛집 헤이다이닝 분위기 좋아서 데이트하기 완전 굿  \n",
       "179             울산 삼산 게스트로 삼산 양식 맛집이네요  \n",
       "\n",
       "[180 rows x 2 columns]"
      ]
     },
     "execution_count": 27,
     "metadata": {},
     "output_type": "execute_result"
    }
   ],
   "source": [
    "# \"url_list.csv\" 불러오기\n",
    "url_load = pd.read_excel(\"blog_url.xlsx\")\n",
    "url_load = url_load.drop(\"Unnamed: 0\", axis=1)  # 불필요한 칼럼 삭제 # axis =  1 불필요한 컬럼 삭제\n",
    "\n",
    "num_list = len(url_load)\n",
    "\n",
    "print(num_list)\n",
    "url_load"
   ]
  },
  {
   "cell_type": "code",
   "execution_count": 28,
   "metadata": {},
   "outputs": [
    {
     "data": {
      "text/plain": [
       "0      https://blog.naver.com/vnawmd9233?Redirect=Log...\n",
       "1      https://blog.naver.com/hihslee?Redirect=Log&lo...\n",
       "2      https://blog.naver.com/lovely_k_mk?Redirect=Lo...\n",
       "3      https://blog.naver.com/apple_pie14?Redirect=Lo...\n",
       "4      https://blog.naver.com/x1330x?Redirect=Log&log...\n",
       "                             ...                        \n",
       "175    https://blog.naver.com/rulrul32?Redirect=Log&l...\n",
       "176    https://blog.naver.com/hyeminkbs?Redirect=Log&...\n",
       "177    https://blog.naver.com/minsil0526?Redirect=Log...\n",
       "178    https://blog.naver.com/sad0pirate?Redirect=Log...\n",
       "179    https://blog.naver.com/greennn007?Redirect=Log...\n",
       "Name: url, Length: 180, dtype: object"
      ]
     },
     "execution_count": 28,
     "metadata": {},
     "output_type": "execute_result"
    }
   ],
   "source": [
    "url_load['url']"
   ]
  },
  {
   "cell_type": "code",
   "execution_count": 29,
   "metadata": {},
   "outputs": [],
   "source": [
    "i = 3\n",
    "\n",
    "url = url_load['url'][i]\n",
    "chrome_path = chromedriver_autoinstaller.install()\n",
    "driver = webdriver.Chrome(chrome_path)\n",
    "\n",
    "driver.get(url)   # 글 띄우기\n",
    "time.sleep(1)\n",
    "\n",
    "# iframe 접근\n",
    "driver.switch_to.frame('mainFrame')\n",
    "time.sleep(1)"
   ]
  },
  {
   "cell_type": "code",
   "execution_count": 30,
   "metadata": {},
   "outputs": [],
   "source": [
    "dict = {}  # 전체 180개 크롤링 데이터를 담을 그릇\n",
    "\n",
    "target_info = {}  # 개별 블로그 내용을 담을 딕셔너리 생성"
   ]
  },
  {
   "cell_type": "code",
   "execution_count": 31,
   "metadata": {},
   "outputs": [
    {
     "data": {
      "text/plain": [
       "'지방 맛집'"
      ]
     },
     "execution_count": 31,
     "metadata": {},
     "output_type": "execute_result"
    }
   ],
   "source": [
    "# 제목 크롤링 시작\n",
    "overlays = \".blog2_series\"                         \n",
    "tit = driver.find_element_by_css_selector(overlays)          # title\n",
    "title = tit.text  # 셀레늄 객체 안 텍스트 가져오기.\n",
    "title"
   ]
  },
  {
   "cell_type": "code",
   "execution_count": 124,
   "metadata": {},
   "outputs": [
    {
     "data": {
      "text/plain": [
       "'애블'"
      ]
     },
     "execution_count": 124,
     "metadata": {},
     "output_type": "execute_result"
    }
   ],
   "source": [
    "# 글쓴이 크롤링 시작\n",
    "overlays = \".link.pcol2\"                                 \n",
    "nick = driver.find_element_by_css_selector(overlays)         # nickname\n",
    "nickname = nick.text\n",
    "nickname"
   ]
  },
  {
   "cell_type": "code",
   "execution_count": 125,
   "metadata": {},
   "outputs": [
    {
     "data": {
      "text/plain": [
       "<selenium.webdriver.remote.webelement.WebElement (session=\"bad1d3a1b13738ba47eda41c022551e7\", element=\"f75ea69a-43fa-416d-b645-86f29e235538\")>"
      ]
     },
     "execution_count": 125,
     "metadata": {},
     "output_type": "execute_result"
    }
   ],
   "source": [
    "# 날짜 크롤링\n",
    "overlays = \".se_publishDate.pcol2\"                                 \n",
    "date = driver.find_element_by_css_selector(overlays)         # datetime  element s 추가시 리스트로 전부 찾음\n",
    "date"
   ]
  },
  {
   "cell_type": "code",
   "execution_count": 126,
   "metadata": {},
   "outputs": [
    {
     "data": {
      "text/plain": [
       "'2021. 12. 23. 17:00'"
      ]
     },
     "execution_count": 126,
     "metadata": {},
     "output_type": "execute_result"
    }
   ],
   "source": [
    "datetime = date.text\n",
    "datetime"
   ]
  },
  {
   "cell_type": "code",
   "execution_count": 95,
   "metadata": {
    "scrolled": true
   },
   "outputs": [
    {
     "data": {
      "text/plain": [
       "[<selenium.webdriver.remote.webelement.WebElement (session=\"b1fe3365c7b9f90163abbef60d61a547\", element=\"b62ff04a-a88c-42ea-b56c-adbc88be49bc\")>,\n",
       " <selenium.webdriver.remote.webelement.WebElement (session=\"b1fe3365c7b9f90163abbef60d61a547\", element=\"acdbe508-501d-4dc2-94c8-49d2d9ee070c\")>,\n",
       " <selenium.webdriver.remote.webelement.WebElement (session=\"b1fe3365c7b9f90163abbef60d61a547\", element=\"ccfd73f0-aaaa-4d01-b632-c2696251d52c\")>,\n",
       " <selenium.webdriver.remote.webelement.WebElement (session=\"b1fe3365c7b9f90163abbef60d61a547\", element=\"063a1dbf-8b2d-451b-81d3-2c85069eda66\")>,\n",
       " <selenium.webdriver.remote.webelement.WebElement (session=\"b1fe3365c7b9f90163abbef60d61a547\", element=\"90120e65-3bc1-430e-aac2-3e16db2f2831\")>,\n",
       " <selenium.webdriver.remote.webelement.WebElement (session=\"b1fe3365c7b9f90163abbef60d61a547\", element=\"4398683e-7e40-4b99-bbcc-af9ef50689b8\")>,\n",
       " <selenium.webdriver.remote.webelement.WebElement (session=\"b1fe3365c7b9f90163abbef60d61a547\", element=\"b3edb9d0-5387-4271-8acc-61f60955fb06\")>,\n",
       " <selenium.webdriver.remote.webelement.WebElement (session=\"b1fe3365c7b9f90163abbef60d61a547\", element=\"036c881c-5804-4e80-8275-bcec91aabe17\")>,\n",
       " <selenium.webdriver.remote.webelement.WebElement (session=\"b1fe3365c7b9f90163abbef60d61a547\", element=\"4241c0fc-523d-476f-a0b5-975ae7d96292\")>,\n",
       " <selenium.webdriver.remote.webelement.WebElement (session=\"b1fe3365c7b9f90163abbef60d61a547\", element=\"fde427d5-040c-4339-8572-1bae60cae344\")>,\n",
       " <selenium.webdriver.remote.webelement.WebElement (session=\"b1fe3365c7b9f90163abbef60d61a547\", element=\"5d794613-46f5-47b8-9a70-dd5abf676d0b\")>,\n",
       " <selenium.webdriver.remote.webelement.WebElement (session=\"b1fe3365c7b9f90163abbef60d61a547\", element=\"7c8a424f-5bc1-462d-be9a-3ddc7457953c\")>,\n",
       " <selenium.webdriver.remote.webelement.WebElement (session=\"b1fe3365c7b9f90163abbef60d61a547\", element=\"31b9dce8-d4de-485f-8949-b151fe82746d\")>,\n",
       " <selenium.webdriver.remote.webelement.WebElement (session=\"b1fe3365c7b9f90163abbef60d61a547\", element=\"dc55e888-7427-4c44-ad3a-d9b273ed0f3b\")>,\n",
       " <selenium.webdriver.remote.webelement.WebElement (session=\"b1fe3365c7b9f90163abbef60d61a547\", element=\"488af730-04af-414d-bab1-771713a4af4a\")>,\n",
       " <selenium.webdriver.remote.webelement.WebElement (session=\"b1fe3365c7b9f90163abbef60d61a547\", element=\"6065631d-5d7c-4b38-b97e-4ed1c453f61c\")>,\n",
       " <selenium.webdriver.remote.webelement.WebElement (session=\"b1fe3365c7b9f90163abbef60d61a547\", element=\"d097e115-6ba4-45f1-8c31-8e1805c34d7d\")>,\n",
       " <selenium.webdriver.remote.webelement.WebElement (session=\"b1fe3365c7b9f90163abbef60d61a547\", element=\"b05e1746-0e6b-4647-a0eb-aac244591f24\")>,\n",
       " <selenium.webdriver.remote.webelement.WebElement (session=\"b1fe3365c7b9f90163abbef60d61a547\", element=\"37f13f81-5b44-40d8-bb46-9f5e28e1ffcb\")>,\n",
       " <selenium.webdriver.remote.webelement.WebElement (session=\"b1fe3365c7b9f90163abbef60d61a547\", element=\"86e02949-8133-4b18-afab-0cb9069c1d65\")>,\n",
       " <selenium.webdriver.remote.webelement.WebElement (session=\"b1fe3365c7b9f90163abbef60d61a547\", element=\"a36d17fe-8fd1-4d38-bc37-daae509716b1\")>,\n",
       " <selenium.webdriver.remote.webelement.WebElement (session=\"b1fe3365c7b9f90163abbef60d61a547\", element=\"fe75e5cd-d28b-449d-8796-a32d72dad93e\")>,\n",
       " <selenium.webdriver.remote.webelement.WebElement (session=\"b1fe3365c7b9f90163abbef60d61a547\", element=\"69df0a32-26c5-4dce-bd89-d6468b141434\")>,\n",
       " <selenium.webdriver.remote.webelement.WebElement (session=\"b1fe3365c7b9f90163abbef60d61a547\", element=\"adfe49da-72b2-4e12-822a-633498d7ca19\")>,\n",
       " <selenium.webdriver.remote.webelement.WebElement (session=\"b1fe3365c7b9f90163abbef60d61a547\", element=\"326d6aca-32b5-4d8f-b0e2-e7521ed32600\")>,\n",
       " <selenium.webdriver.remote.webelement.WebElement (session=\"b1fe3365c7b9f90163abbef60d61a547\", element=\"6e9d4552-3c9a-4e35-ad78-12f97dcb14bf\")>,\n",
       " <selenium.webdriver.remote.webelement.WebElement (session=\"b1fe3365c7b9f90163abbef60d61a547\", element=\"2cdf4cba-844d-4c93-990c-144afef26501\")>,\n",
       " <selenium.webdriver.remote.webelement.WebElement (session=\"b1fe3365c7b9f90163abbef60d61a547\", element=\"faba9560-f834-4027-b119-b3c1e77cff52\")>,\n",
       " <selenium.webdriver.remote.webelement.WebElement (session=\"b1fe3365c7b9f90163abbef60d61a547\", element=\"24d0b767-d43a-4619-a80a-92911e931d38\")>,\n",
       " <selenium.webdriver.remote.webelement.WebElement (session=\"b1fe3365c7b9f90163abbef60d61a547\", element=\"4ae60f97-1c2c-4927-acfc-8af781828063\")>,\n",
       " <selenium.webdriver.remote.webelement.WebElement (session=\"b1fe3365c7b9f90163abbef60d61a547\", element=\"dd446d55-dd82-4e44-9b5e-e608236ec608\")>,\n",
       " <selenium.webdriver.remote.webelement.WebElement (session=\"b1fe3365c7b9f90163abbef60d61a547\", element=\"9a6200f4-d93a-4490-a843-676cfc6f6975\")>,\n",
       " <selenium.webdriver.remote.webelement.WebElement (session=\"b1fe3365c7b9f90163abbef60d61a547\", element=\"9ab46dcb-1484-478d-aa53-c7aa53437b92\")>,\n",
       " <selenium.webdriver.remote.webelement.WebElement (session=\"b1fe3365c7b9f90163abbef60d61a547\", element=\"def557ef-559b-448f-b6fc-3831198ecd6b\")>,\n",
       " <selenium.webdriver.remote.webelement.WebElement (session=\"b1fe3365c7b9f90163abbef60d61a547\", element=\"0c418897-3791-4fdf-9eec-4bd2f14f3a3f\")>,\n",
       " <selenium.webdriver.remote.webelement.WebElement (session=\"b1fe3365c7b9f90163abbef60d61a547\", element=\"c5d575f9-5ec0-4843-b90d-315a9d2e3856\")>,\n",
       " <selenium.webdriver.remote.webelement.WebElement (session=\"b1fe3365c7b9f90163abbef60d61a547\", element=\"624c40ec-ffce-4f47-83a8-0f56e33c548a\")>,\n",
       " <selenium.webdriver.remote.webelement.WebElement (session=\"b1fe3365c7b9f90163abbef60d61a547\", element=\"9d902863-e80e-4ff0-b70a-8c5e1e5bc9f1\")>,\n",
       " <selenium.webdriver.remote.webelement.WebElement (session=\"b1fe3365c7b9f90163abbef60d61a547\", element=\"e568ca23-aa36-421b-b60b-760886478c6b\")>]"
      ]
     },
     "execution_count": 95,
     "metadata": {},
     "output_type": "execute_result"
    }
   ],
   "source": [
    "# 내용 크롤링\n",
    "overlays = \".se-component.se-text.se-l-default\"                                 \n",
    "contents = driver.find_elements_by_css_selector(overlays)    # contents\n",
    "contents"
   ]
  },
  {
   "cell_type": "code",
   "execution_count": 93,
   "metadata": {},
   "outputs": [
    {
     "data": {
      "text/plain": [
       "'주소 : 부산 부산진구 중앙대로 672 6층 602호\\n영업시간 : 매일 11:00-21:00\\n전화번호 : 051-520-3776\\n메뉴 : 도미솥밥 14,000원 / 소고기솥밥 15,000원'"
      ]
     },
     "execution_count": 93,
     "metadata": {},
     "output_type": "execute_result"
    }
   ],
   "source": [
    "contents[1].text"
   ]
  },
  {
   "cell_type": "code",
   "execution_count": 40,
   "metadata": {},
   "outputs": [
    {
     "data": {
      "text/plain": [
       "\"지난주 월요일 여자친구와 예비 처제, 동서와 4명이서 센터필드 맛집인 '차알' 역삼점에 다녀왔어요!\\n이번이 저에게는 3번째 차알 방문인데 역시 믿고먹는 중식당이었답니다ㅎㅎ\\n청첩모임으로 차알 판교점만 2번 갔었는데 역삼점은 처음이었어요. 위치는 지하철 역삼역에서 약 5분정도 걸으면 됩니다.\\n참고로 센터필드는 신규 오픈한 5성급 호텔인 조선팰리스가 있는 곳이에요! 새로 지은 빌딩이라 확실히 로비가 엄청 깔끔하고 고급지더라구요.\\n입구의 초대형 LED 화면에는 센터필드 건물 내 입점한 곳들에 대한 소개가 계속해서 보여지고 있었어요. 센터필드 지하2층엔 여러 레스토랑들이 모여있습니다.\\n'차알'도 그 중 한곳으로 지하2층에 있어요 :) 지하 2층에는 꽤 여러 음식점 및 카페들이 있었는데 사진과 같이 가게가 전부 오픈형식으로 구성되어 있어요.\\n아마도 룸으로 된 식당은 센터필드 지하2층에는 없지 않을까 싶습니다. 차알의 경우 영어로 'Cha R' 표시되어 있어요!\\n영업시간은 매일 오전11시~오후9시 입니다. 차알에서 식사를 할 경우 2시간 무료 주차 가능합니다.\\n다만, 다른 매장과 누적/중복 등록은 되지 않기 때문에 초과 시 10분당 1,500원의 사악한 주차비가 발생한다는 점 주의하세요!\\n인당 25,000원 이상 주문 시 콜키지프리더라구요~ 차알은 '아메리칸 차이니즈' 레스토랑입니다.\\n예전부터 일반적인 중식당이 아닌 아메리칸을 강조하는 이유가 뭘까 궁금했는데\\n미국 차이나타운 레시피를 재해석 했기 때문이라고 하네요ㅎㅎ 내부 인테리어는 약간 '홍콩' 느낌이 났어요.\\n평범했던 판교점과는 전혀 다른 인테리어더라구요 ㅎㅎ\\n괜히 중화권에서 음식 먹는 느낌이 드는건 기분탓이겠죠..? 대략 20테이블 정도 있었던거 같아요.\\n회사 회식으로 온 팀도 있던데 회식장소로도 괜찮은거 같네요ㅎㅎ 전 청첩장 모임으로도 완전 추천! 메뉴는 클릭하시면 크게 확대해서 볼 수 있습니다!\\n딤섬, 누들, 라이스, 치킨 등 상당히 많은 종류의 메뉴가 있어서 살짝 선택장애가 오긴 합니다.\\n저흰 딤섬 1종류와 마라탕면, 깐풍가지새우를 먼저 먹고\\n오렌지치킨과 볶음밥을 추가로 주문해서 먹었답니다. 중식당 답게 당연히 고량주도 팔았는데 '아메리칸'이 붙어서인지 와인도 팔던게 색달랐어요ㅎㅎ\\n그리고 연태하이볼이라는건 처음봤는데 연태 고유의 향과 하이볼 향의 조합이 어떨지 궁금하더라구요. 기본세팅이구요.\\n이제 우리가 먹었던 음식 소개 갑니다~~ 음식은 연달아서 빨리 나왔어요.\\n그래서 깨끗한 한 상을 사진으로 찍을 수 있었네요ㅎㅎ\\n음식 먹을 때 끊기면 안되는데 빠릿빠릿 나와서 좋았습니다 '바질하교'\\n3pcs에 8,000원이고 1개 추가 시 2,500원입니다.\\n저희는 4명이서 당연히 4pcs로 시켰구요~\\n포동포동 새우가 터지는 본연의 맛을 느끼기 위해서 골랐습니다ㅎㅎ 피도 상당히 쫄깃하고 다진 새우임에도 통통 터지는 촉감을 느낄 수 있더라구요!\\n안에 뜨거운 즙이 풍족히 있다보니 한입에 먹다간 입천장 데이니 조심하세요ㅠㅠ '오렌지 치킨'\\n치킨과 오렌지의 조합은 상상만으로는 정말 이상할 거 같죠..?\\n근데 처음 차알을 방문 했을 때 먹어보고 항상 올 때 마다 먹는 메뉴입니다ㅎㅎ 향긋한 오렌지향이 분명 나는데 치킨의 맛을 잡아먹을 정도는 아니고 오묘하게 적절한 조화가 진짜 맛있어요!\\n치킨도 전혀 딱딱하지도 않고 부드러워서 좋았어요. '연태하이볼'\\n연태고량주는 호불호가 있기도하고 높은 도수에 걱정하시는 분들이 있을텐데\\n일단 도수 걱정은 1도 안해도 됩니다.\\n다만 연태 고유의 향은 확실하게 나구요.\\n연태고량주는 별로 첨가 되지 않은 듯 했어요.\\n고량주 느낌은 찾아 볼 수 없었고 음료수 같았습니다.\\n고량주 비율 조절 가능하면 좋을 듯 합니다ㅎㅎ '차알 마라탕면'\\n흔히 생각하는 마라탕과는 조금 달라요.\\n우선 면 선택은 따로 안되고 짬뽕면입니다.\\n제가 알던 마라향과는 확실히 다른 차알만의 퓨전 마라탕 같았는데 처음 접하는 사람도 거부감 없이 먹을 수 있을거에요! 매콤한거 좋아하는 사람에겐 딱이에요!\\n그렇다고 막 엄청 매워서 땀나고 그정돈 아니기 때문에 맵찔도 충분히 먹을만 합니다. '깐풍마늘가지새우'\\n양꼬치집에서 먹는 가지볶음을 상당히 좋아하는데 그 느낌에 매콤하면서 새우까지 들어가있으니\\n비싸도 저에게 있어서는 최고의 베스트 메뉴였습니다. 가지 따로, 새우 따로가 아니라 두 개가 붙어있어요ㅋㅋ 내일 출근이지만 고량주를 안시킬 수가 없었습니다. 살짝 아쉬워 '게살볶음밥' 추가요~\\n다들 배부른데 새우깡마냥 계속 손이가던 메뉴였죠ㅋㅋ\\n혼밥을 하기엔 살짝 양이 작을 수도 있을거 같은데 2명이서 면메뉴와 딤섬, 볶음밥 이렇게 먹으면 점심으로 최고의 조합이지 않을까 싶습니다. 단품만 보면 양이 작아보였는데 막상 4명이서 5개 메뉴를 먹었더니 모두 배가 너무 불렀어요.\\n메뉴마다 모두 안이 꽉 차게 압축되서 나온 느낌이랄까나요?\\n그리고 시켰던 메뉴들은 전부 하나같이 진짜 찐으로 맛있었습니다. 차알은 확실히 믿고먹는 체인식당입니다!\\n다만 중식 메뉴 자체가 기름이 많다보니 너무 많이 먹으면 니글거릴 수도 있을 거 같아요.\\n적당히 음주류와 함께 즐기시면 더 맛있게 먹을 수 있지 않을까 싶습니다ㅎㅎ\\n'일부 메뉴에 한해 '차알'에서 제공받아 솔직하게 작성한 글입니다'\""
      ]
     },
     "execution_count": 40,
     "metadata": {},
     "output_type": "execute_result"
    }
   ],
   "source": [
    "content_list = []\n",
    "for content in contents:\n",
    "    content_list.append(content.text)\n",
    "\n",
    "content_str = ' '.join(content_list)                         # content_str\n",
    "content_str"
   ]
  },
  {
   "cell_type": "code",
   "execution_count": 41,
   "metadata": {},
   "outputs": [],
   "source": [
    "# 글 하나는 target_info라는 딕셔너리에 담기게 되고,\n",
    "target_info['title'] = title\n",
    "target_info['nickname'] = nickname\n",
    "target_info['datetime'] = datetime\n",
    "target_info['content'] = content_str"
   ]
  },
  {
   "cell_type": "code",
   "execution_count": 42,
   "metadata": {},
   "outputs": [
    {
     "data": {
      "text/plain": [
       "{'title': '[역삼 맛집] 센터필드 차알 역삼점, 역시나 맛은 실망시키지 않는 중식 레스토랑!',\n",
       " 'nickname': '여행하지마리오',\n",
       " 'datetime': '2021. 12. 1. 12:00',\n",
       " 'content': \"지난주 월요일 여자친구와 예비 처제, 동서와 4명이서 센터필드 맛집인 '차알' 역삼점에 다녀왔어요!\\n이번이 저에게는 3번째 차알 방문인데 역시 믿고먹는 중식당이었답니다ㅎㅎ\\n청첩모임으로 차알 판교점만 2번 갔었는데 역삼점은 처음이었어요. 위치는 지하철 역삼역에서 약 5분정도 걸으면 됩니다.\\n참고로 센터필드는 신규 오픈한 5성급 호텔인 조선팰리스가 있는 곳이에요! 새로 지은 빌딩이라 확실히 로비가 엄청 깔끔하고 고급지더라구요.\\n입구의 초대형 LED 화면에는 센터필드 건물 내 입점한 곳들에 대한 소개가 계속해서 보여지고 있었어요. 센터필드 지하2층엔 여러 레스토랑들이 모여있습니다.\\n'차알'도 그 중 한곳으로 지하2층에 있어요 :) 지하 2층에는 꽤 여러 음식점 및 카페들이 있었는데 사진과 같이 가게가 전부 오픈형식으로 구성되어 있어요.\\n아마도 룸으로 된 식당은 센터필드 지하2층에는 없지 않을까 싶습니다. 차알의 경우 영어로 'Cha R' 표시되어 있어요!\\n영업시간은 매일 오전11시~오후9시 입니다. 차알에서 식사를 할 경우 2시간 무료 주차 가능합니다.\\n다만, 다른 매장과 누적/중복 등록은 되지 않기 때문에 초과 시 10분당 1,500원의 사악한 주차비가 발생한다는 점 주의하세요!\\n인당 25,000원 이상 주문 시 콜키지프리더라구요~ 차알은 '아메리칸 차이니즈' 레스토랑입니다.\\n예전부터 일반적인 중식당이 아닌 아메리칸을 강조하는 이유가 뭘까 궁금했는데\\n미국 차이나타운 레시피를 재해석 했기 때문이라고 하네요ㅎㅎ 내부 인테리어는 약간 '홍콩' 느낌이 났어요.\\n평범했던 판교점과는 전혀 다른 인테리어더라구요 ㅎㅎ\\n괜히 중화권에서 음식 먹는 느낌이 드는건 기분탓이겠죠..? 대략 20테이블 정도 있었던거 같아요.\\n회사 회식으로 온 팀도 있던데 회식장소로도 괜찮은거 같네요ㅎㅎ 전 청첩장 모임으로도 완전 추천! 메뉴는 클릭하시면 크게 확대해서 볼 수 있습니다!\\n딤섬, 누들, 라이스, 치킨 등 상당히 많은 종류의 메뉴가 있어서 살짝 선택장애가 오긴 합니다.\\n저흰 딤섬 1종류와 마라탕면, 깐풍가지새우를 먼저 먹고\\n오렌지치킨과 볶음밥을 추가로 주문해서 먹었답니다. 중식당 답게 당연히 고량주도 팔았는데 '아메리칸'이 붙어서인지 와인도 팔던게 색달랐어요ㅎㅎ\\n그리고 연태하이볼이라는건 처음봤는데 연태 고유의 향과 하이볼 향의 조합이 어떨지 궁금하더라구요. 기본세팅이구요.\\n이제 우리가 먹었던 음식 소개 갑니다~~ 음식은 연달아서 빨리 나왔어요.\\n그래서 깨끗한 한 상을 사진으로 찍을 수 있었네요ㅎㅎ\\n음식 먹을 때 끊기면 안되는데 빠릿빠릿 나와서 좋았습니다 '바질하교'\\n3pcs에 8,000원이고 1개 추가 시 2,500원입니다.\\n저희는 4명이서 당연히 4pcs로 시켰구요~\\n포동포동 새우가 터지는 본연의 맛을 느끼기 위해서 골랐습니다ㅎㅎ 피도 상당히 쫄깃하고 다진 새우임에도 통통 터지는 촉감을 느낄 수 있더라구요!\\n안에 뜨거운 즙이 풍족히 있다보니 한입에 먹다간 입천장 데이니 조심하세요ㅠㅠ '오렌지 치킨'\\n치킨과 오렌지의 조합은 상상만으로는 정말 이상할 거 같죠..?\\n근데 처음 차알을 방문 했을 때 먹어보고 항상 올 때 마다 먹는 메뉴입니다ㅎㅎ 향긋한 오렌지향이 분명 나는데 치킨의 맛을 잡아먹을 정도는 아니고 오묘하게 적절한 조화가 진짜 맛있어요!\\n치킨도 전혀 딱딱하지도 않고 부드러워서 좋았어요. '연태하이볼'\\n연태고량주는 호불호가 있기도하고 높은 도수에 걱정하시는 분들이 있을텐데\\n일단 도수 걱정은 1도 안해도 됩니다.\\n다만 연태 고유의 향은 확실하게 나구요.\\n연태고량주는 별로 첨가 되지 않은 듯 했어요.\\n고량주 느낌은 찾아 볼 수 없었고 음료수 같았습니다.\\n고량주 비율 조절 가능하면 좋을 듯 합니다ㅎㅎ '차알 마라탕면'\\n흔히 생각하는 마라탕과는 조금 달라요.\\n우선 면 선택은 따로 안되고 짬뽕면입니다.\\n제가 알던 마라향과는 확실히 다른 차알만의 퓨전 마라탕 같았는데 처음 접하는 사람도 거부감 없이 먹을 수 있을거에요! 매콤한거 좋아하는 사람에겐 딱이에요!\\n그렇다고 막 엄청 매워서 땀나고 그정돈 아니기 때문에 맵찔도 충분히 먹을만 합니다. '깐풍마늘가지새우'\\n양꼬치집에서 먹는 가지볶음을 상당히 좋아하는데 그 느낌에 매콤하면서 새우까지 들어가있으니\\n비싸도 저에게 있어서는 최고의 베스트 메뉴였습니다. 가지 따로, 새우 따로가 아니라 두 개가 붙어있어요ㅋㅋ 내일 출근이지만 고량주를 안시킬 수가 없었습니다. 살짝 아쉬워 '게살볶음밥' 추가요~\\n다들 배부른데 새우깡마냥 계속 손이가던 메뉴였죠ㅋㅋ\\n혼밥을 하기엔 살짝 양이 작을 수도 있을거 같은데 2명이서 면메뉴와 딤섬, 볶음밥 이렇게 먹으면 점심으로 최고의 조합이지 않을까 싶습니다. 단품만 보면 양이 작아보였는데 막상 4명이서 5개 메뉴를 먹었더니 모두 배가 너무 불렀어요.\\n메뉴마다 모두 안이 꽉 차게 압축되서 나온 느낌이랄까나요?\\n그리고 시켰던 메뉴들은 전부 하나같이 진짜 찐으로 맛있었습니다. 차알은 확실히 믿고먹는 체인식당입니다!\\n다만 중식 메뉴 자체가 기름이 많다보니 너무 많이 먹으면 니글거릴 수도 있을 거 같아요.\\n적당히 음주류와 함께 즐기시면 더 맛있게 먹을 수 있지 않을까 싶습니다ㅎㅎ\\n'일부 메뉴에 한해 '차알'에서 제공받아 솔직하게 작성한 글입니다'\"}"
      ]
     },
     "execution_count": 42,
     "metadata": {},
     "output_type": "execute_result"
    }
   ],
   "source": [
    "target_info"
   ]
  },
  {
   "cell_type": "code",
   "execution_count": 43,
   "metadata": {},
   "outputs": [],
   "source": [
    "# 각각의 글은 dict라는 딕셔너리에 담기게 됩니다.\n",
    "dict[i] = target_info"
   ]
  },
  {
   "cell_type": "code",
   "execution_count": 44,
   "metadata": {},
   "outputs": [
    {
     "data": {
      "text/plain": [
       "{2: {'title': '[역삼 맛집] 센터필드 차알 역삼점, 역시나 맛은 실망시키지 않는 중식 레스토랑!',\n",
       "  'nickname': '여행하지마리오',\n",
       "  'datetime': '2021. 12. 1. 12:00',\n",
       "  'content': \"지난주 월요일 여자친구와 예비 처제, 동서와 4명이서 센터필드 맛집인 '차알' 역삼점에 다녀왔어요!\\n이번이 저에게는 3번째 차알 방문인데 역시 믿고먹는 중식당이었답니다ㅎㅎ\\n청첩모임으로 차알 판교점만 2번 갔었는데 역삼점은 처음이었어요. 위치는 지하철 역삼역에서 약 5분정도 걸으면 됩니다.\\n참고로 센터필드는 신규 오픈한 5성급 호텔인 조선팰리스가 있는 곳이에요! 새로 지은 빌딩이라 확실히 로비가 엄청 깔끔하고 고급지더라구요.\\n입구의 초대형 LED 화면에는 센터필드 건물 내 입점한 곳들에 대한 소개가 계속해서 보여지고 있었어요. 센터필드 지하2층엔 여러 레스토랑들이 모여있습니다.\\n'차알'도 그 중 한곳으로 지하2층에 있어요 :) 지하 2층에는 꽤 여러 음식점 및 카페들이 있었는데 사진과 같이 가게가 전부 오픈형식으로 구성되어 있어요.\\n아마도 룸으로 된 식당은 센터필드 지하2층에는 없지 않을까 싶습니다. 차알의 경우 영어로 'Cha R' 표시되어 있어요!\\n영업시간은 매일 오전11시~오후9시 입니다. 차알에서 식사를 할 경우 2시간 무료 주차 가능합니다.\\n다만, 다른 매장과 누적/중복 등록은 되지 않기 때문에 초과 시 10분당 1,500원의 사악한 주차비가 발생한다는 점 주의하세요!\\n인당 25,000원 이상 주문 시 콜키지프리더라구요~ 차알은 '아메리칸 차이니즈' 레스토랑입니다.\\n예전부터 일반적인 중식당이 아닌 아메리칸을 강조하는 이유가 뭘까 궁금했는데\\n미국 차이나타운 레시피를 재해석 했기 때문이라고 하네요ㅎㅎ 내부 인테리어는 약간 '홍콩' 느낌이 났어요.\\n평범했던 판교점과는 전혀 다른 인테리어더라구요 ㅎㅎ\\n괜히 중화권에서 음식 먹는 느낌이 드는건 기분탓이겠죠..? 대략 20테이블 정도 있었던거 같아요.\\n회사 회식으로 온 팀도 있던데 회식장소로도 괜찮은거 같네요ㅎㅎ 전 청첩장 모임으로도 완전 추천! 메뉴는 클릭하시면 크게 확대해서 볼 수 있습니다!\\n딤섬, 누들, 라이스, 치킨 등 상당히 많은 종류의 메뉴가 있어서 살짝 선택장애가 오긴 합니다.\\n저흰 딤섬 1종류와 마라탕면, 깐풍가지새우를 먼저 먹고\\n오렌지치킨과 볶음밥을 추가로 주문해서 먹었답니다. 중식당 답게 당연히 고량주도 팔았는데 '아메리칸'이 붙어서인지 와인도 팔던게 색달랐어요ㅎㅎ\\n그리고 연태하이볼이라는건 처음봤는데 연태 고유의 향과 하이볼 향의 조합이 어떨지 궁금하더라구요. 기본세팅이구요.\\n이제 우리가 먹었던 음식 소개 갑니다~~ 음식은 연달아서 빨리 나왔어요.\\n그래서 깨끗한 한 상을 사진으로 찍을 수 있었네요ㅎㅎ\\n음식 먹을 때 끊기면 안되는데 빠릿빠릿 나와서 좋았습니다 '바질하교'\\n3pcs에 8,000원이고 1개 추가 시 2,500원입니다.\\n저희는 4명이서 당연히 4pcs로 시켰구요~\\n포동포동 새우가 터지는 본연의 맛을 느끼기 위해서 골랐습니다ㅎㅎ 피도 상당히 쫄깃하고 다진 새우임에도 통통 터지는 촉감을 느낄 수 있더라구요!\\n안에 뜨거운 즙이 풍족히 있다보니 한입에 먹다간 입천장 데이니 조심하세요ㅠㅠ '오렌지 치킨'\\n치킨과 오렌지의 조합은 상상만으로는 정말 이상할 거 같죠..?\\n근데 처음 차알을 방문 했을 때 먹어보고 항상 올 때 마다 먹는 메뉴입니다ㅎㅎ 향긋한 오렌지향이 분명 나는데 치킨의 맛을 잡아먹을 정도는 아니고 오묘하게 적절한 조화가 진짜 맛있어요!\\n치킨도 전혀 딱딱하지도 않고 부드러워서 좋았어요. '연태하이볼'\\n연태고량주는 호불호가 있기도하고 높은 도수에 걱정하시는 분들이 있을텐데\\n일단 도수 걱정은 1도 안해도 됩니다.\\n다만 연태 고유의 향은 확실하게 나구요.\\n연태고량주는 별로 첨가 되지 않은 듯 했어요.\\n고량주 느낌은 찾아 볼 수 없었고 음료수 같았습니다.\\n고량주 비율 조절 가능하면 좋을 듯 합니다ㅎㅎ '차알 마라탕면'\\n흔히 생각하는 마라탕과는 조금 달라요.\\n우선 면 선택은 따로 안되고 짬뽕면입니다.\\n제가 알던 마라향과는 확실히 다른 차알만의 퓨전 마라탕 같았는데 처음 접하는 사람도 거부감 없이 먹을 수 있을거에요! 매콤한거 좋아하는 사람에겐 딱이에요!\\n그렇다고 막 엄청 매워서 땀나고 그정돈 아니기 때문에 맵찔도 충분히 먹을만 합니다. '깐풍마늘가지새우'\\n양꼬치집에서 먹는 가지볶음을 상당히 좋아하는데 그 느낌에 매콤하면서 새우까지 들어가있으니\\n비싸도 저에게 있어서는 최고의 베스트 메뉴였습니다. 가지 따로, 새우 따로가 아니라 두 개가 붙어있어요ㅋㅋ 내일 출근이지만 고량주를 안시킬 수가 없었습니다. 살짝 아쉬워 '게살볶음밥' 추가요~\\n다들 배부른데 새우깡마냥 계속 손이가던 메뉴였죠ㅋㅋ\\n혼밥을 하기엔 살짝 양이 작을 수도 있을거 같은데 2명이서 면메뉴와 딤섬, 볶음밥 이렇게 먹으면 점심으로 최고의 조합이지 않을까 싶습니다. 단품만 보면 양이 작아보였는데 막상 4명이서 5개 메뉴를 먹었더니 모두 배가 너무 불렀어요.\\n메뉴마다 모두 안이 꽉 차게 압축되서 나온 느낌이랄까나요?\\n그리고 시켰던 메뉴들은 전부 하나같이 진짜 찐으로 맛있었습니다. 차알은 확실히 믿고먹는 체인식당입니다!\\n다만 중식 메뉴 자체가 기름이 많다보니 너무 많이 먹으면 니글거릴 수도 있을 거 같아요.\\n적당히 음주류와 함께 즐기시면 더 맛있게 먹을 수 있지 않을까 싶습니다ㅎㅎ\\n'일부 메뉴에 한해 '차알'에서 제공받아 솔직하게 작성한 글입니다'\"}}"
      ]
     },
     "execution_count": 44,
     "metadata": {},
     "output_type": "execute_result"
    }
   ],
   "source": [
    "dict"
   ]
  },
  {
   "cell_type": "code",
   "execution_count": null,
   "metadata": {},
   "outputs": [],
   "source": []
  },
  {
   "cell_type": "code",
   "execution_count": null,
   "metadata": {},
   "outputs": [],
   "source": []
  },
  {
   "cell_type": "code",
   "execution_count": null,
   "metadata": {},
   "outputs": [],
   "source": []
  },
  {
   "cell_type": "code",
   "execution_count": null,
   "metadata": {},
   "outputs": [],
   "source": []
  },
  {
   "cell_type": "markdown",
   "metadata": {},
   "source": [
    "## 위에 코드들을 for문으로 한번에 "
   ]
  },
  {
   "cell_type": "code",
   "execution_count": 32,
   "metadata": {
    "colab": {
     "referenced_widgets": [
      "90fd656a8c42421bbe133fdcd0598bc6"
     ]
    },
    "id": "XFXmQgE8-kvu",
    "outputId": "132915b2-033b-43b1-997c-cc5609dbf776",
    "scrolled": true
   },
   "outputs": [
    {
     "data": {
      "application/vnd.jupyter.widget-view+json": {
       "model_id": "a66468805b1d4bd38e49ca8d40d70c62",
       "version_major": 2,
       "version_minor": 0
      },
      "text/plain": [
       "  0%|          | 0/20 [00:00<?, ?it/s]"
      ]
     },
     "metadata": {},
     "output_type": "display_data"
    },
    {
     "name": "stdout",
     "output_type": "stream",
     "text": [
      "0 찬란했던 울산 삼산 맛집 모음\n",
      "1 만족했었던 울산 삼산 맛집 리스트\n",
      "2 매력터진 울산 삼산 맛집 모음 \n",
      "3 매력있는 울산 삼산 맛집 공유\n",
      "4 우수했던 울산 삼산 맛집 리스트 \n",
      "5 엄지들었던 울산 삼산 맛집 소개\n",
      "6 느낌있는 울산 삼산 맛집 리스트 \n",
      "7 뛰어난 울산 삼산 맛집 리스트 \n",
      "8 끄덕였던 울산 삼산 맛집 모음\n",
      "9 울산 삼산 맛집 연말데이트 분위기 좋은 레스토랑 더본테이블 \n",
      "10 칭찬했던 울산 삼산 맛집 리스트\n",
      "11 울산 삼산 맛집 단골하고 싶은 촌놈밥집\n",
      "12 울산삼산맛집 울산 삼산 해산물 조개갈비찜맛집 위찜\n",
      "13 울산삼산맛집 데이트코스 한우오마카세 우주인 \n",
      "14 삼산 맛집, 뇨끼와 샥슈카가 맛있는 브런치 레스토랑 1616\n",
      "15 울산 삼산 초밥맛집 혁이네 \n",
      "16 울산 삼산 맛집, 해운대31cm해물칼국수\n",
      "17 울산 삼산 맛집 온리육 다녀와봤어요.\n",
      "18 울산 삼산 쌀국수 해외 느낌 제대로인 맛집\n",
      "19 울산 삼산 맛집 / 숙성돼지고기 진리 온리육 \n",
      "수집한 글 갯수:  20\n",
      "{0: {'title': '찬란했던 울산 삼산 맛집 모음', 'nickname': '빨간머리 샹크스\\n(vnawmd9233)', 'datetime': '2021. 12. 23. 16:42', 'content': '지난 주말에는 친구 생일을 축하할 겸 미리 예약해둔 울산 삼산 맛집에 다녀왔어요.\\n레트로한 실내 인테리어와 고급스러운 한우요리까지 만족스러웠던 곳이라 소개해볼게요. 이번에 방문한 고깃집은 울산고속버스터미널에서 차로 2분만에 도착했어요.\\n입구 앞에 야외화로가 시선을 집중시켜 반경 삼십미터 전부터 손쉽게 발견할 수 있었어요. 건너편에 공영주차장이 마련되어있어 수월하게 파킹을 해두었어요.\\n영업시간은 평일 오후 세시부터 새벽 다섯시까지이고, 주말에는 12시부터라고 하니 이 점 알아두시면 좋겠죠! 실내로 들어서보니 푸근한 분위기의 홀이 우리를 반겼어요.\\n테이블간 간격이 널찍하게 떨어진 것을 확인하니 같이 간 일행들 모두 안심하는 눈치였는데요. 한켠에는 단체석이 보였어요.\\n폴딩도어로 완전히 구분되어있길래 담번에 모임이 생기면 이용해봐야겠다는 생각이 들더라고요~ 안내받은 자리에 착석한 뒤 메뉴판을 살펴보았어요.\\n울산 삼산 맛집에서는 다양한 소 부위가 나열되어 있었는데, 저희는 서버분께서 추천해주신 안심을 시키기로 결정했답니다. 주문을 마치고나면 기본찬들부터 하나 둘씩 세팅되는데요.\\n따로 요청드리지 않아도 개인접시를 하나씩 챙겨주시는 센스에 감사하다고 얘기했어요. 맨 먼저 식욕을 끌어올리기 위해 상추겉절이를 맛보았어요.\\n오더 즉시 무쳐나온 듯이 꼬숩하게 간이 배어있어 입 대자마자 한 그릇을 클리어했어요. 이어서 새빨간 색감의 오징어젓갈에 손을 댔어요.\\n특제양념장에 절여져나와 씹자마자 깊은 풍미를 자아내어 젓가락질이 쉴 틈이 없더라고요. 그런가하면 소스류는 구운소금를 비롯해 육장, 와사비, 막장 총 네 가지로 다채롭게 구성되어 있었답니다. 그 옆으로 계란찜이 서브되었어요.\\n위에는 송송 썰린 대파가 함께 올라가서 신선한 조합이라 먹기 전에 인증샷부터 한 장 찍어보았어요. 재빨리 달걀을 한큰술 퍼먹었어요.\\n비리기 쉬운 알류인데도 깔끔한 감칠맛이 훌륭해서 첫 입만에 울산 삼산 맛집이라는 확신이 생겼어요. 이윽고 이 날의 주인공이던 소고기를 맛볼 차례였어요.\\n표면에 분홍빛 육색과 뽀얀 지방층의 비율이 적절하게 믹스되어있어 맛에 대한 의심 따위는 저 멀리 날아갔어요. 곧바로 달궈진 불판에 투하해주었어요.\\n동시에 맛깔스러운 육향이 코로 빨려들어와서 나도 모르게 군침을 꼴깍하고 삼키게 되더라고요. 잠시 후 노릇해지면 부담없는 크기로 커팅을 시작했어요.\\n이곳은 고기들도 2주 이상 숙성시킨다던데, 힘들이지 않고도 쉽사리 잘려나가서 깜짝 놀랐답니다. 기다릴 필요도 없이 살코기를 냠 먹어주었어요.\\n확실히 플러스등급 한우답게 육류 특유의 잡내는 1도 안 나고 담백하기만해서 울산 삼산 맛집까지 찾아온 보람이 느껴졌어요. 단독으로도 괜찮았지만, 통참깨를 넣고 센 불에 달달 볶아낸 천일염에 콕 찍어먹는 게 꿀조합이었어요~ 그 중에서도 제 취향을 저격해준 건 토시살이었는데요.\\n구석에는 곁들여 먹을 청양고추와 새송이버섯도 서비스로 제공해주셔서 저절로 미소가 피어났어요. 냉큼 고깃살을 입 속으로 쏘옥 직행해주었어요.\\n기름기가 많은 부위라 걱정했는데, 막상 먹어보니 질긴 감 없이 쫀득함의 극치여서 울산 삼산 맛집으로 사랑받는 이유를 알겠더라고요. 그리고 명이나물과의 궁합도 대박적이었는데요.\\n가운데에다 편마늘을 한 조각 살포시 얹어주면 갈릭의 알싸함이 원육의 기름기를 중화시켜주어 나름 미식가인 절친도 극찬을 아끼지 않았답니다. 중간에 냉면 맛은 어떨지 궁금해져서 추가했어요.\\n양은 대접 안에 무고명과 완숙란, 오이, 살얼음육수까지 산더미처럼 쌓여있어 울산 삼산 맛집의 후한 인심을 느낄 수 있었어요. 이건 식초와 연겨자를 한 바퀴 씩 빙글~ 둘러주면 먹을 준비 완료였고요! 본격적으로 면발을 후루룩 면치기했어요.\\n다른 전문점들과는 달리 자가제면으로 뽑아내어 탱탱함이 남달라서 배부르지만 한 가닥도 남기지 않았답니다. 여기에는 갓김치를 올려먹는 게 최고였던 것 같아요.\\n적당한 기간동안 발효되어 나와서인지 향긋함이 강렬해서 식사 내내 두 번 이상 리필을 요청했어요. 마무리는 된장찌개로 장식하기로 했어요.\\n뜨거운 돌판에 담겨져나와서 마지막까지 따끈하게 즐길 수 있다는 점이 메리트로 다가왔는데요. 한 김 식혀준 후 국물을 후룹 떠마셨어요.\\n차돌박이가 듬뿍 더해진 만큼 음미할수록 구수함이 스멀스멀 올라와서 마지막까지도 나무랄 데가 없었어요. 나가는 길에는 커피머신이 남아있었어요.\\n산뜻한 원두맛이 텁텁해진 입 안을 말끔하게 씻어내려주어 입가심까지 완벽했던 울산 삼산 맛집이었어요~  그린실버 고향이좋다 314회에도 출연한 한정식집.\\n인당 5만5천원짜리 단오 한정식을 시키면 전복찜, 구절판, 대하구이까지 메인 요리만 세 가지나 내어주셔서 성인 남녀들도 배가 터져나갈 뻔 했음. 성대한 1층홀 전체를 운영하고 있는 카페로 반려동물 출입도 가능한 곳.\\n복숭아우유도 괜찮았지만, 온두라스산 생두로 핸드드립한 아메리카노 위에 수제 바닐라빈 시럽을 듬뿍 뿌려낸 바닐라테가 훨씬 존맛이었다. 삼산동 행정복지센터에서 도보로 10분쯤 걸어가면 보이는 이탈리안 레스토랑.\\n특제 토마토 소스에다가 홍합과 칵테일 새우, 현미쌀, 파슬리를 달달 볶은 해산물 토마토 리조또(1만8천원)가 히든 메뉴였음. 울산에서만 십년 넘게 장사하고 있는 칼국수 전문점으로 생방송 투데이 2920회에 출연하여 더욱 유명해진 곳.\\n백퍼센트 수타반죽하셔서인지 쫄깃한 식감이 일반 칼국수와는 급이 달랐다.\\n본 포스팅은, 업체로부터 소정의 원고료를 지원받아 작성된 후기입니다.'}, 1: {'title': '만족했었던 울산 삼산 맛집 리스트', 'nickname': '애쉬', 'datetime': '2021. 11. 19. 12:50', 'content': '지난 주 오랜만에 만난 고등학교 친구들과 함께 울산 삼산 맛집에 다녀왔어요. 합리적인 가격에 매콤한 쭈꾸미를 맛깔나게 먹고 와 여러분께 소개해드릴께요. 이 날 찾아간 곳은 삼산동 현대백화점 뒷편 공영주차장 근처에 위치해있어서 헤메지 않고 쉽게 찾아올 수 있었어요. 눈에 확 들어오는 간판에 한눈에 들어오더라고요. 매장 앞엔 입간판이 세워져있었어요. 한눈에 볼 수 있게 메뉴들을 정리해놓으셔서 들어가기전에 어떤걸 먹어야할지 쉽게 고를 수 있었어요. 영업시간도 안내되어있었는데 오전 11시부터 밤 11시까지라고 적혀있었어요. 실내로 입장해보니 온화한 분위기의 깔끔한 내부가 시선을 끌었어요. 피크인 시간에 방문해서인지 이미 식사를 하러 오신분들이 꽤 계셨어요. 한켠엔 가족단위 손님들을 위한 아기의자도 마련되어있었는데요. 대충 훑어봐도 청결한 모습이 위생에 힘 쓰시는 듯 보였어요. 친절하신 직원분의 안내에 따라 자리에 착석한 뒤 저희는 불쭈꾸미세트 2인과 치즈퐁듀, 통새우튀김을 주문해줬어요.  주문을 하고 얼마지나지않아 음식들이 차례차례 차려졌어요. 따로 요청을 드리지 않아도 개인 앞접시를 내어주셔서 감사하다고 말씀드렸어요. 제일 먼저 입 맛을 돋우기위해 샐러드부터 맛보았어요. 드레싱이 마구 뿌려진게 아삭한 채소와의 조합이 자꾸만 손이 가더라고요. 이어서 묵사발에도 손을 대보았어요. 살얼음이 동동 떠있는 모습이 보기만해도 속시 시원해지는거 같았는데요. 양도 어찌나 푸짐하게 내어주셨는지 울산 삼산 맛집 사장님의 인심을 되돌아보게되었어요. 그런가하면 계란찜도 기본 상차림으로 나와줬어요. 큼지막한 뚝배기에 포슬포슬한 계란이 한 숟갈 먹으면 멈출 수 없는 맛이였어요. 사이드로 주문한 통새우튀김도 바삭하게 튀겨진 모습이 보는 내내 군침이 흘렀어요. 그대로 집어 먹어보니 바삭! 하는 소리가 모두의 이목을 집중시켰어요. 다음은 폭 쪄진 만두를 집어보았어요. 얇은 만두피의 속이 꽉찬 만두를 베어물어보니 육즙이 주륵 흘러나와 단번에 울산 삼산 맛집이라는 확신이 생겼어요. 고르곤졸라피자도 나와줬는데 이 가격에 이런 구성이라니 남으시는게 있을지 괜시리 걱정도 되더라고요. 냉큼 꿀에 콕 찍어 음미해봤어요. 짭조름한 치즈와 달달한 꿀이 함께 어우러져 미식가인 친구도 아주 흡족스러워 했어요. 이윽고 울산 삼산 맛집의 쭈꾸미를 맛 볼 차례였어요. 매콤한 불향이 솔솔 올라와 코를 자극해 어느새 입 안엔 군침이 고여있었어요. 냉큼 단일로 집어 입 속으로 넣어보니 입 안 가득 감싸는 불향이 매력적이였고 구미 당기는 매운 맛이 일품이였어요. 매콤함을 중화시키기위해 콩나물과 함께 곁들여봤어요. 아삭한 콩나물이 식감도 살려줘 먹는 재미도 있었어요. 그중에서도 제 최애조합은 바로 치즈퐁듀와의 콜라보였어요. 이렇게 미니화로에 직접 치즈를 녹여주시는데 어찌나 꼬수운향이 코를 자극하던지 정신없이 구경했어요. 젓가락을 들어보니 치즈가 쭈욱~ 늘어나는게 질 좋은 치즈를 사용하시는거 같더라고요. 서둘러 쭈꾸미를 한 점 집어 풍덩 담궈 냠 먹어보았어요. 살짝 식힌 치즈가 쫀득함을 더해주고 쭈꾸미의 베인 불향과는 환상의 조합이였어요. 집밥보다 맛있었던 솥밥도 나와주는데 김이 모락모락 나는게 맨 밥만 먹어도 한끼 뚝딱할거같은 비주얼이였어요. 그릇에 덜어내 김가루와 콩나물, 쭈꾸미를 함께 넣어 비벼줬어요. 비비는 내내 금새 또 식욕이 100% 충전되 울산 삼산 맛집에 찾아온 보람이 느껴졌어요. 한큰술 떠 먹어보았어요. 빨간양념임에도 자극적이지않고 특히 밥과는 찰떡궁합이라 울산 삼산 맛집의 클래스를 돌이켜보게 됐어요. 덜어낸 돌솥에 물을 부어 미리 누룽지를 만들어놨어요. 아직도 뜨거움을 과시하며 모락모락 김이 올라와 제대로 된 누룽지를 맛볼 수 있겠구나 싶었어요. 후루룩 한 입 떠먹으니 구수함이 어찌나 끝내주던지 먹는 내내 입가엔 미소가 끊이지 않았어요. 식사를 마친 뒤에는 식당 내부에 마련된 커피머신에서 직접 아메리카노도 내려주셨어요. 쌉쌀한 내음이 웬만한 전문전 저리가라더라고요. 따로 카페를 갈 필요없이 한자리에서 모든게 가능했던 울산 삼산 맛집은 모두 만족스러워해서 다음번엔 부모님과 함께 방문해봐야겠어요! 울산업스퀘어 맞은편에 위취한 샤브샤브 전문 식당 입니다. 샤브샤브에 국물이 쉬원하면서도 고기에 퀄리티가 좋아 쫄깃한 식감까지 느낄수 있으면서 샐러드바가 무한리필이라 양껏 먹을수 있는 곳이에요. 울산 롯데 백화점 에서 도보로 약 3분정도 거리에 위치해있는 생선구이 전문점 입니다. 생선구이 정식을 시키면 다양한 밑반찬들이 나와 먹을게 많고 생선에서 비린맛이 1도 안나서 맛있게 먹었던 곳 입니다. 롯데시티호텔 뒷편에 위치한 엔틱함이 가득한 테일러카페 입니다. 분위기는 물론 커피 맛이 상당히 좋은데요. 시그니쳐 메뉴론 캬라멜 버터라떼(육천오백원)이있는데 상당 달콤하면서도 목넘김이 부드러운게 인상적이었어요. 삼산동 현대백화점 정문 맞은편에 위치한 이탈리음식점이에요. 쉐프님의 아이디어로 제철 재료들만 사용하요 요리를 해주시는데 매번 갈때마다 메뉴가 달라지는 색다른 경험을 할수 있어요.\\n본 포스팅은, 업체로부터 소정의 원고료를 지원받아 작성된 후기입니다.'}, 2: {'title': '매력터진 울산 삼산 맛집 모음 ', 'nickname': '김공\\n(lovely_k_mk)', 'datetime': '2021. 12. 15. 7:00', 'content': '주말엔 친구 생일을 축하하려고 미리 점찍어둔 울산 삼산 맛집에 다녀왔어요. 유니크한 실내 인테리어와 특색 있는 동남아 요리까지 매력이 넘쳤던 곳이라 소개할께요. 계란볶음밥 5,500 주소\\n울산 남구 삼산로 231. 센트럴자이 더 테라스가든 107호\\n 전화번호\\n052-271-3377\\n 영업시간\\n매일 11:30~22:00\\n브레이크타임 15:00~16:00 (평일만)\\n라스트오더 21:00\\n 주차가능\\n건물 주차장 이용가능  저희가 찾은 팬아시아는 울산고속버스터미널에서 차로 4분 만에 도착했는데요. 입구에 걸린 파란색 간판에 큼직한 글씨로 상호명이 적혀 있어 쉽게 발견했습니다. 들어갈 땐 위생수칙 준수를 당부하셨어요. 손 소독은 물론 QR체크까지 완료한 후 자리를 안내받게 되었어요. 금세 쾌적한 분위기의 홀이 저희를 맞이했어요. 테이블끼리 간격도 널찍한 편이었고, 제법 깔끔하게 정돈되어 있어 안심했어요. 또 시그니처 메뉴의 할인 가격도 표시되어 있었어요. 맛도 좋지만 가성비까지 만점이라고 하니 맘껏 시켜도 부담 없겠다 싶었죠. 빈자리에 착석 후 메뉴판을 살펴봤어요. 친절하게 울산 삼산 맛집의 사진도 프린트되어 있어 고르기 편했습니다. 얼마 지나지 않아 상차림이 나오기 시작했어요. 덮밥과 튀김류 등 하나같이 넘칠 듯이 담아주셔서 따로 추가할 필요성을 느끼지 못했답니다! 먼저 소복하게 담긴 파카파오무삽으로 워밍업 해봤어요. 다양한 야채와 탱글한 돼지고기, 그리고 꼬소한 계란반숙까지 전체적인 밸런스가 뛰어났어요. 특히나 고기는 갓 볶아져 나온 것 마냥 향긋했어요. 식감도 탱글했을 뿐 아니라 씹자마자 밀려오는 진한 향미에 웃음이 떠나질 않더라구요. 그냥 먹어도 맛있었지만 계란 반숙과도 찰떡궁합이었어요. 톡 터뜨려 입속에 넣으니 씹자마자 혀에 촥 감기는 식감까지 잊을 수가 없었어요. 드디어 주문했던 메인 분짜가 모습을 드러냈어요. 울산 삼산 맛집의 손맛이 담긴 음식이라 비주얼부터 향긋함까지 기가 막혔어요. 냉큼 집어 먹었던 돼지고기는 단짠단짠한 소스랑 잘 어울렸어요. 씹자마자 입안 가득 퍼지는 육즙의 감칠맛에 칭찬세례를 터뜨리게 됐어요. 추가로 울산 삼산 맛집의 짜조도 마음껏 음미해봤어요. 서로 다른 식감과 맛을 자랑하며 알찬 구성으로 나와줬더라구요. 뿐만 아니라 버미셀리면은 찰기가 넘치고 아주 쫀쫀해서 쌀국수 같은 묘미를 함께 즐길 수 있어서 대만족했네요. 한움큼 고기를 집어서 상큼한 샐러드를 곁들였더니 고소한 육즙 사이로 달착지근한 채즙이 한껏 어우러져 기가 막혔습니다. 커다란 접시에 담겨 나온 치킨 앤 캐슈넛도 식기 전에 즐겨봤어요. 주문 즉시 튀겨져 나와서 도톰한 살코기와 노르스름한 컬러감이 인상 깊었어요. 냉큼 먹기 좋은 크기의 튀김을 입안으로 골인 시켰어요. 퍽퍽하면 어쩌나 걱정했는데, 하나도 그렇지 않고 야들하게 살살 녹아서 깜짝 놀랐어요. 특히 아삭한 샐러드를 곁들일 때가 입맛에 딱 맞았어요. 씹을 때마다 흘러나오는 달큰한 육즙이 새콤한 채즙과 잘 어울려서 자꾸만 먹고 싶어지는 조합이었어요. 이후에는 울산 삼산 맛집의 스파이시갈릭쉬림프를 맛보려고 시선을 돌렸어요. 양념 빛깔이 어찌나 불그스름한지 보기만 해도 침이 꼴깍 넘어갔어요. 서둘러 큼지막한 쉬림프 한덩이 집어올려 입에 쏙 넣어줬어요. 생각보다 간이 자극적이지 않고 은근히 달착지근해서 밥도둑이 따로 없구나 싶었어요. 이번에는 샐러드까지 쉬림프 위에 올려 한입 가득 넣어봤어요. 프레쉬함이 가득 느껴지는 생양상추라 잡내 하나 없이 개운한 게 끝내줬어요. 어느새 요청드렸던 스페셜 씨푸드 쌀국수도 테이블 위로 나타났어요. 이름대로 국물이 아주 시원해 보이는 데다 해산물도 잔뜩이라 감탄을 금치 못했어요. 빠르게 꽃게를 건져 올려 살을 발라 먹어봤어요. 부들부들한 살점을 씹을수록 향긋한 국물이 배어나와 신세계가 따로 없었던 울산 삼산 맛집이에요. 여기다가 가리비까지 젓가락으로 집어 들고 맛을 봤어요. 싱싱함이 살아있는 고퀄리티 해산물답게 비린내 일절 없이 감칠맛이 찐이었네요. 특히나 울산 삼산 맛집의 새우는 머리째 맛보았는데요. 살점뿐 아니라 내장까지 비리지 않고 꼬순맛이 진동해 새우의 참맛을 제대로 만끽했습니다. 친절한 서비스와 고급미 넘치는 식사까지 맘에 쏙 들었는데요. 함께 온 친구들도 대만족한 곳이라 다음번엔 부모님 모시고 함께 와보려구요~ 크루아상 3,500원 주소\\n울산 남구 번영로15번길 20-9. dy플라자 1층 메종드앙클\\n 전화번호\\n0507-1359-3730\\n 영업시간\\n매일 10:30 - 20:00\\n라스트오더 19:30\\n월 정기휴무\\n 겉바속촉한 크루아상 맛이 끝내줬던 메종드앙클. 저온숙성시킨 반죽을 사용해 맛이 깔끔하고 풍미가 좋아 빵순이인 친구도 극찬하고 왔어요. 블랙라떼 변동 주소\\n울산 남구 번영로166번길 17\\n 전화번호\\n0507-1441-3135\\n 영업시간\\n매일 11:00 - 21:00\\n 커피 마시러 찾아간 울산그레블커피는 감각적인 인테리어로 꾸며져 구경하기 좋았던 곳이에요. 갓 로스팅한 원두로 내려주신 카페라떼 한 모금의 풍미도 기가 막혔습니다. 마늘짬뽕 6,500원 주소\\n울산 남구 대공원입구로21번길 40. 격동원룸\\n 전화번호\\n0507-1422-3697\\n 영업시간\\n매일 11:00 - 20:30\\n매주 일요일 휴무\\n매일 15:00 - 17:00 브레이크 타임 \\n 해산물 가득한 짬뽕 먹으러 찾은 뽕마레예요. 싱싱한 해물을 듬뿍 넣고 푹 끓여낸 짬뽕은 향긋함이 찐했고 면발 역시 찰기 넘치는 식감이라 훌륭했어요. 돼지국밥 8,000원 주소\\n울산 남구 돋질로302번길 9\\n 전화번호\\n052-256-9855\\n 영업시간\\n매일 10:00 - 22:00\\n일 정기휴무\\n 돼지국밥 좋아하는 지인이 추천한 대밭골돼지국밥에 다녀왔는데 육수가 엄청 진하고 개운했어요. 육즙을 잔뜩 머금은 돼지고기가 들어가서 씹는 맛도 남달라 중독성 있었네요.\\n소정의 원고료를 받아 작성했습니다.'}, 3: {'title': '매력있는 울산 삼산 맛집 공유', 'nickname': '애블', 'datetime': '2021. 12. 23. 17:00', 'content': '지난 주말 절친들과 함께 점심 약속이 있어 지인에게 추천받은 울산 삼산 맛집을 찾아가게 됐어요. 담백한 카레와 입맛을 돋구는 메뉴들이 완벽해 마음에 든 곳이에요.\\n1. 소코아 삼산점\\n주소 : 울산 남구 왕생로62번길 16\\n번호 : 052-700-9737\\n운영시간 : 매일 11:30 - 21:00 B.T 15:00 - 17:00\\n대표메뉴 : 에비카레 9,000원  이날 찾아간 소코아는 롯데호텔울산에서 걸어서 십분도 안걸려서 도착할 수 있었어요. 건물모퉁이유리에 큼직하게 상호가 붙어 있어서 처음방문하는데도 어렵지 않게 찾을 수 있었답니다. 안으로 들어가면 높은 층고의 홀이 우리를 반겨주었어요. 영업시간은 매일 오전 11시반부터 밤 9시까지고 중간에 브레이크타임고 있으니 참고하세요 ❢ 반대쪽에는 오픈형 주방이 있어서 요리를 하시는 모습을 실시간으로 감상할 수 있었어요. 먼지한톨없이 청결하게 관리까지 되어 있어서 위생에 대한 걱정은 싹 날려버릴 수 있었답니다. 곳곳에 인테리어 소품들이 있어서 눈으로 구경하는 즐거움을 더해주었어요. 워낙 유명한곳이라 그런지 점심을 먹기엔 다소 이른시간인데도 곳곳에 손님들이 많으시더라고요. 자리에 착석 후 차림표를 살펴보았어요. 울산 삼산 맛집은 첫방문이라 다양한 걸 경험해보고 싶어서 마음에 드는 걸 하나씩 주문해보기로 했어요. 십오분 정도 뒤에는 메인요리들을 하나씩 내어주셨어요. 감성을 더한 플레이팅이 너무 예뻐보여서 와하는 탄성이 내뱉어졌답니다. 기본적인 피클을 준비해주시기 때문에 질리지않고 즐길 수 있더라고요. 고추는 물론이고 양파, 양배추까지 잔뜩이라 취향에 따라 골라먹을수도 있어요. 메인이었던 소코아카레는 3가지를 하나로 즐길 수 있다는 점이 매리트가 있었어요. 인기가 많은 구성들은 예쁜 밥공기에 모아두니 인증샷을 남길 수 밖에 없었답니다. 개인적으로는 감칠맛이 일품이 에비카레가 마음에 들었어요. 소스가 엄청 촉촉하고 해산물이 들어 있어서 시원함까지 더해지니 순식가에 하나를 비워내게 만들었어요. 이번에는 잘싹 덩어러진 토리카레를 먹어볼 차례였어요. 다양한 향이 코끝을 자극해주니 엄청 먹음직스러워 군침이 꼴깍하고 삼켜졌답니다. 먹는 방법을 모를 때는 직원분께 여쭤보면 엄청 친절하게 알려주셨어요. 따로 먹고 싶을 땐 밥을 딱 퍼올려서 중간에 있는걸 올려서 먹어주면 순차적으로 다양한 향신료의 맛이 밀려온답니다. 개인적으로는 야무지게 소스가 스며들 수 있도록 비벼주는게 최고였어요. 중간중간 씹히는 고기에도 간이 잘 스며들어 있어서 울산 삼산 맛집을 인정하게 만들었어요. 또다른 소코동은 스테이크 위로 계란 노른자를 예쁘레 올려주셨어요. 토시살이라서 질길줄 알았는데 몇번 씹지도 않고 목구멍으로 사르르 녹아내려 깜짝 놀라고 말았답니다. 중앙에 있는 계란을 따로 건져주면 속에는 양념이 된 양파들이 들어 있었어요. 한번 살짝 익혀내기 때문에 특유의 매운맛없이 달달함이 일품이었어요. 고기는 육즙이 빠져나오지 않도록 구워내 주셔서 한입 씹자마자 육향이 폭발했어요. 부드럽게 씹히면서 밥알과의 조화도 잘 맞아서 다들 시키길 잘했다며 얘기할 정도였답니다. 살짝 짭쪼롬한 소스를 중화시킬 땐 계란 흰자를 올려주면 됐어요. 보들보들한데 뭔가 구름같기도 하고 풍미가 깊어서 울산 삼산 맛집을 찾아온 보람이 느껴질 정도에요. 이번엔 다른 소스에 듬뿍 찍어서 감칠맛을 더해주었어요. 노른자와 흰자를 으깨서 버무려주면 고소함이 추가되어서 숟가락을 내려놓기 힘들게 하더라고요. 그런가하면 연어동은 마리네이드 숙성을 거친 두툼한 연어가 한가득 올라가 있었어요. 밥이 보이지 않을 정도로 양이 많아서 울삼 삼산 맛집의 푸짐한 인심을 경험할 수 있었답니다. 따로 무순과 와사비를 빼내어 취향에따라 올려먹어주면 됐어요. 와사비도 가루형태가 아니라 생이라 미식가인 친구도 칭찬일색이었네요. 밥을 듬뿍 퍼서 큼직한 연어를 위에 얹어주었어요. 살이 너무 흐물거리지 않고 탄력이 있는데다가 생각보다 느끼하지 않아서 울산 삼산 맛집의 클라쓰를 알수 있었답니다. 또다른 맛이 궁금하여 고구마치즈크로켓을 추가해보았어요. 기름에 튀겨내서 반으로 갈랐는데 속에서 고소한 냄새가 테이블위로 가득 퍼지더라고요. 위에 소스가 담뿍 뿌려져 있었는데도 하나도 눅눅하지가 않았어요. 바스락 거리는 소리가 귓가에 울려퍼지면서 속에 있는 고구마무스의 달달함이 입안가득 전달되더라고요. 크기가 엄청 커서 하나만 맛봐도 입안을 가득 채워주었어요. 튀김옷이 너무 두껍지 않는데다가 치즈가 아낌없이 들어 있어서 울산 삼산 맛집에서 폭풍먹방을 하게 되었네요. 특히 속에 있는 치즈가 쭈욱 늘어나서 디저트로 먹기에도 손색이 없었어요. 모짜렐라치즈와 고구마의 조합은 두말할것도 없이 완벽해 오랫동안 여운이 가시지 않았어요. 개운하게 에이드로 마무리를 해주니 배가 엄청 부르더라고요. 생과일을 갈아 넣었는지 산미가 살아 있어서 텁텁함을 단번에 잡아주던 울산 삼산 맛집은 쉽게 잊혀지지 않을 것 같아요. 2. 달동생아구\\n주소 : 울산 남구 번영로156번길 12\\n번호 : 052-269-3771\\n운영시간 : 매일 10:30 - 22:30\\n대표메뉴 : 아구찜 35,000원 매콤한 양념장과 함께 듬뿍 들어있는 콩나물과 먹는 야들야들한 살이 일품이었음. 채소들도 적당하게 들어 있고 생각보다 양이 무척 많아서 여럿이서 나눠먹어도 푸짐하여 다음에 한번 더 찾아가고 싶음.\\n3. 최고집보쌈\\n주소 : 울산 남구 신정로78번길 26-1\\n번호 : 052-257-1188\\n운영시간 : 매일 17:00 - 23:30\\n대표메뉴 : 쟁반국수 10,000원 국내산 생삼겹을 오랫동안 삶아내서 너무 텁텁하지 않고 부들부들한 고기를 먹을 수 잇었던 곳. 상큼함이 대박이었던 김치도 괜찮았지만 꼬들함이 살아 있는 무말랭이와 막국수를 먹으면 일품이다.\\n4. 브라운시티\\n주소 : 울산 남구 삼산로273\\n번호 : 052-265-3937\\n운영시간 : 매일 19:00 - 02:00\\n대표메뉴 : 갓파더 17,000원 루프탑을 운영하고 있어서 야경을 바라보며 술을 한잔 할 수 있었던 칵테일바. 주황색의 주명과 함께 모던한 느낌의 인테리어가 있어서 데이트를 하기에도 손색이 없었다. 배합이 잘되어 있어서 칵테일도 맛있고 직원분들도 친절했음.\\n5. 카페발코니\\n주소 : 울산 남구 번영로75번길 25\\n번호 : 0507-1350-1480\\n운영시간 : 매일 09:00 - 23:00\\n대표메뉴 : 생크림크루와상 7,500원 2층을 통으로 운영하고 있고 화이트톤으로 되어 있는 실내는 인생샷을 찍을 수 있다는 점이 괜찮았다. 다양한 브런치메뉴를 판매하고 있는데 아침일찍 오픈을 해서 빠르게 맛볼수도 있고 재료들도 신선해서 괜찮음. '}, 4: {'title': '우수했던 울산 삼산 맛집 리스트 ', 'nickname': '조꽁', 'datetime': '2021. 12. 16. 11:13', 'content': '그저께는 친한 친구들과 모임이 생겨서\\n숯불구이 전문점으로 유명한 울산 삼산 맛집에 다녀왔어요. \\n수준 높은 바베큐맛과 다정다감한 서비스까지 \\n전부 만족스러웠던 곳이라 공유해 드릴게요!  이날 방문한 곳은 삼산동 우체국에서 \\n차로 십분도 안 걸려서 도착했어요. \\n입구 앞에 번쩍거리는 네온사인이 매달려 있어\\n초행길임에도 한 번에 발견했어요.  가까이에 공영주차장이 완비되어 있어 \\n편하게 파킹하고 내렸어요. \\n참고로, 영업시간은 매일 오후 다섯시부터 \\n새벽 두시까지라고 써져 있었답니다.  내부로 입장해 보니 \\n통유리로 탁 트인 홀이 \\n우리를 반겼어요. \\n고깃집인데도 바닥이 미끈거림 없이 뽀송해서 \\n위생에 예민한 제 눈에도 합격이었어요.  한편에는 유아 의자가 세워져 있었는데요. \\n언뜻 봐도 튼튼해 보이는 플라스틱 재질이라 \\n아가 키우는 지인에게도 소개해 줘야겠다는 \\n생각이 들었어요.  창가 쪽에 착석한 뒤 \\n차림판을 살펴보았어요. \\n울산 삼산 맛집에서는 \\n다양한 부위의 원육을 판매 중이었는데, \\n저희는 직원분께서 추천해 주신 목살부터 시켰어요!  오더를 마치고 나면 \\n기본 상부터 빠르게 차려지는데요. \\n따로 요청드리지 않아도 개인 접시를 \\n넉넉하게 가져다주셔서 감사하다고 얘기했어요.  먼저 입맛을 돋우기 위해 \\n파김치를 맛보았어요. \\n울산 삼산 맛집은 유기농 야채들만을 취급하신다던데, \\n향긋함이 강렬해서 입대자마자 한 그릇을 클리어했어요.  다음으로 무 절임에 손을 댔어요. \\n식초에 절여진 건데도 과하게 시지 않고 \\n은은하게 새콤해서 젓가락질이 점차 빨라졌어요.  옆에 있던 소스류는 \\n히말라야 핑크 솔트, 와사비, 간장 등 \\n총 여섯 가지로 구성되어 있더라고요.  그런가 하면 김치찌개가 서비스로 나오는데요. \\n달궈진 뚝배기에 제공되어 나와 \\n처음부터 끝까지 식지 않고 \\n즐길 수 있다는 게 장점이었어요.  냉큼 국물을 후룹 떠먹었어요. \\n묵은지가 듬뿍 들어간 만큼 음미할수록 매큼해져서\\n숟가락을 내려놓기가 힘들었어요.  어느 정도 허기를 달래고 나면 목살이 등장했어요. \\n표면에 선홍빛깔 마블링이 화려하게 박혀 있어 \\n신선도에 대한 의심 따위는 날아갔던 순간이에요!  곧장 불판에 투하해 주었어요. \\n동시에 맛깔스러운 육향이 후각을 자극해 주어 \\n일행들 모두 군침을 꼴깍하고 삼켰어요.  잠시 후 초벌 후 고기를 가위로 커팅 했어요. \\n다른 전문점들과 달리 강하게 힘을 들이지 않아도 \\n숭덩~ 잘려나가 울산 삼산 맛집이라는 확신이 생겼답니다.  일단 살코기만 냠 먹어 봤어요. \\n확실히 1등급 한돈답게 베어 물자마자\\n담백한 육즙이 주르륵 흘러나와 \\n고기 잡내에 민감한 저한테도 괜찮았어요.  단독으로도 맛있었지만, \\n멸치 육젓과 물엿을 혼합해 만든 멜젓에 \\n퐁당 담가 먹는 게 울산 삼산 맛집만의 꿀 조합이었죠!  그중에서도 제 취향을 저격했던 건 껍데기였어요. \\n이때 서버분이 돼지고기는 14일 동안 숙성시키는 거라고 \\n친절하게 설명해 주시더라고요.  서둘러 고기 살을 입속으로 직행했는데요. \\n겉면에 칼집을 내어 주셔서 그런지 몇 번 \\n오물거리지도 않고 목구멍으로 꿀떡 넘어가서 \\n기억에 또렷이 남았어요.  틈틈이 콩나물을 곁들여 먹기도 했어요. \\n가운데에다 편마늘을 살포시 얹어주면 \\n알싸한 갈릭향이 육류의 기름기를 싸악 잡아주어 \\n씹을 때마다 감탄사를 연발했어요.  중간에 쫄면 맛은 어떨지 궁금해져서 추가했어요. \\n매운 걸 워낙 사랑하는 편이라 새빨간 색감만 봐도\\n자동으로 카메라를 들게 되었답니다.  위에 있던 다대기와 채소 무침을 \\n슥슥 비벼 섞어주면 먹을 준비 완료에요!  연이어 면발을 호로록 면치기 했어요. \\n주문 즉시 삶아져 나와 퍼진감없이 쫄깃 탱탱해서 \\n미식가인 절친도 칭찬했어요.  마무리는 10분 밥으로 장식하기로 했어요. \\n대접 안에 마른 김과 계란 프라이, 깨소금이 \\n산더미처럼 쌓여 있어 울산 삼산 맛집의\\n인심을 인정하게 됐어요.  이윽고 밥 한 큰 술을 퍼먹었는데요. \\n삼삼했던 쌀알 사이에 꼬숩한 버터가 쏙 배어드니 \\n숟가락을 내려놓기가 힘들었어요.  여기에는 씨앗 젓갈을 더해먹는 게 최고였던 것 같아요. \\n비리기 쉬운 젓갈이라 걱정했는데 막상 먹어보니 \\n감칠맛이 터져 나와 식사 내내 두 번이나 리필 받았어요!  이번에 알게 된 울산 삼산 맛집은\\n무엇보다 주방장님의 요리 솜씨가 대단해서 \\n조만간 가족들을 데리고 다시 와 볼 예정이에요.  울산 중앙청과시장에서 약 800m 정도 \\n떨어져 있는 이탈리안 레스토랑. \\n유기농 칼라마타유에다가 홍합과 새우, 페페론치노, \\n엔젤헤어면을 달달 볶은 해산물 오일 파스타 \\n(1만6천 원)가 인기 메뉴였다.  울산에서만 십년 넘게 장사 중인 칼국수 전문점으로 \\n모닝와이드 7357회에 방영되어 더욱 유명해진 곳. \\n백퍼센트 수타반죽하셔서인지 쫄깃한 면발이 \\n일반 칼국수와는 수준이 달랐음. 울산고속버스터미널에서 도모로 7분쯤 걸어가면 \\n보이는 생선요리 전문점. \\n1만 5천 원짜리 갈치구이정식을 시키면 5가지 제철 반찬부터\\n된장찌개, 갈치구이까지 제공되어 나와 남자 둘이서도 \\n배가 터질 뻔했다.  성대한 일층 홀을 통으로 운영하고 있는 카페로 \\n반려동물 출입도 가능한 곳. \\n망고에이드도 괜찮았지만, 고온에서 멸균한 우유 위에 수제\\n딸기청을 듬뿍 얹어 낸 딸기라떼가 훨씬 취향 저격이었음. \\nFin. \\n본 포스팅은 업체로부터 소정의 원고료를 지원받아 작성된 후기입니다. '}, 5: {'title': '엄지들었던 울산 삼산 맛집 소개', 'nickname': '퍼만', 'datetime': '2021. 11. 29. 21:32', 'content': '지난 수요일에는 지인 부부와 모처럼 친목모임겸 미리 서치해둔 울산 삼산 맛집에 다녀왔어요. 합리적인 가격대에 고퀄리티 소고기구이를 두루 먹고온 곳이라 지금부터 소개해드리리려고요~ 주소 : 울산 남구 달삼로 35 \\n번호 : 052-227-2259\\n운영시간 : 15:00 - 05:00 이날 방문한 고깃집은 울산KBS에서 차로 십분도 안걸려서 도착했어요. 입구앞에 미니정원이 펼쳐져있어 약 오십미터 전부터 한번에 발견했어요. 가까이에 공영주차장이 완비되어있어 수월하게 파킹하고 내렸어요. 참고로, 영업시간은 낮 3시부터 새벽 5시까지인데, 주말은 오후 열두시부터라고 안내되어있더라고요. 실내로 입장해보니 쾌적하게 관리된 홀이 우리를 반겼어요. 식탁마다 간격이 널널하게 떨어져있어 코시국에도 일행들 모두 안심하고 식사했어요. 한켠에는 단체석이 마련되어있었는데요. 얼핏봐도 열명은 수용가능한 규모라 담번에는 예약하고 와봐야겠다고 다짐했어요. 빈자리에 앉아 차림판을 읽어보앗어요. 울산 삼산 맛집에서는 다양한 소 부위를 판매중이었는데, 저희는 직원분께서 추천해주신대로 등안심을 시켰어요! 오더를 마치고나면 기본상이 빠르게 차려지는데요. 따로 요청드리지 않아도 개인접시를 넉넉하게 가져다주셔서 감사하다고 얘기했어요. 먼저 허기를 달래줄 콘샐러드에 손이 갔어요. 마요네즈 베이스인데도 마냥 느끼하지않고 적당히 고소해서 입대자마자 한그릇을 클리어했어요. 연이어 상추겉절이를 입속으로 직행했어요. 울산 삼산 맛집은 유기농 채소만을 사용하신다던데, 향긋함이 강렬해서 젓가락질이 점점 빨라졌답니다. 그런가하면 소스류는 소금, 간장, 막장, 와사비 총 네가지로 구성되어있더라고요. 때마침 계란찜이 서브되었어요. 달궈진 뚝배기에 제공되어나와 끝까지 식지않고 즐길수 있다는게 메리트였어요. 한김 식혀준후 달걀을 퍼먹었는데요. 물조절을 잘해주셔서그런지 몇번 씹지도않고 목구멍으로 쏘옥 넘어가서 아직도 기억에 남아요. 어느정도 입맛을 돋우고나면 등심을 맛볼 차례였어요. 표면에 새하얀 마블링이 선명하게 박혀있길래 굽기전에 인증샷부터 한컷 찍었어요. 기다릴 필요도없이 불판에 투하해주었어요. 동시에 맛깔스러운 육향이 코를 찔러주어 나도모르게 군침이 꿀꺽 넘어갔어요. 겉면이 노릇해지면 가위로 커팅했어요. 다른 전문점들과 달리 강하게 힘을 들이지 않아도 부드럽게 잘려나가 울산 삼산 맛집이라는 확신이 생겼어요. 처음에는 살코기만 냠 먹어봤어요. 확실히 1++ 등급 한우답게 베어물자마자 담백한 육즙이 팡 터져나와 고기잡내에 예민한 저한테도 괜찮았어요. 단독으로도 맛있었지만, 연겨자와 생고추냉이를 섞어만든 특제양념장에 콕 묻혀먹는게 울산 삼산 맛집만의 꿀조합이었어요! 그중에서도 제 취향을 저격한건 갈비살이었던것 같아요. 이때 서버분이 14일간 숙성시킨다고 친절하게 설명해주시더라고요. 본격적으로 명이나물쌈을 싸먹었는데요. 야들한 육질과 아삭한 야채의 치감이 순차적으로 밀려와서 울산 삼산 맛집까지 찾아온 보람이 느껴졌어요. 중간에 육회맛은 어떨지 궁금해져서 추가했어요. 구석에는 서비스용 배와 무순이 담겨있었는데, 저희 4명이서 먹기에도 충분한 양이었어요. 함께 나온 레몬즙을 한바퀴 삥~ 둘러주면 먹을준비 완료랍니다! 냉큼 육사시미를 집어먹었어요. 참기름이 듬뿍 들어간만큼 음미할수록 꼬숩함이 진해져서 미식가인 친구도 흡족해하더라고요. 마지막은 된장찌개로 장식하기로 했어요. 대접안에 두부와 애호박, 팽이버섯, 대파가 수북하게 쌓여있어 사장님의 인심을 극찬하게 됐어요. 한바탕 바글바글 끓여준뒤 국물을 떠먹었어요. 재래식 집된장으로 조리하신듯이 구수함이 넘사벽이라 숟가락을 내려놓기가 힘들었어요. 여기에는 오징어젓을 더해먹는게 최고였어요. 자칫 물러지기 쉬운 젓갈이라 걱정했는데 막상 맛보니 쫀득해서 먹는내내 두번이나 리필받았답니다. 나가는 길에는 커피머신이 세워져있었어요. 생원두로 추출해서인지 쌉싸름함이 일품이라 입가심까지 완벽했어요! 이번에 알게된 울산 삼산 맛집은 맛과 가성비는 물론, 다정다감한 서비스까지 만족스러웠던 곳이라 조만간 가족들을 데리고 다시 와볼 예정이에요. 주소 : 울산 남구 화합로 116\\n번호 : 052-227-4888\\n운영시간 : 매일 11:00 - 21:30 오성급 호텔 출신인 쉐프님이 직접 조리해주시는 중화요리 전문점.\\n인당 5만원짜리 코스를 시키면 칠리왕새우, 특냉채, 샥스핀, 유린기까지 메인 요리만 네 가지나 내어주셔서 성인 남자들도 배가 빵빵하게 불렀음. 주소 : 울산 남구 대학로1번길 3-35 1층\\n번호 : 0507-1406-5863\\n운영시간 : 매일 11:30 - 22:00 장엄한 한옥 건물을 통째로 운영하고 있는 카페로 자체 로스팅 센터도 보유 중인 곳.\\n기본 아메리카노도 훌륭했지만, 저온에서 살균한 우유 위에 수제 딸기청을 듬뿍 얹어낸 딸기라떼가 훨씬 존맛탱이었다. 주소 : 울산 남구 삼산중로84번길 11-13 1층\\n번호 : 070-4032-7775\\n운영시간 : 매일 11:30 - 22:00 울산고속버스터미널에서 도보로 11분쯤 걸어가면 보이는 양식집.\\n특제 토마토 소스에다가 생바질과 갈릭 오일, 베이컨, 엔젤헤어면을 달달 볶은 씨푸드 베이컨 토마토 스파게티(1만7천원)가 시그니처였음. 주소 : 울산 중구 함월14길 54\\n번호 : 052-988-2788\\n운영시간 : 매일 11:30 - 21:00 울산에서만 십년 넘게 장사하고 있는 칼국수 전문점으로 모닝와이드 7357회에 출연하여 더욱 입소문 난 곳.\\n수타반죽한 생면으로만 만들어주셔서인지 탱글한 식감이 일반 칼국수와는 차원이 달랐다.\\n본 포스팅은, 업체로부터 소정의 원고료를 지원받아 작성된 후기입니다.'}, 6: {'title': '느낌있는 울산 삼산 맛집 리스트 ', 'nickname': '알짜배기', 'datetime': '2021. 9. 17. 10:51', 'content': '친구들과 오랜만에 만나서 약속 장소를 찾아보다가 서치해뒀던 울산 삼산 맛집에 갔다왔어요.\\n이국적인 요리들이 많아 생소한 것도 있었지만 \\n한국인 입에 맞게 만들어져서 너무 맛있게 먹고 왔던 곳이랍니다.  이날 방문한 팬아시아는 울산 현대백화점에서 차로 3분이면 도착 가능한데요.\\n외국느낌 나는 건물이 시선을 엄청 끌어서 멀리서도 알아볼 수 있었어요.  들어가는 출입구는 야자나무들이 있어서 이국적인 분위기가 뿜뿜하더라구요.\\n참고로 운영시간은 11시 30분부터 22시까지인데 \\n평일만 15시부터 16시까지 브레이크타임이 있다는거 참고하세요. 이내 안으로 가니 깔끔하게 정리된 테이블들이 돋보였는데요. \\n거기다 리뉴얼한 인테리어가 마치 발리에 온 것 같은 느낌을 들게해서 완전 여심저격이었어요 :D 게다가 테이블 간격도 널찍해서 거리두며 식사가 가능했는데요. \\n투명 칸막이도 곳곳에 설치 되어 있어서 이런 것에 예민한 친구도 안심하더라구요.  테이블 위에 이벤트 안내 내용이 적혀 있어서 한번 살펴봤는데요. \\n경품들이 대단하길래 꼭 참여를 해야겠다는 생각이 들었네요.  편하게 자리에 앉은 뒤 울산 삼산 맛집 메뉴판을 하나씩 훑어봤어요. \\n다양한 메뉴들이 많았는데 여러가지를 같이 먹을 수 있는 가성비 좋은 세트메뉴가 많이 보이더라구요. 샐러드와 에피타이저, 밥 등의 메뉴는 플레이팅이 예뻐서 대접받는 느낌이 들게했는데요. \\n저희는 고민하다 베트남 플레이트를 포함한 메뉴로 주문을 했답니다. 기다리는 동안 잠시 가게 구경을 마저 해봤는데요. \\n한쪽에 유아용식기까지 셋팅을 해주신 것을 보고 사장님의 남나른 센스를 느낄 수 있었네요.  어느새 주문한 메뉴들을 테이블에 가득 차려주셨어요. \\n다채로운 종류와 알록달록한 담음새가 푸짐하게 보여서 항공샷을 바로 찍어줬어요.  울산 삼산 맛집 첫스타트는 상큼하게 야채로 시작했어요. \\n한 입 먹어보니 상큼한 채즙이 입 안 가득 퍼져나와 싱싱하다는 것을 알 수 있었어요.  고소한 향을 풍기던 스파이시 갈릭쉬림프는 주문 즉시 만들어 주셔서 따뜻하더라구요. \\n그리고 상큼한 드레싱이 곁들여진 샐러드와의 조합도 매우 잘 어울렸어요.  짜조와 통새우도 플레이트에 담겨져 나왔는데요. \\n바삭한 식감과 부드러운 식감을 같이 느낄 수 있어 감칠맛이 상당했네요.  또한 돼지고기도 포함이 되어 있어서 하나를 들어 맛을 봤어요. \\n고기 자체가 너무 부들부들해서 퍽퍽할 것이라는 편견이 깨지며 폭풍흡입을 할 수 있었어요 :) 그런가하면 짜조는 별미중에 별미였는데요. \\n여러가지 야채가 어우려져 라이스페이퍼의 바삭거리는 식감이 끝내줬어요.  같이 주신 울산 삼산 맛집 느억맘 소스에도 찍어서 먹어봤는데요.\\n새콤달콤한 맛이 느끼할 수 있는 튀김 맛을 잡아줘서 친구들에게 인기가 매우 많았어요.  미니 샌드위치는 작은 크기가 한 젓가락에 바로 잡히더라구요. \\n상큼한 채소와 고소한 바게트빵의 조화로움이 완벽해 입맛을 더욱 살려줬네요.  울산 삼산 맛집 버미셀리면은 접시 한 가득 챙겨주셨는데요. \\n양을 넉넉하게 챙겨주셔서 여러명이서 나눠 먹었는데도 충분히 푸짐해서 좋았어요.  돼지고기와 소스를 같이 먹는 법을 추천해주시길래 맛봤는데요. \\n촉촉해진 고기가 꼬들한 면과 어우려져 깔끔하게 떨어지는 맛이 손을 놓지 못하게 만들었어요.  고수가 가득 올려진 쌀국수도 같이 나왔는데 향긋한 향이 은은히 올라오더라구요. \\n생각보다는 향신료 맛이 강하지 않아 모두들 칭찬연발하는 맛이었어요.  수저로 국물을 한스푼 떠서 바로 먹어봤는데요. \\n담백한 풍미가 일품이었고 육수 간도 딱 적당했네요.  이번에는 안에 들어있는 울산 삼산 맛집 고기와 함께 먹어보기로 했어요. \\n육수가 잘 베여져 입 안에서 사르륵 녹는 것이 젓가락질에 가속력이 붙기 시작하더라구요.  중간에는 무알콜 음료인 라임모히또도 마셔줬는데요. \\n3명이서 먹어도 될만큼 양이 엄청 많았고 다양한 맛이 있어서 고르는 재미 또한 있었어요.  곁들여서 같이 먹을 계란볶음밥도 주문했어요. \\n5,500원이라는 금액이 아깝지 않게 접시 가득 담아주셔서 다같이 배불리 먹을 수가 있었어요.  고슬고슬하게 볶은 밥은 쉴새 없이 입에 들어가더라구요.\\n간이 짭쪼름하게 잘 되어 있는 덕분에 느끼하지도 않고 물리지 않아 계속 먹어줬네요. 마지막 남았던 고기 한 점은 밥과 함께 마무리했답니다. \\n고슬하게 볶아진 밥에 달짝한 고기가 어우려져 극찬이 저절로 나오던 맛이었네요.  이국적인 음식이라 살짝 걱정이 되었지만 거부감도 전혀 없었고 \\n다양한 음식들을 배부르고 맛있게 먹고 왔던 울산 삼산 맛집 다음에도 재방문 예정이에요.   매일매일 만드는 파스타를 맛 볼 수 있는 곳이에요. \\n예쁜 인테리어에서 기분좋게 즐길 수 있어서 친구들도 자주 찾는 곳이랍니다. 이어서 소개할 곳은 생삼겹살이 유명한 곳인데요. \\n고급진 인테리어에서 고기를 먹을 수 있는데 저는 예약을 하고 가서 더 편하게 맛 볼 수 있었어요.  쉐프가 만드는 고급진 메뉴들을 맛 볼 수 있는 곳인데요. \\n양식 한식 모두 맛 볼 수 있고 서비스가 완전 좋아서 더 자주 가고 싶어져요.  다른 곳에서 맛 볼 수 없는 메뉴들이 잔뜩 있는 곳이에요. \\n음식양도 많고 가성비가 끝내줘서 만남 장소로도 좋은 곳이랍니다. \\n소정의 원고료를 지급받아 작성했습니다.'}, 7: {'title': '뛰어난 울산 삼산 맛집 리스트 ', 'nickname': '쏳\\n(sanjizoro1)', 'datetime': '2021. 10. 5. 17:22', 'content': ' 몇주전 울산으로 이사간 친구집에 놀러갔다가 한우전문점으로 유명한 울산 삼산 맛집에 다녀왔어요. \\n수준높은 구이요리와 다정다감한 서비스까지 모든게 만족스러웠던 곳이라 공유해드릴게요!  이날 찾아간 식당은 울산세무서에서 차로 4분만에 도착했어요.\\n 간판 아래에 번쩍거리는 조명들이 쪼르르 매달려있어\\n초행길임에도 한눈에 발견했답니다. 매장에 주차공간이 완비되어있어 수월하게 주차를 마쳤어요.\\n영업시간은 평일 오후 3시부터 새벽 5시까지인데,\\n 주말은 오후 12시부터 새벽 5시까지라고 안내되어 있었어요. 실내로 입장해보니 우드톤으로 꾸며진 홀이 우리를 반겨주었어요. \\n이때가 애매한 오후시간이었는데도 이미 식사중인 분들이 곳곳에 계셨어요. 몇 걸음 더 옮겨보니 좌식테이블이 놓여있었는데, \\n저희는 다리를 편하게 뻗고 싶어서 이쪽으로 착석했어요. 자리에 앉자마자 차림표를 훑어보았어요. \\n울산 삼산 맛집에서는 다양한 소 부위를 판매중이었는데, \\n저희는 직원분께서 강추해주신 제비추리와 등안심을 시켰어요. 주문을 마치고나면 밑반찬부터 빠르게 차려주시는데요.\\n 따로 요청드리지 않아도 개별로 소스종지를 챙겨다주셔서 감사하다고 얘기했답니다. 입맛을 살려줄 백김치를 먼저 먹어보기로 했어요.\\n묵은지만을 사용하시는건지 새코롬한 산미가 강렬해서\\n식사내내 두번이상 리필받았어요. 이번에는 고추절임을 먹어보았어요. \\n간장에 절여진건데도 과하게 짜지않아서 입대자마자 한그릇을 클리어했어요. 옆에있던 울산 삼산 맛집의 소스류는\\n쌈장과 기름장 총 두가지로 구성되어있었어요. 뒤이어 한우초밥이 서브됐는데요.\\n구석에는 곁들여먹을 레몬과 생강절임도 함께 제공되어 나오더라고요. 어느정도 허기를 달래고나면 제비추리가 등장했어요.\\n이때 서버분이 고기를 2주이상 숙성시킨거라고 설명해주셨답니다. 기다릴 필요없이 불판에 투하했어요.\\n울산 삼산 맛집은 토치로 초벌해주시는데,\\n훈훈한 불향이 후각을 자극해주어 다같이 군침을 꼴깍 삼켰어요. 재빨리 가위로 커팅했어요.\\n다른 전문점들과 달리 큰 힘을 들이지 않아도 숭덩 짤려나가서 쉽사리 잊혀지지 않았어요. 냉큼 살코기를 냠 맛보았어요.\\n확실히 프리미엄 한우답게 담백하기만해서 누린내에 예민한 저한테도 괜찮더라고요. 단독으로도 맛있었지만, 참기름과 소금을 섞어만든 특제소스에\\n콕 찍어먹는게 울산 삼산 맛집만의 꿀조합이었죠~ 그중에서도 제 취향을 저격한건 등안심이었어요.\\n표면에 화려한 마블링이 빈틈없이 박혀있어 먹기전에 인증샷부터 한장 남겼답니다. 틈틈이 상추쌈도 싸먹었는데요.\\n가운데에 파채를 살짝쿵 얹어주는게 키포인트에요. 중간에 육회맛은 어떨지 궁금해져서 추가했어요.\\n바닥이 안보일만큼 각종 채소와 참깨가 수북하게 쌓여있어\\n울산 삼산 맛집의 인심을 극찬하게 됐는데요. 이건 양념장을 골고루 비벼주면 먹을준비 완료였어요! 여기에는 무순을 더해먹는게 최고였어요.\\n야채도 유기농으로만 엄선하시는듯이 베어물자마자 생긋한 채즙이 쪼록하고 흘러나와서 아직까지도 기억에 남아요. 마무리는 돌판된장찌개로 장식하기로 했어요. \\n밑에는 가스버너가 세팅되어있어 끝까지 식지않는다는게 장점이었죠. 한김 식힌후에 국물부터 후룹 떠마셨어요.\\n집된장으로 끓여낸거라던데 구수함이 진해서 미식가인 친구도 흡족해하더라고요. 식사를 마치고나면 커피머신이 남아있었어요. \\n달콤한 원두향이 텁텁해진 입안을 말끔하게 정돈시켜주어\\n입가심까지 완벽했던 울산 삼산 맛집이랍니다~   2010년도부터 10년 이상의 전통을 자랑하는 칼국수 전문점으로\\n 모닝와이드 7357회에 출연하여 더욱 유명해진 곳.\\n백프로 자가제면 해주셔서 그런지 쫄깃한 식감이 일반 면발과는 비교 불가능이었다. 삼산고등학교에서 도보로 13분쯤 걸어가면 보이는 양식 레스토랑.\\n특제 크림 페스토에다가 통오징어와 페퍼론치노, 오징어 먹물, 아이올리 소스를\\n달달 볶은 스퀴드 잉크 스파게티(1만8천원)가 시그니처였다. 으리으리한 한옥건물을 통째로 운영하고 있는 카페로 야외테라스도 보유 중인 곳.\\n애플 망고 주스도 훌륭했지만, 과테말라산 라스누베스 원두로 로스팅한 에스프레소에\\n수제 연유 시럽을 듬뿍 뿌려낸 콜드브루 달콤라떼가 훨씬 꿀맛탱이었다. 특급 호텔 출신 주방장이 직접 조리해주시는 중식당.\\n인당 5만원짜리 C코스를 시키면 대하 칠리, 북경해삼, 상어지느러미까지\\n메인 요리만 3가지나 내어주셔서 성인 남녀 넷이서도 배 터지게 먹고 왔다.\\n본 포스팅은, 업체로부터 소정의 원고료를 지원받아 작성된 후기입니다. '}, 8: {'title': '끄덕였던 울산 삼산 맛집 모음', 'nickname': '소윤', 'datetime': '2021. 9. 5. 14:56', 'content': '고기를 먹는 것을 좋아해 친구들과 함께 주말에 울산 삼산 맛집을 다녀왔어요.\\n숙성된 고기의 부드러움을 제대로 느낄 수 있어\\n만족스런 한끼로 기억에 남네요. 이번에 들린 고기원칙은 삼산공영주차장에서 도보 3분거리에 자리를 하고 있어요.\\n깔끔한 흰색 간판이 돋보이는 외관의 모습이에요. 매장 한켠에는 숙성고가 있는데 이렇게 항아리를 활용해 72시간 숙성을 하고 있다고 해요.\\n오랜 시간 공을 들이는 만큼 맛이 기대가 됐어요. 울산 삼산 맛집 자리마다 덕트가 설치되어 있었어요.\\n거기에 인테리어는 올드하지 않고 세련된 느낌으로 잘 꾸며 두었더라고요. 안쪽을 들여다 보니 이렇게 좌식으로 편하게 식사를 할 수 있는 공간도 마련이 되어 있었어요.\\n칸막이도 쳐져 있어 좀 더 프라이빗한 식사가 가능하겠더라고요. 뭔가 위트있는 문구가 눈에 띄었는데\\n이런 요소들도 나름 재미있고 이 식당의 컨셉이라 생각이 들어서 흡족스런 부분이었어요. 메뉴판을 살펴보니 돼지고기와 소고기 2가지로 나뉘어 있어서\\n처음에는 가볍게 시작할 수 있는 와규를 선택해 보았어요. 셀프존이 따로 마련이 되어 있는데 쌈 채소들과 간단한 김치, 장아찌가 준비되어 있어\\n울산 삼산 맛집에서 식사를 하는 동안 자주 들렸답니다. 물통을 보면 간혹 출처를 알 수 없는 통을 사용하는 곳이 있는데\\n여기는 직접 제작을 한 통과 상큼함이 있는 레몬을 넣어서 내어주시니\\n신뢰가 가더라고요. 솔직히 서비스라고 해서 기대를 하지 않았는데 푸짐한 야채와 조개를 넉넉히 넣어서 이렇게\\n테이블에 셋팅을 해주셨답니다. 조개탕을 먹고 난 다음 남은 국물에는 이렇게 칼국수 사리를 하나 추가해서 넣어 먹었어요.\\n확실히 면발이 쫄깃한게 국물의 깔끔함과 잘 어울렸어요. 면은 삶아서 나오기 때문에 1~2분 정도 끓여 준 다음 건져 먹으면 되더라고요.\\n조개탕에 시원하고 칼칼한 맛이 면의 담백함과 잘 맞았답니다. 고기를 먹을 때 계란찜을 꼭 먹는 편이라 하나 주문을 해보았어요.\\n색감을 내는 홍고추도 올라가 있고 연기가 스믈스믈 올라오는게 울산 삼산 맛집 비쥬얼이 끝내줬어요. 와규가 준비되어 나왔는데\\n마블링도 훌륭하고 윤기가 흐르는게 군침이 확 돌았어요. 소고기라서 그런지 익는 시간도 빠른 편이라서 배고픈 배를 달래기 좋아서\\n먼저 시키는 편이 괜찮았던 것 같아요. 와사비를 살짝 얹으면 느끼한 맛도 잡아주고\\n알싸한 매콤함이 기름과 섞여 단맛을 내주어 고기맛을 한층 올려 주었어요. 추가로 울산 삼산 맛집 숙성 삼겹과 황제 덧살을 주문해봤어요.\\n일단 항아리라는 독특한 방법이 인상적이었고\\n고기의 빛깔도 끝내줬어요. 먼저 삼겹을 올려 봤는데 살결이 부드러운게 집는 순간 느껴질 정도로\\n숙성이 잘 되었어요.\\n그리고 비계도 넉넉하게 붙어 있어 고소함이 강했어요. 이렇게 잘라서 숙성이 돼서 그런지 가위를 사용할 필요가 없어\\n굽기 굉장히 편했어요.\\n익어가면서 나는 향이 침샘을 자극하더라고요. 파절이에 상추와 콩나물이 들어가 있어 아삭한 식감을 더해주는데\\n여기에 담백하고 고소한 고기를 곁들이니 입 안이 풍성해졌어요. 목심과 등심사이에 붙어 있는 덧살 부위에요.\\n살코기의 담백함은 물론 고소하고 육질의 탄력이 있는 편이라\\n색다른 매력이 있었어요. 상추 한장을 들어 마늘, 쌈장, 파절이를 얹어 쌈으로 즐겨봤어요.\\n알싸한 매콤함과 더불어 고기의 담백함이 더해지니 웃음이 절로 나왔답니다. 울산 삼산 맛집 장아찌는 새콤하면서 달큰 짭조름한게 느끼한 맛을 확 잡아주는\\n역할을 톡톡히 하더라고요. 추가로 김치말이 비빔국수를 시켜봤어요.\\n김치가 들어가 있어서 아삭한 식감과 매콤달콤한 양념이 입맛을 돋구웠어요. 국수 면발은 흐물거리지 않고 잘 삶아져 있었고\\n여기에 고기를 곁들이면 두 말이 필요 없을만큼 입 호강이 됐어요. 음식을 다 먹고 매장에 설치 되어 있는\\n아이스크림을 뻥튀기 위에 얹어서 먹었어요. 달콤하니 시원한 아이스크림까지 즐기니 깔끔하면서\\n구성이 알차다는 생각이 들어서 만족도가 올라갔어요. 이렇게 친구들과 울산 삼산 맛집을 들려봤는데요.\\n숙성 고기의 매력과 서비스로 나온 조개탕 까지 푸짐한 한상이라 만족스런 식사였어요. 다음날 점심으로 찾아간 이탈리아 레스토랑이에요.\\n고소함과 짭쪼름함이 공존하고 있는 알리오올리오는 부담스럽지 않게 속을 채워줬답니다. 특별한 일이 있을 때마다 찾는 참치집이에요.\\n부모님의 결혼기념일을 맞이해 함께 찾아갔는데\\n코스별로 나오는 배꼽살부터 오도로,주도로,가마살과 머릿고기와 랍스터까지\\n제대로 즐기고 왔어요. 옛정이 느껴지는 감성적인 주점인데요.\\n저녁으로 찾아갔는데 기름기가 쫙 빠지고 담백하고 겉은 바삭하게 잘 구워진 전요리와 곁들여먹는\\n먹거리는 최고였어요. 다음날 브런치를 즐기기 위해 찾아간 카페에요.\\n신선한 계절과일과 코코넛크럼블과 달짝지근한 꿀과 그래놀라를 풍성하게 즐길 수 있어\\n브런치로 딱 어울렸답니다.\\n<본 포스팅은 업체로부터 소정의 원고료를 지원받아 작성되었습니다>'}, 9: {'title': '울산 삼산 맛집 연말데이트 분위기 좋은 레스토랑 더본테이블 ', 'nickname': 'Layla', 'datetime': '2021. 12. 20. 13:25', 'content': '코로나때문에 계속 못만나다가\\n거의 2년만에 만나는 친구랑 스테이크 코스 \\n점심을 먹으러 갔던 울산 삼산 맛집 더본테이블\\n지난번 방문때 너무 좋았던지라\\n친구한테도 추천할겸 다녀왔다. 울산삼산맛집 / 울산레스토랑 / 울산코스요리맛집 \\n업스퀘어에서 맥도날드로 가다보면 \\n건물 2층에 더본테이블이 보인다.\\n1층 앞에 4-5대 정도 주차가능한 주차공간이 있지만 \\n주차자리가 없으시에는 공영주차장 이용하면 \\n주차비를 지원해준다고 적혀있었다. 이 문을 열고 계단을 통해 2층으로 올라가면 된다. 더본테이블 코스요리\\n포스팅하다보니 달이 바껴버렸는데\\n나는 11월말쯤 방문했다.\\n매달 코스요리 구성이 달라진다고 하니\\n매장에 문의해보고 방문하길 추천! 입구에서 체온체크 및 큐알인증 후 \\n테이블을 안내받았다.\\n코스요리는 재료준비 문제로 \\n미리 예약을 하고 방문해달라고 해서\\n방문하기 며칠전에 예약했음\\n한창 점심시간이라 손님들이 많이 있어서\\n나중에 식사 다하고 나갈때 \\n매장 내부를 찍어보았다. 역광이라 좀 어둡게 나왔는데\\n사진보다 좀 더 밝고 분위기 있는\\n울산 레스토랑 맛집 더본테이블\\n창가쪽으로 테이블이 쭉~ 있어서\\n바깥보면서 식사하기 좋을듯 우리가 안내받은 곳은 안쪽 공간이었는데\\n옆 테이블에는 손님이 없어서 \\n우리끼리 오붓하게 식사할 수 있어서 좋았다 ㅎ 코스요리 먹을때 사용하게 \\n미리 셋팅되어 있는 식기\\n바깥에 있는 식기부터 차례로 사용하면 된다. 테이블에 앉자 물부터 내어주셨다. 우리가 먹은 스테이크 런치 코스는 4만원\\n제일 기본 돼지뽈살 기준 가격이고\\n한우나 양갈비, 티본스테이크로 변경시\\n식사 비용이 더 추가된다. 코스요리 말고도 단품으로도 에피타이저,\\n파스타, 스테이크를 주문해서 먹을 수 있고\\n식사와 잘 어울리는 와인들도 다양하게\\n구비되어 있는 울산레스토랑  웰컴드링크와 카프레제 샐러드 등장으로\\n시작되는 더본테이블 코스요리\\n웰컴드링크는 귤쥬스가 제공되었다. 복숭아 에스푸마와 바질 페스토를 곁들인 카프레제 일일히 토마토 껍질을 벗겨낸거라 손이 많이 갈텐데,\\n여기 음식을 먹다보면 재료 하나하나 직접 손질하고\\n소스도 직접 만들어서 내어주고\\n정성과 손길이 그대로 느껴지더라.  요렇게 세개 찍어서 \\n복숭아 에스푸마에 콕 찍어서 먹으면 맛있음!\\n그릇 싹싹 비우게 된다. 셰프 추천 스페셜 에프타이저는\\n배, 레몬소스, 메츄리알, 청어 캐비어와 비프타르트\\n육회를 감태가 곱게 감고 있는 모습 ㅎㅎ 이런 레스토랑에서 육회라니 \\n생각지 못한 에피타이저라 놀랐지만\\n육회 좋아하는 나는 좋았다.\\n얼마만에 육회 구경이니 +_+ 육회도 신선한데다\\n그 위에 올라간 소스가 맛있어서\\n듬뿍 떠먹어 버림 ㅎㅎ 그랬더니 밑에 소스가 없어서 아 ㅋㅋ\\n위에 올라간 소스를 밑에까지 잘 비벼서\\n먹는게 팁인듯^^\\n나는 요것도 맛있게 싹싹 비웠는데\\n친구는 조금 남겨서\\n직원분이 그릇 정리해주면서\\n 입에 안 맞는지 조심스럽게 물어보더라.\\n사실 친구가 육회를 잘 못 먹는데도\\n이건 맛있다고 먹은거 였음 ㅎㅎ 그리고 오늘의파스타와 총각무 피클 등장\\n시지않고 맛있는 총각무 피클! 이날은 머쉬룸 베이컨 오일 파스타 였다!\\n오일 파스타 좋아하는 나한테 딱이더라. 베이컨은 한번 볶아서 기름을 뺀 뒤 사용하는거라\\n느끼하지않고 담백한 오일 파스타 파스타 면삶기도 딱이고\\n가니쉬한 대파튀김은 일일히 대파를 \\n채썰어서 튀겨낸거라 풍미를 더해주는듯 이것도 맛있게 비웠음!\\n오일파스타 좋아하는 오빠랑 서우도 좋아할맛이라\\n나중에 또 방문했을때 코스로 안먹으면\\n 따로 단품으로 사먹고 싶네. 이제 스테이크 나오기전에\\n입안을 정리하라고 포도 셔벗이 제공! 한우등심스테이크\\n굽기는 미듐으로 주문했는데\\n잘 굽혔는지 눈에 보임+_+ 가을냉이가 나와서 가니쉬로 사용했던데\\n스테이크랑 잘 어울리더라. 천천히 코스요리를 먹다보니 배가 부르기 시작\\n그래도 스테이크 마지막 한점까지 다 먹음 ㅎ\\n지난번에 티본스테이크 먹었는데 \\n그것도 맛나고 이것도 맛나고 울산스테이크맛집! 디저트는 커피, 허브티, 아이스크림 중 고를 수 있어서\\n나는 아이스크림으로 주문!\\n크림브륄레 위에 아이스크림이 같이 올려져나오더라 친구는 허브티와 크림브륄레 바닐라 크림브륄레이던데\\n달콤하고 부드럽고\\n카라멜층은 바삭하고 맛있음~\\n이렇게 점심 코스요리는 끝!\\n저녁에는 점심때보다 코스 메뉴가 더 많다고 하는데\\n다음에는 저녁때 방문해봐야지\\n연말에도 한번 더 가볼까 싶어서\\n더본테이블 인스타에 들어갔더니 크리스마스 24일, 25일 안내가 되있더라.\\n크리스마스에 삼산동데이트하러 가기 좋을듯\\n연인끼리 가족끼리 오붓하게 식사하기 좋은\\n울산 삼산 맛집 더본테이블이었음\\nhttps://instagram.com/the_bon_table?utm_medium=copy_link   #울산삼산맛집 #울산삼산동데이트\\n#울산코스요리 #울산스테이크맛집 '}, 10: {'title': '칭찬했던 울산 삼산 맛집 리스트', 'nickname': '달지우\\n(idhsssh)', 'datetime': '2021. 7. 10. 13:26', 'content': '주말에 울산으로 친구네 집에 놀러갔다 울산 삼산 맛집에 다녀왔어요.\\n시원한 맛에 매콤달콤한 밀면의 별미에 감동받았던 곳이라 추천해드려요. 메뉴 : 물밀면(7,500원) / 손만두(5,500원)\\n주소 : 울산광역시 남구 돋질로302번길 15\\n전화 : 052-227-9280\\n영업 : 매일 10:30 ~ 21:00 이날 찾아간 팔곡밀면은 현대백화점에서 도보로 2분 거리에 위치해 있어요.\\n단독건물로 검은색의 거대한 외관이 멀리서도 눈길을 끌어\\n초행길임에도 한 번에 찾을 수 있었습니다. 매장 앞으로 전용 주차장까지 완비가 되어 있었는데요.\\n단체차량도 충분히 수용 가능한 규모라서 울산 삼산 맛집 중에서도 유명한 곳임을 직감했답니다. 매일 10시 30분부터 밤 21시까지 영업을 하고,\\n브레이크타임도 없어 시간에 구애가 없다는 점도 만족스러웠네요. 또한 세스코멤버스에 가입된 곳이라 위생적으로도 철저한 관리에\\n의심의 여지가 없었답니다. 실내로 들어서니 사방에서 들어오는 채광에 한옥 스타일의 인테리어가 어우러져 포근한 느낌이었어요.\\n테이블마다 파티션으로 나뉘어져 있어 거리두기까지 안심이었죠. 아이들과 함께 가족 단위로 오는 손님이 많아서인지,\\n유아의자까지 세심하게 챙겨놓는 울산 삼산 맛집이었어요. 자리에 착석하고 메뉴판을 확인했는데요.\\n밀면과 함께 숯불고기를 먹는 구성이 눈에 들어와 만두와 함께 사이드로 주문했어요. 매장 한 켠에는 반찬을 가져다 먹을 수 있는 셀프코너가 구비되어 있었어요.\\n청결하게 관리되어 있었고, 반찬도 꽉 채워져 있어 불편함이 없었답니다. 먼저 시원한 육수로 입가심을 해주었어요.\\n텁텁했던 입속이 청량하게 바뀌면서 식욕을 돋워주었답니다. 음식이 나오기 전, 벽에 붙은 문구에서 눈에 띄는 게 있었는데요.\\n8가지 곡물을 혼합해 만든 밀면이라는 말에 맛에 대한 궁금증이 더해졌답니다. 주문했던 울산 삼산 맛집의 음식들이 서빙되기 시작했어요.\\n푸짐한 양에 먹음직스러운 플레이팅까지, 세심하게 신경쓰심이 엿보여\\n멀리서 찾아온 보람이 느껴지더라구요. 사이드메뉴로 인기가 가장 좋은 수제만두찜은 소가 빵빵하게 가득 차 있었고,\\n속이 비칠 정도로 얇은 피가 특징이었어요. 곧장 한 개를 집어 입속으로 쏙 넣었어요.\\n돼지고기의 고소한 육즙에 야채들의 아삭함이 고개를 절로 끄덕이게 만들었죠. 다음으로 살얼음 가득 올려진 물냉면을 먹어봤어요.\\n향긋한 오이를 채 썰어 계란까지 올린 모양새에 군침이 사르르 돌더라구요. 거기에 새콤달콤한 쌈무, 겨자소스와 식초는 메밀면을 먹을 때 필수죠.\\n곁들여 먹으니 감칠맛과 산미가 살아나 완전 취향저격이었답니다. 재빠르게 속에 있던 양념장과 슥슥 비벼봤어요.\\n공기중으로 퍼지는 새콤달콤한 냄새가 코끝을 자극해 울산 삼산 맛집이란 확신이 들었네요. 삼삼하면서 쫄깃한 면발, 여기에 육수맛이 배니 호로록 할 때마다 입안에 감칠맛이 퍼지더라구요.\\n한 그릇 비우는 건 당연히 일도 아니었죠. 면발에 숯불향이 은은하게 밴 고기를 겹쳐 먹으니 단짠한 맛이 더해지면서\\n재료들의 궁합도 딱 맞아 손이 점차 빨라졌어요. 그럼에도 제 원픽은 빨간 양념장이 올려진 비빔이었는데요.\\n담백했던 물과는 대비되는 맛과 비주얼에 또 한 번 울산 삼산 맛집에서 감동의 물결이 몰려왔답니다. 잘 삶아진 계란 반쪽을 집어들었어요.\\n그리고 매콤달달한 양념에 콕 찍어 먹었는데 미소가 지어지더라구요. 비빔냉면은 맵싸한 다대기의 산미가 특징인데요.\\n쫄깃한 면발을 씹을 수록 풍성한 감칠맛이 톡톡 터져 아낌없는 칭찬이 나왔어요. 고소한 육향이 가득한 고기를 얹어 한입에 쏙 넣었어요.\\n그냥 먹을 때보다 풍미가 배가되어 정신없이 폭풍흡입했네요! 나오는 길에는 오랜만에 자판기 커피를 마셨어요.\\n전반적으로 울산 삼산 맛집은 작은 것에도 세심하고,\\n좋은 재료를 사용하는 것 같아 끝까지 만족스러웠습니다. 메뉴 : 피자(17,000원) / 엔초비 스파게티(16,000원)\\n주소 : 울산광역시 남구 삼산중로84번길 11-13\\n전화 : 0507-1361-7821\\n영업 : 평일 11:30 ~ 22:00 울산 고속버스터미널 근처에 있는 게스트로는 화덕피자를 메인으로 하는 곳이에요.\\n따뜻하고 감각적인 인테리어로 꾸며진 공간에서 파스타를 즐길 수 있어 데이트 장소로 인기인 곳이랍니다.\\n바삭한 도우에 고소한 버섯크림소스, 모짜렐라, 거기에 트러플오일을 가미한 피자는 맥주와의 궁합도 환상적이었죠. 메뉴 : 갈비(24,000원) / 안창살(27,000원)\\n주소 : 울산광역시 울주군 서생면 해맞이로 924\\n전화 : 052-239-5515\\n영업 : 매일 12:00 ~ 22:00 서생초등학교 근처, 고즈넉한 분위기에 가격은 합리적이면서 퀄리티가 높기로 유명한 곳이에요.\\n베테랑 바베큐엔 흑우의 다양한 부위를 즐길 수 있는 게 특징인데요.\\n씹을 수록 고소한 맛, 쫄깃하면서 부드러운 식감에 감탄사가 절로 나왔습니다. 메뉴 : 쑥 인절미(4,000원) / 치즈타르트(18,000원)\\n주소 : 울산광역시 남구 도산로101번길 4-2\\n전화 : 052-256-8017\\n영업 : 매일 09:00 ~ 22:00 다양한 디저트를 먹어볼 수 있는 랑콩뜨레는 편안한 분위기가 힐링되는 곳이었어요.\\n커피와 어울리는 부드러운 몽블랑, 생크림이 가득 올려진 딸기몽블랑이 베스트 메뉴라고 하는데요.\\n커플로 같이 즐겨보시면 소소한 행복을 전해줄 것 같은 곳입니다. 메뉴 : 오리불고기(39,000원) / 오리탕(38,000원)\\n주소 : 울산광역시 중구 함월20길 65\\n전화 : 052-243-5292\\n영업 : 매일 11:30 ~ 22:00 늘 친절하게 맞이해주는 솔밭가든은 착한 가격의 돼지목살양념구이가 구비되어 있어요.\\n직접 만드는 수제 양념에 숙성된 고기는 부드러우면서도, 감칠맛까지 배어있어\\n한 번 맛보면 단골이 될 정도로 인지도가 있는 집이랍니다. 달지우 블로그\\n본 포스팅은 소정의 원고료를 지급받아 작성되었습니다.'}, 11: {'title': '울산 삼산 맛집 단골하고 싶은 촌놈밥집', 'nickname': '두덩두덩', 'datetime': '2021. 12. 3. 9:00', 'content': '안녕하세요! 두덩이에요 :)\\n오늘은 울산 삼산 맛집을 소개하려고 합니다~\\n제가 맨준님과 경기도와 울산 장거리 연애를 하고 있는데,\\n맛있는 식당이나 예쁜 카페들을 도장깨기 하고 있거든요?\\n그런데 이번에 방문한 촌놈밥집은 정말 집밥 생각날 때마다\\n가고 싶은 곳이었어요..\\n저희 회사 근처에 있었으면 점심시간마다 가서\\n메뉴 도장깨기 하고 있을 거예요... ㅎ 쨌든 그 정도로 맨준님과 제가 너무 맛있게 먹고 온 밥집이었어요!\\n저희가 전날에 술을 많이 먹고 다음날 오전에\\n운동을 하고 해장 겸 맛있는 김치찌개를 먹고 싶은 거예요.\\n그래서 맨준님이 열심히 서치한 곳이 이곳이었는데,\\n저는 뭐 일반 가정식으로 나오는 것 같아서\\n무난하겠다 싶었죠.\\n근데 왜인 걸.. 둘이서 거의 삼사인분 먹고 왔습니다 ㅎㅎ 전화 0507-1441-8856\\n주소 : 울산 남구 정동로 20번길 15\\n매일 11:00-21:00 \\n브레이크타임 15:30-16:30 맨준님과 헬스장에서 땀을 쫘악 뺀 후\\n도착한 울산 삼산 맛집이에요.\\n여기 블로그 후기들이 좋아서 맨준님이 고른 곳이라\\n저는 촌놈밥집에 대한 사전 정보 없이 왔답니다~\\n매장 앞에 주차장이 크게 마련되어 있어서\\n주차하기에도 수월했어요!\\n근데 네이버 리뷰들 보니까 저희가 느꼈던 점들을\\n느끼신 분들이 많이 계셨어요.\\n저나 맨준님이나 양도 넉넉하고\\n아주머님들도 친절하시고, \\n매장이 넓고 깔끔하다고 생각이 들어서\\n전체적으로 만족했던 곳이라고 생각했거든요! 평일 시간이고 한창 점심시간 때가 지났을 시간에\\n방문을 해서 사람들은 많이 없었어요.\\n건물 외관에서부터 뭔가 옛날 분위기의 밥집 느낌이 나고,\\n안에 들어오니 사투리 구수하게 사용하시는\\n아주머님들 여럿 계셨어요.\\n그리고 뭔가 아주머님들 반응이 차가우셔서\\n불친절하다고 생각했는데,\\n울산 아주머니들이라 그러신 건지 모르겠는데\\n처음에만 그렇게 보이고,\\n주문받으실 때나 추가 반찬 요청했을 땐 너무 친절하게\\n대해주셨습니다!\\n울산 삼산 맛집이나 서비스로 촌놈밥집은 합격~ 저는 어떤 곳을 가던 손님에 대한 직원의 서비스를\\n가장 중요하게 생각해서\\n직원이 불친절하면 아무리 밥이 맛있어도\\n기억에 잘 안 남거든요..! 매장 안 테이블들도 깔끔하게 배치되어 있었어요.\\n딱 한식을 먹으러 온듯한 식당의 느낌이 강했어요!\\n그리고 황토집과 같은 인테리어로 뭔가 정겨운 기분도 들고\\n딱 백반 먹기 좋은 곳이랄까?\\n무엇보다 테이블 사이가 멀어서 요즘같이\\n사회적거리두기로 예민한 시기에 더욱 괜찮은 곳이었어요.\\n가족들과 식사하러 오기에도 너무 좋을 것 같구요! 맨준님은 이미 여기서 무엇을 먹을지\\n블로그를 보면서 결정을 해왔기 때문에\\n저도 맨준님 선택에 따라\\n고등어짜글이세트 1인분 기준 (11,000)\\n2인분을 주문했습니다~\\n저는 울산 삼산 맛집을 추천한다면\\n요기 요 메뉴를 적극 추천하겠어요. 저는 짜글이보다는 촌놈밥집의 김치찜을 먹고 싶었거든요?\\n뭔가 전날에 술을 먹기도 했고,\\n그래서 짜글이처럼 자극적인 김치요리보단\\n그나마 부드러운 김치찜을 먹고 싶었지만,\\n맨준님 선택이 옳았어요.\\n여기 짜글이 찐이에요.. 존맛...\\n저희 세트 메뉴 2인분 다 먹고 짜글이찌개 1인분 추가해서\\n리셋하고 더 먹었거든요.. ㅎㅎ 주문을 하고 난 후에 셀프리필바에서\\n따끈한 숭늉을 가져다 먹었어요.\\n원래는 셀프리필바에 기본 반찬들도 있는 것 같은데,\\n이날은 아주머님들이 직접 리필해 주셨어요~\\n숭늉은 정말 오래 끓이신 것 같아요!\\n밥알이 거의 씹히지 않고, 걸쭉하고~\\n속이 쫘악 뜨끈해지는 맛이었어용 계란말이 (5,000원)\\n원래 세트메뉴 2인분에 요 계란말이에\\n꼬막비빔밥까지 주문하려고 했지만..\\n아주머니께서 양이 너무 많을 것 같다고 하셨어요 ㅋㅋㅋㅋ\\n그래서 우선 꼬막 비빔밥 취소했는데, 결국 짜글이 1인분 추가했다는..\\n저희가 울산 삼산 맛집에서 정말 얼마나\\n맛있게 먹었는지 알겠죠..? 특히나 촌놈밥집의 밑반찬들이 너무 저희 스타일이라 \\n반찬만 세네번 리필해 먹은 것 같아요..\\n마지막엔 자꾸 리필 부탁드리는 게 죄송해서\\n직접 접시 가져다드렸어요... ㅎ... 깍두기, 콩나물무침, 미역줄기 무침, 어묵볶음 등\\n진짜 쌀밥이랑만 먹어도 맛있을 반찬들.\\n거기에 주문한 계란말이는 음.. 제가 생각한\\n부드러운 계란말이보다는 포슬포슬한 식감이 강했어요.\\n그리고 아쉽게도 이 계란말이는 약간 가성비는 없는 것 같아서\\n다음엔 안 시킬 것 같지만,\\n계란+케찹의 조합은 말해 뭐해~\\n아쉬움은 있었지만 정말 맛있게 잘 먹었습니다 :) 고등어 짜글이세트에서 짜글이가 먼저 나왔어요.\\n버너를 가져다주셔서 끓이면서 먹을 수 있었는데,\\n울산 삼산 맛집을 검색했을 때 요 메뉴 추천으로\\n맨준님이 혹했던 건데,\\n진짜 안에 고기도 푸짐하고, 김치도 잘 익어서\\n국물이 최고였어요...!!!!\\n근데 맨준님이 며칠 전에 혼자 밥 먹으러\\n촌놈밥집에 갔는데, 점심시간에 만석이었다는 거예요.\\n근데 이날 못 먹은 꼬막비빔밥과 짜글이 하나\\n주문해서 먹었는데, 저랑 먹었던 그 맛이 안 난다며..\\n같이 먹어서 더욱 맛있었나 봐요 ㅎㅎ 지글지글 맛있게 끓어가는\\n짜글이!\\n끓이면 끓일수록 국물이 진해져서\\n뜨거운 밥에 비벼 먹으면 크으..bb 뒤이어 고등어 구이도 나왔습니다.\\n고등어 한마리가 통째로 구워져서 나오는데,\\n적당한 간이 되어 있고 살은 오동통해요.\\n그리고 둘이서 한마리로 되겠어? 싶었지만\\n고등어 크기도 커서 둘이서 넉넉하게 먹었습니다~ 흰쌀밥에 고등어 구이 올려 먹고,\\n뜨거운 김치 짜글이 속 김치에 고등어 구이 올려서\\n한입 먹고.\\n저랑 맨준님이랑 데이트하면서 생각해 보니\\n이런 집밥 느낌의 식사를 거의 안 했더라구요?\\n근데 둘이 너무 잘 먹어...\\n우리 한식파인가봐...\\n한식 맛있는 곳으로다가 이곳저곳 또 가봐야겠어요! 울산 삼산 맛집에서 빠진 촌놈밥집의 이 짜글이.\\n저는 다 먹어갈 때 즈음에 적당히 배가 불렀는데,\\n맨준님이 자기는 더 먹을 수 있을 것 같다며\\n여기서 식사를 마치기엔 아쉬움을 표현하더라구요.\\n그래서 저도 더 먹으면 먹을 수 있어서 단품 메뉴로\\n짜글이 1인분을 주문했어요.\\n아니.. 이 음식을 얼마나 맛있게 먹었으면,\\n다른 단품 메뉴들도 많은데 ㅋㅋㅋㅋ 또 시켰겠냐구요~ 단품으로 시켰는데, 세트 메뉴 때보다 양이 더 많아진 느낌?\\n안에 고기도 더 푸짐한 것 같았어요 ㅋㅋㅋ\\n저랑 맨준님은 찌개에 밥 말아 먹는 걸 좋아해서\\n이날도 찌개에 밥 한공기 나온 거를 냄비 안에 그대로 넣어서\\n약간 죽 느낌으로다가 자글자글 끓였어요!\\n그러면 국물이 더 녹진해지고\\n호호 불며 먹는 맛이 있거든요.\\n마지막엔 맨준님 거의 못 걸을 정도로 배부르게 먹었다며..\\n둘이서 거의 4명이서 먹을 양을 푸짐하게 먹고 왔습니다 :) 배부르게 점심 먹고 이제 카페로 고고싱~\\n카페에서 디저트 또 먹었다는,,\\n저희 둘이 만나면 너무 많이 먹어서\\n데이트하는 날에는 엄청 먹고, 안 만나는 날에는\\n거의 식단+운동으로 관리를 하고 있습니다..ㅎㅎ\\n앞으로도 맛있는 곳 많이 가자 맨쥰~\\n저는 울산 사람이 아니지만 울산 삼산 맛집으로 한식을\\n찾으시는 분들에게 깔끔하고 반찬이 맛있는\\n촌놈밥집을 추천하고 저는 물러가겠습니다!~ '}, 12: {'title': '울산삼산맛집 울산 삼산 해산물 조개갈비찜맛집 위찜', 'nickname': '멜리사\\n(melissa0716)', 'datetime': '2021. 12. 26. 20:03', 'content': '날씨가 갑작스럽게 너무 추워졌는데요 ㅜㅡㅜ\\n한파로 인해 뜨끈뜨끈한 찜요리가 땡기는 요즘 날씨 :)\\n울산삼산맛집 조개갈비찜이 맛있다고 하여 방문해봤어요 ㅎㅎ\\n국물이 시원한 조개찜과 부드러운 갈비찜을 \\n동시에 즐길 수 있는 울산삼산맛집 위찜 !!\\n저는 해산물을 좋아하고 남편은 육고기를 좋아하는데\\n우리부부에게 딱 알맞는 메뉴가 있는 울산삼산맛집 위찜 ㅎㅎ\\n위치도 삼산 롯데백화점 근처라서 찾기도 쉽고\\n바로 옆에 주차장도 있어 주차하기도 편했어요 ㅎㅎ 울산 삼산 해산물 맛집 위찜은 일반 갈비찜부터 \\n대표메뉴인 조개갈비찜과 TV로 방영된 적이 있는 \\n문어전복조개갈비찜 등등 알차게 구성되어 있어요 ㅎㅎ\\n사이드메뉴로 낙지연포탕 / 버터구이 / 멍게 / 조개어묵탕 등\\n다양한 해산물 요리가 가득했는데요 ㅎㅎㅎ\\n메뉴 하나하나 볼때마다 소주 한잔이 떠오르는\\n울산 삼산 해산물 맛집 위찜 !!\\n술을 부르는 메뉴들로 가득해서 모임장소나\\n회식장소로도 너무 좋은것 같은 위찜이에요 ㅎㅎ\\n 저희 부부는 조개갈비찜 주문했어요 ㅎㅎ 가게 바로 앞에는 싱싱한 조개와 해산물들이 가득한\\n수족관이 있어서 믿고 먹을 수 있어요 :)\\n해산물의 싱싱함을 직접 눈으로 볼 수 있어서\\n더욱 맛있게 느껴지는 울산 삼산 해산물 맛집!!\\n수족관이 깔끔하게 관리되어 있어서\\n더욱 믿음이 갔었어요 ㅎㅎㅎㅎ 좌석마다 칸막이가 있고 사이드쪽 좌석에는 넓직하게\\n자리가 구성되어 있어서 코로나 시국임에도 크게\\n걱정안하고 식사를 할 수 있답니다 ㅎㅎㅎ\\n특이한점은 각 테이블마다 화구가 두개씩 있는데\\n그 이유는 바로바로 조개갈비찜이 나오면\\n각각 따로 불 조절을 하기 위함이랍니다 ㅎㅎㅎ\\n퓨전음식점 답게 화구까지 준비되어 있는 위찜 :) 조개갈비찜을 주문하고 나니 밑반찬들이 나왔어요 ㅎㅎ\\n양파절임과 콘샐러드 그리고 야채샐러드와 김치가 나왔는데\\n메인메뉴 기다리는동안 에피타이저로 맛있게 먹었답니다 :)\\n밑반찬들이 전부 다 방금한 것처럼 깔끔하고 \\n신선해서 메인메뉴 기다리는동안 다 먹었네요 ㅎㅎ 드디어 메인메뉴 조개갈비찜 등장!!!! :) \\n등장하자마자 합격 !! ㅎㅎㅎ 누구나 봐도 맛있을만한 \\n비주얼이라 너무너무 기대가 되었는데요 ㅎㅎㅎ\\n신선한 조개들은 입을 서서히 벌리고 있고 갈비는\\n고기는 바로 먹을 수 있게 조리되어 나오고 야채들과\\n당면, 수제비 등은 익혀서 먹으면 된답니다 ㅎㅎ\\n각 찜별로 불조절이 가능해서 갈비찜은 중불에\\n조개찜은 약불에 올려놓고 먹기 시작했어요 ㅎㅎ\\n갈비찜은 매운 단계를 고를 수 있는데 저희는\\n맵찔이인 저때문에 1단계로 결정 !!! ㅎㅎㅎ 조개가 정말 푸짐하게 들어가서 깜짝 놀랐어요 ㅎㅎ\\n키조개도 있고 가리비, 동죽 등 조개 종류도 여러가지가 있고\\n올해는 코로나때문에 조개구이 먹으러 가지 못했는데\\n울산 삼산 맛집 위찜에서 조개를 실컷 먹어보네요 ㅎㅎ\\n가리비랑 키조개는 조금 더 익혀서 먹으면 되고\\n위에 있는 동죽은 바로 먹을 수 있어서 먹는동안\\n나머지는 익혀서 차례차례 먹으면 되요 ㅎㅎㅎ 울산 삼산 맛집 위찜 갈비찜은 사장님께서 손수\\n손질을 해주세요 :) 갈비찜이 부드러운게 눈에 보이는게\\n가위로 쓱싹쓱삭하면 갈비뼈만 깔끔하게 발골이 되는데\\n먹기도 전에 부드러운 식감이 너무 기대가 되었어요 ㅎㅎㅎ\\n순살 갈비처럼 뼈 발라낼 필요 없이 먹을 수 있어\\n편하게 남편이랑 맛있게 먹었어요 ㅎㅎㅎ 울산 삼산 해산물 맛집 위찜 조개찜은 싱싱하다는걸\\n바로 눈으로 볼 수 있었는데요 :)\\n오래된 조개들은 다 익어도 껍데기에 살이 바짝 달라붙어\\n발라내다가 살이 많이 떨어져나가서 엄청 작아지는데\\n위찜 조개들은 살들이 통통하고 부드러워서 너무\\n맛있게 먹었답니다 ㅎㅎㅎㅎ 국물이 아주 시원한 조개찜과 1단계지만 저에게는\\n살짝 매콤한 갈비찜을 번갈아가며 먹으니\\n하나만 먹을때보다 더 맛있게 느껴지네요 ㅋㅋㅋ\\n쫄깃쫄깃한 조개살도 너무 맛있어요 :)\\n차만 안가져갔으면 바로 소주 시키고 싶었는데\\n다음에는 대리를 부르던지 대중교통 타고 방문해야지라고\\n생각하면 반주를 참았답니다 ㅜㅡㅜ ㅋㅋㅋ\\n깔끔하고 시원한 국물이 매력적인 조개찜과\\n매콤하면서 달달한 갈비찜 너무 맛있네요 ㅎㅎㅎ 제가 제일 좋아하는 키조개도 먹기 좋게 잘라서 와사비간장에\\n살짝 찍어서 맛있게 먹고 초장도 찍어먹고하니\\n처음에는 양이 많아 이걸 다 먹을수 있을까했는데\\n너무 맛있어서 배가 불러도 계속 흡입했네요 ㅎㅎㅎㅎ\\n달달한 갈비찜도 너무 부드러워서 버섯과 단호박이랑\\n함께 입안으로 들어가니 살살 녹아버려서 너무 좋았어요 ㅎㅎ\\n납작당면도 갈비찜 양념에 푹 녹아들어서\\n너무 기분좋게 맛있게 먹은 울산삼산맛집 조개갈비찜 :)\\n어제 전날에 파티한다고 음주를 조금 했는데도\\n술을 부르는 울산삼산맛집 위찜 조개갈비찜 ㅎㅎㅎ\\n해산물과 갈비찜 중 무엇을 정할지 선택장애가\\n생긴다면 미련없이 바로 위찜에 방문하시면\\n두 메뉴 다 맛있게 먹을 수 있는 위찜 ㅎㅎ\\n완전 추천드립니다 ㅎㅎㅎ\\n#위찜울산삼산점 #삼산맛집\\n#울산삼산맛집 #울산삼산해산물 #울산삼산갈비찜 \\n#울산삼산갈비찜조개찜 #울산삼산퓨전맛집 \\n#울산삼산신상맛집 #울산삼산퓨전식당\\n#울산위찜 #위찜 #울산조개 #조개탕 #울산조개  '}, 13: {'title': '울산삼산맛집 데이트코스 한우오마카세 우주인 ', 'nickname': '퐝', 'datetime': '2021. 12. 8. 1:36', 'content': '211207 바로오늘\\n기념적인 날인데요 ㅎㅎ\\n출산 후 저희 부부가\\n첫 데이트를 한날이거든요 아가는 부모님 찬스를 쓰고\\n저~~엉말 오랜만에 단둘이 데이투를 \\n했답니다 ㅎㅎ  저희가 선택한 오랜만에 첫 데이트장소는\\n울산달동신상맛집으로\\n한우오마카세를 맛볼수 있는\\n우주인 이에요  아래는 울산삼산맛집\\n우주인 간략 정보에요! 한우오마카세인 만큼\\n미리 예약하는 것은 필수!\\n저희가 식사하는 동안에도 쉴새없이 \\n예약 문의가 오더라구요 ㅎㅎ\\n연말회식 연말모임\\n연말데이트 장소 고민이신분들\\n고민 말고 우주인으로\\n예약부터 문의해보시길 바래요! 예약을 해놓아서 \\n미리 셋팅된 개인 접시와 개인찬 들이에요 \\n정갈한 셋팅에 둑흔둑흔   무말랭이/ 갓장아찌?/고추장아찌 \\n가 기본찬으로 나왔어요  내부 테이블은 바형식으로 된 테이블\\n4인 테이블 서너개?\\n그리고 단체석까지\\n좌석이 다양하게 있어서\\n연말데이트\\n연말회식\\n연말모임\\n다양한 목적으로\\n한우오마카세를 즐길 수\\n있겠더라구요  우주인의 뜻은\\n최상급 한우와\\n어울리는 술을\\n향유하는 사람이라는 뜻으로\\n저희 부부는 우주인이였네요^^... 사진이 많이 흔들렸네요 ㅠㅠ\\n울산 한우오마카세 우주인은\\n코스1과 코스2 두가지와 \\n단품메뉴로 구성되어 있는데요\\n코스1과 코스2의 차이는\\n제공되는 한우 부위의 차이와\\n코스 가지수가 달랐어요 ㅎㅎ \\n물론 가격이 비싼만큼 \\n더 퀄리티 있는 식사를\\n즐길 수 있겠죠?!\\n저희는 한우오마카세는\\n처음 먹다보니 일단\\n코스1을 먼저 먹어보기로 했어요  주류는 \\n소주맥주 당근 있구요\\n에비스생맥주와 하이볼을\\n잔으로 팔고 있더라구요\\n그리고 증류식 소주들과 함꼐\\n프리미엄 막걸리도\\n판매하고있더라구요\\n그리고 콜키지도 \\n일정의 금액을 내면 가능했답니다   우주인의 한우오마카세 코스1은\\n웰컴드링크인\\n청귤 에이드로\\n상큼하게 시작되었습니다  그리고 토마토마리네이드와\\n아보카도를 곁들인 매쉬드포테이토가\\n애피타이져로 나왔어요  바질소스를 곁들인\\n상큼터지는 방울토마토\\n아주아주 맘에 들고요\\n아보카도 매쉬드 포테이토도\\n안주로 술술 들어가더라구요 탐나는 \\n깔끔한 사각화로에\\n직접 구워서 주시는데\\n적당한 거리감으로\\n부담스럽지 않게\\n저희 얘기를 나누면서\\n식사를 즐길 수있어서\\n정말 좋았어요  맛있는 안주에\\n좋은 술이 빠질 수 없죠\\n저희는 처음 즐겨보는\\n프리미엄막걸리로\\n술취한 원숭이를 선택했어요  술에 어울리는\\n예쁜 잔까지 함께 내어주는 \\n울산삼산맛집\\n우주인의 센스! 웁스\\n신선한 막찍기도 나오더라구요 막찍기 전문점이 아닌곳은\\n대충 초장으로 소스가 나오는 경우가 많은데\\n한우오마카세 우주인은\\n 전문점 양념장\\n못지않게 감칠맛나는 소스를 내주셔서\\n감동감동 막찍기 한점\\n술 한잔은\\n국룰이쥬 속을 따땃하게 데펴줄\\n한우스지탕도\\nㅎㅎㅎ 그리고 차돌박이 분짜까지\\n한우오마카세 답게 \\n 다양한 한우부위가\\n다양한 메뉴로 \\n코스에 어우러져 나와\\n먹는 재미가 있었구요\\n접시나 그릇도\\n메뉴에 맞게 센스있게\\n선택하셔서\\n정말 대접받는 느낌이 들었답니다  본격적인 한우 구이인데요\\n이것이 바로 유명한 \\n1++No.9 등급의\\n프리미엄 한우의 때깔 \\n블링블링 마블링이\\n보기만 해도\\n제가 녹을것 같네용!\\n등심 부채살 안창살 안심 그리고 생갈비로\\n구성되어 있었구요\\n애호박 가지 연근 참송이 그린빈까지\\n야채들도 함께 곁들여 구워먹었답니다  물론 굽는것은 우주인 직원분들이\\n직접 구워주신답니다\\n먼저 등심으로 시작해요  야채들은 각각 버터를 바르며\\n정성스레 구워주시더라구요  노릇노릇 \\n역시 남이 구워주는 꼬기가 세젤맛! 1++No.9 등급의 꼬기라\\n입에서 살살 녹구요  연근구이도 노릇노릇 \\n어쩜 이렇게 먹기 좋게 잘구워주시는건지\\n고기굽기 자격증 1급 마스터신가봐요! 육즙팡!터진후\\n솜사탕처럼 스르르\\n사라지는 고기\\n정말 넌 MAGIC 아직 코스는 끝나지 않았따\\n싱싱한\\n하프쉘 굴도 나오고요\\n레몬에 타바스코까지\\n오늘 지대로 한번 먹어볼랍니다  올해 첫 굴을\\n한우오마카세 우주인에서 \\n개시했네요 ㅎㅎ \\n영광스럽네예 눈꽃치즈와 함께\\n어울러진 \\n떡갈비가 어쩜 이리 고급진지 ㅎㅎ보기에도 예쁜 떡갈비\\n맛도 좋았답니다  이번엔 부채살을\\n애호박과\\n가지와 함꼐 구워주셨어요\\n야채는 마찬가지로 버터칠해서\\n꼬숩게 구워주셨는데\\n한우맛집인데\\n야채도 맛과 식감 살려\\n구워주셔서\\n넘 맛있었던것 \\n실화소니...? 두툼한 부채살도\\n부드럽게 녹아내리는 \\n너는 magic.... 안창살은 \\n그린빈과 참송이버섯과 함께 구워주시구요 각 부위들을 야채와 함께 구워주셔서\\n너무 느끼하지 않게\\n즐길 수 있었답니다 ㅎ 참송이버섯도\\n버섯향 느낄 수 있게\\n하나하나 직접 찢어 주셨고\\n참기름장에 찍어먹으니\\n송이향 가득 \\n올해는 송이를 못먹었는데\\n우주인에서\\n참송이로 대신해서\\n만족 만족  마지막 \\n1++No.9 등급\\n한우부위\\n생갈비입니다 ㅎㅎ  사진엔 없지만\\n생갈비는 파간장소스에 먹으니\\n찰떡이었구요 ㅎㅎ\\n꼬수운 맛 최강이었어요!\\n해운대 유명 갈비집 \\n부럽지 않은 \\n쵝오의 맛이었어요 \\n#울산한우생갈비 맛집 구이가 끝나고\\n식사는 깔끔하게\\n밥과 된장국으로 나왔구요  마지막 디저트까지\\n챙겨주시는 센스센스\\n바닐라아이스크림에 콩가루?미숫가루\\n이건 완전 제 st... 출산 후 첫데이트에서\\n인생 첫 한우오마카세\\n인생 첫 1++No.9 등급 한우\\n그리고 출산 후 첫 아이스크림 까지 ㅎㅎ \\n정말 완벽한 \\n식사데이트 시간이었어요  울산한우맛집 우주인에서 \\n식사하는 내내\\n넘넘 즐거웠답니다  다음에는 코스2 먹으러 올려구요!\\n다시한번 강조드리지만\\n연말모임\\n연말데이트\\n연말회식\\n장소 고민하지 마시고\\n일단 예약문의부터 !!!\\n프리미엄한우를 즐길 수 있는\\n우주인으로 연락해보시길\\n강추드려요! #울산한우맛집 #울산한우오마카세 #울산데이트코스 #울산삼산맛집 #울산달동맛집 #울산맛집 #울산한우생갈비 #울산한우코스요리  #투뿔한우 #프리미엄한우 #울산우주인 '}, 14: {'title': '삼산 맛집, 뇨끼와 샥슈카가 맛있는 브런치 레스토랑 1616', 'nickname': 'Grace89', 'datetime': '2021. 11. 5. 0:59', 'content': '#삼산맛집 #울산맛집 #1616 #삼산일육일육\\n#울산뇨끼맛집 #샥슈카맛집 \\n#울산1616 #울산삼산맛집 \\n#울산브런치레스토랑 정말 오랜만에 포스팅하는 울산맛집🙂\\n남편띠 생일을 맞이하여\\n특별히 반차를 쓰고 데이트하자고\\n집으로 달려온 세상 서윗한 남편띠❤\\n오전엔 남편 생일상에 올릴 나물 4종세트를\\n후다닥 만들고 오랜만에 시내로 나갔다.\\n지난번에 방문했다가 주차할 곳이\\n마땅치않아 다른 식당엘 갔었는데\\n이 날은 느즈막한 오후라 주차자리가 널널했다😙\\n저번에 친구가 찾아내서 같이 와서\\n뇨끼랑 볼로네제 파스타를 먹었는데\\n정말 맛있어서 남편띠랑 꼭 와야지했는데\\n드디어 와보네🤗 간판부터 힙한 느낌 물씬나는 1616 😊 가게 앞에 주차할 수 있는 공간이 있는데\\n4~5대 정도 주차가능하다.\\n간혹 손님 중에 주차선을 물고 주차하면\\n주차공간이 2~3대 정도밖에 나오지 않아\\n좀 아쉽긴하다. 철문을 열고 들어가면\\n요런 아늑한 인테리어가 뙇!\\n그 말로만듣던 미드센추리 모던 서타일😎 채도 높은 붉은색 타일이 \\n촌스러운 듯하면서도 감각적으로 느껴진다.\\n이게 바로 1960년대 미국느낌인건가 🇺🇸 \\n벽면과 테이블이 나무로 되어있어\\n레트로하면서 빈티지한 너낌 뿜뿜이다. 안심콜도 야무지게하고 손소독도 했다😗 메뉴판도 심플해서 좋다😘\\n브런치 레스토랑답게 \\n시그니처메뉴는 1616 Breakfast 인듯한데\\n왠지 메뉴가 예상대로일듯해서\\n다소 생소한 트러플 크림뇨끼와 샥슈카를\\n주문하기로 했다.\\n그리고 생일이니까 푸짐하게 먹으려고 라구볼로네제도 주문했다 호호🤭 음식 기다리는동안 독특한 인테리어와\\n소품들을 구경하기로 했다😶 가게 군데군데 있는 조명들이 정말 예뻤다. 요런 스티커도 비치되어 있었다. 물병도 귀엽구나ㅋㅋㅋㅋㅋ 접시와 커트러리도 세팅완료🍴 본격적인 식사에 앞서\\n식전빵 두 조각과 딸기잼이 나왔다 🍓  빵이 따끈따근해서 맛있었다. 샥슈카는 서양식 부대찌개라고 하는데\\n중동지역쪽 음식이라고 한다.\\n이름마저 생소한 샥슈카😅 샥슈카는 토마토소스 베이스에\\n소시지와 각종 야채와 달걀을 넣어 만드는\\n요리인데 샥슈카의 다른 이름은\\n에그인헬이라고... 뭔가 무시무시한데?🤔 샥슈카는 바삭하게 구워진 빵과 함께 나왔다. 요렇게 빵위에 올려서 먹으니 맛났다.\\n역시 탄수화물 짱 👍\\n샥슈카는 토마토소스에서 살짝\\n매콤한 맛이 나서 뇨끼나 볼로네제랑 먹어도\\n물리지 않고 입안을 정리해주는 느낌?\\n싸한 매운 뒷맛이 깔끔해서 좋았다😚 트러플 크림 뇨끼는\\n생김새가 앙증맞은데 맛은 앙증맞지않고\\n깊고 진한 맛이다. 나혼산에서 키가 뇨끼 만드는 거 보니\\n예삿일이 아니던데\\n요건 삶은 감자반죽을 다시 구워 \\n크림소스를 곁들여 내어 손이 더 많이 갈 듯하다. 뇨끼 하나를 푸욱 떠서  접시로 가져와 반을 갈랐다.\\n안엔 으깬 감자가 들어있는데\\n겉쫀속촉? 겉은 쫀득하고 속은 촉촉! 트러플 오일이 살짝 들어가있는\\n크림소스를 끼얹어 먹으니 맛있었다.\\n크림소스는 간이 세지 않고 적당한 묽기여서\\n아이가 먹기에도 좋을 듯했다.\\n남편띠는 먹어보더니 오~ 맛있네 하며\\n이거 수아도 만들어주고싶다며\\n요리에 대한 의지를 다시금 불태웠다 🔥  라구 볼로네제는 \\n간 고기가 듬뿍 들어가있고\\n토마토소스가 간이 세지 않아 좋았다.\\n샥슈카가 좀 맵삭한 편이라 \\n볼로네제와 함께 먹으니 볼로네제 소스 맛이 \\n상대적으로 약하게 느껴졌다. 샥슈카 & 볼로네제 조합보단\\n볼로네제 & 뇨끼 조합이 더 좋은 듯하다. 라구소스가 뻑뻑하지 않고 촉촉해서 좋았다. 볼로네제도 맛있어서 옴뇸뇸🥰 사진 다 찍었으니 본격적으로 한 번 먹어볼까나?\\n룰루랄라 🎶  샥슈카 - 뇨끼 - 볼로네제 무한루프 ♾ \\n우주만큼 먹을 수 있을 듯ㅋㅋㅋㅋㅋㅋㅋ\\n내가 사는 건 아니었지만\\n남편띠도 맛있게 잘 먹어서 \\n기부니가 정말 좋았다😊 오랜만에 완밥샷ㅋㅋㅋㅋㅋ\\n소스 다 긁어먹은거 보소ㅋㅋㅋㅋㅋ\\n브런치카페와서 거하게 식사한 우리 부부 💑 \\n다음엔 수아도 한 번 같이 와서\\n뇨끼를 맛보여주고 싶은 곳이었다😗 울산 삼산 브런치카페 1616 은\\n감각적인 인테리어와 분위기가 좋아\\n친구들끼리, 연인과 함께 식사하기 괜찮은\\n브런치카페로\\n흔치 않은 메뉴인 뇨끼와 샥슈카를 맛볼 수있고\\n음식들도 맛있어서\\n점심시간 대엔 손님들이 다소 많은 편이었다.\\n평일 오픈시간이나 늦은 점심 시간 대는\\n그나마 손님이 적어 여유있게 식사하기 좋았고 \\n직원분도 친절했다.\\n아기의자도 구비되어 있어\\n아이동반 손님들도 식사하기 좋을 듯하다.\\n분위기도 좋고 음식도 맛있어서\\n이미 입소문 타고 유명해진 맛집인데\\n지금 이 맛 변치않고 오래 유지되었으면하는\\n삼산 브런치 찐맛집 1616 😘 ✔ 영업시간 \\n▪️ 오전 11시 ~ 오후 9시\\n▪️브레이크타임 : 오후 3시 ~ 5시\\n(브런치메뉴만 브레이크타임 적용,\\n커피와 샐러드는 항상 가능)\\n ✔ 월요일 휴무\\n✔ 주차장 있음, 아기의자 있음\\n(가게 앞 4~5대 정도 가능)'}, 15: {'title': '울산 삼산 초밥맛집 혁이네 ', 'nickname': '져니', 'datetime': '2021. 12. 15. 13:11', 'content': '점심 뭐먹을까 고민하다가 삼산에 신상초밥집이\\n있다고 해서 슝 달려갔어요!🍊\\n오픈어택 좋아하는 저는 오전중에 방문했더니 \\n한산하니 좋네요! \\n가기전 인스타 구경했는데 얼마나 먹음직스럽던지\\n기대하며 도착! \\n이름은 삼산맛집 혁이네 얼른 들어갈게요 현대백화점뒷편에 위치하여있어요! \\n빨간간판이 눈이갑니다  스시맛집 혁이네 주차장이 있답니다\\n건물뒷편에 위치하고 2시간 무료라니까 편하게\\n주차하셔요! \\n저 주차장 없는지 알고 백화점에 했는데 늦게봤네요😅\\n오픈은 오전 11:30\\n닫는시간은 10:00 꽤 오랫동안 영업하네요! \\n테이크아웃도 가능하고 휴무는 월요일이에요!  내부는 아늑하니 아담하구요! \\n꽤나 테이블이 있고 바 형식 테이블 덕분에 혼밥하기에\\n우드느낌으로  분위기있구요🌻 바테이블 너무 좋죠😉 혁이네 메뉴에요! \\n연어러버는 보자마자 고민중! \\n왠지 모르게 연어광어 셋트가 땡겨서 2 세트와\\n초밥으로 아쉬운 똥똥보 둘은 연어샐러드까지 \\n추가로 시켰어요! \\n양은 딱 좋았답니다 맛나니까요🤭\\n그리고 지라시동과  사시미도 너무 궁금해서\\n조만간 또 가고파요,,  모든 초밥은 10 피스이고  \\n우동도 함께 제공된답니다\\n그리고 연어불초밥(연어아부리) 갯수도\\n선택가능하니 원하는대로! \\n전 반은 구워달라고했지요😀\\n구운연어좋아아아아!!  먼저 내어주신 우동! \\n면도 많고 탱글!!! \\n특히 우동국물이 흔히 먹는 초밥집가서 초밥먹을때 주시는\\n국물과 달리 좀더 감칠맛강하고 약간 맵싹하고\\n맛났어요  국물리필할뻔😙 바로 나온 저희의 초밥\\n연어+ 광어초밥셋트와 연어샐러드 \\n아주 멀리서 봐도 맛나보이죠,, 이순간이\\n제일 설레요🌸 멀리서 봐도 두툼함 느껴지나요! \\n두툼한 초밥 입에서 딱 가득씹는맛 사,, 사랑합니다♥️\\n생와사비, 락교 그리고\\n와사비는 따로 주니까 원하는만큼 취향껏! \\n강렬한 와사비니까 너무 욕심부리지말아요\\n저는 코찡으로 많이 울었슴다(?)  아부리 미쵸따,,,,,,, \\n너무나 적당하게 잘익어서 맛나보이는 내연어초밥\\n연어가 오도통하고 두툼하니 너무 맛나보여요\\n사진찍으면서도 맘이 조급해졌어요 함께나온 샐러드는 유자소스같은 소스라서\\n새콤하고 연어랑 어울렸어요! \\n연어가 아주 큼직하구요⭐️ 연어 한번더 구경하고,,!! 생연어부터!!!!!! 대박♥️\\n옆모습(?) 을 보세요 두우툼!!!! \\n내뱃살같네(?) 연어 두툼하고 밥 양도 적당하고 맛있어요!!!!!!! \\n특히 전 회 크기에 비해 밥만 엄청 큰거 싫은데\\n밥양도 적절해서 딱 좋았어요!   중간에 상큼한 샐러드로 얌얌🥰\\n이렇게 연어한조각과 야채랑 같이 호로록  다음은 광어다!!!! \\n연어러버라 연어에 기대가 컷는데\\n와이?????? 광어왜이리 쫀득하죠! \\n이집 광어맛집이네\\n광어가 너무 쫀득하고 식감좋고 초밥이랑 잘어울려요\\n연어광어초밥 구성강추!!  아부리 말모,,,,, 촉촉 식감최고!! \\n구운연어 옳아요 너무좋아요♥️ 와사비는 코찡 할수 있으니 적당히♥️ 연어초밥에 광어 그리고 우동까지 구성좋고\\n맛까지 좋은 울산 스시맛집 혁이네\\n스시땡길땐 삼산에 혁이네 추천해요! \\n< 영업시간>\\n매일 11:30-22:00 \\n월요일 휴무\\n< 위치> \\n울산 남구 삼산중로84번길 3 리더스빌딩 B동 107호 혁이네  '}, 16: {'title': '울산 삼산 맛집, 해운대31cm해물칼국수', 'nickname': '날다', 'datetime': '2021. 12. 2. 22:20', 'content': '오늘 날다의 #원픽 #핫플 소개할 곳은 울산 삼산 칼국수 가게!\\n여기는 전에 동생이 기장에서 맛있게 먹은 해물칼국수 가게가 있다고 추천해 줬던 곳인데\\n울산 삼산에도 생겼길래 한 번 가보았습니다! 해운대31cm해물칼국수 울산삼산점 위치는!\\n울산 삼산의 현대백화점 쪽 공영주차장을 찾으시면 쉽게 가실 수 있습니다.\\n공영주차장이 바로 보이는 곳에 있거든요. 큼직한 글씨의 간판을 바로 찾을 수 있습니다.\\n밤에는 간판 불이 환하게 밝히고 있어서 더 눈에 띄는 것 같아요 ㅎㅎ 점심시간이 좀 지나고 갔었는데도 손님들이 많았어요.\\n저녁에는 지나가면서 봤는데 (낮에 외부 간판을 안 찍었던 게 생각이 나서 밤에 ㅋㅋ)\\n그때도 손님들이 많이 계시더라구요.\\n앉을 수 있는 테이블이 넉넉하게 있었어요. 주로 4명이 앉을 수 있는 자리였습니다. 해운대31cm해물칼국수 메뉴판 ★\\n대표메뉴인 31cm해물칼국수가 있구요.\\n조개전졸, 물총조개탕, 해물파전이 있어요. 조개 파티! 해물 파티!\\n자유롭게 더할 수 있는 추가메뉴도 있고, 음료도 있어요.\\n봐도 봐도 여기는 한 잔 하러 와야 할 것 같은.....!!!!!ㅋㅋㅋㅋ 대표 메뉴인 칼국수를 주문하고 기다리니 김치가 먼저 나왔습니다.\\n메뉴판에 김치가 아주 매우니 조금씩 덜어먹으라고 되어 있었어요.\\n칼국수가 나오기 전에 한 입 먹어봤는데 처음에 달큰하고 시원한 맛이 나더니\\n매운맛이 점점 올라오더라구요. 꽤 매운맛이 났어요!! 드디어 주문한 해물칼국수가 나왔습니다!!!\\n조개가 짱 많아요! 해물칼국수와 김치.\\n간단한 듯 간단하지 않은, 푸짐한 한 상입니다. 조개가 아주 가득한 해물칼국수.\\n2인분을 주문했어요! 사진을 좀 찍어보고 싶었는데 ㅋㅋㅋ 뜨거워서 김이 아주 펄펄!\\n겨울에 너무 잘 어울리지 않나요? 겨울에 딱 어울리는 음식이었습니다.\\n해물칼국수인데 조개 칼국수라고 해야 할 것 같아요 ㅋㅋ\\n홍합, 동죽, 가리비 3종류의 조개가 들어 있었습니다. 뾰로롱 ★\\n조개 아래에 칼국수 면이 들어 있어요!!ㅋㅋㅋ\\n칼국수도 넉넉하게 들어 있는데\\n조개가 정말 많아서 덮여 있는 수준 ㅋㅋㅋ 조금 건져 먹고 나니 칼국수가 보이는 것 같아서 한 컷 더 ㅋㅋㅋㅋ\\n두 그릇?은 떠서 먹었는데 이만큼 ㅋㅋㅋ 양이 넉넉했어요. 준비된 접시에 덜어서 먹었습니다.\\n면은 쫄깃쫄깃한 편!\\n면도 괜찮았는데\\n국물과 조개가 너무 좋았어요 ㅋㅋㅋ\\n솔직히 이날 조개는 정말 많았는데 조개살 자체가 너무 작은 거예요 ㅠㅠㅋ\\n그건 뭐 어쩔 수가 없으니 ㅠㅠ 조개 크기가 작다는 건 좀 아쉬웠는데\\n조개가 맛이 괜찮았어요. 특히 3개 들어 있는 가리비!! 가리비에서 단맛이 나더라구요.\\n깔끔한 해물 단맛이 나는 가리비 최고였어요 ㅋㅋ 매콤한 김치와도 잘 어울렸습니다.\\n다 먹고 나서 또 아쉬웠던 건, 이 남은 국물을 가져갈 수 없는 것?!ㅋㅋㅋㅋㅋㅋ\\n국물이 맛있었다고 했잖아요 ㅎㅎ 국물이 조개의 단맛과 시원한맛이 잘 느껴지고\\n텁텁함이 없이 아주 깔끔했는데 국물을 남기고 가는 게 너무 아쉬웠어요 ㅋㅋㅋ\\n국물 따로 집에 가져가서 라면이라도 끓여 먹고 싶은 것...!ㅋㅋㅋㅋㅋ 다 먹고 나서 조개껍데기 탑이 쌓인 걸 찍어보았습니다 ㅋㅋ 정말 많죠?\\n국물이 깔끔하고 시원하고! 맛이 좋아서\\n추운 겨울 텀블러에 담아 다니고 싶은 그런 맛이었습니다 ㅋㅋ\\n다음번에 가면 조개전골이나 물총조개탕 주문해서\\n쏘주 한 잔 짠! 하고 와야겠어요 ㅋㅋㅋ\\n+\\n유난히 바람이 많이 불어 추웠던 날!\\n뜨끈한 국물이 너무 간절해서 또 다녀왔습니다 ㅎㅎㅎ 3명이 방문해서 해물칼국수 2인에 파전도 하나 주문을 했습니다! 오늘도 조개가 가득가득!\\n국물도 역시 맛이 좋았어요 ㅎㅎ\\n다음엔 포장을 해보고 싶은 마음 :) 크키가 31cm인건가?\\n파전 비주얼은 일반 파전이랑 크게 다를 것이 없었어요.\\n오징어가 눈에 띄게 들어갔다는 것 빼고는?\\n그런데 기름을 잘 먹었다고 할까요 ㅋㅋ\\n너무 기름지지 않고 딱 바삭하게 적당히 잘 구워졌더라구요.\\n고소한 맛이 더 잘 느껴지는 것 같아서 파전도 맛있게 먹었습니다:D'}, 17: {'title': '울산 삼산 맛집 온리육 다녀와봤어요.', 'nickname': '수요니', 'datetime': '2021. 9. 6. 14:24', 'content': '핫플 다녀와본지가 언제인지 모를 정도로\\n가는 곳만 가는 스타일의 저를 위해\\n친구부부가 추천해준,\\n울산 삼산 맛집 온리육 포스팅 해볼게욥!\\n저는 검증된 곳만 가는 스타일이라\\n핫플도전 잘 안하는 편이거든요..ㅎㅎ\\n검증된 핫플 가는건 좋아해용><ㅋㅋ 울산 삼산 맛집 온리육 위치는 \\n삼산 트레비어 사거리 쪽에서 대로변으로 \\n바로 보이는 곳에 위치해있어요. 주차장은 매장 바로 옆 가나주차장 \\n또는 노상공영주차장 이용하시면되고,\\n이용시 테이블당 주차권 제공해주신다고 되어있었어요. 입구에 QR코드 하던 중 발견한 문구.\\n사장님께서 얼마나 손님들을 신경쓰시는지\\n엿볼 수 있는 문구여서 \\n들어서기 전부터 좋은 인상을 심어줬어요. 저희가 도착했던 시간이 5시 반쯤이었는데\\n꽤 손님들로 북적이고있었어요~. 홀테이블이 이렇게 독립적으로 되어있어서\\n참 좋더라구요.\\n이런 쇼파식 의자 좋아라하는 1인이에요.ㅎㅎ 하지만 저희는 룸자리를 더 선호하기때문에\\n혹시 룸자리 있는지 여쭤봤었어요.\\n안쪽으로 마련이 되어있다며 안내해주셨어요. 룸자리 안내받으면서 유리가 너무 이뻐서\\n안찍을 수가 없더라구요.\\n인테리어가 넘 독특해요~! 룸자리 안내받은 즉시\\n테이블 세팅해주시는 빠른 손놀림!!\\n감사합니다.ㅎㅎ 울산 삼산 맛집 온리육 메뉴판\\n같이 구경 해보실까요~?!ㅎㅎ\\n저희는 온세트 주문했어요. 식전요리로 전복죽이 제공되었는데\\n어찌나 진한 전복맛이 나는지,,,\\n이정도 솜씨면 죽집을 해야하는거 아닌가? 싶을정도였어요.ㅎㅎ 기본 찬은 단촐하지만\\n필수템만 모아놓은 구성이에요.ㅎㅎ\\n저는 이런거 좋아해요..\\n고기에 집중할 수 있거든요><ㅎㅎ 개인앞접시에 이렇게 담겨져 나오는 것도\\n느낌있고 좋았어요.ㅎㅎ\\n느낌 아니까~~>~<♡ 저희가 주문 한 온세트 세팅되었어요.\\n사장님께서 직접 고기를 구워주시는 방식이라\\n고기굽는 걱정은 1도 안하셔두되요~\\n테이블에 화구도 가쪽으로 제작된 테이블이라\\n불앞에서 얼굴뜨거워질 일도 없어용.ㅋㅋ 앞뒷면 익혀주시면서 육즙 잡아내주시는 스타일이\\n완전 제스타일이에요~~!!\\n고기 너무 잘구워 주시던 싸장님 멋져요~~ㅎㅎ 어느정도 앞뒷면이 익었다 싶을때\\n이렇게 반으로 갈라서\\n측면도 익혀주셔용~~~ 측면까지 익혀내서 육즙이 잡히면\\n컷팅해서 돌돌 굴려주기면서 익히면 끝!! 타이밍 기가막히게 주문 한 생맥주가 세팅되었어요.\\n공복에 맛보는 살얼음 생맥주란..... \\n정말 사랑이었어요....!!\\n생맥주가 입으로 넘어오는데도 살얼음이 살아있을 정도로\\n넘 시원하더라구여+_+♥ 고기의 첫 술은  소금에 찍어드시는거\\n국룰인거 아시죠~?ㅎㅎ\\n육즙이 꽉 가둬져서 \\n얼마나 고소한지몰라요 ㅠㅠ!! 울산 삼산 맛집 온리육 에서\\n사이드로 제공되는 또띠아도 구위내서\\n밑반찬으로 나와있는 토마토와 곁들여 싸먹으면\\n또다른 고기의 맛을 접할 수 있더라구용!! 눈 깜짝할 사이에 사라지는 고기들을위해\\n얼른 삼겹살도 올려뒀어용,ㅎㅎㅎㅎ\\n흐름끊기면 안된다구욧>< 삼굡살 맛있게 구워질 동안 \\n잘구워진 버섯도 냐미냐미~~\\n울산 삼산 맛집 온리육 굽는거\\n진짜 잘해용~~!!\\n육즙 가두기 고수님이신 것 같아용♥_♥ 오동통한 삼겹살도 \\n넘넘 맛있...ㅠㅠ\\n맛있게 먹을 수 있도록\\n맛있게 구워주셔서 감사했어용!!★ 저 된장찌개에 소고기 들어간거 \\n엄~~청 좋아라하거둔요><?ㅎㅎ\\n한우된장찌개가 있길래 시켜봤어욧! 밥그릇은 비빔그릇 같은 곳에 주시더라구요?ㅎㅎ\\n밥그릇을 받으면 된찌를 비벼먹어야겠다고 \\n직감적으로 생각했죠.ㅋㅋ 한우스지 듬뿍 들어간 한우된장찌개까지\\n하나도 빠짐없이 넘 만족스러웠던\\n울산 삼산 맛집 온리육 방문기였어요~! 장소: 울산광역시 남구 삼산중로 43 '}, 18: {'title': '울산 삼산 쌀국수 해외 느낌 제대로인 맛집', 'nickname': '맛집 탐험가', 'datetime': '2021. 9. 10. 15:00', 'content': '센트럴자이 테라스가든 1층에 자리하고 있는\\n해외 감성 제대로 갖추고 있는\\n팬아시아에 다녀왔어요. 친구랑 같이\\n저녁 약속을 잡은 날이었는데 어디 가지\\n고민은 되는데 어딜 가야 할지는 모르겠는\\n그런 날이었거든요. 둘 다 이것도 좋고 \\n저것도 좋다고 하는 와중에 제가\\n제안 하나 했죠! 울산 삼산 쌀국수\\n맛집 있다고 들었는데 같이 도전해보자고요~ \\n안 그래도 해외여행 좋아하고 외국 음식\\n먹는 것을 즐기는 친구인지라 바로 콜 하더라고요~ 도착하자마자 화려한 분위기에 완전\\n반해버렸어요. 상가 자체가 너무 예쁘게\\n잘 되어있더라고요. 그곳의 1층에 \\n다른 세상처럼 느껴지는 야외 분위기를\\n자랑하는 곳이 있었으니. 바로 팬아시아입니다.\\n울산에 이렇게 아시아를 가득 담은\\n곳이 있었다니요! 집과도 많이 멀지 않은\\n곳인데 이제 발견한 것이 아쉬울 정도였답니다.\\n울산 삼산 쌀국수 먹으러 오길 잘했다는 생각이 드네요.\\n곧장 안으로 들어가기 위해서 달려갔죠.\\n친구도 신이 나서 쫓아왔답니다. 입구부터 두근두근. 베트남 여행 가서\\n호텔 입구에 서있는 그런 기분이랄까요.\\n내부는 또 얼마나 잘 꾸며져 있을지\\n기대가 되는 순간이기도 했어요.\\n양쪽에 서있는 키 큰 식물들도\\n해외 감성처럼 와닿았던 곳입니다. 야외에도 이렇게 테이블이 있긴 하지만\\n저랑 친구는 아직은 덥다며 안으로\\n곧장 들어가야 했네요.\\n이곳은 매일 11시 30분부터 저녁 10시까지\\n마지막 주문은 오후 9시까지입니다.\\n가실 때는 시간 참고해 주세요~\\n울산 삼산 쌀국수 시간을 맞추지 못해서\\n아쉽게 등 돌려야 할 때도 있을 수 있으니깐요. 들어가기 전에 있는 입간판 속 메뉴도 \\n한번 슥 확인해 주고요! 여러 가지 아시아\\n음식들이 준비되어 있다는 것을\\n확인할 수 있었답니다. 빨리\\n그 맛을 직접 보고 싶어지더라고요!\\n처음 보는 음식들도 있어서 꼭 \\n도전해봐야겠다 싶기도 했고요. 내부로 들어가니 밝고 깔끔하게\\n하지만 라탄들로 가득해서\\n동남아 느낌이 대단합니다.\\n특히 조명에도 라탄 커버가 씌워져\\n있어서 느낌이 살더라고요. 곳곳에 있는\\n식물들도 이곳이 울산이 아닌 \\n다른 곳이라고 말하는 것 같아서\\n해외여행 온 듯한 기분도 만끽했네요. 어딜 앉을까 고민될 정도로 예쁜 자리들!\\n손님들께서도 울산 삼산 쌀국수\\n예쁜 자리에 도란도란 앉아 맛있게\\n식사를 하고 계셨답니다. 고민 끝에 선택한 저희의 자리입니다!\\n창가 쪽은 아니지만 뭐랄까 \\n조명이 바로 위에 있어서 상당히\\n마음에 들더라고요. 셀카도 많이 찍고 싶어서\\n조명 아래로 선택해서 자리 잡고 앉았어요. 울산 삼산 쌀국수 집의 메뉴판입니다.\\n예쁜 사진으로 커다랗게 되어있는\\n메뉴판의 첫 장을 보고는\\n여기 컨셉 제대로라면서 친구랑\\n한참을 좋아했던 것 같아요. 설레는 마음으로 메뉴판도 확인해 주고요\\n여러 가지 메뉴들 중에서 고민을 \\n하다가 서프앤터프, 우삼겹매운쌀국수\\n라임모히또를 주문했습니다.\\n쌀국수 주문하실 때는 고수를 빼거나\\n혹은 더 많이 추가하거나 선택할 수 있으니\\n못 드시는 분들은 꼭 미리 말씀하세요~ 얼마 지나지 않아서 이렇게 \\n메뉴가 등장했습니다. 해산물 가득\\n거기에 고기까지 올려져 있는 서프앤터프입니다.\\n빵이랑 즐길 수도 있고요.\\n소스 찍어서 양상추와 함께 즐길 수도 있어요.\\n고수도 따로 빼서 챙겨주셨고요. 스테이크가 정말 부드러웠어요.\\n여기에 해산물 볶음, 돼지고기볶음\\n양파튀김이 함께 나오고요.\\n양상추에 여러 가지 올려서\\n먹으니 입안 가득 행복으로 차버리더라고요.\\n해산물도 싱싱해서 맛이 좋았습니다! 보기에도 너무나 맛있어 보이지 않나요.\\n식재료들이 모두 싱싱하고\\n고기도 익힘 정도가 적당해서 너무 좋았어요.\\n먹는 재미 여러 가지 취향대로 선택해서\\n즐기는 재미까지 고루 갖추고 있는 곳이었네요. 첫 도전했던 서프앤터프는 너무나 완벽!\\n여기에 매콤함을 즐길 수 있었던\\n우삼겹 쌀국수도 그냥 지나칠 수 없죠.\\n육수 맛이 너무나 좋아서 그런지\\n다른 곳과의 쌀국수와는 완전히\\n차별화된 맛을 느꼈던 것 같아요. 쌀국수 국물로 얼큰하게 즐겨주고\\n서프앤터프 먹어주고요.\\n두 개의 조합이 상당히 좋았답니다. 울산 삼산 쌀국수 맛집으로 이미 \\n입소문 난 이유를 알겠더라고요.\\n면도 가득~ 양도 풍부한 편이라서\\n배 터지게 잘 먹었네요! 여기에 모히또로 입가심까지.\\n주문한 메뉴 모두 완벽하고 양도 많고요.\\n무엇보다도 맛이 있어서 다음에 꼭 \\n재방문하고 싶은 곳이에요.\\n다음에 가서는 또 다른 새로운\\n음식들에 도전해봐야겠네요! \\n#팬아시아울산삼산점 #울산삼산쌀국수 #울산가볼만한곳 #팬아시아 #울산맛집'}, 19: {'title': '울산 삼산 맛집 / 숙성돼지고기 진리 온리육 ', 'nickname': '황씨\\n(hwang_c11)', 'datetime': '2021. 10. 7. 11:26', 'content': '울산 삼산 신상 고기 맛집\\n온리육 안녕하세요 황씨입니다\\n얼마전에 제가 삼산 고기 찐 맛집 온리육에 다녀왔어요.\\n생긴지 얼마 안되었지만 핫한 고기맛집이랍니다.\\n고반식당, 곱간, 새마을식당, 에머이 등 여러 매장을 운영하는 사장님 3분께서\\n뭉쳐 만든 최고의 숙성 돼지고기 구이 전문점이라고 하더라구요.\\n요즘 또 핫하다고 하니 삼산은 잘 안나가지만 맛있는 고기먹으러\\n온리육 다녀온 후기 한번 써볼게요 ! ! (일단 대만족 !) 여기가 바로 울산 삼산 고깃집 온리육이에요\\n생긴지 얼마안되서 화분도 보이고 되게 예쁘고 깔끔하게 만들었더라구요?\\n고깃집이지만 고기냄새가 잘 베지 않는 곳이에요.\\n숙성흑돼지구이만 고집하는 온리육\\n고기에 대해 진심이신 사장님 ! ! 그래서 진짜 맛있었어요 진짜 삼산 맛집가면 주차가 제일문젠데 온리육을 이용하면 바로 옆에 가나 주차장\\n이용권도 줘요 ! 테이블당 주차권을 주기 때문에 밥먹는데 주차비가 덜들어 좋고\\n일단 주차 편하게 하는게 너무 좋았어요 ㅎㅎ 온리육 내부 ! 처음에 딱 들어가면 이런 느낌인데 진짜 고깃집 안같고\\n고급스러운 느낌이라 뭔가 모임 장소로도 딱 좋을 것 같아요 ㅎㅎ\\n입구에 온도체크, 출입관리전화 하고 입장하면 된답니다. 온리육 , 따뜻하고 이로운 고기 !\\n개업 68일차에 방문했네요. 진짜 고기 먹을 때 설명도 잘해주시고\\n불편한점, 부족한점 물어보시더라구요 ~ 초반이라 계속 개선하면서 더 만족스러운 고깃집을 만드시려하는 것 같은데\\n진짜 좋은 것 같아요 ㅎㅎ 일단 고기가 맛있기 때문에 인기가 좋을 것 같아요 내부가 너무 예쁜거 아닌가요 ! !\\n입구 쪽에도 의자도 되게 편한 쿠션감있는 의자로 되어 있고 좌석도 넓은 편이었어요 ㅎㅎ 안쪽엔 룸이랑 화장실이 있는데 벽이 되게 예쁘게 되어 있더라구요.\\n여기 뭐야뭐야.. 진짜 예뻐 담에 가족모임이나 친구들끼리 룸 예약하고 와야겠어요\\n뭔가 프라이빗하고 진짜 고급진데 온 느낌 들겠더라구요 ㅎㅎ 아기의자도 비치되어 있어서 가족끼리 와서 아이들 앉으면 좋을 것 같네요 ~ 온리육 메뉴 !\\n흑돈, 백돈 2가지로 되어 있고 삼겹, 목살, 생대패, 항정살, 가브리살 외에\\n스페셜메뉴 숄더렉도 있었어요 ! ! 저는 온세트 주문했는데 재고가 없어서 흑돈이랑 백돈 \\n2가지 같이 먹었어요오 ~~ 이렇게 앞접시 등장 ! 개인으로 먹을 수 있게 와사비랑 곁들여 먹을 수 있는걸 주시더라구요\\n또 숙성흑돼지는 와사비랑 먹으면 찐인데 역시 온리육 !! 그리고 또띠아도 주시더라구요 ~?\\n이건 추가로 주문가능한데 맛있어서 또 추가하게 되더라구요 ㅎㅎ\\n불판안쪽에 환풍구가 같이 되어 있어서 진짜 냄새도 많이 안베이고 좋은 것 같아요\\n고기도 고급스럽고 맛있게 만드셨고 인테리어 또한 그렇게 해서 더 맘에 들었어요 밑반찬 등장 ! \\n진짜 고기랑 먹으면 좋을 반찬들이랑 처음보는게 많더라구요 ~? 아 이름을 까먹었는데 직접 만든 반찬이라고 하셨는데 울산에선 잘 없다고 하셨는데\\n저도 처음 봤거든요 ! 고기먹을 때 같이 먹으니 간도 괜찮고 하더라구요 !\\n명이나물이랑 파절이도 준비외어 있구요 ~ 토마토김치랑 김치 ! !처음에 토마토 이거 뭐지 했는데... 밀쌈에 싸먹으면 진짜 베리굿.......\\n먹다보니 토마토김치에 빠져서 추가로 더 먹었지 뭐에요 ㅎㅎ\\n그리고 김치도 하루하루 담그신다고 하는 것 같던데 저는 갓담근거 좋아해서\\n약간 매콤하게 고기랑 잘 어울렸어요 ! 진짜 대박스 밑반찬이 오징어초무침이라니,,,,,\\n진짜 고기 구우면 시간걸리니까 술안주 하기 딱 좋은 것 같아요\\n심지어 맛있고... 밀쌈먹을때 같이 싸먹어도 굿! 밥 안먹고 가서 배고팠는데 전복죽도 서비스로 나왔어요 ~~~>_<\\n고소하고 맛있더라구요 ㅎㅎ 요깃거리 할게 많아 좋았어요 고기 등장 ! ! 버섯도 하나 같이 나오더라구요 ~ ㅎㅎ\\n고기는 이리저리 바쁘시긴했는데 거의 구워주셨어용 !! 그래서 그런지\\n더 맛있게 굽힌 것 같았어요 목살먼저 굽기 ~~~ 진짜 환풍구가 불판 바로 위에 있으니 너무 좋더라구요\\n연기가 얼굴에 와서 불편한 그런게 없어요 ! 오동통 맛있게 구워지는 백돼지 목살 ! ! 간단하게 반찬도 설명해주시고 숙성돼지고기에 대해 설명도 해주시더라구요\\n사실 고기 잘 모르는데 울산 삼산 맛집일만 해요 ~\\n그러다보니 고기가 금방 다 익었어요 ㅎㅎ 다익은 고기는 이렇게 올려주신답니당 ! ! 따뜻하게 먹을 수 있어요 ~\\n타지도 않더라구요 ㅎㅎ 밀쌈을 구워서 같이 싸먹었는데 맛있더라구요 ~~ ! \\n이렇게 먹다보니... 토마토김치 꼭 넣으세요 ㅎㅎ 취향에 따라 다를 수 있는데\\n저는 토마토김치, 와사비, 목살 이렇게 같이 먹으니 최고 조합이더라구요 육즙가득한 버섯 ! ! 저는 소금찍어먹으니 맛있었어요~ 고기랑 같이 먹어도 꿀조합 !\\n흑돼지는 확실히 와사비가 조합이 최고 인 것 같아요 ! 명이나물에 먹어도 와사비는 꼭 함께해야하는 백돼지 목살 ! \\n진짜 고기가 완전 육즙이 빠지지 않고 촉촉하게 먹을 수 있었어요 목살 거의 다 먹을 때쯤 흑돼지 삼겹살을 구웠어요 \\n확실히 숙성흑돼지라 고기구울 때 이렇게 먹음직스러운 노란 그을림이 나오는게\\n어렵다고 하던데 온리육에서 맛볼 수 있어요 !!  오동통 진짜 맛있게 잘 굽히는 삼겹살  ! !\\n버섯도 오동통하게 육즙살려서 맛있게 옆에 같이 굽굽하는 중이었어요 ㅎㅎ 소금이랑 찍어먹어도 맛있었던 흑돼지 삼겹살 ! \\n진짜 온리육,,,, 굿 울산 삼산 맛집에 또다른 묘미인 토마토 김치,,,,\\n제가 추천하는건 밀쌈에 흑돼지 넣고 와사비넣고 토마토김치랑 양파랑 고추 딱 올리면\\n최강조합이에요 ㅎㅎ 뭔가 잘 어울리거든요  마지막엔 한우된장찌개 주문 ! 차돌박이는 봤는데 한우는 처음이라 궁금하더라구요\\n나왔는데 진짜 뭔가 담백한 느낌에 진짜 깔끔하다고 해야하나 !? 밥이랑 고기랑 같이 먹었는데 맛나네요 ㅎㅎ\\n진짜 배터지게 먹어버렸어요 ㅠ ㅠ  둘이서 세트에 밥까지 먹으니....\\n진짜 맛있게 배부른 느낌 ! ! \\n울산 삼산에 숙성돼지고기 맛집 찾으면 온리육 ! 가나 주차장 ! ! 마지막에 한시간 무료 주차 이용권 주셔서\\n1~2천원밖에 안들었네요 ㅎㅎ\\n주차도 편하고 깔끔하고 고기냄새가 옷에 안베서 좋더라구요 ! \\n흑돼지숙성고기라 너무 맛있게 먹은 것 같아요 확실히 다르긴 달라요 ~~\\n울산 삼산 고깃집 신상 맛집 온리육 방문해보세요 >_< \\n삼산 고기 찐 맛집\\n온리육\\n예약문의 052-260-0526 '}}\n"
     ]
    }
   ],
   "source": [
    "dict = {}    # 전체 크롤링 데이터를 담을 그릇\n",
    "\n",
    "# 수집할 글 갯수 정하기\n",
    "number = 20\n",
    "\n",
    "# 수집한 url 돌면서 데이터 수집\n",
    "for i in tqdm_notebook(range(0, number)):\n",
    "    # 글 띄우기\n",
    "    url = url_load['url'][i]\n",
    "    chrome_path = \"C:/Users/korean/practice/chromedriver.exe\"\n",
    "    driver = webdriver.Chrome(chrome_path)\n",
    "\n",
    "    driver.get(url)   # 글 띄우기\n",
    "    \n",
    "    # 크롤링\n",
    "    \n",
    "    try : \n",
    "        # iframe 접근\n",
    "        driver.switch_to.frame('mainFrame')\n",
    "\n",
    "        target_info = {}  # 개별 블로그 내용을 담을 딕셔너리 생성\n",
    "\n",
    "        # 제목 크롤링 시작\n",
    "        overlays = \".se-module.se-module-text.se-title-text\"                                \n",
    "        tit = driver.find_element_by_css_selector(overlays)          # title\n",
    "        title = tit.text\n",
    "\n",
    "        # 글쓴이 크롤링 시작\n",
    "        overlays = \".nick\"                                 \n",
    "        nick = driver.find_element_by_css_selector(overlays)         # nickname\n",
    "        nickname = nick.text\n",
    "\n",
    "        # 날짜 크롤링\n",
    "        overlays = \".se_publishDate.pcol2\"                                 \n",
    "        date = driver.find_element_by_css_selector(overlays)         # datetime\n",
    "        datetime = date.text\n",
    "\n",
    "        # 내용 크롤링\n",
    "        overlays = \".se-component.se-text.se-l-default\"                                 \n",
    "        contents = driver.find_elements_by_css_selector(overlays)    # contents\n",
    "\n",
    "        content_list = []\n",
    "        for content in contents:\n",
    "            content_list.append(content.text)\n",
    " \n",
    "        content_str = ' '.join(content_list)                         # content_str\n",
    "\n",
    "        # 글 하나는 target_info라는 딕셔너리에 담기게 되고,\n",
    "        target_info['title'] = title\n",
    "        target_info['nickname'] = nickname\n",
    "        target_info['datetime'] = datetime\n",
    "        target_info['content'] = content_str\n",
    "\n",
    "        # 각각의 글은 dict라는 딕셔너리에 담기게 됩니다.\n",
    "        dict[i] = target_info\n",
    "        time.sleep(1)\n",
    "        \n",
    "        # 크롤링이 성공하면 글 제목을 출력하게 되고,\n",
    "        print(i, title)\n",
    "\n",
    "        # 글 하나 크롤링 후 크롬 창을 닫습니다.\n",
    "        driver.close()       \n",
    "    \n",
    "    # 에러나면 현재 크롬창을 닫고 다음 글(i+1)로 이동합니다.\n",
    "    except:\n",
    "        driver.close()\n",
    "        time.sleep(1)\n",
    "        continue\n",
    "    \n",
    "    # 중간,중간에 파일로 저장하기\n",
    "    if i == 30 or i == 50 or i ==  80:\n",
    "        # 판다스로 만들기\n",
    "        import pandas as pd\n",
    "        result_df = pd.DataFrame.from_dict(dict, 'index') # 딕셔너리 -> 데이터 프레임 변경  # index 넣은 이유 행기준 \n",
    "\n",
    "        # 저장하기\n",
    "        result_df.to_excel(\"blog_content2.xlsx\", encoding='utf-8-sig')\n",
    "        time.sleep(3)\n",
    "\n",
    "print('수집한 글 갯수: ', len(dict))\n",
    "print(dict)"
   ]
  },
  {
   "cell_type": "code",
   "execution_count": 46,
   "metadata": {
    "id": "aw9T8hPW-kvu",
    "outputId": "afb45d8f-9a0d-442f-a02a-f848f1ce8e6f"
   },
   "outputs": [
    {
     "data": {
      "text/plain": [
       "{0: {'title': '무조건인 역삼 맛집 모음 ',\n",
       "  'nickname': '어신\\n(ranboy)',\n",
       "  'datetime': '2021. 11. 23. 11:30',\n",
       "  'content': '지난 주에 역삼에 사는 친구를 만나러 갔다가 순메밀로 유명한 식당이 있다기에 역삼 맛집을 들려봤어요.\\n정갈한 구성의 반찬들과 세계에서 손 꼽히는 진미인 이베리코 베요따를 푸짐하고 먹고온 곳이라 공유해보려 합니다.  주소: 서울 강남구 언주로93길 30 역삼빌딩\\n전화번호: 0507-1497-5157\\n영업시간: 매일 11:00-21:00 (평일 브레이크 타임 15:00-17:00)\\n메뉴: 이베리코 베요따 16,800원 / 막국수 보통 9,500원  이 날 들렸던 식당 백운봉막국수는 코엑스에서 차로 10분 거리였어요.\\n건물이 워낙크고, 대로변에 위치해 있어서 단번에 찾을 수 있었답니다.  건물내에는 따로 전용주차장까지 마련되어 있어서 편하게 주차를 할 수 있었어요.\\n영업시간은 매일 오전 11시부터 21시까지고, 브레이크타임은 15시부터 17시이니 참고하시면 됩니다.  안으로 들어가니 대체적으로 밝은 인테리어가 눈에 들어왔어요.\\n점심시간이 꽤 지난시간이었는데 반대편에는 꽤 많은 손님도 있었답니다.  한쪽에는 셀프바도 세팅되어 있었어요.\\n여러명이 이용하는 공간이라 위생이 신경쓰이지 않을 수 없었는데, 상당히 깔끔하게 관리하고 계셨어요! 한쪽에는 샐러드종류부터 곁들임채소까지 준비되어 있었는데요.\\n신선도도 뛰어나고 종류도 다양하니 손님을 배려하는 센스가 돋보였죠. 넓은 좌석에 착석 후 메뉴판을 살펴봤어요.\\n역삼 맛집에서는 막국수도 유명하지만 최고등급의 이베리코베요따도 취급하고 있어서 주문해봤어요.  주문과 동시에 상차림이 빠르게 이루어졌어요.\\n로봇을 이용해 기본 상차림이 이루어져서 신기한 구경도 할 수 있었네요! 먼저 입맛을 올려줄 메밀쌈에 각종 채소를 싸서 입 안에 넣어봤어요. \\n최대한 얇게 부쳐주셔서 퍽퍽함이라곤 찾아볼 수 없이 쫄깃했어요.  이어서 역삼 맛집 양파버무리를 맛보았어요.\\n부드럽게 올려진 소스에 양념이 물리지 않았고,\\n적당히 새콤함을 가지고 있어서 고기와함께, 또 단독으로 먹기에도 괜찮았습니다.  밥먹기 전에 입가심으로 선지국이 가득 담겨 나왔는데요.\\n큼지막한 선지를 수저로 부드럽게 떠서 먹으니 속까지 따뜻했더라지요. 다음은 저희가 주문한 이베리코 베요따가 모습을 드러냈어요.\\n족히 3cm정도는 되보이는 두께에 양파와 버섯까지 큼지막하게 썰어주셔서 마음이 다급해졌어요. 미리 준비해주셨던 불판은 어느새 뜨끈하게 예열이 되었는데요.\\n오리지날 참숯을 이용하고 있어서 불향도 제대로 입힐 수 있었답니다.  이어서 베요따를 불판 위로 한가득 올려 주었는데요.\\n치익- 하는 먹음직스러운 소리와 함께 역삼 맛집에 찾아온 보람을 느꼈습니다.  뒤집을 타이밍을 기다리다가 살짝 역보고 뒤집어주었는데요.\\n윤기가 사르르 흐르는 풍채에 침이 꼴깍꼴깍 넘어갔어요.한면에 노릇해지는 걸 확인하고 나서 반대쪽으로 뒤집어줬는데,\\n스테이크를 뛰어넘는 고깃살의 듬직한 풍채에 시선을 뗄 수가 없었어요. 가위를 거칠게 잡아들어 먹기 좋은 크기고 잘라주기 시작했어요. \\n제법 도톰하게 썰었음에도 불구하고 불판한면을 가득 채웠답니다.  같이 등장한 멜젓은 한술 더 떴는데요.\\n비린내는 없고, 청양고추가 한가득 들어 있어서 느낌함을 꽉 잡아주었어요.  마침내 다 익은 고기를 들어 소금만 살짝 찍어 먹어봤어요.\\n잡내는 일절 없었고, 부드러운 식감만이 입 안을 지배해서 역삼 맛집이 맞구나 라는 생각이 들었어요. 뒤이어 숯불판에 양파를 넉넉히 올린 뒤에 단맛이 충분히 올라올 때까지 구워줬어요. 그러고 나서 이베리코 베요따에 곁들여 음미해봤어요.\\n익어서 달달해진 양파가 고기맛을 한층 더 감칠나게 끌어올려줘 자주 즐긴 조합이었답니다. 하지만 메밀쌈에 싸먹는 게 취향에 더 맞았는데요.\\n입 안에서 풍족하게 씹히는 느낌과 포만감까지 획득할 수 있는 방법이었어요. 이윽고 역삼 맛집 비빔순메밀막국수를 추가했어요.\\n예상보다 훨씬 각종 고명 재료들이 넉넉하게 넣어주셨더라고요. 게다가 양념장도 듬뿍 들어있어 촉촉하게 잘 비벼졌는데요.\\n면치기를 하자마자 매콤달콤함이 그윽하게 펴지면서 면발이 쫄깃하게 입 안에서 감겼어요. 다른 손님들이 드시는 걸 보고, 급 관심이 가서 들기름막국수도 덥석 시켰어요.\\n여기는 100% 순메밀로 뽑는 곳이라 그런지 면 색깔부터 진하더라고요. 더불어 들기름이 면발에 제대로 코팅되어 고소함의 끝판왕이었고,\\n자칫 느끼할 수 있는 걸 생열무가 산뜻하게 잡아줘서 마지막 한입까지 질릴 틈이 없었어요. 배부른 한끼를 끝내고 별도로 판매 중이던 웰빙두부과자를 구입해 주전부리도 즐겼는데요.\\n이번에 가보니 역삼 맛집은 음식맛과 분위기 모두 부족함 없이 수준 높아 조만간 또 갈 예정이에요. 주소:서울 강남구 논현로97길 23 1층\\n전화번호:0507-1342-6251\\n영업시간:매일 12:00-19:00\\n메뉴:아메리카노 4,000원 / 체리에이드 6,500원 \\n운치있는 시간을 보내기에 좋은 테라스가 있는 카페인데요.\\n실내 곳곳에도 통창으로 꾸며져 있어 고즈넉한 주택 풍경을 감상할 수 있었어요.\\n아메리카노도 좋았지만, 상큼한 과즙이 감돌던 체리에이드가 입맛에 더 맞았어요. 주소:서울 강남구 테헤란로10길 21\\n전화번호:02-555-3782\\n영업시간:매일 11:00-21:00 \\n메뉴:감자탕 대 41,000원 / 뼈 숯불구이 소 31,000원 \\n테헤란로에서 7분 정도 걸어가면 보이는 감자탕 전문점이에요.\\n목뼈와 국내산 사골을 넣고 푹 끓여내어 육수가 걸죽하니 진국이였는데요.\\n자체 개발한 뼈 숯불구이도 많은 이들에게 사랑받는 인기메뉴였어요. 주소:서울 강남구 논현로94길 29-5\\n전화번호:02-569-0524\\n영업시간:매일 10:00-22:00 (L.O 21:30) / 일요일 09:00-21:00 (L.O 20:30)\\n메뉴:곰탕 11,000원 / 수육 48,000원 \\n3대째 이어서 운영하고 있는 오래된 한우곰탕집이에요.\\n투명하고 맑은 육수가 특징으로 텁텁함 없이 시원했는데요.\\n수요미식회 188편에 방영될 정도로 연륜 깊은 손맛을 자랑했던 한식당이에요. 주소:서울 강남구 언주로93길 22-3 지상 1층\\n전화번호:0507-1326-2126\\n영업시간:매일 11:00 - 22:00 (브레이크 타임 15:00~17:00)\\n메뉴:손만두국 9,000원 / 녹두전 17,000원 \\n직접 만든 이북식 손만두의 매력을 알게 해주었던 만두집인데요.\\n소가 풍부하게 차있고 크기가 커서 포만감이 상당하더라고요.\\n칼국수도 같이 먹을 수 있는 칼만둣국이 마음에 들었어요.'},\n",
       " 1: {'title': '만족스러운 역삼 맛집 리스트',\n",
       "  'nickname': '김새침\\n(kikijayoung)',\n",
       "  'datetime': '2021. 10. 5. 9:10',\n",
       "  'content': '안녕 김새침언니에요.\\n예전에 살던 동네를 마주치게 되면\\n익숙한 골목골목 지나면서 추억 팔이 하는 거\\n너무 좋잖아요.\\n마침 볼일이 생겨 신나는 발걸음으로 나왔는데\\n온 김에 저녁까지 먹고 들어가자 싶어 \\n익숙한 역삼 맛집들 구경을 해봤어요.\\n아무래도 이쪽은 평일엔 직장인들이 많이 붐비는 곳이라\\n점심시간엔 정말 발걸음이 끊이지 않는 곳도 많거든요.\\n저는 프리랜서니깐 그 시간 피해서\\n주말이나 애매한 시간에 나와서 밥 먹었던 기억이 나는데요.\\n예나 지금이나 술 한잔하면서\\n따스한 분위기에 맛있는 저녁을 먹기 좋은 곳을 발견해\\n맛있게 먹고 온 후기입니다 :)  역삼역 6번 출구에서 3분 거리 밖에 안돼서\\n초 역세권에 위치해있다고 볼 수 있어요!\\n주차도 가게 앞에 세우기 편한 곳.\\nlg아트센터 건너편이에요!\\n서울 강남구 테헤란로25길 31\\n월-토 11:00~21:30 \\n라스트오더 21:00 (일요일 휴무)  웬만해선 거의 다 가본곳이라 \\n새로운 메뉴 없을까 찾아본 건데\\n굉장히 깔끔해 보이는 가게가 눈에 띄더라고요.\\n마침 친구는 어제 과음해서 아직도 속이\\n쓰리다길래 진한 갈비탕 육수로 해장하길 추천했어요. \\n요즘은 포장이나 배달도 자주 이용하게 되는데\\n많이 신경 써서 꼼꼼하게 되는듯하죠.\\n비조리도 있다니 여행갈때나 캠핑갈때\\n선택하기도 좋을 역삼 맛집일듯싶었어요. 밖에서 본 것만큼이나 내부도 깔끔하고\\n따뜻한 식사를 하기 좋아 보이죠.\\n제가 갔을 때 유독 혼자오신분들이 많았는데\\n이쪽에 소호 사무실도 많아서인듯싶어요.\\n테이블도 다양하게 있으니\\nlg아트센터 맛집으로도\\n부담 없이 방문하기 좋아 보였답니다. 생수를 싫어하는 저에겐\\n앉자마자 내주신 우엉차가 너무 좋았는데요.\\n매운갈비찜 소 \\n갈비탕\\n들기름 막국수 \\n주문해 봤어요.\\n깍두기 볶음밥도 땡겼는데\\n갈비찜 양이 생각보다 많아서 결국 못 먹었네요.ㅠ\\n점심에 먹기엔 과할 수도 있는 메뉴는\\n한정판으로 부담 없이 준비된 역삼 맛집이었는데요.\\n아마 직장인들 사이에서 이미\\n인기 메뉴로 자리 잡지 않았을까 싶네요. 딱 필요한 반찬만 나온 모습입니다.\\n진한 육수에 잘 어울린 깍두기 너무 맛있었고\\n양파절임도 달달하니 제가 거의 다 먹은듯싶어요.\\n그리고 바로 밑에\\n핸드폰을 보관하도록 선반이 준비되어 있더라고요.\\n네일샵이후로 이렇게 배려해 주는 테이블 \\n정말 오랜만에 보네요.. ㅎㅎㅎ 뜨거운 김을 모락모락 피우며 등장한 갈비탕입니다.\\n밥 한 공기도 함께 나왔는데요.\\n더욱더 맛있게 즐기도록 \\n청양고추가 듬뿍 들어간 초록특제양념과 \\n야채와 고추가루가 돋보이는\\n빨간특제양념이 함께 준비된 모습이에요. 국물 한입 했더니 속이 꽉 채워지는듯한\\n그 느낌 아시나요?\\n듬뿍 담긴 갈빗살도 먹음직스러워\\n밥을 말아먹어야 되나 고민이 되는 순간이었는데요.\\n고기가 부드럽고 야들야들하니\\n보는 것만큼이나 맛있더라고요.\\n특제양념까지 더해지니 색다르게 먹기 좋았던\\n역삼 맛집이었는데요. \\n잡내도 없었고 깊고 진한 국물맛에\\n해장 제대로 했다는 친구!ㅎㅎ\\n깍두기 하나만으로\\n정말 푸짐하게 먹기 좋았습니다. 그리고 바로 이어서 \\n제가 좋아하는 매운갈비찜도 나왔습니다.\\n막 톡 쏘게 매운맛은 아니기에\\n누구나 좋아할 만한 맛이었는데요.\\n청경채, 버섯, 감자, 떡 등등\\n다양한 식감을 느끼기 좋아\\n역삼 맛집으로 잘 선택해서 왔구나 싶었어요.\\n이미 익혀서 나온 거라 바로 먹기 시작! 뼈에 붙은 살들이 어찌나 크던지\\n먹기 편하게 가위로 잘라주는데 \\n뼈대에서 살들이 속속 잘 빠지더라고요.\\n먹으면서 느꼈던 건\\n다른 곳이랑은 확실히 다르게\\n짜거나 자극적이지 않고 깔끔한 느낌이 들었다는 것!\\n모든 게 다 적당해서 곧 많은분들이\\n좋아하실 역삼 맛집이 될 거 같아요. 티비에도 종종 나와서 궁금했던\\n들기름 막국수도 먹어봤는데요.\\n고소하고 담백한맛에 \\n간이 세지 않아서 역삼 맛집 메인메뉴랑\\n궁합이 좋더라고요.\\n점심엔 갈비탕으로 든든하게 속 달래고\\n저녁엔 술한잔 생각날 때 매운갈비찜으로 \\n찾아오기 좋을 곳이었습니다.\\n함께 곁들여 먹기 좋을 만두도 있으니\\n깔끔한 맛과 퀄리티를 느끼기 좋을 곳 같아요.\\n그리고 위치가 좋으니깐 \\n집에 가기도 편하고 갈만한 이유가 충분하네요!\\n+\\n또 다른 lg아트센터 맛집도 소개해 볼게요.\\n진한 인도향~ 카레향~이 예술인 곳인데\\n자주 먹는 메뉴는 아니지만\\n독특한 맛이 자꾸자꾸 생각나게 만들어서\\n예전에 가끔씩 갔던 곳이에요.\\n집 나간 입맛이 확 돌아오는 곳이라\\n색다른 메뉴를 찾는다면 추천해드리고 싶답니다. +\\n늦게까지 영업하는 곳이라\\n역삼동 살 때 야식으로 자주 찾았던 곳이에요.\\n야들야들한 콜라겐이 입에서 살살 녹는데\\n제 지인들도 극찬했던 곳인데요.\\n생각지도 않은 김치찌개도 끝내주게 맛있었어요. +\\n프라이빗하게 즐기기 좋은 일식집!\\n원래도 인기 좋고 연예인들도 많이 가는 곳!\\n간장게장이랑 보리굴비가 너무 맛있어서\\n이미 유명한 곳인데 오랜만에 생각나서 적어봐요. +\\n여기 모르면 역삼동 살았다고 할 수 없죠~~\\n기사님들이 많이 찾는 곳이기도 하고\\n진하게 해장하실 분들에게 추천하고 싶은 곳이에요.\\n제가 다녀온 lg아트센터 맛집과는 \\n정 반대적인 분위기로 전통 있는 곳이라 볼 수 있어요.\\n티비에도 나온 곳!\\n여기까지 lg아트센터 맛집이었습니다.\\n오늘도 내일도 맛있는 한끼를 위해 화이팅!  본 포스팅은 업체로부터 이용권을 지원받아 직접 체험 후 작성하였습니다.'},\n",
       " 2: {'title': '[역삼 맛집] 센터필드 차알 역삼점, 역시나 맛은 실망시키지 않는 중식 레스토랑!',\n",
       "  'nickname': '여행하지마리오\\n(sh_road)',\n",
       "  'datetime': '2021. 12. 1. 12:00',\n",
       "  'content': \"지난주 월요일 여자친구와 예비 처제, 동서와 4명이서 센터필드 맛집인 '차알' 역삼점에 다녀왔어요!\\n이번이 저에게는 3번째 차알 방문인데 역시 믿고먹는 중식당이었답니다ㅎㅎ\\n청첩모임으로 차알 판교점만 2번 갔었는데 역삼점은 처음이었어요. 위치는 지하철 역삼역에서 약 5분정도 걸으면 됩니다.\\n참고로 센터필드는 신규 오픈한 5성급 호텔인 조선팰리스가 있는 곳이에요! 새로 지은 빌딩이라 확실히 로비가 엄청 깔끔하고 고급지더라구요.\\n입구의 초대형 LED 화면에는 센터필드 건물 내 입점한 곳들에 대한 소개가 계속해서 보여지고 있었어요. 센터필드 지하2층엔 여러 레스토랑들이 모여있습니다.\\n'차알'도 그 중 한곳으로 지하2층에 있어요 :) 지하 2층에는 꽤 여러 음식점 및 카페들이 있었는데 사진과 같이 가게가 전부 오픈형식으로 구성되어 있어요.\\n아마도 룸으로 된 식당은 센터필드 지하2층에는 없지 않을까 싶습니다. 차알의 경우 영어로 'Cha R' 표시되어 있어요!\\n영업시간은 매일 오전11시~오후9시 입니다. 차알에서 식사를 할 경우 2시간 무료 주차 가능합니다.\\n다만, 다른 매장과 누적/중복 등록은 되지 않기 때문에 초과 시 10분당 1,500원의 사악한 주차비가 발생한다는 점 주의하세요!\\n인당 25,000원 이상 주문 시 콜키지프리더라구요~ 차알은 '아메리칸 차이니즈' 레스토랑입니다.\\n예전부터 일반적인 중식당이 아닌 아메리칸을 강조하는 이유가 뭘까 궁금했는데\\n미국 차이나타운 레시피를 재해석 했기 때문이라고 하네요ㅎㅎ 내부 인테리어는 약간 '홍콩' 느낌이 났어요.\\n평범했던 판교점과는 전혀 다른 인테리어더라구요 ㅎㅎ\\n괜히 중화권에서 음식 먹는 느낌이 드는건 기분탓이겠죠..? 대략 20테이블 정도 있었던거 같아요.\\n회사 회식으로 온 팀도 있던데 회식장소로도 괜찮은거 같네요ㅎㅎ 전 청첩장 모임으로도 완전 추천! 메뉴는 클릭하시면 크게 확대해서 볼 수 있습니다!\\n딤섬, 누들, 라이스, 치킨 등 상당히 많은 종류의 메뉴가 있어서 살짝 선택장애가 오긴 합니다.\\n저흰 딤섬 1종류와 마라탕면, 깐풍가지새우를 먼저 먹고\\n오렌지치킨과 볶음밥을 추가로 주문해서 먹었답니다. 중식당 답게 당연히 고량주도 팔았는데 '아메리칸'이 붙어서인지 와인도 팔던게 색달랐어요ㅎㅎ\\n그리고 연태하이볼이라는건 처음봤는데 연태 고유의 향과 하이볼 향의 조합이 어떨지 궁금하더라구요. 기본세팅이구요.\\n이제 우리가 먹었던 음식 소개 갑니다~~ 음식은 연달아서 빨리 나왔어요.\\n그래서 깨끗한 한 상을 사진으로 찍을 수 있었네요ㅎㅎ\\n음식 먹을 때 끊기면 안되는데 빠릿빠릿 나와서 좋았습니다 '바질하교'\\n3pcs에 8,000원이고 1개 추가 시 2,500원입니다.\\n저희는 4명이서 당연히 4pcs로 시켰구요~\\n포동포동 새우가 터지는 본연의 맛을 느끼기 위해서 골랐습니다ㅎㅎ 피도 상당히 쫄깃하고 다진 새우임에도 통통 터지는 촉감을 느낄 수 있더라구요!\\n안에 뜨거운 즙이 풍족히 있다보니 한입에 먹다간 입천장 데이니 조심하세요ㅠㅠ '오렌지 치킨'\\n치킨과 오렌지의 조합은 상상만으로는 정말 이상할 거 같죠..?\\n근데 처음 차알을 방문 했을 때 먹어보고 항상 올 때 마다 먹는 메뉴입니다ㅎㅎ 향긋한 오렌지향이 분명 나는데 치킨의 맛을 잡아먹을 정도는 아니고 오묘하게 적절한 조화가 진짜 맛있어요!\\n치킨도 전혀 딱딱하지도 않고 부드러워서 좋았어요. '연태하이볼'\\n연태고량주는 호불호가 있기도하고 높은 도수에 걱정하시는 분들이 있을텐데\\n일단 도수 걱정은 1도 안해도 됩니다.\\n다만 연태 고유의 향은 확실하게 나구요.\\n연태고량주는 별로 첨가 되지 않은 듯 했어요.\\n고량주 느낌은 찾아 볼 수 없었고 음료수 같았습니다.\\n고량주 비율 조절 가능하면 좋을 듯 합니다ㅎㅎ '차알 마라탕면'\\n흔히 생각하는 마라탕과는 조금 달라요.\\n우선 면 선택은 따로 안되고 짬뽕면입니다.\\n제가 알던 마라향과는 확실히 다른 차알만의 퓨전 마라탕 같았는데 처음 접하는 사람도 거부감 없이 먹을 수 있을거에요! 매콤한거 좋아하는 사람에겐 딱이에요!\\n그렇다고 막 엄청 매워서 땀나고 그정돈 아니기 때문에 맵찔도 충분히 먹을만 합니다. '깐풍마늘가지새우'\\n양꼬치집에서 먹는 가지볶음을 상당히 좋아하는데 그 느낌에 매콤하면서 새우까지 들어가있으니\\n비싸도 저에게 있어서는 최고의 베스트 메뉴였습니다. 가지 따로, 새우 따로가 아니라 두 개가 붙어있어요ㅋㅋ 내일 출근이지만 고량주를 안시킬 수가 없었습니다. 살짝 아쉬워 '게살볶음밥' 추가요~\\n다들 배부른데 새우깡마냥 계속 손이가던 메뉴였죠ㅋㅋ\\n혼밥을 하기엔 살짝 양이 작을 수도 있을거 같은데 2명이서 면메뉴와 딤섬, 볶음밥 이렇게 먹으면 점심으로 최고의 조합이지 않을까 싶습니다. 단품만 보면 양이 작아보였는데 막상 4명이서 5개 메뉴를 먹었더니 모두 배가 너무 불렀어요.\\n메뉴마다 모두 안이 꽉 차게 압축되서 나온 느낌이랄까나요?\\n그리고 시켰던 메뉴들은 전부 하나같이 진짜 찐으로 맛있었습니다. 차알은 확실히 믿고먹는 체인식당입니다!\\n다만 중식 메뉴 자체가 기름이 많다보니 너무 많이 먹으면 니글거릴 수도 있을 거 같아요.\\n적당히 음주류와 함께 즐기시면 더 맛있게 먹을 수 있지 않을까 싶습니다ㅎㅎ\\n'일부 메뉴에 한해 '차알'에서 제공받아 솔직하게 작성한 글입니다'\"},\n",
       " 3: {'title': '역삼맛집 도야짬뽕 맛있어요 ',\n",
       "  'nickname': '수자매하우스\\n(lovely-oh)',\n",
       "  'datetime': '2021. 12. 29. 3:41',\n",
       "  'content': '오랫만에 남편이랑 점심 데이트 \\n사실 남편이 중식을 좋아해서 중식 메뉴 골라주면 \\n더 맛있게 먹어 괜히 뿌듯하고 그래요 \\n역삼맛집 도야짬뽕 대만족 후기 들려드려요 \\n남편이 말하기를 다 먹고 주차장 나가며 \\n데리고 와서 내가 잘 먹으면 너가 더 좋아하더라 하며 \\n훈훈하게 퇴장을 하하하하 \\n주차장은 따로 없고 차 이용하시는 분들은 \\n안전하게 바로 맞은 편  코레이트타워 주차장 이용했어요 \\n전 들어가서 주문하고 있고 \\n저 내려주고 남편은 주차하러 간 사이 먼저 올라가봤지요  계단을 이용해 건물 안쪽으로 들어가 \\n2층에 위치해 있답니다 \\n사람이 꽤 많았어요 점심시간 피크는 좀 지나고 있고 \\n브레이크 타임이 따로 있더라구요 \\n후다닥 먹고 브레이크 타임 딱 맞게 일어났지요  1인세트 , 2인세트 세트메뉴 \\n독보적인 메뉴가 눈길을 끄네요 \\n저녁엔 안주 메뉴 겸 식사 메뉴 \\n요즘 혼밥 하시는 분들도 많기에 \\n이런 메뉴가 탄생했나봅니다 \\n아주 가성비가 괜찮네요 하하  어머 내부로 들어오니 세련된 분위기 \\n요즘 중식당 가보면 정말 밝고 분위기도 좋고 \\n인테리어도 한 몫하는 거 같아요 \\n진짜 이제는 예전 중식당 생각하면 안되요 \\n이렇게 얘기하니 나 되게 옛날 사람 같지만 아니고요 하하 \\n청결하고 내부도 깔끔하고 \\n직원분들도 굉장히 친절하셔서 좋았어요 \\n서비스 좋으면 괜히 기분 좋은 그런 느낌 있자나요  베트남 고추가루 일반 고춧가루 \\n눈에 띄이네요 \\n각각 하나씩 있더라구요 \\n왜 있는지는 물음표 하하하 \\n뭐 각자 입맛에 맞게 먹으라고 그랬겠죠? 도야짬뽕은 체인점 이더라구요 \\n짬뽕에 인생을 걸었다 1460일동안 면과 국물만 연구 \\n우와 뭔가 맛집은 달라도 다르고 하루 아침에 되는 게 \\n절대 아니란 걸 \\n맛집은 그리고 쉽게 되는 게 아니라는 걸 \\n수많은 경험을 통해 결과가 나옴으로써 \\n국물과 면의 최고가 나오는거죠 \\n진짜 예술이더라구요 맛있었어요  역삼맛집 도야짬뽕 왔으면 도야짬뽕 무조건 먹어봐야죠 \\n그리고 도야볶음밥 \\n그리고 탕수육 주문했어요 \\n탱탱한 식감과 국물의 흡수도 \\n잘 만끽해보시길 바래요 \\n맛의 기본은 정말 신선한 재료인데요 \\n직원분들이 이제 브레이크 타임을 알림으로써 \\n저 쪽에서 양파 뭉태기를 들고 가시는 모습이 인상적이였어요 \\n당일 손질해서 당일 식재료를 만드시는 것!!!\\n최고의 맛과 서비스를 제공하는 것 \\n도야짬뽕 재방문각 당연 이고요  도야짬뽕 서비스 인상적이였어요 \\n무료카페존부터 시작해서 \\n많은 서비스들이 있으니 함께 공유해보세요 \\n아이들과 외식도 가능할 수 있게 아기의자 준비되어 있구요 \\n당연 애 엄마니 눈에 띄일 수밖에 없구요 \\n포장 가능 , 배달 가능한 역삼 맛집 입니다  SNS 홍보가 많은 힘이 된다는 사실 \\n아시죠?\\n잠깐 시간 투자하시고 솔직담백하게 기록해주시면 \\n맛있는 서비스가 찾아온답니다 \\n독보적인 세트메뉴 확인하시구요  연말행사 예약이 가능하니 참고하세요 \\n사실 시국이 참 아이러니 하지만 \\n맛있는 곳임을 무조건 알려드립니다 \\n모임하기에도 좋아요 \\n중식 좋아하시는 분들 무조건 모여요 하하  인생짬뽕 궁금하신가요 \\n역삼맛집 도야짬뽕 맛 보세요 \\n여지껏 맛 보지 못한 국물맛에 감동받으실 수 있어요 \\n얼큰한 거 좋아하고 남들 짜장면 먹을 때 \\n전 짬뽕 먹는 스타일이라 그리고 소주 한잔 좋아해서 \\n해장으로 짬뽕 굉장히 좋아하는데 정말 \\n속이 풀리는 맛입니다  손님들이 테이블마다 계셔서 우리가 거의 \\n브레이크 타임 전 마지막 손님이라 찍어봅니다 \\n매장도 넓고 쾌적하고 깔끔해요  창가 쪽에 앉았는데 남편이 멀리 셀프존을 발견하네요 \\n단무지도 왜 이렇게 맛있고 \\n얇아서 너무 좋더라구요 \\n그 무침 같은 거 뭐라고 하죠 그 중식당 가면 있는 \\n유일한 중식에서만 볼 수 있는 기본 찬 중에 하나인데 \\n그것도 양념이 아주 심심하면서 참 맛있더라구요 \\n왜케 맛있는 건데 하면서 음식 기다리며 한 접시 클리어 하하 \\n개인차이가 있으니 참고하시구요  도야짬뽕 그리고 도야볶음밥 \\n볶음밥 딱 한 입 먹었어요 \\n남편이 맛있다고 다 먹고 한 입 중간에 맛 봐야 된다고 \\n주더라구요 하하하하 \\n너무 맛있었나봅니다 \\n맛있게 먹어주니 내가 해준 건 아니지만 개 뿌듯 하하  탕수육 왜 또 그렇게 맛있었나요 \\n희한하게 새로운 신선한 맛이였어요 \\n탕수육 소스도 범벅이 아닌 살짝 뿌려지고 \\n튀김옷에 살짝 간이 베어있었어요 \\n후추간 비슷했는데 과하지 않고 \\n짭쪼름 적당한 맛이라 맛있게 먹었어요 \\n중식을 이렇게 맛있게 먹으니 남편도 놀란 눈치 \\n맛있게 끊임없이 먹었답니다 하하  위에는 카메라 버전 \\n요것은 핸드폰 갤럭시21 울트라 버전 \\n하아 먹음직스럽네요 둘다 공통점은 하하 \\n진짜 맛있게 먹었고 다음엔 애들이랑 울 엄마 꼭 데리고 와야지 \\n넘 맛있게 먹어서 재방문각 \\n재차 강조하지만 정말 깔끔했어요 음식들이  짬뽕도 잘 안 먹는 사람인데 각자 구역이 있으니 \\n남편이 짬뽕도 한 젓갈 달래서 후루룩 다 먹더라구요 \\n맛있게 먹으니 참 정말 좋아요 \\n내가 데려간 맛집 인정 \\n역삼맛집 도야짬뽕 이 집 짬뽕 참 괜찮네요 \\n해산물도 푸짐하고 한 가득이라 양도 많아요 \\n탕수육도 참 괜찮고 맛있었어요  맛있게 정신없이 휴지뜯어 코 풀어가며 \\n개운하게 짬뽕 한 그릇 다 먹고 \\n국물에 밥 한 공기 말아드신 나란 여자 어쩌지 \\n하하하하 든든하게 맛있게 먹었어요 \\n공기밥도 무료 제공 입니다 \\n추가 주문 안해도 되고 밥도 그냥 주니 대박 입니다 \\n저 멀리 공기밥 무료 꼭 확인하세요  무료카페존 \\n든든하게 식사 마친 후 커피 한잔 들고 퇴장해요 \\n음료수도 준비되어 있어요 \\n커피도 따뜻한 거 , 아이스 잔까지 얼음까지\\n준비만발 입니다 \\n정말 고객들을 위해 많은 서비스까지 \\n준비해 놓은 정성에 감동입니다 \\n잘 먹고 왔습니다   서울 강남구 강남대로94길 87 진남빌딩 2층\\n역삼동 644-4 진남빌딩 2층 \\n역삼역 4번 출구 161m\\n02-556-0303\\n영업 \\n매일 오전 11시 ~ 밤 9시  '},\n",
       " 4: {'title': '풍요로웠던 역삼 맛집 리스트',\n",
       "  'nickname': '느느\\n(mephisto69)',\n",
       "  'datetime': '2021. 11. 22. 13:00',\n",
       "  'content': '지난 주에 친구와 점심 약속을 잡고 역삼 맛집에 다녀왔는데요. 덮밥을 수북히 쌓아주신다는 소문대로 풍요로움을 느낄 수 있는 곳이었어요. 찾아간 곳은 밥밥디라라 역삼본점인데 역삼초등학교 정문에서 2분 정도 거리였어요. 노란 간판이 멀리서도 눈에 띄었는데 식물 가드닝이 되어 있어 인상적이더라고요. 끌고 간 차량은 준비된 주차장에 댔는데 서울 중심가이지만 주차비 걱정을 하지 않아도 된다는 점이 마음에 들었어요. 영업 시간은 오전 11시부터 오후 9시까지로 점심과 저녁까지 든든하게 채울 수 있겠더라고요. 그리고 포장 판매도 하고 계셨는데 곧 배달도 된다니 편하게 이용 가능할 듯해요. 내부는 생각 이상으로 널찍한 공간을 확보한 상태였는데 깔끔함이 돋보였어요. 그리고 비대면 키오스크방식으로 주문받는 스마트한 역삼 맛집이더라고요. 오더를 넣은 후에 따사롭게 햇살이 들던 창가 자리에 앉아 음식을 기다렸는데요. 워낙 창이 깨끗하고 넓다 보니 시티뷰가 한 장의 사진처럼 느껴질 정도였어요. 식기류에서도 차별화를 느낄 수 있었는데 봉투에 담아 위생적으로 제공해주셨어요. 요즘처럼 위생이 신경쓰이는 상황에서 안심하고 방문할 수 있는 곳인 듯해요. 먼저 제공된 음식은 스팸튀김인데 사이드 메뉴중 인기가 핫하길래 시켜봤어요. 테이블에 도착하자마자 느껴지는 스모크한 향이 마음에 들었는데 통조림 곽을 그대로 사용하는 게 인상적이었어요. 챙겨주신 소스에 푹 찍어 음미해보니 짤 거라는 예상과는 다르게 담백하고 고소했어요. 겉면의 크리스피한 식감이 뛰어나서 역삼 맛집의 묘미를 느끼게 해주더라고요. 다음 순서로 돈까스화산덮밥이 나왔는데 직원분이 직접 치즈 토핑을 해주시더라고요. 이름처럼 마그마가 흐르는 거 같은 걸쭉함이었는데 푸짐하게 올려주셨어요. 마무리로 소스까지 흠뻑 적셔주셨는데 식자재를 아끼지 않으시더라고요. 패티 역시 도톰하니 하나만 먹어도 속이 든든해지더라고요. 그래서 가위와 집게로 잘라 즐겼는데 잘린 단면으로 보이는 고기의 두툼함에 또 한 번 반하게 되었어요. 싸구려 패티와는 달랐기에 이곳의 퀄리티를 인정할 수밖에 없었어요. 치즈와 함께 음미해보니 고소함이 고기 위로 자연스럽게 코팅됐어요. 역삼 맛집은 느끼하지 않게 매운맛 소스가 마무리를 해주니 완벽하더라고요. 밥과 건져 먹으니 대식가인 저도 충분히 배부름을 호소할만한 양이었는데요. 여기에 단무지를 살짝 얹어주면 새콤하게 입가심까지 됐어요. 친구는 아보카도 알밥세트를 주문했는데 특색있는 조합에 저 역시 기대가 됐어요. 단정하게 차려진 담음새만큼이나 깔끔하고 담백한 풍미를 자아내더라고요. 세트 구성에도 돈까스가 포함돼 있는데 갓 튀겨 가져다 주시니 단품으로 시키는 것만큼이나 퀄리티가 살아있었어요. 달콤한 소스에 찍어 시식해니 역삼 맛집은 구수함이 상당했어요. 무난하게 즐기기 좋은 스타일이었는데 돼지고기 고유의 맛에 집중할 수 있어 좋았어요. 샐러드도 남기지 않고 섭취했는데 뿌려진 드레싱 소스가 잘 어울리더군요. 무엇보다 싱싱한 샐러드가 입안 가득 생기를 불어주니 식욕이 상승하더라고요. 입속을 정돈하고 아보카도 알밥으로 직행했는데 퓨전 스타일이 제 입맛에도 쏙 맞더라고요. 고기 없이도 과육에서 고소한 맛이 흘러 담백하면서도 깔끔했어요. 안에 들어간 알의 존재감도 확실했는데 톡톡 굴러다니며 씹는 재미를 상승시켜줬어요. 게다가 돌솥의 열기가 후끈하다 보니 오랫동안 온기가 전달되더라고요. 이날 역삼 맛집의 하이라이트는 치킨타워 덮밥이 아닌가 싶어요. 여행지에서 볼 수 있는 돌탑처럼 쓰러지지 않게 차곡차곡 쌓아주셨답니다. 그 비결은 꼬챙이에 있었는데 가지런히 연결을 해주셨어요. 덕분에 지저분하게 흐르지 않고 하나씩 빼서 깔끔하게 즐길 수 있었어요. 먹을 때는 따로 챙겨주신 접시로 담아 하나씩 주워 먹어도 됐는데요. 역시나 미리 만들어 놓지 않고 주문과 동시에 튀겨주시니 바삭함이 으뜸이었어요. 그리고 튀김의 옷을 얇게 하면서 육질의 비율을 높이니 느끼함이 없더라고요. 치킨 전문점이라고 해도 믿어질 정도로 밑간 역시 훌륭했어요. 담아주신 양배추와 곁들이니 은은하게 단맛이 퍼져 계육의 매력을 상승시켜주더군요. 텐더 샐러드 느낌도 들었는데 제 취향에 딱 맞았어요. 독창적인 음식들을 선보여준 덕분에 역삼 맛집이 유쾌하게 자리잡았어요. 앞으로도 시간 날 때마다 들를 거 같은 예감이 드는 곳이랍니다. 신논현역 4번 출구에서 도보 6분 거리의 바비레드는 생방송오늘저녁 383회에게 소개됐던 이탈리안 레스토랑이에요. 오랫동안 꾸준히 사랑받아온 레드 크림 파스타부터 건강식인 바비 포케 샐러드까지 취향에 맞는 요리들이 즐비했네요. 한식과 이탈리안 요리의 색다른 만남을 체험하고픈 분들께 강추드립니다.  유나이티드 문화센터 인근에 자리한 무월식당은 한국의 가정식의 품격을 느낄 수 있는 한식집이에요. 베스트 메뉴로 꼽히는 한방바베큐보쌈은 메인인 훈제 보쌈 외에도, 정갈하게 그지 없는 반찬들이 일품이더라고요. 조용하고 아늑한 분위기와 멋으로 소개팅 자리나 가족모임으로도 안성맞춤인 곳이랍니다. 역삼역 3번 출구에서 300m정도 떨어진 돝고기506은 밥블레스유 6회에 출연한 바 있는 고깃집이에요. 27년 노하우를 바탕으로 총 506시간의 숙성을 거친 한돈구이는 맛이 그야말로 일품이더군요. 별도의 금액을 지불하면 프라이빗한 룸에서 식사할 수 있으니 참고하세요. 르네상스호텔 사거리 방면에 자리한 바게트케이는 MBC파워매거진 351회에 방영될만큼 호평받는 베이커리집이에요. 겉은 바삭하고 속은 부드럽게 그지없는 바게트가 다양하게 판매되고 있으니, 선호하는 스타일로 즐기시면 될 것 같고요. 감각적인 인테리어와 분위기로 사진 명소로도 적격이랍니다.\\n위 포스팅은,\\n소정의 원고료를 받고 작성했습니다.'},\n",
       " 5: {'title': '눈과 입이 즐거운 역삼 맛집 리스트',\n",
       "  'nickname': '두덩두덩',\n",
       "  'datetime': '2021. 11. 9. 9:00',\n",
       "  'content': '안녕하세요. 두덩이에요 :)\\n오늘은 역삼 맛집들을 포스팅할까 합니다!\\n그중에서도 제가 최근에 비주얼에 한번, \\n그 맛에 한번 놀란 곳이 있어 가장 먼저 소개를 하려고 해요~ 바로 용용선생 강남역점인데요!\\n이곳이 식당 창업에 올인한 젊은 창업자들의\\n주점인데, 그 스토리가 유튜브에서 화제가 되어\\n입소문을 타고 있는 곳이에요.\\n저도 여기를 인스타그램에서 자주 보이던 곳이라\\n정말 궁금했었거든요?\\n특히 상호명 자체가 유니크하고\\n1930년대 홍콩 뒷골목을 컨셉으로 했다는 것이\\n기존의 다른 중식당과는 차별화된 것 같아서\\n더욱 색다르게 다가왔던 것 같아요! 전화 : 0507-1395-5369\\n매일 17:00-01:00 강남역 11번 출구에서 도보 3분 정도 거리에\\n위치해 있어요!\\n위드코로나 이후 저의 첫 불금이었어요.\\n그래서 기대 반 걱정 반으로 강남에 도착을 했는데,\\n와.. 역시나 핫했어요! 역삼 맛집으로도 이미 입소문이 난 곳이라서\\n저는 친구를 기다리다가 웨이팅이 있을 것 같아서\\n친구를 만나기 전에 먼저 용용선생 강남역점으로 향했어요.\\n그런데.. 제가 저녁 7시쯤 도착을 했는데\\n10팀이 넘는 웨이팅이 있었어요..ㅠㅠ 제가 원래 웨이팅을 잘 하지 않는 사람인데,\\n하루 종일 요기 음식들 먹을 생각에\\n점심도 식단 챙겨 먹고 인스타그램에 여기 음식 사진 보면서\\n정말 큰 기대를 하고 왔거든요.\\n그리고 밖에 나와 있는 메뉴판을 보는데,\\n도저히 발걸음이 떨어지지 않는 거예요.\\n그래서 우선 제 이름을 적고 웨이팅을 했습니다.\\n홍콩식 주점이라 술을 먹는 곳이기에 회전율은 그렇게 빠르지 않았지만,\\n다들 2차 갈 시간 즈음에 훅훅 빠지더라구요!\\n웨이팅은 약 1시간? 정도 한 것 같아요~ 저희 뒤에도 꾸준히 웨이팅 팀이 늘어났고,\\n한팀한팀 빠지는 것에 기뻐하며 친구랑 수다 떨면서\\n기다렸어요 ㅋㅋㅋㅋ\\n저희 입장 순서가 곧 다가왔을 때에는 이렇게\\n안에서 웨이팅을 했는데,\\n중간의 자라라창과 붉은색의 네온사인들이\\n정말 홍콩 분위기가 뿜뿜했어요.\\n왜 용용선생 강남역점이\\n역삼 맛집으로 핫한지 알 것 같습니다~ 무엇보다 1930년대의 영국문화가 융합된\\n레트로 분위기가 더해져 더욱 제 취향이었어요 ㅎㅎ 드디어 제 이름이 호명되는 순간.\\n어찌나 짜릿하고 기분이 좋던지 ㅋㅋㅋ\\n안에서 맛있는 음식들 냄새 맡으며 정말 군침 흘렸습니다..\\n여기 직원분도 너무 친절하셔서\\n더욱 마음에 들었어용 자리에 앉자마자 얼른 음식을 주문하기 위해\\n빠르게 메뉴를 스캔했어요.\\n사실 저는 이미 인스타로 다 보고 무엇을 먹을지\\n결정을 하고 온 터라.. 호다닥 주문을 했습니다 ㅎㅎ\\n이곳의 메인 메뉴는 고추바삭 유림기!\\n고추 들어간 매운 음식을 좋아하는 \\n저는 이 메뉴가 가장 기대가 되었어요.\\n그 외에 튀김요리, 마라요리,\\n냉채&무침요리, 볶음, 튀김, 탕 요리 등\\n중식 요리들이 가득합니다~ 알찬 메뉴 구성으로 저렴한 가격에 즐길 수 있는\\n세트 메뉴들도 있으니 참고하면 좋을 것 같아요.\\n용용선생 강남역점에서 베스트메뉴들만 모아놓은 세트거든요~\\n역삼 맛집까지 왔는데, 베스트 메뉴들 즐겨줘야죠! 기본으로 나오는 땅콩과 단무지.\\n음식이 나오기 전에 땅콩을 한두개 집어먹고 있으니\\n정말 홍콩에 온듯한 기분이 들었어요 ㅋㅋ 이날 저희가 선택한 주류는\\n홍콩 분위기와 잘 어울리는 아사간열 토닉세트를\\n주문했어요.\\n고량주가 도수가 높고 흔하지 않은 술이다 보니\\n잘 접하지 않는 술중에 하나인데,\\n고량주에 토닉워터를 섞어 더욱 맛있게 즐길 수 있어서\\n한번 주문해 봤습니다! 고량주 특유의 향과\\n토닉워터의 청량감이 더해져 너무 맛있었어요.\\n특히 저희가 주문한 음식들과의 조합이 좋아서\\n아주 술술 들어갔답니다~ 가장 먼저 나온 음식은 \\n흑후추우삼겹 (10,900원)\\n블랙페퍼 소스에 볶아낸 우삼겹요리인데,\\n그 소스의 풍미가 우삼겹에 가득 묻어 있어서\\n정말 맛있게 먹었어요.\\n특히 야채도 다양해서 더욱 좋았어요.\\n감칠맛 돌고.. 밥이 절로 생각나는 맛!\\n거기에 불향도 약간 나면서 다양한 식감을\\n느낄 수 있었어용! 혹시 역삼 맛집으로 마라탕을 찾으신다면\\n용용선생 강남역점을 감히 추천해요.\\n와.. 저 여기서 마라수혈 제대로 했거든요?\\n화산 마라 전골 (20,900원)\\n전골 육수에 우삼겹이 먹기 좋게 겹겹이 쌓여 있었어요,\\n그 위에는 마라 소스인 것 같은데,\\n이름처럼 화산을 제대로 표현했더라구요! 팔팔 끓이며 산처럼 쌓인 우삼겹과\\n안에 있던 숙주를 푸욱 담갔어요.\\n냄비 안에는 우삼겹, 중국당면, 분모자, 각종 야채가\\n아낌없이 들어가 있는데,\\n여기 마라 제대로에요.\\n일반 마라탕집 가면 한국인 입맛에 맞춘다고\\n마라향이 적은 곳이 많은데,\\n여기는 정말 마라향 제대로고 국물도 얼얼하니\\n별점 5점.. 역삼 맛집에서 한상 제대로 즐기는 동안 이어서 나온\\n마라왕교자 (6,000원)\\n이 작은 교자 만두에서 마라향을 가득 품고 있어서\\n눈이 똥그래지는 맛이었어요.\\n제 친구는 용용선생 강남역점에서 이 교자가 제일 맛있었다고..\\n일반 교자를 생각하면 오산!\\n진짜 한입 베어 물면 예상과는 정말 맛있어서 놀래요. 마지막으로 나온 이곳의 대표메뉴\\n고추바삭 유림기 (18,900원)\\n두툼한 닭다리살을 각종 향신료로\\n18시간동안 마리네이션 하며 튀겨낸 요리에요.\\n말 안해도 알 것 같은 겉.바.속.촉 비주얼\\n청양고추가 송송 썰려 한가득 올려주는데,\\n유림기에 고추 하나 올려 먹으면\\n기름기의 느끼함은 잡아주고\\n속살의 부드러움을 제대로 느낄 수 있어요. 무엇보다 안에 새콤달콤한 소스와 아삭한\\n양배추를 함께 먹으면 그 맛은 환상..\\n이거 꼭 드세요 여러분..\\n고기가 이렇게 부드러워도 되나 싶을 정도로\\n그냥 난리나요..!! 기대 이상으로 정말 맛있게 먹은 역삼 맛집은\\n특색 있는 컨셉의 인테리어,\\n그리고 자기주장 강한 음식들.\\n하나하나 퀄리티 있는 음식들이라 더더욱\\n만족도가 높았어요.\\n다음엔 칼퇴하고 용용선생 강남역점에\\n웨이팅 생기기 전 무조건 달려와야겠어요..! '},\n",
       " 6: {'title': '중독적인 역삼역 맛집 모음',\n",
       "  'nickname': '먹방토끼',\n",
       "  'datetime': '2021. 12. 23. 13:00',\n",
       "  'content': '며칠 전 친구와 쇼핑을 나갔다가 손님이 바글바글한 역삼역 맛집에 방문하게 됐어요. SNS에서 종종 봤던 식당인데 맛과 비주얼 모두 특출난 곳이라 소개해드려요.\\n1. 밥밥디라라 역삼본점\\n주소: 서울 강남구 도곡로7길 28 1층 102호\\n전화번호: 0507-1489-5840\\n운영시간: 11:00 - 21:00 (일요일 휴무, B.T. 15:00 - 16:30)\\n대표메뉴: 김치가츠나베 10,900원 이날 다녀간 밥밥디라라는 순복음 강남교회에서 도보 1분 거리였는데요. 도로변 앞에 있어 초행길임에도 어렵지 않게 발견할 수 있었지요. 그리고 주차장도 완비되어 있으니 차를 끌고 가기에도 좋은 곳이더라고요. 건물 외관에서 풍기는 분위기가 유쾌해서 음식에 대한 기대감도 한껏 올라갔어요. 오픈은 오전 11시이고 마감은 9시라 근처 직장인들이 들르기에 좋을 듯해요. 3시부터 4시 30분까지 브레이크 타임이니 이것만 참고하시면 될 거 같아요. 안으로 들어갔더니 주문을 위해 설치된 키오스크 기계가 눈에 들어왔는데요. 음식 사진까지 화면 속에 들어가 있어 역삼역 맛집 메뉴를 바로 파악했어요. 매장은 전체적으로 깔끔하게 관리되어 있고 아늑한 분위기를 자랑하고 있었는데요. 테이블마다 설치된 아크릴 칸막이 덕분에 위생적으로 식사가 가능했답니다. 음식은 푸드코트처럼 받아 가는 형식이라 대학 시절의 추억이 새록새록 떠올랐어요. 그리고 밑반찬과 국물을 함께 담아주셨는데 구성이 정갈해 보여서 합격점을 줬어요. 반찬은 단무지, 깍두기가 준비되어 있었는데 칼칼하면서도 시원한 단맛이 나더라고요. 오래 삭히지는 않은 거라 아삭하게 씹는 재미도 살아있었답니다. 우리는 코올슬로도 오더를 넣었는데 양배추가 잘게 들어있어 먹기 편했어요. 마요네즈 소스에 촉촉하게 버무려주시니 역삼역 맛집은 고소하면서 상쾌하더라고요. 국물은 짭조름한 편이었는데 입맛을 돋워주는 역할을 하더라고요. 건더기 없이 콸콸 넘어가는 스타일이라 순식간에 해치우게 됐어요. 제일 먼저 야끼니꾸 덮밥을 만나보니 고기 위에 노른자를 코팅하는 방식이더라고요. 다른 재료들을 부드럽게 감싸주니까 표면이 매끈해지면서 고소함이 풍부해졌어요. 계란의 반지르르한 광택까지 더해지니 육질이 훨씬 더 먹음직스러워 보이던 거 있죠? 게다가 고기가 길고 컸기 때문에 밥만 남지 않게 적절한 비율을 자랑했어요. 불고기 종류도 있었지만 평소 제육같이 빨간 양념을 더 선호하는 편이라 선택했는데요. 삼역 맛집은 일식과 한식의 매력을 동시에 가지고 있더라고요. 고기는 반찬과의 궁합도 훌륭해서 숟가락을 들 때마다 얹어 먹게 되었는데요. 특히 채수가 그득했던 깍두기와는 궁합이 딱 맞아떨어지는 요리였어요. 그다음 만난 요리는 김치가츠나베인데 역시나 얼큰한 스타일이더라고요. 한국인의 입맛을 사로잡기에 손색이 없어 첫 만남에 푹 빠지고 말았어요. 도톰한 가츠는 가위와 집게로 잘라줬는데 생각보다 두꺼워서 조금 당황했어요. 묵직한 패티의 육질이 손에 느껴질 정도라 힘을 줘서 꽉 잡고 잘라줬답니다. 저는 음식을 먹기 전에 입가심을 위해 역삼역 맛집의 양배추 샐러드를 섭취했는데 달콤 짭짤한 소스가 딱 제 취향이더라고요.  친구는 돈가스 위에 얹어 먹기도 했는데 홀린 듯이 연거푸 합을 맞추는 거예요. 그걸 보고 저도 따라 해보니 매콤한 맛을 중화시키면서 개운하게 흡수됐어요. 고슬하게 지어진 쌀밥과도 잘 어울려서 훌륭한 반찬이 되어주더라고요. 튀김옷에 흡수되었던 국물이 밥알 사이사이로 스며들면서 맛의 조화를 이루더라고요. 마지막 요리는 치킨타워덮밥이었는데 이름처럼 토핑이 풍성하게 올라갔어요. 이전에 본 적이 없는 환상적인 비주얼이라 바로 흩트리기가 아쉬울 정도였어요. 높게 쌓은 역삼역 맛집 기술이 궁금했는데 꼬치로 재료들을 연결해 놓으셨더라고요. 요리 하나에 들이는 정성이 대단할뿐더러 플레이팅 기술이 뛰어난 곳이었어요. 덜어 먹을 수 있게 접시를 챙겨주셨길래 차근차근 준비해서 시식했는데요. 고소한 소스가 묻어 있어서 그런지 짠맛이 강하지 않고 밸런스가 맞더라고요. 치킨도 먼저 염지를 해둔 거라 전체적으로 짭조름한 염분이 느껴졌어요. 덕분에 소스 없이 먹어도 심심하지 않고 육질이 야들야들하게 씹혀서 좋았어요. 무엇보다 마음에 든 건 튀김옷이 얇지만 육질은 도톰하다는 점이었어요. 이게 반대로 되면 속이 느글거릴 수 있지만 이건 담백하게 즐길 수 있더라고요. 그리고 느끼하지 않게 양배추를 갈아 밥 위에 얹어주시니 조화가 훌륭했는데요. 밥 한 톨 남기지 않고 먹게 되니 과식하는 걸 주의해야 할 정도였어요. 기대했던 이상의 풍미를 제공해주는 역삼역 맛집이라 인상적이었어요. 이날 먹어보지 못한 메뉴들이 많으니 조만간에 친구와 다시 들를 생각이랍니다. 2. 땀땀\\n주소: 서울 강남구 강남대로98길 12-5\\n전화번호: 02-554-8892\\n영업시간: 11:00 - 22:00\\n대표메뉴: 포 모이 Pho moi 15,000원\\n강남역 11번 출구에서 도보 5분 거리에 위치한 땀땀은 생방송투데이 26 58회에 소개된 베트남음식 전문점이에요. 베트남 궁중 보양식 레시피를 바탕으로 엄선된 소고기와 사골을 24시간 동안 우려낸 국물을 맛볼 수 있는데요. 면발은 탱탱한 식감이 매력적이라 면매니아라면 한 번 드셔보셔도 좋을 것 같네요.\\n3. 신동궁감자탕 역삼본점\\n주소: 서울 강남구 테헤란로10길 21\\n전화번호: 02-555-3782\\n영업시간: 11:00 - 21:00\\n대표메뉴: 감자탕 소 32,000원 역삼까치공원에서 도보 5분 거리에 위치한 신동궁감자탕 역삼본점은 VJ특공대 734회에 소개된 감자탕집이에요. 야들거리는 살결과 감칠 맛 깃든 국물을 음미 할 수 있어서 술 안주는 물론, 해장 목적으로 방문하기 딱 좋아요.\\n4. 돝고기506\\n주소: 서울 강남구 역삼로17길 53\\n전화번호: 02-6933-9506\\n영업시간: 11:30 - 22:00\\n대표메뉴: A506 숙성 삼겹살 150g 17,000원 역삼역 3번 출구에서 도보 4분 거리에 위치한 돌고기506은 밥블레스유 6회에 소개된 돼지구이 전문점이에요. 부드러움 식감과 짙은 육향을 느낄 수 있는 삼겹살은 풍만한 식감에 육고기 특유의 잡내가 전혀 없어서 거부감 없이 즐길 수 있어 좋더군요.\\n5. 바게트케이\\n주소: 서울 강남구 테헤란로34길 21-10\\n전화번호: 02-567-9501\\n영업시간: 07:00 - 19:00\\n대표메뉴: 말제르브바게트 5,500원 역삼역 1번 출구에서 도보 7분 거리에 위치한 바게트케이는 MBC파워매거진 351회에 소개된 빵집이에요. 말제르브바게트는 겉은 바삭하고 속은 부드러운데, 담백하고 고소한 향이 입에 촤악 퍼져서 취향을 제대로 저격하더라고요.\\n위 포스팅은 소정의 원고료를 받고 작성하였습니다.'},\n",
       " 7: {'title': '역삼맛집 소이연남! 점심 뭐먹지? 태국음식 리뷰',\n",
       "  'nickname': '델피늄\\n(kba7628)',\n",
       "  'datetime': '2021. 12. 21. 10:44',\n",
       "  'content': 'http://naver.me/GgekT3fA 아침부터 쌀쌀한 날씨에\\n따끈한 국물이 땡기는 날이있다.\\n원래 쌀국수를 그리 선호하는 편은 아닌데\\n뼈해장같은 국밥류를 먹기엔\\n속이 더부룩한 아침이였고, 좀 더 가벼운\\n국물류 요리를 찾으며 쌀국수 메뉴를 고르게되었다.\\n#소이연남역삼\\n#태국음식\\n#쌀국수 소이연남 더샵스앳센터필드\\n태국음식점\\n서울 강남구 테헤란로 231 지하2층 WB06호\\n역삼역 8번 출구에서411m\\n매일 11:00 - 21:00\\n15:00 - 17:00 브레이크타임\\n20:00 라스트오더\\n매일 영업이라니, 역삼에서는 보기 드문데ㅋㅋ\\n호텔이 윗층에 있어서 투숙객들을 위함인듯 하다~~! 동료들이 추천한 새로운 쌀국수 집이 있다.\\n사진으로만 보았는데 이번 기회에 먹어보기로했다.\\n새로생긴 호텔 건물 지하층에\\n깔끔한 푸드코트가 자리하고있는데\\n외부에서도 식사하러 들어올 수 있어서\\n몇번 구경했던게 전부였다.\\n걸어서 소이연남으로 향한다.\\n더샵스앳센터필드 1층에서 \\n지하 2층으로 내려가야하는데 \\n내려가는 계단과 에스컬레이터는 \\n총 3곳으로 보인다. \\n어디로 내려가야할지 못찾을까 걱정되었는데\\n에스컬레이터도 쉽게 찾을 수 있다.  테이블은 대부분 사람이 차있었는데\\n로테이션이 빠른건지 웨이팅 없이 착석할 수 있었다.\\n테이블엔 메뉴판과 소이연남 쌀국수 \\n맛있게 먹는 법 안내지가 배치되어 있다.\\n쌀국수에 곁드릴 네가지 소스도 함께 말이다. 메뉴가 쌀국수라 그런지 오래 기다리지 않아\\n따끈한 국수 두그릇이 나왔다.\\n소스를 얼마나 넣어야할지 몰라서\\n일단 고추식초 한숟갈만 넣고\\n고춧가루만 두스푼 넣었다. 메뉴판 제일 상단에 있능 소고기 쌀국수이다.\\n위에 올려진 크런키? 견과류 종류가 씹히는 맛이 좋다. \\n위에 올려친 야채는 고수인줄 알았는데\\n막상 먹으면 별맛이 없어서?\\n고수는 아닌듯하고 묘하다ㅋ\\n담백하고도 진한 국물이 일품이였다.\\n국수면은 조금 더 얇았으면 하는 바람이다.\\n개인적으론 동남아 쌀국수의 똠양꿍 맛이\\n적게 느껴져서 좋았습니다^^\\n함께 들어있는 소고기를 한입 크기에\\n 3~4점 정도 들어있고 아주 부드러웠어요ㅜㅜ\\n또 먹고싶네용 ㅜㅜㅜ 날도 추워져서 자꾸 따뜻한 식사가 땡깁니다ㅋㅋ\\n역삼 소이연남은 쌀국수가 다시 땡길때 \\n한번 더 방문해야겠어요. 모두에게 추천추천^^\\n 더샵스앳센터필드는 소이연남 말고도\\n카페와 다양한 음식점들이 들어와있어요.\\n이곳에서 점심 뭐먹지? 하고 고민해도 좋을것 같네요ㅋㅋㅋ \\n이상 소이연남 소고기쌀국수 리뷰를 마칩니다!'},\n",
       " 8: {'title': '[역삼 맛집] 정갈한 한식 반상이 있는 한식 다이닝, 수라선',\n",
       "  'nickname': '템포',\n",
       "  'datetime': '2021. 11. 13. 8:50',\n",
       "  'content': '흔히 말하는 집 밥에서부터\\n다양한 메뉴들이 나오는 고급 진 한정식까지\\n한식의 종류는 정말 많이 있습니다.\\n이번에는 이러한 한식 중에서\\n정갈하게 밥부터 반찬까지 한 끼 식사가 나오는\\n역삼 한식 다이닝을 소개해드려보고자 합니다.\\n이번 포스팅\\n정갈한 한식 반상이 있는 한식 다이닝\\n수라선\\n입니다. 신라스테이 역삼 1층\\n통유리로 되어있는 곳에 이번에 찾아간\\n수라선이 있습니다.\\n한식 다이닝이라고 하지만\\n호텔에 있어서인지\\n영어로 SURASUN, 수라선이라고 되어있고\\n그 옆에 영어로 한식에 대한 표기인 Korean dining이 있었습니다.\\n위치를 알고 있었기에 잘 찾아갈 수 있었지만\\n만약 위치를 모르고 그냥 지나가는 길에 보았다면\\n제대로 주의 깊게 보지 않는 이상\\n쉽게 지나칠 것만 같았습니다.\\n제가 한글로 된 간판을 못 찾은 것인지는 모르겠으나\\n왜 영어로만 되어있는지는 조금 의문이었습니다. 대로변 입구에 있던 영업시간\\n영업시간은 매일 오전 11시부터 밤 10시까지\\n중간에 브레이크 타임이 3시부터 5시까지 있고\\n라스트 오더는 밤 9시까지로 되어있었습니다.\\n본래는 이곳이 입구였지만 바람 때문에 이쪽의 문을 폐쇄하고\\n신라스테이 쪽 문만을 운영한다는 안내가 있어서\\n신라스테이 안으로 들어가서\\n수라선으로 들어갔습니다. 신라스테이 역삼 안쪽 수라선으로 들어가는 입구\\n입구는 좁은 통로를 통해서 있었는데\\n입구 앞쪽에는 수라선의 여러 메뉴들에 대한 소개가 있었습니다. 수라선의 내부 모습\\n창가 자리 쪽은 예약한 사람들을 위한 자리인지\\n이후에 예약한 사람들이 안내가 되었고\\n예약을 하지 않은 사람들은 창가가 아닌 안쪽으로 자리 안내를 받았습니다.\\n수라선의 전체적인 모습은\\n호텔에 있어서인지 깔끔했고\\n직원들은 친절한 느낌이었습니다. 테이블에 있었던 메뉴 소개\\n수라선 해산물 모듬한상에 대한 소개가 있었고\\n뒤쪽으로는 술과 함께 주문했을 시 만 원이 할인된다는 내용도 있었습니다. 수라선의 메뉴판 왼쪽 상단에는 시즌 메뉴라고 되어있는\\n조그만 메뉴들이 추가로 적혀있었습니다. 수라선의 메인 식사 메뉴라고 할 수 있는\\n여러 종류의 반상 메뉴들\\n전복장 무쇠솥밥을 시작으로\\n꽃게장, 민어, LA갈비 무쇠솥밥 반상이 있었고 그 아래쪽으로는 제주 흑돼지 떡갈비 반상과 곰국시, 곰국밥이 있었습니다. 그 옆으로는 가벼운 요리 메뉴들이 있었고\\n그 옆쪽에 술과 음료 등이 있었습니다. 반상 메뉴 아래쪽에는\\n식재료 원산지가 나와있었습니다.\\n외국산 재료들도 많이 있지만\\n국내산 재료들도 많이 있었습니다. 뒤 페이지에는 요리 메뉴라고 할 수 있는 메뉴들이 있었습니다. 한우 스테이크를 비롯해서 여러 종류의 해산물 메뉴들을 비롯해서\\n술안주 느낌의 메뉴들이 있었습니다.\\n저는 여러 반상 메뉴 중에서\\n어떤 걸 먹어볼까 심히 고민을 하다가\\n최대한 안 먹어본 쪽에 가까운 쪽을 먹어보고자\\n꽃게장 무쇠솥밥 반상을 주문했습니다. 주문을 하고 얼마를 기다렸을까\\n그리 오래 기다리지는 않은 시간에 나온\\n꽃게장 무쇠솥밥 반상\\n아래쪽에는 꽃게장이 들어있는 메인 메뉴\\n무쇠솥밥이 있고\\n그 옆에는 된장국\\n그리고 위쪽으로는 세 종류의 반찬과 솥밥과 함께 먹을 수 있는 양념이 준비가 되었습니다. 세 종류의 반찬 그리고 양념장\\n양념장은 어차피 솥밥에 비벼 먹을 것이기에\\n반찬을 소개할 때는 잠시 미뤄놓고\\n세 개의 반찬만을 이야기해 보겠습니다.\\n이날 준비된 반찬은 깍두기와 가지, 그리고 오징어젓갈이었습니다.\\n깍두기는 조금 익은듯한 깍두기의 맛이었는데\\n특별함은 없는, 식당에서 흔히 맛볼 수 있는 깍두기의 맛이었습니다.\\n가지는 적당히 짭짤하면서도 매콤한 맛이 조금 있는 맛의 반찬이었고\\n오징어젓갈은 신선한 오징어젓갈의 맛이었습니다.\\n이 세 가지 반찬은 따로 먹을 때는 오징어젓갈이 간이 세서 그런지 가장 맛있게 느껴졌지만\\n나중에 솥밥과 같이 먹을 때는\\n가지가 가장 잘 어울렸습니다.\\n깍두기는 개인적으로는 조금 별로였습니다. 함께 나온 된장국\\n된장국은 큰 특징 없는 된장국이었는데\\n제 입맛에는 솔직하게 말해서 조금 별로였습니다.\\n주된 메뉴가 아니지만 가장 실망스러웠고\\n가장 안 먹었던 구성이었습니다. 꽃게장 무쇠솥밥\\n무쇠솥밥에는 가운데 계란이 보이고\\n계란을 중심으로\\n아래쪽에는 주인공인 꽃게장이\\n그 옆으로는 시계방향으로\\n양파, 명란, 애호박, 김이 있는 모습이었습니다. 밥을 만나보기 전에\\n먼저 꽃게장을 따로 먹어보았습니다.\\n매끈한 모습의 꽃게장의 맛은\\n해산물 맛이 그대로 살아있는 맛으로\\n해산물 특유의 비린 향을 싫어하는 사람이라면\\n싫어하겠다는 생각이 바로 들 정도였습니다.\\n하지만 저는 그 정도는 아니기에\\n먹어보았을 때 조금 해산물 향이 강하구나 싶은 것을 제외하고는 별미다 싶었습니다. 아래쪽으로는 밥이 숨어있었습니다.\\n고소하면서도 부드러운 맛이 있던 밥 이제 본격적으로 모든 재료들을 다 섞어보았습니다.\\n양념장은 먹다가 매콤한 것을 먹고 싶을 때 섞어먹으면 된다 하여\\n우선은 양념장 없이 그대로 비벼보았습니다.\\n섞어서 먹어본 꽃게장 무쇠솥밥\\n처음 먹어보았던 꽃게장의 해산물 맛은 조금 약해진 대신 다른 재료들의 맛이 함께 느껴졌습니다.\\n중간중간 꽃게 살의 미끄러우면서도 부드러운 맛과\\n명란의 맛이 느껴지던 무쇠솥밥\\n부드럽고 담백한 맛에\\n정갈하고 건강한 맛이었고\\n양념 없이도 충분히 맛있는 맛이었습니다. 양념이 있는 만큼\\n양념을 안 넣고 먹어볼 수는 없기에\\n매콤함을 위해 양념장을 적당히 넣어보았습니다.\\n색은 붉게 변했지만 생각보다 매콤한 맛이 약했던 맛\\n오히려 처음 양념장 없이 먹었을 때 느꼈던 부드러운 맛도 반감이 되어버렸습니다.\\n그러면서도 장에서 느껴지는 특유의 맛이 느껴지던 맛\\n개인적으로는 양념장을 함께 먹는 것보다\\n그냥 먹는 쪽이 좀 더 좋았습니다.\\n매콤한 맛을 원하는 게 아니라면 그냥 먹는 것이 더 좋아 보였고\\n매콤한 맛을 원한다 할지라도 양념장에서 크게 기대치 않는 게 좋았던 양념장의 맛\\n매콤한 맛은 오징어젓갈이 차라리 더 매콤해서\\n반찬과 함께 먹으면 충분하지 않을까 싶었습니다.\\n깔끔한 한식 반상이 있었던 수라선\\n깔끔 담백하면서도 신선했던 식사는\\n한 끼 식사를 하기에 좋았고 추천할만했습니다.\\n반상이 거창한 요리는 아니지만\\n그래도 점심 또는 저녁에\\n정갈하고 담백한 맛을 원한다면\\n한번 먹어보는 것도 좋을듯합니다.\\n그러면 지금까지\\n정갈한 한식 반상이 있는 한식 다이닝\\n수라선\\n이었습니다. '},\n",
       " 9: {'title': '[역삼] 파스타맛집 그리고 치즈팩토리 케이크 🍝 디스팅트',\n",
       "  'nickname': '100그리고100',\n",
       "  'datetime': '2021. 12. 27. 8:50',\n",
       "  'content': '회사에서 팀회식을 위해 알아보던 중 \\n양식을 메뉴로 선정함에 근처 맛집을 찾았다.\\n단독 건물로 분위기도 좋고 메뉴 가성비도 뛰어나서 \\n선택하게 된곳\\n역삼역 3번출구 강남파이낸스 건물을 지나 \\n타코벨 건물에서 골목을 들어서면 만날 수 있다. 점심시간에 도착한 디스팅트는 사람들이 \\n별로 없었지만 시간이 지남에 꽤 좌석이 찼다.\\n우리는 팀회식으로 네이버 예약을 진행하고 방문했다. 들어서자마자 눈길을 끌었던것은 케익 쇼케이스였다.\\n치즈케이크팩토리라는 브랜드로 미국에서 유명한 \\n치즈케이크라고 함에 디저트로 먹고 싶은 마음에 설랬다.\\n종류도 다양하고 같이간 일행이 유명하다고 알려줘서 먹고싶은 마음을 갖고 자리를 안내받았다. 디스팅트 좌석분위기는 위와 같다.\\n4인좌석으로 되어있는 테이블들이 주로 이루고 있었고 주문은 메뉴판을 확인한 후에 케익쇼케이스가 있었던 주문대로 가서 선결제로 진행하는 구조였다.\\n점심시간 한정 선결제로 진행된다고 함에 참고!  디스팅트의 메뉴판 구성은 위와 같고 \\n연말맞이 이벤트를 하는 메뉴도 있었다.\\n팀회식으로 주문한 메뉴는\\n콥샐러드 \\\\17,500\\n크리미머쉬룸파스타 \\\\18,500\\n볼로노제 파스타 \\\\17,500\\n쉬림프토마토리조또 \\\\15,500\\n찹스테이크&페이스츄리 \\\\33,500 > 28,500\\n런치이벤트 -5,000원과 탄산음료 1개 제공\\n으로 4인기준에 넉넉하게 주문했다. 식전빵이 먼저나오고 콥샐러드가 바로 이어서 나왔다.\\n식전빵은 포카치아 계열로 폭신하면서 쫄깃했다.\\n콥샐러드는 우드볼에 담겨나왔는데 소스를 넣어 \\n섞어먹었으며 콘과 올리브 베이컨 등 \\n채소가 다양하게 들어있어서 맛있게 먹을 수 있었다. 볼로노제 파스타\\n수란이 올라간 토마토 베이스의 고기 파스타로\\n간이 살짝 쎄서 자극적이였지만 맛은 좋았다. 쉬림프토마토리조또 \\n토마토소스 베이스에 새우살과 통새우가 올라간 \\n리조또는 쌀알의 식감도 좋았고\\n치즈맛으로 감칠맛이 더해져 맛있었다. 크리미 머쉬룸 파스타\\n부드러운 크림과 버섯 그리고 트러플향이 가득한 \\n파스타로 솔직히 메뉴중에 1등으로 맛있었고 \\n중독되는 메뉴였다.\\n크림소스까지 완벽해서 모두가 만족했던 메뉴!  찹스테이크&페이스튜리\\n고기와 야채가 구워져나온 찹스테이크는 \\n따뜻할때 먹어야 맛이좋았고 페이스츄리는 \\n일반 빵의 맛이라서 생각보다는 조화는 안어울렸으나\\n따로먹기엔 디저트 대용으로 나쁘진 않았다.  4인기준으로 메뉴를 다양하게 시킴에 테이블이 \\n좁아서 식전빵의 접시를 치워달라고 요청했고\\n배치를 잘 진행한다음에 마음껏 즐길 수 있었다.\\n가격대비 맛도 만족스러웠고 양도 좋아서 기념일이나 데이트코스로도 좋은 곳이라고 생각했다. 앞서 말했던 치즈케이크팩토리의 유명세를 \\n경험하고자 음료2잔 주문시 오늘의 케익이 무료로 \\n제공되는 이벤트를 확인하고 음료 4잔을 주문한뒤 \\n케이크를 2조각을 제공받았다.\\n시트가 거의없는 치즈케이크는 아주꾸덕하니 \\n치즈향과 맛의 풍미가 커서 만족스러웠다.\\n일반 베이커리집에서의 치즈케이크를 선호하지 않는 편인데 치즈팩토리의 케이크는 진한 맛에 맛이 좋았다. 그러나 다소 느끼함이 있어서 한조각을 다먹진 못할것 같았다. 😉 전반적으로 처음 방문함에도 모든 메뉴가 만족스럽고\\n특히 트러플향이 가득한 머쉬룸파스타가 최애가 된\\n특별한 치즈케이크와 맛좋은 메뉴가 있는곳 디스팅트'}}"
      ]
     },
     "execution_count": 46,
     "metadata": {},
     "output_type": "execute_result"
    }
   ],
   "source": [
    "dict"
   ]
  },
  {
   "cell_type": "code",
   "execution_count": 33,
   "metadata": {
    "id": "MP_grQXm-kvv",
    "outputId": "94e65bb2-0e12-48ea-be55-fb1731c3ac1f",
    "scrolled": false
   },
   "outputs": [
    {
     "data": {
      "text/html": [
       "<div>\n",
       "<style scoped>\n",
       "    .dataframe tbody tr th:only-of-type {\n",
       "        vertical-align: middle;\n",
       "    }\n",
       "\n",
       "    .dataframe tbody tr th {\n",
       "        vertical-align: top;\n",
       "    }\n",
       "\n",
       "    .dataframe thead th {\n",
       "        text-align: right;\n",
       "    }\n",
       "</style>\n",
       "<table border=\"1\" class=\"dataframe\">\n",
       "  <thead>\n",
       "    <tr style=\"text-align: right;\">\n",
       "      <th></th>\n",
       "      <th>title</th>\n",
       "      <th>nickname</th>\n",
       "      <th>datetime</th>\n",
       "      <th>content</th>\n",
       "    </tr>\n",
       "  </thead>\n",
       "  <tbody>\n",
       "    <tr>\n",
       "      <th>0</th>\n",
       "      <td>찬란했던 울산 삼산 맛집 모음</td>\n",
       "      <td>빨간머리 샹크스\\n(vnawmd9233)</td>\n",
       "      <td>2021. 12. 23. 16:42</td>\n",
       "      <td>지난 주말에는 친구 생일을 축하할 겸 미리 예약해둔 울산 삼산 맛집에 다녀왔어요.\\...</td>\n",
       "    </tr>\n",
       "    <tr>\n",
       "      <th>1</th>\n",
       "      <td>만족했었던 울산 삼산 맛집 리스트</td>\n",
       "      <td>애쉬</td>\n",
       "      <td>2021. 11. 19. 12:50</td>\n",
       "      <td>지난 주 오랜만에 만난 고등학교 친구들과 함께 울산 삼산 맛집에 다녀왔어요. 합리적...</td>\n",
       "    </tr>\n",
       "    <tr>\n",
       "      <th>2</th>\n",
       "      <td>매력터진 울산 삼산 맛집 모음</td>\n",
       "      <td>김공\\n(lovely_k_mk)</td>\n",
       "      <td>2021. 12. 15. 7:00</td>\n",
       "      <td>주말엔 친구 생일을 축하하려고 미리 점찍어둔 울산 삼산 맛집에 다녀왔어요. 유니크한...</td>\n",
       "    </tr>\n",
       "    <tr>\n",
       "      <th>3</th>\n",
       "      <td>매력있는 울산 삼산 맛집 공유</td>\n",
       "      <td>애블</td>\n",
       "      <td>2021. 12. 23. 17:00</td>\n",
       "      <td>지난 주말 절친들과 함께 점심 약속이 있어 지인에게 추천받은 울산 삼산 맛집을 찾아...</td>\n",
       "    </tr>\n",
       "    <tr>\n",
       "      <th>4</th>\n",
       "      <td>우수했던 울산 삼산 맛집 리스트</td>\n",
       "      <td>조꽁</td>\n",
       "      <td>2021. 12. 16. 11:13</td>\n",
       "      <td>그저께는 친한 친구들과 모임이 생겨서\\n숯불구이 전문점으로 유명한 울산 삼산 맛집에...</td>\n",
       "    </tr>\n",
       "    <tr>\n",
       "      <th>5</th>\n",
       "      <td>엄지들었던 울산 삼산 맛집 소개</td>\n",
       "      <td>퍼만</td>\n",
       "      <td>2021. 11. 29. 21:32</td>\n",
       "      <td>지난 수요일에는 지인 부부와 모처럼 친목모임겸 미리 서치해둔 울산 삼산 맛집에 다녀...</td>\n",
       "    </tr>\n",
       "    <tr>\n",
       "      <th>6</th>\n",
       "      <td>느낌있는 울산 삼산 맛집 리스트</td>\n",
       "      <td>알짜배기</td>\n",
       "      <td>2021. 9. 17. 10:51</td>\n",
       "      <td>친구들과 오랜만에 만나서 약속 장소를 찾아보다가 서치해뒀던 울산 삼산 맛집에 갔다왔...</td>\n",
       "    </tr>\n",
       "    <tr>\n",
       "      <th>7</th>\n",
       "      <td>뛰어난 울산 삼산 맛집 리스트</td>\n",
       "      <td>쏳\\n(sanjizoro1)</td>\n",
       "      <td>2021. 10. 5. 17:22</td>\n",
       "      <td>몇주전 울산으로 이사간 친구집에 놀러갔다가 한우전문점으로 유명한 울산 삼산 맛집에...</td>\n",
       "    </tr>\n",
       "    <tr>\n",
       "      <th>8</th>\n",
       "      <td>끄덕였던 울산 삼산 맛집 모음</td>\n",
       "      <td>소윤</td>\n",
       "      <td>2021. 9. 5. 14:56</td>\n",
       "      <td>고기를 먹는 것을 좋아해 친구들과 함께 주말에 울산 삼산 맛집을 다녀왔어요.\\n숙성...</td>\n",
       "    </tr>\n",
       "    <tr>\n",
       "      <th>9</th>\n",
       "      <td>울산 삼산 맛집 연말데이트 분위기 좋은 레스토랑 더본테이블</td>\n",
       "      <td>Layla</td>\n",
       "      <td>2021. 12. 20. 13:25</td>\n",
       "      <td>코로나때문에 계속 못만나다가\\n거의 2년만에 만나는 친구랑 스테이크 코스 \\n점심을...</td>\n",
       "    </tr>\n",
       "    <tr>\n",
       "      <th>10</th>\n",
       "      <td>칭찬했던 울산 삼산 맛집 리스트</td>\n",
       "      <td>달지우\\n(idhsssh)</td>\n",
       "      <td>2021. 7. 10. 13:26</td>\n",
       "      <td>주말에 울산으로 친구네 집에 놀러갔다 울산 삼산 맛집에 다녀왔어요.\\n시원한 맛에 ...</td>\n",
       "    </tr>\n",
       "    <tr>\n",
       "      <th>11</th>\n",
       "      <td>울산 삼산 맛집 단골하고 싶은 촌놈밥집</td>\n",
       "      <td>두덩두덩</td>\n",
       "      <td>2021. 12. 3. 9:00</td>\n",
       "      <td>안녕하세요! 두덩이에요 :)\\n오늘은 울산 삼산 맛집을 소개하려고 합니다~\\n제가 ...</td>\n",
       "    </tr>\n",
       "    <tr>\n",
       "      <th>12</th>\n",
       "      <td>울산삼산맛집 울산 삼산 해산물 조개갈비찜맛집 위찜</td>\n",
       "      <td>멜리사\\n(melissa0716)</td>\n",
       "      <td>2021. 12. 26. 20:03</td>\n",
       "      <td>날씨가 갑작스럽게 너무 추워졌는데요 ㅜㅡㅜ\\n한파로 인해 뜨끈뜨끈한 찜요리가 땡기는...</td>\n",
       "    </tr>\n",
       "    <tr>\n",
       "      <th>13</th>\n",
       "      <td>울산삼산맛집 데이트코스 한우오마카세 우주인</td>\n",
       "      <td>퐝</td>\n",
       "      <td>2021. 12. 8. 1:36</td>\n",
       "      <td>211207 바로오늘\\n기념적인 날인데요 ㅎㅎ\\n출산 후 저희 부부가\\n첫 데이트를...</td>\n",
       "    </tr>\n",
       "    <tr>\n",
       "      <th>14</th>\n",
       "      <td>삼산 맛집, 뇨끼와 샥슈카가 맛있는 브런치 레스토랑 1616</td>\n",
       "      <td>Grace89</td>\n",
       "      <td>2021. 11. 5. 0:59</td>\n",
       "      <td>#삼산맛집 #울산맛집 #1616 #삼산일육일육\\n#울산뇨끼맛집 #샥슈카맛집 \\n#울...</td>\n",
       "    </tr>\n",
       "    <tr>\n",
       "      <th>15</th>\n",
       "      <td>울산 삼산 초밥맛집 혁이네</td>\n",
       "      <td>져니</td>\n",
       "      <td>2021. 12. 15. 13:11</td>\n",
       "      <td>점심 뭐먹을까 고민하다가 삼산에 신상초밥집이\\n있다고 해서 슝 달려갔어요!🍊\\n오픈...</td>\n",
       "    </tr>\n",
       "    <tr>\n",
       "      <th>16</th>\n",
       "      <td>울산 삼산 맛집, 해운대31cm해물칼국수</td>\n",
       "      <td>날다</td>\n",
       "      <td>2021. 12. 2. 22:20</td>\n",
       "      <td>오늘 날다의 #원픽 #핫플 소개할 곳은 울산 삼산 칼국수 가게!\\n여기는 전에 동생...</td>\n",
       "    </tr>\n",
       "    <tr>\n",
       "      <th>17</th>\n",
       "      <td>울산 삼산 맛집 온리육 다녀와봤어요.</td>\n",
       "      <td>수요니</td>\n",
       "      <td>2021. 9. 6. 14:24</td>\n",
       "      <td>핫플 다녀와본지가 언제인지 모를 정도로\\n가는 곳만 가는 스타일의 저를 위해\\n친구...</td>\n",
       "    </tr>\n",
       "    <tr>\n",
       "      <th>18</th>\n",
       "      <td>울산 삼산 쌀국수 해외 느낌 제대로인 맛집</td>\n",
       "      <td>맛집 탐험가</td>\n",
       "      <td>2021. 9. 10. 15:00</td>\n",
       "      <td>센트럴자이 테라스가든 1층에 자리하고 있는\\n해외 감성 제대로 갖추고 있는\\n팬아시...</td>\n",
       "    </tr>\n",
       "    <tr>\n",
       "      <th>19</th>\n",
       "      <td>울산 삼산 맛집 / 숙성돼지고기 진리 온리육</td>\n",
       "      <td>황씨\\n(hwang_c11)</td>\n",
       "      <td>2021. 10. 7. 11:26</td>\n",
       "      <td>울산 삼산 신상 고기 맛집\\n온리육 안녕하세요 황씨입니다\\n얼마전에 제가 삼산 고기...</td>\n",
       "    </tr>\n",
       "  </tbody>\n",
       "</table>\n",
       "</div>"
      ],
      "text/plain": [
       "                                title                nickname  \\\n",
       "0                    찬란했던 울산 삼산 맛집 모음  빨간머리 샹크스\\n(vnawmd9233)   \n",
       "1                  만족했었던 울산 삼산 맛집 리스트                      애쉬   \n",
       "2                   매력터진 울산 삼산 맛집 모음        김공\\n(lovely_k_mk)   \n",
       "3                    매력있는 울산 삼산 맛집 공유                      애블   \n",
       "4                  우수했던 울산 삼산 맛집 리스트                       조꽁   \n",
       "5                   엄지들었던 울산 삼산 맛집 소개                      퍼만   \n",
       "6                  느낌있는 울산 삼산 맛집 리스트                     알짜배기   \n",
       "7                   뛰어난 울산 삼산 맛집 리스트          쏳\\n(sanjizoro1)   \n",
       "8                    끄덕였던 울산 삼산 맛집 모음                      소윤   \n",
       "9   울산 삼산 맛집 연말데이트 분위기 좋은 레스토랑 더본테이블                    Layla   \n",
       "10                  칭찬했던 울산 삼산 맛집 리스트          달지우\\n(idhsssh)   \n",
       "11              울산 삼산 맛집 단골하고 싶은 촌놈밥집                    두덩두덩   \n",
       "12        울산삼산맛집 울산 삼산 해산물 조개갈비찜맛집 위찜      멜리사\\n(melissa0716)   \n",
       "13           울산삼산맛집 데이트코스 한우오마카세 우주인                        퐝   \n",
       "14  삼산 맛집, 뇨끼와 샥슈카가 맛있는 브런치 레스토랑 1616                 Grace89   \n",
       "15                    울산 삼산 초밥맛집 혁이네                       져니   \n",
       "16             울산 삼산 맛집, 해운대31cm해물칼국수                      날다   \n",
       "17               울산 삼산 맛집 온리육 다녀와봤어요.                     수요니   \n",
       "18            울산 삼산 쌀국수 해외 느낌 제대로인 맛집                  맛집 탐험가   \n",
       "19          울산 삼산 맛집 / 숙성돼지고기 진리 온리육          황씨\\n(hwang_c11)   \n",
       "\n",
       "               datetime                                            content  \n",
       "0   2021. 12. 23. 16:42  지난 주말에는 친구 생일을 축하할 겸 미리 예약해둔 울산 삼산 맛집에 다녀왔어요.\\...  \n",
       "1   2021. 11. 19. 12:50  지난 주 오랜만에 만난 고등학교 친구들과 함께 울산 삼산 맛집에 다녀왔어요. 합리적...  \n",
       "2    2021. 12. 15. 7:00  주말엔 친구 생일을 축하하려고 미리 점찍어둔 울산 삼산 맛집에 다녀왔어요. 유니크한...  \n",
       "3   2021. 12. 23. 17:00  지난 주말 절친들과 함께 점심 약속이 있어 지인에게 추천받은 울산 삼산 맛집을 찾아...  \n",
       "4   2021. 12. 16. 11:13  그저께는 친한 친구들과 모임이 생겨서\\n숯불구이 전문점으로 유명한 울산 삼산 맛집에...  \n",
       "5   2021. 11. 29. 21:32  지난 수요일에는 지인 부부와 모처럼 친목모임겸 미리 서치해둔 울산 삼산 맛집에 다녀...  \n",
       "6    2021. 9. 17. 10:51  친구들과 오랜만에 만나서 약속 장소를 찾아보다가 서치해뒀던 울산 삼산 맛집에 갔다왔...  \n",
       "7    2021. 10. 5. 17:22   몇주전 울산으로 이사간 친구집에 놀러갔다가 한우전문점으로 유명한 울산 삼산 맛집에...  \n",
       "8     2021. 9. 5. 14:56  고기를 먹는 것을 좋아해 친구들과 함께 주말에 울산 삼산 맛집을 다녀왔어요.\\n숙성...  \n",
       "9   2021. 12. 20. 13:25  코로나때문에 계속 못만나다가\\n거의 2년만에 만나는 친구랑 스테이크 코스 \\n점심을...  \n",
       "10   2021. 7. 10. 13:26  주말에 울산으로 친구네 집에 놀러갔다 울산 삼산 맛집에 다녀왔어요.\\n시원한 맛에 ...  \n",
       "11    2021. 12. 3. 9:00  안녕하세요! 두덩이에요 :)\\n오늘은 울산 삼산 맛집을 소개하려고 합니다~\\n제가 ...  \n",
       "12  2021. 12. 26. 20:03  날씨가 갑작스럽게 너무 추워졌는데요 ㅜㅡㅜ\\n한파로 인해 뜨끈뜨끈한 찜요리가 땡기는...  \n",
       "13    2021. 12. 8. 1:36  211207 바로오늘\\n기념적인 날인데요 ㅎㅎ\\n출산 후 저희 부부가\\n첫 데이트를...  \n",
       "14    2021. 11. 5. 0:59  #삼산맛집 #울산맛집 #1616 #삼산일육일육\\n#울산뇨끼맛집 #샥슈카맛집 \\n#울...  \n",
       "15  2021. 12. 15. 13:11  점심 뭐먹을까 고민하다가 삼산에 신상초밥집이\\n있다고 해서 슝 달려갔어요!🍊\\n오픈...  \n",
       "16   2021. 12. 2. 22:20  오늘 날다의 #원픽 #핫플 소개할 곳은 울산 삼산 칼국수 가게!\\n여기는 전에 동생...  \n",
       "17    2021. 9. 6. 14:24  핫플 다녀와본지가 언제인지 모를 정도로\\n가는 곳만 가는 스타일의 저를 위해\\n친구...  \n",
       "18   2021. 9. 10. 15:00  센트럴자이 테라스가든 1층에 자리하고 있는\\n해외 감성 제대로 갖추고 있는\\n팬아시...  \n",
       "19   2021. 10. 7. 11:26  울산 삼산 신상 고기 맛집\\n온리육 안녕하세요 황씨입니다\\n얼마전에 제가 삼산 고기...  "
      ]
     },
     "execution_count": 33,
     "metadata": {},
     "output_type": "execute_result"
    }
   ],
   "source": [
    "# 판다스로 만들기\n",
    "import pandas as pd\n",
    "result_df = pd.DataFrame.from_dict(dict,'index')\n",
    "result_df"
   ]
  },
  {
   "cell_type": "code",
   "execution_count": 34,
   "metadata": {
    "id": "rxYCIxaE-kvv",
    "scrolled": true
   },
   "outputs": [],
   "source": [
    "# 엑셀로 저장하기\n",
    "result_df.to_excel(\"blog_content2.xlsx\", encoding='utf-8-sig')"
   ]
  },
  {
   "cell_type": "code",
   "execution_count": 49,
   "metadata": {
    "id": "8tlfMsDm-kvv",
    "outputId": "4fa392b3-ae52-4762-ba70-cbc58cc0d074"
   },
   "outputs": [
    {
     "data": {
      "text/plain": [
       "'C:\\\\Users\\\\korean\\\\practice'"
      ]
     },
     "execution_count": 49,
     "metadata": {},
     "output_type": "execute_result"
    }
   ],
   "source": [
    "pwd"
   ]
  },
  {
   "cell_type": "code",
   "execution_count": null,
   "metadata": {
    "id": "lDj94wBC-kvv"
   },
   "outputs": [],
   "source": []
  },
  {
   "cell_type": "code",
   "execution_count": null,
   "metadata": {
    "id": "G9C5ou9Q-kvv"
   },
   "outputs": [],
   "source": []
  }
 ],
 "metadata": {
  "colab": {
   "name": "네이버블로그(202105)_크롤러.ipynb",
   "provenance": []
  },
  "kernelspec": {
   "display_name": "Python 3 (ipykernel)",
   "language": "python",
   "name": "python3"
  },
  "language_info": {
   "codemirror_mode": {
    "name": "ipython",
    "version": 3
   },
   "file_extension": ".py",
   "mimetype": "text/x-python",
   "name": "python",
   "nbconvert_exporter": "python",
   "pygments_lexer": "ipython3",
   "version": "3.9.7"
  },
  "toc": {
   "base_numbering": 1,
   "nav_menu": {},
   "number_sections": false,
   "sideBar": true,
   "skip_h1_title": false,
   "title_cell": "Table of Contents",
   "title_sidebar": "Contents",
   "toc_cell": false,
   "toc_position": {},
   "toc_section_display": true,
   "toc_window_display": false
  },
  "varInspector": {
   "cols": {
    "lenName": 16,
    "lenType": 16,
    "lenVar": 40
   },
   "kernels_config": {
    "python": {
     "delete_cmd_postfix": "",
     "delete_cmd_prefix": "del ",
     "library": "var_list.py",
     "varRefreshCmd": "print(var_dic_list())"
    },
    "r": {
     "delete_cmd_postfix": ") ",
     "delete_cmd_prefix": "rm(",
     "library": "var_list.r",
     "varRefreshCmd": "cat(var_dic_list()) "
    }
   },
   "position": {
    "height": "600px",
    "left": "554.76px",
    "right": "20px",
    "top": "88px",
    "width": "424px"
   },
   "types_to_exclude": [
    "module",
    "function",
    "builtin_function_or_method",
    "instance",
    "_Feature"
   ],
   "window_display": false
  }
 },
 "nbformat": 4,
 "nbformat_minor": 1
}
