{
 "cells": [
  {
   "cell_type": "code",
   "execution_count": 1,
   "metadata": {},
   "outputs": [
    {
     "name": "stdout",
     "output_type": "stream",
     "text": [
      "Requirement already satisfied: chromedriver_autoinstaller in c:\\programdata\\anaconda3\\lib\\site-packages (0.3.1)\n"
     ]
    }
   ],
   "source": [
    "!pip install chromedriver_autoinstaller"
   ]
  },
  {
   "cell_type": "code",
   "execution_count": 2,
   "metadata": {
    "id": "855Mo76s-kvl"
   },
   "outputs": [],
   "source": [
    "# 네이버에서 검색어 입력받아 검색 한 후 블로그 메뉴를 선택하고\n",
    "# 오른쪽에 있는 검색옵션 버튼을 눌러서\n",
    "# 정렬 방식과 기간을 입력하기\n",
    "\n",
    "#Step 0. 필요한 모듈과 라이브러리를 로딩합니다.\n",
    "import sys # 시스템\n",
    "import os  # 시스템\n",
    "\n",
    "import pandas as pd  # 판다스 : 데이터분석 라이브러리\n",
    "import numpy as np   # 넘파이 : 숫자, 행렬 데이터 라이브러리\n",
    "\n",
    "from bs4 import BeautifulSoup    # html 데이터를 전처리\n",
    "from selenium import webdriver   # 웹 브라우저 자동화\n",
    "from selenium.webdriver.common.keys import Keys\n",
    "import chromedriver_autoinstaller\n",
    "\n",
    "import time    # 서버와 통신할 때 중간중간 시간 지연. 보통은 1초\n",
    "from tqdm import tqdm_notebook   # for문 돌릴 때 진행상황을 %게이지로 알려준다.\n",
    "\n",
    "# 워닝 무시\n",
    "import warnings\n",
    "warnings.filterwarnings('ignore')"
   ]
  },
  {
   "cell_type": "code",
   "execution_count": 3,
   "metadata": {
    "id": "n8Lxk6vh-kvn",
    "outputId": "69ae7a9d-8942-49d3-f943-63eb1f8e7569"
   },
   "outputs": [
    {
     "name": "stdout",
     "output_type": "stream",
     "text": [
      "Python 3.9.7\n"
     ]
    }
   ],
   "source": [
    "# python 버전 확인\n",
    "!python --version"
   ]
  },
  {
   "cell_type": "code",
   "execution_count": 4,
   "metadata": {
    "id": "Vn8wKGA8-kvo",
    "outputId": "da4b2b84-4fd6-4730-fc49-8b24a87623d4"
   },
   "outputs": [
    {
     "data": {
      "text/plain": [
       "'1.3.4'"
      ]
     },
     "execution_count": 4,
     "metadata": {},
     "output_type": "execute_result"
    }
   ],
   "source": [
    "# 판다스 버전 확인\n",
    "pd.__version__"
   ]
  },
  {
   "cell_type": "code",
   "execution_count": 5,
   "metadata": {},
   "outputs": [],
   "source": [
    "# !pip install selenium"
   ]
  },
  {
   "cell_type": "code",
   "execution_count": 6,
   "metadata": {
    "id": "CNdy9c7U-kvo",
    "outputId": "38d4d3b7-0b1a-46a4-b2fc-6a4e2d79a399"
   },
   "outputs": [
    {
     "name": "stdout",
     "output_type": "stream",
     "text": [
      "1.크롤링할 키워드는 무엇입니까?: 데이터\n"
     ]
    }
   ],
   "source": [
    "# 검색어, 검색 기간 정의\n",
    "query_txt = input('1.크롤링할 키워드는 무엇입니까?: ')"
   ]
  },
  {
   "cell_type": "code",
   "execution_count": 7,
   "metadata": {
    "scrolled": true
   },
   "outputs": [
    {
     "data": {
      "text/plain": [
       "'데이터'"
      ]
     },
     "execution_count": 7,
     "metadata": {},
     "output_type": "execute_result"
    }
   ],
   "source": [
    "query_txt"
   ]
  },
  {
   "cell_type": "markdown",
   "metadata": {
    "id": "MniuiSeb-kvp"
   },
   "source": [
    "# 1. 크롤링할 블로그 url 수집하기"
   ]
  },
  {
   "cell_type": "code",
   "execution_count": 45,
   "metadata": {},
   "outputs": [
    {
     "data": {
      "text/plain": [
       "'C:\\\\Users\\\\eunwon\\\\Desktop\\\\크롤링'"
      ]
     },
     "execution_count": 45,
     "metadata": {},
     "output_type": "execute_result"
    }
   ],
   "source": [
    "pwd"
   ]
  },
  {
   "cell_type": "code",
   "execution_count": 46,
   "metadata": {},
   "outputs": [],
   "source": [
    "# !pip install selenium"
   ]
  },
  {
   "cell_type": "code",
   "execution_count": 1,
   "metadata": {
    "code_folding": [],
    "colab": {
     "base_uri": "https://localhost:8080/",
     "height": 239
    },
    "executionInfo": {
     "elapsed": 5,
     "status": "error",
     "timestamp": 1622793307717,
     "user": {
      "displayName": "Hyeok Lee",
      "photoUrl": "",
      "userId": "09184002132621914803"
     },
     "user_tz": -540
    },
    "id": "buplEXzx-kvq",
    "outputId": "11751daa-2f59-4a1d-d6a7-ca9282d20c33"
   },
   "outputs": [
    {
     "ename": "NameError",
     "evalue": "name 'chromedriver_autoinstaller' is not defined",
     "output_type": "error",
     "traceback": [
      "\u001b[1;31m---------------------------------------------------------------------------\u001b[0m",
      "\u001b[1;31mNameError\u001b[0m                                 Traceback (most recent call last)",
      "\u001b[1;32m~\\AppData\\Local\\Temp/ipykernel_18120/2878998891.py\u001b[0m in \u001b[0;36m<module>\u001b[1;34m\u001b[0m\n\u001b[0;32m      1\u001b[0m \u001b[1;31m# Step 1. 크롬 웹브라우저 실행\u001b[0m\u001b[1;33m\u001b[0m\u001b[1;33m\u001b[0m\u001b[0m\n\u001b[0;32m      2\u001b[0m \u001b[1;31m# pip install chromedriver_autoinstaller\u001b[0m\u001b[1;33m\u001b[0m\u001b[1;33m\u001b[0m\u001b[0m\n\u001b[1;32m----> 3\u001b[1;33m \u001b[0mchrome_path\u001b[0m \u001b[1;33m=\u001b[0m \u001b[0mchromedriver_autoinstaller\u001b[0m\u001b[1;33m.\u001b[0m\u001b[0minstall\u001b[0m\u001b[1;33m(\u001b[0m\u001b[1;33m)\u001b[0m\u001b[1;33m\u001b[0m\u001b[1;33m\u001b[0m\u001b[0m\n\u001b[0m\u001b[0;32m      4\u001b[0m \u001b[0mdriver\u001b[0m \u001b[1;33m=\u001b[0m \u001b[0mwebdriver\u001b[0m\u001b[1;33m.\u001b[0m\u001b[0mChrome\u001b[0m\u001b[1;33m(\u001b[0m\u001b[0mchrome_path\u001b[0m\u001b[1;33m)\u001b[0m\u001b[1;33m\u001b[0m\u001b[1;33m\u001b[0m\u001b[0m\n\u001b[0;32m      5\u001b[0m \u001b[1;33m\u001b[0m\u001b[0m\n",
      "\u001b[1;31mNameError\u001b[0m: name 'chromedriver_autoinstaller' is not defined"
     ]
    }
   ],
   "source": [
    "# Step 1. 크롬 웹브라우저 실행\n",
    "# pip install chromedriver_autoinstaller\n",
    "chrome_path = chromedriver_autoinstaller.install()\n",
    "driver = webdriver.Chrome(chrome_path)\n",
    "\n",
    "# 사이트 주소는 네이버\n",
    "driver.get('https://www.work.go.kr/')\n",
    "time.sleep(2)  # 2초간 정지"
   ]
  },
  {
   "cell_type": "code",
   "execution_count": 48,
   "metadata": {
    "code_folding": [],
    "id": "uiwhXvob-kvq"
   },
   "outputs": [],
   "source": [
    "# Step 2. 워크넷검색창에 \"검색어\" 검색\n",
    "element = driver.find_element_by_id(\"topQuery\")\n",
    "element.send_keys(query_txt)  # query_txt는 위에서 입력한 키워드"
   ]
  },
  {
   "cell_type": "code",
   "execution_count": 49,
   "metadata": {
    "code_folding": [],
    "id": "uiwhXvob-kvq"
   },
   "outputs": [],
   "source": [
    "#검색어 검색\n",
    "search = driver.find_element_by_css_selector(\".btn-search\")\n",
    "search.click()\n",
    "time.sleep(1)"
   ]
  },
  {
   "cell_type": "code",
   "execution_count": 50,
   "metadata": {
    "code_folding": [],
    "id": "uiwhXvob-kvq"
   },
   "outputs": [],
   "source": [
    "# '상세검색' 클릭\n",
    "driver.find_element_by_link_text(\"상세검색\").click( )\n",
    "time.sleep(1)"
   ]
  },
  {
   "cell_type": "code",
   "execution_count": 51,
   "metadata": {},
   "outputs": [],
   "source": [
    "# 스크롤 다운\n",
    "# driver.execute_script(\"window.scrollTo(0, 500)\")\n",
    "# time.sleep(2)\n",
    "\n",
    "# 스크롤을 밑으로 내려주는 함수\n",
    "def scroll_down(driver):\n",
    "    driver.execute_script(\"window.scrollTo(0, 19431049)\")\n",
    "    time.sleep(1)\n",
    "\n",
    "# n: 스크롤할 횟수 설정\n",
    "n = 1\n",
    "i = 0\n",
    "while i < n: # 이 조건이 만족되는 동안 반복 실행\n",
    "    scroll_down(driver) # 스크롤 다운\n",
    "    i = i+1"
   ]
  },
  {
   "cell_type": "code",
   "execution_count": 52,
   "metadata": {
    "code_folding": [],
    "id": "uiwhXvob-kvq"
   },
   "outputs": [],
   "source": [
    "# '제목' 클릭\n",
    "driver.find_element_by_id(\"srckeywordWantedTitle\").click( )\n",
    "time.sleep(1)"
   ]
  },
  {
   "cell_type": "code",
   "execution_count": 53,
   "metadata": {},
   "outputs": [],
   "source": [
    "# '고용형태' 클릭\n",
    "driver.find_element_by_id(\"employGbnParam10\").click( )\n",
    "time.sleep(1)"
   ]
  },
  {
   "cell_type": "code",
   "execution_count": 54,
   "metadata": {
    "code_folding": [],
    "id": "uiwhXvob-kvq"
   },
   "outputs": [],
   "source": [
    "# '검색' 클릭\n",
    "driver.find_element_by_css_selector(\".right\").click( )\n",
    "time.sleep(1)"
   ]
  },
  {
   "cell_type": "code",
   "execution_count": 55,
   "metadata": {},
   "outputs": [],
   "source": [
    "# '간편보기' 클릭\n",
    "driver.find_element_by_id(\"viewSPL\").click( )\n",
    "time.sleep(1)"
   ]
  },
  {
   "cell_type": "code",
   "execution_count": 57,
   "metadata": {},
   "outputs": [],
   "source": [
    "#공모건수 찾기\n",
    "number=driver.find_element_by_css_selector(\".futura\")\n",
    "count=int(number.text)\n",
    "count"
   ]
  },
  {
   "cell_type": "code",
   "execution_count": 58,
   "metadata": {
    "scrolled": true
   },
   "outputs": [
    {
     "data": {
      "application/vnd.jupyter.widget-view+json": {
       "model_id": "50eddc3812fb4d8b84b953a87849f884",
       "version_major": 2,
       "version_minor": 0
      },
      "text/plain": [
       "  0%|          | 0/14 [00:00<?, ?it/s]"
      ]
     },
     "metadata": {},
     "output_type": "display_data"
    }
   ],
   "source": [
    "# 크롤링\n",
    "\n",
    "url_list = []\n",
    "title_list = []\n",
    "cp_name_list=[]\n",
    "cp_info_list=[]\n",
    "cp_term_list=[]\n",
    "date_list=[]\n",
    "\n",
    "for j in tqdm_notebook(range(0,count//10+1)):    \n",
    "    recruit = \".cp-info-in>a\"\n",
    "    recruit_raw = driver.find_elements_by_css_selector(recruit)\n",
    "    cp_name_raw = driver.find_elements_by_css_selector(\".cp_name\")\n",
    "    cp_info_raw=driver.find_elements_by_css_selector(\".cp-info\")\n",
    "                                   \n",
    "    for recruit in recruit_raw:\n",
    "        title = recruit.text\n",
    "        title_list.append(title)\n",
    "\n",
    "        url = recruit.get_attribute('href')\n",
    "        url_list.append(url)\n",
    "        time.sleep(1)\n",
    "\n",
    "     \n",
    "    for cpn in cp_name_raw:\n",
    " \n",
    "        cp_name = cpn.text\n",
    "        cp_name_list.append(cp_name)\n",
    "        time.sleep(1)\n",
    "        \n",
    "\n",
    "\n",
    "    for i in range(0,30):\n",
    "  #4.근무내용\n",
    "        if i%3==0 :\n",
    "            cp_info =cp_info_raw[i].text\n",
    "            cp_info_list.append(cp_info)\n",
    "            time.sleep(1)\n",
    "\n",
    "    #5근무조건\n",
    "        elif i%3==1 : \n",
    "            cp_term = cp_info_raw[i].text\n",
    "            cp_term_list.append(cp_term)\n",
    "            time.sleep(1)\n",
    "\n",
    "    #6.등록마감\n",
    "        else:\n",
    "            date = cp_info_raw[i].text\n",
    "            date_list.append(date)\n",
    "\n",
    "\n",
    "\n",
    "    element=driver.find_element_by_id(\"currentPageNo\")\n",
    "    element.click\n",
    "    element.clear()\n",
    "    time.sleep(1)  \n",
    "    element.send_keys(j+1)  \n",
    "    go=driver.find_element_by_css_selector(\".btn_direct\")\n",
    "    go.click()\n",
    "\n",
    "\n"
   ]
  },
  {
   "cell_type": "code",
   "execution_count": 59,
   "metadata": {},
   "outputs": [
    {
     "name": "stdout",
     "output_type": "stream",
     "text": [
      "140\n",
      "140\n",
      "139\n",
      "140\n",
      "140\n",
      "140\n"
     ]
    }
   ],
   "source": [
    "#갯수확인\n",
    "print(len(title_list))\n",
    "print(len(url_list))\n",
    "print(len(cp_name_list))\n",
    "print(len(cp_info_list))\n",
    "print(len(cp_term_list))\n",
    "print(len(date_list))\n"
   ]
  },
  {
   "cell_type": "code",
   "execution_count": 60,
   "metadata": {
    "scrolled": true
   },
   "outputs": [
    {
     "ename": "ValueError",
     "evalue": "All arrays must be of the same length",
     "output_type": "error",
     "traceback": [
      "\u001b[1;31m---------------------------------------------------------------------------\u001b[0m",
      "\u001b[1;31mValueError\u001b[0m                                Traceback (most recent call last)",
      "\u001b[1;32m~\\AppData\\Local\\Temp/ipykernel_8988/930228305.py\u001b[0m in \u001b[0;36m<module>\u001b[1;34m\u001b[0m\n\u001b[0;32m      1\u001b[0m \u001b[1;31m#데이터프레임만들기\u001b[0m\u001b[1;33m\u001b[0m\u001b[1;33m\u001b[0m\u001b[0m\n\u001b[0;32m      2\u001b[0m \u001b[1;32mimport\u001b[0m \u001b[0mpandas\u001b[0m \u001b[1;32mas\u001b[0m \u001b[0mpd\u001b[0m\u001b[1;33m\u001b[0m\u001b[1;33m\u001b[0m\u001b[0m\n\u001b[1;32m----> 3\u001b[1;33m \u001b[0mdf\u001b[0m \u001b[1;33m=\u001b[0m \u001b[0mpd\u001b[0m\u001b[1;33m.\u001b[0m\u001b[0mDataFrame\u001b[0m\u001b[1;33m(\u001b[0m\u001b[1;33m{\u001b[0m\u001b[1;34m\"title\"\u001b[0m\u001b[1;33m:\u001b[0m\u001b[0mtitle_list\u001b[0m\u001b[1;33m,\u001b[0m\u001b[1;34m\"cp_name\"\u001b[0m\u001b[1;33m:\u001b[0m\u001b[0mcp_name_list\u001b[0m\u001b[1;33m,\u001b[0m\u001b[1;34m\"cp_info\"\u001b[0m\u001b[1;33m:\u001b[0m\u001b[0mcp_info_list\u001b[0m\u001b[1;33m,\u001b[0m\u001b[1;34m\"cp_term\"\u001b[0m\u001b[1;33m:\u001b[0m\u001b[0mcp_term_list\u001b[0m\u001b[1;33m,\u001b[0m\u001b[1;34m\"date\"\u001b[0m\u001b[1;33m:\u001b[0m\u001b[0mdate_list\u001b[0m\u001b[1;33m,\u001b[0m\u001b[1;34m\"url\"\u001b[0m\u001b[1;33m:\u001b[0m\u001b[0murl_list\u001b[0m\u001b[1;33m}\u001b[0m\u001b[1;33m)\u001b[0m\u001b[1;33m\u001b[0m\u001b[1;33m\u001b[0m\u001b[0m\n\u001b[0m\u001b[0;32m      4\u001b[0m \u001b[0mdf\u001b[0m\u001b[1;33m\u001b[0m\u001b[1;33m\u001b[0m\u001b[0m\n",
      "\u001b[1;32mC:\\ProgramData\\Anaconda3\\lib\\site-packages\\pandas\\core\\frame.py\u001b[0m in \u001b[0;36m__init__\u001b[1;34m(self, data, index, columns, dtype, copy)\u001b[0m\n\u001b[0;32m    612\u001b[0m         \u001b[1;32melif\u001b[0m \u001b[0misinstance\u001b[0m\u001b[1;33m(\u001b[0m\u001b[0mdata\u001b[0m\u001b[1;33m,\u001b[0m \u001b[0mdict\u001b[0m\u001b[1;33m)\u001b[0m\u001b[1;33m:\u001b[0m\u001b[1;33m\u001b[0m\u001b[1;33m\u001b[0m\u001b[0m\n\u001b[0;32m    613\u001b[0m             \u001b[1;31m# GH#38939 de facto copy defaults to False only in non-dict cases\u001b[0m\u001b[1;33m\u001b[0m\u001b[1;33m\u001b[0m\u001b[0m\n\u001b[1;32m--> 614\u001b[1;33m             \u001b[0mmgr\u001b[0m \u001b[1;33m=\u001b[0m \u001b[0mdict_to_mgr\u001b[0m\u001b[1;33m(\u001b[0m\u001b[0mdata\u001b[0m\u001b[1;33m,\u001b[0m \u001b[0mindex\u001b[0m\u001b[1;33m,\u001b[0m \u001b[0mcolumns\u001b[0m\u001b[1;33m,\u001b[0m \u001b[0mdtype\u001b[0m\u001b[1;33m=\u001b[0m\u001b[0mdtype\u001b[0m\u001b[1;33m,\u001b[0m \u001b[0mcopy\u001b[0m\u001b[1;33m=\u001b[0m\u001b[0mcopy\u001b[0m\u001b[1;33m,\u001b[0m \u001b[0mtyp\u001b[0m\u001b[1;33m=\u001b[0m\u001b[0mmanager\u001b[0m\u001b[1;33m)\u001b[0m\u001b[1;33m\u001b[0m\u001b[1;33m\u001b[0m\u001b[0m\n\u001b[0m\u001b[0;32m    615\u001b[0m         \u001b[1;32melif\u001b[0m \u001b[0misinstance\u001b[0m\u001b[1;33m(\u001b[0m\u001b[0mdata\u001b[0m\u001b[1;33m,\u001b[0m \u001b[0mma\u001b[0m\u001b[1;33m.\u001b[0m\u001b[0mMaskedArray\u001b[0m\u001b[1;33m)\u001b[0m\u001b[1;33m:\u001b[0m\u001b[1;33m\u001b[0m\u001b[1;33m\u001b[0m\u001b[0m\n\u001b[0;32m    616\u001b[0m             \u001b[1;32mimport\u001b[0m \u001b[0mnumpy\u001b[0m\u001b[1;33m.\u001b[0m\u001b[0mma\u001b[0m\u001b[1;33m.\u001b[0m\u001b[0mmrecords\u001b[0m \u001b[1;32mas\u001b[0m \u001b[0mmrecords\u001b[0m\u001b[1;33m\u001b[0m\u001b[1;33m\u001b[0m\u001b[0m\n",
      "\u001b[1;32mC:\\ProgramData\\Anaconda3\\lib\\site-packages\\pandas\\core\\internals\\construction.py\u001b[0m in \u001b[0;36mdict_to_mgr\u001b[1;34m(data, index, columns, dtype, typ, copy)\u001b[0m\n\u001b[0;32m    462\u001b[0m         \u001b[1;31m# TODO: can we get rid of the dt64tz special case above?\u001b[0m\u001b[1;33m\u001b[0m\u001b[1;33m\u001b[0m\u001b[0m\n\u001b[0;32m    463\u001b[0m \u001b[1;33m\u001b[0m\u001b[0m\n\u001b[1;32m--> 464\u001b[1;33m     return arrays_to_mgr(\n\u001b[0m\u001b[0;32m    465\u001b[0m         \u001b[0marrays\u001b[0m\u001b[1;33m,\u001b[0m \u001b[0mdata_names\u001b[0m\u001b[1;33m,\u001b[0m \u001b[0mindex\u001b[0m\u001b[1;33m,\u001b[0m \u001b[0mcolumns\u001b[0m\u001b[1;33m,\u001b[0m \u001b[0mdtype\u001b[0m\u001b[1;33m=\u001b[0m\u001b[0mdtype\u001b[0m\u001b[1;33m,\u001b[0m \u001b[0mtyp\u001b[0m\u001b[1;33m=\u001b[0m\u001b[0mtyp\u001b[0m\u001b[1;33m,\u001b[0m \u001b[0mconsolidate\u001b[0m\u001b[1;33m=\u001b[0m\u001b[0mcopy\u001b[0m\u001b[1;33m\u001b[0m\u001b[1;33m\u001b[0m\u001b[0m\n\u001b[0;32m    466\u001b[0m     )\n",
      "\u001b[1;32mC:\\ProgramData\\Anaconda3\\lib\\site-packages\\pandas\\core\\internals\\construction.py\u001b[0m in \u001b[0;36marrays_to_mgr\u001b[1;34m(arrays, arr_names, index, columns, dtype, verify_integrity, typ, consolidate)\u001b[0m\n\u001b[0;32m    117\u001b[0m         \u001b[1;31m# figure out the index, if necessary\u001b[0m\u001b[1;33m\u001b[0m\u001b[1;33m\u001b[0m\u001b[0m\n\u001b[0;32m    118\u001b[0m         \u001b[1;32mif\u001b[0m \u001b[0mindex\u001b[0m \u001b[1;32mis\u001b[0m \u001b[1;32mNone\u001b[0m\u001b[1;33m:\u001b[0m\u001b[1;33m\u001b[0m\u001b[1;33m\u001b[0m\u001b[0m\n\u001b[1;32m--> 119\u001b[1;33m             \u001b[0mindex\u001b[0m \u001b[1;33m=\u001b[0m \u001b[0m_extract_index\u001b[0m\u001b[1;33m(\u001b[0m\u001b[0marrays\u001b[0m\u001b[1;33m)\u001b[0m\u001b[1;33m\u001b[0m\u001b[1;33m\u001b[0m\u001b[0m\n\u001b[0m\u001b[0;32m    120\u001b[0m         \u001b[1;32melse\u001b[0m\u001b[1;33m:\u001b[0m\u001b[1;33m\u001b[0m\u001b[1;33m\u001b[0m\u001b[0m\n\u001b[0;32m    121\u001b[0m             \u001b[0mindex\u001b[0m \u001b[1;33m=\u001b[0m \u001b[0mensure_index\u001b[0m\u001b[1;33m(\u001b[0m\u001b[0mindex\u001b[0m\u001b[1;33m)\u001b[0m\u001b[1;33m\u001b[0m\u001b[1;33m\u001b[0m\u001b[0m\n",
      "\u001b[1;32mC:\\ProgramData\\Anaconda3\\lib\\site-packages\\pandas\\core\\internals\\construction.py\u001b[0m in \u001b[0;36m_extract_index\u001b[1;34m(data)\u001b[0m\n\u001b[0;32m    633\u001b[0m             \u001b[0mlengths\u001b[0m \u001b[1;33m=\u001b[0m \u001b[0mlist\u001b[0m\u001b[1;33m(\u001b[0m\u001b[0mset\u001b[0m\u001b[1;33m(\u001b[0m\u001b[0mraw_lengths\u001b[0m\u001b[1;33m)\u001b[0m\u001b[1;33m)\u001b[0m\u001b[1;33m\u001b[0m\u001b[1;33m\u001b[0m\u001b[0m\n\u001b[0;32m    634\u001b[0m             \u001b[1;32mif\u001b[0m \u001b[0mlen\u001b[0m\u001b[1;33m(\u001b[0m\u001b[0mlengths\u001b[0m\u001b[1;33m)\u001b[0m \u001b[1;33m>\u001b[0m \u001b[1;36m1\u001b[0m\u001b[1;33m:\u001b[0m\u001b[1;33m\u001b[0m\u001b[1;33m\u001b[0m\u001b[0m\n\u001b[1;32m--> 635\u001b[1;33m                 \u001b[1;32mraise\u001b[0m \u001b[0mValueError\u001b[0m\u001b[1;33m(\u001b[0m\u001b[1;34m\"All arrays must be of the same length\"\u001b[0m\u001b[1;33m)\u001b[0m\u001b[1;33m\u001b[0m\u001b[1;33m\u001b[0m\u001b[0m\n\u001b[0m\u001b[0;32m    636\u001b[0m \u001b[1;33m\u001b[0m\u001b[0m\n\u001b[0;32m    637\u001b[0m             \u001b[1;32mif\u001b[0m \u001b[0mhave_dicts\u001b[0m\u001b[1;33m:\u001b[0m\u001b[1;33m\u001b[0m\u001b[1;33m\u001b[0m\u001b[0m\n",
      "\u001b[1;31mValueError\u001b[0m: All arrays must be of the same length"
     ]
    }
   ],
   "source": [
    "#데이터프레임만들기\n",
    "import pandas as pd\n",
    "df = pd.DataFrame({\"title\":title_list,\"cp_name\":cp_name_list,\"cp_info\":cp_info_list,\"cp_term\":cp_term_list,\"date\":date_list,\"url\":url_list})\n",
    "df"
   ]
  },
  {
   "cell_type": "code",
   "execution_count": null,
   "metadata": {
    "id": "R2yjlm_5-kvs",
    "outputId": "efd2bab6-67e5-4d04-d826-4f878de28658"
   },
   "outputs": [],
   "source": [
    "# 저장하기\n",
    "df.to_excel(\"worknet_content.xlsx\", encoding='utf-8-sig')      "
   ]
  },
  {
   "cell_type": "code",
   "execution_count": 100,
   "metadata": {
    "id": "Q491yek4-kvs",
    "outputId": "b8d88911-275c-4f8d-bd89-0c3831d666c7"
   },
   "outputs": [
    {
     "data": {
      "text/plain": [
       "['(주)써치포리더스',\n",
       " '(주)웨어밸리데이타',\n",
       " '주식회사 베니트글로벌',\n",
       " '(주)은광전자',\n",
       " '(주)디에이치테크',\n",
       " '㈜월드피에이디',\n",
       " '(주)모핑아이',\n",
       " '㈜테크다스',\n",
       " '안진회계법인',\n",
       " '(주)인코리아 프로페셔널',\n",
       " '(주)써치포리더스',\n",
       " '(주)웨어밸리데이타',\n",
       " '주식회사 베니트글로벌',\n",
       " '(주)은광전자',\n",
       " '(주)디에이치테크',\n",
       " '㈜월드피에이디',\n",
       " '(주)모핑아이',\n",
       " '㈜테크다스',\n",
       " '안진회계법인',\n",
       " '(주)인코리아 프로페셔널',\n",
       " '(주)디에스랩글로벌',\n",
       " '주식회사에이아이앤잡',\n",
       " '보성파워텍(주)',\n",
       " '(주)엑셀리언트',\n",
       " '(주)이지서티',\n",
       " '(주)이지서티',\n",
       " '(주)펫온',\n",
       " '㈜호디',\n",
       " '쿼드라컨트롤서비스(주)',\n",
       " '(주)비포플레이',\n",
       " '(주) 메드고',\n",
       " '데이터메쉬(주)',\n",
       " '(주)어큐진',\n",
       " '㈜크린토피아',\n",
       " '신라정보기술(주)',\n",
       " '(주)신라아이티',\n",
       " '(주)솔루파인',\n",
       " '주식회사엠아이티능력개발원',\n",
       " '(주)스카우트파트너스',\n",
       " '(주)아이비엘글로벌',\n",
       " '㈜잡스랩',\n",
       " '(주)제이씨그룹',\n",
       " '(주)타이로스코프',\n",
       " '디케이테크인',\n",
       " '씨앤토트플러스(주)',\n",
       " '㈜연합인포맥스',\n",
       " '휴머레인컨설팅',\n",
       " '휴머레인컨설팅',\n",
       " '주식회사 라피플코리아리미티드',\n",
       " '(주)민앤지',\n",
       " '나이스씨엠에스㈜',\n",
       " '(주)아이디케이',\n",
       " '비즈그리다(주)',\n",
       " '(주)지오비전',\n",
       " '주식회사 여기어때컴퍼니',\n",
       " '(주)라온로드',\n",
       " '히어로웍스',\n",
       " '㈜해커스어학원',\n",
       " '이프린팅 주식회사',\n",
       " '(주)웹스시스템코리아',\n",
       " 'NKD',\n",
       " '(주)지오비전',\n",
       " '㈜로드텍',\n",
       " '비즈빌커뮤니케이션',\n",
       " '주식회사 투비유니콘',\n",
       " '한솔엠티에스(주)',\n",
       " '(주)디어유',\n",
       " '테크빌교육(주)',\n",
       " '(주)퍼닌',\n",
       " '(주)에버원소프트',\n",
       " '주)어빌리티시스템즈',\n",
       " '㈜더볼',\n",
       " '(주)티지360테크놀로지스',\n",
       " '주식회사 에픽타이거',\n",
       " '(주)올위메이크이즈',\n",
       " '(주)브릿지미디어그룹',\n",
       " '(주)서울애널리티카',\n",
       " '테크온미디어',\n",
       " '(주)코리아피디에스',\n",
       " '다솔더베스트',\n",
       " '(주)모든테크',\n",
       " '제로텍',\n",
       " '해밀측량설계사무소',\n",
       " '파피루스컴퍼니',\n",
       " '(주)에이디코아',\n",
       " '아이큐비아',\n",
       " '주식회사 뉴엣지',\n",
       " '굿커리어',\n",
       " '㈜노넘시스템',\n",
       " '타임퍼센트(Time Percent)',\n",
       " '인성데이타(주)',\n",
       " '㈔한국산업지능화협회',\n",
       " '(주)잡뉴스솔로몬서치',\n",
       " '㈜천재교과서',\n",
       " '딜리트미',\n",
       " '잡코리아(유)',\n",
       " '신성아트컴',\n",
       " '인성데이타(주)',\n",
       " '알리다그룹(주)',\n",
       " '알리다그룹(주)',\n",
       " '(주)엔터웨이파트너스',\n",
       " '(주)모넴',\n",
       " '(주)케이씨에이',\n",
       " '주식회사 로고스데이터',\n",
       " '주식회사 티유컨설팅',\n",
       " '(주)에버인텔 컨설팅',\n",
       " '주식회사 로고스데이터',\n",
       " '(주)스카우트',\n",
       " '주성피앤비(주)',\n",
       " '주식회사 테넷디에스',\n",
       " '파워에이치알',\n",
       " '㈜세일코리아넷',\n",
       " '주식회사 데이터블록스',\n",
       " '인포웨어',\n",
       " '브래키츠',\n",
       " '㈜이피엠네트워크',\n",
       " '㈜위키드스톰',\n",
       " '㈜라클라',\n",
       " '(주)랩큐',\n",
       " '(주)데이터누리',\n",
       " '(주)씨디데이타',\n",
       " '(주)데이터트리',\n",
       " '(주)신한서브',\n",
       " '늘솜컴퍼니',\n",
       " '매버릭컨설팅(주)',\n",
       " '몽타 주식회사',\n",
       " '극동씰테크(주)',\n",
       " '(주)휴플',\n",
       " '㈜딥브레인에이아이']"
      ]
     },
     "execution_count": 100,
     "metadata": {},
     "output_type": "execute_result"
    }
   ],
   "source": [
    "cp_name_list\n"
   ]
  },
  {
   "cell_type": "code",
   "execution_count": null,
   "metadata": {
    "id": "MvgyX_pk-kvt",
    "outputId": "7749cfef-5aa7-45f6-db8a-e94b444998d8",
    "scrolled": false
   },
   "outputs": [],
   "source": []
  },
  {
   "cell_type": "code",
   "execution_count": null,
   "metadata": {
    "id": "G9C5ou9Q-kvv"
   },
   "outputs": [],
   "source": []
  }
 ],
 "metadata": {
  "colab": {
   "name": "네이버블로그(202105)_크롤러.ipynb",
   "provenance": []
  },
  "kernelspec": {
   "display_name": "Python 3 (ipykernel)",
   "language": "python",
   "name": "python3"
  },
  "language_info": {
   "codemirror_mode": {
    "name": "ipython",
    "version": 3
   },
   "file_extension": ".py",
   "mimetype": "text/x-python",
   "name": "python",
   "nbconvert_exporter": "python",
   "pygments_lexer": "ipython3",
   "version": "3.9.7"
  },
  "toc": {
   "base_numbering": 1,
   "nav_menu": {},
   "number_sections": false,
   "sideBar": true,
   "skip_h1_title": false,
   "title_cell": "Table of Contents",
   "title_sidebar": "Contents",
   "toc_cell": false,
   "toc_position": {},
   "toc_section_display": true,
   "toc_window_display": false
  },
  "varInspector": {
   "cols": {
    "lenName": 16,
    "lenType": 16,
    "lenVar": 40
   },
   "kernels_config": {
    "python": {
     "delete_cmd_postfix": "",
     "delete_cmd_prefix": "del ",
     "library": "var_list.py",
     "varRefreshCmd": "print(var_dic_list())"
    },
    "r": {
     "delete_cmd_postfix": ") ",
     "delete_cmd_prefix": "rm(",
     "library": "var_list.r",
     "varRefreshCmd": "cat(var_dic_list()) "
    }
   },
   "position": {
    "height": "600px",
    "left": "554.76px",
    "right": "20px",
    "top": "88px",
    "width": "424px"
   },
   "types_to_exclude": [
    "module",
    "function",
    "builtin_function_or_method",
    "instance",
    "_Feature"
   ],
   "window_display": false
  }
 },
 "nbformat": 4,
 "nbformat_minor": 1
}
