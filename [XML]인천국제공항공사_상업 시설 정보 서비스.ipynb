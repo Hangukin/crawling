{
 "cells": [
  {
   "cell_type": "raw",
   "id": "3fc84268",
   "metadata": {},
   "source": [
    "인천공항 제1여객터미널에서 급하게 병원을 찾아야 한다면?\n",
    "인천공항의 병원의 위치와 운영시간을 크롤링해보겠습니다."
   ]
  },
  {
   "cell_type": "code",
   "execution_count": 5,
   "id": "8944faf7",
   "metadata": {},
   "outputs": [
    {
     "data": {
      "text/plain": [
       "'<?xml version=\"1.0\" encoding=\"UTF-8\" standalone=\"yes\"?><response><header><resultCode>00</resultCode><resultMsg>NORMAL SERVICE.</resultMsg></header><body><items><item><arrordep>D</arrordep><entrpskoreannm>인하대학교병원 제1여객터미널 공항의료센터</entrpskoreannm><lckoreannm>제1여객터미널 지하1층 동편</lckoreannm><servicetime>08:00 ~ 20:00</servicetime><tel>032-743-3119</tel><trtmntprdlstkoreannm>가정의학과, 응급진료</trtmntprdlstkoreannm></item><item><arrordep>D</arrordep><entrpskoreannm>인하대학교병원 제2여객터미널 공항의료센터</entrpskoreannm><lckoreannm>제2여객터미널 지하1층 서편</lckoreannm><servicetime>08:30 ~ 18:00</servicetime><tel>032-743-7080</tel><trtmntprdlstkoreannm>가정의학과, 외과, 응급진료</trtmntprdlstkoreannm></item></items><numOfRows>10</numOfRows><pageNo>1</pageNo><totalCount>2</totalCount></body></response>'"
      ]
     },
     "execution_count": 5,
     "metadata": {},
     "output_type": "execute_result"
    }
   ],
   "source": [
    "import requests\n",
    "import xmltodict # xml 데이터를 dictionary로 변환해줌\n",
    "\n",
    "key = '8DAdXgVWGmYScpkGFUeU9%2BaQ1F4RASGheK87J5v3bzQEYemhQIOf74jWI6Aut%2FWcrfRkXPa9McP5MDE%2BkH6BRA%3D%3D'\n",
    "decode_key = requests.utils.unquote(key)\n",
    "\n",
    "# 상업시설 : 약국, 도시락, 식당, 병원\n",
    "response = requests.get('http://apis.data.go.kr/B551177/StatusOfFacility/getFacilityKR\\\n",
    "?serviceKey={}\\\n",
    "&facility_nm=병원\\\n",
    "&numOfRows=10\\\n",
    "&pageNo=1\\\n",
    "&type=xml'.format(key))\n",
    "\n",
    "response.text"
   ]
  },
  {
   "cell_type": "code",
   "execution_count": 6,
   "id": "ee6f6f34",
   "metadata": {},
   "outputs": [
    {
     "data": {
      "text/plain": [
       "OrderedDict([('response',\n",
       "              OrderedDict([('header',\n",
       "                            OrderedDict([('resultCode', '00'),\n",
       "                                         ('resultMsg', 'NORMAL SERVICE.')])),\n",
       "                           ('body',\n",
       "                            OrderedDict([('items',\n",
       "                                          OrderedDict([('item',\n",
       "                                                        [OrderedDict([('arrordep',\n",
       "                                                                       'D'),\n",
       "                                                                      ('entrpskoreannm',\n",
       "                                                                       '인하대학교병원 제1여객터미널 공항의료센터'),\n",
       "                                                                      ('lckoreannm',\n",
       "                                                                       '제1여객터미널 지하1층 동편'),\n",
       "                                                                      ('servicetime',\n",
       "                                                                       '08:00 ~ 20:00'),\n",
       "                                                                      ('tel',\n",
       "                                                                       '032-743-3119'),\n",
       "                                                                      ('trtmntprdlstkoreannm',\n",
       "                                                                       '가정의학과, 응급진료')]),\n",
       "                                                         OrderedDict([('arrordep',\n",
       "                                                                       'D'),\n",
       "                                                                      ('entrpskoreannm',\n",
       "                                                                       '인하대학교병원 제2여객터미널 공항의료센터'),\n",
       "                                                                      ('lckoreannm',\n",
       "                                                                       '제2여객터미널 지하1층 서편'),\n",
       "                                                                      ('servicetime',\n",
       "                                                                       '08:30 ~ 18:00'),\n",
       "                                                                      ('tel',\n",
       "                                                                       '032-743-7080'),\n",
       "                                                                      ('trtmntprdlstkoreannm',\n",
       "                                                                       '가정의학과, 외과, 응급진료')])])])),\n",
       "                                         ('numOfRows', '10'),\n",
       "                                         ('pageNo', '1'),\n",
       "                                         ('totalCount', '2')]))]))])"
      ]
     },
     "execution_count": 6,
     "metadata": {},
     "output_type": "execute_result"
    }
   ],
   "source": [
    "# 가져온 xml 데이터를 dictionary 형태로 바꾸기(xmltodict 이용)\n",
    "xml_data = xmltodict.parse(response.text)\n",
    "xml_data"
   ]
  },
  {
   "cell_type": "code",
   "execution_count": 40,
   "id": "037b2fa1",
   "metadata": {},
   "outputs": [
    {
     "data": {
      "text/plain": [
       "[OrderedDict([('arrordep', 'D'),\n",
       "              ('entrpskoreannm', '인하대학교병원 제1여객터미널 공항의료센터'),\n",
       "              ('lckoreannm', '제1여객터미널 지하1층 동편'),\n",
       "              ('servicetime', '08:00 ~ 20:00'),\n",
       "              ('tel', '032-743-3119'),\n",
       "              ('trtmntprdlstkoreannm', '가정의학과, 응급진료')]),\n",
       " OrderedDict([('arrordep', 'D'),\n",
       "              ('entrpskoreannm', '인하대학교병원 제2여객터미널 공항의료센터'),\n",
       "              ('lckoreannm', '제2여객터미널 지하1층 서편'),\n",
       "              ('servicetime', '08:30 ~ 18:00'),\n",
       "              ('tel', '032-743-7080'),\n",
       "              ('trtmntprdlstkoreannm', '가정의학과, 외과, 응급진료')])]"
      ]
     },
     "execution_count": 40,
     "metadata": {},
     "output_type": "execute_result"
    }
   ],
   "source": [
    "informations  = xml_data['response']['body']['items']['item']\n",
    "informations"
   ]
  },
  {
   "cell_type": "code",
   "execution_count": 48,
   "id": "2784a63b",
   "metadata": {},
   "outputs": [
    {
     "name": "stdout",
     "output_type": "stream",
     "text": [
      "032-743-3119 인하대학교병원 제1여객터미널 공항의료센터 제1여객터미널 지하1층 동편 08:00 ~ 20:00 가정의학과, 응급진료\n",
      "032-743-7080 인하대학교병원 제2여객터미널 공항의료센터 제2여객터미널 지하1층 서편 08:30 ~ 18:00 가정의학과, 외과, 응급진료\n"
     ]
    }
   ],
   "source": [
    "for info in informations:\n",
    "    print(info['tel'], info['entrpskoreannm'], info['lckoreannm'], info['servicetime'], info['trtmntprdlstkoreannm'])"
   ]
  },
  {
   "cell_type": "code",
   "execution_count": null,
   "id": "d2891d5c",
   "metadata": {},
   "outputs": [],
   "source": []
  }
 ],
 "metadata": {
  "kernelspec": {
   "display_name": "Python 3 (ipykernel)",
   "language": "python",
   "name": "python3"
  },
  "language_info": {
   "codemirror_mode": {
    "name": "ipython",
    "version": 3
   },
   "file_extension": ".py",
   "mimetype": "text/x-python",
   "name": "python",
   "nbconvert_exporter": "python",
   "pygments_lexer": "ipython3",
   "version": "3.9.7"
  },
  "varInspector": {
   "cols": {
    "lenName": 16,
    "lenType": 16,
    "lenVar": 40
   },
   "kernels_config": {
    "python": {
     "delete_cmd_postfix": "",
     "delete_cmd_prefix": "del ",
     "library": "var_list.py",
     "varRefreshCmd": "print(var_dic_list())"
    },
    "r": {
     "delete_cmd_postfix": ") ",
     "delete_cmd_prefix": "rm(",
     "library": "var_list.r",
     "varRefreshCmd": "cat(var_dic_list()) "
    }
   },
   "types_to_exclude": [
    "module",
    "function",
    "builtin_function_or_method",
    "instance",
    "_Feature"
   ],
   "window_display": false
  }
 },
 "nbformat": 4,
 "nbformat_minor": 5
}
