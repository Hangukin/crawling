{
 "cells": [
  {
   "cell_type": "raw",
   "metadata": {},
   "source": []
  },
  {
   "cell_type": "code",
   "execution_count": 5,
   "metadata": {},
   "outputs": [
    {
     "data": {
      "text/plain": [
       "<Response [200]>"
      ]
     },
     "execution_count": 5,
     "metadata": {},
     "output_type": "execute_result"
    }
   ],
   "source": [
    "import requests\n",
    "import json\n",
    "\n",
    "key = '8DAdXgVWGmYScpkGFUeU9%2BaQ1F4RASGheK87J5v3bzQEYemhQIOf74jWI6Aut%2FWcrfRkXPa9McP5MDE%2BkH6BRA%3D%3D'\n",
    "# decode_key = requests.utils.unquote(key)\n",
    "\n",
    "# response = 콜백 URL \n",
    "response = requests.get('http://apis.data.go.kr/1360000/TourStnInfoService/getTourStnVilageFcst\\\n",
    "?serviceKey={}\\\n",
    "&numOfRows=10&pageNo=1&dataType=JSON&CURRENT_DATE=2020060201&HOUR=24&COURSE_ID=1'.format(key))\n",
    "response"
   ]
  },
  {
   "cell_type": "code",
   "execution_count": 6,
   "metadata": {},
   "outputs": [
    {
     "data": {
      "text/plain": [
       "'{\"response\":{\"header\":{\"resultCode\":\"00\",\"resultMsg\":\"NORMAL_SERVICE\"},\"body\":{\"dataType\":\"JSON\",\"items\":{\"item\":[{\"tm\":\"2020-06-04 00:00\",\"thema\":\"문화/예술\",\"courseId\":\"1\",\"courseAreaId\":\"4700000000\",\"courseAreaName\":\"경상북도\",\"courseName\":\"남호고택에서의 하룻밤\",\"spotAreaId\":102,\"spotAreaName\":\"봉화\",\"spotName\":\"(봉화)춘양목 송이마을\",\"th3\":17,\"wd\":264,\"ws\":1,\"sky\":1,\"rhm\":90,\"pop\":0},{\"tm\":\"2020-06-04 00:00\",\"thema\":\"종교/역사/전통\",\"courseId\":\"1\",\"courseAreaId\":\"4700000000\",\"courseAreaName\":\"경상북도\",\"courseName\":\"남호고택에서의 하룻밤\",\"spotAreaId\":104,\"spotAreaName\":\"봉화\",\"spotName\":\"(봉화)계서당(성이성 생가)\",\"th3\":19,\"wd\":270,\"ws\":0,\"sky\":1,\"rhm\":85,\"pop\":0},{\"tm\":\"2020-06-04 00:00\",\"thema\":\"자연/힐링\",\"courseId\":\"1\",\"courseAreaId\":\"4700000000\",\"courseAreaName\":\"경상북도\",\"courseName\":\"남호고택에서의 하룻밤\",\"spotAreaId\":104,\"spotAreaName\":\"봉화\",\"spotName\":\"(봉화)계서당(성이성 생가)\",\"th3\":19,\"wd\":270,\"ws\":0,\"sky\":1,\"rhm\":85,\"pop\":0},{\"tm\":\"2020-06-04 00:00\",\"thema\":\"체험/학습/산업\",\"courseId\":\"1\",\"courseAreaId\":\"4700000000\",\"courseAreaName\":\"경상북도\",\"courseName\":\"남호고택에서의 하룻밤\",\"spotAreaId\":104,\"spotAreaName\":\"봉화\",\"spotName\":\"(봉화)계서당(성이성 생가)\",\"th3\":19,\"wd\":270,\"ws\":0,\"sky\":1,\"rhm\":85,\"pop\":0},{\"tm\":\"2020-06-04 00:00\",\"thema\":\"문화/예술\",\"courseId\":\"1\",\"courseAreaId\":\"4700000000\",\"courseAreaName\":\"경상북도\",\"courseName\":\"남호고택에서의 하룻밤\",\"spotAreaId\":103,\"spotAreaName\":\"봉화\",\"spotName\":\"(봉화)지림사\",\"th3\":18,\"wd\":270,\"ws\":0,\"sky\":1,\"rhm\":85,\"pop\":0},{\"tm\":\"2020-06-04 00:00\",\"thema\":\"종교/역사/전통\",\"courseId\":\"1\",\"courseAreaId\":\"4700000000\",\"courseAreaName\":\"경상북도\",\"courseName\":\"남호고택에서의 하룻밤\",\"spotAreaId\":103,\"spotAreaName\":\"봉화\",\"spotName\":\"(봉화)지림사\",\"th3\":18,\"wd\":270,\"ws\":0,\"sky\":1,\"rhm\":85,\"pop\":0},{\"tm\":\"2020-06-04 00:00\",\"thema\":\"자연/힐링\",\"courseId\":\"1\",\"courseAreaId\":\"4700000000\",\"courseAreaName\":\"경상북도\",\"courseName\":\"남호고택에서의 하룻밤\",\"spotAreaId\":103,\"spotAreaName\":\"봉화\",\"spotName\":\"(봉화)지림사\",\"th3\":18,\"wd\":270,\"ws\":0,\"sky\":1,\"rhm\":85,\"pop\":0},{\"tm\":\"2020-06-04 00:00\",\"thema\":\"체험/학습/산업\",\"courseId\":\"1\",\"courseAreaId\":\"4700000000\",\"courseAreaName\":\"경상북도\",\"courseName\":\"남호고택에서의 하룻밤\",\"spotAreaId\":103,\"spotAreaName\":\"봉화\",\"spotName\":\"(봉화)지림사\",\"th3\":18,\"wd\":270,\"ws\":0,\"sky\":1,\"rhm\":85,\"pop\":0},{\"tm\":\"2020-06-04 00:00\",\"thema\":\"문화/예술\",\"courseId\":\"1\",\"courseAreaId\":\"4700000000\",\"courseAreaName\":\"경상북도\",\"courseName\":\"남호고택에서의 하룻밤\",\"spotAreaId\":104,\"spotAreaName\":\"봉화\",\"spotName\":\"(봉화)계서당(성이성 생가)\",\"th3\":19,\"wd\":270,\"ws\":0,\"sky\":1,\"rhm\":85,\"pop\":0},{\"tm\":\"2020-06-04 00:00\",\"thema\":\"종교/역사/전통\",\"courseId\":\"1\",\"courseAreaId\":\"4700000000\",\"courseAreaName\":\"경상북도\",\"courseName\":\"남호고택에서의 하룻밤\",\"spotAreaId\":102,\"spotAreaName\":\"봉화\",\"spotName\":\"(봉화)춘양목 송이마을\",\"th3\":17,\"wd\":264,\"ws\":1,\"sky\":1,\"rhm\":90,\"pop\":0}]},\"pageNo\":1,\"numOfRows\":10,\"totalCount\":256}}}'"
      ]
     },
     "execution_count": 6,
     "metadata": {},
     "output_type": "execute_result"
    }
   ],
   "source": [
    "response.text"
   ]
  },
  {
   "cell_type": "code",
   "execution_count": 7,
   "metadata": {},
   "outputs": [],
   "source": [
    "data=json.loads(response.text)"
   ]
  },
  {
   "cell_type": "code",
   "execution_count": 8,
   "metadata": {
    "scrolled": false
   },
   "outputs": [
    {
     "name": "stdout",
     "output_type": "stream",
     "text": [
      "10\n"
     ]
    },
    {
     "data": {
      "text/plain": [
       "[{'tm': '2020-06-04 00:00',\n",
       "  'thema': '문화/예술',\n",
       "  'courseId': '1',\n",
       "  'courseAreaId': '4700000000',\n",
       "  'courseAreaName': '경상북도',\n",
       "  'courseName': '남호고택에서의 하룻밤',\n",
       "  'spotAreaId': 102,\n",
       "  'spotAreaName': '봉화',\n",
       "  'spotName': '(봉화)춘양목 송이마을',\n",
       "  'th3': 17,\n",
       "  'wd': 264,\n",
       "  'ws': 1,\n",
       "  'sky': 1,\n",
       "  'rhm': 90,\n",
       "  'pop': 0},\n",
       " {'tm': '2020-06-04 00:00',\n",
       "  'thema': '종교/역사/전통',\n",
       "  'courseId': '1',\n",
       "  'courseAreaId': '4700000000',\n",
       "  'courseAreaName': '경상북도',\n",
       "  'courseName': '남호고택에서의 하룻밤',\n",
       "  'spotAreaId': 104,\n",
       "  'spotAreaName': '봉화',\n",
       "  'spotName': '(봉화)계서당(성이성 생가)',\n",
       "  'th3': 19,\n",
       "  'wd': 270,\n",
       "  'ws': 0,\n",
       "  'sky': 1,\n",
       "  'rhm': 85,\n",
       "  'pop': 0},\n",
       " {'tm': '2020-06-04 00:00',\n",
       "  'thema': '자연/힐링',\n",
       "  'courseId': '1',\n",
       "  'courseAreaId': '4700000000',\n",
       "  'courseAreaName': '경상북도',\n",
       "  'courseName': '남호고택에서의 하룻밤',\n",
       "  'spotAreaId': 104,\n",
       "  'spotAreaName': '봉화',\n",
       "  'spotName': '(봉화)계서당(성이성 생가)',\n",
       "  'th3': 19,\n",
       "  'wd': 270,\n",
       "  'ws': 0,\n",
       "  'sky': 1,\n",
       "  'rhm': 85,\n",
       "  'pop': 0},\n",
       " {'tm': '2020-06-04 00:00',\n",
       "  'thema': '체험/학습/산업',\n",
       "  'courseId': '1',\n",
       "  'courseAreaId': '4700000000',\n",
       "  'courseAreaName': '경상북도',\n",
       "  'courseName': '남호고택에서의 하룻밤',\n",
       "  'spotAreaId': 104,\n",
       "  'spotAreaName': '봉화',\n",
       "  'spotName': '(봉화)계서당(성이성 생가)',\n",
       "  'th3': 19,\n",
       "  'wd': 270,\n",
       "  'ws': 0,\n",
       "  'sky': 1,\n",
       "  'rhm': 85,\n",
       "  'pop': 0},\n",
       " {'tm': '2020-06-04 00:00',\n",
       "  'thema': '문화/예술',\n",
       "  'courseId': '1',\n",
       "  'courseAreaId': '4700000000',\n",
       "  'courseAreaName': '경상북도',\n",
       "  'courseName': '남호고택에서의 하룻밤',\n",
       "  'spotAreaId': 103,\n",
       "  'spotAreaName': '봉화',\n",
       "  'spotName': '(봉화)지림사',\n",
       "  'th3': 18,\n",
       "  'wd': 270,\n",
       "  'ws': 0,\n",
       "  'sky': 1,\n",
       "  'rhm': 85,\n",
       "  'pop': 0},\n",
       " {'tm': '2020-06-04 00:00',\n",
       "  'thema': '종교/역사/전통',\n",
       "  'courseId': '1',\n",
       "  'courseAreaId': '4700000000',\n",
       "  'courseAreaName': '경상북도',\n",
       "  'courseName': '남호고택에서의 하룻밤',\n",
       "  'spotAreaId': 103,\n",
       "  'spotAreaName': '봉화',\n",
       "  'spotName': '(봉화)지림사',\n",
       "  'th3': 18,\n",
       "  'wd': 270,\n",
       "  'ws': 0,\n",
       "  'sky': 1,\n",
       "  'rhm': 85,\n",
       "  'pop': 0},\n",
       " {'tm': '2020-06-04 00:00',\n",
       "  'thema': '자연/힐링',\n",
       "  'courseId': '1',\n",
       "  'courseAreaId': '4700000000',\n",
       "  'courseAreaName': '경상북도',\n",
       "  'courseName': '남호고택에서의 하룻밤',\n",
       "  'spotAreaId': 103,\n",
       "  'spotAreaName': '봉화',\n",
       "  'spotName': '(봉화)지림사',\n",
       "  'th3': 18,\n",
       "  'wd': 270,\n",
       "  'ws': 0,\n",
       "  'sky': 1,\n",
       "  'rhm': 85,\n",
       "  'pop': 0},\n",
       " {'tm': '2020-06-04 00:00',\n",
       "  'thema': '체험/학습/산업',\n",
       "  'courseId': '1',\n",
       "  'courseAreaId': '4700000000',\n",
       "  'courseAreaName': '경상북도',\n",
       "  'courseName': '남호고택에서의 하룻밤',\n",
       "  'spotAreaId': 103,\n",
       "  'spotAreaName': '봉화',\n",
       "  'spotName': '(봉화)지림사',\n",
       "  'th3': 18,\n",
       "  'wd': 270,\n",
       "  'ws': 0,\n",
       "  'sky': 1,\n",
       "  'rhm': 85,\n",
       "  'pop': 0},\n",
       " {'tm': '2020-06-04 00:00',\n",
       "  'thema': '문화/예술',\n",
       "  'courseId': '1',\n",
       "  'courseAreaId': '4700000000',\n",
       "  'courseAreaName': '경상북도',\n",
       "  'courseName': '남호고택에서의 하룻밤',\n",
       "  'spotAreaId': 104,\n",
       "  'spotAreaName': '봉화',\n",
       "  'spotName': '(봉화)계서당(성이성 생가)',\n",
       "  'th3': 19,\n",
       "  'wd': 270,\n",
       "  'ws': 0,\n",
       "  'sky': 1,\n",
       "  'rhm': 85,\n",
       "  'pop': 0},\n",
       " {'tm': '2020-06-04 00:00',\n",
       "  'thema': '종교/역사/전통',\n",
       "  'courseId': '1',\n",
       "  'courseAreaId': '4700000000',\n",
       "  'courseAreaName': '경상북도',\n",
       "  'courseName': '남호고택에서의 하룻밤',\n",
       "  'spotAreaId': 102,\n",
       "  'spotAreaName': '봉화',\n",
       "  'spotName': '(봉화)춘양목 송이마을',\n",
       "  'th3': 17,\n",
       "  'wd': 264,\n",
       "  'ws': 1,\n",
       "  'sky': 1,\n",
       "  'rhm': 90,\n",
       "  'pop': 0}]"
      ]
     },
     "execution_count": 8,
     "metadata": {},
     "output_type": "execute_result"
    }
   ],
   "source": [
    "a = data['response']['body']['items']['item']\n",
    "print(len(a))\n",
    "a"
   ]
  },
  {
   "cell_type": "code",
   "execution_count": 9,
   "metadata": {},
   "outputs": [
    {
     "data": {
      "text/plain": [
       "'문화/예술'"
      ]
     },
     "execution_count": 9,
     "metadata": {},
     "output_type": "execute_result"
    }
   ],
   "source": [
    "a[0]['thema']"
   ]
  },
  {
   "cell_type": "code",
   "execution_count": null,
   "metadata": {},
   "outputs": [],
   "source": []
  },
  {
   "cell_type": "code",
   "execution_count": null,
   "metadata": {},
   "outputs": [],
   "source": []
  }
 ],
 "metadata": {
  "kernelspec": {
   "display_name": "Python 3 (ipykernel)",
   "language": "python",
   "name": "python3"
  },
  "language_info": {
   "codemirror_mode": {
    "name": "ipython",
    "version": 3
   },
   "file_extension": ".py",
   "mimetype": "text/x-python",
   "name": "python",
   "nbconvert_exporter": "python",
   "pygments_lexer": "ipython3",
   "version": "3.9.7"
  },
  "varInspector": {
   "cols": {
    "lenName": 16,
    "lenType": 16,
    "lenVar": 40
   },
   "kernels_config": {
    "python": {
     "delete_cmd_postfix": "",
     "delete_cmd_prefix": "del ",
     "library": "var_list.py",
     "varRefreshCmd": "print(var_dic_list())"
    },
    "r": {
     "delete_cmd_postfix": ") ",
     "delete_cmd_prefix": "rm(",
     "library": "var_list.r",
     "varRefreshCmd": "cat(var_dic_list()) "
    }
   },
   "types_to_exclude": [
    "module",
    "function",
    "builtin_function_or_method",
    "instance",
    "_Feature"
   ],
   "window_display": false
  }
 },
 "nbformat": 4,
 "nbformat_minor": 4
}
