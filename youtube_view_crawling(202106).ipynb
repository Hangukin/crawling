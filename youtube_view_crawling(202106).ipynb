{
 "cells": [
  {
   "cell_type": "raw",
   "metadata": {},
   "source": [
    "목표 : 유투브에서 아이돌을 검색했을 때 나오는 영상들의 조회수 순서로 정렬 후 조회수 크롤링하기\n",
    "-> 아이돌 별 csv 파일로 저장됨"
   ]
  },
  {
   "cell_type": "raw",
   "metadata": {},
   "source": [
    "# 라이브러리 설치 필요\n",
    "pip install selenium\n",
    "pip install regex\n",
    "pip install times\n",
    "pip install tqdm"
   ]
  },
  {
   "cell_type": "code",
   "execution_count": 9,
   "metadata": {},
   "outputs": [],
   "source": [
    "import pandas as pd\n",
    "\n",
    "from selenium import webdriver  \n",
    "from selenium.webdriver import ActionChains as AC\n",
    "import chromedriver_autoinstaller\n",
    "from tqdm import tqdm\n",
    "from tqdm import tqdm_notebook\n",
    "import re\n",
    "from time import sleep\n",
    "import time\n",
    "\n",
    "# 워닝 무시\n",
    "import warnings\n",
    "warnings.filterwarnings('ignore')"
   ]
  },
  {
   "cell_type": "markdown",
   "metadata": {},
   "source": [
    "# 유투브 영상 조회수 크롤러"
   ]
  },
  {
   "cell_type": "code",
   "execution_count": 15,
   "metadata": {},
   "outputs": [],
   "source": [
    "keywords = ['방탄소년단','블랙핑크','동방신기']  # 크롤링하고 싶은 아이돌 이름 추가\n",
    "n = 10   # n : 조회수를 가져오고 싶은 영상 갯수"
   ]
  },
  {
   "cell_type": "code",
   "execution_count": null,
   "metadata": {},
   "outputs": [],
   "source": [
    "for keyword in keywords:\n",
    "    # 크롬창 띄우기\n",
    "    driver = webdriver.Chrome(\"/Users/aiden/Desktop/chromedriver\")  # 윈도우 : chromedriver.exe\n",
    "    driver.get(\"https://www.youtube.com/results?search_query={}\".format(keyword)) \n",
    "    time.sleep(2)\n",
    "    \n",
    "    # 필터 - 조회수 기준 정렬\n",
    "    driver.find_element_by_link_text('필터').click()\n",
    "    time.sleep(1)\n",
    "    driver.find_element_by_link_text('조회수').click()\n",
    "    time.sleep(1)\n",
    "    \n",
    "    # 영상 제목 크롤링\n",
    "    overlays = \"#video-title > yt-formatted-string\"\n",
    "    titles = driver.find_elements_by_css_selector(overlays)\n",
    "    title_list = []\n",
    "    for i in range(n):\n",
    "        title = titles[i].text\n",
    "        title_list.append(title)\n",
    "        \n",
    "    # 조회수 크롤링\n",
    "    overlays = \"#metadata-line > span:nth-child(1)\"\n",
    "    views = driver.find_elements_by_css_selector(overlays)\n",
    "    view_list = []\n",
    "    for i in range(n):\n",
    "        view = views[i].text.split(' ')[1]\n",
    "        if '만회' in view:\n",
    "            view = int(view.replace('만회','0000'))\n",
    "        elif '억회' in view:            \n",
    "            view = view.replace('억회','')\n",
    "            if '.' in view:\n",
    "                view = int(view.replace('.',''))*10000000\n",
    "            else:\n",
    "                view = int(view)*100000000            \n",
    "        \n",
    "        view_list.append(view)\n",
    "        \n",
    "    # 판다스로 만들기\n",
    "    df = pd.DataFrame({'title':title_list, 'view':view_list})\n",
    "    \n",
    "    # csv파일로 저장\n",
    "    df.to_csv('youtube_view({}).csv'.format(keyword), encoding='utf-8-sig')"
   ]
  },
  {
   "cell_type": "raw",
   "metadata": {},
   "source": [
    "-> 아이돌 별 csv 파일로 저장됨"
   ]
  },
  {
   "cell_type": "code",
   "execution_count": null,
   "metadata": {},
   "outputs": [],
   "source": []
  },
  {
   "cell_type": "code",
   "execution_count": null,
   "metadata": {},
   "outputs": [],
   "source": []
  },
  {
   "cell_type": "code",
   "execution_count": null,
   "metadata": {},
   "outputs": [],
   "source": []
  },
  {
   "cell_type": "code",
   "execution_count": null,
   "metadata": {},
   "outputs": [],
   "source": []
  },
  {
   "cell_type": "code",
   "execution_count": null,
   "metadata": {},
   "outputs": [],
   "source": []
  },
  {
   "cell_type": "markdown",
   "metadata": {},
   "source": [
    "# 참고"
   ]
  },
  {
   "cell_type": "code",
   "execution_count": 7,
   "metadata": {
    "scrolled": true
   },
   "outputs": [
    {
     "data": {
      "text/plain": [
       "'블랙핑크'"
      ]
     },
     "execution_count": 7,
     "metadata": {},
     "output_type": "execute_result"
    }
   ],
   "source": [
    "keywords = ['블랙핑크']\n",
    "keyword = keywords[0]\n",
    "keyword"
   ]
  },
  {
   "cell_type": "code",
   "execution_count": 10,
   "metadata": {},
   "outputs": [],
   "source": [
    "# 크롬창 띄우기\n",
    "chrome_path = chromedriver_autoinstaller.install()\n",
    "driver = webdriver.Chrome(chrome_path)\n",
    "\n",
    "driver.get(\"https://www.youtube.com/results?search_query={}\".format(keywords[0]))  # \n",
    "time.sleep(2)"
   ]
  },
  {
   "cell_type": "code",
   "execution_count": 11,
   "metadata": {},
   "outputs": [],
   "source": [
    "# 필터 - 조회수 기준 정렬\n",
    "driver.find_element_by_link_text('필터').click()\n",
    "time.sleep(1)\n",
    "driver.find_element_by_link_text('조회수').click()\n",
    "time.sleep(1)"
   ]
  },
  {
   "cell_type": "code",
   "execution_count": 12,
   "metadata": {},
   "outputs": [],
   "source": [
    "# n : 조회수를 가져오고 싶은 영상 갯수\n",
    "n = 10"
   ]
  },
  {
   "cell_type": "code",
   "execution_count": 13,
   "metadata": {},
   "outputs": [
    {
     "name": "stdout",
     "output_type": "stream",
     "text": [
      "10\n"
     ]
    },
    {
     "data": {
      "text/plain": [
       "['BLACKPINK - ‘뚜두뚜두 (DDU-DU DDU-DU)’ M/V',\n",
       " \"BLACKPINK - 'Kill This Love' M/V\",\n",
       " \"BLACKPINK - '붐바야 (BOOMBAYAH)' M/V\",\n",
       " \"BLACKPINK - '마지막처럼 (AS IF IT'S YOUR LAST)' M/V\",\n",
       " \"BLACKPINK - 'How You Like That' M/V\",\n",
       " \"BLACKPINK - 'How You Like That' DANCE PERFORMANCE VIDEO\",\n",
       " \"JENNIE - 'SOLO' M/V\",\n",
       " \"BLACKPINK - '휘파람 (WHISTLE)' M/V\",\n",
       " \"BLACKPINK - '불장난 (PLAYING WITH FIRE)' M/V\",\n",
       " \"BLACKPINK - 'Ice Cream (with Selena Gomez)' M/V\"]"
      ]
     },
     "execution_count": 13,
     "metadata": {},
     "output_type": "execute_result"
    }
   ],
   "source": [
    "# 영상 제목 크롤링\n",
    "overlays = \"#video-title > yt-formatted-string\"\n",
    "titles = driver.find_elements_by_css_selector(overlays)\n",
    "\n",
    "title_list = []\n",
    "for i in range(n):\n",
    "    title = titles[i].text\n",
    "    title_list.append(title)\n",
    "\n",
    "print(len(title_list))    \n",
    "title_list"
   ]
  },
  {
   "cell_type": "code",
   "execution_count": 14,
   "metadata": {},
   "outputs": [
    {
     "name": "stdout",
     "output_type": "stream",
     "text": [
      "10\n"
     ]
    },
    {
     "data": {
      "text/plain": [
       "[1700000000,\n",
       " 1400000000,\n",
       " 1300000000,\n",
       " 1100000000,\n",
       " 1000000000,\n",
       " 950000000,\n",
       " 770000000,\n",
       " 730000000,\n",
       " 710000000,\n",
       " 680000000]"
      ]
     },
     "execution_count": 14,
     "metadata": {},
     "output_type": "execute_result"
    }
   ],
   "source": [
    "# 조회수 크롤링\n",
    "overlays = \"#metadata-line > span:nth-child(1)\"\n",
    "views = driver.find_elements_by_css_selector(overlays)\n",
    "view_list = []\n",
    "for i in range(n):\n",
    "    view = views[i].text.split(' ')[1]\n",
    "    if '만회' in view:\n",
    "        view = int(view.replace('만회','0000'))\n",
    "    elif '억회' in view:            \n",
    "        view = view.replace('억회','')\n",
    "        if '.' in view:\n",
    "            view = int(view.replace('.',''))*10000000\n",
    "        else:\n",
    "            view = int(view)*100000000\n",
    "            \n",
    "        \n",
    "    view_list.append(view)\n",
    "\n",
    "print(len(view_list))\n",
    "view_list"
   ]
  },
  {
   "cell_type": "code",
   "execution_count": null,
   "metadata": {},
   "outputs": [],
   "source": [
    "df = pd.DataFrame({'title':title_list, 'view':view_list})\n",
    "df"
   ]
  },
  {
   "cell_type": "code",
   "execution_count": null,
   "metadata": {},
   "outputs": [],
   "source": []
  },
  {
   "cell_type": "code",
   "execution_count": null,
   "metadata": {},
   "outputs": [],
   "source": []
  },
  {
   "cell_type": "code",
   "execution_count": null,
   "metadata": {},
   "outputs": [],
   "source": []
  },
  {
   "cell_type": "code",
   "execution_count": null,
   "metadata": {},
   "outputs": [],
   "source": []
  }
 ],
 "metadata": {
  "kernelspec": {
   "display_name": "Python 3 (ipykernel)",
   "language": "python",
   "name": "python3"
  },
  "language_info": {
   "codemirror_mode": {
    "name": "ipython",
    "version": 3
   },
   "file_extension": ".py",
   "mimetype": "text/x-python",
   "name": "python",
   "nbconvert_exporter": "python",
   "pygments_lexer": "ipython3",
   "version": "3.9.7"
  },
  "varInspector": {
   "cols": {
    "lenName": 16,
    "lenType": 16,
    "lenVar": 40
   },
   "kernels_config": {
    "python": {
     "delete_cmd_postfix": "",
     "delete_cmd_prefix": "del ",
     "library": "var_list.py",
     "varRefreshCmd": "print(var_dic_list())"
    },
    "r": {
     "delete_cmd_postfix": ") ",
     "delete_cmd_prefix": "rm(",
     "library": "var_list.r",
     "varRefreshCmd": "cat(var_dic_list()) "
    }
   },
   "types_to_exclude": [
    "module",
    "function",
    "builtin_function_or_method",
    "instance",
    "_Feature"
   ],
   "window_display": false
  }
 },
 "nbformat": 4,
 "nbformat_minor": 4
}
