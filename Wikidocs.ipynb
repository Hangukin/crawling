{
 "cells": [
  {
   "cell_type": "markdown",
   "id": "fedb3035",
   "metadata": {},
   "source": [
    "#print 기초 1~10"
   ]
  },
  {
   "cell_type": "code",
   "execution_count": 28,
   "id": "b1def348",
   "metadata": {},
   "outputs": [
    {
     "name": "stdout",
     "output_type": "stream",
     "text": [
      "Hello world\n",
      "mary'scosmetics\n",
      "신씨가 소리질렀다. \"도둑이야\"\n",
      "\"C:\\windows\"\n",
      "안녕하세요.\n",
      "만나서\t\t반갑습니다.\n",
      "오늘은 일요일\n",
      "naver;kakao;sk;samsung\n",
      "naver;kakao;sk;samsung\n",
      "naver/kakao/sk/samsung\n",
      "naver/kakao/sk/samsung\n",
      "firstsecond\n",
      "1.6666666666666667\n"
     ]
    }
   ],
   "source": [
    "#001번 문제 \n",
    "print('Hello world')\n",
    "#002\n",
    "print(\"mary'scosmetics\")\n",
    "#003\n",
    "print('신씨가 소리질렀다. \"도둑이야\"')\n",
    "#004\n",
    "print('\"C:\\windows\"')\n",
    "#005 \\t는 탭키 역할 , \\n은 출력시 줄 바꿈 역할을 한다.\n",
    "print(\"안녕하세요.\\n만나서\\t\\t반갑습니다.\")\n",
    "#006 print( ) 여러 데이트 출력 - 두개가 띄어쓰기되어서 나옴 \n",
    "print(\"오늘은\",\"일요일\")\n",
    "#007\n",
    "print('naver;kakao;sk;samsung')\n",
    "print('naver', 'kakao', 'sk', 'samsung',sep=';')\n",
    "#008\n",
    "print('naver/kakao/sk/samsung')\n",
    "print('naver', 'kakao', 'sk', 'samsung',sep='/')\n",
    "#009 줄바꿈\n",
    "print('first',end=\"\"); print(\"second\")\n",
    "#010 연산결과 \n",
    "print(5/3)"
   ]
  },
  {
   "cell_type": "markdown",
   "id": "cf9fc672",
   "metadata": {},
   "source": [
    "02 변수 011~020 "
   ]
  },
  {
   "cell_type": "code",
   "execution_count": 30,
   "id": "d683ec54",
   "metadata": {},
   "outputs": [
    {
     "name": "stdout",
     "output_type": "stream",
     "text": [
      "총 평가 금액 500000\n"
     ]
    }
   ],
   "source": [
    "#011\n",
    "samsung = 50000\n",
    "print('총 평가 금액',10*samsung)"
   ]
  },
  {
   "cell_type": "code",
   "execution_count": 31,
   "id": "9bebdfb5",
   "metadata": {},
   "outputs": [
    {
     "name": "stdout",
     "output_type": "stream",
     "text": [
      "시가총액 <class 'int'>\n",
      "현재가 <class 'int'>\n",
      "PER <class 'float'>\n"
     ]
    }
   ],
   "source": [
    "#012\n",
    "hour_tot = 298000000000000\n",
    "now_m = 50000\n",
    "per = 15.79 \n",
    "print('시가총액',type(hour_tot))\n",
    "print('현재가',type(now_m))\n",
    "print('PER',type(per))"
   ]
  },
  {
   "cell_type": "code",
   "execution_count": 36,
   "id": "1991c572",
   "metadata": {},
   "outputs": [
    {
     "name": "stdout",
     "output_type": "stream",
     "text": [
      "hello! python\n"
     ]
    }
   ],
   "source": [
    "#013\n",
    "s = \"hello\"\n",
    "t = \"python\"\n",
    "print(s+'!',t)"
   ]
  },
  {
   "cell_type": "code",
   "execution_count": 37,
   "id": "69551450",
   "metadata": {},
   "outputs": [
    {
     "name": "stdout",
     "output_type": "stream",
     "text": [
      "8\n"
     ]
    }
   ],
   "source": [
    "#014 2 +2 * 3 예상\n",
    "# 답 8 \n",
    "print(2+2*3)"
   ]
  },
  {
   "cell_type": "code",
   "execution_count": 38,
   "id": "a1c1e154",
   "metadata": {},
   "outputs": [
    {
     "name": "stdout",
     "output_type": "stream",
     "text": [
      "<class 'str'>\n"
     ]
    }
   ],
   "source": [
    "#015 type 함수 \n",
    "# a = 128\n",
    "# print(type(a))\n",
    "\n",
    "a = \"132\" \n",
    "# 타입값 string \n",
    "print(type(a))"
   ]
  },
  {
   "cell_type": "code",
   "execution_count": 47,
   "id": "aa3bc292",
   "metadata": {},
   "outputs": [
    {
     "name": "stdout",
     "output_type": "stream",
     "text": [
      "<class 'int'>\n",
      "<class 'str'>\n",
      "<class 'float'>\n",
      "최근 3년 연도  2017 2018 2019\n",
      "총 금액  1749024\n"
     ]
    }
   ],
   "source": [
    "#016 문자열 정수 변환\n",
    "num_str=\"720\"\n",
    "num_str=int(num_str)\n",
    "print(type(num_str))\n",
    "#017 정수를 문자열 100 변환\n",
    "num = 100\n",
    "num = str(num)\n",
    "print(type(num))\n",
    "#018  문자열 실수로 변환\n",
    "flo = '15.79'\n",
    "flo = float(flo)\n",
    "print(type(flo)) # 타입이 변경됐는지 확인 \n",
    "#019 문자열 정수 반환 \n",
    "year = \"2020\"\n",
    "year = int(year)\n",
    "print('최근 3년 연도 ',year-3,year-2,year-1)\n",
    "#020 월 48,584원 무이자 36개월 조건 판매 총 금액 계산후 출력\n",
    "money = 48584\n",
    "month = 36\n",
    "tot = money * month\n",
    "print('총 금액 ',tot)"
   ]
  },
  {
   "cell_type": "markdown",
   "id": "6da22595",
   "metadata": {},
   "source": [
    "03 문자열"
   ]
  },
  {
   "cell_type": "code",
   "execution_count": 74,
   "id": "7d653e5c",
   "metadata": {},
   "outputs": [
    {
     "name": "stdout",
     "output_type": "stream",
     "text": [
      "p t\n",
      "pt\n",
      " 2210\n",
      "홀홀홀\n",
      "NOHTYP\n",
      "010 1111 2222\n",
      "01011112222\n",
      "kr\n",
      "kr\n"
     ]
    },
    {
     "ename": "TypeError",
     "evalue": "'str' object does not support item assignment",
     "output_type": "error",
     "traceback": [
      "\u001b[1;31m---------------------------------------------------------------------------\u001b[0m",
      "\u001b[1;31mTypeError\u001b[0m                                 Traceback (most recent call last)",
      "\u001b[1;32m~\\AppData\\Local\\Temp/ipykernel_21144/2104388816.py\u001b[0m in \u001b[0;36m<module>\u001b[1;34m\u001b[0m\n\u001b[0;32m     25\u001b[0m \u001b[1;31m#028 immutable => 에러 - > 문자열 수정 불가\u001b[0m\u001b[1;33m\u001b[0m\u001b[1;33m\u001b[0m\u001b[0m\n\u001b[0;32m     26\u001b[0m \u001b[0mlang\u001b[0m \u001b[1;33m=\u001b[0m \u001b[1;34m'python'\u001b[0m\u001b[1;33m\u001b[0m\u001b[1;33m\u001b[0m\u001b[0m\n\u001b[1;32m---> 27\u001b[1;33m \u001b[0mlang\u001b[0m\u001b[1;33m[\u001b[0m\u001b[1;36m0\u001b[0m\u001b[1;33m]\u001b[0m \u001b[1;33m=\u001b[0m \u001b[1;34m'P'\u001b[0m\u001b[1;33m\u001b[0m\u001b[1;33m\u001b[0m\u001b[0m\n\u001b[0m\u001b[0;32m     28\u001b[0m \u001b[0mprint\u001b[0m\u001b[1;33m(\u001b[0m\u001b[0mlang\u001b[0m\u001b[1;33m)\u001b[0m\u001b[1;33m\u001b[0m\u001b[1;33m\u001b[0m\u001b[0m\n",
      "\u001b[1;31mTypeError\u001b[0m: 'str' object does not support item assignment"
     ]
    }
   ],
   "source": [
    "#021 문자열 인덱싱 \n",
    "letters = 'python'\n",
    "print(letters[0],letters[2])\n",
    "print(letters[0:3:2])\n",
    "#022 슬라이싱\n",
    "plate = \"24가 2210\"\n",
    "print(plate[3:])\n",
    "#023 문자열 인덱싱 \n",
    "string = '홀짝홀짝홀짝'\n",
    "print(string[::2])\n",
    "#024 문자열 슬라이싱\n",
    "string = \"python\"\n",
    "print(string[::-1].upper())\n",
    "#025 문자열 치환 \n",
    "phone_num = \"010-1111-2222\"\n",
    "print(phone_num.replace(\"-\",\" \"))\n",
    "#026 문자열 다루기 \n",
    "print(phone_num.replace(\"-\",\"\"))\n",
    "#027 url 에 저장된 웹페이지 주소에서 도메인 출력\n",
    "url = \"http://sharebook.kr\"\n",
    "print(url[-2:])\n",
    "# or \n",
    "url_s = url.split('.')\n",
    "print(url_s[-1])\n",
    "#028 immutable => 에러 - > 문자열 수정 불가 \n",
    "lang = 'python'\n",
    "lang[0] = 'P'\n",
    "print(lang)"
   ]
  },
  {
   "cell_type": "code",
   "execution_count": 75,
   "id": "1e8b4f05",
   "metadata": {},
   "outputs": [
    {
     "name": "stdout",
     "output_type": "stream",
     "text": [
      "Abcdfe2A354A32A\n"
     ]
    }
   ],
   "source": [
    "#029 replace 메서드\n",
    "string = 'abcdfe2a354a32a'\n",
    "print(string.replace('a','A'))"
   ]
  },
  {
   "cell_type": "code",
   "execution_count": 77,
   "id": "5b94eca2",
   "metadata": {},
   "outputs": [
    {
     "name": "stdout",
     "output_type": "stream",
     "text": [
      "aBcd\n"
     ]
    }
   ],
   "source": [
    "#030 \n",
    "string = 'abcd'\n",
    "abc = string.replace('b','B')\n",
    "print(abc)"
   ]
  },
  {
   "cell_type": "markdown",
   "id": "dbd54f50",
   "metadata": {},
   "source": [
    "031~040 문자열 "
   ]
  },
  {
   "cell_type": "code",
   "execution_count": 135,
   "id": "d9be82df",
   "metadata": {},
   "outputs": [
    {
     "name": "stdout",
     "output_type": "stream",
     "text": [
      "34\n",
      "HiHiHi\n",
      "--------------------------------------------------------------------------------\n",
      "python java python java python java python java \n",
      "이름: 김민수 나이: 10\n",
      "이름: 이철희 나이: 13\n",
      "이름: 김민수 나이: 10 \n",
      "이름: 김민수 나이: 10\n",
      "5969782550 <class 'int'>\n",
      "2020/03\n",
      "삼성전자\n",
      "Anacadaba\n",
      "True\n",
      "True\n",
      "['hello', 'world']\n",
      "['btc', 'krw']\n",
      "['2020', '05', '01']\n",
      "039490\n"
     ]
    }
   ],
   "source": [
    "#031 결과값 34\n",
    "a=\"3\"\n",
    "b=\"4\"\n",
    "print(a+b)\n",
    "#032 문자열 곱 결과값 HiHiHi\n",
    "print(\"Hi\"*3)\n",
    "#033\n",
    "print('-'*80)\n",
    "#034 문자열 곱\n",
    "t1 = 'python'\n",
    "t2 = 'java'\n",
    "t3 = t3 = t1 + ' ' + t2 + ' '\n",
    "print(t3 * 4)\n",
    "#035 문자열 출력\n",
    "name1 = \"김민수\"\n",
    "age1 = 10\n",
    "name2 = \"이철희\"\n",
    "age2 = 13\n",
    "print('이름: %s 나이: %d'%(name1,age1))\n",
    "print('이름: %s 나이: %d'%(name2,age2))\n",
    "#036 format() 메서드 사용\n",
    "print('이름: {} 나이: {} '.format(name1,age1))\n",
    "#037 문자열 출력 - f-string \n",
    "print(f'이름: {name1} 나이: {age1}')\n",
    "#038 컴마 제거하기\n",
    "상장주식수 = \"5,969,782,550\"\n",
    "컴마제거= 상장주식수.replace(',','')\n",
    "타입변환 = int(컴마제거)\n",
    "print(타입변환,type(타입변환))\n",
    "#039 문자열 슬라이싱\n",
    "분기 = \"2020/03(E) (IFRS연결)\"\n",
    "print(분기[:7])\n",
    "#040 strip 메서드\n",
    "data = \"    삼성전자     \"\n",
    "data1 = data.strip()\n",
    "print(data1)\n",
    "#043 capitalize 첫글자 대문자 변환 나머지 소문자\n",
    "a = \"hello\"\n",
    "b = \"Anacadaba\"\n",
    "print(b.capitalize())\n",
    "#044 endswith 메서드 endswith(끝나는문자, 시작점, 끝나는 지점)\n",
    "file_name = \"보고서.xlsx\"\n",
    "print(file_name.endswith(\"xlsx\"))\n",
    "\n",
    "#046\n",
    "file = \"2020_보고서.xlsx\"\n",
    "print(file.startswith('2020'))\n",
    "#047 split메서드\n",
    "a = \"hello world\"\n",
    "print(a.split())\n",
    "#048\n",
    "ticker = \"btc_krw\"\n",
    "print(ticker.split('_'))\n",
    "#049\n",
    "data = \"2020-05-01\"\n",
    "print(data.split('-'))\n",
    "dato = \"039490      \"\n",
    "print(dato.rstrip())"
   ]
  },
  {
   "cell_type": "markdown",
   "id": "965e1672",
   "metadata": {},
   "source": [
    "051~060 파이썬 리스트"
   ]
  },
  {
   "cell_type": "code",
   "execution_count": 149,
   "id": "f516288c",
   "metadata": {},
   "outputs": [
    {
     "name": "stdout",
     "output_type": "stream",
     "text": [
      "['닥터스트레인지', '스플릿', '럭키', '베트맨']\n",
      "['닥터 스트레인지', '슈퍼맨', '스플릿', '배트맨']\n",
      "['c', 'c++', 'java', 'python', 'go', 'c#']\n",
      "max:  8 min:  1\n",
      "15\n",
      "12\n",
      "3.0\n"
     ]
    }
   ],
   "source": [
    "#051 영화 제목 리스트 추가\n",
    "movie_rank=['닥터스트레인지','스플릿','럭키']\n",
    "# 052 영화 리스트에 배트맨  추가\n",
    "movie_rank.append('베트맨')\n",
    "print(movie_rank)\n",
    "#053 슈퍼맨 닥터스트레인지와 스플릿 사이 추가 \n",
    "movie_rank.insert(1,'슈퍼맨')\n",
    "#054 럭키 삭제\n",
    "movie_rank = ['닥터 스트레인지', '슈퍼맨', '스플릿', '럭키', '배트맨']\n",
    "del movie_rank[3]\n",
    "print(movie_rank)\n",
    "# 056 lan1과 lang2 리스트있을때 그 두 원소 모두 갖는 langs 리스트 작성\n",
    "lang1 = [\"c\",\"c++\",\"java\"]\n",
    "lang2 = [\"python\",\"go\",\"c#\"]\n",
    "langs = lang1 + lang2\n",
    "print(langs)\n",
    "#057 리스트내 최댓값 최솟값\n",
    "nums = [1,2,3,4,5,6,7,8]\n",
    "print('max: ',max(nums),'min: ',min(nums))\n",
    "#058 리스트 합 출력 - sum 함수 사용 \n",
    "nums = [1,2,3,4,5]\n",
    "print(sum(nums))\n",
    "#059 다음 리스트에 저장된 데이터의 개수를 화면에 구하하라.\n",
    "#len()함수 사용하면 간단.\n",
    "cook = [\"피자\", \"김밥\", \"만두\", \"양념치킨\", \"족발\", \"피자\", \"김치만두\", \"쫄면\", \"소시지\", \"라면\", \"팥빙수\", \"김치전\"]\n",
    "print(len(cook))\n",
    "#리스트 평균내기 sum()함수와 len() 함수 이용 하면 끝 \n",
    "print(sum(nums)/len(nums))"
   ]
  },
  {
   "cell_type": "markdown",
   "id": "ec4e5fce",
   "metadata": {},
   "source": [
    "04 파이썬 리스트 \n",
    "061~070"
   ]
  },
  {
   "cell_type": "code",
   "execution_count": 160,
   "id": "dc765faf",
   "metadata": {},
   "outputs": [
    {
     "name": "stdout",
     "output_type": "stream",
     "text": [
      "[100, 130, 140, 150, 160, 170]\n",
      "[1, 3, 5, 7, 9]\n",
      "[2, 4, 6, 8, 10]\n",
      "[10, 9, 8, 7, 6, 5, 4, 3, 2, 1]\n",
      "삼성전자 Naver\n"
     ]
    }
   ],
   "source": [
    "#061 price 변수에는 날짜와 종가 정보가 저장돼 있다. 날짜 정보를 제외하고 가격 정보만을 출력하라. (힌트 : 슬라이싱)\n",
    "price = ['20180728', 100, 130, 140, 150, 160, 170]\n",
    "print(price[1:])\n",
    "#62 슬라이싱을 사용해서 홀수만 출력하라.\n",
    "nums = [1, 2, 3, 4, 5, 6, 7, 8, 9, 10]\n",
    "print(nums[::2])\n",
    "#063 슬라이싱을 사용해서 짝수만 출력하라.\n",
    "print(nums[1::2])\n",
    "#064 슬라이싱을 사용해서 리스트의 숫자를 역 방향으로 출력하라.\n",
    "print(nums[::-1])\n",
    "#65 interest 리스트에는 아래의 데이터가 바인딩되어 있다.\n",
    "interest = ['삼성전자', 'LG전자', 'Naver']\n",
    "print(interest[0],interest[2])"
   ]
  },
  {
   "cell_type": "code",
   "execution_count": 168,
   "id": "9aa1fa05",
   "metadata": {},
   "outputs": [
    {
     "name": "stdout",
     "output_type": "stream",
     "text": [
      "삼성전자/LG전자/Naver/SK하이닉스/미래에셋대우\n",
      "삼성전자\n",
      "LG전자\n",
      "Naver\n",
      "SK하이닉스\n",
      "미래에셋대우\n"
     ]
    }
   ],
   "source": [
    "interest = ['삼성전자', 'LG전자', 'Naver', 'SK하이닉스', '미래에셋대우']\n",
    "print(\"/\".join(interest))\n",
    "#068\n",
    "print(\"\\n\".join(interest))"
   ]
  },
  {
   "cell_type": "code",
   "execution_count": 192,
   "id": "c099e4f7",
   "metadata": {},
   "outputs": [
    {
     "name": "stdout",
     "output_type": "stream",
     "text": [
      "['삼성전자', 'LG전자', 'Naver']\n",
      "[1, 2, 3, 4, 5, 9, 10]\n",
      "[10, 9, 5, 4, 3, 2, 1]\n"
     ]
    }
   ],
   "source": [
    "#069 split \n",
    "string = \"삼성전자/LG전자/Naver\"\n",
    "interest = (string.split('/'))\n",
    "print(interest)\n",
    "#070 리스트 정렬 오름차순 정렬 \n",
    "data = [2,4,3,1,5,10,9]\n",
    "print(sorted(data))\n",
    "print(sorted(data,reverse=True))\n"
   ]
  },
  {
   "cell_type": "code",
   "execution_count": 189,
   "id": "381b60e1",
   "metadata": {},
   "outputs": [
    {
     "name": "stdout",
     "output_type": "stream",
     "text": [
      "[10, 9, 5, 4, 3, 2, 1]\n"
     ]
    }
   ],
   "source": [
    "data = [2,4,3,1,5,10,9]\n",
    "new = sorted(data,reverse=True)\n",
    "print(new)"
   ]
  },
  {
   "cell_type": "markdown",
   "id": "15f4e31c",
   "metadata": {},
   "source": [
    "101~110 파이썬 분기문 "
   ]
  },
  {
   "cell_type": "code",
   "execution_count": 194,
   "id": "193c0f89",
   "metadata": {},
   "outputs": [],
   "source": [
    "#101 파이썬에서 True 혹은 False 갖는 데이터 타입\n",
    "#boolean "
   ]
  },
  {
   "cell_type": "markdown",
   "id": "1c934160",
   "metadata": {},
   "source": [
    "111~120  "
   ]
  },
  {
   "cell_type": "code",
   "execution_count": 195,
   "id": "e109744b",
   "metadata": {},
   "outputs": [
    {
     "name": "stdout",
     "output_type": "stream",
     "text": [
      ">>안녕하세요\n",
      "안녕하세요안녕하세요\n"
     ]
    }
   ],
   "source": [
    "#사용자로부터 입력받은 문자열을 두 번 출력하라. \n",
    "#아래는 사용자가 \"안녕하세요\"를 입력한 경우의 출력 결과이다.\n",
    "str = input('>>')\n",
    "print(str+str)"
   ]
  },
  {
   "cell_type": "code",
   "execution_count": 196,
   "id": "cdc81980",
   "metadata": {},
   "outputs": [
    {
     "name": "stdout",
     "output_type": "stream",
     "text": [
      ">>2\n",
      "짝수\n"
     ]
    }
   ],
   "source": [
    "#113 사용자로부터 하나의 숫자를 입력 받고 짝수/홀수를 판별하라.\n",
    "num = int(input('>>'))\n",
    "if num % 2 == 0 :\n",
    "    print(\"짝수\")\n",
    "else :\n",
    "    print(\"홀수\")\n",
    "    \n",
    "    "
   ]
  },
  {
   "cell_type": "code",
   "execution_count": 198,
   "id": "bd9cec48",
   "metadata": {},
   "outputs": [
    {
     "name": "stdout",
     "output_type": "stream",
     "text": [
      "입력값 40\n",
      "60\n"
     ]
    }
   ],
   "source": [
    "#114\n",
    "#사용자로부터 값을 입력받은 후 해당 값에 20을 더한 값을 출력하라. \n",
    "#단 사용자가 입력한 값과 20을 더한 계산 값이 255를 초과하는 경우 255를 출력해야 한다.\n",
    "num = int(input(\"입력값 \"))\n",
    "if num + 20 < 255 :\n",
    "    print(num+20)\n",
    "else :\n",
    "    print(255)"
   ]
  },
  {
   "cell_type": "code",
   "execution_count": 203,
   "id": "b128e8a8",
   "metadata": {},
   "outputs": [
    {
     "name": "stdout",
     "output_type": "stream",
     "text": [
      "현재시간:02:00\n",
      "정각입니다.\n",
      "00\n",
      "['', '02', '00']\n"
     ]
    }
   ],
   "source": [
    "#116 사용자로부터 입력 받은 시간이 정각인지 판별하라.\n",
    "time = input(\"현재시간\")\n",
    "if time.split(':')[2] == '00':\n",
    "    print(\"정각입니다.\")\n",
    "else :\n",
    "    print(\"정각이 아닙니다.\")\n",
    "print(time.split(':')[2])\n",
    "\n",
    "print(time.split(':'))"
   ]
  },
  {
   "cell_type": "code",
   "execution_count": 207,
   "id": "77eb3e16",
   "metadata": {},
   "outputs": [
    {
     "name": "stdout",
     "output_type": "stream",
     "text": [
      "좋아하는 과일은?사과\n",
      "정답입니다.\n"
     ]
    }
   ],
   "source": [
    "#117 사용자로 입력받은 단어가 아래 fruit 리스트에 포함되어 있는지를 확인하라\n",
    "fruit = [\"사과\", \"포도\", \"홍시\"]\n",
    "like_fri = input(\"좋아하는 과일은?\")\n",
    "if like_fri in fruit:\n",
    "    print(\"정답입니다.\")\n",
    "else:\n",
    "    print(\"틀렸습니다.\")"
   ]
  },
  {
   "cell_type": "code",
   "execution_count": 208,
   "id": "7cb3d464",
   "metadata": {},
   "outputs": [
    {
     "name": "stdout",
     "output_type": "stream",
     "text": [
      "투자 종목 입력 Google\n",
      "위험 종목입니다.\n"
     ]
    }
   ],
   "source": [
    "#118 투자 경고 종목이라면 '투자 경고 종목입니다'를 아니면 \"투자 경고 종목이 아닙니다.\n",
    "#\"를 출력하는 프로그램을 작성하라.\n",
    "warn_investment_list = [\"Microsoft\", \"Google\", \"Naver\", \"Kakao\", \"SAMSUNG\", \"LG\"]\n",
    "invest = input(\"투자 종목 입력 \")\n",
    "if invest in warn_investment_list :\n",
    "    print(\"위험 종목입니다.\")\n",
    "else :\n",
    "    print(\"위험종목이 아닙니다. \")"
   ]
  },
  {
   "cell_type": "code",
   "execution_count": 210,
   "id": "11895c93",
   "metadata": {},
   "outputs": [
    {
     "name": "stdout",
     "output_type": "stream",
     "text": [
      ">>a\n",
      "A\n"
     ]
    }
   ],
   "source": [
    "eng = input(\">>\")\n",
    "if eng.islower() :\n",
    "    print(eng.upper())\n",
    "else :\n",
    "    print(eng.lower())"
   ]
  },
  {
   "cell_type": "code",
   "execution_count": 1,
   "id": "bf9b54a8",
   "metadata": {},
   "outputs": [
    {
     "name": "stdout",
     "output_type": "stream",
     "text": [
      "숫자 3개 입력 20 10 20\n"
     ]
    },
    {
     "ename": "ValueError",
     "evalue": "invalid literal for int() with base 10: '20 10 20'",
     "output_type": "error",
     "traceback": [
      "\u001b[1;31m---------------------------------------------------------------------------\u001b[0m",
      "\u001b[1;31mValueError\u001b[0m                                Traceback (most recent call last)",
      "\u001b[1;32m~\\AppData\\Local\\Temp/ipykernel_21036/2164924677.py\u001b[0m in \u001b[0;36m<module>\u001b[1;34m\u001b[0m\n\u001b[0;32m      1\u001b[0m \u001b[1;31m#124\u001b[0m\u001b[1;33m\u001b[0m\u001b[1;33m\u001b[0m\u001b[0m\n\u001b[1;32m----> 2\u001b[1;33m \u001b[0ma\u001b[0m\u001b[1;33m,\u001b[0m\u001b[0mb\u001b[0m\u001b[1;33m,\u001b[0m\u001b[0mc\u001b[0m \u001b[1;33m=\u001b[0m \u001b[0mmap\u001b[0m\u001b[1;33m(\u001b[0m\u001b[0mint\u001b[0m\u001b[1;33m,\u001b[0m\u001b[0minput\u001b[0m\u001b[1;33m(\u001b[0m\u001b[1;34m\"숫자 3개 입력 \"\u001b[0m\u001b[1;33m)\u001b[0m\u001b[1;33m.\u001b[0m\u001b[0msplit\u001b[0m\u001b[1;33m(\u001b[0m\u001b[1;34m','\u001b[0m\u001b[1;33m)\u001b[0m\u001b[1;33m)\u001b[0m\u001b[1;33m\u001b[0m\u001b[1;33m\u001b[0m\u001b[0m\n\u001b[0m\u001b[0;32m      3\u001b[0m \u001b[0mmax\u001b[0m \u001b[1;33m=\u001b[0m \u001b[1;36m0\u001b[0m\u001b[1;33m\u001b[0m\u001b[1;33m\u001b[0m\u001b[0m\n\u001b[0;32m      4\u001b[0m \u001b[1;32mif\u001b[0m \u001b[0ma\u001b[0m\u001b[1;33m>\u001b[0m\u001b[0mb\u001b[0m \u001b[1;32mand\u001b[0m \u001b[0mb\u001b[0m\u001b[1;33m>\u001b[0m\u001b[0mc\u001b[0m \u001b[1;33m:\u001b[0m\u001b[1;33m\u001b[0m\u001b[1;33m\u001b[0m\u001b[0m\n\u001b[0;32m      5\u001b[0m     \u001b[0mmax\u001b[0m \u001b[1;33m=\u001b[0m \u001b[0ma\u001b[0m\u001b[1;33m\u001b[0m\u001b[1;33m\u001b[0m\u001b[0m\n",
      "\u001b[1;31mValueError\u001b[0m: invalid literal for int() with base 10: '20 10 20'"
     ]
    }
   ],
   "source": [
    "#124\n",
    "a,b,c = map(int,input(\"숫자 3개 입력 \").split(','))\n",
    "max = 0 \n",
    "if a>b and b>c :\n",
    "    max = a\n",
    "    print(max)\n",
    "elif b>a and a>c :\n",
    "    max = b \n",
    "    print(max)\n",
    "elif c>a and a>b :\n",
    "    max = c\n",
    "    print(max)"
   ]
  },
  {
   "cell_type": "code",
   "execution_count": 2,
   "id": "45935cc3",
   "metadata": {},
   "outputs": [
    {
     "name": "stdout",
     "output_type": "stream",
     "text": [
      "휴대전화 번호 입력011-345-1922\n",
      "당신은 SKT 사용자입니다.\n"
     ]
    }
   ],
   "source": [
    "#125 \n",
    "phone_info = {'011':'SKT','016':'KT','019':'LGU','010':'알 수 없음'}\n",
    "info = input(\"휴대전화 번호 입력\")\n",
    "number_list = info.split('-')\n",
    "if number_list[0] == '011':\n",
    "    print('당신은',phone_info['011'],'사용자입니다.')\n",
    "elif number_list[0] == '016':\n",
    "    print('당신은',phone_info['016'],'사용자입니다.')\n",
    "elif number_list[0] == '019':\n",
    "    print('당신은',phone_info['019'],'사용자입니다.')\n",
    "elif number_list[0] == '010':\n",
    "    print('당신은',phone_info['010'],'사용자입니다.')"
   ]
  },
  {
   "cell_type": "code",
   "execution_count": 15,
   "id": "4c3de1bb",
   "metadata": {
    "scrolled": true
   },
   "outputs": [
    {
     "name": "stdout",
     "output_type": "stream",
     "text": [
      "주민등록번호 입력821010-16351020\n",
      "남자\n"
     ]
    }
   ],
   "source": [
    "#127 \n",
    "num = input('주민등록번호 입력')\n",
    "num = num.split('-')[1][0]\n",
    "if num in ['1','3']:\n",
    "    print('남자')\n",
    "else :\n",
    "    print('여자')"
   ]
  },
  {
   "cell_type": "code",
   "execution_count": 20,
   "id": "1d5f501c",
   "metadata": {},
   "outputs": [
    {
     "name": "stdout",
     "output_type": "stream",
     "text": [
      "주민등록번호 입력821010-1635210\n",
      "63\n",
      "서울 아닙니다..\n"
     ]
    }
   ],
   "source": [
    "num = input('주민등록번호 입력')\n",
    "num = num.split('-')[1][1:3]\n",
    "print(num)\n",
    "if int(num) < 8 :\n",
    "    print('서울이 입니다.')\n",
    "else :\n",
    "    print('서울 아닙니다..')"
   ]
  },
  {
   "cell_type": "code",
   "execution_count": 23,
   "id": "44aa20cd",
   "metadata": {},
   "outputs": [
    {
     "name": "stdout",
     "output_type": "stream",
     "text": [
      "주민등록번호: 970710-1854122\n",
      "유효한 주민등록번호입니다.\n"
     ]
    }
   ],
   "source": [
    "num = input(\"주민등록번호: \")\n",
    "계산1 = int(num[0]) * 2 + int(num[1]) * 3 + int(num[2]) * 4 + int(num[3]) * 5 + int(num[4]) * 6 + \\\n",
    "        int(num[5]) * 7 + int(num[7]) * 8 + int(num[8]) * 9 + int(num[9]) * 2 + int(num[10])* 3 + \\\n",
    "        int(num[11])* 4 + int(num[12]) * 5\n",
    "계산2 = 11 - (계산1 % 11)\n",
    "계산3 = str(계산2)\n",
    "\n",
    "if num[-1] == 계산3[-1]:\n",
    "    print(\"유효한 주민등록번호입니다.\")\n",
    "else:\n",
    "    print(\"유효하지 않은 주민등록번호입니다.\")"
   ]
  },
  {
   "cell_type": "code",
   "execution_count": 25,
   "id": "24c3d07d",
   "metadata": {},
   "outputs": [
    {
     "name": "stdout",
     "output_type": "stream",
     "text": [
      "상승장\n"
     ]
    }
   ],
   "source": [
    "#130\n",
    "import requests\n",
    "btc = requests.get(\"https://api.bithumb.com/public/ticker/\").json()['data']\n",
    "변동폭 = float(btc['max_price']) - float(btc['min_price'])\n",
    "시가 = float(btc['opening_price'])\n",
    "최고가 = float(btc['max_price'])\n",
    "\n",
    "if (시가+변동폭) > 최고가:\n",
    "    print(\"상승장\")\n",
    "else:\n",
    "    print(\"하락장\")"
   ]
  },
  {
   "cell_type": "code",
   "execution_count": 27,
   "id": "6be62c37",
   "metadata": {},
   "outputs": [
    {
     "name": "stdout",
     "output_type": "stream",
     "text": [
      "10\n",
      "20\n",
      "30\n"
     ]
    }
   ],
   "source": [
    "#131~140 파이썬 반복문 \n",
    "#136\n",
    "number = [10,20,30]\n",
    "for x in number:\n",
    "    print(x)"
   ]
  },
  {
   "cell_type": "code",
   "execution_count": 33,
   "id": "1c1fdb97",
   "metadata": {},
   "outputs": [
    {
     "name": "stdout",
     "output_type": "stream",
     "text": [
      "110\n",
      "210\n",
      "310\n"
     ]
    }
   ],
   "source": [
    "#141~150\n",
    "list = [100,200,300]\n",
    "for x in list:\n",
    "    print(x + 10)"
   ]
  },
  {
   "cell_type": "code",
   "execution_count": 34,
   "id": "583e8a14",
   "metadata": {},
   "outputs": [
    {
     "name": "stdout",
     "output_type": "stream",
     "text": [
      "6\n",
      "4\n",
      "4\n"
     ]
    }
   ],
   "source": [
    "list = [\"sk하이닉스\",\"삼성전자\",\"LG전자\"]\n",
    "for x in list:\n",
    "    print(len(x))"
   ]
  },
  {
   "cell_type": "code",
   "execution_count": 35,
   "id": "39fe71f1",
   "metadata": {},
   "outputs": [
    {
     "name": "stdout",
     "output_type": "stream",
     "text": [
      "3 x 1\n",
      "3 x 2\n",
      "3 x 3\n"
     ]
    }
   ],
   "source": [
    "list = [1,2,3]\n",
    "for x in list:\n",
    "    print('3 x {}'.format(x))"
   ]
  },
  {
   "cell_type": "code",
   "execution_count": 36,
   "id": "0d3df176",
   "metadata": {},
   "outputs": [
    {
     "name": "stdout",
     "output_type": "stream",
     "text": [
      "나\n",
      "다\n",
      "라\n"
     ]
    }
   ],
   "source": [
    "list = ['가','나','다','라']\n",
    "for x in list[1:]:\n",
    "    print(x)"
   ]
  },
  {
   "cell_type": "code",
   "execution_count": 48,
   "id": "dd734706",
   "metadata": {},
   "outputs": [
    {
     "name": "stdout",
     "output_type": "stream",
     "text": [
      "-20\n",
      "-3\n",
      "3\n",
      "study\n",
      "python\n",
      "language\n",
      "A\n",
      "D\n",
      "Dog\n",
      "Cat\n",
      "Parrot\n"
     ]
    }
   ],
   "source": [
    "#151~160\n",
    "list = [3,-20,-3,44]\n",
    "for x in list:\n",
    "    if x < 0:\n",
    "        print(x)\n",
    "#152\n",
    "list = [3,100,23,44]\n",
    "for x in list:\n",
    "    if x%3 == 0:\n",
    "        print(x)\n",
    "\n",
    "#153\n",
    "리스트 = [\"I\", \"study\", \"python\", \"language\", \"!\"]\n",
    "for x in 리스트:\n",
    "    if len(x)>= 3 :\n",
    "        print(x)\n",
    "#154\n",
    "리스트 = [\"A\", \"b\", \"c\", \"D\"]\n",
    "for x in 리스트:\n",
    "    if x.isupper():\n",
    "        print(x)\n",
    "#157 \n",
    "리스트 = ['dog', 'cat', 'parrot']\n",
    "for x in 리스트 :\n",
    "    print(x[0].upper() + x[1:])"
   ]
  },
  {
   "cell_type": "code",
   "execution_count": 52,
   "id": "6e5c5245",
   "metadata": {},
   "outputs": [
    {
     "name": "stdout",
     "output_type": "stream",
     "text": [
      "hello\n",
      "ex01\n",
      "intro\n",
      "intra.h\n",
      "intra.c\n",
      "define.h\n"
     ]
    }
   ],
   "source": [
    " #158\n",
    "리스트 = ['hello.py', 'ex01.py', 'intro.hwp']\n",
    "for x in 리스트:\n",
    "    print(x.split('.')[0])\n",
    "#159 and 160\n",
    "리스트 = ['intra.h', 'intra.c', 'define.h', 'run.py']\n",
    "for x in 리스트:\n",
    "    if x.split('.')[1] == 'h':\n",
    "        print(x)\n",
    "    elif x.split('.')[1] == 'c':\n",
    "        print(x)\n",
    "    "
   ]
  },
  {
   "cell_type": "code",
   "execution_count": 65,
   "id": "6b4d3942",
   "metadata": {},
   "outputs": [
    {
     "name": "stdout",
     "output_type": "stream",
     "text": [
      "2002\n",
      "2006\n",
      "2010\n",
      "2014\n",
      "2018\n",
      "2022\n",
      "2026\n",
      "2030\n",
      "2034\n",
      "2038\n",
      "2042\n",
      "2046\n",
      "3\n",
      "6\n",
      "9\n",
      "12\n",
      "15\n",
      "18\n",
      "21\n",
      "24\n",
      "27\n"
     ]
    }
   ],
   "source": [
    "#161~170 \n",
    "for x in range(2002,2050,4):\n",
    "    print(x)\n",
    "\n",
    "for x in range(3,31,3):\n",
    "    print(x)"
   ]
  },
  {
   "cell_type": "code",
   "execution_count": 92,
   "id": "28f33a8f",
   "metadata": {},
   "outputs": [
    {
     "name": "stdout",
     "output_type": "stream",
     "text": [
      "3x 1 = 3\n",
      "3x 2 = 6\n",
      "3x 3 = 9\n",
      "3x 4 = 12\n",
      "3x 5 = 15\n",
      "3x 6 = 18\n",
      "3x 7 = 21\n",
      "3x 8 = 24\n",
      "3x 9 = 27\n",
      "25\n"
     ]
    }
   ],
   "source": [
    "#166\n",
    "num = 0\n",
    "for x in range(3,30,3):\n",
    "    num += 1\n",
    "    print('3x',num,'=',x)\n",
    "#169 \n",
    "tot = 0\n",
    "for x in range(1,11):\n",
    "    if x%2 == 1 :\n",
    "        tot += x\n",
    "        \n",
    "print(tot)"
   ]
  },
  {
   "cell_type": "code",
   "execution_count": 115,
   "id": "f3b0ee1d",
   "metadata": {},
   "outputs": [
    {
     "name": "stdout",
     "output_type": "stream",
     "text": [
      "32100\n",
      "32150\n",
      "32000\n",
      "32500\n",
      "라 다\n",
      "다 나\n",
      "나 가\n",
      "100\n",
      "200\n",
      "400\n"
     ]
    }
   ],
   "source": [
    "#171, 172 \n",
    "price_list = [32100,32150,32000,32500]\n",
    "for x in price_list :\n",
    "    print(x)\n",
    "\n",
    "#175 ~ 177\n",
    "my_list = [\"가\", \"나\", \"다\", \"라\"]\n",
    "for i in range(len(my_list) - 1):\n",
    "    print(my_list[len(my_list) - 1 - i], my_list[len(my_list) - 2 - i])\n",
    "    \n",
    "#178 \n",
    "my_list = [100, 200, 400, 800]\n",
    "for x in range(len(my_list)-1) :\n",
    "    print(my_list[x+1] - my_list[x])\n",
    "#179 "
   ]
  },
  {
   "cell_type": "code",
   "execution_count": 132,
   "id": "fd45369b",
   "metadata": {},
   "outputs": [
    {
     "name": "stdout",
     "output_type": "stream",
     "text": [
      "233.33333333333334\n",
      "466.6666666666667\n",
      "733.3333333333334\n",
      "1033.3333333333333\n",
      "[50, 100, 30, 80, 0]\n"
     ]
    }
   ],
   "source": [
    "#179\n",
    "my_list = [100, 200, 400, 800, 1000, 1300]\n",
    "\n",
    "for y in range(len(my_list)-2): # y in 0 1 2 3 4\n",
    "    sum = my_list[y]+my_list[y+1]+my_list[y+2]\n",
    "    print(sum/len(my_list[:3]))\n",
    "#180 \n",
    "high = [150, 300, 430, 880, 1000]\n",
    "low  = [100, 200, 400, 800, 1000]\n",
    "volati = []\n",
    "for x in range(len(high)):\n",
    "    volati.append(high[x]-low[x])\n",
    "print(volati)"
   ]
  },
  {
   "cell_type": "code",
   "execution_count": 162,
   "id": "5d15a7a3",
   "metadata": {},
   "outputs": [
    {
     "name": "stdout",
     "output_type": "stream",
     "text": [
      "[['101호,102호'], ['201호,202호'], ['301호,302호']]\n",
      "[['시가', 100, 200, 300], ['종가', 80, 210, 330]]\n",
      "{'시가': [100, 200, 300], '종가': [80, 210, 330]}\n",
      "101 호\n",
      "102 호\n",
      "201 호\n",
      "202 호\n",
      "301 호\n",
      "302 호\n",
      "302 호\n",
      "301 호\n",
      "202 호\n",
      "201 호\n",
      "102 호\n",
      "101 호\n"
     ]
    }
   ],
   "source": [
    "#181~190 \n",
    "apart = [['101호,102호'],['201호,202호'],['301호,302호']]\n",
    "print(apart)\n",
    "#182 \n",
    "stock = [['시가',100,200,300],['종가',80,210,330]]\n",
    "print(stock)\n",
    "#183\n",
    "stock = {'시가':[100,200,300],'종가':[80,210,330]}\n",
    "print(stock)\n",
    "#185\n",
    "apart = [ [101, 102], [201, 202], [301, 302] ]\n",
    "n = 0\n",
    "for x in (apart):\n",
    "    for y  in x:\n",
    "        print(y,'호')\n",
    "\n",
    "for x in (apart[::-1]):\n",
    "    for y  in x[::-1]:\n",
    "        print(y,'호')\n"
   ]
  },
  {
   "cell_type": "code",
   "execution_count": 172,
   "id": "198328ed",
   "metadata": {},
   "outputs": [
    {
     "name": "stdout",
     "output_type": "stream",
     "text": [
      "왕눈이가 사는 101 호\n",
      "왕눈이가 사는 102 호\n",
      "왕눈이가 사는 201 호\n",
      "왕눈이가 사는 202 호\n",
      "왕눈이가 사는 301 호\n",
      "왕눈이가 사는 302 호\n",
      "--------\n"
     ]
    }
   ],
   "source": [
    "for x in apart:\n",
    "    for y in x:\n",
    "        print(y,'호')\n",
    "print('--------')\n"
   ]
  },
  {
   "cell_type": "code",
   "execution_count": 186,
   "id": "264f3db5",
   "metadata": {},
   "outputs": [
    {
     "name": "stdout",
     "output_type": "stream",
     "text": [
      "[[2000.28, 3050.427, 2050.2870000000003, 1980.2772], [7501.05, 2050.2870000000003, 2050.2870000000003, 1980.2772], [15452.163, 15052.107, 15552.177, 14902.086000000001]]\n"
     ]
    }
   ],
   "source": [
    "#191번 \n",
    "data = [\n",
    "    [ 2000,  3050,  2050,  1980],\n",
    "    [ 7500,  2050,  2050,  1980],\n",
    "    [15450, 15050, 15550, 14900]\n",
    "]\n",
    "result = []\n",
    "for line in data:\n",
    "    sub = []\n",
    "    for column in line:\n",
    "        sub.append(column * 1.00014)\n",
    "    result.append(sub)\n",
    "print(result)\n",
    "\n"
   ]
  },
  {
   "cell_type": "code",
   "execution_count": 207,
   "id": "647ffc4c",
   "metadata": {},
   "outputs": [
    {
     "name": "stdout",
     "output_type": "stream",
     "text": [
      "[40, 30, 10]\n",
      "10\n",
      "0\n"
     ]
    }
   ],
   "source": [
    "ohlc = [[\"open\", \"high\", \"low\", \"close\"],\n",
    "        [100, 110, 70, 100],\n",
    "        [200, 210, 180, 190],\n",
    "        [300, 310, 300, 310]]\n",
    "volati = []\n",
    "for x in (ohlc[1:]):\n",
    "    volati.append(x[1]-x[2])\n",
    "    \n",
    "print(volati)\n",
    "# 199 \n",
    "for x in (ohlc[1:]):\n",
    "    if x[3]>x[0]:\n",
    "        print(x[1]-x[2]) \n",
    "\n",
    "#200\n",
    "tot = 0\n",
    "pf = 0 \n",
    "for x in (ohlc[1:]):\n",
    "    tot = x[0]-x[3]\n",
    "    pf+=tot\n",
    "    \n",
    "print(pf)\n",
    "\n",
    "\n"
   ]
  },
  {
   "cell_type": "code",
   "execution_count": 208,
   "id": "1b862d60",
   "metadata": {},
   "outputs": [],
   "source": [
    "#201 함수 \n",
    "def print_coin():\n",
    "    print('비트코인')\n",
    "#204 함수\n",
    "def print_coins():\n",
    "    for i in range(0,99):\n",
    "        print(\"비트코인\")\n"
   ]
  },
  {
   "cell_type": "code",
   "execution_count": 209,
   "id": "d2f32200",
   "metadata": {},
   "outputs": [
    {
     "name": "stdout",
     "output_type": "stream",
     "text": [
      "비트코인\n"
     ]
    }
   ],
   "source": []
  },
  {
   "cell_type": "code",
   "execution_count": null,
   "id": "565a266b",
   "metadata": {},
   "outputs": [],
   "source": []
  },
  {
   "cell_type": "code",
   "execution_count": null,
   "id": "57fc620a",
   "metadata": {},
   "outputs": [],
   "source": []
  },
  {
   "cell_type": "code",
   "execution_count": null,
   "id": "2bac4c1a",
   "metadata": {},
   "outputs": [],
   "source": []
  },
  {
   "cell_type": "code",
   "execution_count": null,
   "id": "04d1fed1",
   "metadata": {},
   "outputs": [],
   "source": []
  }
 ],
 "metadata": {
  "kernelspec": {
   "display_name": "Python 3 (ipykernel)",
   "language": "python",
   "name": "python3"
  },
  "language_info": {
   "codemirror_mode": {
    "name": "ipython",
    "version": 3
   },
   "file_extension": ".py",
   "mimetype": "text/x-python",
   "name": "python",
   "nbconvert_exporter": "python",
   "pygments_lexer": "ipython3",
   "version": "3.9.7"
  }
 },
 "nbformat": 4,
 "nbformat_minor": 5
}
